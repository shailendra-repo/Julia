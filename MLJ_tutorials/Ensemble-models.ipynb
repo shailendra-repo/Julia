{
 "cells": [
  {
   "cell_type": "markdown",
   "metadata": {},
   "source": [
    "# Ensemble Models -1"
   ]
  },
  {
   "cell_type": "code",
   "execution_count": 1,
   "metadata": {},
   "outputs": [],
   "source": [
    "using MLJ\n",
    "import DataFrames\n",
    "import Statistics\n",
    "using PrettyPrinting\n",
    "using StableRNGs"
   ]
  },
  {
   "cell_type": "code",
   "execution_count": 3,
   "metadata": {
    "scrolled": true
   },
   "outputs": [
    {
     "data": {
      "text/plain": [
       "300×3 Matrix{Float64}:\n",
       " 0.941503    0.721724   0.328143\n",
       " 0.423794    0.0423568  0.449126\n",
       " 0.181315    0.767096   0.252239\n",
       " 0.788659    0.21882    0.318666\n",
       " 0.473444    0.531495   0.275985\n",
       " 0.85171     0.18371    0.640187\n",
       " 0.141996    0.934331   0.0338421\n",
       " 0.577308    0.0924971  0.771955\n",
       " 0.0199241   0.700031   0.101959\n",
       " 0.900477    0.246024   0.387603\n",
       " 0.444832    0.509509   0.342469\n",
       " 0.270885    0.468182   0.14166\n",
       " 0.923804    0.513764   0.00783605\n",
       " ⋮                      \n",
       " 0.548699    0.736581   0.747059\n",
       " 0.579349    0.204345   0.111636\n",
       " 0.654865    0.275287   0.3275\n",
       " 0.590148    0.0713853  0.0290355\n",
       " 0.256165    0.596071   0.483203\n",
       " 0.00996852  0.722794   0.402213\n",
       " 0.843964    0.378416   0.542911\n",
       " 0.602174    0.321716   0.350327\n",
       " 0.1297      0.0684328  0.90622\n",
       " 0.821579    0.873053   0.0278195\n",
       " 0.498559    0.278562   0.657468\n",
       " 0.130187    0.0339702  0.152995"
      ]
     },
     "execution_count": 3,
     "metadata": {},
     "output_type": "execute_result"
    }
   ],
   "source": [
    "rng = StableRNG(512)\n",
    "Xraw = rand(rng, 300, 3)"
   ]
  },
  {
   "cell_type": "code",
   "execution_count": 6,
   "metadata": {
    "scrolled": true
   },
   "outputs": [
    {
     "data": {
      "text/plain": [
       "300-element Vector{Float64}:\n",
       " 0.672657356685761\n",
       " 0.6523158955342817\n",
       " 0.35899471060893334\n",
       " 1.0211123286552908\n",
       " 0.5660587732366503\n",
       " 0.588372865019088\n",
       " 0.4500460881879446\n",
       " 0.35696757193445\n",
       " 0.4391612293478602\n",
       " 0.8946336850085883\n",
       " 0.5085009635069928\n",
       " 0.64407006202086\n",
       " 1.6083381214283663\n",
       " ⋮\n",
       " 0.18638145693080677\n",
       " 1.2761854578790957\n",
       " 0.8083286573032545\n",
       " 1.63123801833386\n",
       " 0.2964955041324386\n",
       " 0.2420412659383037\n",
       " 0.5523973026830723\n",
       " 0.7195924524142018\n",
       " 0.19150696098171055\n",
       " 0.9788638274184188\n",
       " 0.34204451954655674\n",
       " 0.8378129356037269"
      ]
     },
     "execution_count": 6,
     "metadata": {},
     "output_type": "execute_result"
    }
   ],
   "source": [
    "y = exp.(Xraw[:,1] - Xraw[:,2] - 2Xraw[:,3] + 0.1*rand(rng, 300))"
   ]
  },
  {
   "cell_type": "code",
   "execution_count": 7,
   "metadata": {},
   "outputs": [],
   "source": [
    "X = DataFrames.DataFrame(Xraw);\n",
    "train, tes = partition(eachindex(y),0.7);"
   ]
  },
  {
   "cell_type": "code",
   "execution_count": 13,
   "metadata": {},
   "outputs": [],
   "source": [
    "using NearestNeighborModels"
   ]
  },
  {
   "cell_type": "code",
   "execution_count": 14,
   "metadata": {},
   "outputs": [
    {
     "name": "stdout",
     "output_type": "stream",
     "text": [
      "import NearestNeighborModels ✔\n"
     ]
    },
    {
     "name": "stderr",
     "output_type": "stream",
     "text": [
      "┌ Info: For silent loading, specify `verbosity=0`. \n",
      "└ @ Main /home/sandhya/.julia/packages/MLJModels/E8BbE/src/loading.jl:168\n"
     ]
    },
    {
     "data": {
      "text/plain": [
       "KNNRegressor"
      ]
     },
     "execution_count": 14,
     "metadata": {},
     "output_type": "execute_result"
    }
   ],
   "source": [
    "@load KNNRegressor"
   ]
  },
  {
   "cell_type": "code",
   "execution_count": 15,
   "metadata": {},
   "outputs": [
    {
     "data": {
      "text/plain": [
       "KNNRegressor(\n",
       "    K = 10,\n",
       "    algorithm = :kdtree,\n",
       "    metric = Euclidean(0.0),\n",
       "    leafsize = 10,\n",
       "    reorder = true,\n",
       "    weights = Uniform())\u001b[34m @667\u001b[39m"
      ]
     },
     "execution_count": 15,
     "metadata": {},
     "output_type": "execute_result"
    }
   ],
   "source": [
    "knn_model = KNNRegressor(K=10)"
   ]
  },
  {
   "cell_type": "code",
   "execution_count": 16,
   "metadata": {},
   "outputs": [
    {
     "data": {
      "text/plain": [
       "\u001b[34mMachine{KNNRegressor,…} @041\u001b[39m trained 0 times; caches data\n",
       "  args: \n",
       "    1:\t\u001b[34mSource @329\u001b[39m ⏎ `Table{AbstractVector{Continuous}}`\n",
       "    2:\t\u001b[34mSource @604\u001b[39m ⏎ `AbstractVector{Continuous}`\n"
      ]
     },
     "execution_count": 16,
     "metadata": {},
     "output_type": "execute_result"
    }
   ],
   "source": [
    "knn = machine(knn_model, X, y)"
   ]
  },
  {
   "cell_type": "code",
   "execution_count": 18,
   "metadata": {},
   "outputs": [
    {
     "name": "stderr",
     "output_type": "stream",
     "text": [
      "┌ Info: Not retraining \u001b[34mMachine{KNNRegressor,…} @041\u001b[39m. Use `force=true` to force.\n",
      "└ @ MLJBase /home/sandhya/.julia/packages/MLJBase/pCCd7/src/machines.jl:345\n"
     ]
    },
    {
     "data": {
      "text/plain": [
       "0.06389980172436367"
      ]
     },
     "execution_count": 18,
     "metadata": {},
     "output_type": "execute_result"
    }
   ],
   "source": [
    "MLJ.fit!(knn, rows = train)\n",
    "y_pred = predict(knn, X[tes,:])\n",
    "rms(y_pred, y[tes])"
   ]
  },
  {
   "cell_type": "code",
   "execution_count": 19,
   "metadata": {},
   "outputs": [
    {
     "name": "stdout",
     "output_type": "stream",
     "text": [
      "(measure = [RootMeanSquaredError @344],\n",
      " measurement = [0.12367388032666658],\n",
      " per_fold = [[0.12367388032666658]],\n",
      " per_observation = [missing],\n",
      " fitted_params_per_fold =\n",
      "     [(tree =\n",
      "           NearestNeighbors.KDTree{StaticArrays.SVector{3, Float64}, Euclidean, Float64}\n",
      "  Number of points: 210\n",
      "  Dimensions: 3\n",
      "  Metric: Euclidean(0.0)\n",
      "  Reordered: true,)],\n",
      " report_per_fold = [()])"
     ]
    }
   ],
   "source": [
    "evaluate!(knn, resampling=Holdout(fraction_train=0.7, rng=StableRNG(666)),\n",
    "          measure=rms) |> pprint"
   ]
  },
  {
   "cell_type": "markdown",
   "metadata": {},
   "source": [
    "## Homogenours ensumbles\n",
    "\n",
    "MLJ offers basic support for ensembling such as bagging. Defining such an ensemble of simple \"atomic\" models is done via the EnsembleModel constructor:"
   ]
  },
  {
   "cell_type": "code",
   "execution_count": 21,
   "metadata": {},
   "outputs": [
    {
     "data": {
      "text/plain": [
       "DeterministicEnsembleModel(\n",
       "    atom = KNNRegressor(\n",
       "            K = 10,\n",
       "            algorithm = :kdtree,\n",
       "            metric = Euclidean(0.0),\n",
       "            leafsize = 10,\n",
       "            reorder = true,\n",
       "            weights = Uniform()),\n",
       "    atomic_weights = Float64[],\n",
       "    bagging_fraction = 0.8,\n",
       "    rng = Random._GLOBAL_RNG(),\n",
       "    n = 20,\n",
       "    acceleration = CPU1{Nothing}(nothing),\n",
       "    out_of_bag_measure = Any[])\u001b[34m @195\u001b[39m"
      ]
     },
     "execution_count": 21,
     "metadata": {},
     "output_type": "execute_result"
    }
   ],
   "source": [
    "ensumble_model = EnsembleModel(atom=knn_model, n=20)"
   ]
  },
  {
   "cell_type": "code",
   "execution_count": 23,
   "metadata": {},
   "outputs": [
    {
     "name": "stderr",
     "output_type": "stream",
     "text": [
      "\u001b[33mEvaluating over 6 folds: 100%[=========================] Time: 0:00:03\u001b[39m\n"
     ]
    },
    {
     "name": "stdout",
     "output_type": "stream",
     "text": [
      "(measure = [RootMeanSquaredError @344],\n",
      " measurement = [0.08533824428913264],\n",
      " per_fold = [[0.09305915717069502,\n",
      "              0.11298540927426902,\n",
      "              0.07634821910498125,\n",
      "              0.08733998380754933,\n",
      "              0.06530184724816686,\n",
      "              0.0674413196926615]],\n",
      " per_observation = [missing],\n",
      " fitted_params_per_fold =\n",
      "     [(fitresult =\n",
      "           \u001b[34mWrappedEnsemble{KNNResult{KDTree{SArray{Tuple,…},…},…},…} @066\u001b[39m,),\n",
      "      (fitresult =\n",
      "           \u001b[34mWrappedEnsemble{KNNResult{KDTree{SArray{Tuple,…},…},…},…} @406\u001b[39m,),\n",
      "      (fitresult =\n",
      "           \u001b[34mWrappedEnsemble{KNNResult{KDTree{SArray{Tuple,…},…},…},…} @646\u001b[39m,),\n",
      "      (fitresult =\n",
      "           \u001b[34mWrappedEnsemble{KNNResult{KDTree{SArray{Tuple,…},…},…},…} @284\u001b[39m,),\n",
      "      (fitresult =\n",
      "           \u001b[34mWrappedEnsemble{KNNResult{KDTree{SArray{Tuple,…},…},…},…} @023\u001b[39m,),\n",
      "      (fitresult =\n",
      "           \u001b[34mWrappedEnsemble{KNNResult{KDTree{SArray{Tuple,…},…},…},…} @887\u001b[39m,)],\n",
      " report_per_fold = [(measures = [], oob_measurements = missing),\n",
      "                    (measures = [], oob_measurements = missing),\n",
      "                    (measures = [], oob_measurements = missing),\n",
      "                    (measures = [], oob_measurements = missing),\n",
      "                    (measures = [], oob_measurements = missing),\n",
      "                    (measures = [], oob_measurements = missing)])"
     ]
    }
   ],
   "source": [
    "ensemble = machine(ensumble_model, X, y)\n",
    "estimates = evaluate!(ensemble, resampling=CV())\n",
    "estimates |> pprint"
   ]
  },
  {
   "cell_type": "code",
   "execution_count": 24,
   "metadata": {},
   "outputs": [
    {
     "name": "stdout",
     "output_type": "stream",
     "text": [
      "estimates.measurement[1] = 0.08533824428913264\n",
      "mean(estimates.per_fold[1]) = 0.08374598938305383\n"
     ]
    },
    {
     "data": {
      "text/plain": [
       "0.08374598938305383"
      ]
     },
     "execution_count": 24,
     "metadata": {},
     "output_type": "execute_result"
    }
   ],
   "source": [
    "@show estimates.measurement[1]\n",
    "@show mean(estimates.per_fold[1])"
   ]
  },
  {
   "cell_type": "markdown",
   "metadata": {},
   "source": [
    "## Systematic tuning\n",
    "\n",
    "Let's simultaneously tune the ensemble's bagging_fraction and the K-Nearest neighbour hyperparameter K. Since one of our models is a field of the other, we have nested hyperparameters:"
   ]
  },
  {
   "cell_type": "code",
   "execution_count": 26,
   "metadata": {},
   "outputs": [
    {
     "name": "stdout",
     "output_type": "stream",
     "text": [
      "(atom = (K = 10,\n",
      "         algorithm = :kdtree,\n",
      "         metric = Euclidean(0.0),\n",
      "         leafsize = 10,\n",
      "         reorder = true,\n",
      "         weights = Uniform()),\n",
      " atomic_weights = [],\n",
      " bagging_fraction = 0.8,\n",
      " rng = Random._GLOBAL_RNG(),\n",
      " n = 20,\n",
      " acceleration = CPU1{Nothing}(nothing),\n",
      " out_of_bag_measure = [])"
     ]
    }
   ],
   "source": [
    "params(ensumble_model) |> pprint"
   ]
  },
  {
   "cell_type": "code",
   "execution_count": 28,
   "metadata": {},
   "outputs": [
    {
     "data": {
      "text/plain": [
       "typename(MLJBase.NumericRange)(Int64, :(atom.K), ... )"
      ]
     },
     "execution_count": 28,
     "metadata": {},
     "output_type": "execute_result"
    }
   ],
   "source": [
    "B_range = range(ensumble_model, :bagging_fraction, lower=0.5, upper=1.0)\n",
    "K_range = range(ensumble_model, :(atom.K), lower=1, upper=20)"
   ]
  },
  {
   "cell_type": "code",
   "execution_count": 42,
   "metadata": {},
   "outputs": [
    {
     "name": "stderr",
     "output_type": "stream",
     "text": [
      "┌ Info: No measure specified. Setting measure=RootMeanSquaredError @344. \n",
      "└ @ MLJTuning /home/sandhya/.julia/packages/MLJTuning/QFcuQ/src/tuned_models.jl:230\n"
     ]
    },
    {
     "data": {
      "text/plain": [
       "DeterministicTunedModel(\n",
       "    model = DeterministicEnsembleModel(\n",
       "            atom = \u001b[34mKNNRegressor @667\u001b[39m,\n",
       "            atomic_weights = Float64[],\n",
       "            bagging_fraction = 0.8,\n",
       "            rng = Random._GLOBAL_RNG(),\n",
       "            n = 20,\n",
       "            acceleration = CPU1{Nothing}(nothing),\n",
       "            out_of_bag_measure = Any[]),\n",
       "    tuning = Grid(\n",
       "            goal = nothing,\n",
       "            resolution = 10,\n",
       "            shuffle = true,\n",
       "            rng = Random._GLOBAL_RNG()),\n",
       "    resampling = Holdout(\n",
       "            fraction_train = 0.8,\n",
       "            shuffle = true,\n",
       "            rng = StableRNGs.LehmerRNG(state=0x00000000000000000000000000000055)),\n",
       "    measure = RootMeanSquaredError(),\n",
       "    weights = nothing,\n",
       "    operation = MLJModelInterface.predict,\n",
       "    range = MLJBase.NumericRange{T, MLJBase.Bounded, Symbol} where T[\u001b[34mNumericRange{Float64,…} @888\u001b[39m, \u001b[34mNumericRange{Int64,…} @055\u001b[39m],\n",
       "    selection_heuristic = MLJTuning.NaiveSelection(nothing),\n",
       "    train_best = true,\n",
       "    repeats = 1,\n",
       "    n = nothing,\n",
       "    acceleration = CPU1{Nothing}(nothing),\n",
       "    acceleration_resampling = CPU1{Nothing}(nothing),\n",
       "    check_measure = true,\n",
       "    cache = true)\u001b[34m @284\u001b[39m"
      ]
     },
     "execution_count": 42,
     "metadata": {},
     "output_type": "execute_result"
    }
   ],
   "source": [
    "tm = TunedModel(model=ensumble_model,\n",
    "                tuning=Grid(resolution=10), # 10x10 grid\n",
    "                resampling=Holdout(fraction_train=0.8, rng=StableRNG(42)),\n",
    "                ranges=[B_range, K_range])\n"
   ]
  },
  {
   "cell_type": "code",
   "execution_count": 43,
   "metadata": {},
   "outputs": [
    {
     "data": {
      "text/plain": [
       "\u001b[34mMachine{DeterministicTunedModel{Grid,…},…} @412\u001b[39m trained 0 times; caches data\n",
       "  args: \n",
       "    1:\t\u001b[34mSource @363\u001b[39m ⏎ `Table{AbstractVector{Continuous}}`\n",
       "    2:\t\u001b[34mSource @244\u001b[39m ⏎ `AbstractVector{Continuous}`\n"
      ]
     },
     "execution_count": 43,
     "metadata": {},
     "output_type": "execute_result"
    }
   ],
   "source": [
    "tuned_ensemble = machine(tm,X_mat,y)"
   ]
  },
  {
   "cell_type": "code",
   "execution_count": 44,
   "metadata": {},
   "outputs": [
    {
     "name": "stderr",
     "output_type": "stream",
     "text": [
      "┌ Info: Training \u001b[34mMachine{DeterministicTunedModel{Grid,…},…} @412\u001b[39m.\n",
      "└ @ MLJBase /home/sandhya/.julia/packages/MLJBase/pCCd7/src/machines.jl:342\n",
      "┌ Info: Attempting to evaluate 100 models.\n",
      "└ @ MLJTuning /home/sandhya/.julia/packages/MLJTuning/QFcuQ/src/tuned_models.jl:600\n",
      "\u001b[33mEvaluating over 100 metamodels: 100%[=========================] Time: 0:00:00\u001b[39m\n"
     ]
    }
   ],
   "source": [
    "fit!(tuned_ensemble, rows=train);"
   ]
  },
  {
   "cell_type": "markdown",
   "metadata": {},
   "source": [
    "## Reporting results"
   ]
  },
  {
   "cell_type": "code",
   "execution_count": 45,
   "metadata": {},
   "outputs": [
    {
     "name": "stdout",
     "output_type": "stream",
     "text": [
      "best_ensemble.atom.K = 3\n",
      "best_ensemble.bagging_fraction = 0.5\n"
     ]
    },
    {
     "data": {
      "text/plain": [
       "0.5"
      ]
     },
     "execution_count": 45,
     "metadata": {},
     "output_type": "execute_result"
    }
   ],
   "source": [
    "best_ensemble = fitted_params(tuned_ensemble).best_model\n",
    "@show best_ensemble.atom.K\n",
    "@show best_ensemble.bagging_fraction"
   ]
  },
  {
   "cell_type": "code",
   "execution_count": 48,
   "metadata": {},
   "outputs": [
    {
     "data": {
      "text/plain": [
       "(best_model = \u001b[34mDeterministicEnsembleModel{KNNRegressor} @977\u001b[39m,\n",
       " best_history_entry = (model = \u001b[34mDeterministicEnsembleModel{KNNRegressor} @977\u001b[39m,\n",
       "                       measure = [RootMeanSquaredError @344],\n",
       "                       measurement = [0.04661701540793274],\n",
       "                       per_fold = [[0.04661701540793274]],),\n",
       " history = NamedTuple{(:model, :measure, :measurement, :per_fold), Tuple{MLJ.DeterministicEnsembleModel{KNNRegressor}, Vector{RootMeanSquaredError}, Vector{Float64}, Vector{Vector{Float64}}}}[(model = \u001b[34mDeterministicEnsembleModel{KNNRegressor} @720\u001b[39m, measure = [RootMeanSquaredError @344], measurement = [0.0585281161198057], per_fold = [[0.0585281161198057]]), (model = \u001b[34mDeterministicEnsembleModel{KNNRegressor} @860\u001b[39m, measure = [RootMeanSquaredError @344], measurement = [0.07305403149992541], per_fold = [[0.07305403149992541]]), (model = \u001b[34mDeterministicEnsembleModel{KNNRegressor} @321\u001b[39m, measure = [RootMeanSquaredError @344], measurement = [0.22794995590009834], per_fold = [[0.22794995590009834]]), (model = \u001b[34mDeterministicEnsembleModel{KNNRegressor} @831\u001b[39m, measure = [RootMeanSquaredError @344], measurement = [0.10380511794580789], per_fold = [[0.10380511794580789]]), (model = \u001b[34mDeterministicEnsembleModel{KNNRegressor} @473\u001b[39m, measure = [RootMeanSquaredError @344], measurement = [0.07943162361000158], per_fold = [[0.07943162361000158]]), (model = \u001b[34mDeterministicEnsembleModel{KNNRegressor} @569\u001b[39m, measure = [RootMeanSquaredError @344], measurement = [0.09732305207301674], per_fold = [[0.09732305207301674]]), (model = \u001b[34mDeterministicEnsembleModel{KNNRegressor} @247\u001b[39m, measure = [RootMeanSquaredError @344], measurement = [0.12958315502406062], per_fold = [[0.12958315502406062]]), (model = \u001b[34mDeterministicEnsembleModel{KNNRegressor} @780\u001b[39m, measure = [RootMeanSquaredError @344], measurement = [0.11128273927931097], per_fold = [[0.11128273927931097]]), (model = \u001b[34mDeterministicEnsembleModel{KNNRegressor} @323\u001b[39m, measure = [RootMeanSquaredError @344], measurement = [0.18731609466846436], per_fold = [[0.18731609466846436]]), (model = \u001b[34mDeterministicEnsembleModel{KNNRegressor} @615\u001b[39m, measure = [RootMeanSquaredError @344], measurement = [0.09673154539923311], per_fold = [[0.09673154539923311]])  …  (model = \u001b[34mDeterministicEnsembleModel{KNNRegressor} @999\u001b[39m, measure = [RootMeanSquaredError @344], measurement = [0.06173034059517618], per_fold = [[0.06173034059517618]]), (model = \u001b[34mDeterministicEnsembleModel{KNNRegressor} @431\u001b[39m, measure = [RootMeanSquaredError @344], measurement = [0.11202440106848346], per_fold = [[0.11202440106848346]]), (model = \u001b[34mDeterministicEnsembleModel{KNNRegressor} @303\u001b[39m, measure = [RootMeanSquaredError @344], measurement = [0.08597059873098391], per_fold = [[0.08597059873098391]]), (model = \u001b[34mDeterministicEnsembleModel{KNNRegressor} @326\u001b[39m, measure = [RootMeanSquaredError @344], measurement = [0.050170083910547905], per_fold = [[0.050170083910547905]]), (model = \u001b[34mDeterministicEnsembleModel{KNNRegressor} @574\u001b[39m, measure = [RootMeanSquaredError @344], measurement = [0.11788761445670141], per_fold = [[0.11788761445670141]]), (model = \u001b[34mDeterministicEnsembleModel{KNNRegressor} @850\u001b[39m, measure = [RootMeanSquaredError @344], measurement = [0.11434341804502066], per_fold = [[0.11434341804502066]]), (model = \u001b[34mDeterministicEnsembleModel{KNNRegressor} @385\u001b[39m, measure = [RootMeanSquaredError @344], measurement = [0.1119110070341061], per_fold = [[0.1119110070341061]]), (model = \u001b[34mDeterministicEnsembleModel{KNNRegressor} @562\u001b[39m, measure = [RootMeanSquaredError @344], measurement = [0.10503008306130808], per_fold = [[0.10503008306130808]]), (model = \u001b[34mDeterministicEnsembleModel{KNNRegressor} @209\u001b[39m, measure = [RootMeanSquaredError @344], measurement = [0.06016492148473564], per_fold = [[0.06016492148473564]]), (model = \u001b[34mDeterministicEnsembleModel{KNNRegressor} @557\u001b[39m, measure = [RootMeanSquaredError @344], measurement = [0.08722476362389925], per_fold = [[0.08722476362389925]])],\n",
       " best_report = (measures = Any[],\n",
       "                oob_measurements = missing,),\n",
       " plotting = (parameter_names = [\"bagging_fraction\", \"atom.K\"],\n",
       "             parameter_scales = [:linear, :linear],\n",
       "             parameter_values = Any[0.9444444444444444 12; 0.5 12; … ; 0.8333333333333334 14; 0.9444444444444444 5],\n",
       "             measurements = [0.0585281161198057, 0.07305403149992541, 0.22794995590009834, 0.10380511794580789, 0.07943162361000158, 0.09732305207301674, 0.12958315502406062, 0.11128273927931097, 0.18731609466846436, 0.09673154539923311  …  0.06173034059517618, 0.11202440106848346, 0.08597059873098391, 0.050170083910547905, 0.11788761445670141, 0.11434341804502066, 0.1119110070341061, 0.10503008306130808, 0.06016492148473564, 0.08722476362389925],),)"
      ]
     },
     "execution_count": 48,
     "metadata": {},
     "output_type": "execute_result"
    }
   ],
   "source": [
    "r = report(tuned_ensemble)"
   ]
  },
  {
   "cell_type": "code",
   "execution_count": 47,
   "metadata": {},
   "outputs": [
    {
     "data": {
      "image/png": "[encoded data removed]",
      "text/plain": [
       "Figure(PyObject <Figure size 800x600 with 1 Axes>)"
      ]
     },
     "metadata": {},
     "output_type": "display_data"
    },
    {
     "data": {
      "text/plain": [
       "PyObject Text(29.00000000000002, 0.5, 'Number of neighbors - K')"
      ]
     },
     "execution_count": 47,
     "metadata": {},
     "output_type": "execute_result"
    }
   ],
   "source": [
    "using PyPlot\n",
    "\n",
    "figure(figsize=(8,6))\n",
    "\n",
    "res = r.plotting\n",
    "vals_b = res.parameter_values[:, 1]\n",
    "vals_k = res.parameter_values[:, 2]\n",
    "\n",
    "tricontourf(vals_b, vals_k, res.measurements)\n",
    "xticks(0.5:0.1:1, fontsize=12)\n",
    "xlabel(\"Bagging fraction\", fontsize=14)\n",
    "yticks([1, 5, 10, 15, 20], fontsize=12)\n",
    "ylabel(\"Number of neighbors - K\", fontsize=14)"
   ]
  },
  {
   "cell_type": "code",
   "execution_count": 50,
   "metadata": {},
   "outputs": [
    {
     "data": {
      "text/plain": [
       "0.055802225897425714"
      ]
     },
     "execution_count": 50,
     "metadata": {},
     "output_type": "execute_result"
    }
   ],
   "source": [
    "y_pred = predict(tuned_ensemble, rows=tes)\n",
    "rms(y_pred, y[tes])"
   ]
  },
  {
   "cell_type": "code",
   "execution_count": null,
   "metadata": {},
   "outputs": [],
   "source": []
  },
  {
   "cell_type": "markdown",
   "metadata": {},
   "source": [
    "# Ensemble Models - 2\n",
    "\n",
    "This tutorial builds upon the previous ensemble tutorial with a home-made Random Forest regressor on the \"boston\" dataset."
   ]
  },
  {
   "cell_type": "code",
   "execution_count": 52,
   "metadata": {},
   "outputs": [],
   "source": [
    "using MLJ\n",
    "using PyPlot\n",
    "using PrettyPrinting\n",
    "using StableRNGs\n",
    "import DataFrames"
   ]
  },
  {
   "cell_type": "code",
   "execution_count": 53,
   "metadata": {},
   "outputs": [
    {
     "data": {
      "text/plain": [
       "┌─────────┬─────────┬────────────┐\n",
       "│\u001b[22m _.names \u001b[0m│\u001b[22m _.types \u001b[0m│\u001b[22m _.scitypes \u001b[0m│\n",
       "├─────────┼─────────┼────────────┤\n",
       "│ Crim    │ Float64 │ Continuous │\n",
       "│ Zn      │ Float64 │ Continuous │\n",
       "│ Indus   │ Float64 │ Continuous │\n",
       "│ NOx     │ Float64 │ Continuous │\n",
       "│ Rm      │ Float64 │ Continuous │\n",
       "│ Age     │ Float64 │ Continuous │\n",
       "│ Dis     │ Float64 │ Continuous │\n",
       "│ Rad     │ Float64 │ Continuous │\n",
       "│ Tax     │ Float64 │ Continuous │\n",
       "│ PTRatio │ Float64 │ Continuous │\n",
       "│ Black   │ Float64 │ Continuous │\n",
       "│ LStat   │ Float64 │ Continuous │\n",
       "└─────────┴─────────┴────────────┘\n",
       "_.nrows = 506\n"
      ]
     },
     "execution_count": 53,
     "metadata": {},
     "output_type": "execute_result"
    }
   ],
   "source": [
    "X, y = @load_boston\n",
    "sch = schema(X)"
   ]
  },
  {
   "cell_type": "code",
   "execution_count": 54,
   "metadata": {},
   "outputs": [
    {
     "data": {
      "text/plain": [
       "12"
      ]
     },
     "execution_count": 54,
     "metadata": {},
     "output_type": "execute_result"
    }
   ],
   "source": [
    "p = length(sch.names)"
   ]
  },
  {
   "cell_type": "code",
   "execution_count": 55,
   "metadata": {},
   "outputs": [
    {
     "data": {
      "text/plain": [
       "506"
      ]
     },
     "execution_count": 55,
     "metadata": {},
     "output_type": "execute_result"
    }
   ],
   "source": [
    "n = sch.nrows"
   ]
  },
  {
   "cell_type": "code",
   "execution_count": 56,
   "metadata": {},
   "outputs": [
    {
     "name": "stdout",
     "output_type": "stream",
     "text": [
      "(n, p) = (506, 12)\n"
     ]
    },
    {
     "data": {
      "text/plain": [
       "(506, 12)"
      ]
     },
     "execution_count": 56,
     "metadata": {},
     "output_type": "execute_result"
    }
   ],
   "source": [
    "@show (n, p)"
   ]
  },
  {
   "cell_type": "code",
   "execution_count": 57,
   "metadata": {},
   "outputs": [
    {
     "name": "stdout",
     "output_type": "stream",
     "text": [
      "Summary Stats:\n",
      "Length:         506\n",
      "Missing Count:  0\n",
      "Mean:           22.532806\n",
      "Minimum:        5.000000\n",
      "1st Quartile:   17.025000\n",
      "Median:         21.200000\n",
      "3rd Quartile:   25.000000\n",
      "Maximum:        50.000000\n",
      "Type:           Float64\n"
     ]
    }
   ],
   "source": [
    "DataFrames.describe(y)"
   ]
  },
  {
   "cell_type": "code",
   "execution_count": null,
   "metadata": {},
   "outputs": [],
   "source": []
  },
  {
   "cell_type": "code",
   "execution_count": 71,
   "metadata": {},
   "outputs": [
    {
     "name": "stdout",
     "output_type": "stream",
     "text": [
      "import MLJDecisionTreeInterface ✔\n"
     ]
    },
    {
     "name": "stderr",
     "output_type": "stream",
     "text": [
      "┌ Info: For silent loading, specify `verbosity=0`. \n",
      "└ @ Main /home/sandhya/.julia/packages/MLJModels/E8BbE/src/loading.jl:168\n"
     ]
    },
    {
     "data": {
      "text/plain": [
       "MLJDecisionTreeInterface.DecisionTreeRegressor"
      ]
     },
     "execution_count": 71,
     "metadata": {},
     "output_type": "execute_result"
    }
   ],
   "source": [
    "dtr = @load DecisionTreeRegressor pkg=DecisionTree"
   ]
  },
  {
   "cell_type": "code",
   "execution_count": 72,
   "metadata": {},
   "outputs": [
    {
     "data": {
      "text/plain": [
       "\u001b[34mMachine{DecisionTreeRegressor,…} @492\u001b[39m trained 0 times; caches data\n",
       "  args: \n",
       "    1:\t\u001b[34mSource @040\u001b[39m ⏎ `Table{AbstractVector{Continuous}}`\n",
       "    2:\t\u001b[34mSource @294\u001b[39m ⏎ `AbstractVector{Continuous}`\n"
      ]
     },
     "execution_count": 72,
     "metadata": {},
     "output_type": "execute_result"
    }
   ],
   "source": [
    "tree = machine(dtr(), X, y)"
   ]
  },
  {
   "cell_type": "code",
   "execution_count": 73,
   "metadata": {},
   "outputs": [],
   "source": [
    "import MLJBase.evaluate!"
   ]
  },
  {
   "cell_type": "code",
   "execution_count": 77,
   "metadata": {},
   "outputs": [
    {
     "data": {
      "text/plain": [
       "┌───────────────────────────────────────────────────────────────┬───────────────\n",
       "│\u001b[22m _.measure                                                     \u001b[0m│\u001b[22m _.measuremen\u001b[0m ⋯\n",
       "├───────────────────────────────────────────────────────────────┼───────────────\n",
       "│ RootMeanSquaredError @344                                     │ 7.06         ⋯\n",
       "│ \\e[34mRootMeanSquaredLogProportionalError{Float64} @485\\e[39m │ 0.328        ⋯\n",
       "└───────────────────────────────────────────────────────────────┴───────────────\n",
       "\u001b[36m                                                               2 columns omitted\u001b[0m\n",
       "_.per_observation = [missing, missing]\n",
       "_.fitted_params_per_fold = [ … ]\n",
       "_.report_per_fold = [ … ]\n"
      ]
     },
     "execution_count": 77,
     "metadata": {},
     "output_type": "execute_result"
    }
   ],
   "source": [
    "e = evaluate!(tree, resampling=Holdout(fraction_train=0.8),\n",
    "              measure=[rms, rmslp1])\n"
   ]
  },
  {
   "cell_type": "code",
   "execution_count": 78,
   "metadata": {},
   "outputs": [
    {
     "name": "stdout",
     "output_type": "stream",
     "text": [
      "(measure = [RootMeanSquaredError @344,\n",
      "            \u001b[34mRootMeanSquaredLogProportionalError{Float64} @485\u001b[39m],\n",
      " measurement = [7.060107887221603, 0.32761260327401803],\n",
      " per_fold = [[7.060107887221603], [0.32761260327401803]],\n",
      " per_observation = [missing, missing],\n",
      " fitted_params_per_fold = [(tree = Decision Tree\n",
      "Leaves: 64\n",
      "Depth:  13,)],\n",
      " report_per_fold = [nothing])"
     ]
    }
   ],
   "source": [
    "e |> pprint # use PrettyPrinting"
   ]
  },
  {
   "cell_type": "code",
   "execution_count": null,
   "metadata": {},
   "outputs": [],
   "source": []
  },
  {
   "cell_type": "markdown",
   "metadata": {},
   "source": [
    "## Random forest"
   ]
  },
  {
   "cell_type": "code",
   "execution_count": 79,
   "metadata": {},
   "outputs": [
    {
     "data": {
      "text/plain": [
       "3"
      ]
     },
     "execution_count": 79,
     "metadata": {},
     "output_type": "execute_result"
    }
   ],
   "source": [
    "forest = EnsembleModel(atom=dtr())\n",
    "forest.atom.n_subfeatures = 3"
   ]
  },
  {
   "cell_type": "code",
   "execution_count": 80,
   "metadata": {},
   "outputs": [
    {
     "name": "stderr",
     "output_type": "stream",
     "text": [
      "┌ Info: Training \u001b[34mMachine{DeterministicTunedModel{Grid,…},…} @954\u001b[39m.\n",
      "└ @ MLJBase /home/sandhya/.julia/packages/MLJBase/pCCd7/src/machines.jl:342\n",
      "┌ Info: Attempting to evaluate 30 models.\n",
      "└ @ MLJTuning /home/sandhya/.julia/packages/MLJTuning/QFcuQ/src/tuned_models.jl:600\n",
      "\u001b[33mEvaluating over 30 metamodels: 100%[=========================] Time: 0:00:48\u001b[39m\n"
     ]
    }
   ],
   "source": [
    "rng = StableRNG(5123) # for reproducibility\n",
    "m = machine(forest, X, y)\n",
    "r = range(forest, :n, lower=10, upper=1000)\n",
    "curves = learning_curve!(m, resampling=Holdout(fraction_train=0.8, rng=rng),\n",
    "                         range=r, measure=rms);"
   ]
  },
  {
   "cell_type": "code",
   "execution_count": 81,
   "metadata": {},
   "outputs": [
    {
     "data": {
      "image/png": "[encoded data removed]",
      "text/plain": [
       "Figure(PyObject <Figure size 800x600 with 1 Axes>)"
      ]
     },
     "metadata": {},
     "output_type": "display_data"
    },
    {
     "data": {
      "text/plain": [
       "([2.0, 2.5, 3.0, 3.5, 4.0, 4.5, 5.0, 5.5, 6.0], PyCall.PyObject[PyObject Text(0, 2.0, '2.0'), PyObject Text(0, 2.5, '2.5'), PyObject Text(0, 3.0, '3.0'), PyObject Text(0, 3.5, '3.5'), PyObject Text(0, 4.0, '4.0'), PyObject Text(0, 4.5, '4.5'), PyObject Text(0, 5.0, '5.0'), PyObject Text(0, 5.5, '5.5'), PyObject Text(0, 6.0, '6.0')])"
      ]
     },
     "execution_count": 81,
     "metadata": {},
     "output_type": "execute_result"
    }
   ],
   "source": [
    "##Plotting\n",
    "\n",
    "figure(figsize=(8,6))\n",
    "plot(curves.parameter_values, curves.measurements)\n",
    "ylabel(\"Root Mean Squared error\", fontsize=16)\n",
    "xlabel(\"Number of trees\", fontsize=16)\n",
    "xticks([10, 250, 500, 750, 1000], fontsize=14)\n",
    "yticks(fontsize=14)"
   ]
  },
  {
   "cell_type": "code",
   "execution_count": 83,
   "metadata": {},
   "outputs": [],
   "source": [
    "forest.n = 150;"
   ]
  },
  {
   "cell_type": "code",
   "execution_count": null,
   "metadata": {},
   "outputs": [],
   "source": []
  },
  {
   "cell_type": "markdown",
   "metadata": {},
   "source": [
    "## Tuining"
   ]
  },
  {
   "cell_type": "code",
   "execution_count": 85,
   "metadata": {},
   "outputs": [
    {
     "name": "stdout",
     "output_type": "stream",
     "text": [
      "(atom = (max_depth = -1,\n",
      "         min_samples_leaf = 5,\n",
      "         min_samples_split = 2,\n",
      "         min_purity_increase = 0.0,\n",
      "         n_subfeatures = 3,\n",
      "         post_prune = false,\n",
      "         merge_purity_threshold = 1.0),\n",
      " atomic_weights = [],\n",
      " bagging_fraction = 0.8,\n",
      " rng = Random._GLOBAL_RNG(),\n",
      " n = 150,\n",
      " acceleration = CPU1{Nothing}(nothing),\n",
      " out_of_bag_measure = [])"
     ]
    }
   ],
   "source": [
    "params(forest)  |> pprint"
   ]
  },
  {
   "cell_type": "code",
   "execution_count": 86,
   "metadata": {},
   "outputs": [],
   "source": [
    "r_sf = range(forest, :(atom.n_subfeatures), lower=1, upper=12)\n",
    "r_bf = range(forest, :bagging_fraction, lower=0.4, upper=1.0);"
   ]
  },
  {
   "cell_type": "code",
   "execution_count": 87,
   "metadata": {},
   "outputs": [
    {
     "name": "stdout",
     "output_type": "stream",
     "text": [
      "(measure = [RootMeanSquaredError @344,\n",
      "            \u001b[34mRootMeanSquaredLogProportionalError{Float64} @485\u001b[39m],\n",
      " measurement = [3.931755412469539, 0.24628982791666806],\n",
      " per_fold = [[3.931755412469539], [0.24628982791666806]],\n",
      " per_observation = [missing, missing],\n",
      " fitted_params_per_fold =\n",
      "     [(best_model =\n",
      "           \u001b[34mDeterministicEnsembleModel{DecisionTreeRegressor} @683\u001b[39m,\n",
      "       best_fitted_params =\n",
      "           (fitresult = \u001b[34mWrappedEnsemble{Node{Float64,…},…} @731\u001b[39m,))],\n",
      " report_per_fold =\n",
      "     [(best_model =\n",
      "           \u001b[34mDeterministicEnsembleModel{DecisionTreeRegressor} @683\u001b[39m,\n",
      "       best_history_entry =\n",
      "           (model =\n",
      "                \u001b[34mDeterministicEnsembleModel{DecisionTreeRegressor} @683\u001b[39m,\n",
      "            measure = [RootMeanSquaredError @344],\n",
      "            measurement = [3.636620358554623],\n",
      "            per_fold = [[2.4400961925467746,\n",
      "                         2.4469541861135014,\n",
      "                         5.016379994904176,\n",
      "                         4.064123733238112,\n",
      "                         3.430527831177236,\n",
      "                         3.7361344198085784]]),\n",
      "       history =\n",
      "           [(model =\n",
      "                 \u001b[34mDeterministicEnsembleModel{DecisionTreeRegressor} @683\u001b[39m,\n",
      "             measure = [RootMeanSquaredError @344],\n",
      "             measurement = [3.636620358554623],\n",
      "             per_fold = [[2.4400961925467746,\n",
      "                          2.4469541861135014,\n",
      "                          5.016379994904176,\n",
      "                          4.064123733238112,\n",
      "                          3.430527831177236,\n",
      "                          3.7361344198085784]]),\n",
      "            (model =\n",
      "                 \u001b[34mDeterministicEnsembleModel{DecisionTreeRegressor} @313\u001b[39m,\n",
      "             measure = [RootMeanSquaredError @344],\n",
      "             measurement = [3.9583656578955844],\n",
      "             per_fold = [[4.186107746729946,\n",
      "                          3.1737597519820606,\n",
      "                          5.563603460577657,\n",
      "                          3.0605878698530447,\n",
      "                          2.876910721152506,\n",
      "                          4.221161710475403]]),\n",
      "            (model =\n",
      "                 \u001b[34mDeterministicEnsembleModel{DecisionTreeRegressor} @200\u001b[39m,\n",
      "             measure = [RootMeanSquaredError @344],\n",
      "             measurement = [4.618912631291553],\n",
      "             per_fold = [[5.366303315299044,\n",
      "                          6.359580461808362,\n",
      "                          3.795384289737091,\n",
      "                          3.0163095606507078,\n",
      "                          3.3968770695266475,\n",
      "                          4.870606671975462]]),\n",
      "            (model =\n",
      "                 \u001b[34mDeterministicEnsembleModel{DecisionTreeRegressor} @324\u001b[39m,\n",
      "             measure = [RootMeanSquaredError @344],\n",
      "             measurement = [4.039743385733589],\n",
      "             per_fold = [[4.615479425978034,\n",
      "                          3.4374240516998804,\n",
      "                          2.824967016981588,\n",
      "                          4.823438590426482,\n",
      "                          2.872214170056893,\n",
      "                          5.03020999276506]]),\n",
      "            (model =\n",
      "                 \u001b[34mDeterministicEnsembleModel{DecisionTreeRegressor} @767\u001b[39m,\n",
      "             measure = [RootMeanSquaredError @344],\n",
      "             measurement = [4.785214349564488],\n",
      "             per_fold = [[5.643826529084644,\n",
      "                          3.5510342262919057,\n",
      "                          6.336057428096097,\n",
      "                          4.342084741938597,\n",
      "                          4.393701956289087,\n",
      "                          3.8240156566056216]]),\n",
      "            (model =\n",
      "                 \u001b[34mDeterministicEnsembleModel{DecisionTreeRegressor} @139\u001b[39m,\n",
      "             measure = [RootMeanSquaredError @344],\n",
      "             measurement = [3.722656782832717],\n",
      "             per_fold = [[3.635015901108091,\n",
      "                          3.437409840774617,\n",
      "                          3.5852829195213216,\n",
      "                          4.866937851373428,\n",
      "                          3.7619575179725584,\n",
      "                          2.7251150604491543]]),\n",
      "            (model =\n",
      "                 \u001b[34mDeterministicEnsembleModel{DecisionTreeRegressor} @815\u001b[39m,\n",
      "             measure = [RootMeanSquaredError @344],\n",
      "             measurement = [4.773661442859713],\n",
      "             per_fold = [[6.099408922869517,\n",
      "                          3.928025552532511,\n",
      "                          4.725736580596088,\n",
      "                          4.058763268470601,\n",
      "                          4.107445406542425,\n",
      "                          5.330819281325117]]),\n",
      "            (model =\n",
      "                 \u001b[34mDeterministicEnsembleModel{DecisionTreeRegressor} @425\u001b[39m,\n",
      "             measure = [RootMeanSquaredError @344],\n",
      "             measurement = [3.728500234237453],\n",
      "             per_fold = [[3.7422191358814483,\n",
      "                          3.322131389419828,\n",
      "                          4.330557549010192,\n",
      "                          3.1413507430787786,\n",
      "                          3.797925239778427,\n",
      "                          3.9145208707388273]]),\n",
      "            (model =\n",
      "                 \u001b[34mDeterministicEnsembleModel{DecisionTreeRegressor} @310\u001b[39m,\n",
      "             measure = [RootMeanSquaredError @344],\n",
      "             measurement = [5.4139310395460125],\n",
      "             per_fold = [[7.067966722176364,\n",
      "                          5.620610061721067,\n",
      "                          4.005395402451738,\n",
      "                          3.7244921938158266,\n",
      "                          5.816067434905364,\n",
      "                          5.529449331977174]])],\n",
      "       best_report = (measures = [], oob_measurements = missing),\n",
      "       plotting =\n",
      "           (parameter_names = [\"atom.n_subfeatures\", \"bagging_fraction\"],\n",
      "            parameter_scales = [:linear, :linear],\n",
      "            parameter_values =\n",
      "                Any[6 1.0; 12 0.4; 1 1.0; 6 0.4; 12 1.0; 6 0.7; 1 0.7; 12 0.7; 1 0.4],\n",
      "            measurements = [3.636620358554623,\n",
      "                            3.9583656578955844,\n",
      "                            4.618912631291553,\n",
      "                            4.039743385733589,\n",
      "                            4.785214349564488,\n",
      "                            3.722656782832717,\n",
      "                            4.773661442859713,\n",
      "                            3.728500234237453,\n",
      "                            5.4139310395460125]))])"
     ]
    }
   ],
   "source": [
    "tuned_forest = TunedModel(model=forest,\n",
    "                          tuning=Grid(resolution=3),\n",
    "                          resampling=CV(nfolds=6, rng=StableRNG(32)),\n",
    "                          ranges=[r_sf, r_bf],\n",
    "                          measure=rms)\n",
    "m = machine(tuned_forest, X, y)\n",
    "e = evaluate!(m, resampling=Holdout(fraction_train=0.8),\n",
    "              measure=[rms, rmslp1])\n",
    "e |> pprint"
   ]
  },
  {
   "cell_type": "code",
   "execution_count": 88,
   "metadata": {},
   "outputs": [
    {
     "data": {
      "image/png": "[encoded data removed]",
      "text/plain": [
       "Figure(PyObject <Figure size 800x600 with 1 Axes>)"
      ]
     },
     "metadata": {},
     "output_type": "display_data"
    },
    {
     "data": {
      "text/plain": [
       "PyObject Text(29.000000000000007, 0.5, 'Bagging fraction')"
      ]
     },
     "execution_count": 88,
     "metadata": {},
     "output_type": "execute_result"
    }
   ],
   "source": [
    "r = report(m)\n",
    "\n",
    "figure(figsize=(8,6))\n",
    "\n",
    "res = r.plotting\n",
    "\n",
    "vals_sf = res.parameter_values[:, 1]\n",
    "vals_bf = res.parameter_values[:, 2]\n",
    "\n",
    "tricontourf(vals_sf, vals_bf, res.measurements)\n",
    "xticks(1:3:12, fontsize=12)\n",
    "xlabel(\"Number of sub-features\", fontsize=14)\n",
    "yticks(0.4:0.2:1, fontsize=12)\n",
    "ylabel(\"Bagging fraction\", fontsize=14)"
   ]
  },
  {
   "cell_type": "code",
   "execution_count": null,
   "metadata": {},
   "outputs": [],
   "source": []
  },
  {
   "cell_type": "code",
   "execution_count": 89,
   "metadata": {},
   "outputs": [
    {
     "data": {
      "text/plain": [
       "2.383558355177129"
      ]
     },
     "execution_count": 89,
     "metadata": {},
     "output_type": "execute_result"
    }
   ],
   "source": [
    "y_pred = predict(m, X)\n",
    "rms(y_pred, y)"
   ]
  },
  {
   "cell_type": "code",
   "execution_count": null,
   "metadata": {},
   "outputs": [],
   "source": []
  },
  {
   "cell_type": "markdown",
   "metadata": {},
   "source": [
    "# Simple example of a homogeneous ensemble using learning networks\n",
    "\n",
    "In this simple example, no bagging is used, so every atomic model gets the same learned parameters, unless the atomic model training algorithm has randomness, eg, DecisionTree with random subsampling of features at nodes.\n",
    "\n",
    "Note that MLJ has a built in model wrapper called EnsembleModel for creating bagged ensembles with a few lines of code."
   ]
  },
  {
   "cell_type": "code",
   "execution_count": 90,
   "metadata": {},
   "outputs": [],
   "source": [
    "using MLJ\n",
    "using PyPlot\n",
    "import Statistics"
   ]
  },
  {
   "cell_type": "code",
   "execution_count": 91,
   "metadata": {},
   "outputs": [
    {
     "data": {
      "text/plain": [
       "\u001b[34mSource @844\u001b[39m ⏎ `Nothing`"
      ]
     },
     "execution_count": 91,
     "metadata": {},
     "output_type": "execute_result"
    }
   ],
   "source": [
    "Xs = source()\n",
    "ys = source()\n"
   ]
  },
  {
   "cell_type": "code",
   "execution_count": 131,
   "metadata": {},
   "outputs": [
    {
     "name": "stdout",
     "output_type": "stream",
     "text": [
      "import MLJDecisionTreeInterface ✔\n"
     ]
    },
    {
     "name": "stderr",
     "output_type": "stream",
     "text": [
      "┌ Info: For silent loading, specify `verbosity=0`. \n",
      "└ @ Main /home/sandhya/.julia/packages/MLJModels/E8BbE/src/loading.jl:168\n"
     ]
    },
    {
     "data": {
      "text/plain": [
       "Base.Generator{UnitRange{Int64}, var\"#44#45\"}(var\"#44#45\"(), 1:100)"
      ]
     },
     "execution_count": 131,
     "metadata": {},
     "output_type": "execute_result"
    }
   ],
   "source": [
    "atom = @load DecisionTreeRegressor() pkg=DecisionTree\n",
    "#atom.n_subfeatures = 4 # to ensure diversity among trained atomic models\n",
    "atom = atom(n_subfeatures = 4)\n",
    "machines = (machine(atom, Xs, ys) for i in 1:100)"
   ]
  },
  {
   "cell_type": "code",
   "execution_count": 116,
   "metadata": {},
   "outputs": [
    {
     "data": {
      "text/plain": [
       "\u001b[34mNode{Nothing} @774\u001b[39m\n",
       "  args:\n",
       "    1:\t\u001b[34mNode{Machine{DecisionTreeRegressor,…}} @561\u001b[39m\n",
       "    2:\t\u001b[34mNode{Machine{DecisionTreeRegressor,…}} @528\u001b[39m\n",
       "    3:\t\u001b[34mNode{Machine{DecisionTreeRegressor,…}} @693\u001b[39m\n",
       "    4:\t\u001b[34mNode{Machine{DecisionTreeRegressor,…}} @839\u001b[39m\n",
       "    5:\t\u001b[34mNode{Machine{DecisionTreeRegressor,…}} @615\u001b[39m\n",
       "    6:\t\u001b[34mNode{Machine{DecisionTreeRegressor,…}} @109\u001b[39m\n",
       "    7:\t\u001b[34mNode{Machine{DecisionTreeRegressor,…}} @055\u001b[39m\n",
       "    8:\t\u001b[34mNode{Machine{DecisionTreeRegressor,…}} @548\u001b[39m\n",
       "    9:\t\u001b[34mNode{Machine{DecisionTreeRegressor,…}} @013\u001b[39m\n",
       "    10:\t\u001b[34mNode{Machine{DecisionTreeRegressor,…}} @569\u001b[39m\n",
       "    11:\t\u001b[34mNode{Machine{DecisionTreeRegressor,…}} @672\u001b[39m\n",
       "    12:\t\u001b[34mNode{Machine{DecisionTreeRegressor,…}} @122\u001b[39m\n",
       "    13:\t\u001b[34mNode{Machine{DecisionTreeRegressor,…}} @895\u001b[39m\n",
       "    14:\t\u001b[34mNode{Machine{DecisionTreeRegressor,…}} @558\u001b[39m\n",
       "    15:\t\u001b[34mNode{Machine{DecisionTreeRegressor,…}} @298\u001b[39m\n",
       "    16:\t\u001b[34mNode{Machine{DecisionTreeRegressor,…}} @623\u001b[39m\n",
       "    17:\t\u001b[34mNode{Machine{DecisionTreeRegressor,…}} @760\u001b[39m\n",
       "    18:\t\u001b[34mNode{Machine{DecisionTreeRegressor,…}} @259\u001b[39m\n",
       "    19:\t\u001b[34mNode{Machine{DecisionTreeRegressor,…}} @037\u001b[39m\n",
       "    20:\t\u001b[34mNode{Machine{DecisionTreeRegressor,…}} @941\u001b[39m\n",
       "    21:\t\u001b[34mNode{Machine{DecisionTreeRegressor,…}} @407\u001b[39m\n",
       "    22:\t\u001b[34mNode{Machine{DecisionTreeRegressor,…}} @242\u001b[39m\n",
       "    23:\t\u001b[34mNode{Machine{DecisionTreeRegressor,…}} @158\u001b[39m\n",
       "    24:\t\u001b[34mNode{Machine{DecisionTreeRegressor,…}} @181\u001b[39m\n",
       "    25:\t\u001b[34mNode{Machine{DecisionTreeRegressor,…}} @418\u001b[39m\n",
       "    26:\t\u001b[34mNode{Machine{DecisionTreeRegressor,…}} @305\u001b[39m\n",
       "    27:\t\u001b[34mNode{Machine{DecisionTreeRegressor,…}} @899\u001b[39m\n",
       "    28:\t\u001b[34mNode{Machine{DecisionTreeRegressor,…}} @222\u001b[39m\n",
       "    29:\t\u001b[34mNode{Machine{DecisionTreeRegressor,…}} @936\u001b[39m\n",
       "    30:\t\u001b[34mNode{Machine{DecisionTreeRegressor,…}} @879\u001b[39m\n",
       "    31:\t\u001b[34mNode{Machine{DecisionTreeRegressor,…}} @999\u001b[39m\n",
       "    32:\t\u001b[34mNode{Machine{DecisionTreeRegressor,…}} @385\u001b[39m\n",
       "    33:\t\u001b[34mNode{Machine{DecisionTreeRegressor,…}} @939\u001b[39m\n",
       "    34:\t\u001b[34mNode{Machine{DecisionTreeRegressor,…}} @219\u001b[39m\n",
       "    35:\t\u001b[34mNode{Machine{DecisionTreeRegressor,…}} @272\u001b[39m\n",
       "    36:\t\u001b[34mNode{Machine{DecisionTreeRegressor,…}} @980\u001b[39m\n",
       "    37:\t\u001b[34mNode{Machine{DecisionTreeRegressor,…}} @134\u001b[39m\n",
       "    38:\t\u001b[34mNode{Machine{DecisionTreeRegressor,…}} @342\u001b[39m\n",
       "    39:\t\u001b[34mNode{Machine{DecisionTreeRegressor,…}} @567\u001b[39m\n",
       "    40:\t\u001b[34mNode{Machine{DecisionTreeRegressor,…}} @135\u001b[39m\n",
       "    41:\t\u001b[34mNode{Machine{DecisionTreeRegressor,…}} @967\u001b[39m\n",
       "    42:\t\u001b[34mNode{Machine{DecisionTreeRegressor,…}} @236\u001b[39m\n",
       "    43:\t\u001b[34mNode{Machine{DecisionTreeRegressor,…}} @503\u001b[39m\n",
       "    44:\t\u001b[34mNode{Machine{DecisionTreeRegressor,…}} @554\u001b[39m\n",
       "    45:\t\u001b[34mNode{Machine{DecisionTreeRegressor,…}} @190\u001b[39m\n",
       "    46:\t\u001b[34mNode{Machine{DecisionTreeRegressor,…}} @414\u001b[39m\n",
       "    47:\t\u001b[34mNode{Machine{DecisionTreeRegressor,…}} @954\u001b[39m\n",
       "    48:\t\u001b[34mNode{Machine{DecisionTreeRegressor,…}} @686\u001b[39m\n",
       "    49:\t\u001b[34mNode{Machine{DecisionTreeRegressor,…}} @428\u001b[39m\n",
       "    50:\t\u001b[34mNode{Machine{DecisionTreeRegressor,…}} @482\u001b[39m\n",
       "    51:\t\u001b[34mNode{Machine{DecisionTreeRegressor,…}} @620\u001b[39m\n",
       "    52:\t\u001b[34mNode{Machine{DecisionTreeRegressor,…}} @356\u001b[39m\n",
       "    53:\t\u001b[34mNode{Machine{DecisionTreeRegressor,…}} @629\u001b[39m\n",
       "    54:\t\u001b[34mNode{Machine{DecisionTreeRegressor,…}} @766\u001b[39m\n",
       "    55:\t\u001b[34mNode{Machine{DecisionTreeRegressor,…}} @998\u001b[39m\n",
       "    56:\t\u001b[34mNode{Machine{DecisionTreeRegressor,…}} @964\u001b[39m\n",
       "    57:\t\u001b[34mNode{Machine{DecisionTreeRegressor,…}} @253\u001b[39m\n",
       "    58:\t\u001b[34mNode{Machine{DecisionTreeRegressor,…}} @757\u001b[39m\n",
       "    59:\t\u001b[34mNode{Machine{DecisionTreeRegressor,…}} @435\u001b[39m\n",
       "    60:\t\u001b[34mNode{Machine{DecisionTreeRegressor,…}} @115\u001b[39m\n",
       "    61:\t\u001b[34mNode{Machine{DecisionTreeRegressor,…}} @679\u001b[39m\n",
       "    62:\t\u001b[34mNode{Machine{DecisionTreeRegressor,…}} @296\u001b[39m\n",
       "    63:\t\u001b[34mNode{Machine{DecisionTreeRegressor,…}} @048\u001b[39m\n",
       "    64:\t\u001b[34mNode{Machine{DecisionTreeRegressor,…}} @229\u001b[39m\n",
       "    65:\t\u001b[34mNode{Machine{DecisionTreeRegressor,…}} @558\u001b[39m\n",
       "    66:\t\u001b[34mNode{Machine{DecisionTreeRegressor,…}} @684\u001b[39m\n",
       "    67:\t\u001b[34mNode{Machine{DecisionTreeRegressor,…}} @631\u001b[39m\n",
       "    68:\t\u001b[34mNode{Machine{DecisionTreeRegressor,…}} @878\u001b[39m\n",
       "    69:\t\u001b[34mNode{Machine{DecisionTreeRegressor,…}} @642\u001b[39m\n",
       "    70:\t\u001b[34mNode{Machine{DecisionTreeRegressor,…}} @122\u001b[39m\n",
       "    71:\t\u001b[34mNode{Machine{DecisionTreeRegressor,…}} @825\u001b[39m\n",
       "    72:\t\u001b[34mNode{Machine{DecisionTreeRegressor,…}} @525\u001b[39m\n",
       "    73:\t\u001b[34mNode{Machine{DecisionTreeRegressor,…}} @358\u001b[39m\n",
       "    74:\t\u001b[34mNode{Machine{DecisionTreeRegressor,…}} @283\u001b[39m\n",
       "    75:\t\u001b[34mNode{Machine{DecisionTreeRegressor,…}} @048\u001b[39m\n",
       "    76:\t\u001b[34mNode{Machine{DecisionTreeRegressor,…}} @945\u001b[39m\n",
       "    77:\t\u001b[34mNode{Machine{DecisionTreeRegressor,…}} @491\u001b[39m\n",
       "    78:\t\u001b[34mNode{Machine{DecisionTreeRegressor,…}} @564\u001b[39m\n",
       "    79:\t\u001b[34mNode{Machine{DecisionTreeRegressor,…}} @515\u001b[39m\n",
       "    80:\t\u001b[34mNode{Machine{DecisionTreeRegressor,…}} @019\u001b[39m\n",
       "    81:\t\u001b[34mNode{Machine{DecisionTreeRegressor,…}} @604\u001b[39m\n",
       "    82:\t\u001b[34mNode{Machine{DecisionTreeRegressor,…}} @518\u001b[39m\n",
       "    83:\t\u001b[34mNode{Machine{DecisionTreeRegressor,…}} @413\u001b[39m\n",
       "    84:\t\u001b[34mNode{Machine{DecisionTreeRegressor,…}} @060\u001b[39m\n",
       "    85:\t\u001b[34mNode{Machine{DecisionTreeRegressor,…}} @103\u001b[39m\n",
       "    86:\t\u001b[34mNode{Machine{DecisionTreeRegressor,…}} @146\u001b[39m\n",
       "    87:\t\u001b[34mNode{Machine{DecisionTreeRegressor,…}} @502\u001b[39m\n",
       "    88:\t\u001b[34mNode{Machine{DecisionTreeRegressor,…}} @787\u001b[39m\n",
       "    89:\t\u001b[34mNode{Machine{DecisionTreeRegressor,…}} @920\u001b[39m\n",
       "    90:\t\u001b[34mNode{Machine{DecisionTreeRegressor,…}} @993\u001b[39m\n",
       "    91:\t\u001b[34mNode{Machine{DecisionTreeRegressor,…}} @235\u001b[39m\n",
       "    92:\t\u001b[34mNode{Machine{DecisionTreeRegressor,…}} @017\u001b[39m\n",
       "    93:\t\u001b[34mNode{Machine{DecisionTreeRegressor,…}} @509\u001b[39m\n",
       "    94:\t\u001b[34mNode{Machine{DecisionTreeRegressor,…}} @299\u001b[39m\n",
       "    95:\t\u001b[34mNode{Machine{DecisionTreeRegressor,…}} @478\u001b[39m\n",
       "    96:\t\u001b[34mNode{Machine{DecisionTreeRegressor,…}} @642\u001b[39m\n",
       "    97:\t\u001b[34mNode{Machine{DecisionTreeRegressor,…}} @727\u001b[39m\n",
       "    98:\t\u001b[34mNode{Machine{DecisionTreeRegressor,…}} @243\u001b[39m\n",
       "    99:\t\u001b[34mNode{Machine{DecisionTreeRegressor,…}} @690\u001b[39m\n",
       "    100:\t\u001b[34mNode{Machine{DecisionTreeRegressor,…}} @867\u001b[39m\n",
       "  formula:\n",
       "    mean(\n",
       "        predict(\n",
       "            \u001b[0m\u001b[1m\u001b[34mMachine{DecisionTreeRegressor,…} @799\u001b[39m\u001b[22m, \n",
       "            \u001b[34mSource @454\u001b[39m),\n",
       "        predict(\n",
       "            \u001b[0m\u001b[1m\u001b[34mMachine{DecisionTreeRegressor,…} @612\u001b[39m\u001b[22m, \n",
       "            \u001b[34mSource @454\u001b[39m),\n",
       "        predict(\n",
       "            \u001b[0m\u001b[1m\u001b[34mMachine{DecisionTreeRegressor,…} @853\u001b[39m\u001b[22m, \n",
       "            \u001b[34mSource @454\u001b[39m),\n",
       "        predict(\n",
       "            \u001b[0m\u001b[1m\u001b[34mMachine{DecisionTreeRegressor,…} @408\u001b[39m\u001b[22m, \n",
       "            \u001b[34mSource @454\u001b[39m),\n",
       "        predict(\n",
       "            \u001b[0m\u001b[1m\u001b[34mMachine{DecisionTreeRegressor,…} @188\u001b[39m\u001b[22m, \n",
       "            \u001b[34mSource @454\u001b[39m),\n",
       "        predict(\n",
       "            \u001b[0m\u001b[1m\u001b[34mMachine{DecisionTreeRegressor,…} @235\u001b[39m\u001b[22m, \n",
       "            \u001b[34mSource @454\u001b[39m),\n",
       "        predict(\n",
       "            \u001b[0m\u001b[1m\u001b[34mMachine{DecisionTreeRegressor,…} @741\u001b[39m\u001b[22m, \n",
       "            \u001b[34mSource @454\u001b[39m),\n",
       "        predict(\n",
       "            \u001b[0m\u001b[1m\u001b[34mMachine{DecisionTreeRegressor,…} @870\u001b[39m\u001b[22m, \n",
       "            \u001b[34mSource @454\u001b[39m),\n",
       "        predict(\n",
       "            \u001b[0m\u001b[1m\u001b[34mMachine{DecisionTreeRegressor,…} @763\u001b[39m\u001b[22m, \n",
       "            \u001b[34mSource @454\u001b[39m),\n",
       "        predict(\n",
       "            \u001b[0m\u001b[1m\u001b[34mMachine{DecisionTreeRegressor,…} @938\u001b[39m\u001b[22m, \n",
       "            \u001b[34mSource @454\u001b[39m),\n",
       "        predict(\n",
       "            \u001b[0m\u001b[1m\u001b[34mMachine{DecisionTreeRegressor,…} @287\u001b[39m\u001b[22m, \n",
       "            \u001b[34mSource @454\u001b[39m),\n",
       "        predict(\n",
       "            \u001b[0m\u001b[1m\u001b[34mMachine{DecisionTreeRegressor,…} @934\u001b[39m\u001b[22m, \n",
       "            \u001b[34mSource @454\u001b[39m),\n",
       "        predict(\n",
       "            \u001b[0m\u001b[1m\u001b[34mMachine{DecisionTreeRegressor,…} @206\u001b[39m\u001b[22m, \n",
       "            \u001b[34mSource @454\u001b[39m),\n",
       "        predict(\n",
       "            \u001b[0m\u001b[1m\u001b[34mMachine{DecisionTreeRegressor,…} @013\u001b[39m\u001b[22m, \n",
       "            \u001b[34mSource @454\u001b[39m),\n",
       "        predict(\n",
       "            \u001b[0m\u001b[1m\u001b[34mMachine{DecisionTreeRegressor,…} @761\u001b[39m\u001b[22m, \n",
       "            \u001b[34mSource @454\u001b[39m),\n",
       "        predict(\n",
       "            \u001b[0m\u001b[1m\u001b[34mMachine{DecisionTreeRegressor,…} @632\u001b[39m\u001b[22m, \n",
       "            \u001b[34mSource @454\u001b[39m),\n",
       "        predict(\n",
       "            \u001b[0m\u001b[1m\u001b[34mMachine{DecisionTreeRegressor,…} @092\u001b[39m\u001b[22m, \n",
       "            \u001b[34mSource @454\u001b[39m),\n",
       "        predict(\n",
       "            \u001b[0m\u001b[1m\u001b[34mMachine{DecisionTreeRegressor,…} @288\u001b[39m\u001b[22m, \n",
       "            \u001b[34mSource @454\u001b[39m),\n",
       "        predict(\n",
       "            \u001b[0m\u001b[1m\u001b[34mMachine{DecisionTreeRegressor,…} @822\u001b[39m\u001b[22m, \n",
       "            \u001b[34mSource @454\u001b[39m),\n",
       "        predict(\n",
       "            \u001b[0m\u001b[1m\u001b[34mMachine{DecisionTreeRegressor,…} @907\u001b[39m\u001b[22m, \n",
       "            \u001b[34mSource @454\u001b[39m),\n",
       "        predict(\n",
       "            \u001b[0m\u001b[1m\u001b[34mMachine{DecisionTreeRegressor,…} @034\u001b[39m\u001b[22m, \n",
       "            \u001b[34mSource @454\u001b[39m),\n",
       "        predict(\n",
       "            \u001b[0m\u001b[1m\u001b[34mMachine{DecisionTreeRegressor,…} @199\u001b[39m\u001b[22m, \n",
       "            \u001b[34mSource @454\u001b[39m),\n",
       "        predict(\n",
       "            \u001b[0m\u001b[1m\u001b[34mMachine{DecisionTreeRegressor,…} @977\u001b[39m\u001b[22m, \n",
       "            \u001b[34mSource @454\u001b[39m),\n",
       "        predict(\n",
       "            \u001b[0m\u001b[1m\u001b[34mMachine{DecisionTreeRegressor,…} @326\u001b[39m\u001b[22m, \n",
       "            \u001b[34mSource @454\u001b[39m),\n",
       "        predict(\n",
       "            \u001b[0m\u001b[1m\u001b[34mMachine{DecisionTreeRegressor,…} @295\u001b[39m\u001b[22m, \n",
       "            \u001b[34mSource @454\u001b[39m),\n",
       "        predict(\n",
       "            \u001b[0m\u001b[1m\u001b[34mMachine{DecisionTreeRegressor,…} @406\u001b[39m\u001b[22m, \n",
       "            \u001b[34mSource @454\u001b[39m),\n",
       "        predict(\n",
       "            \u001b[0m\u001b[1m\u001b[34mMachine{DecisionTreeRegressor,…} @548\u001b[39m\u001b[22m, \n",
       "            \u001b[34mSource @454\u001b[39m),\n",
       "        predict(\n",
       "            \u001b[0m\u001b[1m\u001b[34mMachine{DecisionTreeRegressor,…} @912\u001b[39m\u001b[22m, \n",
       "            \u001b[34mSource @454\u001b[39m),\n",
       "        predict(\n",
       "            \u001b[0m\u001b[1m\u001b[34mMachine{DecisionTreeRegressor,…} @822\u001b[39m\u001b[22m, \n",
       "            \u001b[34mSource @454\u001b[39m),\n",
       "        predict(\n",
       "            \u001b[0m\u001b[1m\u001b[34mMachine{DecisionTreeRegressor,…} @137\u001b[39m\u001b[22m, \n",
       "            \u001b[34mSource @454\u001b[39m),\n",
       "        predict(\n",
       "            \u001b[0m\u001b[1m\u001b[34mMachine{DecisionTreeRegressor,…} @048\u001b[39m\u001b[22m, \n",
       "            \u001b[34mSource @454\u001b[39m),\n",
       "        predict(\n",
       "            \u001b[0m\u001b[1m\u001b[34mMachine{DecisionTreeRegressor,…} @188\u001b[39m\u001b[22m, \n",
       "            \u001b[34mSource @454\u001b[39m),\n",
       "        predict(\n",
       "            \u001b[0m\u001b[1m\u001b[34mMachine{DecisionTreeRegressor,…} @704\u001b[39m\u001b[22m, \n",
       "            \u001b[34mSource @454\u001b[39m),\n",
       "        predict(\n",
       "            \u001b[0m\u001b[1m\u001b[34mMachine{DecisionTreeRegressor,…} @551\u001b[39m\u001b[22m, \n",
       "            \u001b[34mSource @454\u001b[39m),\n",
       "        predict(\n",
       "            \u001b[0m\u001b[1m\u001b[34mMachine{DecisionTreeRegressor,…} @064\u001b[39m\u001b[22m, \n",
       "            \u001b[34mSource @454\u001b[39m),\n",
       "        predict(\n",
       "            \u001b[0m\u001b[1m\u001b[34mMachine{DecisionTreeRegressor,…} @774\u001b[39m\u001b[22m, \n",
       "            \u001b[34mSource @454\u001b[39m),\n",
       "        predict(\n",
       "            \u001b[0m\u001b[1m\u001b[34mMachine{DecisionTreeRegressor,…} @288\u001b[39m\u001b[22m, \n",
       "            \u001b[34mSource @454\u001b[39m),\n",
       "        predict(\n",
       "            \u001b[0m\u001b[1m\u001b[34mMachine{DecisionTreeRegressor,…} @242\u001b[39m\u001b[22m, \n",
       "            \u001b[34mSource @454\u001b[39m),\n",
       "        predict(\n",
       "            \u001b[0m\u001b[1m\u001b[34mMachine{DecisionTreeRegressor,…} @830\u001b[39m\u001b[22m, \n",
       "            \u001b[34mSource @454\u001b[39m),\n",
       "        predict(\n",
       "            \u001b[0m\u001b[1m\u001b[34mMachine{DecisionTreeRegressor,…} @077\u001b[39m\u001b[22m, \n",
       "            \u001b[34mSource @454\u001b[39m),\n",
       "        predict(\n",
       "            \u001b[0m\u001b[1m\u001b[34mMachine{DecisionTreeRegressor,…} @033\u001b[39m\u001b[22m, \n",
       "            \u001b[34mSource @454\u001b[39m),\n",
       "        predict(\n",
       "            \u001b[0m\u001b[1m\u001b[34mMachine{DecisionTreeRegressor,…} @713\u001b[39m\u001b[22m, \n",
       "            \u001b[34mSource @454\u001b[39m),\n",
       "        predict(\n",
       "            \u001b[0m\u001b[1m\u001b[34mMachine{DecisionTreeRegressor,…} @126\u001b[39m\u001b[22m, \n",
       "            \u001b[34mSource @454\u001b[39m),\n",
       "        predict(\n",
       "            \u001b[0m\u001b[1m\u001b[34mMachine{DecisionTreeRegressor,…} @712\u001b[39m\u001b[22m, \n",
       "            \u001b[34mSource @454\u001b[39m),\n",
       "        predict(\n",
       "            \u001b[0m\u001b[1m\u001b[34mMachine{DecisionTreeRegressor,…} @520\u001b[39m\u001b[22m, \n",
       "            \u001b[34mSource @454\u001b[39m),\n",
       "        predict(\n",
       "            \u001b[0m\u001b[1m\u001b[34mMachine{DecisionTreeRegressor,…} @866\u001b[39m\u001b[22m, \n",
       "            \u001b[34mSource @454\u001b[39m),\n",
       "        predict(\n",
       "            \u001b[0m\u001b[1m\u001b[34mMachine{DecisionTreeRegressor,…} @155\u001b[39m\u001b[22m, \n",
       "            \u001b[34mSource @454\u001b[39m),\n",
       "        predict(\n",
       "            \u001b[0m\u001b[1m\u001b[34mMachine{DecisionTreeRegressor,…} @957\u001b[39m\u001b[22m, \n",
       "            \u001b[34mSource @454\u001b[39m),\n",
       "        predict(\n",
       "            \u001b[0m\u001b[1m\u001b[34mMachine{DecisionTreeRegressor,…} @123\u001b[39m\u001b[22m, \n",
       "            \u001b[34mSource @454\u001b[39m),\n",
       "        predict(\n",
       "            \u001b[0m\u001b[1m\u001b[34mMachine{DecisionTreeRegressor,…} @658\u001b[39m\u001b[22m, \n",
       "            \u001b[34mSource @454\u001b[39m),\n",
       "        predict(\n",
       "            \u001b[0m\u001b[1m\u001b[34mMachine{DecisionTreeRegressor,…} @079\u001b[39m\u001b[22m, \n",
       "            \u001b[34mSource @454\u001b[39m),\n",
       "        predict(\n",
       "            \u001b[0m\u001b[1m\u001b[34mMachine{DecisionTreeRegressor,…} @960\u001b[39m\u001b[22m, \n",
       "            \u001b[34mSource @454\u001b[39m),\n",
       "        predict(\n",
       "            \u001b[0m\u001b[1m\u001b[34mMachine{DecisionTreeRegressor,…} @592\u001b[39m\u001b[22m, \n",
       "            \u001b[34mSource @454\u001b[39m),\n",
       "        predict(\n",
       "            \u001b[0m\u001b[1m\u001b[34mMachine{DecisionTreeRegressor,…} @841\u001b[39m\u001b[22m, \n",
       "            \u001b[34mSource @454\u001b[39m),\n",
       "        predict(\n",
       "            \u001b[0m\u001b[1m\u001b[34mMachine{DecisionTreeRegressor,…} @574\u001b[39m\u001b[22m, \n",
       "            \u001b[34mSource @454\u001b[39m),\n",
       "        predict(\n",
       "            \u001b[0m\u001b[1m\u001b[34mMachine{DecisionTreeRegressor,…} @611\u001b[39m\u001b[22m, \n",
       "            \u001b[34mSource @454\u001b[39m),\n",
       "        predict(\n",
       "            \u001b[0m\u001b[1m\u001b[34mMachine{DecisionTreeRegressor,…} @851\u001b[39m\u001b[22m, \n",
       "            \u001b[34mSource @454\u001b[39m),\n",
       "        predict(\n",
       "            \u001b[0m\u001b[1m\u001b[34mMachine{DecisionTreeRegressor,…} @809\u001b[39m\u001b[22m, \n",
       "            \u001b[34mSource @454\u001b[39m),\n",
       "        predict(\n",
       "            \u001b[0m\u001b[1m\u001b[34mMachine{DecisionTreeRegressor,…} @986\u001b[39m\u001b[22m, \n",
       "            \u001b[34mSource @454\u001b[39m),\n",
       "        predict(\n",
       "            \u001b[0m\u001b[1m\u001b[34mMachine{DecisionTreeRegressor,…} @012\u001b[39m\u001b[22m, \n",
       "            \u001b[34mSource @454\u001b[39m),\n",
       "        predict(\n",
       "            \u001b[0m\u001b[1m\u001b[34mMachine{DecisionTreeRegressor,…} @377\u001b[39m\u001b[22m, \n",
       "            \u001b[34mSource @454\u001b[39m),\n",
       "        predict(\n",
       "            \u001b[0m\u001b[1m\u001b[34mMachine{DecisionTreeRegressor,…} @979\u001b[39m\u001b[22m, \n",
       "            \u001b[34mSource @454\u001b[39m),\n",
       "        predict(\n",
       "            \u001b[0m\u001b[1m\u001b[34mMachine{DecisionTreeRegressor,…} @041\u001b[39m\u001b[22m, \n",
       "            \u001b[34mSource @454\u001b[39m),\n",
       "        predict(\n",
       "            \u001b[0m\u001b[1m\u001b[34mMachine{DecisionTreeRegressor,…} @081\u001b[39m\u001b[22m, \n",
       "            \u001b[34mSource @454\u001b[39m),\n",
       "        predict(\n",
       "            \u001b[0m\u001b[1m\u001b[34mMachine{DecisionTreeRegressor,…} @934\u001b[39m\u001b[22m, \n",
       "            \u001b[34mSource @454\u001b[39m),\n",
       "        predict(\n",
       "            \u001b[0m\u001b[1m\u001b[34mMachine{DecisionTreeRegressor,…} @794\u001b[39m\u001b[22m, \n",
       "            \u001b[34mSource @454\u001b[39m),\n",
       "        predict(\n",
       "            \u001b[0m\u001b[1m\u001b[34mMachine{DecisionTreeRegressor,…} @776\u001b[39m\u001b[22m, \n",
       "            \u001b[34mSource @454\u001b[39m),\n",
       "        predict(\n",
       "            \u001b[0m\u001b[1m\u001b[34mMachine{DecisionTreeRegressor,…} @378\u001b[39m\u001b[22m, \n",
       "            \u001b[34mSource @454\u001b[39m),\n",
       "        predict(\n",
       "            \u001b[0m\u001b[1m\u001b[34mMachine{DecisionTreeRegressor,…} @558\u001b[39m\u001b[22m, \n",
       "            \u001b[34mSource @454\u001b[39m),\n",
       "        predict(\n",
       "            \u001b[0m\u001b[1m\u001b[34mMachine{DecisionTreeRegressor,…} @334\u001b[39m\u001b[22m, \n",
       "            \u001b[34mSource @454\u001b[39m),\n",
       "        predict(\n",
       "            \u001b[0m\u001b[1m\u001b[34mMachine{DecisionTreeRegressor,…} @305\u001b[39m\u001b[22m, \n",
       "            \u001b[34mSource @454\u001b[39m),\n",
       "        predict(\n",
       "            \u001b[0m\u001b[1m\u001b[34mMachine{DecisionTreeRegressor,…} @494\u001b[39m\u001b[22m, \n",
       "            \u001b[34mSource @454\u001b[39m),\n",
       "        predict(\n",
       "            \u001b[0m\u001b[1m\u001b[34mMachine{DecisionTreeRegressor,…} @814\u001b[39m\u001b[22m, \n",
       "            \u001b[34mSource @454\u001b[39m),\n",
       "        predict(\n",
       "            \u001b[0m\u001b[1m\u001b[34mMachine{DecisionTreeRegressor,…} @075\u001b[39m\u001b[22m, \n",
       "            \u001b[34mSource @454\u001b[39m),\n",
       "        predict(\n",
       "            \u001b[0m\u001b[1m\u001b[34mMachine{DecisionTreeRegressor,…} @070\u001b[39m\u001b[22m, \n",
       "            \u001b[34mSource @454\u001b[39m),\n",
       "        predict(\n",
       "            \u001b[0m\u001b[1m\u001b[34mMachine{DecisionTreeRegressor,…} @387\u001b[39m\u001b[22m, \n",
       "            \u001b[34mSource @454\u001b[39m),\n",
       "        predict(\n",
       "            \u001b[0m\u001b[1m\u001b[34mMachine{DecisionTreeRegressor,…} @643\u001b[39m\u001b[22m, \n",
       "            \u001b[34mSource @454\u001b[39m),\n",
       "        predict(\n",
       "            \u001b[0m\u001b[1m\u001b[34mMachine{DecisionTreeRegressor,…} @681\u001b[39m\u001b[22m, \n",
       "            \u001b[34mSource @454\u001b[39m),\n",
       "        predict(\n",
       "            \u001b[0m\u001b[1m\u001b[34mMachine{DecisionTreeRegressor,…} @282\u001b[39m\u001b[22m, \n",
       "            \u001b[34mSource @454\u001b[39m),\n",
       "        predict(\n",
       "            \u001b[0m\u001b[1m\u001b[34mMachine{DecisionTreeRegressor,…} @167\u001b[39m\u001b[22m, \n",
       "            \u001b[34mSource @454\u001b[39m),\n",
       "        predict(\n",
       "            \u001b[0m\u001b[1m\u001b[34mMachine{DecisionTreeRegressor,…} @786\u001b[39m\u001b[22m, \n",
       "            \u001b[34mSource @454\u001b[39m),\n",
       "        predict(\n",
       "            \u001b[0m\u001b[1m\u001b[34mMachine{DecisionTreeRegressor,…} @057\u001b[39m\u001b[22m, \n",
       "            \u001b[34mSource @454\u001b[39m),\n",
       "        predict(\n",
       "            \u001b[0m\u001b[1m\u001b[34mMachine{DecisionTreeRegressor,…} @206\u001b[39m\u001b[22m, \n",
       "            \u001b[34mSource @454\u001b[39m),\n",
       "        predict(\n",
       "            \u001b[0m\u001b[1m\u001b[34mMachine{DecisionTreeRegressor,…} @252\u001b[39m\u001b[22m, \n",
       "            \u001b[34mSource @454\u001b[39m),\n",
       "        predict(\n",
       "            \u001b[0m\u001b[1m\u001b[34mMachine{DecisionTreeRegressor,…} @437\u001b[39m\u001b[22m, \n",
       "            \u001b[34mSource @454\u001b[39m),\n",
       "        predict(\n",
       "            \u001b[0m\u001b[1m\u001b[34mMachine{DecisionTreeRegressor,…} @158\u001b[39m\u001b[22m, \n",
       "            \u001b[34mSource @454\u001b[39m),\n",
       "        predict(\n",
       "            \u001b[0m\u001b[1m\u001b[34mMachine{DecisionTreeRegressor,…} @990\u001b[39m\u001b[22m, \n",
       "            \u001b[34mSource @454\u001b[39m),\n",
       "        predict(\n",
       "            \u001b[0m\u001b[1m\u001b[34mMachine{DecisionTreeRegressor,…} @851\u001b[39m\u001b[22m, \n",
       "            \u001b[34mSource @454\u001b[39m),\n",
       "        predict(\n",
       "            \u001b[0m\u001b[1m\u001b[34mMachine{DecisionTreeRegressor,…} @105\u001b[39m\u001b[22m, \n",
       "            \u001b[34mSource @454\u001b[39m),\n",
       "        predict(\n",
       "            \u001b[0m\u001b[1m\u001b[34mMachine{DecisionTreeRegressor,…} @985\u001b[39m\u001b[22m, \n",
       "            \u001b[34mSource @454\u001b[39m),\n",
       "        predict(\n",
       "            \u001b[0m\u001b[1m\u001b[34mMachine{DecisionTreeRegressor,…} @384\u001b[39m\u001b[22m, \n",
       "            \u001b[34mSource @454\u001b[39m),\n",
       "        predict(\n",
       "            \u001b[0m\u001b[1m\u001b[34mMachine{DecisionTreeRegressor,…} @405\u001b[39m\u001b[22m, \n",
       "            \u001b[34mSource @454\u001b[39m),\n",
       "        predict(\n",
       "            \u001b[0m\u001b[1m\u001b[34mMachine{DecisionTreeRegressor,…} @611\u001b[39m\u001b[22m, \n",
       "            \u001b[34mSource @454\u001b[39m),\n",
       "        predict(\n",
       "            \u001b[0m\u001b[1m\u001b[34mMachine{DecisionTreeRegressor,…} @362\u001b[39m\u001b[22m, \n",
       "            \u001b[34mSource @454\u001b[39m),\n",
       "        predict(\n",
       "            \u001b[0m\u001b[1m\u001b[34mMachine{DecisionTreeRegressor,…} @562\u001b[39m\u001b[22m, \n",
       "            \u001b[34mSource @454\u001b[39m),\n",
       "        predict(\n",
       "            \u001b[0m\u001b[1m\u001b[34mMachine{DecisionTreeRegressor,…} @291\u001b[39m\u001b[22m, \n",
       "            \u001b[34mSource @454\u001b[39m),\n",
       "        predict(\n",
       "            \u001b[0m\u001b[1m\u001b[34mMachine{DecisionTreeRegressor,…} @246\u001b[39m\u001b[22m, \n",
       "            \u001b[34mSource @454\u001b[39m),\n",
       "        predict(\n",
       "            \u001b[0m\u001b[1m\u001b[34mMachine{DecisionTreeRegressor,…} @519\u001b[39m\u001b[22m, \n",
       "            \u001b[34mSource @454\u001b[39m),\n",
       "        predict(\n",
       "            \u001b[0m\u001b[1m\u001b[34mMachine{DecisionTreeRegressor,…} @211\u001b[39m\u001b[22m, \n",
       "            \u001b[34mSource @454\u001b[39m),\n",
       "        predict(\n",
       "            \u001b[0m\u001b[1m\u001b[34mMachine{DecisionTreeRegressor,…} @528\u001b[39m\u001b[22m, \n",
       "            \u001b[34mSource @454\u001b[39m))"
      ]
     },
     "execution_count": 116,
     "metadata": {},
     "output_type": "execute_result"
    }
   ],
   "source": [
    "Statistics.mean(v...) = mean(v)\n",
    "Statistics.mean(v::AbstractVector{<:AbstractNode}) = node(mean, v...)\n",
    "\n",
    "yhat = mean([predict(m, Xs) for  m in machines])"
   ]
  },
  {
   "cell_type": "code",
   "execution_count": 132,
   "metadata": {},
   "outputs": [
    {
     "data": {
      "text/plain": [
       "OneHundredModels(\n",
       "    atom = DecisionTreeRegressor(\n",
       "            max_depth = -1,\n",
       "            min_samples_leaf = 5,\n",
       "            min_samples_split = 2,\n",
       "            min_purity_increase = 0.0,\n",
       "            n_subfeatures = 4,\n",
       "            post_prune = false,\n",
       "            merge_purity_threshold = 1.0))\u001b[34m @422\u001b[39m"
      ]
     },
     "execution_count": 132,
     "metadata": {},
     "output_type": "execute_result"
    }
   ],
   "source": [
    "surrogate = Deterministic()\n",
    "mach = machine(surrogate, Xs, ys; predict=yhat)\n",
    "\n",
    "@from_network mach begin\n",
    "    mutable struct OneHundredModels\n",
    "        atom=atom\n",
    "    end\n",
    "end\n",
    "\n",
    "one_hundred_models = OneHundredModels()"
   ]
  },
  {
   "cell_type": "code",
   "execution_count": null,
   "metadata": {},
   "outputs": [],
   "source": []
  },
  {
   "cell_type": "markdown",
   "metadata": {},
   "source": [
    "## Application to data"
   ]
  },
  {
   "cell_type": "code",
   "execution_count": 118,
   "metadata": {},
   "outputs": [],
   "source": [
    "X, y = @load_boston;"
   ]
  },
  {
   "cell_type": "code",
   "execution_count": 133,
   "metadata": {},
   "outputs": [
    {
     "data": {
      "image/png": "[encoded data removed]",
      "text/plain": [
       "Figure(PyObject <Figure size 640x480 with 1 Axes>)"
      ]
     },
     "metadata": {},
     "output_type": "display_data"
    },
    {
     "data": {
      "text/plain": [
       "PyObject Text(0.5, 24.140625, 'min_samples_split')"
      ]
     },
     "execution_count": 133,
     "metadata": {},
     "output_type": "execute_result"
    }
   ],
   "source": [
    "r = range(atom,\n",
    "          :min_samples_split,\n",
    "          lower=2,\n",
    "          upper=100, scale=:log)\n",
    "\n",
    "mach = machine(atom, X, y)\n",
    "\n",
    "curve = learning_curve!(mach,\n",
    "                        range=r,\n",
    "                        measure=mav,\n",
    "                        resampling=CV(nfolds=9),\n",
    "                        verbosity=0)\n",
    "\n",
    "plot(curve.parameter_values, curve.measurements)\n",
    "xlabel(curve.parameter_name)"
   ]
  },
  {
   "cell_type": "code",
   "execution_count": 135,
   "metadata": {},
   "outputs": [
    {
     "data": {
      "image/png": "[encoded data removed]",
      "text/plain": [
       "Figure(PyObject <Figure size 640x480 with 1 Axes>)"
      ]
     },
     "metadata": {},
     "output_type": "display_data"
    },
    {
     "data": {
      "text/plain": [
       "PyObject Text(0.5, 24.140625, 'atom.min_samples_split')"
      ]
     },
     "execution_count": 135,
     "metadata": {},
     "output_type": "execute_result"
    }
   ],
   "source": [
    "r = range(one_hundred_models,\n",
    "          :(atom.min_samples_split),\n",
    "          lower=2,\n",
    "          upper=100, scale=:log)\n",
    "\n",
    "mach = machine(one_hundred_models, X, y)\n",
    "\n",
    "curve = learning_curve!(mach,\n",
    "                        range=r,\n",
    "                        measure=mav,\n",
    "                        resampling=CV(nfolds=9),\n",
    "                        verbosity=0)\n",
    "\n",
    "plot(curve.parameter_values, curve.measurements)\n",
    "xlabel(curve.parameter_name)"
   ]
  },
  {
   "cell_type": "code",
   "execution_count": null,
   "metadata": {},
   "outputs": [],
   "source": []
  },
  {
   "cell_type": "code",
   "execution_count": null,
   "metadata": {},
   "outputs": [],
   "source": []
  }
 ],
 "metadata": {
  "kernelspec": {
   "display_name": "Julia 1.6.1",
   "language": "julia",
   "name": "julia-1.6"
  },
  "language_info": {
   "file_extension": ".jl",
   "mimetype": "application/julia",
   "name": "julia",
   "version": "1.6.1"
  }
 },
 "nbformat": 4,
 "nbformat_minor": 4
}
