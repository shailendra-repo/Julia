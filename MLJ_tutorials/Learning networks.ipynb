{
 "cells": [
  {
   "cell_type": "markdown",
   "metadata": {},
   "source": [
    "# Learning networks"
   ]
  },
  {
   "cell_type": "code",
   "execution_count": 1,
   "metadata": {},
   "outputs": [
    {
     "name": "stderr",
     "output_type": "stream",
     "text": [
      "┌ Info: For silent loading, specify `verbosity=0`. \n",
      "└ @ Main /home/sandhya/.julia/packages/MLJModels/E8BbE/src/loading.jl:168\n"
     ]
    },
    {
     "name": "stdout",
     "output_type": "stream",
     "text": [
      "import MLJMultivariateStatsInterface"
     ]
    },
    {
     "name": "stderr",
     "output_type": "stream",
     "text": [
      "┌ Info: Precompiling MLJMultivariateStatsInterface [1b6a4a23-ba22-4f51-9698-8599985d3728]\n",
      "└ @ Base loading.jl:1317\n"
     ]
    },
    {
     "name": "stdout",
     "output_type": "stream",
     "text": [
      " ✔\n"
     ]
    },
    {
     "data": {
      "text/plain": [
       "MLJMultivariateStatsInterface.RidgeRegressor"
      ]
     },
     "execution_count": 1,
     "metadata": {},
     "output_type": "execute_result"
    }
   ],
   "source": [
    "using MLJ, StableRNGs\n",
    "import DataFrames\n",
    "@load RidgeRegressor pkg=MultivariateStats"
   ]
  },
  {
   "cell_type": "code",
   "execution_count": 2,
   "metadata": {},
   "outputs": [
    {
     "name": "stdout",
     "output_type": "stream",
     "text": [
      "┌────────────┬────────────┬────────────┐\n",
      "│\u001b[1m x1         \u001b[0m│\u001b[1m x2         \u001b[0m│\u001b[1m x3         \u001b[0m│\n",
      "│\u001b[90m Float64    \u001b[0m│\u001b[90m Float64    \u001b[0m│\u001b[90m Float64    \u001b[0m│\n",
      "│\u001b[90m Continuous \u001b[0m│\u001b[90m Continuous \u001b[0m│\u001b[90m Continuous \u001b[0m│\n",
      "├────────────┼────────────┼────────────┤\n",
      "│ 0.984002   │ 0.771482   │ 0.232099   │\n",
      "│ 0.891795   │ 0.747399   │ 0.770914   │\n",
      "│ 0.806395   │ 0.0182751  │ 0.0721645  │\n",
      "└────────────┴────────────┴────────────┘\n"
     ]
    }
   ],
   "source": [
    "rng = StableRNG(551234) # for reproducibility\n",
    "\n",
    "x1 = rand(rng, 300)\n",
    "x2 = rand(rng, 300)\n",
    "x3 = rand(rng, 300)\n",
    "y = exp.(x1 - x2 -2x3 + 0.1*rand(rng, 300))\n",
    "\n",
    "X = DataFrames.DataFrame(x1=x1, x2=x2, x3=x3)\n",
    "first(X, 3) |> pretty"
   ]
  },
  {
   "cell_type": "code",
   "execution_count": 3,
   "metadata": {},
   "outputs": [],
   "source": [
    "test, train = partition(eachindex(y), 0.8);"
   ]
  },
  {
   "cell_type": "markdown",
   "metadata": {},
   "source": [
    "## Defining a learning network\n",
    "In MLJ, a learning network is a directed acyclic graph (DAG) whose nodes apply trained or untrained operations such as a predict or transform (trained) or +, vcat etc. (untrained). Learning networks can be seen as pipelines on steroids.\n",
    "\n",
    "Let's consider the following simple DAG:\n",
    "\n",
    "Operation DAG\n",
    "\n",
    "It corresponds to a fairly standard regression workflow: the data is standardized, the target is transformed using a Box-Cox transformation, a ridge regression is applied and the result is converted back by inverting the transform.\n",
    "\n",
    "Note: actually this DAG is simple enough that it could also have been done with a pipeline."
   ]
  },
  {
   "cell_type": "code",
   "execution_count": 4,
   "metadata": {},
   "outputs": [
    {
     "data": {
      "text/plain": [
       "\u001b[34mSource @982\u001b[39m ⏎ `AbstractVector{Continuous}`"
      ]
     },
     "execution_count": 4,
     "metadata": {},
     "output_type": "execute_result"
    }
   ],
   "source": [
    "Xs = source(X)\n",
    "ys = source(y)"
   ]
  },
  {
   "cell_type": "code",
   "execution_count": 5,
   "metadata": {},
   "outputs": [
    {
     "data": {
      "text/plain": [
       "\u001b[34mNode{Machine{Standardizer,…}} @520\u001b[39m\n",
       "  args:\n",
       "    1:\t\u001b[34mSource @348\u001b[39m\n",
       "  formula:\n",
       "    transform(\n",
       "        \u001b[0m\u001b[1m\u001b[34mMachine{Standardizer,…} @643\u001b[39m\u001b[22m, \n",
       "        \u001b[34mSource @348\u001b[39m)"
      ]
     },
     "execution_count": 5,
     "metadata": {},
     "output_type": "execute_result"
    }
   ],
   "source": [
    "stand = machine(Standardizer(), Xs)\n",
    "W = transform(stand, Xs)"
   ]
  },
  {
   "cell_type": "code",
   "execution_count": 6,
   "metadata": {},
   "outputs": [
    {
     "name": "stderr",
     "output_type": "stream",
     "text": [
      "┌ Info: Training \u001b[34mMachine{Standardizer,…} @643\u001b[39m.\n",
      "└ @ MLJBase /home/sandhya/.julia/packages/MLJBase/pCCd7/src/machines.jl:342\n"
     ]
    }
   ],
   "source": [
    "fit!(W, rows=train);"
   ]
  },
  {
   "cell_type": "code",
   "execution_count": 7,
   "metadata": {},
   "outputs": [
    {
     "data": {
      "text/html": [
       "<table class=\"data-frame\"><thead><tr><th></th><th>x1</th><th>x2</th><th>x3</th></tr><tr><th></th><th>Float64</th><th>Float64</th><th>Float64</th></tr></thead><tbody><p>2 rows × 3 columns</p><tr><th>1</th><td>0.856967</td><td>-1.59115</td><td>-1.48215</td></tr><tr><th>2</th><td>-1.06436</td><td>-1.5056</td><td>-0.234452</td></tr></tbody></table>"
      ],
      "text/latex": [
       "\\begin{tabular}{r|ccc}\n",
       "\t& x1 & x2 & x3\\\\\n",
       "\t\\hline\n",
       "\t& Float64 & Float64 & Float64\\\\\n",
       "\t\\hline\n",
       "\t1 & 0.856967 & -1.59115 & -1.48215 \\\\\n",
       "\t2 & -1.06436 & -1.5056 & -0.234452 \\\\\n",
       "\\end{tabular}\n"
      ],
      "text/plain": [
       "\u001b[1m2×3 DataFrame\u001b[0m\n",
       "\u001b[1m Row \u001b[0m│\u001b[1m x1        \u001b[0m\u001b[1m x2       \u001b[0m\u001b[1m x3        \u001b[0m\n",
       "\u001b[1m     \u001b[0m│\u001b[90m Float64   \u001b[0m\u001b[90m Float64  \u001b[0m\u001b[90m Float64   \u001b[0m\n",
       "─────┼────────────────────────────────\n",
       "   1 │  0.856967  -1.59115  -1.48215\n",
       "   2 │ -1.06436   -1.5056   -0.234452"
      ]
     },
     "execution_count": 7,
     "metadata": {},
     "output_type": "execute_result"
    }
   ],
   "source": [
    "W()             # transforms all data\n",
    "W(rows=test, )  # transforms only test data\n",
    "W(X[3:4, :])    # transforms specific data"
   ]
  },
  {
   "cell_type": "code",
   "execution_count": null,
   "metadata": {},
   "outputs": [],
   "source": []
  },
  {
   "cell_type": "code",
   "execution_count": 16,
   "metadata": {},
   "outputs": [
    {
     "data": {
      "text/plain": [
       "\u001b[34mNode{Machine{UnivariateBoxCoxTransformer,…}} @876\u001b[39m\n",
       "  args:\n",
       "    1:\t\u001b[34mNode{Machine{RidgeRegressor,…}} @426\u001b[39m\n",
       "  formula:\n",
       "    inverse_transform(\n",
       "        \u001b[0m\u001b[1m\u001b[34mMachine{UnivariateBoxCoxTransformer,…} @332\u001b[39m\u001b[22m, \n",
       "        predict(\n",
       "            \u001b[0m\u001b[1m\u001b[34mMachine{RidgeRegressor,…} @589\u001b[39m\u001b[22m, \n",
       "            transform(\n",
       "                \u001b[0m\u001b[1m\u001b[34mMachine{Standardizer,…} @643\u001b[39m\u001b[22m, \n",
       "                \u001b[34mSource @348\u001b[39m)))"
      ]
     },
     "execution_count": 16,
     "metadata": {},
     "output_type": "execute_result"
    }
   ],
   "source": [
    "box_model = UnivariateBoxCoxTransformer()\n",
    "box = machine(box_model, ys)\n",
    "z = transform(box, ys)\n",
    "\n",
    "ridge_model = MLJMultivariateStatsInterface.RidgeRegressor(lambda=0.1)\n",
    "ridge = machine(ridge_model, W, z)\n",
    "ẑ = MLJ.predict(ridge, W)\n",
    "\n",
    "ŷ = inverse_transform(box, ẑ)"
   ]
  },
  {
   "cell_type": "code",
   "execution_count": 14,
   "metadata": {},
   "outputs": [
    {
     "data": {
      "text/plain": [
       "\"MLJMultivariateStatsInterface.RidgeRegressor\""
      ]
     },
     "execution_count": 14,
     "metadata": {},
     "output_type": "execute_result"
    }
   ],
   "source": [
    "info(\"RidgeRegressor\", pkg=\"MultivariateStats\").load_path"
   ]
  },
  {
   "cell_type": "code",
   "execution_count": 17,
   "metadata": {},
   "outputs": [
    {
     "name": "stderr",
     "output_type": "stream",
     "text": [
      "┌ Info: Training \u001b[34mMachine{UnivariateBoxCoxTransformer,…} @332\u001b[39m.\n",
      "└ @ MLJBase /home/sandhya/.julia/packages/MLJBase/pCCd7/src/machines.jl:342\n",
      "┌ Info: Not retraining \u001b[34mMachine{Standardizer,…} @643\u001b[39m. Use `force=true` to force.\n",
      "└ @ MLJBase /home/sandhya/.julia/packages/MLJBase/pCCd7/src/machines.jl:345\n",
      "┌ Info: Training \u001b[34mMachine{RidgeRegressor,…} @589\u001b[39m.\n",
      "└ @ MLJBase /home/sandhya/.julia/packages/MLJBase/pCCd7/src/machines.jl:342\n"
     ]
    }
   ],
   "source": [
    "MLJ.fit!(ŷ, rows=train);"
   ]
  },
  {
   "cell_type": "code",
   "execution_count": 18,
   "metadata": {},
   "outputs": [
    {
     "data": {
      "text/plain": [
       "0.033604963634078514"
      ]
     },
     "execution_count": 18,
     "metadata": {},
     "output_type": "execute_result"
    }
   ],
   "source": [
    "rms(y[test], ŷ(rows=test))"
   ]
  },
  {
   "cell_type": "code",
   "execution_count": null,
   "metadata": {},
   "outputs": [],
   "source": []
  },
  {
   "cell_type": "markdown",
   "metadata": {},
   "source": [
    "## Modifying hyperparameters"
   ]
  },
  {
   "cell_type": "code",
   "execution_count": 19,
   "metadata": {},
   "outputs": [],
   "source": [
    "ridge_model.lambda = 5.0;"
   ]
  },
  {
   "cell_type": "code",
   "execution_count": 20,
   "metadata": {},
   "outputs": [
    {
     "name": "stderr",
     "output_type": "stream",
     "text": [
      "┌ Info: Not retraining \u001b[34mMachine{UnivariateBoxCoxTransformer,…} @332\u001b[39m. Use `force=true` to force.\n",
      "└ @ MLJBase /home/sandhya/.julia/packages/MLJBase/pCCd7/src/machines.jl:345\n",
      "┌ Info: Not retraining \u001b[34mMachine{Standardizer,…} @643\u001b[39m. Use `force=true` to force.\n",
      "└ @ MLJBase /home/sandhya/.julia/packages/MLJBase/pCCd7/src/machines.jl:345\n",
      "┌ Info: Updating \u001b[34mMachine{RidgeRegressor,…} @589\u001b[39m.\n",
      "└ @ MLJBase /home/sandhya/.julia/packages/MLJBase/pCCd7/src/machines.jl:343\n"
     ]
    },
    {
     "data": {
      "text/plain": [
       "0.03834272597361202"
      ]
     },
     "execution_count": 20,
     "metadata": {},
     "output_type": "execute_result"
    }
   ],
   "source": [
    "MLJ.fit!(ŷ, rows=train)\n",
    "rms(y[test], ŷ(rows=test))"
   ]
  },
  {
   "cell_type": "code",
   "execution_count": null,
   "metadata": {},
   "outputs": [],
   "source": []
  },
  {
   "cell_type": "markdown",
   "metadata": {},
   "source": [
    "## \"Arrow\" syntax"
   ]
  },
  {
   "cell_type": "code",
   "execution_count": 21,
   "metadata": {},
   "outputs": [
    {
     "data": {
      "text/plain": [
       "\u001b[34mNode{Machine{UnivariateBoxCoxTransformer,…}} @388\u001b[39m\n",
       "  args:\n",
       "    1:\t\u001b[34mSource @986\u001b[39m\n",
       "  formula:\n",
       "    transform(\n",
       "        \u001b[0m\u001b[1m\u001b[34mMachine{UnivariateBoxCoxTransformer,…} @457\u001b[39m\u001b[22m, \n",
       "        \u001b[34mSource @986\u001b[39m)"
      ]
     },
     "execution_count": 21,
     "metadata": {},
     "output_type": "execute_result"
    }
   ],
   "source": [
    "W = X |> Standardizer()\n",
    "z = y |> UnivariateBoxCoxTransformer()"
   ]
  },
  {
   "cell_type": "code",
   "execution_count": 24,
   "metadata": {},
   "outputs": [],
   "source": [
    "ẑ = (W, z) |> MLJMultivariateStatsInterface.RidgeRegressor(lambda=0.1);"
   ]
  },
  {
   "cell_type": "code",
   "execution_count": 25,
   "metadata": {},
   "outputs": [],
   "source": [
    "ŷ = ẑ |> inverse_transform(z);"
   ]
  },
  {
   "cell_type": "code",
   "execution_count": 28,
   "metadata": {},
   "outputs": [
    {
     "name": "stderr",
     "output_type": "stream",
     "text": [
      "┌ Info: Training \u001b[34mMachine{UnivariateBoxCoxTransformer,…} @457\u001b[39m.\n",
      "└ @ MLJBase /home/sandhya/.julia/packages/MLJBase/pCCd7/src/machines.jl:342\n",
      "┌ Info: Training \u001b[34mMachine{Standardizer,…} @529\u001b[39m.\n",
      "└ @ MLJBase /home/sandhya/.julia/packages/MLJBase/pCCd7/src/machines.jl:342\n",
      "┌ Info: Training \u001b[34mMachine{RidgeRegressor,…} @409\u001b[39m.\n",
      "└ @ MLJBase /home/sandhya/.julia/packages/MLJBase/pCCd7/src/machines.jl:342\n"
     ]
    },
    {
     "data": {
      "text/plain": [
       "0.033604963634078514"
      ]
     },
     "execution_count": 28,
     "metadata": {},
     "output_type": "execute_result"
    }
   ],
   "source": [
    "MLJ.fit!(ŷ, rows=train)\n",
    "rms(y[test], ŷ(rows=test))"
   ]
  },
  {
   "cell_type": "code",
   "execution_count": 29,
   "metadata": {},
   "outputs": [],
   "source": [
    "ẑ[:lambda] = 5.0;"
   ]
  },
  {
   "cell_type": "code",
   "execution_count": 30,
   "metadata": {},
   "outputs": [],
   "source": [
    "ẑ.machine.model.lambda = 5.0;"
   ]
  },
  {
   "cell_type": "code",
   "execution_count": 31,
   "metadata": {},
   "outputs": [
    {
     "name": "stderr",
     "output_type": "stream",
     "text": [
      "┌ Info: Not retraining \u001b[34mMachine{UnivariateBoxCoxTransformer,…} @457\u001b[39m. Use `force=true` to force.\n",
      "└ @ MLJBase /home/sandhya/.julia/packages/MLJBase/pCCd7/src/machines.jl:345\n",
      "┌ Info: Not retraining \u001b[34mMachine{Standardizer,…} @529\u001b[39m. Use `force=true` to force.\n",
      "└ @ MLJBase /home/sandhya/.julia/packages/MLJBase/pCCd7/src/machines.jl:345\n",
      "┌ Info: Updating \u001b[34mMachine{RidgeRegressor,…} @409\u001b[39m.\n",
      "└ @ MLJBase /home/sandhya/.julia/packages/MLJBase/pCCd7/src/machines.jl:343\n"
     ]
    },
    {
     "data": {
      "text/plain": [
       "0.03834272597361202"
      ]
     },
     "execution_count": 31,
     "metadata": {},
     "output_type": "execute_result"
    }
   ],
   "source": [
    "MLJ.fit!(ŷ, rows=train)\n",
    "rms(y[test], ŷ(rows=test))"
   ]
  },
  {
   "cell_type": "code",
   "execution_count": null,
   "metadata": {},
   "outputs": [],
   "source": []
  },
  {
   "cell_type": "markdown",
   "metadata": {},
   "source": [
    "# Learning networks 2"
   ]
  },
  {
   "cell_type": "code",
   "execution_count": 1,
   "metadata": {},
   "outputs": [],
   "source": [
    "using MLJ\n",
    "using StableRNGs\n",
    "import DataFrames\n"
   ]
  },
  {
   "cell_type": "code",
   "execution_count": 2,
   "metadata": {},
   "outputs": [
    {
     "name": "stderr",
     "output_type": "stream",
     "text": [
      "┌ Info: For silent loading, specify `verbosity=0`. \n",
      "└ @ Main /home/sandhya/.julia/packages/MLJModels/E8BbE/src/loading.jl:168\n"
     ]
    },
    {
     "name": "stdout",
     "output_type": "stream",
     "text": [
      "import MLJMultivariateStatsInterface ✔\n"
     ]
    },
    {
     "data": {
      "text/plain": [
       "MLJMultivariateStatsInterface.RidgeRegressor"
      ]
     },
     "execution_count": 2,
     "metadata": {},
     "output_type": "execute_result"
    }
   ],
   "source": [
    "@load RidgeRegressor pkg=MultivariateStats"
   ]
  },
  {
   "cell_type": "code",
   "execution_count": 4,
   "metadata": {},
   "outputs": [],
   "source": [
    "rng = StableRNG(6616)\n",
    "x1 = rand(rng, 300)\n",
    "x2 = rand(rng, 300)\n",
    "x3 = rand(rng, 300)\n",
    "y = exp.(x1 - x2 -2x3 + 0.1*rand(rng, 300))\n",
    "X = DataFrames.DataFrame(x1=x1, x2=x2, x3=x3)\n",
    "\n",
    "test, train = partition(eachindex(y), 0.8);"
   ]
  },
  {
   "cell_type": "markdown",
   "metadata": {},
   "source": [
    "In this tutorial we will show how to generate a model from a network; there are two approaches:\n",
    "\n",
    "* using the @from_network macro\n",
    "* writing the model in full"
   ]
  },
  {
   "cell_type": "markdown",
   "metadata": {},
   "source": [
    "### Using the @from_network macro"
   ]
  },
  {
   "cell_type": "code",
   "execution_count": 5,
   "metadata": {},
   "outputs": [
    {
     "data": {
      "text/plain": [
       "\u001b[34mSource @049\u001b[39m ⏎ `AbstractVector{Continuous}`"
      ]
     },
     "execution_count": 5,
     "metadata": {},
     "output_type": "execute_result"
    }
   ],
   "source": [
    "Xs = source(X)\n",
    "ys = source(y)"
   ]
  },
  {
   "cell_type": "code",
   "execution_count": 8,
   "metadata": {},
   "outputs": [],
   "source": [
    "# First layer"
   ]
  },
  {
   "cell_type": "code",
   "execution_count": 6,
   "metadata": {},
   "outputs": [
    {
     "data": {
      "text/plain": [
       "\u001b[34mNode{Machine{Standardizer,…}} @347\u001b[39m\n",
       "  args:\n",
       "    1:\t\u001b[34mSource @124\u001b[39m\n",
       "  formula:\n",
       "    transform(\n",
       "        \u001b[0m\u001b[1m\u001b[34mMachine{Standardizer,…} @936\u001b[39m\u001b[22m, \n",
       "        \u001b[34mSource @124\u001b[39m)"
      ]
     },
     "execution_count": 6,
     "metadata": {},
     "output_type": "execute_result"
    }
   ],
   "source": [
    "std_model = Standardizer()\n",
    "stand = machine(std_model, Xs)\n",
    "W = MLJ.transform(stand, Xs)"
   ]
  },
  {
   "cell_type": "code",
   "execution_count": 7,
   "metadata": {},
   "outputs": [
    {
     "data": {
      "text/plain": [
       "\u001b[34mNode{Machine{UnivariateBoxCoxTransformer,…}} @801\u001b[39m\n",
       "  args:\n",
       "    1:\t\u001b[34mSource @049\u001b[39m\n",
       "  formula:\n",
       "    transform(\n",
       "        \u001b[0m\u001b[1m\u001b[34mMachine{UnivariateBoxCoxTransformer,…} @714\u001b[39m\u001b[22m, \n",
       "        \u001b[34mSource @049\u001b[39m)"
      ]
     },
     "execution_count": 7,
     "metadata": {},
     "output_type": "execute_result"
    }
   ],
   "source": [
    "box_model = UnivariateBoxCoxTransformer()\n",
    "box_mach = machine(box_model, ys)\n",
    "z = MLJ.transform(box_mach, ys)"
   ]
  },
  {
   "cell_type": "code",
   "execution_count": 9,
   "metadata": {},
   "outputs": [],
   "source": [
    "# Second Layer"
   ]
  },
  {
   "cell_type": "code",
   "execution_count": 13,
   "metadata": {},
   "outputs": [
    {
     "data": {
      "text/plain": [
       "\u001b[34mNode{Machine{RidgeRegressor,…}} @056\u001b[39m\n",
       "  args:\n",
       "    1:\t\u001b[34mNode{Machine{Standardizer,…}} @347\u001b[39m\n",
       "  formula:\n",
       "    predict(\n",
       "        \u001b[0m\u001b[1m\u001b[34mMachine{RidgeRegressor,…} @033\u001b[39m\u001b[22m, \n",
       "        transform(\n",
       "            \u001b[0m\u001b[1m\u001b[34mMachine{Standardizer,…} @936\u001b[39m\u001b[22m, \n",
       "            \u001b[34mSource @124\u001b[39m))"
      ]
     },
     "execution_count": 13,
     "metadata": {},
     "output_type": "execute_result"
    }
   ],
   "source": [
    "ridge_model = MLJMultivariateStatsInterface.RidgeRegressor(lambda=0.1)\n",
    "ridge = machine(ridge_model, W, z)\n",
    "z_pred = predict(ridge, W)"
   ]
  },
  {
   "cell_type": "code",
   "execution_count": 15,
   "metadata": {},
   "outputs": [
    {
     "data": {
      "text/plain": [
       "\u001b[34mNode{Machine{UnivariateBoxCoxTransformer,…}} @427\u001b[39m\n",
       "  args:\n",
       "    1:\t\u001b[34mNode{Machine{RidgeRegressor,…}} @056\u001b[39m\n",
       "  formula:\n",
       "    inverse_transform(\n",
       "        \u001b[0m\u001b[1m\u001b[34mMachine{UnivariateBoxCoxTransformer,…} @714\u001b[39m\u001b[22m, \n",
       "        predict(\n",
       "            \u001b[0m\u001b[1m\u001b[34mMachine{RidgeRegressor,…} @033\u001b[39m\u001b[22m, \n",
       "            transform(\n",
       "                \u001b[0m\u001b[1m\u001b[34mMachine{Standardizer,…} @936\u001b[39m\u001b[22m, \n",
       "                \u001b[34mSource @124\u001b[39m)))"
      ]
     },
     "execution_count": 15,
     "metadata": {},
     "output_type": "execute_result"
    }
   ],
   "source": [
    "y_pred = inverse_transform(box_mach, z_pred)"
   ]
  },
  {
   "cell_type": "code",
   "execution_count": 17,
   "metadata": {},
   "outputs": [
    {
     "name": "stderr",
     "output_type": "stream",
     "text": [
      "┌ Info: Training \u001b[34mMachine{UnivariateBoxCoxTransformer,…} @714\u001b[39m.\n",
      "└ @ MLJBase /home/sandhya/.julia/packages/MLJBase/pCCd7/src/machines.jl:342\n",
      "┌ Info: Training \u001b[34mMachine{Standardizer,…} @936\u001b[39m.\n",
      "└ @ MLJBase /home/sandhya/.julia/packages/MLJBase/pCCd7/src/machines.jl:342\n",
      "┌ Info: Training \u001b[34mMachine{RidgeRegressor,…} @033\u001b[39m.\n",
      "└ @ MLJBase /home/sandhya/.julia/packages/MLJBase/pCCd7/src/machines.jl:342\n"
     ]
    },
    {
     "data": {
      "text/plain": [
       "5-element Vector{Float64}:\n",
       " 0.22207406272038532\n",
       " 0.11459881408622064\n",
       " 0.5637023411242004\n",
       " 0.6208523052884072\n",
       " 0.36914116568152006"
      ]
     },
     "execution_count": 17,
     "metadata": {},
     "output_type": "execute_result"
    }
   ],
   "source": [
    "surrogate = Deterministic()\n",
    "mach = machine(surrogate, Xs, ys; predict=y_pred)\n",
    "\n",
    "fit!(mach)\n",
    "predict(mach, X[test[1:5], :])"
   ]
  },
  {
   "cell_type": "code",
   "execution_count": 19,
   "metadata": {},
   "outputs": [],
   "source": [
    "@from_network mach begin\n",
    "    mutable struct CompositeModel\n",
    "        regressor=ridge_model\n",
    "    end\n",
    "end"
   ]
  },
  {
   "cell_type": "code",
   "execution_count": 20,
   "metadata": {},
   "outputs": [
    {
     "data": {
      "text/plain": [
       "0.0136"
      ]
     },
     "execution_count": 20,
     "metadata": {},
     "output_type": "execute_result"
    }
   ],
   "source": [
    "cm = machine(CompositeModel(), X, y)\n",
    "res = evaluate!(cm, resampling=Holdout(fraction_train=0.8, rng=51),\n",
    "                measure=rms)\n",
    "round(res.measurement[1], sigdigits=3)"
   ]
  },
  {
   "cell_type": "code",
   "execution_count": null,
   "metadata": {},
   "outputs": [],
   "source": []
  },
  {
   "cell_type": "markdown",
   "metadata": {},
   "source": [
    "## Defining a model from scratch\n",
    "An alternative to the @from_network, is to fully define a new model with its fit method:"
   ]
  },
  {
   "cell_type": "code",
   "execution_count": 23,
   "metadata": {},
   "outputs": [
    {
     "data": {
      "text/plain": [
       "0.0212"
      ]
     },
     "execution_count": 23,
     "metadata": {},
     "output_type": "execute_result"
    }
   ],
   "source": [
    "mutable struct CompositeModel2 <: DeterministicNetwork\n",
    "    std_model::Standardizer\n",
    "    box_model::UnivariateBoxCoxTransformer\n",
    "    ridge_model::MLJMultivariateStatsInterface.RidgeRegressor\n",
    "end\n",
    "\n",
    "function MLJ.fit(m::CompositeModel2, verbosity::Int, X, y)\n",
    "    Xs = source(X)\n",
    "    ys = source(y)\n",
    "    W = MLJ.transform(machine(m.std_model, Xs), Xs)\n",
    "    box = machine(m.box_model, ys)\n",
    "    z = MLJ.transform(box, ys)\n",
    "    ẑ = predict(machine(m.ridge_model, W, z), W)\n",
    "    ŷ = inverse_transform(box, ẑ)\n",
    "    mach = machine(Deterministic(), Xs, ys; predict=ŷ)\n",
    "    fit!(mach, verbosity=verbosity - 1)\n",
    "    return mach()\n",
    "end\n",
    "\n",
    "mdl = CompositeModel2(Standardizer(), UnivariateBoxCoxTransformer(),\n",
    "                      MLJMultivariateStatsInterface.RidgeRegressor(lambda=0.1))\n",
    "cm = machine(mdl, X, y)\n",
    "res = evaluate!(cm, resampling=Holdout(fraction_train=0.8), measure=rms)\n",
    "round(res.measurement[1], sigdigits=3)"
   ]
  },
  {
   "cell_type": "code",
   "execution_count": null,
   "metadata": {},
   "outputs": [],
   "source": []
  }
 ],
 "metadata": {
  "kernelspec": {
   "display_name": "Julia 1.6.1",
   "language": "julia",
   "name": "julia-1.6"
  },
  "language_info": {
   "file_extension": ".jl",
   "mimetype": "application/julia",
   "name": "julia",
   "version": "1.6.1"
  }
 },
 "nbformat": 4,
 "nbformat_minor": 4
}
