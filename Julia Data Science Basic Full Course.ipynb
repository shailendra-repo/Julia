{
 "cells": [
  {
   "cell_type": "code",
   "execution_count": 1,
   "metadata": {},
   "outputs": [
    {
     "data": {
      "text/plain": [
       "7"
      ]
     },
     "execution_count": 1,
     "metadata": {},
     "output_type": "execute_result"
    }
   ],
   "source": [
    "5+2"
   ]
  },
  {
   "cell_type": "code",
   "execution_count": 1,
   "metadata": {},
   "outputs": [
    {
     "data": {
      "text/plain": [
       "\"Hello World\""
      ]
     },
     "execution_count": 1,
     "metadata": {},
     "output_type": "execute_result"
    }
   ],
   "source": [
    "\"Hello World\""
   ]
  },
  {
   "cell_type": "code",
   "execution_count": 2,
   "metadata": {},
   "outputs": [
    {
     "name": "stdout",
     "output_type": "stream",
     "text": [
      "Hello"
     ]
    }
   ],
   "source": [
    "print(\"Hello\")"
   ]
  },
  {
   "cell_type": "code",
   "execution_count": 3,
   "metadata": {},
   "outputs": [
    {
     "data": {
      "text/plain": [
       "12"
      ]
     },
     "execution_count": 3,
     "metadata": {},
     "output_type": "execute_result"
    }
   ],
   "source": [
    "7+5"
   ]
  },
  {
   "cell_type": "code",
   "execution_count": 4,
   "metadata": {},
   "outputs": [],
   "source": [
    "7+5;"
   ]
  },
  {
   "cell_type": "code",
   "execution_count": 1,
   "metadata": {},
   "outputs": [
    {
     "ename": "LoadError",
     "evalue": "UndefVarError: workspace not defined",
     "output_type": "error",
     "traceback": [
      "UndefVarError: workspace not defined",
      "",
      "Stacktrace:",
      " [1] top-level scope",
      "   @ In[1]:1",
      " [2] eval",
      "   @ ./boot.jl:360 [inlined]",
      " [3] include_string(mapexpr::typeof(REPL.softscope), mod::Module, code::String, filename::String)",
      "   @ Base ./loading.jl:1094"
     ]
    }
   ],
   "source": [
    "workspace()"
   ]
  },
  {
   "cell_type": "code",
   "execution_count": 2,
   "metadata": {},
   "outputs": [
    {
     "name": "stdout",
     "output_type": "stream",
     "text": [
      "search:  ] [ = $ ; ( { ) ? . } ⊻ ⊋ ⊊ ⊉ ⊈ ⊇ ⊆ ≥ ≤ ≢ ≡ ≠ ≉ ≈ ∪ ∩ ∛ √ ∘ ∌ ∋ ∉ ∈ ℯ π\n",
      "\n"
     ]
    },
    {
     "data": {
      "text/latex": [
       "\\textbf{Welcome to Julia 1.6.1.} The full manual is available at\n",
       "\n",
       "\\begin{verbatim}\n",
       "https://docs.julialang.org\n",
       "\\end{verbatim}\n",
       "as well as many great tutorials and learning resources:\n",
       "\n",
       "\\begin{verbatim}\n",
       "https://julialang.org/learning/\n",
       "\\end{verbatim}\n",
       "For help on a specific function or macro, type \\texttt{?} followed by its name, e.g. \\texttt{?cos}, or \\texttt{?@time}, and press enter. Type \\texttt{;} to enter shell mode, \\texttt{]} to enter package mode.\n",
       "\n"
      ],
      "text/markdown": [
       "**Welcome to Julia 1.6.1.** The full manual is available at\n",
       "\n",
       "```\n",
       "https://docs.julialang.org\n",
       "```\n",
       "\n",
       "as well as many great tutorials and learning resources:\n",
       "\n",
       "```\n",
       "https://julialang.org/learning/\n",
       "```\n",
       "\n",
       "For help on a specific function or macro, type `?` followed by its name, e.g. `?cos`, or `?@time`, and press enter. Type `;` to enter shell mode, `]` to enter package mode.\n"
      ],
      "text/plain": [
       "  \u001b[1mWelcome to Julia 1.6.1.\u001b[22m The full manual is available at\n",
       "\n",
       "\u001b[36m  https://docs.julialang.org\u001b[39m\n",
       "\n",
       "  as well as many great tutorials and learning resources:\n",
       "\n",
       "\u001b[36m  https://julialang.org/learning/\u001b[39m\n",
       "\n",
       "  For help on a specific function or macro, type \u001b[36m?\u001b[39m followed by its name, e.g.\n",
       "  \u001b[36m?cos\u001b[39m, or \u001b[36m?@time\u001b[39m, and press enter. Type \u001b[36m;\u001b[39m to enter shell mode, \u001b[36m]\u001b[39m to enter\n",
       "  package mode."
      ]
     },
     "execution_count": 2,
     "metadata": {},
     "output_type": "execute_result"
    }
   ],
   "source": [
    "?"
   ]
  },
  {
   "cell_type": "code",
   "execution_count": 4,
   "metadata": {
    "scrolled": true
   },
   "outputs": [
    {
     "name": "stdout",
     "output_type": "stream",
     "text": [
      "search: \u001b[0m\u001b[1ms\u001b[22m\u001b[0m\u001b[1mo\u001b[22m\u001b[0m\u001b[1mr\u001b[22m\u001b[0m\u001b[1mt\u001b[22m\u001b[0m\u001b[1m!\u001b[22m partial\u001b[0m\u001b[1ms\u001b[22m\u001b[0m\u001b[1mo\u001b[22m\u001b[0m\u001b[1mr\u001b[22m\u001b[0m\u001b[1mt\u001b[22m\u001b[0m\u001b[1m!\u001b[22m \u001b[0m\u001b[1ms\u001b[22m\u001b[0m\u001b[1mo\u001b[22m\u001b[0m\u001b[1mr\u001b[22m\u001b[0m\u001b[1mt\u001b[22mperm\u001b[0m\u001b[1m!\u001b[22m partial\u001b[0m\u001b[1ms\u001b[22m\u001b[0m\u001b[1mo\u001b[22m\u001b[0m\u001b[1mr\u001b[22m\u001b[0m\u001b[1mt\u001b[22mperm\u001b[0m\u001b[1m!\u001b[22m \u001b[0m\u001b[1ms\u001b[22metpr\u001b[0m\u001b[1mo\u001b[22mpe\u001b[0m\u001b[1mr\u001b[22m\u001b[0m\u001b[1mt\u001b[22my\u001b[0m\u001b[1m!\u001b[22m \u001b[0m\u001b[1ms\u001b[22m\u001b[0m\u001b[1mo\u001b[22m\u001b[0m\u001b[1mr\u001b[22m\u001b[0m\u001b[1mt\u001b[22m \u001b[0m\u001b[1ms\u001b[22m\u001b[0m\u001b[1mo\u001b[22m\u001b[0m\u001b[1mr\u001b[22m\u001b[0m\u001b[1mt\u001b[22mperm\n",
      "\n"
     ]
    },
    {
     "data": {
      "text/latex": [
       "\\begin{verbatim}\n",
       "sort!(v; alg::Algorithm=defalg(v), lt=isless, by=identity, rev::Bool=false, order::Ordering=Forward)\n",
       "\\end{verbatim}\n",
       "Sort the vector \\texttt{v} in place. \\href{@ref}{\\texttt{QuickSort}} is used by default for numeric arrays while \\href{@ref}{\\texttt{MergeSort}} is used for other arrays. You can specify an algorithm to use via the \\texttt{alg} keyword (see \\href{@ref}{Sorting Algorithms} for available algorithms). The \\texttt{by} keyword lets you provide a function that will be applied to each element before comparison; the \\texttt{lt} keyword allows providing a custom \"less than\" function; use \\texttt{rev=true} to reverse the sorting order. These options are independent and can be used together in all possible combinations: if both \\texttt{by} and \\texttt{lt} are specified, the \\texttt{lt} function is applied to the result of the \\texttt{by} function; \\texttt{rev=true} reverses whatever ordering specified via the \\texttt{by} and \\texttt{lt} keywords.\n",
       "\n",
       "\\section{Examples}\n",
       "\\begin{verbatim}\n",
       "julia> v = [3, 1, 2]; sort!(v); v\n",
       "3-element Vector{Int64}:\n",
       " 1\n",
       " 2\n",
       " 3\n",
       "\n",
       "julia> v = [3, 1, 2]; sort!(v, rev = true); v\n",
       "3-element Vector{Int64}:\n",
       " 3\n",
       " 2\n",
       " 1\n",
       "\n",
       "julia> v = [(1, \"c\"), (3, \"a\"), (2, \"b\")]; sort!(v, by = x -> x[1]); v\n",
       "3-element Vector{Tuple{Int64, String}}:\n",
       " (1, \"c\")\n",
       " (2, \"b\")\n",
       " (3, \"a\")\n",
       "\n",
       "julia> v = [(1, \"c\"), (3, \"a\"), (2, \"b\")]; sort!(v, by = x -> x[2]); v\n",
       "3-element Vector{Tuple{Int64, String}}:\n",
       " (3, \"a\")\n",
       " (2, \"b\")\n",
       " (1, \"c\")\n",
       "\\end{verbatim}\n",
       "\\rule{\\textwidth}{1pt}\n",
       "\\begin{verbatim}\n",
       "sort!(A; dims::Integer, alg::Algorithm=defalg(A), lt=isless, by=identity, rev::Bool=false, order::Ordering=Forward)\n",
       "\\end{verbatim}\n",
       "Sort the multidimensional array \\texttt{A} along dimension \\texttt{dims}. See \\href{@ref}{\\texttt{sort!}} for a description of possible keyword arguments.\n",
       "\n",
       "To sort slices of an array, refer to \\href{@ref}{\\texttt{sortslices}}.\n",
       "\n",
       "\\begin{quote}\n",
       "\\textbf{compat}\n",
       "\n",
       "Julia 1.1\n",
       "\n",
       "This function requires at least Julia 1.1.\n",
       "\n",
       "\\end{quote}\n",
       "\\section{Examples}\n",
       "\\begin{verbatim}\n",
       "julia> A = [4 3; 1 2]\n",
       "2×2 Matrix{Int64}:\n",
       " 4  3\n",
       " 1  2\n",
       "\n",
       "julia> sort!(A, dims = 1); A\n",
       "2×2 Matrix{Int64}:\n",
       " 1  2\n",
       " 4  3\n",
       "\n",
       "julia> sort!(A, dims = 2); A\n",
       "2×2 Matrix{Int64}:\n",
       " 1  2\n",
       " 3  4\n",
       "\\end{verbatim}\n"
      ],
      "text/markdown": [
       "```\n",
       "sort!(v; alg::Algorithm=defalg(v), lt=isless, by=identity, rev::Bool=false, order::Ordering=Forward)\n",
       "```\n",
       "\n",
       "Sort the vector `v` in place. [`QuickSort`](@ref) is used by default for numeric arrays while [`MergeSort`](@ref) is used for other arrays. You can specify an algorithm to use via the `alg` keyword (see [Sorting Algorithms](@ref) for available algorithms). The `by` keyword lets you provide a function that will be applied to each element before comparison; the `lt` keyword allows providing a custom \"less than\" function; use `rev=true` to reverse the sorting order. These options are independent and can be used together in all possible combinations: if both `by` and `lt` are specified, the `lt` function is applied to the result of the `by` function; `rev=true` reverses whatever ordering specified via the `by` and `lt` keywords.\n",
       "\n",
       "# Examples\n",
       "\n",
       "```jldoctest\n",
       "julia> v = [3, 1, 2]; sort!(v); v\n",
       "3-element Vector{Int64}:\n",
       " 1\n",
       " 2\n",
       " 3\n",
       "\n",
       "julia> v = [3, 1, 2]; sort!(v, rev = true); v\n",
       "3-element Vector{Int64}:\n",
       " 3\n",
       " 2\n",
       " 1\n",
       "\n",
       "julia> v = [(1, \"c\"), (3, \"a\"), (2, \"b\")]; sort!(v, by = x -> x[1]); v\n",
       "3-element Vector{Tuple{Int64, String}}:\n",
       " (1, \"c\")\n",
       " (2, \"b\")\n",
       " (3, \"a\")\n",
       "\n",
       "julia> v = [(1, \"c\"), (3, \"a\"), (2, \"b\")]; sort!(v, by = x -> x[2]); v\n",
       "3-element Vector{Tuple{Int64, String}}:\n",
       " (3, \"a\")\n",
       " (2, \"b\")\n",
       " (1, \"c\")\n",
       "```\n",
       "\n",
       "---\n",
       "\n",
       "```\n",
       "sort!(A; dims::Integer, alg::Algorithm=defalg(A), lt=isless, by=identity, rev::Bool=false, order::Ordering=Forward)\n",
       "```\n",
       "\n",
       "Sort the multidimensional array `A` along dimension `dims`. See [`sort!`](@ref) for a description of possible keyword arguments.\n",
       "\n",
       "To sort slices of an array, refer to [`sortslices`](@ref).\n",
       "\n",
       "!!! compat \"Julia 1.1\"\n",
       "    This function requires at least Julia 1.1.\n",
       "\n",
       "\n",
       "# Examples\n",
       "\n",
       "```jldoctest\n",
       "julia> A = [4 3; 1 2]\n",
       "2×2 Matrix{Int64}:\n",
       " 4  3\n",
       " 1  2\n",
       "\n",
       "julia> sort!(A, dims = 1); A\n",
       "2×2 Matrix{Int64}:\n",
       " 1  2\n",
       " 4  3\n",
       "\n",
       "julia> sort!(A, dims = 2); A\n",
       "2×2 Matrix{Int64}:\n",
       " 1  2\n",
       " 3  4\n",
       "```\n"
      ],
      "text/plain": [
       "\u001b[36m  sort!(v; alg::Algorithm=defalg(v), lt=isless, by=identity, rev::Bool=false, order::Ordering=Forward)\u001b[39m\n",
       "\n",
       "  Sort the vector \u001b[36mv\u001b[39m in place. \u001b[36mQuickSort\u001b[39m is used by default for numeric arrays\n",
       "  while \u001b[36mMergeSort\u001b[39m is used for other arrays. You can specify an algorithm to\n",
       "  use via the \u001b[36malg\u001b[39m keyword (see Sorting Algorithms for available algorithms).\n",
       "  The \u001b[36mby\u001b[39m keyword lets you provide a function that will be applied to each\n",
       "  element before comparison; the \u001b[36mlt\u001b[39m keyword allows providing a custom \"less\n",
       "  than\" function; use \u001b[36mrev=true\u001b[39m to reverse the sorting order. These options are\n",
       "  independent and can be used together in all possible combinations: if both\n",
       "  \u001b[36mby\u001b[39m and \u001b[36mlt\u001b[39m are specified, the \u001b[36mlt\u001b[39m function is applied to the result of the \u001b[36mby\u001b[39m\n",
       "  function; \u001b[36mrev=true\u001b[39m reverses whatever ordering specified via the \u001b[36mby\u001b[39m and \u001b[36mlt\u001b[39m\n",
       "  keywords.\n",
       "\n",
       "\u001b[1m  Examples\u001b[22m\n",
       "\u001b[1m  ≡≡≡≡≡≡≡≡≡≡\u001b[22m\n",
       "\n",
       "\u001b[36m  julia> v = [3, 1, 2]; sort!(v); v\u001b[39m\n",
       "\u001b[36m  3-element Vector{Int64}:\u001b[39m\n",
       "\u001b[36m   1\u001b[39m\n",
       "\u001b[36m   2\u001b[39m\n",
       "\u001b[36m   3\u001b[39m\n",
       "\u001b[36m  \u001b[39m\n",
       "\u001b[36m  julia> v = [3, 1, 2]; sort!(v, rev = true); v\u001b[39m\n",
       "\u001b[36m  3-element Vector{Int64}:\u001b[39m\n",
       "\u001b[36m   3\u001b[39m\n",
       "\u001b[36m   2\u001b[39m\n",
       "\u001b[36m   1\u001b[39m\n",
       "\u001b[36m  \u001b[39m\n",
       "\u001b[36m  julia> v = [(1, \"c\"), (3, \"a\"), (2, \"b\")]; sort!(v, by = x -> x[1]); v\u001b[39m\n",
       "\u001b[36m  3-element Vector{Tuple{Int64, String}}:\u001b[39m\n",
       "\u001b[36m   (1, \"c\")\u001b[39m\n",
       "\u001b[36m   (2, \"b\")\u001b[39m\n",
       "\u001b[36m   (3, \"a\")\u001b[39m\n",
       "\u001b[36m  \u001b[39m\n",
       "\u001b[36m  julia> v = [(1, \"c\"), (3, \"a\"), (2, \"b\")]; sort!(v, by = x -> x[2]); v\u001b[39m\n",
       "\u001b[36m  3-element Vector{Tuple{Int64, String}}:\u001b[39m\n",
       "\u001b[36m   (3, \"a\")\u001b[39m\n",
       "\u001b[36m   (2, \"b\")\u001b[39m\n",
       "\u001b[36m   (1, \"c\")\u001b[39m\n",
       "\n",
       "  ────────────────────────────────────────────────────────────────────────────\n",
       "\n",
       "\u001b[36m  sort!(A; dims::Integer, alg::Algorithm=defalg(A), lt=isless, by=identity, rev::Bool=false, order::Ordering=Forward)\u001b[39m\n",
       "\n",
       "  Sort the multidimensional array \u001b[36mA\u001b[39m along dimension \u001b[36mdims\u001b[39m. See \u001b[36msort!\u001b[39m for a\n",
       "  description of possible keyword arguments.\n",
       "\n",
       "  To sort slices of an array, refer to \u001b[36msortslices\u001b[39m.\n",
       "\n",
       "\u001b[39m\u001b[1m  │ \u001b[22m\u001b[39m\u001b[1mJulia 1.1\u001b[22m\n",
       "\u001b[39m\u001b[1m  │\u001b[22m\n",
       "\u001b[39m\u001b[1m  │\u001b[22m  This function requires at least Julia 1.1.\n",
       "\n",
       "\u001b[1m  Examples\u001b[22m\n",
       "\u001b[1m  ≡≡≡≡≡≡≡≡≡≡\u001b[22m\n",
       "\n",
       "\u001b[36m  julia> A = [4 3; 1 2]\u001b[39m\n",
       "\u001b[36m  2×2 Matrix{Int64}:\u001b[39m\n",
       "\u001b[36m   4  3\u001b[39m\n",
       "\u001b[36m   1  2\u001b[39m\n",
       "\u001b[36m  \u001b[39m\n",
       "\u001b[36m  julia> sort!(A, dims = 1); A\u001b[39m\n",
       "\u001b[36m  2×2 Matrix{Int64}:\u001b[39m\n",
       "\u001b[36m   1  2\u001b[39m\n",
       "\u001b[36m   4  3\u001b[39m\n",
       "\u001b[36m  \u001b[39m\n",
       "\u001b[36m  julia> sort!(A, dims = 2); A\u001b[39m\n",
       "\u001b[36m  2×2 Matrix{Int64}:\u001b[39m\n",
       "\u001b[36m   1  2\u001b[39m\n",
       "\u001b[36m   3  4\u001b[39m"
      ]
     },
     "execution_count": 4,
     "metadata": {},
     "output_type": "execute_result"
    }
   ],
   "source": [
    "?sort!"
   ]
  },
  {
   "cell_type": "code",
   "execution_count": 6,
   "metadata": {},
   "outputs": [
    {
     "name": "stdout",
     "output_type": "stream",
     "text": [
      "  \u001b[1mWelcome to the Pkg REPL-mode\u001b[22m. To return to the \u001b[36mjulia>\u001b[39m prompt, either press\n",
      "  backspace when the input line is empty or press Ctrl+C.\n",
      "\n",
      "  \u001b[1mSynopsis\u001b[22m\n",
      "\n",
      "\u001b[36m  pkg> cmd [opts] [args]\u001b[39m\n",
      "\n",
      "  Multiple commands can be given on the same line by interleaving a \u001b[36m;\u001b[39m between\n",
      "  the commands. Some commands have an alias, indicated below.\n",
      "\n",
      "  \u001b[1mCommands\u001b[22m\n",
      "\n",
      "  \u001b[36mactivate\u001b[39m: set the primary environment the package manager manipulates\n",
      "\n",
      "  \u001b[36madd\u001b[39m: add packages to project\n",
      "\n",
      "  \u001b[36mbuild\u001b[39m: run the build script for packages\n",
      "\n",
      "  \u001b[36mdevelop\u001b[39m, \u001b[36mdev\u001b[39m: clone the full package repo locally for development\n",
      "\n",
      "  \u001b[36mfree\u001b[39m: undoes a \u001b[36mpin\u001b[39m, \u001b[36mdevelop\u001b[39m, or stops tracking a repo\n",
      "\n",
      "  \u001b[36mgc\u001b[39m: garbage collect packages not used for a significant time\n",
      "\n",
      "  \u001b[36mgenerate\u001b[39m: generate files for a new project\n",
      "\n",
      "  \u001b[36mhelp\u001b[39m, \u001b[36m?\u001b[39m: show this message\n",
      "\n",
      "  \u001b[36minstantiate\u001b[39m: downloads all the dependencies for the project\n",
      "\n",
      "  \u001b[36mpin\u001b[39m: pins the version of packages\n",
      "\n",
      "  \u001b[36mprecompile\u001b[39m: precompile all the project dependencies\n",
      "\n",
      "  \u001b[36mredo\u001b[39m: redo the latest change to the active project\n",
      "\n",
      "  \u001b[36mremove\u001b[39m, \u001b[36mrm\u001b[39m: remove packages from project or manifest\n",
      "\n",
      "  \u001b[36mresolve\u001b[39m: resolves to update the manifest from changes in dependencies of\n",
      "  developed packages\n",
      "\n",
      "  \u001b[36mstatus\u001b[39m, \u001b[36mst\u001b[39m: summarize contents of and changes to environment\n",
      "\n",
      "  \u001b[36mtest\u001b[39m: run tests for packages\n",
      "\n",
      "  \u001b[36mundo\u001b[39m: undo the latest change to the active project\n",
      "\n",
      "  \u001b[36mupdate\u001b[39m, \u001b[36mup\u001b[39m: update packages in manifest\n",
      "\n",
      "  \u001b[36mregistry add\u001b[39m: add package registries\n",
      "\n",
      "  \u001b[36mregistry remove\u001b[39m, \u001b[36mrm\u001b[39m: remove package registries\n",
      "\n",
      "  \u001b[36mregistry status\u001b[39m, \u001b[36mst\u001b[39m: information about installed registries\n",
      "\n",
      "  \u001b[36mregistry update\u001b[39m, \u001b[36mup\u001b[39m: update package registries"
     ]
    }
   ],
   "source": [
    "]help"
   ]
  },
  {
   "cell_type": "code",
   "execution_count": 7,
   "metadata": {},
   "outputs": [
    {
     "data": {
      "text/plain": [
       "34"
      ]
     },
     "execution_count": 7,
     "metadata": {},
     "output_type": "execute_result"
    }
   ],
   "source": [
    "12+\n",
    "22"
   ]
  },
  {
   "cell_type": "code",
   "execution_count": 1,
   "metadata": {},
   "outputs": [],
   "source": [
    "using Plots"
   ]
  },
  {
   "cell_type": "code",
   "execution_count": 4,
   "metadata": {},
   "outputs": [
    {
     "name": "stdout",
     "output_type": "stream",
     "text": [
      "search:  ] [ = $ ; ( { ) ? . } ⊻ ⊋ ⊊ ⊉ ⊈ ⊇ ⊆ ≥ ≤ ≢ ≡ ≠ ≉ ≈ ∪ ∩ ∛ √ ∘ ∌ ∋ ∉ ∈ ℯ π\n",
      "\n"
     ]
    },
    {
     "data": {
      "text/latex": [
       "\\textbf{Welcome to Julia 1.6.1.} The full manual is available at\n",
       "\n",
       "\\begin{verbatim}\n",
       "https://docs.julialang.org\n",
       "\\end{verbatim}\n",
       "as well as many great tutorials and learning resources:\n",
       "\n",
       "\\begin{verbatim}\n",
       "https://julialang.org/learning/\n",
       "\\end{verbatim}\n",
       "For help on a specific function or macro, type \\texttt{?} followed by its name, e.g. \\texttt{?cos}, or \\texttt{?@time}, and press enter. Type \\texttt{;} to enter shell mode, \\texttt{]} to enter package mode.\n",
       "\n"
      ],
      "text/markdown": [
       "**Welcome to Julia 1.6.1.** The full manual is available at\n",
       "\n",
       "```\n",
       "https://docs.julialang.org\n",
       "```\n",
       "\n",
       "as well as many great tutorials and learning resources:\n",
       "\n",
       "```\n",
       "https://julialang.org/learning/\n",
       "```\n",
       "\n",
       "For help on a specific function or macro, type `?` followed by its name, e.g. `?cos`, or `?@time`, and press enter. Type `;` to enter shell mode, `]` to enter package mode.\n"
      ],
      "text/plain": [
       "  \u001b[1mWelcome to Julia 1.6.1.\u001b[22m The full manual is available at\n",
       "\n",
       "\u001b[36m  https://docs.julialang.org\u001b[39m\n",
       "\n",
       "  as well as many great tutorials and learning resources:\n",
       "\n",
       "\u001b[36m  https://julialang.org/learning/\u001b[39m\n",
       "\n",
       "  For help on a specific function or macro, type \u001b[36m?\u001b[39m followed by its name, e.g.\n",
       "  \u001b[36m?cos\u001b[39m, or \u001b[36m?@time\u001b[39m, and press enter. Type \u001b[36m;\u001b[39m to enter shell mode, \u001b[36m]\u001b[39m to enter\n",
       "  package mode."
      ]
     },
     "execution_count": 4,
     "metadata": {},
     "output_type": "execute_result"
    }
   ],
   "source": [
    "?"
   ]
  },
  {
   "cell_type": "code",
   "execution_count": 6,
   "metadata": {},
   "outputs": [
    {
     "name": "stdout",
     "output_type": "stream",
     "text": [
      "search: \u001b[0m\u001b[1ma\u001b[22m\u001b[0m\u001b[1md\u001b[22m\u001b[0m\u001b[1md\u001b[22menv \u001b[0m\u001b[1ma\u001b[22m\u001b[0m\u001b[1md\u001b[22m\u001b[0m\u001b[1md\u001b[22m_theme re\u001b[0m\u001b[1ma\u001b[22m\u001b[0m\u001b[1md\u001b[22m\u001b[0m\u001b[1md\u001b[22mir mul\u001b[0m\u001b[1ma\u001b[22m\u001b[0m\u001b[1md\u001b[22m\u001b[0m\u001b[1md\u001b[22m r\u001b[0m\u001b[1ma\u001b[22m\u001b[0m\u001b[1md\u001b[22m2\u001b[0m\u001b[1md\u001b[22meg \u001b[0m\u001b[1mA\u001b[22m\u001b[0m\u001b[1mD\u001b[22mIN99\u001b[0m\u001b[1md\u001b[22m \u001b[0m\u001b[1ma\u001b[22m\u001b[0m\u001b[1md\u001b[22mapte\u001b[0m\u001b[1md\u001b[22m_grid\n",
      "\n",
      "Couldn't find \u001b[36madd\u001b[39m\n",
      "Perhaps you meant rand, tand, ans, abs, all, any, red, Cmd, cd, cld, fd or fld\n"
     ]
    },
    {
     "data": {
      "text/latex": [
       "No documentation found.\n",
       "\n",
       "Binding \\texttt{add} does not exist.\n",
       "\n"
      ],
      "text/markdown": [
       "No documentation found.\n",
       "\n",
       "Binding `add` does not exist.\n"
      ],
      "text/plain": [
       "  No documentation found.\n",
       "\n",
       "  Binding \u001b[36madd\u001b[39m does not exist."
      ]
     },
     "execution_count": 6,
     "metadata": {},
     "output_type": "execute_result"
    }
   ],
   "source": [
    "? "
   ]
  },
  {
   "cell_type": "code",
   "execution_count": 7,
   "metadata": {},
   "outputs": [
    {
     "name": "stdout",
     "output_type": "stream",
     "text": [
      "  \u001b[1mWelcome to the Pkg REPL-mode\u001b[22m. To return to the \u001b[36mjulia>\u001b[39m prompt, either press\n",
      "  backspace when the input line is empty or press Ctrl+C.\n",
      "\n",
      "  \u001b[1mSynopsis\u001b[22m\n",
      "\n",
      "\u001b[36m  pkg> cmd [opts] [args]\u001b[39m\n",
      "\n",
      "  Multiple commands can be given on the same line by interleaving a \u001b[36m;\u001b[39m between\n",
      "  the commands. Some commands have an alias, indicated below.\n",
      "\n",
      "  \u001b[1mCommands\u001b[22m\n",
      "\n",
      "  \u001b[36mactivate\u001b[39m: set the primary environment the package manager manipulates\n",
      "\n",
      "  \u001b[36madd\u001b[39m: add packages to project\n",
      "\n",
      "  \u001b[36mbuild\u001b[39m: run the build script for packages\n",
      "\n",
      "  \u001b[36mdevelop\u001b[39m, \u001b[36mdev\u001b[39m: clone the full package repo locally for development\n",
      "\n",
      "  \u001b[36mfree\u001b[39m: undoes a \u001b[36mpin\u001b[39m, \u001b[36mdevelop\u001b[39m, or stops tracking a repo\n",
      "\n",
      "  \u001b[36mgc\u001b[39m: garbage collect packages not used for a significant time\n",
      "\n",
      "  \u001b[36mgenerate\u001b[39m: generate files for a new project\n",
      "\n",
      "  \u001b[36mhelp\u001b[39m, \u001b[36m?\u001b[39m: show this message\n",
      "\n",
      "  \u001b[36minstantiate\u001b[39m: downloads all the dependencies for the project\n",
      "\n",
      "  \u001b[36mpin\u001b[39m: pins the version of packages\n",
      "\n",
      "  \u001b[36mprecompile\u001b[39m: precompile all the project dependencies\n",
      "\n",
      "  \u001b[36mredo\u001b[39m: redo the latest change to the active project\n",
      "\n",
      "  \u001b[36mremove\u001b[39m, \u001b[36mrm\u001b[39m: remove packages from project or manifest\n",
      "\n",
      "  \u001b[36mresolve\u001b[39m: resolves to update the manifest from changes in dependencies of\n",
      "  developed packages\n",
      "\n",
      "  \u001b[36mstatus\u001b[39m, \u001b[36mst\u001b[39m: summarize contents of and changes to environment\n",
      "\n",
      "  \u001b[36mtest\u001b[39m: run tests for packages\n",
      "\n",
      "  \u001b[36mundo\u001b[39m: undo the latest change to the active project\n",
      "\n",
      "  \u001b[36mupdate\u001b[39m, \u001b[36mup\u001b[39m: update packages in manifest\n",
      "\n",
      "  \u001b[36mregistry add\u001b[39m: add package registries\n",
      "\n",
      "  \u001b[36mregistry remove\u001b[39m, \u001b[36mrm\u001b[39m: remove package registries\n",
      "\n",
      "  \u001b[36mregistry status\u001b[39m, \u001b[36mst\u001b[39m: information about installed registries\n",
      "\n",
      "  \u001b[36mregistry update\u001b[39m, \u001b[36mup\u001b[39m: update package registries"
     ]
    }
   ],
   "source": [
    "]help"
   ]
  },
  {
   "cell_type": "code",
   "execution_count": 8,
   "metadata": {},
   "outputs": [
    {
     "data": {
      "text/plain": [
       "true"
      ]
     },
     "execution_count": 8,
     "metadata": {},
     "output_type": "execute_result"
    }
   ],
   "source": [
    "2==2"
   ]
  },
  {
   "cell_type": "code",
   "execution_count": 9,
   "metadata": {},
   "outputs": [
    {
     "data": {
      "text/plain": [
       "5"
      ]
     },
     "execution_count": 9,
     "metadata": {},
     "output_type": "execute_result"
    }
   ],
   "source": [
    "2+3"
   ]
  },
  {
   "cell_type": "code",
   "execution_count": 10,
   "metadata": {},
   "outputs": [
    {
     "data": {
      "text/plain": [
       "6.0"
      ]
     },
     "execution_count": 10,
     "metadata": {},
     "output_type": "execute_result"
    }
   ],
   "source": [
    "12/2"
   ]
  },
  {
   "cell_type": "code",
   "execution_count": 11,
   "metadata": {},
   "outputs": [
    {
     "data": {
      "text/plain": [
       "\"Hello world\""
      ]
     },
     "execution_count": 11,
     "metadata": {},
     "output_type": "execute_result"
    }
   ],
   "source": [
    "\"Hello world\""
   ]
  },
  {
   "cell_type": "code",
   "execution_count": 12,
   "metadata": {},
   "outputs": [
    {
     "name": "stdout",
     "output_type": "stream",
     "text": [
      "Hello World"
     ]
    }
   ],
   "source": [
    "print(\"Hello World\")"
   ]
  },
  {
   "cell_type": "code",
   "execution_count": 13,
   "metadata": {},
   "outputs": [
    {
     "name": "stdout",
     "output_type": "stream",
     "text": [
      "Hello world\n"
     ]
    }
   ],
   "source": [
    "println(\"Hello world\")"
   ]
  },
  {
   "cell_type": "markdown",
   "metadata": {},
   "source": [
    "# Julia programming"
   ]
  },
  {
   "cell_type": "markdown",
   "metadata": {},
   "source": [
    "## Importing file for processing"
   ]
  },
  {
   "cell_type": "markdown",
   "metadata": {},
   "source": [
    "### Variables"
   ]
  },
  {
   "cell_type": "code",
   "execution_count": 17,
   "metadata": {},
   "outputs": [
    {
     "data": {
      "text/plain": [
       "10"
      ]
     },
     "execution_count": 17,
     "metadata": {},
     "output_type": "execute_result"
    }
   ],
   "source": [
    "loan_amount = 100000\n",
    "interest_rate = 0.15\n",
    "tenure = 10"
   ]
  },
  {
   "cell_type": "code",
   "execution_count": 18,
   "metadata": {},
   "outputs": [
    {
     "data": {
      "text/plain": [
       "1000000"
      ]
     },
     "execution_count": 18,
     "metadata": {},
     "output_type": "execute_result"
    }
   ],
   "source": [
    "loan_amount * tenure"
   ]
  },
  {
   "cell_type": "code",
   "execution_count": 21,
   "metadata": {},
   "outputs": [
    {
     "data": {
      "text/plain": [
       "\"The beautiful world\""
      ]
     },
     "execution_count": 21,
     "metadata": {},
     "output_type": "execute_result"
    }
   ],
   "source": [
    "my_first_program = \"The beautiful world\""
   ]
  },
  {
   "cell_type": "code",
   "execution_count": 22,
   "metadata": {},
   "outputs": [
    {
     "data": {
      "text/plain": [
       "\"The beautiful world\""
      ]
     },
     "execution_count": 22,
     "metadata": {},
     "output_type": "execute_result"
    }
   ],
   "source": [
    "my_first_program"
   ]
  },
  {
   "cell_type": "code",
   "execution_count": 24,
   "metadata": {},
   "outputs": [
    {
     "data": {
      "text/plain": [
       "\"Avengers\""
      ]
     },
     "execution_count": 24,
     "metadata": {},
     "output_type": "execute_result"
    }
   ],
   "source": [
    "movie_name = \"Avengers\""
   ]
  },
  {
   "cell_type": "code",
   "execution_count": 25,
   "metadata": {},
   "outputs": [
    {
     "data": {
      "text/plain": [
       "\"The beautiful worldAvengers\""
      ]
     },
     "execution_count": 25,
     "metadata": {},
     "output_type": "execute_result"
    }
   ],
   "source": [
    "my_first_program * movie_name"
   ]
  },
  {
   "cell_type": "code",
   "execution_count": 26,
   "metadata": {},
   "outputs": [
    {
     "name": "stdout",
     "output_type": "stream",
     "text": [
      "The beautiful world"
     ]
    }
   ],
   "source": [
    "print(my_first_program)"
   ]
  },
  {
   "cell_type": "code",
   "execution_count": 27,
   "metadata": {},
   "outputs": [
    {
     "data": {
      "text/plain": [
       "String"
      ]
     },
     "execution_count": 27,
     "metadata": {},
     "output_type": "execute_result"
    }
   ],
   "source": [
    "typeof(my_first_program)"
   ]
  },
  {
   "cell_type": "code",
   "execution_count": 28,
   "metadata": {},
   "outputs": [
    {
     "data": {
      "text/plain": [
       "Float64"
      ]
     },
     "execution_count": 28,
     "metadata": {},
     "output_type": "execute_result"
    }
   ],
   "source": [
    "typeof(interest_rate)"
   ]
  },
  {
   "cell_type": "code",
   "execution_count": 29,
   "metadata": {},
   "outputs": [
    {
     "data": {
      "text/plain": [
       "3000"
      ]
     },
     "execution_count": 29,
     "metadata": {},
     "output_type": "execute_result"
    }
   ],
   "source": [
    "age = 3000"
   ]
  },
  {
   "cell_type": "code",
   "execution_count": 30,
   "metadata": {},
   "outputs": [
    {
     "data": {
      "text/plain": [
       "Int64"
      ]
     },
     "execution_count": 30,
     "metadata": {},
     "output_type": "execute_result"
    }
   ],
   "source": [
    "typeof(age)"
   ]
  },
  {
   "cell_type": "markdown",
   "metadata": {},
   "source": [
    "## Arithematic operators Precedence"
   ]
  },
  {
   "cell_type": "code",
   "execution_count": 31,
   "metadata": {},
   "outputs": [
    {
     "data": {
      "text/plain": [
       "-2.0"
      ]
     },
     "execution_count": 31,
     "metadata": {},
     "output_type": "execute_result"
    }
   ],
   "source": [
    "2+5 -6/2 *3"
   ]
  },
  {
   "cell_type": "code",
   "execution_count": 32,
   "metadata": {},
   "outputs": [],
   "source": [
    "# / * + -"
   ]
  },
  {
   "cell_type": "code",
   "execution_count": 33,
   "metadata": {},
   "outputs": [
    {
     "data": {
      "text/plain": [
       "2.0"
      ]
     },
     "execution_count": 33,
     "metadata": {},
     "output_type": "execute_result"
    }
   ],
   "source": [
    "2 * 3 /3"
   ]
  },
  {
   "cell_type": "markdown",
   "metadata": {},
   "source": [
    "## Arrays"
   ]
  },
  {
   "cell_type": "code",
   "execution_count": 1,
   "metadata": {},
   "outputs": [
    {
     "data": {
      "text/plain": [
       "5-element Vector{Int64}:\n",
       " 1\n",
       " 2\n",
       " 3\n",
       " 4\n",
       " 5"
      ]
     },
     "execution_count": 1,
     "metadata": {},
     "output_type": "execute_result"
    }
   ],
   "source": [
    "a1 = [1,2,3,4,5]"
   ]
  },
  {
   "cell_type": "code",
   "execution_count": 2,
   "metadata": {},
   "outputs": [
    {
     "data": {
      "text/plain": [
       "5-element Vector{Float64}:\n",
       " 1.0\n",
       " 2.0\n",
       " 3.0\n",
       " 4.0\n",
       " 5.0"
      ]
     },
     "execution_count": 2,
     "metadata": {},
     "output_type": "execute_result"
    }
   ],
   "source": [
    "a2 = [1,2.0,3,4,5]"
   ]
  },
  {
   "cell_type": "code",
   "execution_count": 4,
   "metadata": {},
   "outputs": [
    {
     "data": {
      "text/plain": [
       "3-element Vector{String}:\n",
       " \"I\"\n",
       " \"Love\"\n",
       " \"Julia\""
      ]
     },
     "execution_count": 4,
     "metadata": {},
     "output_type": "execute_result"
    }
   ],
   "source": [
    "s1 = [\"I\",\"Love\",\"Julia\"]"
   ]
  },
  {
   "cell_type": "code",
   "execution_count": 5,
   "metadata": {},
   "outputs": [
    {
     "data": {
      "text/plain": [
       "3-element Vector{Function}:\n",
       " print (generic function with 31 methods)\n",
       " println (generic function with 3 methods)\n",
       " printstyled (generic function with 2 methods)"
      ]
     },
     "execution_count": 5,
     "metadata": {},
     "output_type": "execute_result"
    }
   ],
   "source": [
    "f1 = [print, println, printstyled]"
   ]
  },
  {
   "cell_type": "code",
   "execution_count": 6,
   "metadata": {},
   "outputs": [
    {
     "data": {
      "text/plain": [
       "3-element Vector{Any}:\n",
       " 1\n",
       " 2.0\n",
       "  \"Julia\""
      ]
     },
     "execution_count": 6,
     "metadata": {},
     "output_type": "execute_result"
    }
   ],
   "source": [
    "a3 = [1,2.0,\"Julia\"]"
   ]
  },
  {
   "cell_type": "code",
   "execution_count": 8,
   "metadata": {},
   "outputs": [
    {
     "data": {
      "text/plain": [
       "6-element Vector{Int64}:\n",
       " 1\n",
       " 2\n",
       " 3\n",
       " 4\n",
       " 5\n",
       " 5"
      ]
     },
     "execution_count": 8,
     "metadata": {},
     "output_type": "execute_result"
    }
   ],
   "source": [
    "type_int = Int64[1,2,3,4,5,5]"
   ]
  },
  {
   "cell_type": "code",
   "execution_count": 9,
   "metadata": {},
   "outputs": [
    {
     "data": {
      "text/plain": [
       "4-element Vector{Float64}:\n",
       " 1.0\n",
       " 2.0\n",
       " 3.0\n",
       " 4.0"
      ]
     },
     "execution_count": 9,
     "metadata": {},
     "output_type": "execute_result"
    }
   ],
   "source": [
    "type_float = Float64[1,2,3,4]"
   ]
  },
  {
   "cell_type": "code",
   "execution_count": 10,
   "metadata": {},
   "outputs": [
    {
     "data": {
      "text/plain": [
       "3-element Vector{String}:\n",
       " \"this\"\n",
       " \"is\"\n",
       " \"Julia\""
      ]
     },
     "execution_count": 10,
     "metadata": {},
     "output_type": "execute_result"
    }
   ],
   "source": [
    "type_string = String[\"this\",\"is\",\"Julia\"]"
   ]
  },
  {
   "cell_type": "code",
   "execution_count": 11,
   "metadata": {},
   "outputs": [
    {
     "ename": "LoadError",
     "evalue": "MethodError: \u001b[0mCannot `convert` an object of type \u001b[92mInt64\u001b[39m\u001b[0m to an object of type \u001b[91mString\u001b[39m\n\u001b[0mClosest candidates are:\n\u001b[0m  convert(::Type{String}, \u001b[91m::String\u001b[39m) at essentials.jl:210\n\u001b[0m  convert(::Type{T}, \u001b[91m::T\u001b[39m) where T<:AbstractString at strings/basic.jl:231\n\u001b[0m  convert(::Type{T}, \u001b[91m::AbstractString\u001b[39m) where T<:AbstractString at strings/basic.jl:232\n\u001b[0m  ...",
     "output_type": "error",
     "traceback": [
      "MethodError: \u001b[0mCannot `convert` an object of type \u001b[92mInt64\u001b[39m\u001b[0m to an object of type \u001b[91mString\u001b[39m\n\u001b[0mClosest candidates are:\n\u001b[0m  convert(::Type{String}, \u001b[91m::String\u001b[39m) at essentials.jl:210\n\u001b[0m  convert(::Type{T}, \u001b[91m::T\u001b[39m) where T<:AbstractString at strings/basic.jl:231\n\u001b[0m  convert(::Type{T}, \u001b[91m::AbstractString\u001b[39m) where T<:AbstractString at strings/basic.jl:232\n\u001b[0m  ...",
      "",
      "Stacktrace:",
      " [1] setindex!(A::Vector{String}, x::Int64, i1::Int64)",
      "   @ Base ./array.jl:839",
      " [2] getindex(::Type{String}, ::Int64, ::Int64, ::Int64, ::Int64)",
      "   @ Base ./array.jl:386",
      " [3] top-level scope",
      "   @ In[11]:1",
      " [4] eval",
      "   @ ./boot.jl:360 [inlined]",
      " [5] include_string(mapexpr::typeof(REPL.softscope), mod::Module, code::String, filename::String)",
      "   @ Base ./loading.jl:1094"
     ]
    }
   ],
   "source": [
    "type_str = String[1,2,3,4]"
   ]
  },
  {
   "cell_type": "code",
   "execution_count": 13,
   "metadata": {},
   "outputs": [
    {
     "data": {
      "text/plain": [
       "2×3 Matrix{Int64}:\n",
       " 1  2  3\n",
       " 5  6  7"
      ]
     },
     "execution_count": 13,
     "metadata": {},
     "output_type": "execute_result"
    }
   ],
   "source": [
    "array_2d = [1 2 3; 5 6 7]"
   ]
  },
  {
   "cell_type": "code",
   "execution_count": 14,
   "metadata": {},
   "outputs": [
    {
     "data": {
      "text/plain": [
       "1×5 Matrix{Int64}:\n",
       " 1  2  3  4  5"
      ]
     },
     "execution_count": 14,
     "metadata": {},
     "output_type": "execute_result"
    }
   ],
   "source": [
    "vector_1 = [1 2 3 4 5]"
   ]
  },
  {
   "cell_type": "code",
   "execution_count": 15,
   "metadata": {},
   "outputs": [
    {
     "data": {
      "text/plain": [
       "5-element Vector{Float64}:\n",
       " 0.6343174398791067\n",
       " 0.4139869163176475\n",
       " 0.7495406533183822\n",
       " 0.07234397001343607\n",
       " 0.4422544073393284"
      ]
     },
     "execution_count": 15,
     "metadata": {},
     "output_type": "execute_result"
    }
   ],
   "source": [
    "array_rand = rand(5)"
   ]
  },
  {
   "cell_type": "code",
   "execution_count": 16,
   "metadata": {},
   "outputs": [
    {
     "data": {
      "text/plain": [
       "3×3 Matrix{Float64}:\n",
       " 0.0480084  0.870024  0.372633\n",
       " 0.126007   0.457946  0.0496071\n",
       " 0.540203   0.458972  0.503348"
      ]
     },
     "execution_count": 16,
     "metadata": {},
     "output_type": "execute_result"
    }
   ],
   "source": [
    "array_rand2 = rand(3,3)"
   ]
  },
  {
   "cell_type": "markdown",
   "metadata": {},
   "source": [
    "## Ranges"
   ]
  },
  {
   "cell_type": "code",
   "execution_count": 17,
   "metadata": {},
   "outputs": [
    {
     "data": {
      "text/plain": [
       "10-element Vector{Int64}:\n",
       "  1\n",
       "  2\n",
       "  3\n",
       "  4\n",
       "  5\n",
       "  6\n",
       "  7\n",
       "  8\n",
       "  9\n",
       " 10"
      ]
     },
     "execution_count": 17,
     "metadata": {},
     "output_type": "execute_result"
    }
   ],
   "source": [
    "collect(1:10)"
   ]
  },
  {
   "cell_type": "code",
   "execution_count": 18,
   "metadata": {},
   "outputs": [
    {
     "data": {
      "text/plain": [
       "100-element Vector{Int64}:\n",
       "   1\n",
       "   2\n",
       "   3\n",
       "   4\n",
       "   5\n",
       "   6\n",
       "   7\n",
       "   8\n",
       "   9\n",
       "  10\n",
       "  11\n",
       "  12\n",
       "  13\n",
       "   ⋮\n",
       "  89\n",
       "  90\n",
       "  91\n",
       "  92\n",
       "  93\n",
       "  94\n",
       "  95\n",
       "  96\n",
       "  97\n",
       "  98\n",
       "  99\n",
       " 100"
      ]
     },
     "execution_count": 18,
     "metadata": {},
     "output_type": "execute_result"
    }
   ],
   "source": [
    "collect(1:100)"
   ]
  },
  {
   "cell_type": "code",
   "execution_count": 19,
   "metadata": {},
   "outputs": [
    {
     "data": {
      "text/plain": [
       "5-element Vector{Float64}:\n",
       " 1.5\n",
       " 2.5\n",
       " 3.5\n",
       " 4.5\n",
       " 5.5"
      ]
     },
     "execution_count": 19,
     "metadata": {},
     "output_type": "execute_result"
    }
   ],
   "source": [
    "collect(1.5:5.5)"
   ]
  },
  {
   "cell_type": "code",
   "execution_count": 22,
   "metadata": {},
   "outputs": [
    {
     "data": {
      "text/plain": [
       "9-element Vector{Float64}:\n",
       " 1.5\n",
       " 2.0\n",
       " 2.5\n",
       " 3.0\n",
       " 3.5\n",
       " 4.0\n",
       " 4.5\n",
       " 5.0\n",
       " 5.5"
      ]
     },
     "execution_count": 22,
     "metadata": {},
     "output_type": "execute_result"
    }
   ],
   "source": [
    "collect(1.5:0.5:5.5)"
   ]
  },
  {
   "cell_type": "code",
   "execution_count": 24,
   "metadata": {},
   "outputs": [
    {
     "data": {
      "text/plain": [
       "11-element Vector{Int64}:\n",
       "   0\n",
       "  10\n",
       "  20\n",
       "  30\n",
       "  40\n",
       "  50\n",
       "  60\n",
       "  70\n",
       "  80\n",
       "  90\n",
       " 100"
      ]
     },
     "execution_count": 24,
     "metadata": {},
     "output_type": "execute_result"
    }
   ],
   "source": [
    "collect(0:10:100)"
   ]
  },
  {
   "cell_type": "code",
   "execution_count": 26,
   "metadata": {},
   "outputs": [
    {
     "data": {
      "text/plain": [
       "11-element Vector{Int64}:\n",
       " 100\n",
       "  90\n",
       "  80\n",
       "  70\n",
       "  60\n",
       "  50\n",
       "  40\n",
       "  30\n",
       "  20\n",
       "  10\n",
       "   0"
      ]
     },
     "execution_count": 26,
     "metadata": {},
     "output_type": "execute_result"
    }
   ],
   "source": [
    "collect(100:-10:0)"
   ]
  },
  {
   "cell_type": "code",
   "execution_count": 28,
   "metadata": {},
   "outputs": [
    {
     "data": {
      "text/plain": [
       "6-element Vector{Int64}:\n",
       " 100\n",
       "  80\n",
       "  60\n",
       "  40\n",
       "  20\n",
       "   0"
      ]
     },
     "execution_count": 28,
     "metadata": {},
     "output_type": "execute_result"
    }
   ],
   "source": [
    "c1 = collect(100:-20:0)"
   ]
  },
  {
   "cell_type": "code",
   "execution_count": 29,
   "metadata": {},
   "outputs": [
    {
     "data": {
      "text/plain": [
       "6-element Vector{Int64}:\n",
       " 100\n",
       "  80\n",
       "  60\n",
       "  40\n",
       "  20\n",
       "   0"
      ]
     },
     "execution_count": 29,
     "metadata": {},
     "output_type": "execute_result"
    }
   ],
   "source": [
    "c1"
   ]
  },
  {
   "cell_type": "code",
   "execution_count": 30,
   "metadata": {},
   "outputs": [
    {
     "data": {
      "text/plain": [
       "60"
      ]
     },
     "execution_count": 30,
     "metadata": {},
     "output_type": "execute_result"
    }
   ],
   "source": [
    "c1[3]"
   ]
  },
  {
   "cell_type": "code",
   "execution_count": 31,
   "metadata": {},
   "outputs": [
    {
     "data": {
      "text/plain": [
       "0"
      ]
     },
     "execution_count": 31,
     "metadata": {},
     "output_type": "execute_result"
    }
   ],
   "source": [
    "c1[end]"
   ]
  },
  {
   "cell_type": "code",
   "execution_count": 32,
   "metadata": {},
   "outputs": [
    {
     "data": {
      "text/plain": [
       "40"
      ]
     },
     "execution_count": 32,
     "metadata": {},
     "output_type": "execute_result"
    }
   ],
   "source": [
    "c1[end-2]"
   ]
  },
  {
   "cell_type": "code",
   "execution_count": 33,
   "metadata": {},
   "outputs": [
    {
     "data": {
      "text/plain": [
       "100"
      ]
     },
     "execution_count": 33,
     "metadata": {},
     "output_type": "execute_result"
    }
   ],
   "source": [
    "c1[1]"
   ]
  },
  {
   "cell_type": "code",
   "execution_count": 34,
   "metadata": {},
   "outputs": [
    {
     "data": {
      "text/plain": [
       "4-element Vector{Int64}:\n",
       " 80\n",
       " 60\n",
       " 40\n",
       " 20"
      ]
     },
     "execution_count": 34,
     "metadata": {},
     "output_type": "execute_result"
    }
   ],
   "source": [
    "c1[2:5]"
   ]
  },
  {
   "cell_type": "code",
   "execution_count": 35,
   "metadata": {},
   "outputs": [
    {
     "data": {
      "text/plain": [
       "3-element Vector{Int64}:\n",
       " 100\n",
       "  60\n",
       "  20"
      ]
     },
     "execution_count": 35,
     "metadata": {},
     "output_type": "execute_result"
    }
   ],
   "source": [
    "c1[[1,3,5]]"
   ]
  },
  {
   "cell_type": "code",
   "execution_count": 36,
   "metadata": {},
   "outputs": [
    {
     "data": {
      "text/plain": [
       "5-element Vector{Int64}:\n",
       " 80\n",
       " 60\n",
       " 40\n",
       " 20\n",
       "  0"
      ]
     },
     "execution_count": 36,
     "metadata": {},
     "output_type": "execute_result"
    }
   ],
   "source": [
    "c1[2:end]"
   ]
  },
  {
   "cell_type": "markdown",
   "metadata": {},
   "source": [
    "## Tuples"
   ]
  },
  {
   "cell_type": "code",
   "execution_count": 37,
   "metadata": {},
   "outputs": [
    {
     "data": {
      "text/plain": [
       "(1, 2, 3, 4, 5)"
      ]
     },
     "execution_count": 37,
     "metadata": {},
     "output_type": "execute_result"
    }
   ],
   "source": [
    "l1 = (1,2,3,4,5)"
   ]
  },
  {
   "cell_type": "code",
   "execution_count": 38,
   "metadata": {},
   "outputs": [
    {
     "data": {
      "text/plain": [
       "2"
      ]
     },
     "execution_count": 38,
     "metadata": {},
     "output_type": "execute_result"
    }
   ],
   "source": [
    "l1[2]"
   ]
  },
  {
   "cell_type": "code",
   "execution_count": 39,
   "metadata": {},
   "outputs": [
    {
     "data": {
      "text/plain": [
       "5"
      ]
     },
     "execution_count": 39,
     "metadata": {},
     "output_type": "execute_result"
    }
   ],
   "source": [
    "l1[end]"
   ]
  },
  {
   "cell_type": "code",
   "execution_count": 40,
   "metadata": {},
   "outputs": [
    {
     "data": {
      "text/plain": [
       "(1, 3, 5)"
      ]
     },
     "execution_count": 40,
     "metadata": {},
     "output_type": "execute_result"
    }
   ],
   "source": [
    "l1[[1,3,5]]"
   ]
  },
  {
   "cell_type": "code",
   "execution_count": 41,
   "metadata": {},
   "outputs": [
    {
     "data": {
      "text/plain": [
       "((1, 3), (2, 4))"
      ]
     },
     "execution_count": 41,
     "metadata": {},
     "output_type": "execute_result"
    }
   ],
   "source": [
    "l2 = ((1,3),(2,4))"
   ]
  },
  {
   "cell_type": "code",
   "execution_count": 42,
   "metadata": {},
   "outputs": [
    {
     "data": {
      "text/plain": [
       "(2, 4)"
      ]
     },
     "execution_count": 42,
     "metadata": {},
     "output_type": "execute_result"
    }
   ],
   "source": [
    "l2[2]"
   ]
  },
  {
   "cell_type": "code",
   "execution_count": 44,
   "metadata": {},
   "outputs": [
    {
     "data": {
      "text/plain": [
       "2"
      ]
     },
     "execution_count": 44,
     "metadata": {},
     "output_type": "execute_result"
    }
   ],
   "source": [
    "l2[2][1]"
   ]
  },
  {
   "cell_type": "code",
   "execution_count": 48,
   "metadata": {},
   "outputs": [
    {
     "data": {
      "text/plain": [
       "(Science = (90, 100), Maths = (95, 100), English = (75, 100))"
      ]
     },
     "execution_count": 48,
     "metadata": {},
     "output_type": "execute_result"
    }
   ],
   "source": [
    "# Named tupes\n",
    "marks = (Science = (90,100), Maths = (95,100), English = (75,100))"
   ]
  },
  {
   "cell_type": "code",
   "execution_count": 46,
   "metadata": {},
   "outputs": [
    {
     "data": {
      "text/plain": [
       "(90, 100)"
      ]
     },
     "execution_count": 46,
     "metadata": {},
     "output_type": "execute_result"
    }
   ],
   "source": [
    "marks.Science"
   ]
  },
  {
   "cell_type": "code",
   "execution_count": 47,
   "metadata": {},
   "outputs": [
    {
     "data": {
      "text/plain": [
       "(95, 100)"
      ]
     },
     "execution_count": 47,
     "metadata": {},
     "output_type": "execute_result"
    }
   ],
   "source": [
    "marks.Maths"
   ]
  },
  {
   "cell_type": "code",
   "execution_count": 49,
   "metadata": {},
   "outputs": [
    {
     "data": {
      "text/plain": [
       "(History = (80, 100), Sports = (85, 100))"
      ]
     },
     "execution_count": 49,
     "metadata": {},
     "output_type": "execute_result"
    }
   ],
   "source": [
    "marks2 = (History = (80,100), Sports = (85,100))"
   ]
  },
  {
   "cell_type": "code",
   "execution_count": 50,
   "metadata": {},
   "outputs": [
    {
     "data": {
      "text/plain": [
       "(Science = (90, 100), Maths = (95, 100), English = (75, 100), History = (80, 100), Sports = (85, 100))"
      ]
     },
     "execution_count": 50,
     "metadata": {},
     "output_type": "execute_result"
    }
   ],
   "source": [
    "merge(marks, marks2)"
   ]
  },
  {
   "cell_type": "markdown",
   "metadata": {},
   "source": [
    "## Dictionary"
   ]
  },
  {
   "cell_type": "code",
   "execution_count": 51,
   "metadata": {},
   "outputs": [],
   "source": [
    "# Key value pair"
   ]
  },
  {
   "cell_type": "code",
   "execution_count": 52,
   "metadata": {},
   "outputs": [
    {
     "data": {
      "text/plain": [
       "Dict{String, Int64} with 3 entries:\n",
       "  \"Car3\" => 300000\n",
       "  \"Car1\" => 100000\n",
       "  \"car2\" => 200000"
      ]
     },
     "execution_count": 52,
     "metadata": {},
     "output_type": "execute_result"
    }
   ],
   "source": [
    "cars = Dict(\"Car1\" => 100000, \"car2\" => 200000, \"Car3\" => 300000)"
   ]
  },
  {
   "cell_type": "code",
   "execution_count": 55,
   "metadata": {},
   "outputs": [
    {
     "data": {
      "text/plain": [
       "Dict{String, Int64} with 3 entries:\n",
       "  \"Car3\" => 300000\n",
       "  \"Car1\" => 100000\n",
       "  \"car2\" => 200000"
      ]
     },
     "execution_count": 55,
     "metadata": {},
     "output_type": "execute_result"
    }
   ],
   "source": [
    "cars"
   ]
  },
  {
   "cell_type": "code",
   "execution_count": 56,
   "metadata": {},
   "outputs": [
    {
     "data": {
      "text/plain": [
       "100000"
      ]
     },
     "execution_count": 56,
     "metadata": {},
     "output_type": "execute_result"
    }
   ],
   "source": [
    "cars[\"Car1\"]"
   ]
  },
  {
   "cell_type": "code",
   "execution_count": 57,
   "metadata": {},
   "outputs": [
    {
     "data": {
      "text/plain": [
       "Dict{Symbol, Int64} with 3 entries:\n",
       "  :Car3 => 300000\n",
       "  :Car1 => 100000\n",
       "  :Car2 => 200000"
      ]
     },
     "execution_count": 57,
     "metadata": {},
     "output_type": "execute_result"
    }
   ],
   "source": [
    "cars2 = Dict(:Car1 => 100000, :Car2 => 200000, :Car3 => 300000)"
   ]
  },
  {
   "cell_type": "code",
   "execution_count": 58,
   "metadata": {},
   "outputs": [
    {
     "data": {
      "text/plain": [
       "100000"
      ]
     },
     "execution_count": 58,
     "metadata": {},
     "output_type": "execute_result"
    }
   ],
   "source": [
    "cars2[:Car1]"
   ]
  },
  {
   "cell_type": "code",
   "execution_count": 61,
   "metadata": {},
   "outputs": [
    {
     "data": {
      "text/plain": [
       "100000"
      ]
     },
     "execution_count": 61,
     "metadata": {},
     "output_type": "execute_result"
    }
   ],
   "source": [
    "cars[\"Car1\"]"
   ]
  },
  {
   "cell_type": "code",
   "execution_count": 64,
   "metadata": {},
   "outputs": [
    {
     "data": {
      "text/plain": [
       "true"
      ]
     },
     "execution_count": 64,
     "metadata": {},
     "output_type": "execute_result"
    }
   ],
   "source": [
    "haskey(cars2, :Car1)"
   ]
  },
  {
   "cell_type": "code",
   "execution_count": 66,
   "metadata": {},
   "outputs": [
    {
     "data": {
      "text/plain": [
       "false"
      ]
     },
     "execution_count": 66,
     "metadata": {},
     "output_type": "execute_result"
    }
   ],
   "source": [
    "haskey(cars2, :cars3)"
   ]
  },
  {
   "cell_type": "code",
   "execution_count": 67,
   "metadata": {},
   "outputs": [
    {
     "data": {
      "text/plain": [
       "Dict{Symbol, Int64} with 2 entries:\n",
       "  :Car3 => 300000\n",
       "  :Car2 => 200000"
      ]
     },
     "execution_count": 67,
     "metadata": {},
     "output_type": "execute_result"
    }
   ],
   "source": [
    "delete!(cars2, :Car1)"
   ]
  },
  {
   "cell_type": "code",
   "execution_count": 68,
   "metadata": {},
   "outputs": [
    {
     "data": {
      "text/plain": [
       "KeySet for a Dict{Symbol, Int64} with 2 entries. Keys:\n",
       "  :Car3\n",
       "  :Car2"
      ]
     },
     "execution_count": 68,
     "metadata": {},
     "output_type": "execute_result"
    }
   ],
   "source": [
    "keys(cars2)"
   ]
  },
  {
   "cell_type": "code",
   "execution_count": 69,
   "metadata": {},
   "outputs": [
    {
     "data": {
      "text/plain": [
       "ValueIterator for a Dict{Symbol, Int64} with 2 entries. Values:\n",
       "  300000\n",
       "  200000"
      ]
     },
     "execution_count": 69,
     "metadata": {},
     "output_type": "execute_result"
    }
   ],
   "source": [
    "values(cars2)"
   ]
  },
  {
   "cell_type": "code",
   "execution_count": 70,
   "metadata": {},
   "outputs": [
    {
     "data": {
      "text/plain": [
       "Dict{Any, Int64} with 5 entries:\n",
       "  :Car3  => 300000\n",
       "  \"Car3\" => 300000\n",
       "  \"Car1\" => 100000\n",
       "  :Car2  => 200000\n",
       "  \"car2\" => 200000"
      ]
     },
     "execution_count": 70,
     "metadata": {},
     "output_type": "execute_result"
    }
   ],
   "source": [
    "dict2 = merge(cars, cars2)"
   ]
  },
  {
   "cell_type": "markdown",
   "metadata": {},
   "source": [
    "## Sets"
   ]
  },
  {
   "cell_type": "code",
   "execution_count": 72,
   "metadata": {},
   "outputs": [],
   "source": [
    "## It can't have duplicate elements\n",
    "## Its not an ordered collection"
   ]
  },
  {
   "cell_type": "code",
   "execution_count": 73,
   "metadata": {},
   "outputs": [
    {
     "data": {
      "text/plain": [
       "Set{String} with 4 elements:\n",
       "  \"Rebook\"\n",
       "  \"Nike\"\n",
       "  \"Puma\"\n",
       "  \"Adidas\""
      ]
     },
     "execution_count": 73,
     "metadata": {},
     "output_type": "execute_result"
    }
   ],
   "source": [
    "sports_brands = Set([\"Adidas\",\"Nike\",\"Puma\",\"Rebook\"])"
   ]
  },
  {
   "cell_type": "code",
   "execution_count": 74,
   "metadata": {},
   "outputs": [
    {
     "data": {
      "text/plain": [
       "false"
      ]
     },
     "execution_count": 74,
     "metadata": {},
     "output_type": "execute_result"
    }
   ],
   "source": [
    "in(\"HRX\",sports_brands)"
   ]
  },
  {
   "cell_type": "code",
   "execution_count": 75,
   "metadata": {},
   "outputs": [
    {
     "data": {
      "text/plain": [
       "true"
      ]
     },
     "execution_count": 75,
     "metadata": {},
     "output_type": "execute_result"
    }
   ],
   "source": [
    "in(\"Nike\",sports_brands)"
   ]
  },
  {
   "cell_type": "code",
   "execution_count": 79,
   "metadata": {},
   "outputs": [
    {
     "data": {
      "text/plain": [
       "Set{String} with 3 elements:\n",
       "  \"Nike\"\n",
       "  \"HRX\"\n",
       "  \"Adidas\""
      ]
     },
     "execution_count": 79,
     "metadata": {},
     "output_type": "execute_result"
    }
   ],
   "source": [
    "sports_brands_india = Set([\"Adidas\",\"Nike\",\"HRX\"])"
   ]
  },
  {
   "cell_type": "code",
   "execution_count": 80,
   "metadata": {},
   "outputs": [
    {
     "data": {
      "text/plain": [
       "Set{String} with 5 elements:\n",
       "  \"Rebook\"\n",
       "  \"Nike\"\n",
       "  \"Puma\"\n",
       "  \"HRX\"\n",
       "  \"Adidas\""
      ]
     },
     "execution_count": 80,
     "metadata": {},
     "output_type": "execute_result"
    }
   ],
   "source": [
    "union(sports_brands, sports_brands_india)"
   ]
  },
  {
   "cell_type": "code",
   "execution_count": 81,
   "metadata": {},
   "outputs": [
    {
     "data": {
      "text/plain": [
       "Set{String} with 2 elements:\n",
       "  \"Nike\"\n",
       "  \"Adidas\""
      ]
     },
     "execution_count": 81,
     "metadata": {},
     "output_type": "execute_result"
    }
   ],
   "source": [
    "intersect(sports_brands,sports_brands_india)"
   ]
  },
  {
   "cell_type": "code",
   "execution_count": 84,
   "metadata": {},
   "outputs": [
    {
     "data": {
      "text/plain": [
       "Set{String} with 2 elements:\n",
       "  \"Rebook\"\n",
       "  \"Puma\""
      ]
     },
     "execution_count": 84,
     "metadata": {},
     "output_type": "execute_result"
    }
   ],
   "source": [
    "setdiff(sports_brands,sports_brands_india)"
   ]
  },
  {
   "cell_type": "code",
   "execution_count": 85,
   "metadata": {},
   "outputs": [
    {
     "data": {
      "text/plain": [
       "Set{String} with 1 element:\n",
       "  \"HRX\""
      ]
     },
     "execution_count": 85,
     "metadata": {},
     "output_type": "execute_result"
    }
   ],
   "source": [
    "setdiff(sports_brands_india, sports_brands)"
   ]
  },
  {
   "cell_type": "code",
   "execution_count": 86,
   "metadata": {},
   "outputs": [
    {
     "data": {
      "text/plain": [
       "Set{String} with 5 elements:\n",
       "  \"Rebook\"\n",
       "  \"Nike\"\n",
       "  \"Puma\"\n",
       "  \"HRX\"\n",
       "  \"Adidas\""
      ]
     },
     "execution_count": 86,
     "metadata": {},
     "output_type": "execute_result"
    }
   ],
   "source": [
    "push!(sports_brands,\"HRX\")"
   ]
  },
  {
   "cell_type": "code",
   "execution_count": 88,
   "metadata": {},
   "outputs": [
    {
     "data": {
      "text/plain": [
       "\"Nike\""
      ]
     },
     "execution_count": 88,
     "metadata": {},
     "output_type": "execute_result"
    }
   ],
   "source": [
    "pop!(sports_brands,\"Nike\")"
   ]
  },
  {
   "cell_type": "code",
   "execution_count": 89,
   "metadata": {},
   "outputs": [
    {
     "data": {
      "text/plain": [
       "Set{String} with 4 elements:\n",
       "  \"Rebook\"\n",
       "  \"Puma\"\n",
       "  \"HRX\"\n",
       "  \"Adidas\""
      ]
     },
     "execution_count": 89,
     "metadata": {},
     "output_type": "execute_result"
    }
   ],
   "source": [
    "sports_brands"
   ]
  },
  {
   "cell_type": "markdown",
   "metadata": {},
   "source": [
    "## Working with date and time"
   ]
  },
  {
   "cell_type": "code",
   "execution_count": 92,
   "metadata": {},
   "outputs": [],
   "source": [
    "# Dates.Time\n",
    "# Dates.Date\n",
    "# Dates.Datetime"
   ]
  },
  {
   "cell_type": "code",
   "execution_count": 93,
   "metadata": {},
   "outputs": [],
   "source": [
    "using Dates"
   ]
  },
  {
   "cell_type": "code",
   "execution_count": 94,
   "metadata": {},
   "outputs": [
    {
     "data": {
      "text/plain": [
       "2021-06-25T19:19:36.768"
      ]
     },
     "execution_count": 94,
     "metadata": {},
     "output_type": "execute_result"
    }
   ],
   "source": [
    "now()"
   ]
  },
  {
   "cell_type": "code",
   "execution_count": 95,
   "metadata": {},
   "outputs": [
    {
     "data": {
      "text/plain": [
       "2021-06-25"
      ]
     },
     "execution_count": 95,
     "metadata": {},
     "output_type": "execute_result"
    }
   ],
   "source": [
    "today()"
   ]
  },
  {
   "cell_type": "code",
   "execution_count": 105,
   "metadata": {},
   "outputs": [
    {
     "data": {
      "text/plain": [
       "2000-05-01"
      ]
     },
     "execution_count": 105,
     "metadata": {},
     "output_type": "execute_result"
    }
   ],
   "source": [
    "birthday = Date(2000,5,1)"
   ]
  },
  {
   "cell_type": "code",
   "execution_count": 106,
   "metadata": {},
   "outputs": [
    {
     "data": {
      "text/plain": [
       "2000-05-01T10:15:25"
      ]
     },
     "execution_count": 106,
     "metadata": {},
     "output_type": "execute_result"
    }
   ],
   "source": [
    "DateTime(2000,5,1,10,15,25)"
   ]
  },
  {
   "cell_type": "code",
   "execution_count": 107,
   "metadata": {},
   "outputs": [
    {
     "data": {
      "text/plain": [
       "2021-06-26T00:23:19.539"
      ]
     },
     "execution_count": 107,
     "metadata": {},
     "output_type": "execute_result"
    }
   ],
   "source": [
    "now(UTC)"
   ]
  },
  {
   "cell_type": "code",
   "execution_count": 108,
   "metadata": {},
   "outputs": [
    {
     "data": {
      "text/plain": [
       "2000"
      ]
     },
     "execution_count": 108,
     "metadata": {},
     "output_type": "execute_result"
    }
   ],
   "source": [
    "year(birthday)"
   ]
  },
  {
   "cell_type": "code",
   "execution_count": 109,
   "metadata": {},
   "outputs": [
    {
     "data": {
      "text/plain": [
       "5"
      ]
     },
     "execution_count": 109,
     "metadata": {},
     "output_type": "execute_result"
    }
   ],
   "source": [
    "month(birthday)"
   ]
  },
  {
   "cell_type": "code",
   "execution_count": 110,
   "metadata": {},
   "outputs": [
    {
     "data": {
      "text/plain": [
       "1"
      ]
     },
     "execution_count": 110,
     "metadata": {},
     "output_type": "execute_result"
    }
   ],
   "source": [
    "day(birthday)"
   ]
  },
  {
   "cell_type": "code",
   "execution_count": 111,
   "metadata": {},
   "outputs": [
    {
     "data": {
      "text/plain": [
       "2021"
      ]
     },
     "execution_count": 111,
     "metadata": {},
     "output_type": "execute_result"
    }
   ],
   "source": [
    "year(now())"
   ]
  },
  {
   "cell_type": "code",
   "execution_count": 112,
   "metadata": {},
   "outputs": [
    {
     "data": {
      "text/plain": [
       "19"
      ]
     },
     "execution_count": 112,
     "metadata": {},
     "output_type": "execute_result"
    }
   ],
   "source": [
    "hour(now())"
   ]
  },
  {
   "cell_type": "code",
   "execution_count": 113,
   "metadata": {},
   "outputs": [
    {
     "data": {
      "text/plain": [
       "24"
      ]
     },
     "execution_count": 113,
     "metadata": {},
     "output_type": "execute_result"
    }
   ],
   "source": [
    "minute(now())"
   ]
  },
  {
   "cell_type": "code",
   "execution_count": 114,
   "metadata": {},
   "outputs": [
    {
     "data": {
      "text/plain": [
       "40"
      ]
     },
     "execution_count": 114,
     "metadata": {},
     "output_type": "execute_result"
    }
   ],
   "source": [
    "second(now())"
   ]
  },
  {
   "cell_type": "code",
   "execution_count": 115,
   "metadata": {},
   "outputs": [
    {
     "data": {
      "text/plain": [
       "1"
      ]
     },
     "execution_count": 115,
     "metadata": {},
     "output_type": "execute_result"
    }
   ],
   "source": [
    "dayofweek(birthday)"
   ]
  },
  {
   "cell_type": "code",
   "execution_count": 116,
   "metadata": {},
   "outputs": [
    {
     "data": {
      "text/plain": [
       "\"Monday\""
      ]
     },
     "execution_count": 116,
     "metadata": {},
     "output_type": "execute_result"
    }
   ],
   "source": [
    "dayname(birthday)"
   ]
  },
  {
   "cell_type": "code",
   "execution_count": 117,
   "metadata": {},
   "outputs": [
    {
     "data": {
      "text/plain": [
       "31"
      ]
     },
     "execution_count": 117,
     "metadata": {},
     "output_type": "execute_result"
    }
   ],
   "source": [
    "dayofquarter(birthday)"
   ]
  },
  {
   "cell_type": "code",
   "execution_count": 118,
   "metadata": {},
   "outputs": [
    {
     "data": {
      "text/plain": [
       "31"
      ]
     },
     "execution_count": 118,
     "metadata": {},
     "output_type": "execute_result"
    }
   ],
   "source": [
    "daysinmonth(birthday)"
   ]
  },
  {
   "cell_type": "code",
   "execution_count": 119,
   "metadata": {},
   "outputs": [
    {
     "data": {
      "text/plain": [
       "2021-06-25"
      ]
     },
     "execution_count": 119,
     "metadata": {},
     "output_type": "execute_result"
    }
   ],
   "source": [
    "today()"
   ]
  },
  {
   "cell_type": "code",
   "execution_count": 120,
   "metadata": {},
   "outputs": [
    {
     "data": {
      "text/plain": [
       "7725 days"
      ]
     },
     "execution_count": 120,
     "metadata": {},
     "output_type": "execute_result"
    }
   ],
   "source": [
    "today() - birthday"
   ]
  },
  {
   "cell_type": "code",
   "execution_count": 121,
   "metadata": {},
   "outputs": [
    {
     "data": {
      "text/plain": [
       "2000-05-01"
      ]
     },
     "execution_count": 121,
     "metadata": {},
     "output_type": "execute_result"
    }
   ],
   "source": [
    "birthday"
   ]
  },
  {
   "cell_type": "code",
   "execution_count": 122,
   "metadata": {},
   "outputs": [
    {
     "data": {
      "text/plain": [
       "2021-11-25"
      ]
     },
     "execution_count": 122,
     "metadata": {},
     "output_type": "execute_result"
    }
   ],
   "source": [
    "today() + Month(5)"
   ]
  },
  {
   "cell_type": "code",
   "execution_count": 123,
   "metadata": {},
   "outputs": [
    {
     "data": {
      "text/plain": [
       "2021-06-27"
      ]
     },
     "execution_count": 123,
     "metadata": {},
     "output_type": "execute_result"
    }
   ],
   "source": [
    "today() + Day(2)"
   ]
  },
  {
   "cell_type": "code",
   "execution_count": 125,
   "metadata": {},
   "outputs": [
    {
     "data": {
      "text/plain": [
       "2024-06-25"
      ]
     },
     "execution_count": 125,
     "metadata": {},
     "output_type": "execute_result"
    }
   ],
   "source": [
    "today() + Year(3)"
   ]
  },
  {
   "cell_type": "code",
   "execution_count": 126,
   "metadata": {},
   "outputs": [
    {
     "data": {
      "text/plain": [
       "dateformat\"dd-mm-yyyy\""
      ]
     },
     "execution_count": 126,
     "metadata": {},
     "output_type": "execute_result"
    }
   ],
   "source": [
    "date_format = DateFormat(\"dd-mm-yyyy\")"
   ]
  },
  {
   "cell_type": "code",
   "execution_count": 127,
   "metadata": {},
   "outputs": [
    {
     "data": {
      "text/plain": [
       "\"01-05-2000\""
      ]
     },
     "execution_count": 127,
     "metadata": {},
     "output_type": "execute_result"
    }
   ],
   "source": [
    "Dates.format(birthday, date_format)"
   ]
  },
  {
   "cell_type": "markdown",
   "metadata": {},
   "source": [
    "## Conditional statement"
   ]
  },
  {
   "cell_type": "code",
   "execution_count": 128,
   "metadata": {},
   "outputs": [
    {
     "data": {
      "text/plain": [
       "10"
      ]
     },
     "execution_count": 128,
     "metadata": {},
     "output_type": "execute_result"
    }
   ],
   "source": [
    "a= 10"
   ]
  },
  {
   "cell_type": "code",
   "execution_count": 129,
   "metadata": {},
   "outputs": [
    {
     "data": {
      "text/plain": [
       "\"No\""
      ]
     },
     "execution_count": 129,
     "metadata": {},
     "output_type": "execute_result"
    }
   ],
   "source": [
    "a > 10 ? \"Yes\" : \"No\""
   ]
  },
  {
   "cell_type": "code",
   "execution_count": 130,
   "metadata": {},
   "outputs": [
    {
     "data": {
      "text/plain": [
       "\"Hi\""
      ]
     },
     "execution_count": 130,
     "metadata": {},
     "output_type": "execute_result"
    }
   ],
   "source": [
    "a < 10 ? \"Hello\" : \"Hi\""
   ]
  },
  {
   "cell_type": "code",
   "execution_count": 132,
   "metadata": {},
   "outputs": [
    {
     "data": {
      "text/plain": [
       "\"Yes\""
      ]
     },
     "execution_count": 132,
     "metadata": {},
     "output_type": "execute_result"
    }
   ],
   "source": [
    "a <= 10 ? \"Yes\" : \"No\""
   ]
  },
  {
   "cell_type": "code",
   "execution_count": 133,
   "metadata": {},
   "outputs": [
    {
     "data": {
      "text/plain": [
       "20"
      ]
     },
     "execution_count": 133,
     "metadata": {},
     "output_type": "execute_result"
    }
   ],
   "source": [
    "b = 20"
   ]
  },
  {
   "cell_type": "code",
   "execution_count": 135,
   "metadata": {},
   "outputs": [
    {
     "data": {
      "text/plain": [
       "true"
      ]
     },
     "execution_count": 135,
     "metadata": {},
     "output_type": "execute_result"
    }
   ],
   "source": [
    "a >= 10 || b < 20"
   ]
  },
  {
   "cell_type": "code",
   "execution_count": 137,
   "metadata": {},
   "outputs": [
    {
     "data": {
      "text/plain": [
       "false"
      ]
     },
     "execution_count": 137,
     "metadata": {},
     "output_type": "execute_result"
    }
   ],
   "source": [
    "a > 10 || b < 20"
   ]
  },
  {
   "cell_type": "code",
   "execution_count": 138,
   "metadata": {},
   "outputs": [
    {
     "data": {
      "text/plain": [
       "false"
      ]
     },
     "execution_count": 138,
     "metadata": {},
     "output_type": "execute_result"
    }
   ],
   "source": [
    "a > 10 && b < 20"
   ]
  },
  {
   "cell_type": "code",
   "execution_count": 139,
   "metadata": {},
   "outputs": [
    {
     "name": "stdout",
     "output_type": "stream",
     "text": [
      "a is equal to 10"
     ]
    }
   ],
   "source": [
    "if a > 10\n",
    "    print(\"a is greater than 10\")\n",
    "elseif a < 10\n",
    "    print(\"a is less than 10\")\n",
    "else\n",
    "    print(\"a is equal to 10\")\n",
    "end"
   ]
  },
  {
   "cell_type": "code",
   "execution_count": 141,
   "metadata": {},
   "outputs": [
    {
     "data": {
      "text/plain": [
       "\"United States\""
      ]
     },
     "execution_count": 141,
     "metadata": {},
     "output_type": "execute_result"
    }
   ],
   "source": [
    "country = \"United States\""
   ]
  },
  {
   "cell_type": "code",
   "execution_count": 143,
   "metadata": {},
   "outputs": [
    {
     "name": "stdout",
     "output_type": "stream",
     "text": [
      "You mentioned United States"
     ]
    }
   ],
   "source": [
    "if country == \"United States\"\n",
    "    print(\"You mentioned United States\")\n",
    "else\n",
    "    print(\"You are in a country other than United States\")\n",
    "end"
   ]
  },
  {
   "cell_type": "markdown",
   "metadata": {},
   "source": [
    "## Loops"
   ]
  },
  {
   "cell_type": "code",
   "execution_count": 146,
   "metadata": {},
   "outputs": [
    {
     "name": "stdout",
     "output_type": "stream",
     "text": [
      "Adidas Nike Puma "
     ]
    }
   ],
   "source": [
    "for i in [\"Adidas\",\"Nike\",\"Puma\"]\n",
    "    print(i,\" \")\n",
    "end"
   ]
  },
  {
   "cell_type": "code",
   "execution_count": 149,
   "metadata": {},
   "outputs": [
    {
     "name": "stdout",
     "output_type": "stream",
     "text": [
      "A d i d a s "
     ]
    }
   ],
   "source": [
    "for i in \"Adidas\"\n",
    "    print(i,\" \")\n",
    "end"
   ]
  },
  {
   "cell_type": "code",
   "execution_count": 150,
   "metadata": {},
   "outputs": [
    {
     "name": "stdout",
     "output_type": "stream",
     "text": [
      "1,2,3,4,5,"
     ]
    }
   ],
   "source": [
    "for t in (1,2,3,4,5)\n",
    "    print(t, \",\")\n",
    "end"
   ]
  },
  {
   "cell_type": "code",
   "execution_count": 154,
   "metadata": {},
   "outputs": [
    {
     "name": "stdout",
     "output_type": "stream",
     "text": [
      ":C2 => 2000 :C1 => 1000 "
     ]
    }
   ],
   "source": [
    "for d in Dict(:C1 => 1000, :C2 => 2000)\n",
    "    print(d,\" \")\n",
    "end"
   ]
  },
  {
   "cell_type": "code",
   "execution_count": 155,
   "metadata": {},
   "outputs": [
    {
     "name": "stdout",
     "output_type": "stream",
     "text": [
      "54231"
     ]
    }
   ],
   "source": [
    "for s in Set([1,2,3,4,5])\n",
    "    print(s)\n",
    "end"
   ]
  },
  {
   "cell_type": "code",
   "execution_count": 156,
   "metadata": {},
   "outputs": [
    {
     "name": "stdout",
     "output_type": "stream",
     "text": [
      "1 2 3 4 5 "
     ]
    }
   ],
   "source": [
    "for r in 1:5\n",
    "    print(r,\" \")\n",
    "end"
   ]
  },
  {
   "cell_type": "code",
   "execution_count": 157,
   "metadata": {},
   "outputs": [
    {
     "name": "stdout",
     "output_type": "stream",
     "text": [
      "1 3 5 7 9 11 13 15 17 19 "
     ]
    }
   ],
   "source": [
    "for r in 1:2:20\n",
    "    print(r,\" \")\n",
    "end"
   ]
  },
  {
   "cell_type": "code",
   "execution_count": 159,
   "metadata": {},
   "outputs": [
    {
     "name": "stdout",
     "output_type": "stream",
     "text": [
      "range = 1\n",
      "range = 2\n",
      "range = 3\n",
      "range = 4\n",
      "range = 5\n"
     ]
    }
   ],
   "source": [
    "for range in 1:5\n",
    "    @show range\n",
    "end"
   ]
  },
  {
   "cell_type": "code",
   "execution_count": 161,
   "metadata": {},
   "outputs": [
    {
     "name": "stdout",
     "output_type": "stream",
     "text": [
      "t = 1\n",
      "t = 2\n",
      "t = 3\n",
      "t = 4\n",
      "t = 5\n"
     ]
    }
   ],
   "source": [
    "for t in 1:5\n",
    "    @show t\n",
    "end"
   ]
  },
  {
   "cell_type": "code",
   "execution_count": 163,
   "metadata": {},
   "outputs": [
    {
     "name": "stdout",
     "output_type": "stream",
     "text": [
      "2\n",
      "4\n",
      "6\n",
      "8\n",
      "10\n"
     ]
    }
   ],
   "source": [
    "for x in 1:10\n",
    "    if x % 2 == 0 \n",
    "        println(x)\n",
    "    end\n",
    "end\n"
   ]
  },
  {
   "cell_type": "code",
   "execution_count": 165,
   "metadata": {},
   "outputs": [
    {
     "name": "stdout",
     "output_type": "stream",
     "text": [
      "10 is multiplication between 1 and 10\n",
      "20 is multiplication between 2 and 10\n",
      "30 is multiplication between 3 and 10\n",
      "40 is multiplication between 4 and 10\n",
      "50 is multiplication between 5 and 10\n",
      "60 is multiplication between 6 and 10\n",
      "70 is multiplication between 7 and 10\n",
      "80 is multiplication between 8 and 10\n",
      "90 is multiplication between 9 and 10\n",
      "100 is multiplication between 10 and 10\n"
     ]
    }
   ],
   "source": [
    "for i in 1:10\n",
    "    j = i * 10\n",
    "    println(\"$(j) is multiplication between $(i) and 10\")\n",
    "end"
   ]
  },
  {
   "cell_type": "code",
   "execution_count": 166,
   "metadata": {},
   "outputs": [
    {
     "name": "stdout",
     "output_type": "stream",
     "text": [
      "1\n",
      "3\n",
      "5\n",
      "7\n",
      "9\n"
     ]
    }
   ],
   "source": [
    "for i in 1:10\n",
    "    if i %2 == 0\n",
    "        continue\n",
    "    end\n",
    "    println(i)\n",
    "end"
   ]
  },
  {
   "cell_type": "code",
   "execution_count": 167,
   "metadata": {},
   "outputs": [
    {
     "data": {
      "text/plain": [
       "1"
      ]
     },
     "execution_count": 167,
     "metadata": {},
     "output_type": "execute_result"
    }
   ],
   "source": [
    "a=1"
   ]
  },
  {
   "cell_type": "code",
   "execution_count": 168,
   "metadata": {},
   "outputs": [
    {
     "name": "stdout",
     "output_type": "stream",
     "text": [
      "1\n",
      "2\n",
      "3\n",
      "4\n",
      "5\n",
      "6\n",
      "7\n",
      "8\n",
      "9\n"
     ]
    }
   ],
   "source": [
    "while a < 10\n",
    "    println(a)\n",
    "    a += 1\n",
    "end"
   ]
  },
  {
   "cell_type": "markdown",
   "metadata": {},
   "source": [
    "## Comprehensions"
   ]
  },
  {
   "cell_type": "code",
   "execution_count": 169,
   "metadata": {},
   "outputs": [
    {
     "data": {
      "text/plain": [
       "10-element Vector{Int64}:\n",
       "  1\n",
       "  2\n",
       "  3\n",
       "  4\n",
       "  5\n",
       "  6\n",
       "  7\n",
       "  8\n",
       "  9\n",
       " 10"
      ]
     },
     "execution_count": 169,
     "metadata": {},
     "output_type": "execute_result"
    }
   ],
   "source": [
    "x = [i for i in 1:10]"
   ]
  },
  {
   "cell_type": "code",
   "execution_count": 170,
   "metadata": {},
   "outputs": [
    {
     "data": {
      "text/plain": [
       "10-element Vector{Int64}:\n",
       "  1\n",
       "  2\n",
       "  3\n",
       "  4\n",
       "  5\n",
       "  6\n",
       "  7\n",
       "  8\n",
       "  9\n",
       " 10"
      ]
     },
     "execution_count": 170,
     "metadata": {},
     "output_type": "execute_result"
    }
   ],
   "source": [
    "x"
   ]
  },
  {
   "cell_type": "code",
   "execution_count": 171,
   "metadata": {},
   "outputs": [
    {
     "data": {
      "text/plain": [
       "10-element Vector{Int64}:\n",
       "  2\n",
       "  4\n",
       "  6\n",
       "  8\n",
       " 10\n",
       " 12\n",
       " 14\n",
       " 16\n",
       " 18\n",
       " 20"
      ]
     },
     "execution_count": 171,
     "metadata": {},
     "output_type": "execute_result"
    }
   ],
   "source": [
    "x = [i*2 for i in 1:10]"
   ]
  },
  {
   "cell_type": "code",
   "execution_count": 172,
   "metadata": {},
   "outputs": [
    {
     "data": {
      "text/plain": [
       "10-element Vector{Int64}:\n",
       "   1\n",
       "   4\n",
       "   9\n",
       "  16\n",
       "  25\n",
       "  36\n",
       "  49\n",
       "  64\n",
       "  81\n",
       " 100"
      ]
     },
     "execution_count": 172,
     "metadata": {},
     "output_type": "execute_result"
    }
   ],
   "source": [
    "x = [i^2 for i in 1:10]"
   ]
  },
  {
   "cell_type": "code",
   "execution_count": 174,
   "metadata": {},
   "outputs": [
    {
     "data": {
      "text/plain": [
       "Set{Int64} with 10 elements:\n",
       "  5\n",
       "  4\n",
       "  6\n",
       "  7\n",
       "  2\n",
       "  10\n",
       "  9\n",
       "  8\n",
       "  3\n",
       "  1"
      ]
     },
     "execution_count": 174,
     "metadata": {},
     "output_type": "execute_result"
    }
   ],
   "source": [
    "s = Set([i for i in 1:10])"
   ]
  },
  {
   "cell_type": "code",
   "execution_count": 176,
   "metadata": {},
   "outputs": [
    {
     "data": {
      "text/plain": [
       "Dict{String, Int64} with 26 entries:\n",
       "  \"Z\" => 26\n",
       "  \"Q\" => 17\n",
       "  \"W\" => 23\n",
       "  \"T\" => 20\n",
       "  \"C\" => 3\n",
       "  \"P\" => 16\n",
       "  \"V\" => 22\n",
       "  \"L\" => 12\n",
       "  \"O\" => 15\n",
       "  \"B\" => 2\n",
       "  \"M\" => 13\n",
       "  \"N\" => 14\n",
       "  \"H\" => 8\n",
       "  \"A\" => 1\n",
       "  \"X\" => 24\n",
       "  \"D\" => 4\n",
       "  \"G\" => 7\n",
       "  \"E\" => 5\n",
       "  \"Y\" => 25\n",
       "  \"I\" => 9\n",
       "  \"J\" => 10\n",
       "  \"S\" => 19\n",
       "  \"U\" => 21\n",
       "  \"K\" => 11\n",
       "  \"R\" => 18\n",
       "  \"F\" => 6"
      ]
     },
     "execution_count": 176,
     "metadata": {},
     "output_type": "execute_result"
    }
   ],
   "source": [
    "a1 = Dict(string(Char(x + 64)) => x for x in 1:26)"
   ]
  },
  {
   "cell_type": "code",
   "execution_count": 177,
   "metadata": {},
   "outputs": [
    {
     "data": {
      "text/plain": [
       "3×2 Matrix{Tuple{Int64, Int64}}:\n",
       " (1, 1)  (1, 2)\n",
       " (2, 1)  (2, 2)\n",
       " (3, 1)  (3, 2)"
      ]
     },
     "execution_count": 177,
     "metadata": {},
     "output_type": "execute_result"
    }
   ],
   "source": [
    "[(x,y) for x in 1:3, y in 1:2]"
   ]
  },
  {
   "cell_type": "code",
   "execution_count": 178,
   "metadata": {},
   "outputs": [
    {
     "data": {
      "text/plain": [
       "5-element Vector{Int64}:\n",
       "  2\n",
       "  4\n",
       "  6\n",
       "  8\n",
       " 10"
      ]
     },
     "execution_count": 178,
     "metadata": {},
     "output_type": "execute_result"
    }
   ],
   "source": [
    "[x for x in 1:10 if x%2 ==0]"
   ]
  },
  {
   "cell_type": "markdown",
   "metadata": {},
   "source": [
    "## Working with Strings"
   ]
  },
  {
   "cell_type": "code",
   "execution_count": 179,
   "metadata": {},
   "outputs": [
    {
     "data": {
      "text/plain": [
       "\"I love Julia\""
      ]
     },
     "execution_count": 179,
     "metadata": {},
     "output_type": "execute_result"
    }
   ],
   "source": [
    "s1 = \"I love Julia\""
   ]
  },
  {
   "cell_type": "code",
   "execution_count": 180,
   "metadata": {},
   "outputs": [
    {
     "data": {
      "text/plain": [
       "12"
      ]
     },
     "execution_count": 180,
     "metadata": {},
     "output_type": "execute_result"
    }
   ],
   "source": [
    "length(s1)"
   ]
  },
  {
   "cell_type": "code",
   "execution_count": 181,
   "metadata": {},
   "outputs": [
    {
     "data": {
      "text/plain": [
       "'a': ASCII/Unicode U+0061 (category Ll: Letter, lowercase)"
      ]
     },
     "execution_count": 181,
     "metadata": {},
     "output_type": "execute_result"
    }
   ],
   "source": [
    "s1[end]"
   ]
  },
  {
   "cell_type": "code",
   "execution_count": 182,
   "metadata": {},
   "outputs": [
    {
     "data": {
      "text/plain": [
       "12"
      ]
     },
     "execution_count": 182,
     "metadata": {},
     "output_type": "execute_result"
    }
   ],
   "source": [
    "lastindex(s1)"
   ]
  },
  {
   "cell_type": "code",
   "execution_count": 183,
   "metadata": {},
   "outputs": [
    {
     "data": {
      "text/plain": [
       "'o': ASCII/Unicode U+006F (category Ll: Letter, lowercase)"
      ]
     },
     "execution_count": 183,
     "metadata": {},
     "output_type": "execute_result"
    }
   ],
   "source": [
    "s1[4]"
   ]
  },
  {
   "cell_type": "code",
   "execution_count": 185,
   "metadata": {},
   "outputs": [
    {
     "data": {
      "text/plain": [
       "'l': ASCII/Unicode U+006C (category Ll: Letter, lowercase)"
      ]
     },
     "execution_count": 185,
     "metadata": {},
     "output_type": "execute_result"
    }
   ],
   "source": [
    "s1[10]"
   ]
  },
  {
   "cell_type": "code",
   "execution_count": 186,
   "metadata": {},
   "outputs": [
    {
     "data": {
      "text/plain": [
       "\"love\""
      ]
     },
     "execution_count": 186,
     "metadata": {},
     "output_type": "execute_result"
    }
   ],
   "source": [
    "s1[3:6]"
   ]
  },
  {
   "cell_type": "code",
   "execution_count": 187,
   "metadata": {},
   "outputs": [
    {
     "data": {
      "text/plain": [
       "true"
      ]
     },
     "execution_count": 187,
     "metadata": {},
     "output_type": "execute_result"
    }
   ],
   "source": [
    "isascii(s1)"
   ]
  },
  {
   "cell_type": "code",
   "execution_count": 189,
   "metadata": {},
   "outputs": [
    {
     "data": {
      "text/plain": [
       "\"Love Julia\""
      ]
     },
     "execution_count": 189,
     "metadata": {},
     "output_type": "execute_result"
    }
   ],
   "source": [
    "\"Love\" * \" Julia\""
   ]
  },
  {
   "cell_type": "code",
   "execution_count": 191,
   "metadata": {},
   "outputs": [
    {
     "data": {
      "text/plain": [
       "\"Love Love Love Love Love \""
      ]
     },
     "execution_count": 191,
     "metadata": {},
     "output_type": "execute_result"
    }
   ],
   "source": [
    "\"Love \" ^ 5"
   ]
  },
  {
   "cell_type": "code",
   "execution_count": 192,
   "metadata": {},
   "outputs": [
    {
     "data": {
      "text/plain": [
       "\"Love Julia\""
      ]
     },
     "execution_count": 192,
     "metadata": {},
     "output_type": "execute_result"
    }
   ],
   "source": [
    "string(\"Love\",\" \",\"Julia\")"
   ]
  },
  {
   "cell_type": "code",
   "execution_count": 193,
   "metadata": {},
   "outputs": [
    {
     "data": {
      "text/plain": [
       "3-element Vector{SubString{String}}:\n",
       " \"I\"\n",
       " \"love\"\n",
       " \"Julia\""
      ]
     },
     "execution_count": 193,
     "metadata": {},
     "output_type": "execute_result"
    }
   ],
   "source": [
    "split(s1)"
   ]
  },
  {
   "cell_type": "code",
   "execution_count": 194,
   "metadata": {},
   "outputs": [
    {
     "data": {
      "text/plain": [
       "2-element Vector{SubString{String}}:\n",
       " \"I lov\"\n",
       " \" Julia\""
      ]
     },
     "execution_count": 194,
     "metadata": {},
     "output_type": "execute_result"
    }
   ],
   "source": [
    "split(s1,\"e\")"
   ]
  },
  {
   "cell_type": "code",
   "execution_count": 195,
   "metadata": {},
   "outputs": [
    {
     "data": {
      "text/plain": [
       "2-element Vector{SubString{String}}:\n",
       " \"I \"\n",
       " \" Julia\""
      ]
     },
     "execution_count": 195,
     "metadata": {},
     "output_type": "execute_result"
    }
   ],
   "source": [
    "split(s1,\"love\")"
   ]
  },
  {
   "cell_type": "code",
   "execution_count": 196,
   "metadata": {},
   "outputs": [
    {
     "data": {
      "text/plain": [
       "12-element Vector{SubString{String}}:\n",
       " \"I\"\n",
       " \" \"\n",
       " \"l\"\n",
       " \"o\"\n",
       " \"v\"\n",
       " \"e\"\n",
       " \" \"\n",
       " \"J\"\n",
       " \"u\"\n",
       " \"l\"\n",
       " \"i\"\n",
       " \"a\""
      ]
     },
     "execution_count": 196,
     "metadata": {},
     "output_type": "execute_result"
    }
   ],
   "source": [
    "split(s1,\"\")"
   ]
  },
  {
   "cell_type": "code",
   "execution_count": 197,
   "metadata": {},
   "outputs": [
    {
     "data": {
      "text/plain": [
       "100"
      ]
     },
     "execution_count": 197,
     "metadata": {},
     "output_type": "execute_result"
    }
   ],
   "source": [
    "parse(Int64,\"100\")"
   ]
  },
  {
   "cell_type": "code",
   "execution_count": 198,
   "metadata": {},
   "outputs": [
    {
     "data": {
      "text/plain": [
       "5.4"
      ]
     },
     "execution_count": 198,
     "metadata": {},
     "output_type": "execute_result"
    }
   ],
   "source": [
    "parse(Float64,\"5.4\")"
   ]
  },
  {
   "cell_type": "code",
   "execution_count": 199,
   "metadata": {},
   "outputs": [
    {
     "data": {
      "text/plain": [
       "true"
      ]
     },
     "execution_count": 199,
     "metadata": {},
     "output_type": "execute_result"
    }
   ],
   "source": [
    "in('I', s1)"
   ]
  },
  {
   "cell_type": "code",
   "execution_count": 200,
   "metadata": {},
   "outputs": [
    {
     "data": {
      "text/plain": [
       "true"
      ]
     },
     "execution_count": 200,
     "metadata": {},
     "output_type": "execute_result"
    }
   ],
   "source": [
    "occursin(\"love\",s1)"
   ]
  },
  {
   "cell_type": "code",
   "execution_count": 201,
   "metadata": {},
   "outputs": [
    {
     "data": {
      "text/plain": [
       "3:3"
      ]
     },
     "execution_count": 201,
     "metadata": {},
     "output_type": "execute_result"
    }
   ],
   "source": [
    "findfirst(\"l\",s1)"
   ]
  },
  {
   "cell_type": "code",
   "execution_count": 202,
   "metadata": {},
   "outputs": [
    {
     "data": {
      "text/plain": [
       "3:6"
      ]
     },
     "execution_count": 202,
     "metadata": {},
     "output_type": "execute_result"
    }
   ],
   "source": [
    "findfirst(\"love\",s1)"
   ]
  },
  {
   "cell_type": "code",
   "execution_count": 204,
   "metadata": {},
   "outputs": [
    {
     "data": {
      "text/plain": [
       "\"I adore Julia\""
      ]
     },
     "execution_count": 204,
     "metadata": {},
     "output_type": "execute_result"
    }
   ],
   "source": [
    "replace(s1,\"love\" => \"adore\")"
   ]
  },
  {
   "cell_type": "markdown",
   "metadata": {},
   "source": [
    "## Functions"
   ]
  },
  {
   "cell_type": "code",
   "execution_count": 205,
   "metadata": {},
   "outputs": [
    {
     "data": {
      "text/plain": [
       "6"
      ]
     },
     "execution_count": 205,
     "metadata": {},
     "output_type": "execute_result"
    }
   ],
   "source": [
    "f(x) = x + x\n",
    "f(3)"
   ]
  },
  {
   "cell_type": "code",
   "execution_count": 206,
   "metadata": {},
   "outputs": [
    {
     "data": {
      "text/plain": [
       "f (generic function with 1 method)"
      ]
     },
     "execution_count": 206,
     "metadata": {},
     "output_type": "execute_result"
    }
   ],
   "source": [
    "f(x) = x*x"
   ]
  },
  {
   "cell_type": "code",
   "execution_count": 207,
   "metadata": {},
   "outputs": [
    {
     "data": {
      "text/plain": [
       "16"
      ]
     },
     "execution_count": 207,
     "metadata": {},
     "output_type": "execute_result"
    }
   ],
   "source": [
    "f(4)"
   ]
  },
  {
   "cell_type": "code",
   "execution_count": 208,
   "metadata": {},
   "outputs": [
    {
     "data": {
      "text/plain": [
       "f (generic function with 2 methods)"
      ]
     },
     "execution_count": 208,
     "metadata": {},
     "output_type": "execute_result"
    }
   ],
   "source": [
    "f(x,y) = x*2 -y"
   ]
  },
  {
   "cell_type": "code",
   "execution_count": 209,
   "metadata": {},
   "outputs": [
    {
     "data": {
      "text/plain": [
       "2"
      ]
     },
     "execution_count": 209,
     "metadata": {},
     "output_type": "execute_result"
    }
   ],
   "source": [
    "f(3,4)"
   ]
  },
  {
   "cell_type": "code",
   "execution_count": 210,
   "metadata": {},
   "outputs": [
    {
     "data": {
      "text/plain": [
       "1"
      ]
     },
     "execution_count": 210,
     "metadata": {},
     "output_type": "execute_result"
    }
   ],
   "source": [
    "f(2,3)"
   ]
  },
  {
   "cell_type": "code",
   "execution_count": 212,
   "metadata": {},
   "outputs": [
    {
     "data": {
      "text/plain": [
       "multply (generic function with 1 method)"
      ]
     },
     "execution_count": 212,
     "metadata": {},
     "output_type": "execute_result"
    }
   ],
   "source": [
    "function multply(x,y)\n",
    "    return(x*y)\n",
    "end"
   ]
  },
  {
   "cell_type": "code",
   "execution_count": 213,
   "metadata": {},
   "outputs": [
    {
     "data": {
      "text/plain": [
       "12"
      ]
     },
     "execution_count": 213,
     "metadata": {},
     "output_type": "execute_result"
    }
   ],
   "source": [
    "multply(3,4)"
   ]
  },
  {
   "cell_type": "code",
   "execution_count": 215,
   "metadata": {},
   "outputs": [
    {
     "data": {
      "text/plain": [
       "convert_meter_to_inch (generic function with 1 method)"
      ]
     },
     "execution_count": 215,
     "metadata": {},
     "output_type": "execute_result"
    }
   ],
   "source": [
    "function convert_meter_to_inch(val)\n",
    "    return val * 39.37\n",
    "end"
   ]
  },
  {
   "cell_type": "code",
   "execution_count": 216,
   "metadata": {},
   "outputs": [
    {
     "data": {
      "text/plain": [
       "59.05499999999999"
      ]
     },
     "execution_count": 216,
     "metadata": {},
     "output_type": "execute_result"
    }
   ],
   "source": [
    "convert_meter_to_inch(1.5)"
   ]
  },
  {
   "cell_type": "code",
   "execution_count": 1,
   "metadata": {},
   "outputs": [
    {
     "data": {
      "text/plain": [
       "convert_meter_to_inch (generic function with 2 methods)"
      ]
     },
     "execution_count": 1,
     "metadata": {},
     "output_type": "execute_result"
    }
   ],
   "source": [
    "function convert_meter_to_inch(val, name = \"Patron\")\n",
    "    if name == \"Patron\"\n",
    "        println(\"Value for name is not supplied\")\n",
    "    else\n",
    "        println(\"Hi..\",name,\" this conversion value is \")\n",
    "    end\n",
    "    return val * 39,37\n",
    "end"
   ]
  },
  {
   "cell_type": "code",
   "execution_count": 2,
   "metadata": {},
   "outputs": [
    {
     "name": "stdout",
     "output_type": "stream",
     "text": [
      "Value for name is not supplied\n"
     ]
    },
    {
     "data": {
      "text/plain": [
       "(89.69999999999999, 37)"
      ]
     },
     "execution_count": 2,
     "metadata": {},
     "output_type": "execute_result"
    }
   ],
   "source": [
    "convert_meter_to_inch(2.3)"
   ]
  },
  {
   "cell_type": "code",
   "execution_count": 3,
   "metadata": {},
   "outputs": [
    {
     "name": "stdout",
     "output_type": "stream",
     "text": [
      "Hi..Shailendra this conversion value is \n"
     ]
    },
    {
     "data": {
      "text/plain": [
       "(89.69999999999999, 37)"
      ]
     },
     "execution_count": 3,
     "metadata": {},
     "output_type": "execute_result"
    }
   ],
   "source": [
    "convert_meter_to_inch(2.3,\"Shailendra\")"
   ]
  },
  {
   "cell_type": "markdown",
   "metadata": {},
   "source": [
    "## Formatting numbers and strings"
   ]
  },
  {
   "cell_type": "code",
   "execution_count": 4,
   "metadata": {},
   "outputs": [],
   "source": [
    "using Printf"
   ]
  },
  {
   "cell_type": "markdown",
   "metadata": {},
   "source": [
    "name = \"Shailnedra\""
   ]
  },
  {
   "cell_type": "code",
   "execution_count": 6,
   "metadata": {},
   "outputs": [],
   "source": [
    "name = \"Shailendra\";"
   ]
  },
  {
   "cell_type": "code",
   "execution_count": 7,
   "metadata": {},
   "outputs": [
    {
     "name": "stdout",
     "output_type": "stream",
     "text": [
      "Hello Shailendra"
     ]
    }
   ],
   "source": [
    "@printf(\"Hello %s\", name)"
   ]
  },
  {
   "cell_type": "code",
   "execution_count": 8,
   "metadata": {},
   "outputs": [
    {
     "data": {
      "text/plain": [
       "\"Hello Shailendra\""
      ]
     },
     "execution_count": 8,
     "metadata": {},
     "output_type": "execute_result"
    }
   ],
   "source": [
    "@sprintf(\"Hello %s\", name)"
   ]
  },
  {
   "cell_type": "code",
   "execution_count": 10,
   "metadata": {},
   "outputs": [
    {
     "name": "stdout",
     "output_type": "stream",
     "text": [
      "i"
     ]
    }
   ],
   "source": [
    "ch = 'i'\n",
    "@printf(\"%c\", ch)"
   ]
  },
  {
   "cell_type": "code",
   "execution_count": 11,
   "metadata": {},
   "outputs": [
    {
     "name": "stdout",
     "output_type": "stream",
     "text": [
      "Value of x is 100"
     ]
    }
   ],
   "source": [
    "x = 100\n",
    "@printf(\"Value of x is %d\",x)"
   ]
  },
  {
   "cell_type": "code",
   "execution_count": 14,
   "metadata": {},
   "outputs": [
    {
     "name": "stdout",
     "output_type": "stream",
     "text": [
      "Value of y is 10.500000"
     ]
    }
   ],
   "source": [
    "y=10.5\n",
    "@printf(\"Value of y is %f\",y)"
   ]
  },
  {
   "cell_type": "code",
   "execution_count": 15,
   "metadata": {},
   "outputs": [
    {
     "name": "stdout",
     "output_type": "stream",
     "text": [
      "Value of y is 10.50"
     ]
    }
   ],
   "source": [
    "@printf(\"Value of y is %.2f\",y)"
   ]
  },
  {
   "cell_type": "code",
   "execution_count": 16,
   "metadata": {},
   "outputs": [
    {
     "name": "stdout",
     "output_type": "stream",
     "text": [
      "2.468375e+11"
     ]
    }
   ],
   "source": [
    "z = 246837543456\n",
    "@printf(\"%e\",z)"
   ]
  },
  {
   "cell_type": "code",
   "execution_count": 17,
   "metadata": {},
   "outputs": [
    {
     "name": "stdout",
     "output_type": "stream",
     "text": [
      "2.468e+11"
     ]
    }
   ],
   "source": [
    "@printf(\"%.3e\",z)"
   ]
  },
  {
   "cell_type": "markdown",
   "metadata": {},
   "source": [
    "## Working with real world files .csv files"
   ]
  },
  {
   "cell_type": "code",
   "execution_count": 19,
   "metadata": {},
   "outputs": [],
   "source": [
    "using CSV"
   ]
  },
  {
   "cell_type": "code",
   "execution_count": 20,
   "metadata": {},
   "outputs": [
    {
     "name": "stdout",
     "output_type": "stream",
     "text": [
      "class\n",
      "iris.csv\n",
      "Julia-Cookbook.ipynb\n",
      "Julia Data Science Basic Full Course.ipynb\n",
      "test.csv\n"
     ]
    }
   ],
   "source": [
    ";ls"
   ]
  },
  {
   "cell_type": "code",
   "execution_count": 21,
   "metadata": {},
   "outputs": [
    {
     "data": {
      "text/plain": [
       "150-element CSV.File{false}:\n",
       " CSV.Row: (sepal.length = 5.1, sepal.width = 3.5, petal.length = 1.4, petal.width = 0.2, variety = \"Setosa\")\n",
       " CSV.Row: (sepal.length = 4.9, sepal.width = 3.0, petal.length = 1.4, petal.width = 0.2, variety = \"Setosa\")\n",
       " CSV.Row: (sepal.length = 4.7, sepal.width = 3.2, petal.length = 1.3, petal.width = 0.2, variety = \"Setosa\")\n",
       " CSV.Row: (sepal.length = 4.6, sepal.width = 3.1, petal.length = 1.5, petal.width = 0.2, variety = \"Setosa\")\n",
       " CSV.Row: (sepal.length = 5.0, sepal.width = 3.6, petal.length = 1.4, petal.width = 0.2, variety = \"Setosa\")\n",
       " CSV.Row: (sepal.length = 5.4, sepal.width = 3.9, petal.length = 1.7, petal.width = 0.4, variety = \"Setosa\")\n",
       " CSV.Row: (sepal.length = 4.6, sepal.width = 3.4, petal.length = 1.4, petal.width = 0.3, variety = \"Setosa\")\n",
       " CSV.Row: (sepal.length = 5.0, sepal.width = 3.4, petal.length = 1.5, petal.width = 0.2, variety = \"Setosa\")\n",
       " CSV.Row: (sepal.length = 4.4, sepal.width = 2.9, petal.length = 1.4, petal.width = 0.2, variety = \"Setosa\")\n",
       " CSV.Row: (sepal.length = 4.9, sepal.width = 3.1, petal.length = 1.5, petal.width = 0.1, variety = \"Setosa\")\n",
       " CSV.Row: (sepal.length = 5.4, sepal.width = 3.7, petal.length = 1.5, petal.width = 0.2, variety = \"Setosa\")\n",
       " CSV.Row: (sepal.length = 4.8, sepal.width = 3.4, petal.length = 1.6, petal.width = 0.2, variety = \"Setosa\")\n",
       " CSV.Row: (sepal.length = 4.8, sepal.width = 3.0, petal.length = 1.4, petal.width = 0.1, variety = \"Setosa\")\n",
       " ⋮\n",
       " CSV.Row: (sepal.length = 6.0, sepal.width = 3.0, petal.length = 4.8, petal.width = 1.8, variety = \"Virginica\")\n",
       " CSV.Row: (sepal.length = 6.9, sepal.width = 3.1, petal.length = 5.4, petal.width = 2.1, variety = \"Virginica\")\n",
       " CSV.Row: (sepal.length = 6.7, sepal.width = 3.1, petal.length = 5.6, petal.width = 2.4, variety = \"Virginica\")\n",
       " CSV.Row: (sepal.length = 6.9, sepal.width = 3.1, petal.length = 5.1, petal.width = 2.3, variety = \"Virginica\")\n",
       " CSV.Row: (sepal.length = 5.8, sepal.width = 2.7, petal.length = 5.1, petal.width = 1.9, variety = \"Virginica\")\n",
       " CSV.Row: (sepal.length = 6.8, sepal.width = 3.2, petal.length = 5.9, petal.width = 2.3, variety = \"Virginica\")\n",
       " CSV.Row: (sepal.length = 6.7, sepal.width = 3.3, petal.length = 5.7, petal.width = 2.5, variety = \"Virginica\")\n",
       " CSV.Row: (sepal.length = 6.7, sepal.width = 3.0, petal.length = 5.2, petal.width = 2.3, variety = \"Virginica\")\n",
       " CSV.Row: (sepal.length = 6.3, sepal.width = 2.5, petal.length = 5.0, petal.width = 1.9, variety = \"Virginica\")\n",
       " CSV.Row: (sepal.length = 6.5, sepal.width = 3.0, petal.length = 5.2, petal.width = 2.0, variety = \"Virginica\")\n",
       " CSV.Row: (sepal.length = 6.2, sepal.width = 3.4, petal.length = 5.4, petal.width = 2.3, variety = \"Virginica\")\n",
       " CSV.Row: (sepal.length = 5.9, sepal.width = 3.0, petal.length = 5.1, petal.width = 1.8, variety = \"Virginica\")"
      ]
     },
     "execution_count": 21,
     "metadata": {},
     "output_type": "execute_result"
    }
   ],
   "source": [
    "CSV.File(\"iris.csv\")"
   ]
  },
  {
   "cell_type": "code",
   "execution_count": 36,
   "metadata": {},
   "outputs": [],
   "source": [
    "using DataFrames\n",
    "iris = CSV.read(\"iris.csv\", DataFrame, normalizenames=true);"
   ]
  },
  {
   "cell_type": "code",
   "execution_count": 37,
   "metadata": {},
   "outputs": [
    {
     "data": {
      "text/html": [
       "<table class=\"data-frame\"><thead><tr><th></th><th>sepal_length</th><th>sepal_width</th><th>petal_length</th><th>petal_width</th><th>variety</th></tr><tr><th></th><th>Float64</th><th>Float64</th><th>Float64</th><th>Float64</th><th>String</th></tr></thead><tbody><p>150 rows × 5 columns</p><tr><th>1</th><td>5.1</td><td>3.5</td><td>1.4</td><td>0.2</td><td>Setosa</td></tr><tr><th>2</th><td>4.9</td><td>3.0</td><td>1.4</td><td>0.2</td><td>Setosa</td></tr><tr><th>3</th><td>4.7</td><td>3.2</td><td>1.3</td><td>0.2</td><td>Setosa</td></tr><tr><th>4</th><td>4.6</td><td>3.1</td><td>1.5</td><td>0.2</td><td>Setosa</td></tr><tr><th>5</th><td>5.0</td><td>3.6</td><td>1.4</td><td>0.2</td><td>Setosa</td></tr><tr><th>6</th><td>5.4</td><td>3.9</td><td>1.7</td><td>0.4</td><td>Setosa</td></tr><tr><th>7</th><td>4.6</td><td>3.4</td><td>1.4</td><td>0.3</td><td>Setosa</td></tr><tr><th>8</th><td>5.0</td><td>3.4</td><td>1.5</td><td>0.2</td><td>Setosa</td></tr><tr><th>9</th><td>4.4</td><td>2.9</td><td>1.4</td><td>0.2</td><td>Setosa</td></tr><tr><th>10</th><td>4.9</td><td>3.1</td><td>1.5</td><td>0.1</td><td>Setosa</td></tr><tr><th>11</th><td>5.4</td><td>3.7</td><td>1.5</td><td>0.2</td><td>Setosa</td></tr><tr><th>12</th><td>4.8</td><td>3.4</td><td>1.6</td><td>0.2</td><td>Setosa</td></tr><tr><th>13</th><td>4.8</td><td>3.0</td><td>1.4</td><td>0.1</td><td>Setosa</td></tr><tr><th>14</th><td>4.3</td><td>3.0</td><td>1.1</td><td>0.1</td><td>Setosa</td></tr><tr><th>15</th><td>5.8</td><td>4.0</td><td>1.2</td><td>0.2</td><td>Setosa</td></tr><tr><th>16</th><td>5.7</td><td>4.4</td><td>1.5</td><td>0.4</td><td>Setosa</td></tr><tr><th>17</th><td>5.4</td><td>3.9</td><td>1.3</td><td>0.4</td><td>Setosa</td></tr><tr><th>18</th><td>5.1</td><td>3.5</td><td>1.4</td><td>0.3</td><td>Setosa</td></tr><tr><th>19</th><td>5.7</td><td>3.8</td><td>1.7</td><td>0.3</td><td>Setosa</td></tr><tr><th>20</th><td>5.1</td><td>3.8</td><td>1.5</td><td>0.3</td><td>Setosa</td></tr><tr><th>21</th><td>5.4</td><td>3.4</td><td>1.7</td><td>0.2</td><td>Setosa</td></tr><tr><th>22</th><td>5.1</td><td>3.7</td><td>1.5</td><td>0.4</td><td>Setosa</td></tr><tr><th>23</th><td>4.6</td><td>3.6</td><td>1.0</td><td>0.2</td><td>Setosa</td></tr><tr><th>24</th><td>5.1</td><td>3.3</td><td>1.7</td><td>0.5</td><td>Setosa</td></tr><tr><th>25</th><td>4.8</td><td>3.4</td><td>1.9</td><td>0.2</td><td>Setosa</td></tr><tr><th>26</th><td>5.0</td><td>3.0</td><td>1.6</td><td>0.2</td><td>Setosa</td></tr><tr><th>27</th><td>5.0</td><td>3.4</td><td>1.6</td><td>0.4</td><td>Setosa</td></tr><tr><th>28</th><td>5.2</td><td>3.5</td><td>1.5</td><td>0.2</td><td>Setosa</td></tr><tr><th>29</th><td>5.2</td><td>3.4</td><td>1.4</td><td>0.2</td><td>Setosa</td></tr><tr><th>30</th><td>4.7</td><td>3.2</td><td>1.6</td><td>0.2</td><td>Setosa</td></tr><tr><th>&vellip;</th><td>&vellip;</td><td>&vellip;</td><td>&vellip;</td><td>&vellip;</td><td>&vellip;</td></tr></tbody></table>"
      ],
      "text/latex": [
       "\\begin{tabular}{r|ccccc}\n",
       "\t& sepal\\_length & sepal\\_width & petal\\_length & petal\\_width & variety\\\\\n",
       "\t\\hline\n",
       "\t& Float64 & Float64 & Float64 & Float64 & String\\\\\n",
       "\t\\hline\n",
       "\t1 & 5.1 & 3.5 & 1.4 & 0.2 & Setosa \\\\\n",
       "\t2 & 4.9 & 3.0 & 1.4 & 0.2 & Setosa \\\\\n",
       "\t3 & 4.7 & 3.2 & 1.3 & 0.2 & Setosa \\\\\n",
       "\t4 & 4.6 & 3.1 & 1.5 & 0.2 & Setosa \\\\\n",
       "\t5 & 5.0 & 3.6 & 1.4 & 0.2 & Setosa \\\\\n",
       "\t6 & 5.4 & 3.9 & 1.7 & 0.4 & Setosa \\\\\n",
       "\t7 & 4.6 & 3.4 & 1.4 & 0.3 & Setosa \\\\\n",
       "\t8 & 5.0 & 3.4 & 1.5 & 0.2 & Setosa \\\\\n",
       "\t9 & 4.4 & 2.9 & 1.4 & 0.2 & Setosa \\\\\n",
       "\t10 & 4.9 & 3.1 & 1.5 & 0.1 & Setosa \\\\\n",
       "\t11 & 5.4 & 3.7 & 1.5 & 0.2 & Setosa \\\\\n",
       "\t12 & 4.8 & 3.4 & 1.6 & 0.2 & Setosa \\\\\n",
       "\t13 & 4.8 & 3.0 & 1.4 & 0.1 & Setosa \\\\\n",
       "\t14 & 4.3 & 3.0 & 1.1 & 0.1 & Setosa \\\\\n",
       "\t15 & 5.8 & 4.0 & 1.2 & 0.2 & Setosa \\\\\n",
       "\t16 & 5.7 & 4.4 & 1.5 & 0.4 & Setosa \\\\\n",
       "\t17 & 5.4 & 3.9 & 1.3 & 0.4 & Setosa \\\\\n",
       "\t18 & 5.1 & 3.5 & 1.4 & 0.3 & Setosa \\\\\n",
       "\t19 & 5.7 & 3.8 & 1.7 & 0.3 & Setosa \\\\\n",
       "\t20 & 5.1 & 3.8 & 1.5 & 0.3 & Setosa \\\\\n",
       "\t21 & 5.4 & 3.4 & 1.7 & 0.2 & Setosa \\\\\n",
       "\t22 & 5.1 & 3.7 & 1.5 & 0.4 & Setosa \\\\\n",
       "\t23 & 4.6 & 3.6 & 1.0 & 0.2 & Setosa \\\\\n",
       "\t24 & 5.1 & 3.3 & 1.7 & 0.5 & Setosa \\\\\n",
       "\t25 & 4.8 & 3.4 & 1.9 & 0.2 & Setosa \\\\\n",
       "\t26 & 5.0 & 3.0 & 1.6 & 0.2 & Setosa \\\\\n",
       "\t27 & 5.0 & 3.4 & 1.6 & 0.4 & Setosa \\\\\n",
       "\t28 & 5.2 & 3.5 & 1.5 & 0.2 & Setosa \\\\\n",
       "\t29 & 5.2 & 3.4 & 1.4 & 0.2 & Setosa \\\\\n",
       "\t30 & 4.7 & 3.2 & 1.6 & 0.2 & Setosa \\\\\n",
       "\t$\\dots$ & $\\dots$ & $\\dots$ & $\\dots$ & $\\dots$ & $\\dots$ \\\\\n",
       "\\end{tabular}\n"
      ],
      "text/plain": [
       "150×5 DataFrame\n",
       "│ Row │ sepal_length │ sepal_width │ petal_length │ petal_width │ variety   │\n",
       "│     │ \u001b[90mFloat64\u001b[39m      │ \u001b[90mFloat64\u001b[39m     │ \u001b[90mFloat64\u001b[39m      │ \u001b[90mFloat64\u001b[39m     │ \u001b[90mString\u001b[39m    │\n",
       "├─────┼──────────────┼─────────────┼──────────────┼─────────────┼───────────┤\n",
       "│ 1   │ 5.1          │ 3.5         │ 1.4          │ 0.2         │ Setosa    │\n",
       "│ 2   │ 4.9          │ 3.0         │ 1.4          │ 0.2         │ Setosa    │\n",
       "│ 3   │ 4.7          │ 3.2         │ 1.3          │ 0.2         │ Setosa    │\n",
       "│ 4   │ 4.6          │ 3.1         │ 1.5          │ 0.2         │ Setosa    │\n",
       "│ 5   │ 5.0          │ 3.6         │ 1.4          │ 0.2         │ Setosa    │\n",
       "│ 6   │ 5.4          │ 3.9         │ 1.7          │ 0.4         │ Setosa    │\n",
       "│ 7   │ 4.6          │ 3.4         │ 1.4          │ 0.3         │ Setosa    │\n",
       "│ 8   │ 5.0          │ 3.4         │ 1.5          │ 0.2         │ Setosa    │\n",
       "│ 9   │ 4.4          │ 2.9         │ 1.4          │ 0.2         │ Setosa    │\n",
       "│ 10  │ 4.9          │ 3.1         │ 1.5          │ 0.1         │ Setosa    │\n",
       "⋮\n",
       "│ 140 │ 6.9          │ 3.1         │ 5.4          │ 2.1         │ Virginica │\n",
       "│ 141 │ 6.7          │ 3.1         │ 5.6          │ 2.4         │ Virginica │\n",
       "│ 142 │ 6.9          │ 3.1         │ 5.1          │ 2.3         │ Virginica │\n",
       "│ 143 │ 5.8          │ 2.7         │ 5.1          │ 1.9         │ Virginica │\n",
       "│ 144 │ 6.8          │ 3.2         │ 5.9          │ 2.3         │ Virginica │\n",
       "│ 145 │ 6.7          │ 3.3         │ 5.7          │ 2.5         │ Virginica │\n",
       "│ 146 │ 6.7          │ 3.0         │ 5.2          │ 2.3         │ Virginica │\n",
       "│ 147 │ 6.3          │ 2.5         │ 5.0          │ 1.9         │ Virginica │\n",
       "│ 148 │ 6.5          │ 3.0         │ 5.2          │ 2.0         │ Virginica │\n",
       "│ 149 │ 6.2          │ 3.4         │ 5.4          │ 2.3         │ Virginica │\n",
       "│ 150 │ 5.9          │ 3.0         │ 5.1          │ 1.8         │ Virginica │"
      ]
     },
     "execution_count": 37,
     "metadata": {},
     "output_type": "execute_result"
    }
   ],
   "source": [
    "iris"
   ]
  },
  {
   "cell_type": "code",
   "execution_count": 38,
   "metadata": {},
   "outputs": [
    {
     "data": {
      "text/plain": [
       "DataFrame"
      ]
     },
     "execution_count": 38,
     "metadata": {},
     "output_type": "execute_result"
    }
   ],
   "source": [
    "typeof(iris)"
   ]
  },
  {
   "cell_type": "code",
   "execution_count": 39,
   "metadata": {},
   "outputs": [
    {
     "data": {
      "text/plain": [
       "5-element Vector{String}:\n",
       " \"sepal_length\"\n",
       " \"sepal_width\"\n",
       " \"petal_length\"\n",
       " \"petal_width\"\n",
       " \"variety\""
      ]
     },
     "execution_count": 39,
     "metadata": {},
     "output_type": "execute_result"
    }
   ],
   "source": [
    "names(iris)"
   ]
  },
  {
   "cell_type": "code",
   "execution_count": 40,
   "metadata": {},
   "outputs": [
    {
     "data": {
      "text/plain": [
       "(150, 5)"
      ]
     },
     "execution_count": 40,
     "metadata": {},
     "output_type": "execute_result"
    }
   ],
   "source": [
    "size(iris)"
   ]
  },
  {
   "cell_type": "code",
   "execution_count": 41,
   "metadata": {},
   "outputs": [
    {
     "data": {
      "text/html": [
       "<table class=\"data-frame\"><thead><tr><th></th><th>sepal_length</th><th>sepal_width</th><th>petal_length</th><th>petal_width</th><th>variety</th></tr><tr><th></th><th>Float64</th><th>Float64</th><th>Float64</th><th>Float64</th><th>String</th></tr></thead><tbody><p>6 rows × 5 columns</p><tr><th>1</th><td>5.1</td><td>3.5</td><td>1.4</td><td>0.2</td><td>Setosa</td></tr><tr><th>2</th><td>4.9</td><td>3.0</td><td>1.4</td><td>0.2</td><td>Setosa</td></tr><tr><th>3</th><td>4.7</td><td>3.2</td><td>1.3</td><td>0.2</td><td>Setosa</td></tr><tr><th>4</th><td>4.6</td><td>3.1</td><td>1.5</td><td>0.2</td><td>Setosa</td></tr><tr><th>5</th><td>5.0</td><td>3.6</td><td>1.4</td><td>0.2</td><td>Setosa</td></tr><tr><th>6</th><td>5.4</td><td>3.9</td><td>1.7</td><td>0.4</td><td>Setosa</td></tr></tbody></table>"
      ],
      "text/latex": [
       "\\begin{tabular}{r|ccccc}\n",
       "\t& sepal\\_length & sepal\\_width & petal\\_length & petal\\_width & variety\\\\\n",
       "\t\\hline\n",
       "\t& Float64 & Float64 & Float64 & Float64 & String\\\\\n",
       "\t\\hline\n",
       "\t1 & 5.1 & 3.5 & 1.4 & 0.2 & Setosa \\\\\n",
       "\t2 & 4.9 & 3.0 & 1.4 & 0.2 & Setosa \\\\\n",
       "\t3 & 4.7 & 3.2 & 1.3 & 0.2 & Setosa \\\\\n",
       "\t4 & 4.6 & 3.1 & 1.5 & 0.2 & Setosa \\\\\n",
       "\t5 & 5.0 & 3.6 & 1.4 & 0.2 & Setosa \\\\\n",
       "\t6 & 5.4 & 3.9 & 1.7 & 0.4 & Setosa \\\\\n",
       "\\end{tabular}\n"
      ],
      "text/plain": [
       "6×5 DataFrame\n",
       "│ Row │ sepal_length │ sepal_width │ petal_length │ petal_width │ variety │\n",
       "│     │ \u001b[90mFloat64\u001b[39m      │ \u001b[90mFloat64\u001b[39m     │ \u001b[90mFloat64\u001b[39m      │ \u001b[90mFloat64\u001b[39m     │ \u001b[90mString\u001b[39m  │\n",
       "├─────┼──────────────┼─────────────┼──────────────┼─────────────┼─────────┤\n",
       "│ 1   │ 5.1          │ 3.5         │ 1.4          │ 0.2         │ Setosa  │\n",
       "│ 2   │ 4.9          │ 3.0         │ 1.4          │ 0.2         │ Setosa  │\n",
       "│ 3   │ 4.7          │ 3.2         │ 1.3          │ 0.2         │ Setosa  │\n",
       "│ 4   │ 4.6          │ 3.1         │ 1.5          │ 0.2         │ Setosa  │\n",
       "│ 5   │ 5.0          │ 3.6         │ 1.4          │ 0.2         │ Setosa  │\n",
       "│ 6   │ 5.4          │ 3.9         │ 1.7          │ 0.4         │ Setosa  │"
      ]
     },
     "execution_count": 41,
     "metadata": {},
     "output_type": "execute_result"
    }
   ],
   "source": [
    "head(iris)"
   ]
  },
  {
   "cell_type": "code",
   "execution_count": 42,
   "metadata": {},
   "outputs": [
    {
     "data": {
      "text/html": [
       "<table class=\"data-frame\"><thead><tr><th></th><th>sepal_length</th><th>sepal_width</th><th>petal_length</th><th>petal_width</th><th>variety</th></tr><tr><th></th><th>Float64</th><th>Float64</th><th>Float64</th><th>Float64</th><th>String</th></tr></thead><tbody><p>10 rows × 5 columns</p><tr><th>1</th><td>5.1</td><td>3.5</td><td>1.4</td><td>0.2</td><td>Setosa</td></tr><tr><th>2</th><td>4.9</td><td>3.0</td><td>1.4</td><td>0.2</td><td>Setosa</td></tr><tr><th>3</th><td>4.7</td><td>3.2</td><td>1.3</td><td>0.2</td><td>Setosa</td></tr><tr><th>4</th><td>4.6</td><td>3.1</td><td>1.5</td><td>0.2</td><td>Setosa</td></tr><tr><th>5</th><td>5.0</td><td>3.6</td><td>1.4</td><td>0.2</td><td>Setosa</td></tr><tr><th>6</th><td>5.4</td><td>3.9</td><td>1.7</td><td>0.4</td><td>Setosa</td></tr><tr><th>7</th><td>4.6</td><td>3.4</td><td>1.4</td><td>0.3</td><td>Setosa</td></tr><tr><th>8</th><td>5.0</td><td>3.4</td><td>1.5</td><td>0.2</td><td>Setosa</td></tr><tr><th>9</th><td>4.4</td><td>2.9</td><td>1.4</td><td>0.2</td><td>Setosa</td></tr><tr><th>10</th><td>4.9</td><td>3.1</td><td>1.5</td><td>0.1</td><td>Setosa</td></tr></tbody></table>"
      ],
      "text/latex": [
       "\\begin{tabular}{r|ccccc}\n",
       "\t& sepal\\_length & sepal\\_width & petal\\_length & petal\\_width & variety\\\\\n",
       "\t\\hline\n",
       "\t& Float64 & Float64 & Float64 & Float64 & String\\\\\n",
       "\t\\hline\n",
       "\t1 & 5.1 & 3.5 & 1.4 & 0.2 & Setosa \\\\\n",
       "\t2 & 4.9 & 3.0 & 1.4 & 0.2 & Setosa \\\\\n",
       "\t3 & 4.7 & 3.2 & 1.3 & 0.2 & Setosa \\\\\n",
       "\t4 & 4.6 & 3.1 & 1.5 & 0.2 & Setosa \\\\\n",
       "\t5 & 5.0 & 3.6 & 1.4 & 0.2 & Setosa \\\\\n",
       "\t6 & 5.4 & 3.9 & 1.7 & 0.4 & Setosa \\\\\n",
       "\t7 & 4.6 & 3.4 & 1.4 & 0.3 & Setosa \\\\\n",
       "\t8 & 5.0 & 3.4 & 1.5 & 0.2 & Setosa \\\\\n",
       "\t9 & 4.4 & 2.9 & 1.4 & 0.2 & Setosa \\\\\n",
       "\t10 & 4.9 & 3.1 & 1.5 & 0.1 & Setosa \\\\\n",
       "\\end{tabular}\n"
      ],
      "text/plain": [
       "10×5 DataFrame\n",
       "│ Row │ sepal_length │ sepal_width │ petal_length │ petal_width │ variety │\n",
       "│     │ \u001b[90mFloat64\u001b[39m      │ \u001b[90mFloat64\u001b[39m     │ \u001b[90mFloat64\u001b[39m      │ \u001b[90mFloat64\u001b[39m     │ \u001b[90mString\u001b[39m  │\n",
       "├─────┼──────────────┼─────────────┼──────────────┼─────────────┼─────────┤\n",
       "│ 1   │ 5.1          │ 3.5         │ 1.4          │ 0.2         │ Setosa  │\n",
       "│ 2   │ 4.9          │ 3.0         │ 1.4          │ 0.2         │ Setosa  │\n",
       "│ 3   │ 4.7          │ 3.2         │ 1.3          │ 0.2         │ Setosa  │\n",
       "│ 4   │ 4.6          │ 3.1         │ 1.5          │ 0.2         │ Setosa  │\n",
       "│ 5   │ 5.0          │ 3.6         │ 1.4          │ 0.2         │ Setosa  │\n",
       "│ 6   │ 5.4          │ 3.9         │ 1.7          │ 0.4         │ Setosa  │\n",
       "│ 7   │ 4.6          │ 3.4         │ 1.4          │ 0.3         │ Setosa  │\n",
       "│ 8   │ 5.0          │ 3.4         │ 1.5          │ 0.2         │ Setosa  │\n",
       "│ 9   │ 4.4          │ 2.9         │ 1.4          │ 0.2         │ Setosa  │\n",
       "│ 10  │ 4.9          │ 3.1         │ 1.5          │ 0.1         │ Setosa  │"
      ]
     },
     "execution_count": 42,
     "metadata": {},
     "output_type": "execute_result"
    }
   ],
   "source": [
    "head(iris,10)"
   ]
  },
  {
   "cell_type": "code",
   "execution_count": 43,
   "metadata": {},
   "outputs": [
    {
     "data": {
      "text/html": [
       "<table class=\"data-frame\"><thead><tr><th></th><th>sepal_length</th><th>sepal_width</th><th>petal_length</th><th>petal_width</th><th>variety</th></tr><tr><th></th><th>Float64</th><th>Float64</th><th>Float64</th><th>Float64</th><th>String</th></tr></thead><tbody><p>6 rows × 5 columns</p><tr><th>1</th><td>6.7</td><td>3.3</td><td>5.7</td><td>2.5</td><td>Virginica</td></tr><tr><th>2</th><td>6.7</td><td>3.0</td><td>5.2</td><td>2.3</td><td>Virginica</td></tr><tr><th>3</th><td>6.3</td><td>2.5</td><td>5.0</td><td>1.9</td><td>Virginica</td></tr><tr><th>4</th><td>6.5</td><td>3.0</td><td>5.2</td><td>2.0</td><td>Virginica</td></tr><tr><th>5</th><td>6.2</td><td>3.4</td><td>5.4</td><td>2.3</td><td>Virginica</td></tr><tr><th>6</th><td>5.9</td><td>3.0</td><td>5.1</td><td>1.8</td><td>Virginica</td></tr></tbody></table>"
      ],
      "text/latex": [
       "\\begin{tabular}{r|ccccc}\n",
       "\t& sepal\\_length & sepal\\_width & petal\\_length & petal\\_width & variety\\\\\n",
       "\t\\hline\n",
       "\t& Float64 & Float64 & Float64 & Float64 & String\\\\\n",
       "\t\\hline\n",
       "\t1 & 6.7 & 3.3 & 5.7 & 2.5 & Virginica \\\\\n",
       "\t2 & 6.7 & 3.0 & 5.2 & 2.3 & Virginica \\\\\n",
       "\t3 & 6.3 & 2.5 & 5.0 & 1.9 & Virginica \\\\\n",
       "\t4 & 6.5 & 3.0 & 5.2 & 2.0 & Virginica \\\\\n",
       "\t5 & 6.2 & 3.4 & 5.4 & 2.3 & Virginica \\\\\n",
       "\t6 & 5.9 & 3.0 & 5.1 & 1.8 & Virginica \\\\\n",
       "\\end{tabular}\n"
      ],
      "text/plain": [
       "6×5 DataFrame\n",
       "│ Row │ sepal_length │ sepal_width │ petal_length │ petal_width │ variety   │\n",
       "│     │ \u001b[90mFloat64\u001b[39m      │ \u001b[90mFloat64\u001b[39m     │ \u001b[90mFloat64\u001b[39m      │ \u001b[90mFloat64\u001b[39m     │ \u001b[90mString\u001b[39m    │\n",
       "├─────┼──────────────┼─────────────┼──────────────┼─────────────┼───────────┤\n",
       "│ 1   │ 6.7          │ 3.3         │ 5.7          │ 2.5         │ Virginica │\n",
       "│ 2   │ 6.7          │ 3.0         │ 5.2          │ 2.3         │ Virginica │\n",
       "│ 3   │ 6.3          │ 2.5         │ 5.0          │ 1.9         │ Virginica │\n",
       "│ 4   │ 6.5          │ 3.0         │ 5.2          │ 2.0         │ Virginica │\n",
       "│ 5   │ 6.2          │ 3.4         │ 5.4          │ 2.3         │ Virginica │\n",
       "│ 6   │ 5.9          │ 3.0         │ 5.1          │ 1.8         │ Virginica │"
      ]
     },
     "execution_count": 43,
     "metadata": {},
     "output_type": "execute_result"
    }
   ],
   "source": [
    "tail(iris)"
   ]
  },
  {
   "cell_type": "code",
   "execution_count": 44,
   "metadata": {},
   "outputs": [
    {
     "data": {
      "text/html": [
       "<table class=\"data-frame\"><thead><tr><th></th><th>variable</th><th>mean</th><th>min</th><th>median</th><th>max</th><th>nunique</th><th>nmissing</th><th>eltype</th></tr><tr><th></th><th>Symbol</th><th>Union…</th><th>Any</th><th>Union…</th><th>Any</th><th>Union…</th><th>Nothing</th><th>DataType</th></tr></thead><tbody><p>5 rows × 8 columns</p><tr><th>1</th><td>sepal_length</td><td>5.84333</td><td>4.3</td><td>5.8</td><td>7.9</td><td></td><td></td><td>Float64</td></tr><tr><th>2</th><td>sepal_width</td><td>3.05733</td><td>2.0</td><td>3.0</td><td>4.4</td><td></td><td></td><td>Float64</td></tr><tr><th>3</th><td>petal_length</td><td>3.758</td><td>1.0</td><td>4.35</td><td>6.9</td><td></td><td></td><td>Float64</td></tr><tr><th>4</th><td>petal_width</td><td>1.19933</td><td>0.1</td><td>1.3</td><td>2.5</td><td></td><td></td><td>Float64</td></tr><tr><th>5</th><td>variety</td><td></td><td>Setosa</td><td></td><td>Virginica</td><td>3</td><td></td><td>String</td></tr></tbody></table>"
      ],
      "text/latex": [
       "\\begin{tabular}{r|cccccccc}\n",
       "\t& variable & mean & min & median & max & nunique & nmissing & eltype\\\\\n",
       "\t\\hline\n",
       "\t& Symbol & Union… & Any & Union… & Any & Union… & Nothing & DataType\\\\\n",
       "\t\\hline\n",
       "\t1 & sepal\\_length & 5.84333 & 4.3 & 5.8 & 7.9 &  &  & Float64 \\\\\n",
       "\t2 & sepal\\_width & 3.05733 & 2.0 & 3.0 & 4.4 &  &  & Float64 \\\\\n",
       "\t3 & petal\\_length & 3.758 & 1.0 & 4.35 & 6.9 &  &  & Float64 \\\\\n",
       "\t4 & petal\\_width & 1.19933 & 0.1 & 1.3 & 2.5 &  &  & Float64 \\\\\n",
       "\t5 & variety &  & Setosa &  & Virginica & 3 &  & String \\\\\n",
       "\\end{tabular}\n"
      ],
      "text/plain": [
       "5×8 DataFrame. Omitted printing of 2 columns\n",
       "│ Row │ variable     │ mean    │ min    │ median │ max       │ nunique │\n",
       "│     │ \u001b[90mSymbol\u001b[39m       │ \u001b[90mUnion…\u001b[39m  │ \u001b[90mAny\u001b[39m    │ \u001b[90mUnion…\u001b[39m │ \u001b[90mAny\u001b[39m       │ \u001b[90mUnion…\u001b[39m  │\n",
       "├─────┼──────────────┼─────────┼────────┼────────┼───────────┼─────────┤\n",
       "│ 1   │ sepal_length │ 5.84333 │ 4.3    │ 5.8    │ 7.9       │         │\n",
       "│ 2   │ sepal_width  │ 3.05733 │ 2.0    │ 3.0    │ 4.4       │         │\n",
       "│ 3   │ petal_length │ 3.758   │ 1.0    │ 4.35   │ 6.9       │         │\n",
       "│ 4   │ petal_width  │ 1.19933 │ 0.1    │ 1.3    │ 2.5       │         │\n",
       "│ 5   │ variety      │         │ Setosa │        │ Virginica │ 3       │"
      ]
     },
     "execution_count": 44,
     "metadata": {},
     "output_type": "execute_result"
    }
   ],
   "source": [
    "describe(iris)"
   ]
  },
  {
   "cell_type": "code",
   "execution_count": 45,
   "metadata": {},
   "outputs": [
    {
     "data": {
      "text/plain": [
       "150-element PooledArrays.PooledVector{String, UInt32, Vector{UInt32}}:\n",
       " \"Setosa\"\n",
       " \"Setosa\"\n",
       " \"Setosa\"\n",
       " \"Setosa\"\n",
       " \"Setosa\"\n",
       " \"Setosa\"\n",
       " \"Setosa\"\n",
       " \"Setosa\"\n",
       " \"Setosa\"\n",
       " \"Setosa\"\n",
       " \"Setosa\"\n",
       " \"Setosa\"\n",
       " \"Setosa\"\n",
       " ⋮\n",
       " \"Virginica\"\n",
       " \"Virginica\"\n",
       " \"Virginica\"\n",
       " \"Virginica\"\n",
       " \"Virginica\"\n",
       " \"Virginica\"\n",
       " \"Virginica\"\n",
       " \"Virginica\"\n",
       " \"Virginica\"\n",
       " \"Virginica\"\n",
       " \"Virginica\"\n",
       " \"Virginica\""
      ]
     },
     "execution_count": 45,
     "metadata": {},
     "output_type": "execute_result"
    }
   ],
   "source": [
    "iris.variety"
   ]
  },
  {
   "cell_type": "code",
   "execution_count": 46,
   "metadata": {},
   "outputs": [
    {
     "data": {
      "text/plain": [
       "150-element Vector{Float64}:\n",
       " 1.4\n",
       " 1.4\n",
       " 1.3\n",
       " 1.5\n",
       " 1.4\n",
       " 1.7\n",
       " 1.4\n",
       " 1.5\n",
       " 1.4\n",
       " 1.5\n",
       " 1.5\n",
       " 1.6\n",
       " 1.4\n",
       " ⋮\n",
       " 4.8\n",
       " 5.4\n",
       " 5.6\n",
       " 5.1\n",
       " 5.1\n",
       " 5.9\n",
       " 5.7\n",
       " 5.2\n",
       " 5.0\n",
       " 5.2\n",
       " 5.4\n",
       " 5.1"
      ]
     },
     "execution_count": 46,
     "metadata": {},
     "output_type": "execute_result"
    }
   ],
   "source": [
    "iris.petal_length"
   ]
  },
  {
   "cell_type": "code",
   "execution_count": 47,
   "metadata": {},
   "outputs": [
    {
     "data": {
      "text/plain": [
       "150-element Vector{Float64}:\n",
       " 1.4\n",
       " 1.4\n",
       " 1.3\n",
       " 1.5\n",
       " 1.4\n",
       " 1.7\n",
       " 1.4\n",
       " 1.5\n",
       " 1.4\n",
       " 1.5\n",
       " 1.5\n",
       " 1.6\n",
       " 1.4\n",
       " ⋮\n",
       " 4.8\n",
       " 5.4\n",
       " 5.6\n",
       " 5.1\n",
       " 5.1\n",
       " 5.9\n",
       " 5.7\n",
       " 5.2\n",
       " 5.0\n",
       " 5.2\n",
       " 5.4\n",
       " 5.1"
      ]
     },
     "execution_count": 47,
     "metadata": {},
     "output_type": "execute_result"
    }
   ],
   "source": [
    "iris[:,3]"
   ]
  },
  {
   "cell_type": "code",
   "execution_count": 48,
   "metadata": {},
   "outputs": [
    {
     "data": {
      "text/html": [
       "<table class=\"data-frame\"><thead><tr><th></th><th>sepal_length</th><th>sepal_width</th><th>petal_length</th></tr><tr><th></th><th>Float64</th><th>Float64</th><th>Float64</th></tr></thead><tbody><p>150 rows × 3 columns</p><tr><th>1</th><td>5.1</td><td>3.5</td><td>1.4</td></tr><tr><th>2</th><td>4.9</td><td>3.0</td><td>1.4</td></tr><tr><th>3</th><td>4.7</td><td>3.2</td><td>1.3</td></tr><tr><th>4</th><td>4.6</td><td>3.1</td><td>1.5</td></tr><tr><th>5</th><td>5.0</td><td>3.6</td><td>1.4</td></tr><tr><th>6</th><td>5.4</td><td>3.9</td><td>1.7</td></tr><tr><th>7</th><td>4.6</td><td>3.4</td><td>1.4</td></tr><tr><th>8</th><td>5.0</td><td>3.4</td><td>1.5</td></tr><tr><th>9</th><td>4.4</td><td>2.9</td><td>1.4</td></tr><tr><th>10</th><td>4.9</td><td>3.1</td><td>1.5</td></tr><tr><th>11</th><td>5.4</td><td>3.7</td><td>1.5</td></tr><tr><th>12</th><td>4.8</td><td>3.4</td><td>1.6</td></tr><tr><th>13</th><td>4.8</td><td>3.0</td><td>1.4</td></tr><tr><th>14</th><td>4.3</td><td>3.0</td><td>1.1</td></tr><tr><th>15</th><td>5.8</td><td>4.0</td><td>1.2</td></tr><tr><th>16</th><td>5.7</td><td>4.4</td><td>1.5</td></tr><tr><th>17</th><td>5.4</td><td>3.9</td><td>1.3</td></tr><tr><th>18</th><td>5.1</td><td>3.5</td><td>1.4</td></tr><tr><th>19</th><td>5.7</td><td>3.8</td><td>1.7</td></tr><tr><th>20</th><td>5.1</td><td>3.8</td><td>1.5</td></tr><tr><th>21</th><td>5.4</td><td>3.4</td><td>1.7</td></tr><tr><th>22</th><td>5.1</td><td>3.7</td><td>1.5</td></tr><tr><th>23</th><td>4.6</td><td>3.6</td><td>1.0</td></tr><tr><th>24</th><td>5.1</td><td>3.3</td><td>1.7</td></tr><tr><th>25</th><td>4.8</td><td>3.4</td><td>1.9</td></tr><tr><th>26</th><td>5.0</td><td>3.0</td><td>1.6</td></tr><tr><th>27</th><td>5.0</td><td>3.4</td><td>1.6</td></tr><tr><th>28</th><td>5.2</td><td>3.5</td><td>1.5</td></tr><tr><th>29</th><td>5.2</td><td>3.4</td><td>1.4</td></tr><tr><th>30</th><td>4.7</td><td>3.2</td><td>1.6</td></tr><tr><th>&vellip;</th><td>&vellip;</td><td>&vellip;</td><td>&vellip;</td></tr></tbody></table>"
      ],
      "text/latex": [
       "\\begin{tabular}{r|ccc}\n",
       "\t& sepal\\_length & sepal\\_width & petal\\_length\\\\\n",
       "\t\\hline\n",
       "\t& Float64 & Float64 & Float64\\\\\n",
       "\t\\hline\n",
       "\t1 & 5.1 & 3.5 & 1.4 \\\\\n",
       "\t2 & 4.9 & 3.0 & 1.4 \\\\\n",
       "\t3 & 4.7 & 3.2 & 1.3 \\\\\n",
       "\t4 & 4.6 & 3.1 & 1.5 \\\\\n",
       "\t5 & 5.0 & 3.6 & 1.4 \\\\\n",
       "\t6 & 5.4 & 3.9 & 1.7 \\\\\n",
       "\t7 & 4.6 & 3.4 & 1.4 \\\\\n",
       "\t8 & 5.0 & 3.4 & 1.5 \\\\\n",
       "\t9 & 4.4 & 2.9 & 1.4 \\\\\n",
       "\t10 & 4.9 & 3.1 & 1.5 \\\\\n",
       "\t11 & 5.4 & 3.7 & 1.5 \\\\\n",
       "\t12 & 4.8 & 3.4 & 1.6 \\\\\n",
       "\t13 & 4.8 & 3.0 & 1.4 \\\\\n",
       "\t14 & 4.3 & 3.0 & 1.1 \\\\\n",
       "\t15 & 5.8 & 4.0 & 1.2 \\\\\n",
       "\t16 & 5.7 & 4.4 & 1.5 \\\\\n",
       "\t17 & 5.4 & 3.9 & 1.3 \\\\\n",
       "\t18 & 5.1 & 3.5 & 1.4 \\\\\n",
       "\t19 & 5.7 & 3.8 & 1.7 \\\\\n",
       "\t20 & 5.1 & 3.8 & 1.5 \\\\\n",
       "\t21 & 5.4 & 3.4 & 1.7 \\\\\n",
       "\t22 & 5.1 & 3.7 & 1.5 \\\\\n",
       "\t23 & 4.6 & 3.6 & 1.0 \\\\\n",
       "\t24 & 5.1 & 3.3 & 1.7 \\\\\n",
       "\t25 & 4.8 & 3.4 & 1.9 \\\\\n",
       "\t26 & 5.0 & 3.0 & 1.6 \\\\\n",
       "\t27 & 5.0 & 3.4 & 1.6 \\\\\n",
       "\t28 & 5.2 & 3.5 & 1.5 \\\\\n",
       "\t29 & 5.2 & 3.4 & 1.4 \\\\\n",
       "\t30 & 4.7 & 3.2 & 1.6 \\\\\n",
       "\t$\\dots$ & $\\dots$ & $\\dots$ & $\\dots$ \\\\\n",
       "\\end{tabular}\n"
      ],
      "text/plain": [
       "150×3 DataFrame\n",
       "│ Row │ sepal_length │ sepal_width │ petal_length │\n",
       "│     │ \u001b[90mFloat64\u001b[39m      │ \u001b[90mFloat64\u001b[39m     │ \u001b[90mFloat64\u001b[39m      │\n",
       "├─────┼──────────────┼─────────────┼──────────────┤\n",
       "│ 1   │ 5.1          │ 3.5         │ 1.4          │\n",
       "│ 2   │ 4.9          │ 3.0         │ 1.4          │\n",
       "│ 3   │ 4.7          │ 3.2         │ 1.3          │\n",
       "│ 4   │ 4.6          │ 3.1         │ 1.5          │\n",
       "│ 5   │ 5.0          │ 3.6         │ 1.4          │\n",
       "│ 6   │ 5.4          │ 3.9         │ 1.7          │\n",
       "│ 7   │ 4.6          │ 3.4         │ 1.4          │\n",
       "│ 8   │ 5.0          │ 3.4         │ 1.5          │\n",
       "│ 9   │ 4.4          │ 2.9         │ 1.4          │\n",
       "│ 10  │ 4.9          │ 3.1         │ 1.5          │\n",
       "⋮\n",
       "│ 140 │ 6.9          │ 3.1         │ 5.4          │\n",
       "│ 141 │ 6.7          │ 3.1         │ 5.6          │\n",
       "│ 142 │ 6.9          │ 3.1         │ 5.1          │\n",
       "│ 143 │ 5.8          │ 2.7         │ 5.1          │\n",
       "│ 144 │ 6.8          │ 3.2         │ 5.9          │\n",
       "│ 145 │ 6.7          │ 3.3         │ 5.7          │\n",
       "│ 146 │ 6.7          │ 3.0         │ 5.2          │\n",
       "│ 147 │ 6.3          │ 2.5         │ 5.0          │\n",
       "│ 148 │ 6.5          │ 3.0         │ 5.2          │\n",
       "│ 149 │ 6.2          │ 3.4         │ 5.4          │\n",
       "│ 150 │ 5.9          │ 3.0         │ 5.1          │"
      ]
     },
     "execution_count": 48,
     "metadata": {},
     "output_type": "execute_result"
    }
   ],
   "source": [
    "iris[:,[1,2,3]]"
   ]
  },
  {
   "cell_type": "code",
   "execution_count": 49,
   "metadata": {},
   "outputs": [
    {
     "data": {
      "text/html": [
       "<table class=\"data-frame\"><thead><tr><th></th><th>sepal_length</th><th>sepal_width</th><th>petal_length</th><th>petal_width</th><th>variety</th></tr><tr><th></th><th>Float64</th><th>Float64</th><th>Float64</th><th>Float64</th><th>String</th></tr></thead><tbody><p>5 rows × 5 columns</p><tr><th>1</th><td>5.1</td><td>3.5</td><td>1.4</td><td>0.2</td><td>Setosa</td></tr><tr><th>2</th><td>4.9</td><td>3.0</td><td>1.4</td><td>0.2</td><td>Setosa</td></tr><tr><th>3</th><td>4.7</td><td>3.2</td><td>1.3</td><td>0.2</td><td>Setosa</td></tr><tr><th>4</th><td>4.6</td><td>3.1</td><td>1.5</td><td>0.2</td><td>Setosa</td></tr><tr><th>5</th><td>5.0</td><td>3.6</td><td>1.4</td><td>0.2</td><td>Setosa</td></tr></tbody></table>"
      ],
      "text/latex": [
       "\\begin{tabular}{r|ccccc}\n",
       "\t& sepal\\_length & sepal\\_width & petal\\_length & petal\\_width & variety\\\\\n",
       "\t\\hline\n",
       "\t& Float64 & Float64 & Float64 & Float64 & String\\\\\n",
       "\t\\hline\n",
       "\t1 & 5.1 & 3.5 & 1.4 & 0.2 & Setosa \\\\\n",
       "\t2 & 4.9 & 3.0 & 1.4 & 0.2 & Setosa \\\\\n",
       "\t3 & 4.7 & 3.2 & 1.3 & 0.2 & Setosa \\\\\n",
       "\t4 & 4.6 & 3.1 & 1.5 & 0.2 & Setosa \\\\\n",
       "\t5 & 5.0 & 3.6 & 1.4 & 0.2 & Setosa \\\\\n",
       "\\end{tabular}\n"
      ],
      "text/plain": [
       "5×5 DataFrame\n",
       "│ Row │ sepal_length │ sepal_width │ petal_length │ petal_width │ variety │\n",
       "│     │ \u001b[90mFloat64\u001b[39m      │ \u001b[90mFloat64\u001b[39m     │ \u001b[90mFloat64\u001b[39m      │ \u001b[90mFloat64\u001b[39m     │ \u001b[90mString\u001b[39m  │\n",
       "├─────┼──────────────┼─────────────┼──────────────┼─────────────┼─────────┤\n",
       "│ 1   │ 5.1          │ 3.5         │ 1.4          │ 0.2         │ Setosa  │\n",
       "│ 2   │ 4.9          │ 3.0         │ 1.4          │ 0.2         │ Setosa  │\n",
       "│ 3   │ 4.7          │ 3.2         │ 1.3          │ 0.2         │ Setosa  │\n",
       "│ 4   │ 4.6          │ 3.1         │ 1.5          │ 0.2         │ Setosa  │\n",
       "│ 5   │ 5.0          │ 3.6         │ 1.4          │ 0.2         │ Setosa  │"
      ]
     },
     "execution_count": 49,
     "metadata": {},
     "output_type": "execute_result"
    }
   ],
   "source": [
    "iris[1:5,:]"
   ]
  },
  {
   "cell_type": "markdown",
   "metadata": {},
   "source": [
    "## Data visualization"
   ]
  },
  {
   "cell_type": "code",
   "execution_count": 50,
   "metadata": {},
   "outputs": [],
   "source": [
    "using Plots"
   ]
  },
  {
   "cell_type": "code",
   "execution_count": 51,
   "metadata": {},
   "outputs": [
    {
     "data": {
      "image/svg+xml": [
       "<?xml version=\"1.0\" encoding=\"utf-8\"?>\n",
       "<svg xmlns=\"http://www.w3.org/2000/svg\" xmlns:xlink=\"http://www.w3.org/1999/xlink\" width=\"600\" height=\"400\" viewBox=\"0 0 2400 1600\">\n",
       "<defs>\n",
       "  <clipPath id=\"clip750\">\n",
       "    <rect x=\"0\" y=\"0\" width=\"2400\" height=\"1600\"/>\n",
       "  </clipPath>\n",
       "</defs>\n",
       "<path clip-path=\"url(#clip750)\" d=\"\n",
       "M0 1600 L2400 1600 L2400 0 L0 0  Z\n",
       "  \" fill=\"#ffffff\" fill-rule=\"evenodd\" fill-opacity=\"1\"/>\n",
       "<defs>\n",
       "  <clipPath id=\"clip751\">\n",
       "    <rect x=\"480\" y=\"0\" width=\"1681\" height=\"1600\"/>\n",
       "  </clipPath>\n",
       "</defs>\n",
       "<path clip-path=\"url(#clip750)\" d=\"\n",
       "M156.598 1486.45 L2352.76 1486.45 L2352.76 47.2441 L156.598 47.2441  Z\n",
       "  \" fill=\"#ffffff\" fill-rule=\"evenodd\" fill-opacity=\"1\"/>\n",
       "<defs>\n",
       "  <clipPath id=\"clip752\">\n",
       "    <rect x=\"156\" y=\"47\" width=\"2197\" height=\"1440\"/>\n",
       "  </clipPath>\n",
       "</defs>\n",
       "<polyline clip-path=\"url(#clip752)\" style=\"stroke:#000000; stroke-linecap:butt; stroke-linejoin:round; stroke-width:2; stroke-opacity:0.1; fill:none\" points=\"\n",
       "  156.598,1486.45 156.598,47.2441 \n",
       "  \"/>\n",
       "<polyline clip-path=\"url(#clip752)\" style=\"stroke:#000000; stroke-linecap:butt; stroke-linejoin:round; stroke-width:2; stroke-opacity:0.1; fill:none\" points=\"\n",
       "  595.83,1486.45 595.83,47.2441 \n",
       "  \"/>\n",
       "<polyline clip-path=\"url(#clip752)\" style=\"stroke:#000000; stroke-linecap:butt; stroke-linejoin:round; stroke-width:2; stroke-opacity:0.1; fill:none\" points=\"\n",
       "  1035.06,1486.45 1035.06,47.2441 \n",
       "  \"/>\n",
       "<polyline clip-path=\"url(#clip752)\" style=\"stroke:#000000; stroke-linecap:butt; stroke-linejoin:round; stroke-width:2; stroke-opacity:0.1; fill:none\" points=\"\n",
       "  1474.29,1486.45 1474.29,47.2441 \n",
       "  \"/>\n",
       "<polyline clip-path=\"url(#clip752)\" style=\"stroke:#000000; stroke-linecap:butt; stroke-linejoin:round; stroke-width:2; stroke-opacity:0.1; fill:none\" points=\"\n",
       "  1913.52,1486.45 1913.52,47.2441 \n",
       "  \"/>\n",
       "<polyline clip-path=\"url(#clip752)\" style=\"stroke:#000000; stroke-linecap:butt; stroke-linejoin:round; stroke-width:2; stroke-opacity:0.1; fill:none\" points=\"\n",
       "  2352.76,1486.45 2352.76,47.2441 \n",
       "  \"/>\n",
       "<polyline clip-path=\"url(#clip750)\" style=\"stroke:#000000; stroke-linecap:butt; stroke-linejoin:round; stroke-width:4; stroke-opacity:1; fill:none\" points=\"\n",
       "  156.598,1486.45 2352.76,1486.45 \n",
       "  \"/>\n",
       "<polyline clip-path=\"url(#clip750)\" style=\"stroke:#000000; stroke-linecap:butt; stroke-linejoin:round; stroke-width:4; stroke-opacity:1; fill:none\" points=\"\n",
       "  156.598,1486.45 156.598,1469.18 \n",
       "  \"/>\n",
       "<polyline clip-path=\"url(#clip750)\" style=\"stroke:#000000; stroke-linecap:butt; stroke-linejoin:round; stroke-width:4; stroke-opacity:1; fill:none\" points=\"\n",
       "  595.83,1486.45 595.83,1469.18 \n",
       "  \"/>\n",
       "<polyline clip-path=\"url(#clip750)\" style=\"stroke:#000000; stroke-linecap:butt; stroke-linejoin:round; stroke-width:4; stroke-opacity:1; fill:none\" points=\"\n",
       "  1035.06,1486.45 1035.06,1469.18 \n",
       "  \"/>\n",
       "<polyline clip-path=\"url(#clip750)\" style=\"stroke:#000000; stroke-linecap:butt; stroke-linejoin:round; stroke-width:4; stroke-opacity:1; fill:none\" points=\"\n",
       "  1474.29,1486.45 1474.29,1469.18 \n",
       "  \"/>\n",
       "<polyline clip-path=\"url(#clip750)\" style=\"stroke:#000000; stroke-linecap:butt; stroke-linejoin:round; stroke-width:4; stroke-opacity:1; fill:none\" points=\"\n",
       "  1913.52,1486.45 1913.52,1469.18 \n",
       "  \"/>\n",
       "<polyline clip-path=\"url(#clip750)\" style=\"stroke:#000000; stroke-linecap:butt; stroke-linejoin:round; stroke-width:4; stroke-opacity:1; fill:none\" points=\"\n",
       "  2352.76,1486.45 2352.76,1469.18 \n",
       "  \"/>\n",
       "<path clip-path=\"url(#clip750)\" d=\"M133.983 1515.64 Q130.372 1515.64 128.543 1519.2 Q126.737 1522.75 126.737 1529.87 Q126.737 1536.98 128.543 1540.55 Q130.372 1544.09 133.983 1544.09 Q137.617 1544.09 139.422 1540.55 Q141.251 1536.98 141.251 1529.87 Q141.251 1522.75 139.422 1519.2 Q137.617 1515.64 133.983 1515.64 M133.983 1511.93 Q139.793 1511.93 142.848 1516.54 Q145.927 1521.12 145.927 1529.87 Q145.927 1538.6 142.848 1543.21 Q139.793 1547.79 133.983 1547.79 Q128.172 1547.79 125.094 1543.21 Q122.038 1538.6 122.038 1529.87 Q122.038 1521.12 125.094 1516.54 Q128.172 1511.93 133.983 1511.93 Z\" fill=\"#000000\" fill-rule=\"evenodd\" fill-opacity=\"1\" /><path clip-path=\"url(#clip750)\" d=\"M154.145 1541.24 L159.029 1541.24 L159.029 1547.12 L154.145 1547.12 L154.145 1541.24 Z\" fill=\"#000000\" fill-rule=\"evenodd\" fill-opacity=\"1\" /><path clip-path=\"url(#clip750)\" d=\"M179.214 1515.64 Q175.603 1515.64 173.774 1519.2 Q171.969 1522.75 171.969 1529.87 Q171.969 1536.98 173.774 1540.55 Q175.603 1544.09 179.214 1544.09 Q182.848 1544.09 184.654 1540.55 Q186.482 1536.98 186.482 1529.87 Q186.482 1522.75 184.654 1519.2 Q182.848 1515.64 179.214 1515.64 M179.214 1511.93 Q185.024 1511.93 188.08 1516.54 Q191.158 1521.12 191.158 1529.87 Q191.158 1538.6 188.08 1543.21 Q185.024 1547.79 179.214 1547.79 Q173.404 1547.79 170.325 1543.21 Q167.269 1538.6 167.269 1529.87 Q167.269 1521.12 170.325 1516.54 Q173.404 1511.93 179.214 1511.93 Z\" fill=\"#000000\" fill-rule=\"evenodd\" fill-opacity=\"1\" /><path clip-path=\"url(#clip750)\" d=\"M574.013 1515.64 Q570.402 1515.64 568.573 1519.2 Q566.767 1522.75 566.767 1529.87 Q566.767 1536.98 568.573 1540.55 Q570.402 1544.09 574.013 1544.09 Q577.647 1544.09 579.453 1540.55 Q581.281 1536.98 581.281 1529.87 Q581.281 1522.75 579.453 1519.2 Q577.647 1515.64 574.013 1515.64 M574.013 1511.93 Q579.823 1511.93 582.878 1516.54 Q585.957 1521.12 585.957 1529.87 Q585.957 1538.6 582.878 1543.21 Q579.823 1547.79 574.013 1547.79 Q568.203 1547.79 565.124 1543.21 Q562.068 1538.6 562.068 1529.87 Q562.068 1521.12 565.124 1516.54 Q568.203 1511.93 574.013 1511.93 Z\" fill=\"#000000\" fill-rule=\"evenodd\" fill-opacity=\"1\" /><path clip-path=\"url(#clip750)\" d=\"M594.175 1541.24 L599.059 1541.24 L599.059 1547.12 L594.175 1547.12 L594.175 1541.24 Z\" fill=\"#000000\" fill-rule=\"evenodd\" fill-opacity=\"1\" /><path clip-path=\"url(#clip750)\" d=\"M613.272 1543.18 L629.591 1543.18 L629.591 1547.12 L607.647 1547.12 L607.647 1543.18 Q610.309 1540.43 614.892 1535.8 Q619.499 1531.15 620.679 1529.81 Q622.925 1527.28 623.804 1525.55 Q624.707 1523.79 624.707 1522.1 Q624.707 1519.34 622.762 1517.61 Q620.841 1515.87 617.739 1515.87 Q615.54 1515.87 613.087 1516.63 Q610.656 1517.4 607.878 1518.95 L607.878 1514.23 Q610.702 1513.09 613.156 1512.51 Q615.61 1511.93 617.647 1511.93 Q623.017 1511.93 626.212 1514.62 Q629.406 1517.31 629.406 1521.8 Q629.406 1523.93 628.596 1525.85 Q627.809 1527.74 625.702 1530.34 Q625.124 1531.01 622.022 1534.23 Q618.92 1537.42 613.272 1543.18 Z\" fill=\"#000000\" fill-rule=\"evenodd\" fill-opacity=\"1\" /><path clip-path=\"url(#clip750)\" d=\"M1012.2 1515.64 Q1008.59 1515.64 1006.76 1519.2 Q1004.96 1522.75 1004.96 1529.87 Q1004.96 1536.98 1006.76 1540.55 Q1008.59 1544.09 1012.2 1544.09 Q1015.84 1544.09 1017.64 1540.55 Q1019.47 1536.98 1019.47 1529.87 Q1019.47 1522.75 1017.64 1519.2 Q1015.84 1515.64 1012.2 1515.64 M1012.2 1511.93 Q1018.01 1511.93 1021.07 1516.54 Q1024.15 1521.12 1024.15 1529.87 Q1024.15 1538.6 1021.07 1543.21 Q1018.01 1547.79 1012.2 1547.79 Q1006.39 1547.79 1003.31 1543.21 Q1000.26 1538.6 1000.26 1529.87 Q1000.26 1521.12 1003.31 1516.54 Q1006.39 1511.93 1012.2 1511.93 Z\" fill=\"#000000\" fill-rule=\"evenodd\" fill-opacity=\"1\" /><path clip-path=\"url(#clip750)\" d=\"M1032.36 1541.24 L1037.25 1541.24 L1037.25 1547.12 L1032.36 1547.12 L1032.36 1541.24 Z\" fill=\"#000000\" fill-rule=\"evenodd\" fill-opacity=\"1\" /><path clip-path=\"url(#clip750)\" d=\"M1060.28 1516.63 L1048.48 1535.08 L1060.28 1535.08 L1060.28 1516.63 M1059.05 1512.56 L1064.93 1512.56 L1064.93 1535.08 L1069.86 1535.08 L1069.86 1538.97 L1064.93 1538.97 L1064.93 1547.12 L1060.28 1547.12 L1060.28 1538.97 L1044.68 1538.97 L1044.68 1534.46 L1059.05 1512.56 Z\" fill=\"#000000\" fill-rule=\"evenodd\" fill-opacity=\"1\" /><path clip-path=\"url(#clip750)\" d=\"M1451.6 1515.64 Q1447.99 1515.64 1446.16 1519.2 Q1444.35 1522.75 1444.35 1529.87 Q1444.35 1536.98 1446.16 1540.55 Q1447.99 1544.09 1451.6 1544.09 Q1455.23 1544.09 1457.04 1540.55 Q1458.86 1536.98 1458.86 1529.87 Q1458.86 1522.75 1457.04 1519.2 Q1455.23 1515.64 1451.6 1515.64 M1451.6 1511.93 Q1457.41 1511.93 1460.46 1516.54 Q1463.54 1521.12 1463.54 1529.87 Q1463.54 1538.6 1460.46 1543.21 Q1457.41 1547.79 1451.6 1547.79 Q1445.79 1547.79 1442.71 1543.21 Q1439.65 1538.6 1439.65 1529.87 Q1439.65 1521.12 1442.71 1516.54 Q1445.79 1511.93 1451.6 1511.93 Z\" fill=\"#000000\" fill-rule=\"evenodd\" fill-opacity=\"1\" /><path clip-path=\"url(#clip750)\" d=\"M1471.76 1541.24 L1476.64 1541.24 L1476.64 1547.12 L1471.76 1547.12 L1471.76 1541.24 Z\" fill=\"#000000\" fill-rule=\"evenodd\" fill-opacity=\"1\" /><path clip-path=\"url(#clip750)\" d=\"M1497.41 1527.98 Q1494.26 1527.98 1492.41 1530.13 Q1490.58 1532.28 1490.58 1536.03 Q1490.58 1539.76 1492.41 1541.93 Q1494.26 1544.09 1497.41 1544.09 Q1500.55 1544.09 1502.38 1541.93 Q1504.23 1539.76 1504.23 1536.03 Q1504.23 1532.28 1502.38 1530.13 Q1500.55 1527.98 1497.41 1527.98 M1506.69 1513.32 L1506.69 1517.58 Q1504.93 1516.75 1503.12 1516.31 Q1501.34 1515.87 1499.58 1515.87 Q1494.95 1515.87 1492.5 1519 Q1490.07 1522.12 1489.72 1528.44 Q1491.09 1526.43 1493.15 1525.36 Q1495.21 1524.27 1497.68 1524.27 Q1502.89 1524.27 1505.9 1527.44 Q1508.93 1530.59 1508.93 1536.03 Q1508.93 1541.36 1505.79 1544.57 Q1502.64 1547.79 1497.41 1547.79 Q1491.41 1547.79 1488.24 1543.21 Q1485.07 1538.6 1485.07 1529.87 Q1485.07 1521.68 1488.96 1516.82 Q1492.85 1511.93 1499.4 1511.93 Q1501.16 1511.93 1502.94 1512.28 Q1504.74 1512.63 1506.69 1513.32 Z\" fill=\"#000000\" fill-rule=\"evenodd\" fill-opacity=\"1\" /><path clip-path=\"url(#clip750)\" d=\"M1890.96 1515.64 Q1887.34 1515.64 1885.52 1519.2 Q1883.71 1522.75 1883.71 1529.87 Q1883.71 1536.98 1885.52 1540.55 Q1887.34 1544.09 1890.96 1544.09 Q1894.59 1544.09 1896.39 1540.55 Q1898.22 1536.98 1898.22 1529.87 Q1898.22 1522.75 1896.39 1519.2 Q1894.59 1515.64 1890.96 1515.64 M1890.96 1511.93 Q1896.77 1511.93 1899.82 1516.54 Q1902.9 1521.12 1902.9 1529.87 Q1902.9 1538.6 1899.82 1543.21 Q1896.77 1547.79 1890.96 1547.79 Q1885.14 1547.79 1882.07 1543.21 Q1879.01 1538.6 1879.01 1529.87 Q1879.01 1521.12 1882.07 1516.54 Q1885.14 1511.93 1890.96 1511.93 Z\" fill=\"#000000\" fill-rule=\"evenodd\" fill-opacity=\"1\" /><path clip-path=\"url(#clip750)\" d=\"M1911.12 1541.24 L1916 1541.24 L1916 1547.12 L1911.12 1547.12 L1911.12 1541.24 Z\" fill=\"#000000\" fill-rule=\"evenodd\" fill-opacity=\"1\" /><path clip-path=\"url(#clip750)\" d=\"M1936.19 1530.71 Q1932.85 1530.71 1930.93 1532.49 Q1929.03 1534.27 1929.03 1537.4 Q1929.03 1540.52 1930.93 1542.31 Q1932.85 1544.09 1936.19 1544.09 Q1939.52 1544.09 1941.44 1542.31 Q1943.36 1540.5 1943.36 1537.4 Q1943.36 1534.27 1941.44 1532.49 Q1939.54 1530.71 1936.19 1530.71 M1931.51 1528.72 Q1928.5 1527.98 1926.81 1525.92 Q1925.14 1523.86 1925.14 1520.89 Q1925.14 1516.75 1928.08 1514.34 Q1931.05 1511.93 1936.19 1511.93 Q1941.35 1511.93 1944.29 1514.34 Q1947.23 1516.75 1947.23 1520.89 Q1947.23 1523.86 1945.54 1525.92 Q1943.87 1527.98 1940.89 1528.72 Q1944.26 1529.5 1946.14 1531.8 Q1948.04 1534.09 1948.04 1537.4 Q1948.04 1542.42 1944.96 1545.11 Q1941.9 1547.79 1936.19 1547.79 Q1930.47 1547.79 1927.39 1545.11 Q1924.33 1542.42 1924.33 1537.4 Q1924.33 1534.09 1926.23 1531.8 Q1928.13 1529.5 1931.51 1528.72 M1929.8 1521.33 Q1929.8 1524.02 1931.46 1525.52 Q1933.15 1527.03 1936.19 1527.03 Q1939.2 1527.03 1940.89 1525.52 Q1942.6 1524.02 1942.6 1521.33 Q1942.6 1518.65 1940.89 1517.14 Q1939.2 1515.64 1936.19 1515.64 Q1933.15 1515.64 1931.46 1517.14 Q1929.8 1518.65 1929.8 1521.33 Z\" fill=\"#000000\" fill-rule=\"evenodd\" fill-opacity=\"1\" /><path clip-path=\"url(#clip750)\" d=\"M2319.91 1543.18 L2327.55 1543.18 L2327.55 1516.82 L2319.24 1518.49 L2319.24 1514.23 L2327.5 1512.56 L2332.18 1512.56 L2332.18 1543.18 L2339.82 1543.18 L2339.82 1547.12 L2319.91 1547.12 L2319.91 1543.18 Z\" fill=\"#000000\" fill-rule=\"evenodd\" fill-opacity=\"1\" /><path clip-path=\"url(#clip750)\" d=\"M2349.26 1541.24 L2354.14 1541.24 L2354.14 1547.12 L2349.26 1547.12 L2349.26 1541.24 Z\" fill=\"#000000\" fill-rule=\"evenodd\" fill-opacity=\"1\" /><path clip-path=\"url(#clip750)\" d=\"M2374.33 1515.64 Q2370.72 1515.64 2368.89 1519.2 Q2367.08 1522.75 2367.08 1529.87 Q2367.08 1536.98 2368.89 1540.55 Q2370.72 1544.09 2374.33 1544.09 Q2377.96 1544.09 2379.77 1540.55 Q2381.6 1536.98 2381.6 1529.87 Q2381.6 1522.75 2379.77 1519.2 Q2377.96 1515.64 2374.33 1515.64 M2374.33 1511.93 Q2380.14 1511.93 2383.2 1516.54 Q2386.27 1521.12 2386.27 1529.87 Q2386.27 1538.6 2383.2 1543.21 Q2380.14 1547.79 2374.33 1547.79 Q2368.52 1547.79 2365.44 1543.21 Q2362.39 1538.6 2362.39 1529.87 Q2362.39 1521.12 2365.44 1516.54 Q2368.52 1511.93 2374.33 1511.93 Z\" fill=\"#000000\" fill-rule=\"evenodd\" fill-opacity=\"1\" /><polyline clip-path=\"url(#clip752)\" style=\"stroke:#000000; stroke-linecap:butt; stroke-linejoin:round; stroke-width:2; stroke-opacity:0.1; fill:none\" points=\"\n",
       "  156.598,1486.45 2352.76,1486.45 \n",
       "  \"/>\n",
       "<polyline clip-path=\"url(#clip752)\" style=\"stroke:#000000; stroke-linecap:butt; stroke-linejoin:round; stroke-width:2; stroke-opacity:0.1; fill:none\" points=\"\n",
       "  156.598,1198.61 2352.76,1198.61 \n",
       "  \"/>\n",
       "<polyline clip-path=\"url(#clip752)\" style=\"stroke:#000000; stroke-linecap:butt; stroke-linejoin:round; stroke-width:2; stroke-opacity:0.1; fill:none\" points=\"\n",
       "  156.598,910.766 2352.76,910.766 \n",
       "  \"/>\n",
       "<polyline clip-path=\"url(#clip752)\" style=\"stroke:#000000; stroke-linecap:butt; stroke-linejoin:round; stroke-width:2; stroke-opacity:0.1; fill:none\" points=\"\n",
       "  156.598,622.926 2352.76,622.926 \n",
       "  \"/>\n",
       "<polyline clip-path=\"url(#clip752)\" style=\"stroke:#000000; stroke-linecap:butt; stroke-linejoin:round; stroke-width:2; stroke-opacity:0.1; fill:none\" points=\"\n",
       "  156.598,335.085 2352.76,335.085 \n",
       "  \"/>\n",
       "<polyline clip-path=\"url(#clip752)\" style=\"stroke:#000000; stroke-linecap:butt; stroke-linejoin:round; stroke-width:2; stroke-opacity:0.1; fill:none\" points=\"\n",
       "  156.598,47.2441 2352.76,47.2441 \n",
       "  \"/>\n",
       "<polyline clip-path=\"url(#clip750)\" style=\"stroke:#000000; stroke-linecap:butt; stroke-linejoin:round; stroke-width:4; stroke-opacity:1; fill:none\" points=\"\n",
       "  156.598,1486.45 156.598,47.2441 \n",
       "  \"/>\n",
       "<polyline clip-path=\"url(#clip750)\" style=\"stroke:#000000; stroke-linecap:butt; stroke-linejoin:round; stroke-width:4; stroke-opacity:1; fill:none\" points=\"\n",
       "  156.598,1486.45 182.952,1486.45 \n",
       "  \"/>\n",
       "<polyline clip-path=\"url(#clip750)\" style=\"stroke:#000000; stroke-linecap:butt; stroke-linejoin:round; stroke-width:4; stroke-opacity:1; fill:none\" points=\"\n",
       "  156.598,1198.61 182.952,1198.61 \n",
       "  \"/>\n",
       "<polyline clip-path=\"url(#clip750)\" style=\"stroke:#000000; stroke-linecap:butt; stroke-linejoin:round; stroke-width:4; stroke-opacity:1; fill:none\" points=\"\n",
       "  156.598,910.766 182.952,910.766 \n",
       "  \"/>\n",
       "<polyline clip-path=\"url(#clip750)\" style=\"stroke:#000000; stroke-linecap:butt; stroke-linejoin:round; stroke-width:4; stroke-opacity:1; fill:none\" points=\"\n",
       "  156.598,622.926 182.952,622.926 \n",
       "  \"/>\n",
       "<polyline clip-path=\"url(#clip750)\" style=\"stroke:#000000; stroke-linecap:butt; stroke-linejoin:round; stroke-width:4; stroke-opacity:1; fill:none\" points=\"\n",
       "  156.598,335.085 182.952,335.085 \n",
       "  \"/>\n",
       "<polyline clip-path=\"url(#clip750)\" style=\"stroke:#000000; stroke-linecap:butt; stroke-linejoin:round; stroke-width:4; stroke-opacity:1; fill:none\" points=\"\n",
       "  156.598,47.2441 182.952,47.2441 \n",
       "  \"/>\n",
       "<path clip-path=\"url(#clip750)\" d=\"M63.4226 1472.25 Q59.8115 1472.25 57.9828 1475.81 Q56.1773 1479.35 56.1773 1486.48 Q56.1773 1493.59 57.9828 1497.15 Q59.8115 1500.7 63.4226 1500.7 Q67.0569 1500.7 68.8624 1497.15 Q70.6911 1493.59 70.6911 1486.48 Q70.6911 1479.35 68.8624 1475.81 Q67.0569 1472.25 63.4226 1472.25 M63.4226 1468.54 Q69.2328 1468.54 72.2883 1473.15 Q75.367 1477.73 75.367 1486.48 Q75.367 1495.21 72.2883 1499.82 Q69.2328 1504.4 63.4226 1504.4 Q57.6125 1504.4 54.5338 1499.82 Q51.4782 1495.21 51.4782 1486.48 Q51.4782 1477.73 54.5338 1473.15 Q57.6125 1468.54 63.4226 1468.54 Z\" fill=\"#000000\" fill-rule=\"evenodd\" fill-opacity=\"1\" /><path clip-path=\"url(#clip750)\" d=\"M83.5845 1497.85 L88.4688 1497.85 L88.4688 1503.73 L83.5845 1503.73 L83.5845 1497.85 Z\" fill=\"#000000\" fill-rule=\"evenodd\" fill-opacity=\"1\" /><path clip-path=\"url(#clip750)\" d=\"M108.654 1472.25 Q105.043 1472.25 103.214 1475.81 Q101.409 1479.35 101.409 1486.48 Q101.409 1493.59 103.214 1497.15 Q105.043 1500.7 108.654 1500.7 Q112.288 1500.7 114.094 1497.15 Q115.922 1493.59 115.922 1486.48 Q115.922 1479.35 114.094 1475.81 Q112.288 1472.25 108.654 1472.25 M108.654 1468.54 Q114.464 1468.54 117.52 1473.15 Q120.598 1477.73 120.598 1486.48 Q120.598 1495.21 117.52 1499.82 Q114.464 1504.4 108.654 1504.4 Q102.844 1504.4 99.765 1499.82 Q96.7095 1495.21 96.7095 1486.48 Q96.7095 1477.73 99.765 1473.15 Q102.844 1468.54 108.654 1468.54 Z\" fill=\"#000000\" fill-rule=\"evenodd\" fill-opacity=\"1\" /><path clip-path=\"url(#clip750)\" d=\"M65.0198 1184.41 Q61.4087 1184.41 59.58 1187.97 Q57.7745 1191.51 57.7745 1198.64 Q57.7745 1205.75 59.58 1209.31 Q61.4087 1212.85 65.0198 1212.85 Q68.6541 1212.85 70.4596 1209.31 Q72.2883 1205.75 72.2883 1198.64 Q72.2883 1191.51 70.4596 1187.97 Q68.6541 1184.41 65.0198 1184.41 M65.0198 1180.7 Q70.83 1180.7 73.8855 1185.31 Q76.9642 1189.89 76.9642 1198.64 Q76.9642 1207.37 73.8855 1211.98 Q70.83 1216.56 65.0198 1216.56 Q59.2097 1216.56 56.131 1211.98 Q53.0754 1207.37 53.0754 1198.64 Q53.0754 1189.89 56.131 1185.31 Q59.2097 1180.7 65.0198 1180.7 Z\" fill=\"#000000\" fill-rule=\"evenodd\" fill-opacity=\"1\" /><path clip-path=\"url(#clip750)\" d=\"M85.1818 1210.01 L90.066 1210.01 L90.066 1215.89 L85.1818 1215.89 L85.1818 1210.01 Z\" fill=\"#000000\" fill-rule=\"evenodd\" fill-opacity=\"1\" /><path clip-path=\"url(#clip750)\" d=\"M104.279 1211.95 L120.598 1211.95 L120.598 1215.89 L98.6539 1215.89 L98.6539 1211.95 Q101.316 1209.2 105.899 1204.57 Q110.506 1199.91 111.686 1198.57 Q113.932 1196.05 114.811 1194.31 Q115.714 1192.55 115.714 1190.86 Q115.714 1188.11 113.77 1186.37 Q111.848 1184.64 108.746 1184.64 Q106.547 1184.64 104.094 1185.4 Q101.663 1186.17 98.8854 1187.72 L98.8854 1182.99 Q101.709 1181.86 104.163 1181.28 Q106.617 1180.7 108.654 1180.7 Q114.024 1180.7 117.219 1183.39 Q120.413 1186.07 120.413 1190.56 Q120.413 1192.69 119.603 1194.61 Q118.816 1196.51 116.709 1199.1 Q116.131 1199.78 113.029 1202.99 Q109.927 1206.19 104.279 1211.95 Z\" fill=\"#000000\" fill-rule=\"evenodd\" fill-opacity=\"1\" /><path clip-path=\"url(#clip750)\" d=\"M62.9365 896.565 Q59.3254 896.565 57.4967 900.13 Q55.6912 903.671 55.6912 910.801 Q55.6912 917.908 57.4967 921.472 Q59.3254 925.014 62.9365 925.014 Q66.5707 925.014 68.3763 921.472 Q70.205 917.908 70.205 910.801 Q70.205 903.671 68.3763 900.13 Q66.5707 896.565 62.9365 896.565 M62.9365 892.861 Q68.7467 892.861 71.8022 897.468 Q74.8809 902.051 74.8809 910.801 Q74.8809 919.528 71.8022 924.134 Q68.7467 928.718 62.9365 928.718 Q57.1264 928.718 54.0477 924.134 Q50.9921 919.528 50.9921 910.801 Q50.9921 902.051 54.0477 897.468 Q57.1264 892.861 62.9365 892.861 Z\" fill=\"#000000\" fill-rule=\"evenodd\" fill-opacity=\"1\" /><path clip-path=\"url(#clip750)\" d=\"M83.0984 922.167 L87.9827 922.167 L87.9827 928.046 L83.0984 928.046 L83.0984 922.167 Z\" fill=\"#000000\" fill-rule=\"evenodd\" fill-opacity=\"1\" /><path clip-path=\"url(#clip750)\" d=\"M111.015 897.56 L99.2095 916.009 L111.015 916.009 L111.015 897.56 M109.788 893.486 L115.668 893.486 L115.668 916.009 L120.598 916.009 L120.598 919.898 L115.668 919.898 L115.668 928.046 L111.015 928.046 L111.015 919.898 L95.4132 919.898 L95.4132 915.384 L109.788 893.486 Z\" fill=\"#000000\" fill-rule=\"evenodd\" fill-opacity=\"1\" /><path clip-path=\"url(#clip750)\" d=\"M63.2606 608.724 Q59.6495 608.724 57.8208 612.289 Q56.0152 615.831 56.0152 622.96 Q56.0152 630.067 57.8208 633.632 Q59.6495 637.173 63.2606 637.173 Q66.8948 637.173 68.7004 633.632 Q70.5291 630.067 70.5291 622.96 Q70.5291 615.831 68.7004 612.289 Q66.8948 608.724 63.2606 608.724 M63.2606 605.021 Q69.0707 605.021 72.1263 609.627 Q75.205 614.21 75.205 622.96 Q75.205 631.687 72.1263 636.294 Q69.0707 640.877 63.2606 640.877 Q57.4504 640.877 54.3717 636.294 Q51.3162 631.687 51.3162 622.96 Q51.3162 614.21 54.3717 609.627 Q57.4504 605.021 63.2606 605.021 Z\" fill=\"#000000\" fill-rule=\"evenodd\" fill-opacity=\"1\" /><path clip-path=\"url(#clip750)\" d=\"M83.4225 634.326 L88.3067 634.326 L88.3067 640.206 L83.4225 640.206 L83.4225 634.326 Z\" fill=\"#000000\" fill-rule=\"evenodd\" fill-opacity=\"1\" /><path clip-path=\"url(#clip750)\" d=\"M109.071 621.062 Q105.922 621.062 104.071 623.215 Q102.242 625.368 102.242 629.118 Q102.242 632.845 104.071 635.02 Q105.922 637.173 109.071 637.173 Q112.219 637.173 114.047 635.02 Q115.899 632.845 115.899 629.118 Q115.899 625.368 114.047 623.215 Q112.219 621.062 109.071 621.062 M118.353 606.409 L118.353 610.669 Q116.594 609.835 114.788 609.396 Q113.006 608.956 111.246 608.956 Q106.617 608.956 104.163 612.081 Q101.733 615.206 101.385 621.525 Q102.751 619.511 104.811 618.446 Q106.871 617.359 109.348 617.359 Q114.557 617.359 117.566 620.53 Q120.598 623.678 120.598 629.118 Q120.598 634.442 117.45 637.659 Q114.302 640.877 109.071 640.877 Q103.075 640.877 99.9039 636.294 Q96.7326 631.687 96.7326 622.96 Q96.7326 614.766 100.621 609.905 Q104.51 605.021 111.061 605.021 Q112.82 605.021 114.603 605.368 Q116.408 605.715 118.353 606.409 Z\" fill=\"#000000\" fill-rule=\"evenodd\" fill-opacity=\"1\" /><path clip-path=\"url(#clip750)\" d=\"M63.5152 320.884 Q59.9041 320.884 58.0754 324.448 Q56.2699 327.99 56.2699 335.12 Q56.2699 342.226 58.0754 345.791 Q59.9041 349.332 63.5152 349.332 Q67.1494 349.332 68.955 345.791 Q70.7837 342.226 70.7837 335.12 Q70.7837 327.99 68.955 324.448 Q67.1494 320.884 63.5152 320.884 M63.5152 317.18 Q69.3254 317.18 72.3809 321.786 Q75.4596 326.37 75.4596 335.12 Q75.4596 343.846 72.3809 348.453 Q69.3254 353.036 63.5152 353.036 Q57.7051 353.036 54.6264 348.453 Q51.5708 343.846 51.5708 335.12 Q51.5708 326.37 54.6264 321.786 Q57.7051 317.18 63.5152 317.18 Z\" fill=\"#000000\" fill-rule=\"evenodd\" fill-opacity=\"1\" /><path clip-path=\"url(#clip750)\" d=\"M83.6771 346.485 L88.5614 346.485 L88.5614 352.365 L83.6771 352.365 L83.6771 346.485 Z\" fill=\"#000000\" fill-rule=\"evenodd\" fill-opacity=\"1\" /><path clip-path=\"url(#clip750)\" d=\"M108.746 335.953 Q105.413 335.953 103.492 337.735 Q101.594 339.518 101.594 342.643 Q101.594 345.768 103.492 347.55 Q105.413 349.332 108.746 349.332 Q112.08 349.332 114.001 347.55 Q115.922 345.745 115.922 342.643 Q115.922 339.518 114.001 337.735 Q112.103 335.953 108.746 335.953 M104.071 333.962 Q101.061 333.221 99.3715 331.161 Q97.7048 329.101 97.7048 326.138 Q97.7048 321.995 100.645 319.587 Q103.608 317.18 108.746 317.18 Q113.908 317.18 116.848 319.587 Q119.788 321.995 119.788 326.138 Q119.788 329.101 118.098 331.161 Q116.432 333.221 113.445 333.962 Q116.825 334.749 118.7 337.041 Q120.598 339.333 120.598 342.643 Q120.598 347.666 117.52 350.351 Q114.464 353.036 108.746 353.036 Q103.029 353.036 99.9502 350.351 Q96.8947 347.666 96.8947 342.643 Q96.8947 339.333 98.7928 337.041 Q100.691 334.749 104.071 333.962 M102.358 326.578 Q102.358 329.263 104.024 330.768 Q105.714 332.272 108.746 332.272 Q111.756 332.272 113.445 330.768 Q115.158 329.263 115.158 326.578 Q115.158 323.893 113.445 322.388 Q111.756 320.884 108.746 320.884 Q105.714 320.884 104.024 322.388 Q102.358 323.893 102.358 326.578 Z\" fill=\"#000000\" fill-rule=\"evenodd\" fill-opacity=\"1\" /><path clip-path=\"url(#clip750)\" d=\"M54.2328 60.5889 L61.8717 60.5889 L61.8717 34.2233 L53.5616 35.89 L53.5616 31.6308 L61.8254 29.9641 L66.5013 29.9641 L66.5013 60.5889 L74.1402 60.5889 L74.1402 64.5241 L54.2328 64.5241 L54.2328 60.5889 Z\" fill=\"#000000\" fill-rule=\"evenodd\" fill-opacity=\"1\" /><path clip-path=\"url(#clip750)\" d=\"M83.5845 58.6445 L88.4688 58.6445 L88.4688 64.5241 L83.5845 64.5241 L83.5845 58.6445 Z\" fill=\"#000000\" fill-rule=\"evenodd\" fill-opacity=\"1\" /><path clip-path=\"url(#clip750)\" d=\"M108.654 33.0428 Q105.043 33.0428 103.214 36.6076 Q101.409 40.1492 101.409 47.2788 Q101.409 54.3853 103.214 57.9501 Q105.043 61.4917 108.654 61.4917 Q112.288 61.4917 114.094 57.9501 Q115.922 54.3853 115.922 47.2788 Q115.922 40.1492 114.094 36.6076 Q112.288 33.0428 108.654 33.0428 M108.654 29.3391 Q114.464 29.3391 117.52 33.9456 Q120.598 38.5289 120.598 47.2788 Q120.598 56.0056 117.52 60.6121 Q114.464 65.1954 108.654 65.1954 Q102.844 65.1954 99.765 60.6121 Q96.7095 56.0056 96.7095 47.2788 Q96.7095 38.5289 99.765 33.9456 Q102.844 29.3391 108.654 29.3391 Z\" fill=\"#000000\" fill-rule=\"evenodd\" fill-opacity=\"1\" /></svg>\n"
      ]
     },
     "execution_count": 51,
     "metadata": {},
     "output_type": "execute_result"
    }
   ],
   "source": [
    "plot()"
   ]
  },
  {
   "cell_type": "code",
   "execution_count": 55,
   "metadata": {},
   "outputs": [],
   "source": [
    "x = 1:15; y = rand(15);"
   ]
  },
  {
   "cell_type": "code",
   "execution_count": 56,
   "metadata": {},
   "outputs": [
    {
     "data": {
      "image/svg+xml": [
       "<?xml version=\"1.0\" encoding=\"utf-8\"?>\n",
       "<svg xmlns=\"http://www.w3.org/2000/svg\" xmlns:xlink=\"http://www.w3.org/1999/xlink\" width=\"600\" height=\"400\" viewBox=\"0 0 2400 1600\">\n",
       "<defs>\n",
       "  <clipPath id=\"clip810\">\n",
       "    <rect x=\"0\" y=\"0\" width=\"2400\" height=\"1600\"/>\n",
       "  </clipPath>\n",
       "</defs>\n",
       "<path clip-path=\"url(#clip810)\" d=\"\n",
       "M0 1600 L2400 1600 L2400 0 L0 0  Z\n",
       "  \" fill=\"#ffffff\" fill-rule=\"evenodd\" fill-opacity=\"1\"/>\n",
       "<defs>\n",
       "  <clipPath id=\"clip811\">\n",
       "    <rect x=\"480\" y=\"0\" width=\"1681\" height=\"1600\"/>\n",
       "  </clipPath>\n",
       "</defs>\n",
       "<path clip-path=\"url(#clip810)\" d=\"\n",
       "M156.598 1486.45 L2352.76 1486.45 L2352.76 47.2441 L156.598 47.2441  Z\n",
       "  \" fill=\"#ffffff\" fill-rule=\"evenodd\" fill-opacity=\"1\"/>\n",
       "<defs>\n",
       "  <clipPath id=\"clip812\">\n",
       "    <rect x=\"156\" y=\"47\" width=\"2197\" height=\"1440\"/>\n",
       "  </clipPath>\n",
       "</defs>\n",
       "<polyline clip-path=\"url(#clip812)\" style=\"stroke:#000000; stroke-linecap:butt; stroke-linejoin:round; stroke-width:2; stroke-opacity:0.1; fill:none\" points=\"\n",
       "  366.743,1486.45 366.743,47.2441 \n",
       "  \"/>\n",
       "<polyline clip-path=\"url(#clip812)\" style=\"stroke:#000000; stroke-linecap:butt; stroke-linejoin:round; stroke-width:2; stroke-opacity:0.1; fill:none\" points=\"\n",
       "  662.721,1486.45 662.721,47.2441 \n",
       "  \"/>\n",
       "<polyline clip-path=\"url(#clip812)\" style=\"stroke:#000000; stroke-linecap:butt; stroke-linejoin:round; stroke-width:2; stroke-opacity:0.1; fill:none\" points=\"\n",
       "  958.699,1486.45 958.699,47.2441 \n",
       "  \"/>\n",
       "<polyline clip-path=\"url(#clip812)\" style=\"stroke:#000000; stroke-linecap:butt; stroke-linejoin:round; stroke-width:2; stroke-opacity:0.1; fill:none\" points=\"\n",
       "  1254.68,1486.45 1254.68,47.2441 \n",
       "  \"/>\n",
       "<polyline clip-path=\"url(#clip812)\" style=\"stroke:#000000; stroke-linecap:butt; stroke-linejoin:round; stroke-width:2; stroke-opacity:0.1; fill:none\" points=\"\n",
       "  1550.66,1486.45 1550.66,47.2441 \n",
       "  \"/>\n",
       "<polyline clip-path=\"url(#clip812)\" style=\"stroke:#000000; stroke-linecap:butt; stroke-linejoin:round; stroke-width:2; stroke-opacity:0.1; fill:none\" points=\"\n",
       "  1846.63,1486.45 1846.63,47.2441 \n",
       "  \"/>\n",
       "<polyline clip-path=\"url(#clip812)\" style=\"stroke:#000000; stroke-linecap:butt; stroke-linejoin:round; stroke-width:2; stroke-opacity:0.1; fill:none\" points=\"\n",
       "  2142.61,1486.45 2142.61,47.2441 \n",
       "  \"/>\n",
       "<polyline clip-path=\"url(#clip810)\" style=\"stroke:#000000; stroke-linecap:butt; stroke-linejoin:round; stroke-width:4; stroke-opacity:1; fill:none\" points=\"\n",
       "  156.598,1486.45 2352.76,1486.45 \n",
       "  \"/>\n",
       "<polyline clip-path=\"url(#clip810)\" style=\"stroke:#000000; stroke-linecap:butt; stroke-linejoin:round; stroke-width:4; stroke-opacity:1; fill:none\" points=\"\n",
       "  366.743,1486.45 366.743,1469.18 \n",
       "  \"/>\n",
       "<polyline clip-path=\"url(#clip810)\" style=\"stroke:#000000; stroke-linecap:butt; stroke-linejoin:round; stroke-width:4; stroke-opacity:1; fill:none\" points=\"\n",
       "  662.721,1486.45 662.721,1469.18 \n",
       "  \"/>\n",
       "<polyline clip-path=\"url(#clip810)\" style=\"stroke:#000000; stroke-linecap:butt; stroke-linejoin:round; stroke-width:4; stroke-opacity:1; fill:none\" points=\"\n",
       "  958.699,1486.45 958.699,1469.18 \n",
       "  \"/>\n",
       "<polyline clip-path=\"url(#clip810)\" style=\"stroke:#000000; stroke-linecap:butt; stroke-linejoin:round; stroke-width:4; stroke-opacity:1; fill:none\" points=\"\n",
       "  1254.68,1486.45 1254.68,1469.18 \n",
       "  \"/>\n",
       "<polyline clip-path=\"url(#clip810)\" style=\"stroke:#000000; stroke-linecap:butt; stroke-linejoin:round; stroke-width:4; stroke-opacity:1; fill:none\" points=\"\n",
       "  1550.66,1486.45 1550.66,1469.18 \n",
       "  \"/>\n",
       "<polyline clip-path=\"url(#clip810)\" style=\"stroke:#000000; stroke-linecap:butt; stroke-linejoin:round; stroke-width:4; stroke-opacity:1; fill:none\" points=\"\n",
       "  1846.63,1486.45 1846.63,1469.18 \n",
       "  \"/>\n",
       "<polyline clip-path=\"url(#clip810)\" style=\"stroke:#000000; stroke-linecap:butt; stroke-linejoin:round; stroke-width:4; stroke-opacity:1; fill:none\" points=\"\n",
       "  2142.61,1486.45 2142.61,1469.18 \n",
       "  \"/>\n",
       "<path clip-path=\"url(#clip810)\" d=\"M361.396 1543.18 L377.715 1543.18 L377.715 1547.12 L355.771 1547.12 L355.771 1543.18 Q358.433 1540.43 363.016 1535.8 Q367.622 1531.15 368.803 1529.81 Q371.048 1527.28 371.928 1525.55 Q372.831 1523.79 372.831 1522.1 Q372.831 1519.34 370.886 1517.61 Q368.965 1515.87 365.863 1515.87 Q363.664 1515.87 361.21 1516.63 Q358.78 1517.4 356.002 1518.95 L356.002 1514.23 Q358.826 1513.09 361.28 1512.51 Q363.733 1511.93 365.77 1511.93 Q371.141 1511.93 374.335 1514.62 Q377.53 1517.31 377.53 1521.8 Q377.53 1523.93 376.72 1525.85 Q375.932 1527.74 373.826 1530.34 Q373.247 1531.01 370.145 1534.23 Q367.044 1537.42 361.396 1543.18 Z\" fill=\"#000000\" fill-rule=\"evenodd\" fill-opacity=\"1\" /><path clip-path=\"url(#clip810)\" d=\"M665.73 1516.63 L653.925 1535.08 L665.73 1535.08 L665.73 1516.63 M664.503 1512.56 L670.383 1512.56 L670.383 1535.08 L675.313 1535.08 L675.313 1538.97 L670.383 1538.97 L670.383 1547.12 L665.73 1547.12 L665.73 1538.97 L650.128 1538.97 L650.128 1534.46 L664.503 1512.56 Z\" fill=\"#000000\" fill-rule=\"evenodd\" fill-opacity=\"1\" /><path clip-path=\"url(#clip810)\" d=\"M959.104 1527.98 Q955.956 1527.98 954.104 1530.13 Q952.275 1532.28 952.275 1536.03 Q952.275 1539.76 954.104 1541.93 Q955.956 1544.09 959.104 1544.09 Q962.252 1544.09 964.081 1541.93 Q965.933 1539.76 965.933 1536.03 Q965.933 1532.28 964.081 1530.13 Q962.252 1527.98 959.104 1527.98 M968.386 1513.32 L968.386 1517.58 Q966.627 1516.75 964.822 1516.31 Q963.039 1515.87 961.28 1515.87 Q956.65 1515.87 954.197 1519 Q951.766 1522.12 951.419 1528.44 Q952.785 1526.43 954.845 1525.36 Q956.905 1524.27 959.382 1524.27 Q964.59 1524.27 967.599 1527.44 Q970.632 1530.59 970.632 1536.03 Q970.632 1541.36 967.484 1544.57 Q964.335 1547.79 959.104 1547.79 Q953.109 1547.79 949.937 1543.21 Q946.766 1538.6 946.766 1529.87 Q946.766 1521.68 950.655 1516.82 Q954.544 1511.93 961.095 1511.93 Q962.854 1511.93 964.636 1512.28 Q966.442 1512.63 968.386 1513.32 Z\" fill=\"#000000\" fill-rule=\"evenodd\" fill-opacity=\"1\" /><path clip-path=\"url(#clip810)\" d=\"M1254.68 1530.71 Q1251.34 1530.71 1249.42 1532.49 Q1247.52 1534.27 1247.52 1537.4 Q1247.52 1540.52 1249.42 1542.31 Q1251.34 1544.09 1254.68 1544.09 Q1258.01 1544.09 1259.93 1542.31 Q1261.85 1540.5 1261.85 1537.4 Q1261.85 1534.27 1259.93 1532.49 Q1258.03 1530.71 1254.68 1530.71 M1250 1528.72 Q1246.99 1527.98 1245.3 1525.92 Q1243.64 1523.86 1243.64 1520.89 Q1243.64 1516.75 1246.58 1514.34 Q1249.54 1511.93 1254.68 1511.93 Q1259.84 1511.93 1262.78 1514.34 Q1265.72 1516.75 1265.72 1520.89 Q1265.72 1523.86 1264.03 1525.92 Q1262.36 1527.98 1259.38 1528.72 Q1262.76 1529.5 1264.63 1531.8 Q1266.53 1534.09 1266.53 1537.4 Q1266.53 1542.42 1263.45 1545.11 Q1260.39 1547.79 1254.68 1547.79 Q1248.96 1547.79 1245.88 1545.11 Q1242.83 1542.42 1242.83 1537.4 Q1242.83 1534.09 1244.72 1531.8 Q1246.62 1529.5 1250 1528.72 M1248.29 1521.33 Q1248.29 1524.02 1249.95 1525.52 Q1251.64 1527.03 1254.68 1527.03 Q1257.69 1527.03 1259.38 1525.52 Q1261.09 1524.02 1261.09 1521.33 Q1261.09 1518.65 1259.38 1517.14 Q1257.69 1515.64 1254.68 1515.64 Q1251.64 1515.64 1249.95 1517.14 Q1248.29 1518.65 1248.29 1521.33 Z\" fill=\"#000000\" fill-rule=\"evenodd\" fill-opacity=\"1\" /><path clip-path=\"url(#clip810)\" d=\"M1525.34 1543.18 L1532.98 1543.18 L1532.98 1516.82 L1524.67 1518.49 L1524.67 1514.23 L1532.94 1512.56 L1537.61 1512.56 L1537.61 1543.18 L1545.25 1543.18 L1545.25 1547.12 L1525.34 1547.12 L1525.34 1543.18 Z\" fill=\"#000000\" fill-rule=\"evenodd\" fill-opacity=\"1\" /><path clip-path=\"url(#clip810)\" d=\"M1564.69 1515.64 Q1561.08 1515.64 1559.25 1519.2 Q1557.45 1522.75 1557.45 1529.87 Q1557.45 1536.98 1559.25 1540.55 Q1561.08 1544.09 1564.69 1544.09 Q1568.33 1544.09 1570.13 1540.55 Q1571.96 1536.98 1571.96 1529.87 Q1571.96 1522.75 1570.13 1519.2 Q1568.33 1515.64 1564.69 1515.64 M1564.69 1511.93 Q1570.5 1511.93 1573.56 1516.54 Q1576.64 1521.12 1576.64 1529.87 Q1576.64 1538.6 1573.56 1543.21 Q1570.5 1547.79 1564.69 1547.79 Q1558.88 1547.79 1555.81 1543.21 Q1552.75 1538.6 1552.75 1529.87 Q1552.75 1521.12 1555.81 1516.54 Q1558.88 1511.93 1564.69 1511.93 Z\" fill=\"#000000\" fill-rule=\"evenodd\" fill-opacity=\"1\" /><path clip-path=\"url(#clip810)\" d=\"M1822.12 1543.18 L1829.76 1543.18 L1829.76 1516.82 L1821.45 1518.49 L1821.45 1514.23 L1829.71 1512.56 L1834.39 1512.56 L1834.39 1543.18 L1842.03 1543.18 L1842.03 1547.12 L1822.12 1547.12 L1822.12 1543.18 Z\" fill=\"#000000\" fill-rule=\"evenodd\" fill-opacity=\"1\" /><path clip-path=\"url(#clip810)\" d=\"M1855.5 1543.18 L1871.82 1543.18 L1871.82 1547.12 L1849.87 1547.12 L1849.87 1543.18 Q1852.54 1540.43 1857.12 1535.8 Q1861.73 1531.15 1862.91 1529.81 Q1865.15 1527.28 1866.03 1525.55 Q1866.93 1523.79 1866.93 1522.1 Q1866.93 1519.34 1864.99 1517.61 Q1863.07 1515.87 1859.97 1515.87 Q1857.77 1515.87 1855.31 1516.63 Q1852.88 1517.4 1850.11 1518.95 L1850.11 1514.23 Q1852.93 1513.09 1855.38 1512.51 Q1857.84 1511.93 1859.87 1511.93 Q1865.24 1511.93 1868.44 1514.62 Q1871.63 1517.31 1871.63 1521.8 Q1871.63 1523.93 1870.82 1525.85 Q1870.04 1527.74 1867.93 1530.34 Q1867.35 1531.01 1864.25 1534.23 Q1861.15 1537.42 1855.5 1543.18 Z\" fill=\"#000000\" fill-rule=\"evenodd\" fill-opacity=\"1\" /><path clip-path=\"url(#clip810)\" d=\"M2117.06 1543.18 L2124.69 1543.18 L2124.69 1516.82 L2116.38 1518.49 L2116.38 1514.23 L2124.65 1512.56 L2129.32 1512.56 L2129.32 1543.18 L2136.96 1543.18 L2136.96 1547.12 L2117.06 1547.12 L2117.06 1543.18 Z\" fill=\"#000000\" fill-rule=\"evenodd\" fill-opacity=\"1\" /><path clip-path=\"url(#clip810)\" d=\"M2159.25 1516.63 L2147.45 1535.08 L2159.25 1535.08 L2159.25 1516.63 M2158.03 1512.56 L2163.91 1512.56 L2163.91 1535.08 L2168.84 1535.08 L2168.84 1538.97 L2163.91 1538.97 L2163.91 1547.12 L2159.25 1547.12 L2159.25 1538.97 L2143.65 1538.97 L2143.65 1534.46 L2158.03 1512.56 Z\" fill=\"#000000\" fill-rule=\"evenodd\" fill-opacity=\"1\" /><polyline clip-path=\"url(#clip812)\" style=\"stroke:#000000; stroke-linecap:butt; stroke-linejoin:round; stroke-width:2; stroke-opacity:0.1; fill:none\" points=\"\n",
       "  156.598,1200.79 2352.76,1200.79 \n",
       "  \"/>\n",
       "<polyline clip-path=\"url(#clip812)\" style=\"stroke:#000000; stroke-linecap:butt; stroke-linejoin:round; stroke-width:2; stroke-opacity:0.1; fill:none\" points=\"\n",
       "  156.598,895.49 2352.76,895.49 \n",
       "  \"/>\n",
       "<polyline clip-path=\"url(#clip812)\" style=\"stroke:#000000; stroke-linecap:butt; stroke-linejoin:round; stroke-width:2; stroke-opacity:0.1; fill:none\" points=\"\n",
       "  156.598,590.189 2352.76,590.189 \n",
       "  \"/>\n",
       "<polyline clip-path=\"url(#clip812)\" style=\"stroke:#000000; stroke-linecap:butt; stroke-linejoin:round; stroke-width:2; stroke-opacity:0.1; fill:none\" points=\"\n",
       "  156.598,284.887 2352.76,284.887 \n",
       "  \"/>\n",
       "<polyline clip-path=\"url(#clip810)\" style=\"stroke:#000000; stroke-linecap:butt; stroke-linejoin:round; stroke-width:4; stroke-opacity:1; fill:none\" points=\"\n",
       "  156.598,1486.45 156.598,47.2441 \n",
       "  \"/>\n",
       "<polyline clip-path=\"url(#clip810)\" style=\"stroke:#000000; stroke-linecap:butt; stroke-linejoin:round; stroke-width:4; stroke-opacity:1; fill:none\" points=\"\n",
       "  156.598,1200.79 182.952,1200.79 \n",
       "  \"/>\n",
       "<polyline clip-path=\"url(#clip810)\" style=\"stroke:#000000; stroke-linecap:butt; stroke-linejoin:round; stroke-width:4; stroke-opacity:1; fill:none\" points=\"\n",
       "  156.598,895.49 182.952,895.49 \n",
       "  \"/>\n",
       "<polyline clip-path=\"url(#clip810)\" style=\"stroke:#000000; stroke-linecap:butt; stroke-linejoin:round; stroke-width:4; stroke-opacity:1; fill:none\" points=\"\n",
       "  156.598,590.189 182.952,590.189 \n",
       "  \"/>\n",
       "<polyline clip-path=\"url(#clip810)\" style=\"stroke:#000000; stroke-linecap:butt; stroke-linejoin:round; stroke-width:4; stroke-opacity:1; fill:none\" points=\"\n",
       "  156.598,284.887 182.952,284.887 \n",
       "  \"/>\n",
       "<path clip-path=\"url(#clip810)\" d=\"M65.0198 1186.59 Q61.4087 1186.59 59.58 1190.16 Q57.7745 1193.7 57.7745 1200.83 Q57.7745 1207.93 59.58 1211.5 Q61.4087 1215.04 65.0198 1215.04 Q68.6541 1215.04 70.4596 1211.5 Q72.2883 1207.93 72.2883 1200.83 Q72.2883 1193.7 70.4596 1190.16 Q68.6541 1186.59 65.0198 1186.59 M65.0198 1182.89 Q70.83 1182.89 73.8855 1187.49 Q76.9642 1192.08 76.9642 1200.83 Q76.9642 1209.55 73.8855 1214.16 Q70.83 1218.74 65.0198 1218.74 Q59.2097 1218.74 56.131 1214.16 Q53.0754 1209.55 53.0754 1200.83 Q53.0754 1192.08 56.131 1187.49 Q59.2097 1182.89 65.0198 1182.89 Z\" fill=\"#000000\" fill-rule=\"evenodd\" fill-opacity=\"1\" /><path clip-path=\"url(#clip810)\" d=\"M85.1818 1212.19 L90.066 1212.19 L90.066 1218.07 L85.1818 1218.07 L85.1818 1212.19 Z\" fill=\"#000000\" fill-rule=\"evenodd\" fill-opacity=\"1\" /><path clip-path=\"url(#clip810)\" d=\"M104.279 1214.14 L120.598 1214.14 L120.598 1218.07 L98.6539 1218.07 L98.6539 1214.14 Q101.316 1211.38 105.899 1206.75 Q110.506 1202.1 111.686 1200.76 Q113.932 1198.23 114.811 1196.5 Q115.714 1194.74 115.714 1193.05 Q115.714 1190.29 113.77 1188.56 Q111.848 1186.82 108.746 1186.82 Q106.547 1186.82 104.094 1187.59 Q101.663 1188.35 98.8854 1189.9 L98.8854 1185.18 Q101.709 1184.04 104.163 1183.47 Q106.617 1182.89 108.654 1182.89 Q114.024 1182.89 117.219 1185.57 Q120.413 1188.26 120.413 1192.75 Q120.413 1194.88 119.603 1196.8 Q118.816 1198.7 116.709 1201.29 Q116.131 1201.96 113.029 1205.18 Q109.927 1208.37 104.279 1214.14 Z\" fill=\"#000000\" fill-rule=\"evenodd\" fill-opacity=\"1\" /><path clip-path=\"url(#clip810)\" d=\"M62.9365 881.289 Q59.3254 881.289 57.4967 884.854 Q55.6912 888.395 55.6912 895.525 Q55.6912 902.631 57.4967 906.196 Q59.3254 909.738 62.9365 909.738 Q66.5707 909.738 68.3763 906.196 Q70.205 902.631 70.205 895.525 Q70.205 888.395 68.3763 884.854 Q66.5707 881.289 62.9365 881.289 M62.9365 877.585 Q68.7467 877.585 71.8022 882.192 Q74.8809 886.775 74.8809 895.525 Q74.8809 904.252 71.8022 908.858 Q68.7467 913.442 62.9365 913.442 Q57.1264 913.442 54.0477 908.858 Q50.9921 904.252 50.9921 895.525 Q50.9921 886.775 54.0477 882.192 Q57.1264 877.585 62.9365 877.585 Z\" fill=\"#000000\" fill-rule=\"evenodd\" fill-opacity=\"1\" /><path clip-path=\"url(#clip810)\" d=\"M83.0984 906.891 L87.9827 906.891 L87.9827 912.77 L83.0984 912.77 L83.0984 906.891 Z\" fill=\"#000000\" fill-rule=\"evenodd\" fill-opacity=\"1\" /><path clip-path=\"url(#clip810)\" d=\"M111.015 882.284 L99.2095 900.733 L111.015 900.733 L111.015 882.284 M109.788 878.21 L115.668 878.21 L115.668 900.733 L120.598 900.733 L120.598 904.622 L115.668 904.622 L115.668 912.77 L111.015 912.77 L111.015 904.622 L95.4132 904.622 L95.4132 900.108 L109.788 878.21 Z\" fill=\"#000000\" fill-rule=\"evenodd\" fill-opacity=\"1\" /><path clip-path=\"url(#clip810)\" d=\"M63.2606 575.987 Q59.6495 575.987 57.8208 579.552 Q56.0152 583.094 56.0152 590.223 Q56.0152 597.33 57.8208 600.895 Q59.6495 604.436 63.2606 604.436 Q66.8948 604.436 68.7004 600.895 Q70.5291 597.33 70.5291 590.223 Q70.5291 583.094 68.7004 579.552 Q66.8948 575.987 63.2606 575.987 M63.2606 572.284 Q69.0707 572.284 72.1263 576.89 Q75.205 581.473 75.205 590.223 Q75.205 598.95 72.1263 603.557 Q69.0707 608.14 63.2606 608.14 Q57.4504 608.14 54.3717 603.557 Q51.3162 598.95 51.3162 590.223 Q51.3162 581.473 54.3717 576.89 Q57.4504 572.284 63.2606 572.284 Z\" fill=\"#000000\" fill-rule=\"evenodd\" fill-opacity=\"1\" /><path clip-path=\"url(#clip810)\" d=\"M83.4225 601.589 L88.3067 601.589 L88.3067 607.469 L83.4225 607.469 L83.4225 601.589 Z\" fill=\"#000000\" fill-rule=\"evenodd\" fill-opacity=\"1\" /><path clip-path=\"url(#clip810)\" d=\"M109.071 588.325 Q105.922 588.325 104.071 590.478 Q102.242 592.631 102.242 596.381 Q102.242 600.108 104.071 602.284 Q105.922 604.436 109.071 604.436 Q112.219 604.436 114.047 602.284 Q115.899 600.108 115.899 596.381 Q115.899 592.631 114.047 590.478 Q112.219 588.325 109.071 588.325 M118.353 573.673 L118.353 577.932 Q116.594 577.098 114.788 576.659 Q113.006 576.219 111.246 576.219 Q106.617 576.219 104.163 579.344 Q101.733 582.469 101.385 588.788 Q102.751 586.774 104.811 585.71 Q106.871 584.622 109.348 584.622 Q114.557 584.622 117.566 587.793 Q120.598 590.941 120.598 596.381 Q120.598 601.705 117.45 604.922 Q114.302 608.14 109.071 608.14 Q103.075 608.14 99.9039 603.557 Q96.7326 598.95 96.7326 590.223 Q96.7326 582.029 100.621 577.168 Q104.51 572.284 111.061 572.284 Q112.82 572.284 114.603 572.631 Q116.408 572.978 118.353 573.673 Z\" fill=\"#000000\" fill-rule=\"evenodd\" fill-opacity=\"1\" /><path clip-path=\"url(#clip810)\" d=\"M63.5152 270.686 Q59.9041 270.686 58.0754 274.251 Q56.2699 277.792 56.2699 284.922 Q56.2699 292.028 58.0754 295.593 Q59.9041 299.135 63.5152 299.135 Q67.1494 299.135 68.955 295.593 Q70.7837 292.028 70.7837 284.922 Q70.7837 277.792 68.955 274.251 Q67.1494 270.686 63.5152 270.686 M63.5152 266.982 Q69.3254 266.982 72.3809 271.589 Q75.4596 276.172 75.4596 284.922 Q75.4596 293.649 72.3809 298.255 Q69.3254 302.838 63.5152 302.838 Q57.7051 302.838 54.6264 298.255 Q51.5708 293.649 51.5708 284.922 Q51.5708 276.172 54.6264 271.589 Q57.7051 266.982 63.5152 266.982 Z\" fill=\"#000000\" fill-rule=\"evenodd\" fill-opacity=\"1\" /><path clip-path=\"url(#clip810)\" d=\"M83.6771 296.287 L88.5614 296.287 L88.5614 302.167 L83.6771 302.167 L83.6771 296.287 Z\" fill=\"#000000\" fill-rule=\"evenodd\" fill-opacity=\"1\" /><path clip-path=\"url(#clip810)\" d=\"M108.746 285.755 Q105.413 285.755 103.492 287.537 Q101.594 289.32 101.594 292.445 Q101.594 295.57 103.492 297.352 Q105.413 299.135 108.746 299.135 Q112.08 299.135 114.001 297.352 Q115.922 295.547 115.922 292.445 Q115.922 289.32 114.001 287.537 Q112.103 285.755 108.746 285.755 M104.071 283.764 Q101.061 283.024 99.3715 280.963 Q97.7048 278.903 97.7048 275.94 Q97.7048 271.797 100.645 269.389 Q103.608 266.982 108.746 266.982 Q113.908 266.982 116.848 269.389 Q119.788 271.797 119.788 275.94 Q119.788 278.903 118.098 280.963 Q116.432 283.024 113.445 283.764 Q116.825 284.551 118.7 286.843 Q120.598 289.135 120.598 292.445 Q120.598 297.468 117.52 300.153 Q114.464 302.838 108.746 302.838 Q103.029 302.838 99.9502 300.153 Q96.8947 297.468 96.8947 292.445 Q96.8947 289.135 98.7928 286.843 Q100.691 284.551 104.071 283.764 M102.358 276.38 Q102.358 279.065 104.024 280.57 Q105.714 282.075 108.746 282.075 Q111.756 282.075 113.445 280.57 Q115.158 279.065 115.158 276.38 Q115.158 273.695 113.445 272.19 Q111.756 270.686 108.746 270.686 Q105.714 270.686 104.024 272.19 Q102.358 273.695 102.358 276.38 Z\" fill=\"#000000\" fill-rule=\"evenodd\" fill-opacity=\"1\" /><polyline clip-path=\"url(#clip812)\" style=\"stroke:#009af9; stroke-linecap:butt; stroke-linejoin:round; stroke-width:4; stroke-opacity:1; fill:none\" points=\"\n",
       "  218.754,852.637 366.743,1050.9 514.732,1148.29 662.721,1328.35 810.71,1096.76 958.699,551.834 1106.69,625.126 1254.68,1445.72 1402.67,225.306 1550.66,945.236 \n",
       "  1698.64,545.126 1846.63,1016.07 1994.62,466.837 2142.61,835.075 2290.6,87.9763 \n",
       "  \"/>\n",
       "<path clip-path=\"url(#clip810)\" d=\"\n",
       "M1983.1 216.178 L2279.55 216.178 L2279.55 95.2176 L1983.1 95.2176  Z\n",
       "  \" fill=\"#ffffff\" fill-rule=\"evenodd\" fill-opacity=\"1\"/>\n",
       "<polyline clip-path=\"url(#clip810)\" style=\"stroke:#000000; stroke-linecap:butt; stroke-linejoin:round; stroke-width:4; stroke-opacity:1; fill:none\" points=\"\n",
       "  1983.1,216.178 2279.55,216.178 2279.55,95.2176 1983.1,95.2176 1983.1,216.178 \n",
       "  \"/>\n",
       "<polyline clip-path=\"url(#clip810)\" style=\"stroke:#009af9; stroke-linecap:butt; stroke-linejoin:round; stroke-width:4; stroke-opacity:1; fill:none\" points=\"\n",
       "  2007.5,155.698 2153.92,155.698 \n",
       "  \"/>\n",
       "<path clip-path=\"url(#clip810)\" d=\"M2192.16 175.385 Q2190.35 180.015 2188.64 181.427 Q2186.93 182.839 2184.06 182.839 L2180.65 182.839 L2180.65 179.274 L2183.15 179.274 Q2184.91 179.274 2185.89 178.44 Q2186.86 177.607 2188.04 174.505 L2188.8 172.561 L2178.32 147.052 L2182.83 147.052 L2190.93 167.329 L2199.03 147.052 L2203.55 147.052 L2192.16 175.385 Z\" fill=\"#000000\" fill-rule=\"evenodd\" fill-opacity=\"1\" /><path clip-path=\"url(#clip810)\" d=\"M2210.84 169.042 L2218.48 169.042 L2218.48 142.677 L2210.17 144.343 L2210.17 140.084 L2218.43 138.418 L2223.11 138.418 L2223.11 169.042 L2230.75 169.042 L2230.75 172.978 L2210.84 172.978 L2210.84 169.042 Z\" fill=\"#000000\" fill-rule=\"evenodd\" fill-opacity=\"1\" /></svg>\n"
      ]
     },
     "execution_count": 56,
     "metadata": {},
     "output_type": "execute_result"
    }
   ],
   "source": [
    "plot(x,y)"
   ]
  },
  {
   "cell_type": "code",
   "execution_count": 57,
   "metadata": {},
   "outputs": [],
   "source": [
    "z = rand(15);"
   ]
  },
  {
   "cell_type": "code",
   "execution_count": 58,
   "metadata": {},
   "outputs": [
    {
     "data": {
      "image/svg+xml": [
       "<?xml version=\"1.0\" encoding=\"utf-8\"?>\n",
       "<svg xmlns=\"http://www.w3.org/2000/svg\" xmlns:xlink=\"http://www.w3.org/1999/xlink\" width=\"600\" height=\"400\" viewBox=\"0 0 2400 1600\">\n",
       "<defs>\n",
       "  <clipPath id=\"clip850\">\n",
       "    <rect x=\"0\" y=\"0\" width=\"2400\" height=\"1600\"/>\n",
       "  </clipPath>\n",
       "</defs>\n",
       "<path clip-path=\"url(#clip850)\" d=\"\n",
       "M0 1600 L2400 1600 L2400 0 L0 0  Z\n",
       "  \" fill=\"#ffffff\" fill-rule=\"evenodd\" fill-opacity=\"1\"/>\n",
       "<defs>\n",
       "  <clipPath id=\"clip851\">\n",
       "    <rect x=\"480\" y=\"0\" width=\"1681\" height=\"1600\"/>\n",
       "  </clipPath>\n",
       "</defs>\n",
       "<path clip-path=\"url(#clip850)\" d=\"\n",
       "M156.598 1486.45 L2352.76 1486.45 L2352.76 47.2441 L156.598 47.2441  Z\n",
       "  \" fill=\"#ffffff\" fill-rule=\"evenodd\" fill-opacity=\"1\"/>\n",
       "<defs>\n",
       "  <clipPath id=\"clip852\">\n",
       "    <rect x=\"156\" y=\"47\" width=\"2197\" height=\"1440\"/>\n",
       "  </clipPath>\n",
       "</defs>\n",
       "<polyline clip-path=\"url(#clip852)\" style=\"stroke:#000000; stroke-linecap:butt; stroke-linejoin:round; stroke-width:2; stroke-opacity:0.1; fill:none\" points=\"\n",
       "  366.743,1486.45 366.743,47.2441 \n",
       "  \"/>\n",
       "<polyline clip-path=\"url(#clip852)\" style=\"stroke:#000000; stroke-linecap:butt; stroke-linejoin:round; stroke-width:2; stroke-opacity:0.1; fill:none\" points=\"\n",
       "  662.721,1486.45 662.721,47.2441 \n",
       "  \"/>\n",
       "<polyline clip-path=\"url(#clip852)\" style=\"stroke:#000000; stroke-linecap:butt; stroke-linejoin:round; stroke-width:2; stroke-opacity:0.1; fill:none\" points=\"\n",
       "  958.699,1486.45 958.699,47.2441 \n",
       "  \"/>\n",
       "<polyline clip-path=\"url(#clip852)\" style=\"stroke:#000000; stroke-linecap:butt; stroke-linejoin:round; stroke-width:2; stroke-opacity:0.1; fill:none\" points=\"\n",
       "  1254.68,1486.45 1254.68,47.2441 \n",
       "  \"/>\n",
       "<polyline clip-path=\"url(#clip852)\" style=\"stroke:#000000; stroke-linecap:butt; stroke-linejoin:round; stroke-width:2; stroke-opacity:0.1; fill:none\" points=\"\n",
       "  1550.66,1486.45 1550.66,47.2441 \n",
       "  \"/>\n",
       "<polyline clip-path=\"url(#clip852)\" style=\"stroke:#000000; stroke-linecap:butt; stroke-linejoin:round; stroke-width:2; stroke-opacity:0.1; fill:none\" points=\"\n",
       "  1846.63,1486.45 1846.63,47.2441 \n",
       "  \"/>\n",
       "<polyline clip-path=\"url(#clip852)\" style=\"stroke:#000000; stroke-linecap:butt; stroke-linejoin:round; stroke-width:2; stroke-opacity:0.1; fill:none\" points=\"\n",
       "  2142.61,1486.45 2142.61,47.2441 \n",
       "  \"/>\n",
       "<polyline clip-path=\"url(#clip850)\" style=\"stroke:#000000; stroke-linecap:butt; stroke-linejoin:round; stroke-width:4; stroke-opacity:1; fill:none\" points=\"\n",
       "  156.598,1486.45 2352.76,1486.45 \n",
       "  \"/>\n",
       "<polyline clip-path=\"url(#clip850)\" style=\"stroke:#000000; stroke-linecap:butt; stroke-linejoin:round; stroke-width:4; stroke-opacity:1; fill:none\" points=\"\n",
       "  366.743,1486.45 366.743,1469.18 \n",
       "  \"/>\n",
       "<polyline clip-path=\"url(#clip850)\" style=\"stroke:#000000; stroke-linecap:butt; stroke-linejoin:round; stroke-width:4; stroke-opacity:1; fill:none\" points=\"\n",
       "  662.721,1486.45 662.721,1469.18 \n",
       "  \"/>\n",
       "<polyline clip-path=\"url(#clip850)\" style=\"stroke:#000000; stroke-linecap:butt; stroke-linejoin:round; stroke-width:4; stroke-opacity:1; fill:none\" points=\"\n",
       "  958.699,1486.45 958.699,1469.18 \n",
       "  \"/>\n",
       "<polyline clip-path=\"url(#clip850)\" style=\"stroke:#000000; stroke-linecap:butt; stroke-linejoin:round; stroke-width:4; stroke-opacity:1; fill:none\" points=\"\n",
       "  1254.68,1486.45 1254.68,1469.18 \n",
       "  \"/>\n",
       "<polyline clip-path=\"url(#clip850)\" style=\"stroke:#000000; stroke-linecap:butt; stroke-linejoin:round; stroke-width:4; stroke-opacity:1; fill:none\" points=\"\n",
       "  1550.66,1486.45 1550.66,1469.18 \n",
       "  \"/>\n",
       "<polyline clip-path=\"url(#clip850)\" style=\"stroke:#000000; stroke-linecap:butt; stroke-linejoin:round; stroke-width:4; stroke-opacity:1; fill:none\" points=\"\n",
       "  1846.63,1486.45 1846.63,1469.18 \n",
       "  \"/>\n",
       "<polyline clip-path=\"url(#clip850)\" style=\"stroke:#000000; stroke-linecap:butt; stroke-linejoin:round; stroke-width:4; stroke-opacity:1; fill:none\" points=\"\n",
       "  2142.61,1486.45 2142.61,1469.18 \n",
       "  \"/>\n",
       "<path clip-path=\"url(#clip850)\" d=\"M361.396 1543.18 L377.715 1543.18 L377.715 1547.12 L355.771 1547.12 L355.771 1543.18 Q358.433 1540.43 363.016 1535.8 Q367.622 1531.15 368.803 1529.81 Q371.048 1527.28 371.928 1525.55 Q372.831 1523.79 372.831 1522.1 Q372.831 1519.34 370.886 1517.61 Q368.965 1515.87 365.863 1515.87 Q363.664 1515.87 361.21 1516.63 Q358.78 1517.4 356.002 1518.95 L356.002 1514.23 Q358.826 1513.09 361.28 1512.51 Q363.733 1511.93 365.77 1511.93 Q371.141 1511.93 374.335 1514.62 Q377.53 1517.31 377.53 1521.8 Q377.53 1523.93 376.72 1525.85 Q375.932 1527.74 373.826 1530.34 Q373.247 1531.01 370.145 1534.23 Q367.044 1537.42 361.396 1543.18 Z\" fill=\"#000000\" fill-rule=\"evenodd\" fill-opacity=\"1\" /><path clip-path=\"url(#clip850)\" d=\"M665.73 1516.63 L653.925 1535.08 L665.73 1535.08 L665.73 1516.63 M664.503 1512.56 L670.383 1512.56 L670.383 1535.08 L675.313 1535.08 L675.313 1538.97 L670.383 1538.97 L670.383 1547.12 L665.73 1547.12 L665.73 1538.97 L650.128 1538.97 L650.128 1534.46 L664.503 1512.56 Z\" fill=\"#000000\" fill-rule=\"evenodd\" fill-opacity=\"1\" /><path clip-path=\"url(#clip850)\" d=\"M959.104 1527.98 Q955.956 1527.98 954.104 1530.13 Q952.275 1532.28 952.275 1536.03 Q952.275 1539.76 954.104 1541.93 Q955.956 1544.09 959.104 1544.09 Q962.252 1544.09 964.081 1541.93 Q965.933 1539.76 965.933 1536.03 Q965.933 1532.28 964.081 1530.13 Q962.252 1527.98 959.104 1527.98 M968.386 1513.32 L968.386 1517.58 Q966.627 1516.75 964.822 1516.31 Q963.039 1515.87 961.28 1515.87 Q956.65 1515.87 954.197 1519 Q951.766 1522.12 951.419 1528.44 Q952.785 1526.43 954.845 1525.36 Q956.905 1524.27 959.382 1524.27 Q964.59 1524.27 967.599 1527.44 Q970.632 1530.59 970.632 1536.03 Q970.632 1541.36 967.484 1544.57 Q964.335 1547.79 959.104 1547.79 Q953.109 1547.79 949.937 1543.21 Q946.766 1538.6 946.766 1529.87 Q946.766 1521.68 950.655 1516.82 Q954.544 1511.93 961.095 1511.93 Q962.854 1511.93 964.636 1512.28 Q966.442 1512.63 968.386 1513.32 Z\" fill=\"#000000\" fill-rule=\"evenodd\" fill-opacity=\"1\" /><path clip-path=\"url(#clip850)\" d=\"M1254.68 1530.71 Q1251.34 1530.71 1249.42 1532.49 Q1247.52 1534.27 1247.52 1537.4 Q1247.52 1540.52 1249.42 1542.31 Q1251.34 1544.09 1254.68 1544.09 Q1258.01 1544.09 1259.93 1542.31 Q1261.85 1540.5 1261.85 1537.4 Q1261.85 1534.27 1259.93 1532.49 Q1258.03 1530.71 1254.68 1530.71 M1250 1528.72 Q1246.99 1527.98 1245.3 1525.92 Q1243.64 1523.86 1243.64 1520.89 Q1243.64 1516.75 1246.58 1514.34 Q1249.54 1511.93 1254.68 1511.93 Q1259.84 1511.93 1262.78 1514.34 Q1265.72 1516.75 1265.72 1520.89 Q1265.72 1523.86 1264.03 1525.92 Q1262.36 1527.98 1259.38 1528.72 Q1262.76 1529.5 1264.63 1531.8 Q1266.53 1534.09 1266.53 1537.4 Q1266.53 1542.42 1263.45 1545.11 Q1260.39 1547.79 1254.68 1547.79 Q1248.96 1547.79 1245.88 1545.11 Q1242.83 1542.42 1242.83 1537.4 Q1242.83 1534.09 1244.72 1531.8 Q1246.62 1529.5 1250 1528.72 M1248.29 1521.33 Q1248.29 1524.02 1249.95 1525.52 Q1251.64 1527.03 1254.68 1527.03 Q1257.69 1527.03 1259.38 1525.52 Q1261.09 1524.02 1261.09 1521.33 Q1261.09 1518.65 1259.38 1517.14 Q1257.69 1515.64 1254.68 1515.64 Q1251.64 1515.64 1249.95 1517.14 Q1248.29 1518.65 1248.29 1521.33 Z\" fill=\"#000000\" fill-rule=\"evenodd\" fill-opacity=\"1\" /><path clip-path=\"url(#clip850)\" d=\"M1525.34 1543.18 L1532.98 1543.18 L1532.98 1516.82 L1524.67 1518.49 L1524.67 1514.23 L1532.94 1512.56 L1537.61 1512.56 L1537.61 1543.18 L1545.25 1543.18 L1545.25 1547.12 L1525.34 1547.12 L1525.34 1543.18 Z\" fill=\"#000000\" fill-rule=\"evenodd\" fill-opacity=\"1\" /><path clip-path=\"url(#clip850)\" d=\"M1564.69 1515.64 Q1561.08 1515.64 1559.25 1519.2 Q1557.45 1522.75 1557.45 1529.87 Q1557.45 1536.98 1559.25 1540.55 Q1561.08 1544.09 1564.69 1544.09 Q1568.33 1544.09 1570.13 1540.55 Q1571.96 1536.98 1571.96 1529.87 Q1571.96 1522.75 1570.13 1519.2 Q1568.33 1515.64 1564.69 1515.64 M1564.69 1511.93 Q1570.5 1511.93 1573.56 1516.54 Q1576.64 1521.12 1576.64 1529.87 Q1576.64 1538.6 1573.56 1543.21 Q1570.5 1547.79 1564.69 1547.79 Q1558.88 1547.79 1555.81 1543.21 Q1552.75 1538.6 1552.75 1529.87 Q1552.75 1521.12 1555.81 1516.54 Q1558.88 1511.93 1564.69 1511.93 Z\" fill=\"#000000\" fill-rule=\"evenodd\" fill-opacity=\"1\" /><path clip-path=\"url(#clip850)\" d=\"M1822.12 1543.18 L1829.76 1543.18 L1829.76 1516.82 L1821.45 1518.49 L1821.45 1514.23 L1829.71 1512.56 L1834.39 1512.56 L1834.39 1543.18 L1842.03 1543.18 L1842.03 1547.12 L1822.12 1547.12 L1822.12 1543.18 Z\" fill=\"#000000\" fill-rule=\"evenodd\" fill-opacity=\"1\" /><path clip-path=\"url(#clip850)\" d=\"M1855.5 1543.18 L1871.82 1543.18 L1871.82 1547.12 L1849.87 1547.12 L1849.87 1543.18 Q1852.54 1540.43 1857.12 1535.8 Q1861.73 1531.15 1862.91 1529.81 Q1865.15 1527.28 1866.03 1525.55 Q1866.93 1523.79 1866.93 1522.1 Q1866.93 1519.34 1864.99 1517.61 Q1863.07 1515.87 1859.97 1515.87 Q1857.77 1515.87 1855.31 1516.63 Q1852.88 1517.4 1850.11 1518.95 L1850.11 1514.23 Q1852.93 1513.09 1855.38 1512.51 Q1857.84 1511.93 1859.87 1511.93 Q1865.24 1511.93 1868.44 1514.62 Q1871.63 1517.31 1871.63 1521.8 Q1871.63 1523.93 1870.82 1525.85 Q1870.04 1527.74 1867.93 1530.34 Q1867.35 1531.01 1864.25 1534.23 Q1861.15 1537.42 1855.5 1543.18 Z\" fill=\"#000000\" fill-rule=\"evenodd\" fill-opacity=\"1\" /><path clip-path=\"url(#clip850)\" d=\"M2117.06 1543.18 L2124.69 1543.18 L2124.69 1516.82 L2116.38 1518.49 L2116.38 1514.23 L2124.65 1512.56 L2129.32 1512.56 L2129.32 1543.18 L2136.96 1543.18 L2136.96 1547.12 L2117.06 1547.12 L2117.06 1543.18 Z\" fill=\"#000000\" fill-rule=\"evenodd\" fill-opacity=\"1\" /><path clip-path=\"url(#clip850)\" d=\"M2159.25 1516.63 L2147.45 1535.08 L2159.25 1535.08 L2159.25 1516.63 M2158.03 1512.56 L2163.91 1512.56 L2163.91 1535.08 L2168.84 1535.08 L2168.84 1538.97 L2163.91 1538.97 L2163.91 1547.12 L2159.25 1547.12 L2159.25 1538.97 L2143.65 1538.97 L2143.65 1534.46 L2158.03 1512.56 Z\" fill=\"#000000\" fill-rule=\"evenodd\" fill-opacity=\"1\" /><polyline clip-path=\"url(#clip852)\" style=\"stroke:#000000; stroke-linecap:butt; stroke-linejoin:round; stroke-width:2; stroke-opacity:0.1; fill:none\" points=\"\n",
       "  156.598,1455.46 2352.76,1455.46 \n",
       "  \"/>\n",
       "<polyline clip-path=\"url(#clip852)\" style=\"stroke:#000000; stroke-linecap:butt; stroke-linejoin:round; stroke-width:2; stroke-opacity:0.1; fill:none\" points=\"\n",
       "  156.598,1172.77 2352.76,1172.77 \n",
       "  \"/>\n",
       "<polyline clip-path=\"url(#clip852)\" style=\"stroke:#000000; stroke-linecap:butt; stroke-linejoin:round; stroke-width:2; stroke-opacity:0.1; fill:none\" points=\"\n",
       "  156.598,890.08 2352.76,890.08 \n",
       "  \"/>\n",
       "<polyline clip-path=\"url(#clip852)\" style=\"stroke:#000000; stroke-linecap:butt; stroke-linejoin:round; stroke-width:2; stroke-opacity:0.1; fill:none\" points=\"\n",
       "  156.598,607.391 2352.76,607.391 \n",
       "  \"/>\n",
       "<polyline clip-path=\"url(#clip852)\" style=\"stroke:#000000; stroke-linecap:butt; stroke-linejoin:round; stroke-width:2; stroke-opacity:0.1; fill:none\" points=\"\n",
       "  156.598,324.701 2352.76,324.701 \n",
       "  \"/>\n",
       "<polyline clip-path=\"url(#clip850)\" style=\"stroke:#000000; stroke-linecap:butt; stroke-linejoin:round; stroke-width:4; stroke-opacity:1; fill:none\" points=\"\n",
       "  156.598,1486.45 156.598,47.2441 \n",
       "  \"/>\n",
       "<polyline clip-path=\"url(#clip850)\" style=\"stroke:#000000; stroke-linecap:butt; stroke-linejoin:round; stroke-width:4; stroke-opacity:1; fill:none\" points=\"\n",
       "  156.598,1455.46 182.952,1455.46 \n",
       "  \"/>\n",
       "<polyline clip-path=\"url(#clip850)\" style=\"stroke:#000000; stroke-linecap:butt; stroke-linejoin:round; stroke-width:4; stroke-opacity:1; fill:none\" points=\"\n",
       "  156.598,1172.77 182.952,1172.77 \n",
       "  \"/>\n",
       "<polyline clip-path=\"url(#clip850)\" style=\"stroke:#000000; stroke-linecap:butt; stroke-linejoin:round; stroke-width:4; stroke-opacity:1; fill:none\" points=\"\n",
       "  156.598,890.08 182.952,890.08 \n",
       "  \"/>\n",
       "<polyline clip-path=\"url(#clip850)\" style=\"stroke:#000000; stroke-linecap:butt; stroke-linejoin:round; stroke-width:4; stroke-opacity:1; fill:none\" points=\"\n",
       "  156.598,607.391 182.952,607.391 \n",
       "  \"/>\n",
       "<polyline clip-path=\"url(#clip850)\" style=\"stroke:#000000; stroke-linecap:butt; stroke-linejoin:round; stroke-width:4; stroke-opacity:1; fill:none\" points=\"\n",
       "  156.598,324.701 182.952,324.701 \n",
       "  \"/>\n",
       "<path clip-path=\"url(#clip850)\" d=\"M63.4226 1441.26 Q59.8115 1441.26 57.9828 1444.82 Q56.1773 1448.36 56.1773 1455.49 Q56.1773 1462.6 57.9828 1466.16 Q59.8115 1469.71 63.4226 1469.71 Q67.0569 1469.71 68.8624 1466.16 Q70.6911 1462.6 70.6911 1455.49 Q70.6911 1448.36 68.8624 1444.82 Q67.0569 1441.26 63.4226 1441.26 M63.4226 1437.55 Q69.2328 1437.55 72.2883 1442.16 Q75.367 1446.74 75.367 1455.49 Q75.367 1464.22 72.2883 1468.83 Q69.2328 1473.41 63.4226 1473.41 Q57.6125 1473.41 54.5338 1468.83 Q51.4782 1464.22 51.4782 1455.49 Q51.4782 1446.74 54.5338 1442.16 Q57.6125 1437.55 63.4226 1437.55 Z\" fill=\"#000000\" fill-rule=\"evenodd\" fill-opacity=\"1\" /><path clip-path=\"url(#clip850)\" d=\"M83.5845 1466.86 L88.4688 1466.86 L88.4688 1472.74 L83.5845 1472.74 L83.5845 1466.86 Z\" fill=\"#000000\" fill-rule=\"evenodd\" fill-opacity=\"1\" /><path clip-path=\"url(#clip850)\" d=\"M108.654 1441.26 Q105.043 1441.26 103.214 1444.82 Q101.409 1448.36 101.409 1455.49 Q101.409 1462.6 103.214 1466.16 Q105.043 1469.71 108.654 1469.71 Q112.288 1469.71 114.094 1466.16 Q115.922 1462.6 115.922 1455.49 Q115.922 1448.36 114.094 1444.82 Q112.288 1441.26 108.654 1441.26 M108.654 1437.55 Q114.464 1437.55 117.52 1442.16 Q120.598 1446.74 120.598 1455.49 Q120.598 1464.22 117.52 1468.83 Q114.464 1473.41 108.654 1473.41 Q102.844 1473.41 99.765 1468.83 Q96.7095 1464.22 96.7095 1455.49 Q96.7095 1446.74 99.765 1442.16 Q102.844 1437.55 108.654 1437.55 Z\" fill=\"#000000\" fill-rule=\"evenodd\" fill-opacity=\"1\" /><path clip-path=\"url(#clip850)\" d=\"M65.0198 1158.57 Q61.4087 1158.57 59.58 1162.13 Q57.7745 1165.67 57.7745 1172.8 Q57.7745 1179.91 59.58 1183.48 Q61.4087 1187.02 65.0198 1187.02 Q68.6541 1187.02 70.4596 1183.48 Q72.2883 1179.91 72.2883 1172.8 Q72.2883 1165.67 70.4596 1162.13 Q68.6541 1158.57 65.0198 1158.57 M65.0198 1154.86 Q70.83 1154.86 73.8855 1159.47 Q76.9642 1164.05 76.9642 1172.8 Q76.9642 1181.53 73.8855 1186.14 Q70.83 1190.72 65.0198 1190.72 Q59.2097 1190.72 56.131 1186.14 Q53.0754 1181.53 53.0754 1172.8 Q53.0754 1164.05 56.131 1159.47 Q59.2097 1154.86 65.0198 1154.86 Z\" fill=\"#000000\" fill-rule=\"evenodd\" fill-opacity=\"1\" /><path clip-path=\"url(#clip850)\" d=\"M85.1818 1184.17 L90.066 1184.17 L90.066 1190.05 L85.1818 1190.05 L85.1818 1184.17 Z\" fill=\"#000000\" fill-rule=\"evenodd\" fill-opacity=\"1\" /><path clip-path=\"url(#clip850)\" d=\"M104.279 1186.11 L120.598 1186.11 L120.598 1190.05 L98.6539 1190.05 L98.6539 1186.11 Q101.316 1183.36 105.899 1178.73 Q110.506 1174.08 111.686 1172.73 Q113.932 1170.21 114.811 1168.48 Q115.714 1166.72 115.714 1165.03 Q115.714 1162.27 113.77 1160.54 Q111.848 1158.8 108.746 1158.8 Q106.547 1158.8 104.094 1159.56 Q101.663 1160.33 98.8854 1161.88 L98.8854 1157.16 Q101.709 1156.02 104.163 1155.44 Q106.617 1154.86 108.654 1154.86 Q114.024 1154.86 117.219 1157.55 Q120.413 1160.23 120.413 1164.73 Q120.413 1166.86 119.603 1168.78 Q118.816 1170.67 116.709 1173.27 Q116.131 1173.94 113.029 1177.16 Q109.927 1180.35 104.279 1186.11 Z\" fill=\"#000000\" fill-rule=\"evenodd\" fill-opacity=\"1\" /><path clip-path=\"url(#clip850)\" d=\"M62.9365 875.879 Q59.3254 875.879 57.4967 879.444 Q55.6912 882.985 55.6912 890.115 Q55.6912 897.221 57.4967 900.786 Q59.3254 904.328 62.9365 904.328 Q66.5707 904.328 68.3763 900.786 Q70.205 897.221 70.205 890.115 Q70.205 882.985 68.3763 879.444 Q66.5707 875.879 62.9365 875.879 M62.9365 872.175 Q68.7467 872.175 71.8022 876.781 Q74.8809 881.365 74.8809 890.115 Q74.8809 898.842 71.8022 903.448 Q68.7467 908.031 62.9365 908.031 Q57.1264 908.031 54.0477 903.448 Q50.9921 898.842 50.9921 890.115 Q50.9921 881.365 54.0477 876.781 Q57.1264 872.175 62.9365 872.175 Z\" fill=\"#000000\" fill-rule=\"evenodd\" fill-opacity=\"1\" /><path clip-path=\"url(#clip850)\" d=\"M83.0984 901.48 L87.9827 901.48 L87.9827 907.36 L83.0984 907.36 L83.0984 901.48 Z\" fill=\"#000000\" fill-rule=\"evenodd\" fill-opacity=\"1\" /><path clip-path=\"url(#clip850)\" d=\"M111.015 876.874 L99.2095 895.323 L111.015 895.323 L111.015 876.874 M109.788 872.8 L115.668 872.8 L115.668 895.323 L120.598 895.323 L120.598 899.212 L115.668 899.212 L115.668 907.36 L111.015 907.36 L111.015 899.212 L95.4132 899.212 L95.4132 894.698 L109.788 872.8 Z\" fill=\"#000000\" fill-rule=\"evenodd\" fill-opacity=\"1\" /><path clip-path=\"url(#clip850)\" d=\"M63.2606 593.189 Q59.6495 593.189 57.8208 596.754 Q56.0152 600.296 56.0152 607.425 Q56.0152 614.532 57.8208 618.097 Q59.6495 621.638 63.2606 621.638 Q66.8948 621.638 68.7004 618.097 Q70.5291 614.532 70.5291 607.425 Q70.5291 600.296 68.7004 596.754 Q66.8948 593.189 63.2606 593.189 M63.2606 589.486 Q69.0707 589.486 72.1263 594.092 Q75.205 598.675 75.205 607.425 Q75.205 616.152 72.1263 620.759 Q69.0707 625.342 63.2606 625.342 Q57.4504 625.342 54.3717 620.759 Q51.3162 616.152 51.3162 607.425 Q51.3162 598.675 54.3717 594.092 Q57.4504 589.486 63.2606 589.486 Z\" fill=\"#000000\" fill-rule=\"evenodd\" fill-opacity=\"1\" /><path clip-path=\"url(#clip850)\" d=\"M83.4225 618.791 L88.3067 618.791 L88.3067 624.671 L83.4225 624.671 L83.4225 618.791 Z\" fill=\"#000000\" fill-rule=\"evenodd\" fill-opacity=\"1\" /><path clip-path=\"url(#clip850)\" d=\"M109.071 605.527 Q105.922 605.527 104.071 607.68 Q102.242 609.833 102.242 613.583 Q102.242 617.31 104.071 619.486 Q105.922 621.638 109.071 621.638 Q112.219 621.638 114.047 619.486 Q115.899 617.31 115.899 613.583 Q115.899 609.833 114.047 607.68 Q112.219 605.527 109.071 605.527 M118.353 590.875 L118.353 595.134 Q116.594 594.3 114.788 593.861 Q113.006 593.421 111.246 593.421 Q106.617 593.421 104.163 596.546 Q101.733 599.671 101.385 605.99 Q102.751 603.976 104.811 602.912 Q106.871 601.824 109.348 601.824 Q114.557 601.824 117.566 604.995 Q120.598 608.143 120.598 613.583 Q120.598 618.907 117.45 622.124 Q114.302 625.342 109.071 625.342 Q103.075 625.342 99.9039 620.759 Q96.7326 616.152 96.7326 607.425 Q96.7326 599.231 100.621 594.37 Q104.51 589.486 111.061 589.486 Q112.82 589.486 114.603 589.833 Q116.408 590.18 118.353 590.875 Z\" fill=\"#000000\" fill-rule=\"evenodd\" fill-opacity=\"1\" /><path clip-path=\"url(#clip850)\" d=\"M63.5152 310.5 Q59.9041 310.5 58.0754 314.065 Q56.2699 317.606 56.2699 324.736 Q56.2699 331.843 58.0754 335.407 Q59.9041 338.949 63.5152 338.949 Q67.1494 338.949 68.955 335.407 Q70.7837 331.843 70.7837 324.736 Q70.7837 317.606 68.955 314.065 Q67.1494 310.5 63.5152 310.5 M63.5152 306.796 Q69.3254 306.796 72.3809 311.403 Q75.4596 315.986 75.4596 324.736 Q75.4596 333.463 72.3809 338.069 Q69.3254 342.653 63.5152 342.653 Q57.7051 342.653 54.6264 338.069 Q51.5708 333.463 51.5708 324.736 Q51.5708 315.986 54.6264 311.403 Q57.7051 306.796 63.5152 306.796 Z\" fill=\"#000000\" fill-rule=\"evenodd\" fill-opacity=\"1\" /><path clip-path=\"url(#clip850)\" d=\"M83.6771 336.102 L88.5614 336.102 L88.5614 341.981 L83.6771 341.981 L83.6771 336.102 Z\" fill=\"#000000\" fill-rule=\"evenodd\" fill-opacity=\"1\" /><path clip-path=\"url(#clip850)\" d=\"M108.746 325.569 Q105.413 325.569 103.492 327.352 Q101.594 329.134 101.594 332.259 Q101.594 335.384 103.492 337.167 Q105.413 338.949 108.746 338.949 Q112.08 338.949 114.001 337.167 Q115.922 335.361 115.922 332.259 Q115.922 329.134 114.001 327.352 Q112.103 325.569 108.746 325.569 M104.071 323.579 Q101.061 322.838 99.3715 320.778 Q97.7048 318.718 97.7048 315.755 Q97.7048 311.611 100.645 309.204 Q103.608 306.796 108.746 306.796 Q113.908 306.796 116.848 309.204 Q119.788 311.611 119.788 315.755 Q119.788 318.718 118.098 320.778 Q116.432 322.838 113.445 323.579 Q116.825 324.366 118.7 326.657 Q120.598 328.949 120.598 332.259 Q120.598 337.282 117.52 339.967 Q114.464 342.653 108.746 342.653 Q103.029 342.653 99.9502 339.967 Q96.8947 337.282 96.8947 332.259 Q96.8947 328.949 98.7928 326.657 Q100.691 324.366 104.071 323.579 M102.358 316.194 Q102.358 318.88 104.024 320.384 Q105.714 321.889 108.746 321.889 Q111.756 321.889 113.445 320.384 Q115.158 318.88 115.158 316.194 Q115.158 313.509 113.445 312.005 Q111.756 310.5 108.746 310.5 Q105.714 310.5 104.024 312.005 Q102.358 313.509 102.358 316.194 Z\" fill=\"#000000\" fill-rule=\"evenodd\" fill-opacity=\"1\" /><polyline clip-path=\"url(#clip852)\" style=\"stroke:#009af9; stroke-linecap:butt; stroke-linejoin:round; stroke-width:4; stroke-opacity:1; fill:none\" points=\"\n",
       "  218.754,850.401 366.743,1033.98 514.732,1124.16 662.721,1290.88 810.71,1076.44 958.699,571.876 1106.69,639.74 1254.68,1399.55 1402.67,269.533 1550.66,936.141 \n",
       "  1698.64,565.666 1846.63,1001.73 1994.62,493.175 2142.61,834.14 2290.6,142.375 \n",
       "  \"/>\n",
       "<polyline clip-path=\"url(#clip852)\" style=\"stroke:#e26f46; stroke-linecap:butt; stroke-linejoin:round; stroke-width:4; stroke-opacity:1; fill:none\" points=\"\n",
       "  218.754,1445.72 366.743,212.446 514.732,1339.98 662.721,131.631 810.71,641.816 958.699,862.514 1106.69,358.626 1254.68,316.656 1402.67,548.648 1550.66,1031.49 \n",
       "  1698.64,637.852 1846.63,1298.74 1994.62,87.9763 2142.61,555.995 2290.6,531.611 \n",
       "  \"/>\n",
       "<path clip-path=\"url(#clip850)\" d=\"\n",
       "M1983.1 276.658 L2279.55 276.658 L2279.55 95.2176 L1983.1 95.2176  Z\n",
       "  \" fill=\"#ffffff\" fill-rule=\"evenodd\" fill-opacity=\"1\"/>\n",
       "<polyline clip-path=\"url(#clip850)\" style=\"stroke:#000000; stroke-linecap:butt; stroke-linejoin:round; stroke-width:4; stroke-opacity:1; fill:none\" points=\"\n",
       "  1983.1,276.658 2279.55,276.658 2279.55,95.2176 1983.1,95.2176 1983.1,276.658 \n",
       "  \"/>\n",
       "<polyline clip-path=\"url(#clip850)\" style=\"stroke:#009af9; stroke-linecap:butt; stroke-linejoin:round; stroke-width:4; stroke-opacity:1; fill:none\" points=\"\n",
       "  2007.5,155.698 2153.92,155.698 \n",
       "  \"/>\n",
       "<path clip-path=\"url(#clip850)\" d=\"M2192.16 175.385 Q2190.35 180.015 2188.64 181.427 Q2186.93 182.839 2184.06 182.839 L2180.65 182.839 L2180.65 179.274 L2183.15 179.274 Q2184.91 179.274 2185.89 178.44 Q2186.86 177.607 2188.04 174.505 L2188.8 172.561 L2178.32 147.052 L2182.83 147.052 L2190.93 167.329 L2199.03 147.052 L2203.55 147.052 L2192.16 175.385 Z\" fill=\"#000000\" fill-rule=\"evenodd\" fill-opacity=\"1\" /><path clip-path=\"url(#clip850)\" d=\"M2210.84 169.042 L2218.48 169.042 L2218.48 142.677 L2210.17 144.343 L2210.17 140.084 L2218.43 138.418 L2223.11 138.418 L2223.11 169.042 L2230.75 169.042 L2230.75 172.978 L2210.84 172.978 L2210.84 169.042 Z\" fill=\"#000000\" fill-rule=\"evenodd\" fill-opacity=\"1\" /><polyline clip-path=\"url(#clip850)\" style=\"stroke:#e26f46; stroke-linecap:butt; stroke-linejoin:round; stroke-width:4; stroke-opacity:1; fill:none\" points=\"\n",
       "  2007.5,216.178 2153.92,216.178 \n",
       "  \"/>\n",
       "<path clip-path=\"url(#clip850)\" d=\"M2192.16 235.865 Q2190.35 240.495 2188.64 241.907 Q2186.93 243.319 2184.06 243.319 L2180.65 243.319 L2180.65 239.754 L2183.15 239.754 Q2184.91 239.754 2185.89 238.92 Q2186.86 238.087 2188.04 234.985 L2188.8 233.041 L2178.32 207.532 L2182.83 207.532 L2190.93 227.809 L2199.03 207.532 L2203.55 207.532 L2192.16 235.865 Z\" fill=\"#000000\" fill-rule=\"evenodd\" fill-opacity=\"1\" /><path clip-path=\"url(#clip850)\" d=\"M2214.06 229.522 L2230.38 229.522 L2230.38 233.458 L2208.43 233.458 L2208.43 229.522 Q2211.09 226.768 2215.68 222.138 Q2220.28 217.485 2221.46 216.143 Q2223.71 213.62 2224.59 211.884 Q2225.49 210.124 2225.49 208.435 Q2225.49 205.68 2223.55 203.944 Q2221.63 202.208 2218.52 202.208 Q2216.33 202.208 2213.87 202.972 Q2211.44 203.735 2208.66 205.286 L2208.66 200.564 Q2211.49 199.43 2213.94 198.851 Q2216.4 198.273 2218.43 198.273 Q2223.8 198.273 2227 200.958 Q2230.19 203.643 2230.19 208.134 Q2230.19 210.263 2229.38 212.185 Q2228.59 214.083 2226.49 216.675 Q2225.91 217.347 2222.81 220.564 Q2219.71 223.759 2214.06 229.522 Z\" fill=\"#000000\" fill-rule=\"evenodd\" fill-opacity=\"1\" /></svg>\n"
      ]
     },
     "execution_count": 58,
     "metadata": {},
     "output_type": "execute_result"
    }
   ],
   "source": [
    "plot!(x,z)"
   ]
  },
  {
   "cell_type": "code",
   "execution_count": 59,
   "metadata": {},
   "outputs": [
    {
     "data": {
      "image/svg+xml": [
       "<?xml version=\"1.0\" encoding=\"utf-8\"?>\n",
       "<svg xmlns=\"http://www.w3.org/2000/svg\" xmlns:xlink=\"http://www.w3.org/1999/xlink\" width=\"600\" height=\"400\" viewBox=\"0 0 2400 1600\">\n",
       "<defs>\n",
       "  <clipPath id=\"clip890\">\n",
       "    <rect x=\"0\" y=\"0\" width=\"2400\" height=\"1600\"/>\n",
       "  </clipPath>\n",
       "</defs>\n",
       "<path clip-path=\"url(#clip890)\" d=\"\n",
       "M0 1600 L2400 1600 L2400 0 L0 0  Z\n",
       "  \" fill=\"#ffffff\" fill-rule=\"evenodd\" fill-opacity=\"1\"/>\n",
       "<defs>\n",
       "  <clipPath id=\"clip891\">\n",
       "    <rect x=\"480\" y=\"0\" width=\"1681\" height=\"1600\"/>\n",
       "  </clipPath>\n",
       "</defs>\n",
       "<path clip-path=\"url(#clip890)\" d=\"\n",
       "M156.598 1486.45 L2352.76 1486.45 L2352.76 47.2441 L156.598 47.2441  Z\n",
       "  \" fill=\"#ffffff\" fill-rule=\"evenodd\" fill-opacity=\"1\"/>\n",
       "<defs>\n",
       "  <clipPath id=\"clip892\">\n",
       "    <rect x=\"156\" y=\"47\" width=\"2197\" height=\"1440\"/>\n",
       "  </clipPath>\n",
       "</defs>\n",
       "<polyline clip-path=\"url(#clip892)\" style=\"stroke:#000000; stroke-linecap:butt; stroke-linejoin:round; stroke-width:2; stroke-opacity:0.1; fill:none\" points=\"\n",
       "  366.743,1486.45 366.743,47.2441 \n",
       "  \"/>\n",
       "<polyline clip-path=\"url(#clip892)\" style=\"stroke:#000000; stroke-linecap:butt; stroke-linejoin:round; stroke-width:2; stroke-opacity:0.1; fill:none\" points=\"\n",
       "  662.721,1486.45 662.721,47.2441 \n",
       "  \"/>\n",
       "<polyline clip-path=\"url(#clip892)\" style=\"stroke:#000000; stroke-linecap:butt; stroke-linejoin:round; stroke-width:2; stroke-opacity:0.1; fill:none\" points=\"\n",
       "  958.699,1486.45 958.699,47.2441 \n",
       "  \"/>\n",
       "<polyline clip-path=\"url(#clip892)\" style=\"stroke:#000000; stroke-linecap:butt; stroke-linejoin:round; stroke-width:2; stroke-opacity:0.1; fill:none\" points=\"\n",
       "  1254.68,1486.45 1254.68,47.2441 \n",
       "  \"/>\n",
       "<polyline clip-path=\"url(#clip892)\" style=\"stroke:#000000; stroke-linecap:butt; stroke-linejoin:round; stroke-width:2; stroke-opacity:0.1; fill:none\" points=\"\n",
       "  1550.66,1486.45 1550.66,47.2441 \n",
       "  \"/>\n",
       "<polyline clip-path=\"url(#clip892)\" style=\"stroke:#000000; stroke-linecap:butt; stroke-linejoin:round; stroke-width:2; stroke-opacity:0.1; fill:none\" points=\"\n",
       "  1846.63,1486.45 1846.63,47.2441 \n",
       "  \"/>\n",
       "<polyline clip-path=\"url(#clip892)\" style=\"stroke:#000000; stroke-linecap:butt; stroke-linejoin:round; stroke-width:2; stroke-opacity:0.1; fill:none\" points=\"\n",
       "  2142.61,1486.45 2142.61,47.2441 \n",
       "  \"/>\n",
       "<polyline clip-path=\"url(#clip890)\" style=\"stroke:#000000; stroke-linecap:butt; stroke-linejoin:round; stroke-width:4; stroke-opacity:1; fill:none\" points=\"\n",
       "  156.598,1486.45 2352.76,1486.45 \n",
       "  \"/>\n",
       "<polyline clip-path=\"url(#clip890)\" style=\"stroke:#000000; stroke-linecap:butt; stroke-linejoin:round; stroke-width:4; stroke-opacity:1; fill:none\" points=\"\n",
       "  366.743,1486.45 366.743,1469.18 \n",
       "  \"/>\n",
       "<polyline clip-path=\"url(#clip890)\" style=\"stroke:#000000; stroke-linecap:butt; stroke-linejoin:round; stroke-width:4; stroke-opacity:1; fill:none\" points=\"\n",
       "  662.721,1486.45 662.721,1469.18 \n",
       "  \"/>\n",
       "<polyline clip-path=\"url(#clip890)\" style=\"stroke:#000000; stroke-linecap:butt; stroke-linejoin:round; stroke-width:4; stroke-opacity:1; fill:none\" points=\"\n",
       "  958.699,1486.45 958.699,1469.18 \n",
       "  \"/>\n",
       "<polyline clip-path=\"url(#clip890)\" style=\"stroke:#000000; stroke-linecap:butt; stroke-linejoin:round; stroke-width:4; stroke-opacity:1; fill:none\" points=\"\n",
       "  1254.68,1486.45 1254.68,1469.18 \n",
       "  \"/>\n",
       "<polyline clip-path=\"url(#clip890)\" style=\"stroke:#000000; stroke-linecap:butt; stroke-linejoin:round; stroke-width:4; stroke-opacity:1; fill:none\" points=\"\n",
       "  1550.66,1486.45 1550.66,1469.18 \n",
       "  \"/>\n",
       "<polyline clip-path=\"url(#clip890)\" style=\"stroke:#000000; stroke-linecap:butt; stroke-linejoin:round; stroke-width:4; stroke-opacity:1; fill:none\" points=\"\n",
       "  1846.63,1486.45 1846.63,1469.18 \n",
       "  \"/>\n",
       "<polyline clip-path=\"url(#clip890)\" style=\"stroke:#000000; stroke-linecap:butt; stroke-linejoin:round; stroke-width:4; stroke-opacity:1; fill:none\" points=\"\n",
       "  2142.61,1486.45 2142.61,1469.18 \n",
       "  \"/>\n",
       "<path clip-path=\"url(#clip890)\" d=\"M361.396 1543.18 L377.715 1543.18 L377.715 1547.12 L355.771 1547.12 L355.771 1543.18 Q358.433 1540.43 363.016 1535.8 Q367.622 1531.15 368.803 1529.81 Q371.048 1527.28 371.928 1525.55 Q372.831 1523.79 372.831 1522.1 Q372.831 1519.34 370.886 1517.61 Q368.965 1515.87 365.863 1515.87 Q363.664 1515.87 361.21 1516.63 Q358.78 1517.4 356.002 1518.95 L356.002 1514.23 Q358.826 1513.09 361.28 1512.51 Q363.733 1511.93 365.77 1511.93 Q371.141 1511.93 374.335 1514.62 Q377.53 1517.31 377.53 1521.8 Q377.53 1523.93 376.72 1525.85 Q375.932 1527.74 373.826 1530.34 Q373.247 1531.01 370.145 1534.23 Q367.044 1537.42 361.396 1543.18 Z\" fill=\"#000000\" fill-rule=\"evenodd\" fill-opacity=\"1\" /><path clip-path=\"url(#clip890)\" d=\"M665.73 1516.63 L653.925 1535.08 L665.73 1535.08 L665.73 1516.63 M664.503 1512.56 L670.383 1512.56 L670.383 1535.08 L675.313 1535.08 L675.313 1538.97 L670.383 1538.97 L670.383 1547.12 L665.73 1547.12 L665.73 1538.97 L650.128 1538.97 L650.128 1534.46 L664.503 1512.56 Z\" fill=\"#000000\" fill-rule=\"evenodd\" fill-opacity=\"1\" /><path clip-path=\"url(#clip890)\" d=\"M959.104 1527.98 Q955.956 1527.98 954.104 1530.13 Q952.275 1532.28 952.275 1536.03 Q952.275 1539.76 954.104 1541.93 Q955.956 1544.09 959.104 1544.09 Q962.252 1544.09 964.081 1541.93 Q965.933 1539.76 965.933 1536.03 Q965.933 1532.28 964.081 1530.13 Q962.252 1527.98 959.104 1527.98 M968.386 1513.32 L968.386 1517.58 Q966.627 1516.75 964.822 1516.31 Q963.039 1515.87 961.28 1515.87 Q956.65 1515.87 954.197 1519 Q951.766 1522.12 951.419 1528.44 Q952.785 1526.43 954.845 1525.36 Q956.905 1524.27 959.382 1524.27 Q964.59 1524.27 967.599 1527.44 Q970.632 1530.59 970.632 1536.03 Q970.632 1541.36 967.484 1544.57 Q964.335 1547.79 959.104 1547.79 Q953.109 1547.79 949.937 1543.21 Q946.766 1538.6 946.766 1529.87 Q946.766 1521.68 950.655 1516.82 Q954.544 1511.93 961.095 1511.93 Q962.854 1511.93 964.636 1512.28 Q966.442 1512.63 968.386 1513.32 Z\" fill=\"#000000\" fill-rule=\"evenodd\" fill-opacity=\"1\" /><path clip-path=\"url(#clip890)\" d=\"M1254.68 1530.71 Q1251.34 1530.71 1249.42 1532.49 Q1247.52 1534.27 1247.52 1537.4 Q1247.52 1540.52 1249.42 1542.31 Q1251.34 1544.09 1254.68 1544.09 Q1258.01 1544.09 1259.93 1542.31 Q1261.85 1540.5 1261.85 1537.4 Q1261.85 1534.27 1259.93 1532.49 Q1258.03 1530.71 1254.68 1530.71 M1250 1528.72 Q1246.99 1527.98 1245.3 1525.92 Q1243.64 1523.86 1243.64 1520.89 Q1243.64 1516.75 1246.58 1514.34 Q1249.54 1511.93 1254.68 1511.93 Q1259.84 1511.93 1262.78 1514.34 Q1265.72 1516.75 1265.72 1520.89 Q1265.72 1523.86 1264.03 1525.92 Q1262.36 1527.98 1259.38 1528.72 Q1262.76 1529.5 1264.63 1531.8 Q1266.53 1534.09 1266.53 1537.4 Q1266.53 1542.42 1263.45 1545.11 Q1260.39 1547.79 1254.68 1547.79 Q1248.96 1547.79 1245.88 1545.11 Q1242.83 1542.42 1242.83 1537.4 Q1242.83 1534.09 1244.72 1531.8 Q1246.62 1529.5 1250 1528.72 M1248.29 1521.33 Q1248.29 1524.02 1249.95 1525.52 Q1251.64 1527.03 1254.68 1527.03 Q1257.69 1527.03 1259.38 1525.52 Q1261.09 1524.02 1261.09 1521.33 Q1261.09 1518.65 1259.38 1517.14 Q1257.69 1515.64 1254.68 1515.64 Q1251.64 1515.64 1249.95 1517.14 Q1248.29 1518.65 1248.29 1521.33 Z\" fill=\"#000000\" fill-rule=\"evenodd\" fill-opacity=\"1\" /><path clip-path=\"url(#clip890)\" d=\"M1525.34 1543.18 L1532.98 1543.18 L1532.98 1516.82 L1524.67 1518.49 L1524.67 1514.23 L1532.94 1512.56 L1537.61 1512.56 L1537.61 1543.18 L1545.25 1543.18 L1545.25 1547.12 L1525.34 1547.12 L1525.34 1543.18 Z\" fill=\"#000000\" fill-rule=\"evenodd\" fill-opacity=\"1\" /><path clip-path=\"url(#clip890)\" d=\"M1564.69 1515.64 Q1561.08 1515.64 1559.25 1519.2 Q1557.45 1522.75 1557.45 1529.87 Q1557.45 1536.98 1559.25 1540.55 Q1561.08 1544.09 1564.69 1544.09 Q1568.33 1544.09 1570.13 1540.55 Q1571.96 1536.98 1571.96 1529.87 Q1571.96 1522.75 1570.13 1519.2 Q1568.33 1515.64 1564.69 1515.64 M1564.69 1511.93 Q1570.5 1511.93 1573.56 1516.54 Q1576.64 1521.12 1576.64 1529.87 Q1576.64 1538.6 1573.56 1543.21 Q1570.5 1547.79 1564.69 1547.79 Q1558.88 1547.79 1555.81 1543.21 Q1552.75 1538.6 1552.75 1529.87 Q1552.75 1521.12 1555.81 1516.54 Q1558.88 1511.93 1564.69 1511.93 Z\" fill=\"#000000\" fill-rule=\"evenodd\" fill-opacity=\"1\" /><path clip-path=\"url(#clip890)\" d=\"M1822.12 1543.18 L1829.76 1543.18 L1829.76 1516.82 L1821.45 1518.49 L1821.45 1514.23 L1829.71 1512.56 L1834.39 1512.56 L1834.39 1543.18 L1842.03 1543.18 L1842.03 1547.12 L1822.12 1547.12 L1822.12 1543.18 Z\" fill=\"#000000\" fill-rule=\"evenodd\" fill-opacity=\"1\" /><path clip-path=\"url(#clip890)\" d=\"M1855.5 1543.18 L1871.82 1543.18 L1871.82 1547.12 L1849.87 1547.12 L1849.87 1543.18 Q1852.54 1540.43 1857.12 1535.8 Q1861.73 1531.15 1862.91 1529.81 Q1865.15 1527.28 1866.03 1525.55 Q1866.93 1523.79 1866.93 1522.1 Q1866.93 1519.34 1864.99 1517.61 Q1863.07 1515.87 1859.97 1515.87 Q1857.77 1515.87 1855.31 1516.63 Q1852.88 1517.4 1850.11 1518.95 L1850.11 1514.23 Q1852.93 1513.09 1855.38 1512.51 Q1857.84 1511.93 1859.87 1511.93 Q1865.24 1511.93 1868.44 1514.62 Q1871.63 1517.31 1871.63 1521.8 Q1871.63 1523.93 1870.82 1525.85 Q1870.04 1527.74 1867.93 1530.34 Q1867.35 1531.01 1864.25 1534.23 Q1861.15 1537.42 1855.5 1543.18 Z\" fill=\"#000000\" fill-rule=\"evenodd\" fill-opacity=\"1\" /><path clip-path=\"url(#clip890)\" d=\"M2117.06 1543.18 L2124.69 1543.18 L2124.69 1516.82 L2116.38 1518.49 L2116.38 1514.23 L2124.65 1512.56 L2129.32 1512.56 L2129.32 1543.18 L2136.96 1543.18 L2136.96 1547.12 L2117.06 1547.12 L2117.06 1543.18 Z\" fill=\"#000000\" fill-rule=\"evenodd\" fill-opacity=\"1\" /><path clip-path=\"url(#clip890)\" d=\"M2159.25 1516.63 L2147.45 1535.08 L2159.25 1535.08 L2159.25 1516.63 M2158.03 1512.56 L2163.91 1512.56 L2163.91 1535.08 L2168.84 1535.08 L2168.84 1538.97 L2163.91 1538.97 L2163.91 1547.12 L2159.25 1547.12 L2159.25 1538.97 L2143.65 1538.97 L2143.65 1534.46 L2158.03 1512.56 Z\" fill=\"#000000\" fill-rule=\"evenodd\" fill-opacity=\"1\" /><polyline clip-path=\"url(#clip892)\" style=\"stroke:#000000; stroke-linecap:butt; stroke-linejoin:round; stroke-width:2; stroke-opacity:0.1; fill:none\" points=\"\n",
       "  156.598,1455.46 2352.76,1455.46 \n",
       "  \"/>\n",
       "<polyline clip-path=\"url(#clip892)\" style=\"stroke:#000000; stroke-linecap:butt; stroke-linejoin:round; stroke-width:2; stroke-opacity:0.1; fill:none\" points=\"\n",
       "  156.598,1172.77 2352.76,1172.77 \n",
       "  \"/>\n",
       "<polyline clip-path=\"url(#clip892)\" style=\"stroke:#000000; stroke-linecap:butt; stroke-linejoin:round; stroke-width:2; stroke-opacity:0.1; fill:none\" points=\"\n",
       "  156.598,890.08 2352.76,890.08 \n",
       "  \"/>\n",
       "<polyline clip-path=\"url(#clip892)\" style=\"stroke:#000000; stroke-linecap:butt; stroke-linejoin:round; stroke-width:2; stroke-opacity:0.1; fill:none\" points=\"\n",
       "  156.598,607.391 2352.76,607.391 \n",
       "  \"/>\n",
       "<polyline clip-path=\"url(#clip892)\" style=\"stroke:#000000; stroke-linecap:butt; stroke-linejoin:round; stroke-width:2; stroke-opacity:0.1; fill:none\" points=\"\n",
       "  156.598,324.701 2352.76,324.701 \n",
       "  \"/>\n",
       "<polyline clip-path=\"url(#clip890)\" style=\"stroke:#000000; stroke-linecap:butt; stroke-linejoin:round; stroke-width:4; stroke-opacity:1; fill:none\" points=\"\n",
       "  156.598,1486.45 156.598,47.2441 \n",
       "  \"/>\n",
       "<polyline clip-path=\"url(#clip890)\" style=\"stroke:#000000; stroke-linecap:butt; stroke-linejoin:round; stroke-width:4; stroke-opacity:1; fill:none\" points=\"\n",
       "  156.598,1455.46 182.952,1455.46 \n",
       "  \"/>\n",
       "<polyline clip-path=\"url(#clip890)\" style=\"stroke:#000000; stroke-linecap:butt; stroke-linejoin:round; stroke-width:4; stroke-opacity:1; fill:none\" points=\"\n",
       "  156.598,1172.77 182.952,1172.77 \n",
       "  \"/>\n",
       "<polyline clip-path=\"url(#clip890)\" style=\"stroke:#000000; stroke-linecap:butt; stroke-linejoin:round; stroke-width:4; stroke-opacity:1; fill:none\" points=\"\n",
       "  156.598,890.08 182.952,890.08 \n",
       "  \"/>\n",
       "<polyline clip-path=\"url(#clip890)\" style=\"stroke:#000000; stroke-linecap:butt; stroke-linejoin:round; stroke-width:4; stroke-opacity:1; fill:none\" points=\"\n",
       "  156.598,607.391 182.952,607.391 \n",
       "  \"/>\n",
       "<polyline clip-path=\"url(#clip890)\" style=\"stroke:#000000; stroke-linecap:butt; stroke-linejoin:round; stroke-width:4; stroke-opacity:1; fill:none\" points=\"\n",
       "  156.598,324.701 182.952,324.701 \n",
       "  \"/>\n",
       "<path clip-path=\"url(#clip890)\" d=\"M63.4226 1441.26 Q59.8115 1441.26 57.9828 1444.82 Q56.1773 1448.36 56.1773 1455.49 Q56.1773 1462.6 57.9828 1466.16 Q59.8115 1469.71 63.4226 1469.71 Q67.0569 1469.71 68.8624 1466.16 Q70.6911 1462.6 70.6911 1455.49 Q70.6911 1448.36 68.8624 1444.82 Q67.0569 1441.26 63.4226 1441.26 M63.4226 1437.55 Q69.2328 1437.55 72.2883 1442.16 Q75.367 1446.74 75.367 1455.49 Q75.367 1464.22 72.2883 1468.83 Q69.2328 1473.41 63.4226 1473.41 Q57.6125 1473.41 54.5338 1468.83 Q51.4782 1464.22 51.4782 1455.49 Q51.4782 1446.74 54.5338 1442.16 Q57.6125 1437.55 63.4226 1437.55 Z\" fill=\"#000000\" fill-rule=\"evenodd\" fill-opacity=\"1\" /><path clip-path=\"url(#clip890)\" d=\"M83.5845 1466.86 L88.4688 1466.86 L88.4688 1472.74 L83.5845 1472.74 L83.5845 1466.86 Z\" fill=\"#000000\" fill-rule=\"evenodd\" fill-opacity=\"1\" /><path clip-path=\"url(#clip890)\" d=\"M108.654 1441.26 Q105.043 1441.26 103.214 1444.82 Q101.409 1448.36 101.409 1455.49 Q101.409 1462.6 103.214 1466.16 Q105.043 1469.71 108.654 1469.71 Q112.288 1469.71 114.094 1466.16 Q115.922 1462.6 115.922 1455.49 Q115.922 1448.36 114.094 1444.82 Q112.288 1441.26 108.654 1441.26 M108.654 1437.55 Q114.464 1437.55 117.52 1442.16 Q120.598 1446.74 120.598 1455.49 Q120.598 1464.22 117.52 1468.83 Q114.464 1473.41 108.654 1473.41 Q102.844 1473.41 99.765 1468.83 Q96.7095 1464.22 96.7095 1455.49 Q96.7095 1446.74 99.765 1442.16 Q102.844 1437.55 108.654 1437.55 Z\" fill=\"#000000\" fill-rule=\"evenodd\" fill-opacity=\"1\" /><path clip-path=\"url(#clip890)\" d=\"M65.0198 1158.57 Q61.4087 1158.57 59.58 1162.13 Q57.7745 1165.67 57.7745 1172.8 Q57.7745 1179.91 59.58 1183.48 Q61.4087 1187.02 65.0198 1187.02 Q68.6541 1187.02 70.4596 1183.48 Q72.2883 1179.91 72.2883 1172.8 Q72.2883 1165.67 70.4596 1162.13 Q68.6541 1158.57 65.0198 1158.57 M65.0198 1154.86 Q70.83 1154.86 73.8855 1159.47 Q76.9642 1164.05 76.9642 1172.8 Q76.9642 1181.53 73.8855 1186.14 Q70.83 1190.72 65.0198 1190.72 Q59.2097 1190.72 56.131 1186.14 Q53.0754 1181.53 53.0754 1172.8 Q53.0754 1164.05 56.131 1159.47 Q59.2097 1154.86 65.0198 1154.86 Z\" fill=\"#000000\" fill-rule=\"evenodd\" fill-opacity=\"1\" /><path clip-path=\"url(#clip890)\" d=\"M85.1818 1184.17 L90.066 1184.17 L90.066 1190.05 L85.1818 1190.05 L85.1818 1184.17 Z\" fill=\"#000000\" fill-rule=\"evenodd\" fill-opacity=\"1\" /><path clip-path=\"url(#clip890)\" d=\"M104.279 1186.11 L120.598 1186.11 L120.598 1190.05 L98.6539 1190.05 L98.6539 1186.11 Q101.316 1183.36 105.899 1178.73 Q110.506 1174.08 111.686 1172.73 Q113.932 1170.21 114.811 1168.48 Q115.714 1166.72 115.714 1165.03 Q115.714 1162.27 113.77 1160.54 Q111.848 1158.8 108.746 1158.8 Q106.547 1158.8 104.094 1159.56 Q101.663 1160.33 98.8854 1161.88 L98.8854 1157.16 Q101.709 1156.02 104.163 1155.44 Q106.617 1154.86 108.654 1154.86 Q114.024 1154.86 117.219 1157.55 Q120.413 1160.23 120.413 1164.73 Q120.413 1166.86 119.603 1168.78 Q118.816 1170.67 116.709 1173.27 Q116.131 1173.94 113.029 1177.16 Q109.927 1180.35 104.279 1186.11 Z\" fill=\"#000000\" fill-rule=\"evenodd\" fill-opacity=\"1\" /><path clip-path=\"url(#clip890)\" d=\"M62.9365 875.879 Q59.3254 875.879 57.4967 879.444 Q55.6912 882.985 55.6912 890.115 Q55.6912 897.221 57.4967 900.786 Q59.3254 904.328 62.9365 904.328 Q66.5707 904.328 68.3763 900.786 Q70.205 897.221 70.205 890.115 Q70.205 882.985 68.3763 879.444 Q66.5707 875.879 62.9365 875.879 M62.9365 872.175 Q68.7467 872.175 71.8022 876.781 Q74.8809 881.365 74.8809 890.115 Q74.8809 898.842 71.8022 903.448 Q68.7467 908.031 62.9365 908.031 Q57.1264 908.031 54.0477 903.448 Q50.9921 898.842 50.9921 890.115 Q50.9921 881.365 54.0477 876.781 Q57.1264 872.175 62.9365 872.175 Z\" fill=\"#000000\" fill-rule=\"evenodd\" fill-opacity=\"1\" /><path clip-path=\"url(#clip890)\" d=\"M83.0984 901.48 L87.9827 901.48 L87.9827 907.36 L83.0984 907.36 L83.0984 901.48 Z\" fill=\"#000000\" fill-rule=\"evenodd\" fill-opacity=\"1\" /><path clip-path=\"url(#clip890)\" d=\"M111.015 876.874 L99.2095 895.323 L111.015 895.323 L111.015 876.874 M109.788 872.8 L115.668 872.8 L115.668 895.323 L120.598 895.323 L120.598 899.212 L115.668 899.212 L115.668 907.36 L111.015 907.36 L111.015 899.212 L95.4132 899.212 L95.4132 894.698 L109.788 872.8 Z\" fill=\"#000000\" fill-rule=\"evenodd\" fill-opacity=\"1\" /><path clip-path=\"url(#clip890)\" d=\"M63.2606 593.189 Q59.6495 593.189 57.8208 596.754 Q56.0152 600.296 56.0152 607.425 Q56.0152 614.532 57.8208 618.097 Q59.6495 621.638 63.2606 621.638 Q66.8948 621.638 68.7004 618.097 Q70.5291 614.532 70.5291 607.425 Q70.5291 600.296 68.7004 596.754 Q66.8948 593.189 63.2606 593.189 M63.2606 589.486 Q69.0707 589.486 72.1263 594.092 Q75.205 598.675 75.205 607.425 Q75.205 616.152 72.1263 620.759 Q69.0707 625.342 63.2606 625.342 Q57.4504 625.342 54.3717 620.759 Q51.3162 616.152 51.3162 607.425 Q51.3162 598.675 54.3717 594.092 Q57.4504 589.486 63.2606 589.486 Z\" fill=\"#000000\" fill-rule=\"evenodd\" fill-opacity=\"1\" /><path clip-path=\"url(#clip890)\" d=\"M83.4225 618.791 L88.3067 618.791 L88.3067 624.671 L83.4225 624.671 L83.4225 618.791 Z\" fill=\"#000000\" fill-rule=\"evenodd\" fill-opacity=\"1\" /><path clip-path=\"url(#clip890)\" d=\"M109.071 605.527 Q105.922 605.527 104.071 607.68 Q102.242 609.833 102.242 613.583 Q102.242 617.31 104.071 619.486 Q105.922 621.638 109.071 621.638 Q112.219 621.638 114.047 619.486 Q115.899 617.31 115.899 613.583 Q115.899 609.833 114.047 607.68 Q112.219 605.527 109.071 605.527 M118.353 590.875 L118.353 595.134 Q116.594 594.3 114.788 593.861 Q113.006 593.421 111.246 593.421 Q106.617 593.421 104.163 596.546 Q101.733 599.671 101.385 605.99 Q102.751 603.976 104.811 602.912 Q106.871 601.824 109.348 601.824 Q114.557 601.824 117.566 604.995 Q120.598 608.143 120.598 613.583 Q120.598 618.907 117.45 622.124 Q114.302 625.342 109.071 625.342 Q103.075 625.342 99.9039 620.759 Q96.7326 616.152 96.7326 607.425 Q96.7326 599.231 100.621 594.37 Q104.51 589.486 111.061 589.486 Q112.82 589.486 114.603 589.833 Q116.408 590.18 118.353 590.875 Z\" fill=\"#000000\" fill-rule=\"evenodd\" fill-opacity=\"1\" /><path clip-path=\"url(#clip890)\" d=\"M63.5152 310.5 Q59.9041 310.5 58.0754 314.065 Q56.2699 317.606 56.2699 324.736 Q56.2699 331.843 58.0754 335.407 Q59.9041 338.949 63.5152 338.949 Q67.1494 338.949 68.955 335.407 Q70.7837 331.843 70.7837 324.736 Q70.7837 317.606 68.955 314.065 Q67.1494 310.5 63.5152 310.5 M63.5152 306.796 Q69.3254 306.796 72.3809 311.403 Q75.4596 315.986 75.4596 324.736 Q75.4596 333.463 72.3809 338.069 Q69.3254 342.653 63.5152 342.653 Q57.7051 342.653 54.6264 338.069 Q51.5708 333.463 51.5708 324.736 Q51.5708 315.986 54.6264 311.403 Q57.7051 306.796 63.5152 306.796 Z\" fill=\"#000000\" fill-rule=\"evenodd\" fill-opacity=\"1\" /><path clip-path=\"url(#clip890)\" d=\"M83.6771 336.102 L88.5614 336.102 L88.5614 341.981 L83.6771 341.981 L83.6771 336.102 Z\" fill=\"#000000\" fill-rule=\"evenodd\" fill-opacity=\"1\" /><path clip-path=\"url(#clip890)\" d=\"M108.746 325.569 Q105.413 325.569 103.492 327.352 Q101.594 329.134 101.594 332.259 Q101.594 335.384 103.492 337.167 Q105.413 338.949 108.746 338.949 Q112.08 338.949 114.001 337.167 Q115.922 335.361 115.922 332.259 Q115.922 329.134 114.001 327.352 Q112.103 325.569 108.746 325.569 M104.071 323.579 Q101.061 322.838 99.3715 320.778 Q97.7048 318.718 97.7048 315.755 Q97.7048 311.611 100.645 309.204 Q103.608 306.796 108.746 306.796 Q113.908 306.796 116.848 309.204 Q119.788 311.611 119.788 315.755 Q119.788 318.718 118.098 320.778 Q116.432 322.838 113.445 323.579 Q116.825 324.366 118.7 326.657 Q120.598 328.949 120.598 332.259 Q120.598 337.282 117.52 339.967 Q114.464 342.653 108.746 342.653 Q103.029 342.653 99.9502 339.967 Q96.8947 337.282 96.8947 332.259 Q96.8947 328.949 98.7928 326.657 Q100.691 324.366 104.071 323.579 M102.358 316.194 Q102.358 318.88 104.024 320.384 Q105.714 321.889 108.746 321.889 Q111.756 321.889 113.445 320.384 Q115.158 318.88 115.158 316.194 Q115.158 313.509 113.445 312.005 Q111.756 310.5 108.746 310.5 Q105.714 310.5 104.024 312.005 Q102.358 313.509 102.358 316.194 Z\" fill=\"#000000\" fill-rule=\"evenodd\" fill-opacity=\"1\" /><polyline clip-path=\"url(#clip892)\" style=\"stroke:#009af9; stroke-linecap:butt; stroke-linejoin:round; stroke-width:4; stroke-opacity:1; fill:none\" points=\"\n",
       "  218.754,850.401 366.743,1033.98 514.732,1124.16 662.721,1290.88 810.71,1076.44 958.699,571.876 1106.69,639.74 1254.68,1399.55 1402.67,269.533 1550.66,936.141 \n",
       "  1698.64,565.666 1846.63,1001.73 1994.62,493.175 2142.61,834.14 2290.6,142.375 \n",
       "  \"/>\n",
       "<polyline clip-path=\"url(#clip892)\" style=\"stroke:#e26f46; stroke-linecap:butt; stroke-linejoin:round; stroke-width:4; stroke-opacity:1; fill:none\" points=\"\n",
       "  218.754,1445.72 366.743,212.446 514.732,1339.98 662.721,131.631 810.71,641.816 958.699,862.514 1106.69,358.626 1254.68,316.656 1402.67,548.648 1550.66,1031.49 \n",
       "  1698.64,637.852 1846.63,1298.74 1994.62,87.9763 2142.61,555.995 2290.6,531.611 \n",
       "  \"/>\n",
       "<path clip-path=\"url(#clip890)\" d=\"\n",
       "M1983.1 276.658 L2279.55 276.658 L2279.55 95.2176 L1983.1 95.2176  Z\n",
       "  \" fill=\"#ffffff\" fill-rule=\"evenodd\" fill-opacity=\"1\"/>\n",
       "<polyline clip-path=\"url(#clip890)\" style=\"stroke:#000000; stroke-linecap:butt; stroke-linejoin:round; stroke-width:4; stroke-opacity:1; fill:none\" points=\"\n",
       "  1983.1,276.658 2279.55,276.658 2279.55,95.2176 1983.1,95.2176 1983.1,276.658 \n",
       "  \"/>\n",
       "<polyline clip-path=\"url(#clip890)\" style=\"stroke:#009af9; stroke-linecap:butt; stroke-linejoin:round; stroke-width:4; stroke-opacity:1; fill:none\" points=\"\n",
       "  2007.5,155.698 2153.92,155.698 \n",
       "  \"/>\n",
       "<path clip-path=\"url(#clip890)\" d=\"M2192.16 175.385 Q2190.35 180.015 2188.64 181.427 Q2186.93 182.839 2184.06 182.839 L2180.65 182.839 L2180.65 179.274 L2183.15 179.274 Q2184.91 179.274 2185.89 178.44 Q2186.86 177.607 2188.04 174.505 L2188.8 172.561 L2178.32 147.052 L2182.83 147.052 L2190.93 167.329 L2199.03 147.052 L2203.55 147.052 L2192.16 175.385 Z\" fill=\"#000000\" fill-rule=\"evenodd\" fill-opacity=\"1\" /><path clip-path=\"url(#clip890)\" d=\"M2210.84 169.042 L2218.48 169.042 L2218.48 142.677 L2210.17 144.343 L2210.17 140.084 L2218.43 138.418 L2223.11 138.418 L2223.11 169.042 L2230.75 169.042 L2230.75 172.978 L2210.84 172.978 L2210.84 169.042 Z\" fill=\"#000000\" fill-rule=\"evenodd\" fill-opacity=\"1\" /><polyline clip-path=\"url(#clip890)\" style=\"stroke:#e26f46; stroke-linecap:butt; stroke-linejoin:round; stroke-width:4; stroke-opacity:1; fill:none\" points=\"\n",
       "  2007.5,216.178 2153.92,216.178 \n",
       "  \"/>\n",
       "<path clip-path=\"url(#clip890)\" d=\"M2192.16 235.865 Q2190.35 240.495 2188.64 241.907 Q2186.93 243.319 2184.06 243.319 L2180.65 243.319 L2180.65 239.754 L2183.15 239.754 Q2184.91 239.754 2185.89 238.92 Q2186.86 238.087 2188.04 234.985 L2188.8 233.041 L2178.32 207.532 L2182.83 207.532 L2190.93 227.809 L2199.03 207.532 L2203.55 207.532 L2192.16 235.865 Z\" fill=\"#000000\" fill-rule=\"evenodd\" fill-opacity=\"1\" /><path clip-path=\"url(#clip890)\" d=\"M2214.06 229.522 L2230.38 229.522 L2230.38 233.458 L2208.43 233.458 L2208.43 229.522 Q2211.09 226.768 2215.68 222.138 Q2220.28 217.485 2221.46 216.143 Q2223.71 213.62 2224.59 211.884 Q2225.49 210.124 2225.49 208.435 Q2225.49 205.68 2223.55 203.944 Q2221.63 202.208 2218.52 202.208 Q2216.33 202.208 2213.87 202.972 Q2211.44 203.735 2208.66 205.286 L2208.66 200.564 Q2211.49 199.43 2213.94 198.851 Q2216.4 198.273 2218.43 198.273 Q2223.8 198.273 2227 200.958 Q2230.19 203.643 2230.19 208.134 Q2230.19 210.263 2229.38 212.185 Q2228.59 214.083 2226.49 216.675 Q2225.91 217.347 2222.81 220.564 Q2219.71 223.759 2214.06 229.522 Z\" fill=\"#000000\" fill-rule=\"evenodd\" fill-opacity=\"1\" /></svg>\n"
      ]
     },
     "execution_count": 59,
     "metadata": {},
     "output_type": "execute_result"
    }
   ],
   "source": [
    "p = plot(x,y)\n",
    "plot!(p,x,z)"
   ]
  },
  {
   "cell_type": "code",
   "execution_count": 60,
   "metadata": {},
   "outputs": [
    {
     "data": {
      "image/svg+xml": [
       "<?xml version=\"1.0\" encoding=\"utf-8\"?>\n",
       "<svg xmlns=\"http://www.w3.org/2000/svg\" xmlns:xlink=\"http://www.w3.org/1999/xlink\" width=\"600\" height=\"400\" viewBox=\"0 0 2400 1600\">\n",
       "<defs>\n",
       "  <clipPath id=\"clip930\">\n",
       "    <rect x=\"0\" y=\"0\" width=\"2400\" height=\"1600\"/>\n",
       "  </clipPath>\n",
       "</defs>\n",
       "<path clip-path=\"url(#clip930)\" d=\"\n",
       "M0 1600 L2400 1600 L2400 0 L0 0  Z\n",
       "  \" fill=\"#ffffff\" fill-rule=\"evenodd\" fill-opacity=\"1\"/>\n",
       "<defs>\n",
       "  <clipPath id=\"clip931\">\n",
       "    <rect x=\"480\" y=\"0\" width=\"1681\" height=\"1600\"/>\n",
       "  </clipPath>\n",
       "</defs>\n",
       "<path clip-path=\"url(#clip930)\" d=\"\n",
       "M156.598 1486.45 L2352.76 1486.45 L2352.76 123.472 L156.598 123.472  Z\n",
       "  \" fill=\"#ffffff\" fill-rule=\"evenodd\" fill-opacity=\"1\"/>\n",
       "<defs>\n",
       "  <clipPath id=\"clip932\">\n",
       "    <rect x=\"156\" y=\"123\" width=\"2197\" height=\"1364\"/>\n",
       "  </clipPath>\n",
       "</defs>\n",
       "<polyline clip-path=\"url(#clip932)\" style=\"stroke:#000000; stroke-linecap:butt; stroke-linejoin:round; stroke-width:2; stroke-opacity:0.1; fill:none\" points=\"\n",
       "  366.743,1486.45 366.743,123.472 \n",
       "  \"/>\n",
       "<polyline clip-path=\"url(#clip932)\" style=\"stroke:#000000; stroke-linecap:butt; stroke-linejoin:round; stroke-width:2; stroke-opacity:0.1; fill:none\" points=\"\n",
       "  662.721,1486.45 662.721,123.472 \n",
       "  \"/>\n",
       "<polyline clip-path=\"url(#clip932)\" style=\"stroke:#000000; stroke-linecap:butt; stroke-linejoin:round; stroke-width:2; stroke-opacity:0.1; fill:none\" points=\"\n",
       "  958.699,1486.45 958.699,123.472 \n",
       "  \"/>\n",
       "<polyline clip-path=\"url(#clip932)\" style=\"stroke:#000000; stroke-linecap:butt; stroke-linejoin:round; stroke-width:2; stroke-opacity:0.1; fill:none\" points=\"\n",
       "  1254.68,1486.45 1254.68,123.472 \n",
       "  \"/>\n",
       "<polyline clip-path=\"url(#clip932)\" style=\"stroke:#000000; stroke-linecap:butt; stroke-linejoin:round; stroke-width:2; stroke-opacity:0.1; fill:none\" points=\"\n",
       "  1550.66,1486.45 1550.66,123.472 \n",
       "  \"/>\n",
       "<polyline clip-path=\"url(#clip932)\" style=\"stroke:#000000; stroke-linecap:butt; stroke-linejoin:round; stroke-width:2; stroke-opacity:0.1; fill:none\" points=\"\n",
       "  1846.63,1486.45 1846.63,123.472 \n",
       "  \"/>\n",
       "<polyline clip-path=\"url(#clip932)\" style=\"stroke:#000000; stroke-linecap:butt; stroke-linejoin:round; stroke-width:2; stroke-opacity:0.1; fill:none\" points=\"\n",
       "  2142.61,1486.45 2142.61,123.472 \n",
       "  \"/>\n",
       "<polyline clip-path=\"url(#clip930)\" style=\"stroke:#000000; stroke-linecap:butt; stroke-linejoin:round; stroke-width:4; stroke-opacity:1; fill:none\" points=\"\n",
       "  156.598,1486.45 2352.76,1486.45 \n",
       "  \"/>\n",
       "<polyline clip-path=\"url(#clip930)\" style=\"stroke:#000000; stroke-linecap:butt; stroke-linejoin:round; stroke-width:4; stroke-opacity:1; fill:none\" points=\"\n",
       "  366.743,1486.45 366.743,1470.09 \n",
       "  \"/>\n",
       "<polyline clip-path=\"url(#clip930)\" style=\"stroke:#000000; stroke-linecap:butt; stroke-linejoin:round; stroke-width:4; stroke-opacity:1; fill:none\" points=\"\n",
       "  662.721,1486.45 662.721,1470.09 \n",
       "  \"/>\n",
       "<polyline clip-path=\"url(#clip930)\" style=\"stroke:#000000; stroke-linecap:butt; stroke-linejoin:round; stroke-width:4; stroke-opacity:1; fill:none\" points=\"\n",
       "  958.699,1486.45 958.699,1470.09 \n",
       "  \"/>\n",
       "<polyline clip-path=\"url(#clip930)\" style=\"stroke:#000000; stroke-linecap:butt; stroke-linejoin:round; stroke-width:4; stroke-opacity:1; fill:none\" points=\"\n",
       "  1254.68,1486.45 1254.68,1470.09 \n",
       "  \"/>\n",
       "<polyline clip-path=\"url(#clip930)\" style=\"stroke:#000000; stroke-linecap:butt; stroke-linejoin:round; stroke-width:4; stroke-opacity:1; fill:none\" points=\"\n",
       "  1550.66,1486.45 1550.66,1470.09 \n",
       "  \"/>\n",
       "<polyline clip-path=\"url(#clip930)\" style=\"stroke:#000000; stroke-linecap:butt; stroke-linejoin:round; stroke-width:4; stroke-opacity:1; fill:none\" points=\"\n",
       "  1846.63,1486.45 1846.63,1470.09 \n",
       "  \"/>\n",
       "<polyline clip-path=\"url(#clip930)\" style=\"stroke:#000000; stroke-linecap:butt; stroke-linejoin:round; stroke-width:4; stroke-opacity:1; fill:none\" points=\"\n",
       "  2142.61,1486.45 2142.61,1470.09 \n",
       "  \"/>\n",
       "<path clip-path=\"url(#clip930)\" d=\"M361.396 1543.18 L377.715 1543.18 L377.715 1547.12 L355.771 1547.12 L355.771 1543.18 Q358.433 1540.43 363.016 1535.8 Q367.622 1531.15 368.803 1529.81 Q371.048 1527.28 371.928 1525.55 Q372.831 1523.79 372.831 1522.1 Q372.831 1519.34 370.886 1517.61 Q368.965 1515.87 365.863 1515.87 Q363.664 1515.87 361.21 1516.63 Q358.78 1517.4 356.002 1518.95 L356.002 1514.23 Q358.826 1513.09 361.28 1512.51 Q363.733 1511.93 365.77 1511.93 Q371.141 1511.93 374.335 1514.62 Q377.53 1517.31 377.53 1521.8 Q377.53 1523.93 376.72 1525.85 Q375.932 1527.74 373.826 1530.34 Q373.247 1531.01 370.145 1534.23 Q367.044 1537.42 361.396 1543.18 Z\" fill=\"#000000\" fill-rule=\"evenodd\" fill-opacity=\"1\" /><path clip-path=\"url(#clip930)\" d=\"M665.73 1516.63 L653.925 1535.08 L665.73 1535.08 L665.73 1516.63 M664.503 1512.56 L670.383 1512.56 L670.383 1535.08 L675.313 1535.08 L675.313 1538.97 L670.383 1538.97 L670.383 1547.12 L665.73 1547.12 L665.73 1538.97 L650.128 1538.97 L650.128 1534.46 L664.503 1512.56 Z\" fill=\"#000000\" fill-rule=\"evenodd\" fill-opacity=\"1\" /><path clip-path=\"url(#clip930)\" d=\"M959.104 1527.98 Q955.956 1527.98 954.104 1530.13 Q952.275 1532.28 952.275 1536.03 Q952.275 1539.76 954.104 1541.93 Q955.956 1544.09 959.104 1544.09 Q962.252 1544.09 964.081 1541.93 Q965.933 1539.76 965.933 1536.03 Q965.933 1532.28 964.081 1530.13 Q962.252 1527.98 959.104 1527.98 M968.386 1513.32 L968.386 1517.58 Q966.627 1516.75 964.822 1516.31 Q963.039 1515.87 961.28 1515.87 Q956.65 1515.87 954.197 1519 Q951.766 1522.12 951.419 1528.44 Q952.785 1526.43 954.845 1525.36 Q956.905 1524.27 959.382 1524.27 Q964.59 1524.27 967.599 1527.44 Q970.632 1530.59 970.632 1536.03 Q970.632 1541.36 967.484 1544.57 Q964.335 1547.79 959.104 1547.79 Q953.109 1547.79 949.937 1543.21 Q946.766 1538.6 946.766 1529.87 Q946.766 1521.68 950.655 1516.82 Q954.544 1511.93 961.095 1511.93 Q962.854 1511.93 964.636 1512.28 Q966.442 1512.63 968.386 1513.32 Z\" fill=\"#000000\" fill-rule=\"evenodd\" fill-opacity=\"1\" /><path clip-path=\"url(#clip930)\" d=\"M1254.68 1530.71 Q1251.34 1530.71 1249.42 1532.49 Q1247.52 1534.27 1247.52 1537.4 Q1247.52 1540.52 1249.42 1542.31 Q1251.34 1544.09 1254.68 1544.09 Q1258.01 1544.09 1259.93 1542.31 Q1261.85 1540.5 1261.85 1537.4 Q1261.85 1534.27 1259.93 1532.49 Q1258.03 1530.71 1254.68 1530.71 M1250 1528.72 Q1246.99 1527.98 1245.3 1525.92 Q1243.64 1523.86 1243.64 1520.89 Q1243.64 1516.75 1246.58 1514.34 Q1249.54 1511.93 1254.68 1511.93 Q1259.84 1511.93 1262.78 1514.34 Q1265.72 1516.75 1265.72 1520.89 Q1265.72 1523.86 1264.03 1525.92 Q1262.36 1527.98 1259.38 1528.72 Q1262.76 1529.5 1264.63 1531.8 Q1266.53 1534.09 1266.53 1537.4 Q1266.53 1542.42 1263.45 1545.11 Q1260.39 1547.79 1254.68 1547.79 Q1248.96 1547.79 1245.88 1545.11 Q1242.83 1542.42 1242.83 1537.4 Q1242.83 1534.09 1244.72 1531.8 Q1246.62 1529.5 1250 1528.72 M1248.29 1521.33 Q1248.29 1524.02 1249.95 1525.52 Q1251.64 1527.03 1254.68 1527.03 Q1257.69 1527.03 1259.38 1525.52 Q1261.09 1524.02 1261.09 1521.33 Q1261.09 1518.65 1259.38 1517.14 Q1257.69 1515.64 1254.68 1515.64 Q1251.64 1515.64 1249.95 1517.14 Q1248.29 1518.65 1248.29 1521.33 Z\" fill=\"#000000\" fill-rule=\"evenodd\" fill-opacity=\"1\" /><path clip-path=\"url(#clip930)\" d=\"M1525.34 1543.18 L1532.98 1543.18 L1532.98 1516.82 L1524.67 1518.49 L1524.67 1514.23 L1532.94 1512.56 L1537.61 1512.56 L1537.61 1543.18 L1545.25 1543.18 L1545.25 1547.12 L1525.34 1547.12 L1525.34 1543.18 Z\" fill=\"#000000\" fill-rule=\"evenodd\" fill-opacity=\"1\" /><path clip-path=\"url(#clip930)\" d=\"M1564.69 1515.64 Q1561.08 1515.64 1559.25 1519.2 Q1557.45 1522.75 1557.45 1529.87 Q1557.45 1536.98 1559.25 1540.55 Q1561.08 1544.09 1564.69 1544.09 Q1568.33 1544.09 1570.13 1540.55 Q1571.96 1536.98 1571.96 1529.87 Q1571.96 1522.75 1570.13 1519.2 Q1568.33 1515.64 1564.69 1515.64 M1564.69 1511.93 Q1570.5 1511.93 1573.56 1516.54 Q1576.64 1521.12 1576.64 1529.87 Q1576.64 1538.6 1573.56 1543.21 Q1570.5 1547.79 1564.69 1547.79 Q1558.88 1547.79 1555.81 1543.21 Q1552.75 1538.6 1552.75 1529.87 Q1552.75 1521.12 1555.81 1516.54 Q1558.88 1511.93 1564.69 1511.93 Z\" fill=\"#000000\" fill-rule=\"evenodd\" fill-opacity=\"1\" /><path clip-path=\"url(#clip930)\" d=\"M1822.12 1543.18 L1829.76 1543.18 L1829.76 1516.82 L1821.45 1518.49 L1821.45 1514.23 L1829.71 1512.56 L1834.39 1512.56 L1834.39 1543.18 L1842.03 1543.18 L1842.03 1547.12 L1822.12 1547.12 L1822.12 1543.18 Z\" fill=\"#000000\" fill-rule=\"evenodd\" fill-opacity=\"1\" /><path clip-path=\"url(#clip930)\" d=\"M1855.5 1543.18 L1871.82 1543.18 L1871.82 1547.12 L1849.87 1547.12 L1849.87 1543.18 Q1852.54 1540.43 1857.12 1535.8 Q1861.73 1531.15 1862.91 1529.81 Q1865.15 1527.28 1866.03 1525.55 Q1866.93 1523.79 1866.93 1522.1 Q1866.93 1519.34 1864.99 1517.61 Q1863.07 1515.87 1859.97 1515.87 Q1857.77 1515.87 1855.31 1516.63 Q1852.88 1517.4 1850.11 1518.95 L1850.11 1514.23 Q1852.93 1513.09 1855.38 1512.51 Q1857.84 1511.93 1859.87 1511.93 Q1865.24 1511.93 1868.44 1514.62 Q1871.63 1517.31 1871.63 1521.8 Q1871.63 1523.93 1870.82 1525.85 Q1870.04 1527.74 1867.93 1530.34 Q1867.35 1531.01 1864.25 1534.23 Q1861.15 1537.42 1855.5 1543.18 Z\" fill=\"#000000\" fill-rule=\"evenodd\" fill-opacity=\"1\" /><path clip-path=\"url(#clip930)\" d=\"M2117.06 1543.18 L2124.69 1543.18 L2124.69 1516.82 L2116.38 1518.49 L2116.38 1514.23 L2124.65 1512.56 L2129.32 1512.56 L2129.32 1543.18 L2136.96 1543.18 L2136.96 1547.12 L2117.06 1547.12 L2117.06 1543.18 Z\" fill=\"#000000\" fill-rule=\"evenodd\" fill-opacity=\"1\" /><path clip-path=\"url(#clip930)\" d=\"M2159.25 1516.63 L2147.45 1535.08 L2159.25 1535.08 L2159.25 1516.63 M2158.03 1512.56 L2163.91 1512.56 L2163.91 1535.08 L2168.84 1535.08 L2168.84 1538.97 L2163.91 1538.97 L2163.91 1547.12 L2159.25 1547.12 L2159.25 1538.97 L2143.65 1538.97 L2143.65 1534.46 L2158.03 1512.56 Z\" fill=\"#000000\" fill-rule=\"evenodd\" fill-opacity=\"1\" /><polyline clip-path=\"url(#clip932)\" style=\"stroke:#000000; stroke-linecap:butt; stroke-linejoin:round; stroke-width:2; stroke-opacity:0.1; fill:none\" points=\"\n",
       "  156.598,1215.92 2352.76,1215.92 \n",
       "  \"/>\n",
       "<polyline clip-path=\"url(#clip932)\" style=\"stroke:#000000; stroke-linecap:butt; stroke-linejoin:round; stroke-width:2; stroke-opacity:0.1; fill:none\" points=\"\n",
       "  156.598,926.791 2352.76,926.791 \n",
       "  \"/>\n",
       "<polyline clip-path=\"url(#clip932)\" style=\"stroke:#000000; stroke-linecap:butt; stroke-linejoin:round; stroke-width:2; stroke-opacity:0.1; fill:none\" points=\"\n",
       "  156.598,637.659 2352.76,637.659 \n",
       "  \"/>\n",
       "<polyline clip-path=\"url(#clip932)\" style=\"stroke:#000000; stroke-linecap:butt; stroke-linejoin:round; stroke-width:2; stroke-opacity:0.1; fill:none\" points=\"\n",
       "  156.598,348.528 2352.76,348.528 \n",
       "  \"/>\n",
       "<polyline clip-path=\"url(#clip930)\" style=\"stroke:#000000; stroke-linecap:butt; stroke-linejoin:round; stroke-width:4; stroke-opacity:1; fill:none\" points=\"\n",
       "  156.598,1486.45 156.598,123.472 \n",
       "  \"/>\n",
       "<polyline clip-path=\"url(#clip930)\" style=\"stroke:#000000; stroke-linecap:butt; stroke-linejoin:round; stroke-width:4; stroke-opacity:1; fill:none\" points=\"\n",
       "  156.598,1215.92 182.952,1215.92 \n",
       "  \"/>\n",
       "<polyline clip-path=\"url(#clip930)\" style=\"stroke:#000000; stroke-linecap:butt; stroke-linejoin:round; stroke-width:4; stroke-opacity:1; fill:none\" points=\"\n",
       "  156.598,926.791 182.952,926.791 \n",
       "  \"/>\n",
       "<polyline clip-path=\"url(#clip930)\" style=\"stroke:#000000; stroke-linecap:butt; stroke-linejoin:round; stroke-width:4; stroke-opacity:1; fill:none\" points=\"\n",
       "  156.598,637.659 182.952,637.659 \n",
       "  \"/>\n",
       "<polyline clip-path=\"url(#clip930)\" style=\"stroke:#000000; stroke-linecap:butt; stroke-linejoin:round; stroke-width:4; stroke-opacity:1; fill:none\" points=\"\n",
       "  156.598,348.528 182.952,348.528 \n",
       "  \"/>\n",
       "<path clip-path=\"url(#clip930)\" d=\"M65.0198 1201.72 Q61.4087 1201.72 59.58 1205.29 Q57.7745 1208.83 57.7745 1215.96 Q57.7745 1223.06 59.58 1226.63 Q61.4087 1230.17 65.0198 1230.17 Q68.6541 1230.17 70.4596 1226.63 Q72.2883 1223.06 72.2883 1215.96 Q72.2883 1208.83 70.4596 1205.29 Q68.6541 1201.72 65.0198 1201.72 M65.0198 1198.02 Q70.83 1198.02 73.8855 1202.62 Q76.9642 1207.21 76.9642 1215.96 Q76.9642 1224.68 73.8855 1229.29 Q70.83 1233.87 65.0198 1233.87 Q59.2097 1233.87 56.131 1229.29 Q53.0754 1224.68 53.0754 1215.96 Q53.0754 1207.21 56.131 1202.62 Q59.2097 1198.02 65.0198 1198.02 Z\" fill=\"#000000\" fill-rule=\"evenodd\" fill-opacity=\"1\" /><path clip-path=\"url(#clip930)\" d=\"M85.1818 1227.32 L90.066 1227.32 L90.066 1233.2 L85.1818 1233.2 L85.1818 1227.32 Z\" fill=\"#000000\" fill-rule=\"evenodd\" fill-opacity=\"1\" /><path clip-path=\"url(#clip930)\" d=\"M104.279 1229.27 L120.598 1229.27 L120.598 1233.2 L98.6539 1233.2 L98.6539 1229.27 Q101.316 1226.51 105.899 1221.88 Q110.506 1217.23 111.686 1215.89 Q113.932 1213.36 114.811 1211.63 Q115.714 1209.87 115.714 1208.18 Q115.714 1205.42 113.77 1203.69 Q111.848 1201.95 108.746 1201.95 Q106.547 1201.95 104.094 1202.72 Q101.663 1203.48 98.8854 1205.03 L98.8854 1200.31 Q101.709 1199.17 104.163 1198.6 Q106.617 1198.02 108.654 1198.02 Q114.024 1198.02 117.219 1200.7 Q120.413 1203.39 120.413 1207.88 Q120.413 1210.01 119.603 1211.93 Q118.816 1213.83 116.709 1216.42 Q116.131 1217.09 113.029 1220.31 Q109.927 1223.5 104.279 1229.27 Z\" fill=\"#000000\" fill-rule=\"evenodd\" fill-opacity=\"1\" /><path clip-path=\"url(#clip930)\" d=\"M62.9365 912.589 Q59.3254 912.589 57.4967 916.154 Q55.6912 919.696 55.6912 926.825 Q55.6912 933.932 57.4967 937.497 Q59.3254 941.038 62.9365 941.038 Q66.5707 941.038 68.3763 937.497 Q70.205 933.932 70.205 926.825 Q70.205 919.696 68.3763 916.154 Q66.5707 912.589 62.9365 912.589 M62.9365 908.886 Q68.7467 908.886 71.8022 913.492 Q74.8809 918.075 74.8809 926.825 Q74.8809 935.552 71.8022 940.159 Q68.7467 944.742 62.9365 944.742 Q57.1264 944.742 54.0477 940.159 Q50.9921 935.552 50.9921 926.825 Q50.9921 918.075 54.0477 913.492 Q57.1264 908.886 62.9365 908.886 Z\" fill=\"#000000\" fill-rule=\"evenodd\" fill-opacity=\"1\" /><path clip-path=\"url(#clip930)\" d=\"M83.0984 938.191 L87.9827 938.191 L87.9827 944.071 L83.0984 944.071 L83.0984 938.191 Z\" fill=\"#000000\" fill-rule=\"evenodd\" fill-opacity=\"1\" /><path clip-path=\"url(#clip930)\" d=\"M111.015 913.585 L99.2095 932.034 L111.015 932.034 L111.015 913.585 M109.788 909.511 L115.668 909.511 L115.668 932.034 L120.598 932.034 L120.598 935.923 L115.668 935.923 L115.668 944.071 L111.015 944.071 L111.015 935.923 L95.4132 935.923 L95.4132 931.409 L109.788 909.511 Z\" fill=\"#000000\" fill-rule=\"evenodd\" fill-opacity=\"1\" /><path clip-path=\"url(#clip930)\" d=\"M63.2606 623.458 Q59.6495 623.458 57.8208 627.023 Q56.0152 630.565 56.0152 637.694 Q56.0152 644.801 57.8208 648.365 Q59.6495 651.907 63.2606 651.907 Q66.8948 651.907 68.7004 648.365 Q70.5291 644.801 70.5291 637.694 Q70.5291 630.565 68.7004 627.023 Q66.8948 623.458 63.2606 623.458 M63.2606 619.754 Q69.0707 619.754 72.1263 624.361 Q75.205 628.944 75.205 637.694 Q75.205 646.421 72.1263 651.027 Q69.0707 655.611 63.2606 655.611 Q57.4504 655.611 54.3717 651.027 Q51.3162 646.421 51.3162 637.694 Q51.3162 628.944 54.3717 624.361 Q57.4504 619.754 63.2606 619.754 Z\" fill=\"#000000\" fill-rule=\"evenodd\" fill-opacity=\"1\" /><path clip-path=\"url(#clip930)\" d=\"M83.4225 649.06 L88.3067 649.06 L88.3067 654.939 L83.4225 654.939 L83.4225 649.06 Z\" fill=\"#000000\" fill-rule=\"evenodd\" fill-opacity=\"1\" /><path clip-path=\"url(#clip930)\" d=\"M109.071 635.796 Q105.922 635.796 104.071 637.949 Q102.242 640.102 102.242 643.852 Q102.242 647.578 104.071 649.754 Q105.922 651.907 109.071 651.907 Q112.219 651.907 114.047 649.754 Q115.899 647.578 115.899 643.852 Q115.899 640.102 114.047 637.949 Q112.219 635.796 109.071 635.796 M118.353 621.143 L118.353 625.403 Q116.594 624.569 114.788 624.129 Q113.006 623.69 111.246 623.69 Q106.617 623.69 104.163 626.815 Q101.733 629.94 101.385 636.259 Q102.751 634.245 104.811 633.18 Q106.871 632.092 109.348 632.092 Q114.557 632.092 117.566 635.264 Q120.598 638.412 120.598 643.852 Q120.598 649.176 117.45 652.393 Q114.302 655.611 109.071 655.611 Q103.075 655.611 99.9039 651.027 Q96.7326 646.421 96.7326 637.694 Q96.7326 629.5 100.621 624.639 Q104.51 619.754 111.061 619.754 Q112.82 619.754 114.603 620.102 Q116.408 620.449 118.353 621.143 Z\" fill=\"#000000\" fill-rule=\"evenodd\" fill-opacity=\"1\" /><path clip-path=\"url(#clip930)\" d=\"M63.5152 334.327 Q59.9041 334.327 58.0754 337.892 Q56.2699 341.433 56.2699 348.563 Q56.2699 355.669 58.0754 359.234 Q59.9041 362.776 63.5152 362.776 Q67.1494 362.776 68.955 359.234 Q70.7837 355.669 70.7837 348.563 Q70.7837 341.433 68.955 337.892 Q67.1494 334.327 63.5152 334.327 M63.5152 330.623 Q69.3254 330.623 72.3809 335.23 Q75.4596 339.813 75.4596 348.563 Q75.4596 357.29 72.3809 361.896 Q69.3254 366.48 63.5152 366.48 Q57.7051 366.48 54.6264 361.896 Q51.5708 357.29 51.5708 348.563 Q51.5708 339.813 54.6264 335.23 Q57.7051 330.623 63.5152 330.623 Z\" fill=\"#000000\" fill-rule=\"evenodd\" fill-opacity=\"1\" /><path clip-path=\"url(#clip930)\" d=\"M83.6771 359.929 L88.5614 359.929 L88.5614 365.808 L83.6771 365.808 L83.6771 359.929 Z\" fill=\"#000000\" fill-rule=\"evenodd\" fill-opacity=\"1\" /><path clip-path=\"url(#clip930)\" d=\"M108.746 349.396 Q105.413 349.396 103.492 351.179 Q101.594 352.961 101.594 356.086 Q101.594 359.211 103.492 360.993 Q105.413 362.776 108.746 362.776 Q112.08 362.776 114.001 360.993 Q115.922 359.188 115.922 356.086 Q115.922 352.961 114.001 351.179 Q112.103 349.396 108.746 349.396 M104.071 347.406 Q101.061 346.665 99.3715 344.605 Q97.7048 342.544 97.7048 339.582 Q97.7048 335.438 100.645 333.031 Q103.608 330.623 108.746 330.623 Q113.908 330.623 116.848 333.031 Q119.788 335.438 119.788 339.582 Q119.788 342.544 118.098 344.605 Q116.432 346.665 113.445 347.406 Q116.825 348.193 118.7 350.484 Q120.598 352.776 120.598 356.086 Q120.598 361.109 117.52 363.794 Q114.464 366.48 108.746 366.48 Q103.029 366.48 99.9502 363.794 Q96.8947 361.109 96.8947 356.086 Q96.8947 352.776 98.7928 350.484 Q100.691 348.193 104.071 347.406 M102.358 340.021 Q102.358 342.706 104.024 344.211 Q105.714 345.716 108.746 345.716 Q111.756 345.716 113.445 344.211 Q115.158 342.706 115.158 340.021 Q115.158 337.336 113.445 335.832 Q111.756 334.327 108.746 334.327 Q105.714 334.327 104.024 335.832 Q102.358 337.336 102.358 340.021 Z\" fill=\"#000000\" fill-rule=\"evenodd\" fill-opacity=\"1\" /><path clip-path=\"url(#clip930)\" d=\"M818.435 17.6457 Q809.523 17.6457 804.257 24.2892 Q799.031 30.9327 799.031 42.3968 Q799.031 53.8203 804.257 60.4638 Q809.523 67.1073 818.435 67.1073 Q827.347 67.1073 832.532 60.4638 Q837.758 53.8203 837.758 42.3968 Q837.758 30.9327 832.532 24.2892 Q827.347 17.6457 818.435 17.6457 M818.435 11.0023 Q831.155 11.0023 838.771 19.5497 Q846.386 28.0566 846.386 42.3968 Q846.386 56.6965 838.771 65.2439 Q831.155 73.7508 818.435 73.7508 Q805.675 73.7508 798.019 65.2439 Q790.403 56.737 790.403 42.3968 Q790.403 28.0566 798.019 19.5497 Q805.675 11.0023 818.435 11.0023 Z\" fill=\"#000000\" fill-rule=\"evenodd\" fill-opacity=\"1\" /><path clip-path=\"url(#clip930)\" d=\"M896.577 45.1919 L896.577 72.576 L889.123 72.576 L889.123 45.4349 Q889.123 38.994 886.612 35.7938 Q884.1 32.5936 879.077 32.5936 Q873.041 32.5936 869.558 36.4419 Q866.074 40.2903 866.074 46.9338 L866.074 72.576 L858.58 72.576 L858.58 27.2059 L866.074 27.2059 L866.074 34.2544 Q868.747 30.163 872.353 28.1376 Q875.999 26.1121 880.738 26.1121 Q888.556 26.1121 892.567 30.9732 Q896.577 35.7938 896.577 45.1919 Z\" fill=\"#000000\" fill-rule=\"evenodd\" fill-opacity=\"1\" /><path clip-path=\"url(#clip930)\" d=\"M950.252 48.0275 L950.252 51.6733 L915.981 51.6733 Q916.467 59.3701 920.599 63.421 Q924.771 67.4314 932.185 67.4314 Q936.479 67.4314 940.489 66.3781 Q944.54 65.3249 948.51 63.2184 L948.51 70.267 Q944.499 71.9684 940.286 72.8596 Q936.073 73.7508 931.739 73.7508 Q920.883 73.7508 914.523 67.4314 Q908.203 61.1119 908.203 50.3365 Q908.203 39.1965 914.199 32.6746 Q920.234 26.1121 930.443 26.1121 Q939.598 26.1121 944.904 32.0264 Q950.252 37.9003 950.252 48.0275 M942.798 45.84 Q942.717 39.7232 939.355 36.0774 Q936.033 32.4315 930.524 32.4315 Q924.285 32.4315 920.518 35.9558 Q916.791 39.4801 916.224 45.8805 L942.798 45.84 Z\" fill=\"#000000\" fill-rule=\"evenodd\" fill-opacity=\"1\" /><path clip-path=\"url(#clip930)\" d=\"M1015.15 34.1734 Q1013.89 33.4443 1012.39 33.1202 Q1010.93 32.7556 1009.15 32.7556 Q1002.83 32.7556 999.43 36.8875 Q996.067 40.9789 996.067 48.6757 L996.067 72.576 L988.573 72.576 L988.573 27.2059 L996.067 27.2059 L996.067 34.2544 Q998.417 30.1225 1002.18 28.1376 Q1005.95 26.1121 1011.34 26.1121 Q1012.11 26.1121 1013.04 26.2337 Q1013.97 26.3147 1015.11 26.5172 L1015.15 34.1734 Z\" fill=\"#000000\" fill-rule=\"evenodd\" fill-opacity=\"1\" /><path clip-path=\"url(#clip930)\" d=\"M1043.58 49.7694 Q1034.55 49.7694 1031.07 51.8354 Q1027.58 53.9013 1027.58 58.8839 Q1027.58 62.8538 1030.18 65.2034 Q1032.81 67.5124 1037.31 67.5124 Q1043.5 67.5124 1047.23 63.1374 Q1051 58.7219 1051 51.4303 L1051 49.7694 L1043.58 49.7694 M1058.45 46.6907 L1058.45 72.576 L1051 72.576 L1051 65.6895 Q1048.45 69.8214 1044.64 71.8063 Q1040.83 73.7508 1035.32 73.7508 Q1028.35 73.7508 1024.22 69.8619 Q1020.13 65.9325 1020.13 59.3701 Q1020.13 51.7138 1025.23 47.825 Q1030.38 43.9361 1040.55 43.9361 L1051 43.9361 L1051 43.2069 Q1051 38.0623 1047.59 35.2672 Q1044.23 32.4315 1038.12 32.4315 Q1034.23 32.4315 1030.54 33.3632 Q1026.85 34.295 1023.45 36.1584 L1023.45 29.2718 Q1027.54 27.692 1031.39 26.9223 Q1035.24 26.1121 1038.89 26.1121 Q1048.73 26.1121 1053.59 31.2163 Q1058.45 36.3204 1058.45 46.6907 Z\" fill=\"#000000\" fill-rule=\"evenodd\" fill-opacity=\"1\" /><path clip-path=\"url(#clip930)\" d=\"M1111.52 45.1919 L1111.52 72.576 L1104.06 72.576 L1104.06 45.4349 Q1104.06 38.994 1101.55 35.7938 Q1099.04 32.5936 1094.02 32.5936 Q1087.98 32.5936 1084.5 36.4419 Q1081.01 40.2903 1081.01 46.9338 L1081.01 72.576 L1073.52 72.576 L1073.52 27.2059 L1081.01 27.2059 L1081.01 34.2544 Q1083.69 30.163 1087.29 28.1376 Q1090.94 26.1121 1095.68 26.1121 Q1103.5 26.1121 1107.51 30.9732 Q1111.52 35.7938 1111.52 45.1919 Z\" fill=\"#000000\" fill-rule=\"evenodd\" fill-opacity=\"1\" /><path clip-path=\"url(#clip930)\" d=\"M1156.24 34.0924 L1156.24 9.54393 L1163.69 9.54393 L1163.69 72.576 L1156.24 72.576 L1156.24 65.7705 Q1153.89 69.8214 1150.29 71.8063 Q1146.72 73.7508 1141.7 73.7508 Q1133.47 73.7508 1128.29 67.1883 Q1123.14 60.6258 1123.14 49.9314 Q1123.14 39.2371 1128.29 32.6746 Q1133.47 26.1121 1141.7 26.1121 Q1146.72 26.1121 1150.29 28.0971 Q1153.89 30.0415 1156.24 34.0924 M1130.84 49.9314 Q1130.84 58.1548 1134.2 62.8538 Q1137.61 67.5124 1143.52 67.5124 Q1149.43 67.5124 1152.84 62.8538 Q1156.24 58.1548 1156.24 49.9314 Q1156.24 41.7081 1152.84 37.0496 Q1149.43 32.3505 1143.52 32.3505 Q1137.61 32.3505 1134.2 37.0496 Q1130.84 41.7081 1130.84 49.9314 Z\" fill=\"#000000\" fill-rule=\"evenodd\" fill-opacity=\"1\" /><path clip-path=\"url(#clip930)\" d=\"M1196.63 32.4315 Q1190.63 32.4315 1187.15 37.1306 Q1183.66 41.7891 1183.66 49.9314 Q1183.66 58.0738 1187.11 62.7728 Q1190.59 67.4314 1196.63 67.4314 Q1202.58 67.4314 1206.07 62.7323 Q1209.55 58.0333 1209.55 49.9314 Q1209.55 41.8701 1206.07 37.1711 Q1202.58 32.4315 1196.63 32.4315 M1196.63 26.1121 Q1206.35 26.1121 1211.9 32.4315 Q1217.45 38.7509 1217.45 49.9314 Q1217.45 61.0714 1211.9 67.4314 Q1206.35 73.7508 1196.63 73.7508 Q1186.86 73.7508 1181.32 67.4314 Q1175.81 61.0714 1175.81 49.9314 Q1175.81 38.7509 1181.32 32.4315 Q1186.86 26.1121 1196.63 26.1121 Z\" fill=\"#000000\" fill-rule=\"evenodd\" fill-opacity=\"1\" /><path clip-path=\"url(#clip930)\" d=\"M1265.13 35.9153 Q1267.92 30.8922 1271.81 28.5022 Q1275.7 26.1121 1280.97 26.1121 Q1288.06 26.1121 1291.9 31.0947 Q1295.75 36.0368 1295.75 45.1919 L1295.75 72.576 L1288.26 72.576 L1288.26 45.4349 Q1288.26 38.913 1285.95 35.7533 Q1283.64 32.5936 1278.9 32.5936 Q1273.11 32.5936 1269.75 36.4419 Q1266.38 40.2903 1266.38 46.9338 L1266.38 72.576 L1258.89 72.576 L1258.89 45.4349 Q1258.89 38.8725 1256.58 35.7533 Q1254.27 32.5936 1249.45 32.5936 Q1243.74 32.5936 1240.38 36.4824 Q1237.02 40.3308 1237.02 46.9338 L1237.02 72.576 L1229.52 72.576 L1229.52 27.2059 L1237.02 27.2059 L1237.02 34.2544 Q1239.57 30.082 1243.13 28.0971 Q1246.7 26.1121 1251.6 26.1121 Q1256.54 26.1121 1259.98 28.6237 Q1263.47 31.1352 1265.13 35.9153 Z\" fill=\"#000000\" fill-rule=\"evenodd\" fill-opacity=\"1\" /><path clip-path=\"url(#clip930)\" d=\"M1336.99 9.54393 L1344.45 9.54393 L1344.45 72.576 L1336.99 72.576 L1336.99 9.54393 Z\" fill=\"#000000\" fill-rule=\"evenodd\" fill-opacity=\"1\" /><path clip-path=\"url(#clip930)\" d=\"M1360.04 27.2059 L1367.49 27.2059 L1367.49 72.576 L1360.04 72.576 L1360.04 27.2059 M1360.04 9.54393 L1367.49 9.54393 L1367.49 18.9825 L1360.04 18.9825 L1360.04 9.54393 Z\" fill=\"#000000\" fill-rule=\"evenodd\" fill-opacity=\"1\" /><path clip-path=\"url(#clip930)\" d=\"M1420.8 45.1919 L1420.8 72.576 L1413.35 72.576 L1413.35 45.4349 Q1413.35 38.994 1410.84 35.7938 Q1408.33 32.5936 1403.3 32.5936 Q1397.27 32.5936 1393.79 36.4419 Q1390.3 40.2903 1390.3 46.9338 L1390.3 72.576 L1382.81 72.576 L1382.81 27.2059 L1390.3 27.2059 L1390.3 34.2544 Q1392.97 30.163 1396.58 28.1376 Q1400.23 26.1121 1404.97 26.1121 Q1412.78 26.1121 1416.79 30.9732 Q1420.8 35.7938 1420.8 45.1919 Z\" fill=\"#000000\" fill-rule=\"evenodd\" fill-opacity=\"1\" /><path clip-path=\"url(#clip930)\" d=\"M1474.48 48.0275 L1474.48 51.6733 L1440.21 51.6733 Q1440.69 59.3701 1444.83 63.421 Q1449 67.4314 1456.41 67.4314 Q1460.71 67.4314 1464.72 66.3781 Q1468.77 65.3249 1472.74 63.2184 L1472.74 70.267 Q1468.73 71.9684 1464.51 72.8596 Q1460.3 73.7508 1455.97 73.7508 Q1445.11 73.7508 1438.75 67.4314 Q1432.43 61.1119 1432.43 50.3365 Q1432.43 39.1965 1438.43 32.6746 Q1444.46 26.1121 1454.67 26.1121 Q1463.83 26.1121 1469.13 32.0264 Q1474.48 37.9003 1474.48 48.0275 M1467.03 45.84 Q1466.94 39.7232 1463.58 36.0774 Q1460.26 32.4315 1454.75 32.4315 Q1448.51 32.4315 1444.75 35.9558 Q1441.02 39.4801 1440.45 45.8805 L1467.03 45.84 Z\" fill=\"#000000\" fill-rule=\"evenodd\" fill-opacity=\"1\" /><path clip-path=\"url(#clip930)\" d=\"M1545.73 28.9478 L1545.73 35.9153 Q1542.57 34.1734 1539.37 33.3227 Q1536.21 32.4315 1532.97 32.4315 Q1525.72 32.4315 1521.71 37.0496 Q1517.7 41.6271 1517.7 49.9314 Q1517.7 58.2358 1521.71 62.8538 Q1525.72 67.4314 1532.97 67.4314 Q1536.21 67.4314 1539.37 66.5807 Q1542.57 65.6895 1545.73 63.9476 L1545.73 70.8341 Q1542.62 72.2924 1539.25 73.0216 Q1535.93 73.7508 1532.16 73.7508 Q1521.92 73.7508 1515.88 67.3098 Q1509.84 60.8689 1509.84 49.9314 Q1509.84 38.832 1515.92 32.472 Q1522.04 26.1121 1532.65 26.1121 Q1536.09 26.1121 1539.37 26.8413 Q1542.66 27.5299 1545.73 28.9478 Z\" fill=\"#000000\" fill-rule=\"evenodd\" fill-opacity=\"1\" /><path clip-path=\"url(#clip930)\" d=\"M1596.41 45.1919 L1596.41 72.576 L1588.96 72.576 L1588.96 45.4349 Q1588.96 38.994 1586.45 35.7938 Q1583.93 32.5936 1578.91 32.5936 Q1572.88 32.5936 1569.39 36.4419 Q1565.91 40.2903 1565.91 46.9338 L1565.91 72.576 L1558.41 72.576 L1558.41 9.54393 L1565.91 9.54393 L1565.91 34.2544 Q1568.58 30.163 1572.19 28.1376 Q1575.83 26.1121 1580.57 26.1121 Q1588.39 26.1121 1592.4 30.9732 Q1596.41 35.7938 1596.41 45.1919 Z\" fill=\"#000000\" fill-rule=\"evenodd\" fill-opacity=\"1\" /><path clip-path=\"url(#clip930)\" d=\"M1631.9 49.7694 Q1622.86 49.7694 1619.38 51.8354 Q1615.9 53.9013 1615.9 58.8839 Q1615.9 62.8538 1618.49 65.2034 Q1621.12 67.5124 1625.62 67.5124 Q1631.82 67.5124 1635.54 63.1374 Q1639.31 58.7219 1639.31 51.4303 L1639.31 49.7694 L1631.9 49.7694 M1646.76 46.6907 L1646.76 72.576 L1639.31 72.576 L1639.31 65.6895 Q1636.76 69.8214 1632.95 71.8063 Q1629.14 73.7508 1623.63 73.7508 Q1616.67 73.7508 1612.53 69.8619 Q1608.44 65.9325 1608.44 59.3701 Q1608.44 51.7138 1613.55 47.825 Q1618.69 43.9361 1628.86 43.9361 L1639.31 43.9361 L1639.31 43.2069 Q1639.31 38.0623 1635.91 35.2672 Q1632.55 32.4315 1626.43 32.4315 Q1622.54 32.4315 1618.85 33.3632 Q1615.17 34.295 1611.76 36.1584 L1611.76 29.2718 Q1615.86 27.692 1619.7 26.9223 Q1623.55 26.1121 1627.2 26.1121 Q1637.04 26.1121 1641.9 31.2163 Q1646.76 36.3204 1646.76 46.6907 Z\" fill=\"#000000\" fill-rule=\"evenodd\" fill-opacity=\"1\" /><path clip-path=\"url(#clip930)\" d=\"M1688.41 34.1734 Q1687.15 33.4443 1685.65 33.1202 Q1684.19 32.7556 1682.41 32.7556 Q1676.09 32.7556 1672.69 36.8875 Q1669.33 40.9789 1669.33 48.6757 L1669.33 72.576 L1661.83 72.576 L1661.83 27.2059 L1669.33 27.2059 L1669.33 34.2544 Q1671.68 30.1225 1675.44 28.1376 Q1679.21 26.1121 1684.6 26.1121 Q1685.37 26.1121 1686.3 26.2337 Q1687.23 26.3147 1688.37 26.5172 L1688.41 34.1734 Z\" fill=\"#000000\" fill-rule=\"evenodd\" fill-opacity=\"1\" /><path clip-path=\"url(#clip930)\" d=\"M1703.6 14.324 L1703.6 27.2059 L1718.95 27.2059 L1718.95 32.9987 L1703.6 32.9987 L1703.6 57.6282 Q1703.6 63.1779 1705.1 64.7578 Q1706.64 66.3376 1711.29 66.3376 L1718.95 66.3376 L1718.95 72.576 L1711.29 72.576 Q1702.67 72.576 1699.39 69.3758 Q1696.1 66.1351 1696.1 57.6282 L1696.1 32.9987 L1690.64 32.9987 L1690.64 27.2059 L1696.1 27.2059 L1696.1 14.324 L1703.6 14.324 Z\" fill=\"#000000\" fill-rule=\"evenodd\" fill-opacity=\"1\" /><polyline clip-path=\"url(#clip932)\" style=\"stroke:#009af9; stroke-linecap:butt; stroke-linejoin:round; stroke-width:4; stroke-opacity:1; fill:none\" points=\"\n",
       "  218.754,886.207 366.743,1073.97 514.732,1166.2 662.721,1336.73 810.71,1117.4 958.699,601.336 1106.69,670.746 1254.68,1447.87 1402.67,292.103 1550.66,973.901 \n",
       "  1698.64,594.984 1846.63,1040.99 1994.62,520.841 2142.61,869.575 2290.6,162.047 \n",
       "  \"/>\n",
       "<path clip-path=\"url(#clip930)\" d=\"\n",
       "M1983.1 289.865 L2279.55 289.865 L2279.55 168.905 L1983.1 168.905  Z\n",
       "  \" fill=\"#ffffff\" fill-rule=\"evenodd\" fill-opacity=\"1\"/>\n",
       "<polyline clip-path=\"url(#clip930)\" style=\"stroke:#000000; stroke-linecap:butt; stroke-linejoin:round; stroke-width:4; stroke-opacity:1; fill:none\" points=\"\n",
       "  1983.1,289.865 2279.55,289.865 2279.55,168.905 1983.1,168.905 1983.1,289.865 \n",
       "  \"/>\n",
       "<polyline clip-path=\"url(#clip930)\" style=\"stroke:#009af9; stroke-linecap:butt; stroke-linejoin:round; stroke-width:4; stroke-opacity:1; fill:none\" points=\"\n",
       "  2007.5,229.385 2153.92,229.385 \n",
       "  \"/>\n",
       "<path clip-path=\"url(#clip930)\" d=\"M2192.16 249.072 Q2190.35 253.702 2188.64 255.114 Q2186.93 256.526 2184.06 256.526 L2180.65 256.526 L2180.65 252.961 L2183.15 252.961 Q2184.91 252.961 2185.89 252.128 Q2186.86 251.294 2188.04 248.192 L2188.8 246.248 L2178.32 220.739 L2182.83 220.739 L2190.93 241.017 L2199.03 220.739 L2203.55 220.739 L2192.16 249.072 Z\" fill=\"#000000\" fill-rule=\"evenodd\" fill-opacity=\"1\" /><path clip-path=\"url(#clip930)\" d=\"M2210.84 242.729 L2218.48 242.729 L2218.48 216.364 L2210.17 218.031 L2210.17 213.771 L2218.43 212.105 L2223.11 212.105 L2223.11 242.729 L2230.75 242.729 L2230.75 246.665 L2210.84 246.665 L2210.84 242.729 Z\" fill=\"#000000\" fill-rule=\"evenodd\" fill-opacity=\"1\" /></svg>\n"
      ]
     },
     "execution_count": 60,
     "metadata": {},
     "output_type": "execute_result"
    }
   ],
   "source": [
    "plot(x,y, title=\"One random line chart\")"
   ]
  },
  {
   "cell_type": "code",
   "execution_count": 65,
   "metadata": {},
   "outputs": [
    {
     "data": {
      "image/svg+xml": [
       "<?xml version=\"1.0\" encoding=\"utf-8\"?>\n",
       "<svg xmlns=\"http://www.w3.org/2000/svg\" xmlns:xlink=\"http://www.w3.org/1999/xlink\" width=\"600\" height=\"400\" viewBox=\"0 0 2400 1600\">\n",
       "<defs>\n",
       "  <clipPath id=\"clip090\">\n",
       "    <rect x=\"0\" y=\"0\" width=\"2400\" height=\"1600\"/>\n",
       "  </clipPath>\n",
       "</defs>\n",
       "<path clip-path=\"url(#clip090)\" d=\"\n",
       "M0 1600 L2400 1600 L2400 0 L0 0  Z\n",
       "  \" fill=\"#ffffff\" fill-rule=\"evenodd\" fill-opacity=\"1\"/>\n",
       "<defs>\n",
       "  <clipPath id=\"clip091\">\n",
       "    <rect x=\"480\" y=\"0\" width=\"1681\" height=\"1600\"/>\n",
       "  </clipPath>\n",
       "</defs>\n",
       "<path clip-path=\"url(#clip090)\" d=\"\n",
       "M219.866 1423.18 L2352.76 1423.18 L2352.76 123.472 L219.866 123.472  Z\n",
       "  \" fill=\"#ffffff\" fill-rule=\"evenodd\" fill-opacity=\"1\"/>\n",
       "<defs>\n",
       "  <clipPath id=\"clip092\">\n",
       "    <rect x=\"219\" y=\"123\" width=\"2134\" height=\"1301\"/>\n",
       "  </clipPath>\n",
       "</defs>\n",
       "<polyline clip-path=\"url(#clip092)\" style=\"stroke:#000000; stroke-linecap:butt; stroke-linejoin:round; stroke-width:2; stroke-opacity:0.1; fill:none\" points=\"\n",
       "  423.957,1423.18 423.957,123.472 \n",
       "  \"/>\n",
       "<polyline clip-path=\"url(#clip092)\" style=\"stroke:#000000; stroke-linecap:butt; stroke-linejoin:round; stroke-width:2; stroke-opacity:0.1; fill:none\" points=\"\n",
       "  711.408,1423.18 711.408,123.472 \n",
       "  \"/>\n",
       "<polyline clip-path=\"url(#clip092)\" style=\"stroke:#000000; stroke-linecap:butt; stroke-linejoin:round; stroke-width:2; stroke-opacity:0.1; fill:none\" points=\"\n",
       "  998.86,1423.18 998.86,123.472 \n",
       "  \"/>\n",
       "<polyline clip-path=\"url(#clip092)\" style=\"stroke:#000000; stroke-linecap:butt; stroke-linejoin:round; stroke-width:2; stroke-opacity:0.1; fill:none\" points=\"\n",
       "  1286.31,1423.18 1286.31,123.472 \n",
       "  \"/>\n",
       "<polyline clip-path=\"url(#clip092)\" style=\"stroke:#000000; stroke-linecap:butt; stroke-linejoin:round; stroke-width:2; stroke-opacity:0.1; fill:none\" points=\"\n",
       "  1573.76,1423.18 1573.76,123.472 \n",
       "  \"/>\n",
       "<polyline clip-path=\"url(#clip092)\" style=\"stroke:#000000; stroke-linecap:butt; stroke-linejoin:round; stroke-width:2; stroke-opacity:0.1; fill:none\" points=\"\n",
       "  1861.21,1423.18 1861.21,123.472 \n",
       "  \"/>\n",
       "<polyline clip-path=\"url(#clip092)\" style=\"stroke:#000000; stroke-linecap:butt; stroke-linejoin:round; stroke-width:2; stroke-opacity:0.1; fill:none\" points=\"\n",
       "  2148.67,1423.18 2148.67,123.472 \n",
       "  \"/>\n",
       "<polyline clip-path=\"url(#clip090)\" style=\"stroke:#000000; stroke-linecap:butt; stroke-linejoin:round; stroke-width:4; stroke-opacity:1; fill:none\" points=\"\n",
       "  219.866,1423.18 2352.76,1423.18 \n",
       "  \"/>\n",
       "<polyline clip-path=\"url(#clip090)\" style=\"stroke:#000000; stroke-linecap:butt; stroke-linejoin:round; stroke-width:4; stroke-opacity:1; fill:none\" points=\"\n",
       "  423.957,1423.18 423.957,1407.58 \n",
       "  \"/>\n",
       "<polyline clip-path=\"url(#clip090)\" style=\"stroke:#000000; stroke-linecap:butt; stroke-linejoin:round; stroke-width:4; stroke-opacity:1; fill:none\" points=\"\n",
       "  711.408,1423.18 711.408,1407.58 \n",
       "  \"/>\n",
       "<polyline clip-path=\"url(#clip090)\" style=\"stroke:#000000; stroke-linecap:butt; stroke-linejoin:round; stroke-width:4; stroke-opacity:1; fill:none\" points=\"\n",
       "  998.86,1423.18 998.86,1407.58 \n",
       "  \"/>\n",
       "<polyline clip-path=\"url(#clip090)\" style=\"stroke:#000000; stroke-linecap:butt; stroke-linejoin:round; stroke-width:4; stroke-opacity:1; fill:none\" points=\"\n",
       "  1286.31,1423.18 1286.31,1407.58 \n",
       "  \"/>\n",
       "<polyline clip-path=\"url(#clip090)\" style=\"stroke:#000000; stroke-linecap:butt; stroke-linejoin:round; stroke-width:4; stroke-opacity:1; fill:none\" points=\"\n",
       "  1573.76,1423.18 1573.76,1407.58 \n",
       "  \"/>\n",
       "<polyline clip-path=\"url(#clip090)\" style=\"stroke:#000000; stroke-linecap:butt; stroke-linejoin:round; stroke-width:4; stroke-opacity:1; fill:none\" points=\"\n",
       "  1861.21,1423.18 1861.21,1407.58 \n",
       "  \"/>\n",
       "<polyline clip-path=\"url(#clip090)\" style=\"stroke:#000000; stroke-linecap:butt; stroke-linejoin:round; stroke-width:4; stroke-opacity:1; fill:none\" points=\"\n",
       "  2148.67,1423.18 2148.67,1407.58 \n",
       "  \"/>\n",
       "<path clip-path=\"url(#clip090)\" d=\"M418.61 1479.92 L434.929 1479.92 L434.929 1483.85 L412.985 1483.85 L412.985 1479.92 Q415.647 1477.16 420.23 1472.53 Q424.836 1467.88 426.017 1466.54 Q428.262 1464.01 429.142 1462.28 Q430.045 1460.52 430.045 1458.83 Q430.045 1456.07 428.1 1454.34 Q426.179 1452.6 423.077 1452.6 Q420.878 1452.6 418.424 1453.37 Q415.994 1454.13 413.216 1455.68 L413.216 1450.96 Q416.04 1449.82 418.494 1449.25 Q420.948 1448.67 422.985 1448.67 Q428.355 1448.67 431.549 1451.35 Q434.744 1454.04 434.744 1458.53 Q434.744 1460.66 433.934 1462.58 Q433.147 1464.48 431.04 1467.07 Q430.461 1467.74 427.36 1470.96 Q424.258 1474.15 418.61 1479.92 Z\" fill=\"#000000\" fill-rule=\"evenodd\" fill-opacity=\"1\" /><path clip-path=\"url(#clip090)\" d=\"M714.417 1453.37 L702.612 1471.81 L714.417 1471.81 L714.417 1453.37 M713.191 1449.29 L719.07 1449.29 L719.07 1471.81 L724.001 1471.81 L724.001 1475.7 L719.07 1475.7 L719.07 1483.85 L714.417 1483.85 L714.417 1475.7 L698.816 1475.7 L698.816 1471.19 L713.191 1449.29 Z\" fill=\"#000000\" fill-rule=\"evenodd\" fill-opacity=\"1\" /><path clip-path=\"url(#clip090)\" d=\"M999.265 1464.71 Q996.117 1464.71 994.265 1466.86 Q992.436 1469.01 992.436 1472.76 Q992.436 1476.49 994.265 1478.67 Q996.117 1480.82 999.265 1480.82 Q1002.41 1480.82 1004.24 1478.67 Q1006.09 1476.49 1006.09 1472.76 Q1006.09 1469.01 1004.24 1466.86 Q1002.41 1464.71 999.265 1464.71 M1008.55 1450.06 L1008.55 1454.31 Q1006.79 1453.48 1004.98 1453.04 Q1003.2 1452.6 1001.44 1452.6 Q996.811 1452.6 994.357 1455.73 Q991.927 1458.85 991.58 1465.17 Q992.945 1463.16 995.006 1462.09 Q997.066 1461 999.543 1461 Q1004.75 1461 1007.76 1464.18 Q1010.79 1467.32 1010.79 1472.76 Q1010.79 1478.09 1007.64 1481.31 Q1004.5 1484.52 999.265 1484.52 Q993.269 1484.52 990.098 1479.94 Q986.927 1475.33 986.927 1466.61 Q986.927 1458.41 990.816 1453.55 Q994.705 1448.67 1001.26 1448.67 Q1003.01 1448.67 1004.8 1449.01 Q1006.6 1449.36 1008.55 1450.06 Z\" fill=\"#000000\" fill-rule=\"evenodd\" fill-opacity=\"1\" /><path clip-path=\"url(#clip090)\" d=\"M1286.31 1467.44 Q1282.98 1467.44 1281.06 1469.22 Q1279.16 1471 1279.16 1474.13 Q1279.16 1477.25 1281.06 1479.04 Q1282.98 1480.82 1286.31 1480.82 Q1289.64 1480.82 1291.57 1479.04 Q1293.49 1477.23 1293.49 1474.13 Q1293.49 1471 1291.57 1469.22 Q1289.67 1467.44 1286.31 1467.44 M1281.64 1465.45 Q1278.63 1464.71 1276.94 1462.65 Q1275.27 1460.59 1275.27 1457.63 Q1275.27 1453.48 1278.21 1451.07 Q1281.17 1448.67 1286.31 1448.67 Q1291.47 1448.67 1294.41 1451.07 Q1297.35 1453.48 1297.35 1457.63 Q1297.35 1460.59 1295.66 1462.65 Q1294 1464.71 1291.01 1465.45 Q1294.39 1466.24 1296.26 1468.53 Q1298.16 1470.82 1298.16 1474.13 Q1298.16 1479.15 1295.08 1481.84 Q1292.03 1484.52 1286.31 1484.52 Q1280.59 1484.52 1277.51 1481.84 Q1274.46 1479.15 1274.46 1474.13 Q1274.46 1470.82 1276.36 1468.53 Q1278.26 1466.24 1281.64 1465.45 M1279.92 1458.06 Q1279.92 1460.75 1281.59 1462.25 Q1283.28 1463.76 1286.31 1463.76 Q1289.32 1463.76 1291.01 1462.25 Q1292.72 1460.75 1292.72 1458.06 Q1292.72 1455.38 1291.01 1453.88 Q1289.32 1452.37 1286.31 1452.37 Q1283.28 1452.37 1281.59 1453.88 Q1279.92 1455.38 1279.92 1458.06 Z\" fill=\"#000000\" fill-rule=\"evenodd\" fill-opacity=\"1\" /><path clip-path=\"url(#clip090)\" d=\"M1548.45 1479.92 L1556.09 1479.92 L1556.09 1453.55 L1547.78 1455.22 L1547.78 1450.96 L1556.04 1449.29 L1560.72 1449.29 L1560.72 1479.92 L1568.36 1479.92 L1568.36 1483.85 L1548.45 1483.85 L1548.45 1479.92 Z\" fill=\"#000000\" fill-rule=\"evenodd\" fill-opacity=\"1\" /><path clip-path=\"url(#clip090)\" d=\"M1587.8 1452.37 Q1584.19 1452.37 1582.36 1455.94 Q1580.56 1459.48 1580.56 1466.61 Q1580.56 1473.71 1582.36 1477.28 Q1584.19 1480.82 1587.8 1480.82 Q1591.44 1480.82 1593.24 1477.28 Q1595.07 1473.71 1595.07 1466.61 Q1595.07 1459.48 1593.24 1455.94 Q1591.44 1452.37 1587.8 1452.37 M1587.8 1448.67 Q1593.61 1448.67 1596.67 1453.27 Q1599.75 1457.86 1599.75 1466.61 Q1599.75 1475.33 1596.67 1479.94 Q1593.61 1484.52 1587.8 1484.52 Q1581.99 1484.52 1578.91 1479.94 Q1575.86 1475.33 1575.86 1466.61 Q1575.86 1457.86 1578.91 1453.27 Q1581.99 1448.67 1587.8 1448.67 Z\" fill=\"#000000\" fill-rule=\"evenodd\" fill-opacity=\"1\" /><path clip-path=\"url(#clip090)\" d=\"M1836.7 1479.92 L1844.34 1479.92 L1844.34 1453.55 L1836.03 1455.22 L1836.03 1450.96 L1844.29 1449.29 L1848.97 1449.29 L1848.97 1479.92 L1856.61 1479.92 L1856.61 1483.85 L1836.7 1483.85 L1836.7 1479.92 Z\" fill=\"#000000\" fill-rule=\"evenodd\" fill-opacity=\"1\" /><path clip-path=\"url(#clip090)\" d=\"M1870.08 1479.92 L1886.4 1479.92 L1886.4 1483.85 L1864.45 1483.85 L1864.45 1479.92 Q1867.12 1477.16 1871.7 1472.53 Q1876.31 1467.88 1877.49 1466.54 Q1879.73 1464.01 1880.61 1462.28 Q1881.51 1460.52 1881.51 1458.83 Q1881.51 1456.07 1879.57 1454.34 Q1877.65 1452.6 1874.55 1452.6 Q1872.35 1452.6 1869.89 1453.37 Q1867.46 1454.13 1864.69 1455.68 L1864.69 1450.96 Q1867.51 1449.82 1869.96 1449.25 Q1872.42 1448.67 1874.45 1448.67 Q1879.82 1448.67 1883.02 1451.35 Q1886.21 1454.04 1886.21 1458.53 Q1886.21 1460.66 1885.4 1462.58 Q1884.62 1464.48 1882.51 1467.07 Q1881.93 1467.74 1878.83 1470.96 Q1875.73 1474.15 1870.08 1479.92 Z\" fill=\"#000000\" fill-rule=\"evenodd\" fill-opacity=\"1\" /><path clip-path=\"url(#clip090)\" d=\"M2123.11 1479.92 L2130.75 1479.92 L2130.75 1453.55 L2122.44 1455.22 L2122.44 1450.96 L2130.7 1449.29 L2135.38 1449.29 L2135.38 1479.92 L2143.02 1479.92 L2143.02 1483.85 L2123.11 1483.85 L2123.11 1479.92 Z\" fill=\"#000000\" fill-rule=\"evenodd\" fill-opacity=\"1\" /><path clip-path=\"url(#clip090)\" d=\"M2165.31 1453.37 L2153.5 1471.81 L2165.31 1471.81 L2165.31 1453.37 M2164.08 1449.29 L2169.96 1449.29 L2169.96 1471.81 L2174.89 1471.81 L2174.89 1475.7 L2169.96 1475.7 L2169.96 1483.85 L2165.31 1483.85 L2165.31 1475.7 L2149.71 1475.7 L2149.71 1471.19 L2164.08 1449.29 Z\" fill=\"#000000\" fill-rule=\"evenodd\" fill-opacity=\"1\" /><path clip-path=\"url(#clip090)\" d=\"M1193.05 1520.52 L1199.96 1520.52 L1211.77 1538.19 L1223.64 1520.52 L1230.55 1520.52 L1215.27 1543.34 L1231.57 1568.04 L1224.66 1568.04 L1211.29 1547.83 L1197.83 1568.04 L1190.89 1568.04 L1207.85 1542.68 L1193.05 1520.52 Z\" fill=\"#000000\" fill-rule=\"evenodd\" fill-opacity=\"1\" /><path clip-path=\"url(#clip090)\" d=\"M1276.67 1550.12 Q1269.57 1550.12 1266.83 1551.75 Q1264.09 1553.37 1264.09 1557.29 Q1264.09 1560.4 1266.13 1562.25 Q1268.2 1564.07 1271.73 1564.07 Q1276.6 1564.07 1279.53 1560.63 Q1282.49 1557.16 1282.49 1551.43 L1282.49 1550.12 L1276.67 1550.12 M1288.35 1547.71 L1288.35 1568.04 L1282.49 1568.04 L1282.49 1562.63 Q1280.49 1565.88 1277.49 1567.44 Q1274.5 1568.97 1270.17 1568.97 Q1264.7 1568.97 1261.45 1565.91 Q1258.24 1562.82 1258.24 1557.67 Q1258.24 1551.65 1262.25 1548.6 Q1266.29 1545.54 1274.28 1545.54 L1282.49 1545.54 L1282.49 1544.97 Q1282.49 1540.93 1279.82 1538.73 Q1277.18 1536.5 1272.37 1536.5 Q1269.31 1536.5 1266.42 1537.23 Q1263.52 1537.97 1260.85 1539.43 L1260.85 1534.02 Q1264.06 1532.78 1267.09 1532.17 Q1270.11 1531.54 1272.97 1531.54 Q1280.71 1531.54 1284.53 1535.55 Q1288.35 1539.56 1288.35 1547.71 Z\" fill=\"#000000\" fill-rule=\"evenodd\" fill-opacity=\"1\" /><path clip-path=\"url(#clip090)\" d=\"M1330.04 1532.4 L1317.15 1549.74 L1330.71 1568.04 L1323.81 1568.04 L1313.43 1554.04 L1303.05 1568.04 L1296.15 1568.04 L1309.99 1549.39 L1297.32 1532.4 L1304.23 1532.4 L1313.68 1545.1 L1323.14 1532.4 L1330.04 1532.4 Z\" fill=\"#000000\" fill-rule=\"evenodd\" fill-opacity=\"1\" /><path clip-path=\"url(#clip090)\" d=\"M1338.99 1532.4 L1344.84 1532.4 L1344.84 1568.04 L1338.99 1568.04 L1338.99 1532.4 M1338.99 1518.52 L1344.84 1518.52 L1344.84 1525.93 L1338.99 1525.93 L1338.99 1518.52 Z\" fill=\"#000000\" fill-rule=\"evenodd\" fill-opacity=\"1\" /><path clip-path=\"url(#clip090)\" d=\"M1379.82 1533.45 L1379.82 1538.98 Q1377.34 1537.71 1374.67 1537.07 Q1371.99 1536.44 1369.13 1536.44 Q1364.77 1536.44 1362.57 1537.77 Q1360.41 1539.11 1360.41 1541.79 Q1360.41 1543.82 1361.97 1545 Q1363.53 1546.15 1368.24 1547.2 L1370.24 1547.64 Q1376.48 1548.98 1379.09 1551.43 Q1381.73 1553.85 1381.73 1558.21 Q1381.73 1563.17 1377.79 1566.07 Q1373.87 1568.97 1367 1568.97 Q1364.13 1568.97 1361.01 1568.39 Q1357.93 1567.85 1354.49 1566.74 L1354.49 1560.69 Q1357.73 1562.38 1360.89 1563.24 Q1364.04 1564.07 1367.12 1564.07 Q1371.26 1564.07 1373.49 1562.66 Q1375.72 1561.23 1375.72 1558.65 Q1375.72 1556.27 1374.09 1554.99 Q1372.5 1553.72 1367.06 1552.54 L1365.02 1552.07 Q1359.58 1550.92 1357.16 1548.56 Q1354.74 1546.18 1354.74 1542.04 Q1354.74 1537.01 1358.31 1534.27 Q1361.87 1531.54 1368.43 1531.54 Q1371.68 1531.54 1374.54 1532.01 Q1377.4 1532.49 1379.82 1533.45 Z\" fill=\"#000000\" fill-rule=\"evenodd\" fill-opacity=\"1\" /><polyline clip-path=\"url(#clip092)\" style=\"stroke:#000000; stroke-linecap:butt; stroke-linejoin:round; stroke-width:2; stroke-opacity:0.1; fill:none\" points=\"\n",
       "  219.866,1165.21 2352.76,1165.21 \n",
       "  \"/>\n",
       "<polyline clip-path=\"url(#clip092)\" style=\"stroke:#000000; stroke-linecap:butt; stroke-linejoin:round; stroke-width:2; stroke-opacity:0.1; fill:none\" points=\"\n",
       "  219.866,889.501 2352.76,889.501 \n",
       "  \"/>\n",
       "<polyline clip-path=\"url(#clip092)\" style=\"stroke:#000000; stroke-linecap:butt; stroke-linejoin:round; stroke-width:2; stroke-opacity:0.1; fill:none\" points=\"\n",
       "  219.866,613.791 2352.76,613.791 \n",
       "  \"/>\n",
       "<polyline clip-path=\"url(#clip092)\" style=\"stroke:#000000; stroke-linecap:butt; stroke-linejoin:round; stroke-width:2; stroke-opacity:0.1; fill:none\" points=\"\n",
       "  219.866,338.081 2352.76,338.081 \n",
       "  \"/>\n",
       "<polyline clip-path=\"url(#clip090)\" style=\"stroke:#000000; stroke-linecap:butt; stroke-linejoin:round; stroke-width:4; stroke-opacity:1; fill:none\" points=\"\n",
       "  219.866,1423.18 219.866,123.472 \n",
       "  \"/>\n",
       "<polyline clip-path=\"url(#clip090)\" style=\"stroke:#000000; stroke-linecap:butt; stroke-linejoin:round; stroke-width:4; stroke-opacity:1; fill:none\" points=\"\n",
       "  219.866,1165.21 245.461,1165.21 \n",
       "  \"/>\n",
       "<polyline clip-path=\"url(#clip090)\" style=\"stroke:#000000; stroke-linecap:butt; stroke-linejoin:round; stroke-width:4; stroke-opacity:1; fill:none\" points=\"\n",
       "  219.866,889.501 245.461,889.501 \n",
       "  \"/>\n",
       "<polyline clip-path=\"url(#clip090)\" style=\"stroke:#000000; stroke-linecap:butt; stroke-linejoin:round; stroke-width:4; stroke-opacity:1; fill:none\" points=\"\n",
       "  219.866,613.791 245.461,613.791 \n",
       "  \"/>\n",
       "<polyline clip-path=\"url(#clip090)\" style=\"stroke:#000000; stroke-linecap:butt; stroke-linejoin:round; stroke-width:4; stroke-opacity:1; fill:none\" points=\"\n",
       "  219.866,338.081 245.461,338.081 \n",
       "  \"/>\n",
       "<path clip-path=\"url(#clip090)\" d=\"M128.288 1151.01 Q124.677 1151.01 122.848 1154.57 Q121.043 1158.12 121.043 1165.25 Q121.043 1172.35 122.848 1175.92 Q124.677 1179.46 128.288 1179.46 Q131.922 1179.46 133.728 1175.92 Q135.556 1172.35 135.556 1165.25 Q135.556 1158.12 133.728 1154.57 Q131.922 1151.01 128.288 1151.01 M128.288 1147.31 Q134.098 1147.31 137.154 1151.91 Q140.232 1156.5 140.232 1165.25 Q140.232 1173.97 137.154 1178.58 Q134.098 1183.16 128.288 1183.16 Q122.478 1183.16 119.399 1178.58 Q116.343 1173.97 116.343 1165.25 Q116.343 1156.5 119.399 1151.91 Q122.478 1147.31 128.288 1147.31 Z\" fill=\"#000000\" fill-rule=\"evenodd\" fill-opacity=\"1\" /><path clip-path=\"url(#clip090)\" d=\"M148.45 1176.61 L153.334 1176.61 L153.334 1182.49 L148.45 1182.49 L148.45 1176.61 Z\" fill=\"#000000\" fill-rule=\"evenodd\" fill-opacity=\"1\" /><path clip-path=\"url(#clip090)\" d=\"M167.547 1178.56 L183.866 1178.56 L183.866 1182.49 L161.922 1182.49 L161.922 1178.56 Q164.584 1175.8 169.167 1171.17 Q173.774 1166.52 174.954 1165.18 Q177.2 1162.65 178.079 1160.92 Q178.982 1159.16 178.982 1157.47 Q178.982 1154.71 177.038 1152.98 Q175.116 1151.24 172.014 1151.24 Q169.815 1151.24 167.362 1152.01 Q164.931 1152.77 162.153 1154.32 L162.153 1149.6 Q164.977 1148.46 167.431 1147.89 Q169.885 1147.31 171.922 1147.31 Q177.292 1147.31 180.487 1149.99 Q183.681 1152.68 183.681 1157.17 Q183.681 1159.3 182.871 1161.22 Q182.084 1163.12 179.977 1165.71 Q179.399 1166.38 176.297 1169.6 Q173.195 1172.79 167.547 1178.56 Z\" fill=\"#000000\" fill-rule=\"evenodd\" fill-opacity=\"1\" /><path clip-path=\"url(#clip090)\" d=\"M126.205 875.3 Q122.593 875.3 120.765 878.865 Q118.959 882.406 118.959 889.536 Q118.959 896.643 120.765 900.207 Q122.593 903.749 126.205 903.749 Q129.839 903.749 131.644 900.207 Q133.473 896.643 133.473 889.536 Q133.473 882.406 131.644 878.865 Q129.839 875.3 126.205 875.3 M126.205 871.596 Q132.015 871.596 135.07 876.203 Q138.149 880.786 138.149 889.536 Q138.149 898.263 135.07 902.869 Q132.015 907.453 126.205 907.453 Q120.394 907.453 117.316 902.869 Q114.26 898.263 114.26 889.536 Q114.26 880.786 117.316 876.203 Q120.394 871.596 126.205 871.596 Z\" fill=\"#000000\" fill-rule=\"evenodd\" fill-opacity=\"1\" /><path clip-path=\"url(#clip090)\" d=\"M146.366 900.902 L151.251 900.902 L151.251 906.781 L146.366 906.781 L146.366 900.902 Z\" fill=\"#000000\" fill-rule=\"evenodd\" fill-opacity=\"1\" /><path clip-path=\"url(#clip090)\" d=\"M174.283 876.295 L162.477 894.744 L174.283 894.744 L174.283 876.295 M173.056 872.221 L178.936 872.221 L178.936 894.744 L183.866 894.744 L183.866 898.633 L178.936 898.633 L178.936 906.781 L174.283 906.781 L174.283 898.633 L158.681 898.633 L158.681 894.119 L173.056 872.221 Z\" fill=\"#000000\" fill-rule=\"evenodd\" fill-opacity=\"1\" /><path clip-path=\"url(#clip090)\" d=\"M126.529 599.59 Q122.918 599.59 121.089 603.155 Q119.283 606.696 119.283 613.826 Q119.283 620.933 121.089 624.497 Q122.918 628.039 126.529 628.039 Q130.163 628.039 131.968 624.497 Q133.797 620.933 133.797 613.826 Q133.797 606.696 131.968 603.155 Q130.163 599.59 126.529 599.59 M126.529 595.886 Q132.339 595.886 135.394 600.493 Q138.473 605.076 138.473 613.826 Q138.473 622.553 135.394 627.159 Q132.339 631.743 126.529 631.743 Q120.718 631.743 117.64 627.159 Q114.584 622.553 114.584 613.826 Q114.584 605.076 117.64 600.493 Q120.718 595.886 126.529 595.886 Z\" fill=\"#000000\" fill-rule=\"evenodd\" fill-opacity=\"1\" /><path clip-path=\"url(#clip090)\" d=\"M146.691 625.192 L151.575 625.192 L151.575 631.071 L146.691 631.071 L146.691 625.192 Z\" fill=\"#000000\" fill-rule=\"evenodd\" fill-opacity=\"1\" /><path clip-path=\"url(#clip090)\" d=\"M172.339 611.928 Q169.19 611.928 167.339 614.081 Q165.51 616.233 165.51 619.983 Q165.51 623.71 167.339 625.886 Q169.19 628.039 172.339 628.039 Q175.487 628.039 177.315 625.886 Q179.167 623.71 179.167 619.983 Q179.167 616.233 177.315 614.081 Q175.487 611.928 172.339 611.928 M181.621 597.275 L181.621 601.534 Q179.862 600.701 178.056 600.261 Q176.274 599.822 174.514 599.822 Q169.885 599.822 167.431 602.946 Q165.001 606.071 164.653 612.391 Q166.019 610.377 168.079 609.312 Q170.139 608.224 172.616 608.224 Q177.825 608.224 180.834 611.396 Q183.866 614.544 183.866 619.983 Q183.866 625.307 180.718 628.525 Q177.57 631.743 172.339 631.743 Q166.343 631.743 163.172 627.159 Q160.001 622.553 160.001 613.826 Q160.001 605.632 163.89 600.771 Q167.778 595.886 174.329 595.886 Q176.089 595.886 177.871 596.234 Q179.676 596.581 181.621 597.275 Z\" fill=\"#000000\" fill-rule=\"evenodd\" fill-opacity=\"1\" /><path clip-path=\"url(#clip090)\" d=\"M126.783 323.88 Q123.172 323.88 121.343 327.445 Q119.538 330.986 119.538 338.116 Q119.538 345.222 121.343 348.787 Q123.172 352.329 126.783 352.329 Q130.417 352.329 132.223 348.787 Q134.052 345.222 134.052 338.116 Q134.052 330.986 132.223 327.445 Q130.417 323.88 126.783 323.88 M126.783 320.176 Q132.593 320.176 135.649 324.783 Q138.728 329.366 138.728 338.116 Q138.728 346.843 135.649 351.449 Q132.593 356.033 126.783 356.033 Q120.973 356.033 117.894 351.449 Q114.839 346.843 114.839 338.116 Q114.839 329.366 117.894 324.783 Q120.973 320.176 126.783 320.176 Z\" fill=\"#000000\" fill-rule=\"evenodd\" fill-opacity=\"1\" /><path clip-path=\"url(#clip090)\" d=\"M146.945 349.482 L151.829 349.482 L151.829 355.361 L146.945 355.361 L146.945 349.482 Z\" fill=\"#000000\" fill-rule=\"evenodd\" fill-opacity=\"1\" /><path clip-path=\"url(#clip090)\" d=\"M172.014 338.949 Q168.681 338.949 166.76 340.732 Q164.862 342.514 164.862 345.639 Q164.862 348.764 166.76 350.547 Q168.681 352.329 172.014 352.329 Q175.348 352.329 177.269 350.547 Q179.19 348.741 179.19 345.639 Q179.19 342.514 177.269 340.732 Q175.371 338.949 172.014 338.949 M167.339 336.959 Q164.329 336.218 162.64 334.158 Q160.973 332.098 160.973 329.135 Q160.973 324.991 163.913 322.584 Q166.876 320.176 172.014 320.176 Q177.176 320.176 180.116 322.584 Q183.056 324.991 183.056 329.135 Q183.056 332.098 181.366 334.158 Q179.7 336.218 176.714 336.959 Q180.093 337.746 181.968 340.037 Q183.866 342.329 183.866 345.639 Q183.866 350.662 180.788 353.347 Q177.732 356.033 172.014 356.033 Q166.297 356.033 163.218 353.347 Q160.163 350.662 160.163 345.639 Q160.163 342.329 162.061 340.037 Q163.959 337.746 167.339 336.959 M165.626 329.574 Q165.626 332.26 167.292 333.764 Q168.982 335.269 172.014 335.269 Q175.024 335.269 176.714 333.764 Q178.426 332.26 178.426 329.574 Q178.426 326.889 176.714 325.385 Q175.024 323.88 172.014 323.88 Q168.982 323.88 167.292 325.385 Q165.626 326.889 165.626 329.574 Z\" fill=\"#000000\" fill-rule=\"evenodd\" fill-opacity=\"1\" /><path clip-path=\"url(#clip090)\" d=\"M16.4842 867.363 L16.4842 860.457 L36.0269 847.28 L16.4842 834.198 L16.4842 827.291 L41.3741 844.097 L64.0042 844.097 L64.0042 850.558 L41.3741 850.558 L16.4842 867.363 Z\" fill=\"#000000\" fill-rule=\"evenodd\" fill-opacity=\"1\" /><path clip-path=\"url(#clip090)\" d=\"M46.0847 784.355 Q46.0847 791.452 47.7079 794.19 Q49.3312 796.927 53.2461 796.927 Q56.3653 796.927 58.2114 794.89 Q60.0256 792.821 60.0256 789.288 Q60.0256 784.418 56.5881 781.49 Q53.1188 778.53 47.3897 778.53 L46.0847 778.53 L46.0847 784.355 M43.6657 772.673 L64.0042 772.673 L64.0042 778.53 L58.5933 778.53 Q61.8398 780.535 63.3994 783.527 Q64.9272 786.519 64.9272 790.848 Q64.9272 796.322 61.8716 799.569 Q58.7843 802.783 53.6281 802.783 Q47.6125 802.783 44.5569 798.773 Q41.5014 794.731 41.5014 786.742 L41.5014 778.53 L40.9285 778.53 Q36.8862 778.53 34.6901 781.204 Q32.4621 783.845 32.4621 788.651 Q32.4621 791.707 33.1941 794.603 Q33.9262 797.5 35.3903 800.173 L29.9795 800.173 Q28.7381 796.959 28.1334 793.935 Q27.4968 790.911 27.4968 788.047 Q27.4968 780.312 31.5072 776.493 Q35.5176 772.673 43.6657 772.673 Z\" fill=\"#000000\" fill-rule=\"evenodd\" fill-opacity=\"1\" /><path clip-path=\"url(#clip090)\" d=\"M28.3562 730.978 L45.7028 743.869 L64.0042 730.31 L64.0042 737.217 L49.9996 747.593 L64.0042 757.969 L64.0042 764.876 L45.3526 751.03 L28.3562 763.698 L28.3562 756.791 L41.0558 747.338 L28.3562 737.885 L28.3562 730.978 Z\" fill=\"#000000\" fill-rule=\"evenodd\" fill-opacity=\"1\" /><path clip-path=\"url(#clip090)\" d=\"M28.3562 722.034 L28.3562 716.178 L64.0042 716.178 L64.0042 722.034 L28.3562 722.034 M14.479 722.034 L14.479 716.178 L21.895 716.178 L21.895 722.034 L14.479 722.034 Z\" fill=\"#000000\" fill-rule=\"evenodd\" fill-opacity=\"1\" /><path clip-path=\"url(#clip090)\" d=\"M29.4065 681.198 L34.9447 681.198 Q33.6716 683.681 33.035 686.355 Q32.3984 689.028 32.3984 691.893 Q32.3984 696.253 33.7352 698.449 Q35.072 700.614 37.7456 700.614 Q39.7826 700.614 40.9603 699.054 Q42.1061 697.495 43.1565 692.784 L43.6021 690.779 Q44.9389 684.54 47.3897 681.93 Q49.8086 679.289 54.1691 679.289 Q59.1344 679.289 62.0308 683.235 Q64.9272 687.15 64.9272 694.025 Q64.9272 696.89 64.3543 700.009 Q63.8132 703.096 62.6992 706.534 L56.6518 706.534 Q58.3387 703.287 59.198 700.136 Q60.0256 696.985 60.0256 693.898 Q60.0256 689.76 58.6251 687.532 Q57.1929 685.304 54.6147 685.304 Q52.2276 685.304 50.9545 686.927 Q49.6813 688.519 48.5037 693.962 L48.0262 695.999 Q46.8804 701.441 44.5251 703.86 Q42.138 706.279 38.0002 706.279 Q32.9713 706.279 30.2341 702.714 Q27.4968 699.15 27.4968 692.593 Q27.4968 689.346 27.9743 686.482 Q28.4517 683.617 29.4065 681.198 Z\" fill=\"#000000\" fill-rule=\"evenodd\" fill-opacity=\"1\" /><path clip-path=\"url(#clip090)\" d=\"M939.25 44.2197 Q941.883 45.1109 944.354 48.0275 Q946.866 50.9442 949.377 56.0483 L957.681 72.576 L948.891 72.576 L941.154 57.061 Q938.156 50.9847 935.32 48.9997 Q932.525 47.0148 927.664 47.0148 L918.752 47.0148 L918.752 72.576 L910.569 72.576 L910.569 12.096 L929.042 12.096 Q939.412 12.096 944.516 16.4305 Q949.62 20.7649 949.62 29.5149 Q949.62 35.2267 946.947 38.994 Q944.313 42.7613 939.25 44.2197 M918.752 18.8205 L918.752 40.2903 L929.042 40.2903 Q934.956 40.2903 937.954 37.5762 Q940.992 34.8216 940.992 29.5149 Q940.992 24.2082 937.954 21.5346 Q934.956 18.8205 929.042 18.8205 L918.752 18.8205 Z\" fill=\"#000000\" fill-rule=\"evenodd\" fill-opacity=\"1\" /><path clip-path=\"url(#clip090)\" d=\"M986.686 49.7694 Q977.652 49.7694 974.169 51.8354 Q970.685 53.9013 970.685 58.8839 Q970.685 62.8538 973.277 65.2034 Q975.911 67.5124 980.407 67.5124 Q986.605 67.5124 990.332 63.1374 Q994.099 58.7219 994.099 51.4303 L994.099 49.7694 L986.686 49.7694 M1001.55 46.6907 L1001.55 72.576 L994.099 72.576 L994.099 65.6895 Q991.547 69.8214 987.739 71.8063 Q983.931 73.7508 978.422 73.7508 Q971.455 73.7508 967.323 69.8619 Q963.231 65.9325 963.231 59.3701 Q963.231 51.7138 968.335 47.825 Q973.48 43.9361 983.648 43.9361 L994.099 43.9361 L994.099 43.2069 Q994.099 38.0623 990.696 35.2672 Q987.334 32.4315 981.217 32.4315 Q977.328 32.4315 973.642 33.3632 Q969.956 34.295 966.553 36.1584 L966.553 29.2718 Q970.644 27.692 974.493 26.9223 Q978.341 26.1121 981.987 26.1121 Q991.831 26.1121 996.692 31.2163 Q1001.55 36.3204 1001.55 46.6907 Z\" fill=\"#000000\" fill-rule=\"evenodd\" fill-opacity=\"1\" /><path clip-path=\"url(#clip090)\" d=\"M1054.62 45.1919 L1054.62 72.576 L1047.17 72.576 L1047.17 45.4349 Q1047.17 38.994 1044.65 35.7938 Q1042.14 32.5936 1037.12 32.5936 Q1031.08 32.5936 1027.6 36.4419 Q1024.12 40.2903 1024.12 46.9338 L1024.12 72.576 L1016.62 72.576 L1016.62 27.2059 L1024.12 27.2059 L1024.12 34.2544 Q1026.79 30.163 1030.4 28.1376 Q1034.04 26.1121 1038.78 26.1121 Q1046.6 26.1121 1050.61 30.9732 Q1054.62 35.7938 1054.62 45.1919 Z\" fill=\"#000000\" fill-rule=\"evenodd\" fill-opacity=\"1\" /><path clip-path=\"url(#clip090)\" d=\"M1099.34 34.0924 L1099.34 9.54393 L1106.8 9.54393 L1106.8 72.576 L1099.34 72.576 L1099.34 65.7705 Q1096.99 69.8214 1093.39 71.8063 Q1089.82 73.7508 1084.8 73.7508 Q1076.58 73.7508 1071.39 67.1883 Q1066.25 60.6258 1066.25 49.9314 Q1066.25 39.2371 1071.39 32.6746 Q1076.58 26.1121 1084.8 26.1121 Q1089.82 26.1121 1093.39 28.0971 Q1096.99 30.0415 1099.34 34.0924 M1073.94 49.9314 Q1073.94 58.1548 1077.3 62.8538 Q1080.71 67.5124 1086.62 67.5124 Q1092.54 67.5124 1095.94 62.8538 Q1099.34 58.1548 1099.34 49.9314 Q1099.34 41.7081 1095.94 37.0496 Q1092.54 32.3505 1086.62 32.3505 Q1080.71 32.3505 1077.3 37.0496 Q1073.94 41.7081 1073.94 49.9314 Z\" fill=\"#000000\" fill-rule=\"evenodd\" fill-opacity=\"1\" /><path clip-path=\"url(#clip090)\" d=\"M1139.73 32.4315 Q1133.73 32.4315 1130.25 37.1306 Q1126.77 41.7891 1126.77 49.9314 Q1126.77 58.0738 1130.21 62.7728 Q1133.69 67.4314 1139.73 67.4314 Q1145.68 67.4314 1149.17 62.7323 Q1152.65 58.0333 1152.65 49.9314 Q1152.65 41.8701 1149.17 37.1711 Q1145.68 32.4315 1139.73 32.4315 M1139.73 26.1121 Q1149.45 26.1121 1155 32.4315 Q1160.55 38.7509 1160.55 49.9314 Q1160.55 61.0714 1155 67.4314 Q1149.45 73.7508 1139.73 73.7508 Q1129.97 73.7508 1124.42 67.4314 Q1118.91 61.0714 1118.91 49.9314 Q1118.91 38.7509 1124.42 32.4315 Q1129.97 26.1121 1139.73 26.1121 Z\" fill=\"#000000\" fill-rule=\"evenodd\" fill-opacity=\"1\" /><path clip-path=\"url(#clip090)\" d=\"M1208.23 35.9153 Q1211.03 30.8922 1214.91 28.5022 Q1218.8 26.1121 1224.07 26.1121 Q1231.16 26.1121 1235.01 31.0947 Q1238.85 36.0368 1238.85 45.1919 L1238.85 72.576 L1231.36 72.576 L1231.36 45.4349 Q1231.36 38.913 1229.05 35.7533 Q1226.74 32.5936 1222 32.5936 Q1216.21 32.5936 1212.85 36.4419 Q1209.49 40.2903 1209.49 46.9338 L1209.49 72.576 L1201.99 72.576 L1201.99 45.4349 Q1201.99 38.8725 1199.68 35.7533 Q1197.37 32.5936 1192.55 32.5936 Q1186.84 32.5936 1183.48 36.4824 Q1180.12 40.3308 1180.12 46.9338 L1180.12 72.576 L1172.62 72.576 L1172.62 27.2059 L1180.12 27.2059 L1180.12 34.2544 Q1182.67 30.082 1186.23 28.0971 Q1189.8 26.1121 1194.7 26.1121 Q1199.64 26.1121 1203.09 28.6237 Q1206.57 31.1352 1208.23 35.9153 Z\" fill=\"#000000\" fill-rule=\"evenodd\" fill-opacity=\"1\" /><path clip-path=\"url(#clip090)\" d=\"M1280.09 9.54393 L1287.55 9.54393 L1287.55 72.576 L1280.09 72.576 L1280.09 9.54393 Z\" fill=\"#000000\" fill-rule=\"evenodd\" fill-opacity=\"1\" /><path clip-path=\"url(#clip090)\" d=\"M1303.14 27.2059 L1310.6 27.2059 L1310.6 72.576 L1303.14 72.576 L1303.14 27.2059 M1303.14 9.54393 L1310.6 9.54393 L1310.6 18.9825 L1303.14 18.9825 L1303.14 9.54393 Z\" fill=\"#000000\" fill-rule=\"evenodd\" fill-opacity=\"1\" /><path clip-path=\"url(#clip090)\" d=\"M1363.91 45.1919 L1363.91 72.576 L1356.45 72.576 L1356.45 45.4349 Q1356.45 38.994 1353.94 35.7938 Q1351.43 32.5936 1346.41 32.5936 Q1340.37 32.5936 1336.89 36.4419 Q1333.4 40.2903 1333.4 46.9338 L1333.4 72.576 L1325.91 72.576 L1325.91 27.2059 L1333.4 27.2059 L1333.4 34.2544 Q1336.08 30.163 1339.68 28.1376 Q1343.33 26.1121 1348.07 26.1121 Q1355.89 26.1121 1359.9 30.9732 Q1363.91 35.7938 1363.91 45.1919 Z\" fill=\"#000000\" fill-rule=\"evenodd\" fill-opacity=\"1\" /><path clip-path=\"url(#clip090)\" d=\"M1417.58 48.0275 L1417.58 51.6733 L1383.31 51.6733 Q1383.8 59.3701 1387.93 63.421 Q1392.1 67.4314 1399.51 67.4314 Q1403.81 67.4314 1407.82 66.3781 Q1411.87 65.3249 1415.84 63.2184 L1415.84 70.267 Q1411.83 71.9684 1407.62 72.8596 Q1403.4 73.7508 1399.07 73.7508 Q1388.21 73.7508 1381.85 67.4314 Q1375.53 61.1119 1375.53 50.3365 Q1375.53 39.1965 1381.53 32.6746 Q1387.56 26.1121 1397.77 26.1121 Q1406.93 26.1121 1412.23 32.0264 Q1417.58 37.9003 1417.58 48.0275 M1410.13 45.84 Q1410.05 39.7232 1406.68 36.0774 Q1403.36 32.4315 1397.85 32.4315 Q1391.61 32.4315 1387.85 35.9558 Q1384.12 39.4801 1383.55 45.8805 L1410.13 45.84 Z\" fill=\"#000000\" fill-rule=\"evenodd\" fill-opacity=\"1\" /><path clip-path=\"url(#clip090)\" d=\"M1488.84 28.9478 L1488.84 35.9153 Q1485.68 34.1734 1482.48 33.3227 Q1479.32 32.4315 1476.08 32.4315 Q1468.82 32.4315 1464.81 37.0496 Q1460.8 41.6271 1460.8 49.9314 Q1460.8 58.2358 1464.81 62.8538 Q1468.82 67.4314 1476.08 67.4314 Q1479.32 67.4314 1482.48 66.5807 Q1485.68 65.6895 1488.84 63.9476 L1488.84 70.8341 Q1485.72 72.2924 1482.35 73.0216 Q1479.03 73.7508 1475.27 73.7508 Q1465.02 73.7508 1458.98 67.3098 Q1452.95 60.8689 1452.95 49.9314 Q1452.95 38.832 1459.02 32.472 Q1465.14 26.1121 1475.75 26.1121 Q1479.19 26.1121 1482.48 26.8413 Q1485.76 27.5299 1488.84 28.9478 Z\" fill=\"#000000\" fill-rule=\"evenodd\" fill-opacity=\"1\" /><path clip-path=\"url(#clip090)\" d=\"M1539.51 45.1919 L1539.51 72.576 L1532.06 72.576 L1532.06 45.4349 Q1532.06 38.994 1529.55 35.7938 Q1527.04 32.5936 1522.01 32.5936 Q1515.98 32.5936 1512.49 36.4419 Q1509.01 40.2903 1509.01 46.9338 L1509.01 72.576 L1501.52 72.576 L1501.52 9.54393 L1509.01 9.54393 L1509.01 34.2544 Q1511.68 30.163 1515.29 28.1376 Q1518.93 26.1121 1523.67 26.1121 Q1531.49 26.1121 1535.5 30.9732 Q1539.51 35.7938 1539.51 45.1919 Z\" fill=\"#000000\" fill-rule=\"evenodd\" fill-opacity=\"1\" /><path clip-path=\"url(#clip090)\" d=\"M1575 49.7694 Q1565.97 49.7694 1562.48 51.8354 Q1559 53.9013 1559 58.8839 Q1559 62.8538 1561.59 65.2034 Q1564.22 67.5124 1568.72 67.5124 Q1574.92 67.5124 1578.64 63.1374 Q1582.41 58.7219 1582.41 51.4303 L1582.41 49.7694 L1575 49.7694 M1589.87 46.6907 L1589.87 72.576 L1582.41 72.576 L1582.41 65.6895 Q1579.86 69.8214 1576.05 71.8063 Q1572.24 73.7508 1566.73 73.7508 Q1559.77 73.7508 1555.64 69.8619 Q1551.54 65.9325 1551.54 59.3701 Q1551.54 51.7138 1556.65 47.825 Q1561.79 43.9361 1571.96 43.9361 L1582.41 43.9361 L1582.41 43.2069 Q1582.41 38.0623 1579.01 35.2672 Q1575.65 32.4315 1569.53 32.4315 Q1565.64 32.4315 1561.95 33.3632 Q1558.27 34.295 1554.87 36.1584 L1554.87 29.2718 Q1558.96 27.692 1562.81 26.9223 Q1566.65 26.1121 1570.3 26.1121 Q1580.14 26.1121 1585 31.2163 Q1589.87 36.3204 1589.87 46.6907 Z\" fill=\"#000000\" fill-rule=\"evenodd\" fill-opacity=\"1\" /><path clip-path=\"url(#clip090)\" d=\"M1631.51 34.1734 Q1630.25 33.4443 1628.75 33.1202 Q1627.3 32.7556 1625.51 32.7556 Q1619.19 32.7556 1615.79 36.8875 Q1612.43 40.9789 1612.43 48.6757 L1612.43 72.576 L1604.93 72.576 L1604.93 27.2059 L1612.43 27.2059 L1612.43 34.2544 Q1614.78 30.1225 1618.55 28.1376 Q1622.31 26.1121 1627.7 26.1121 Q1628.47 26.1121 1629.4 26.2337 Q1630.33 26.3147 1631.47 26.5172 L1631.51 34.1734 Z\" fill=\"#000000\" fill-rule=\"evenodd\" fill-opacity=\"1\" /><path clip-path=\"url(#clip090)\" d=\"M1646.7 14.324 L1646.7 27.2059 L1662.05 27.2059 L1662.05 32.9987 L1646.7 32.9987 L1646.7 57.6282 Q1646.7 63.1779 1648.2 64.7578 Q1649.74 66.3376 1654.4 66.3376 L1662.05 66.3376 L1662.05 72.576 L1654.4 72.576 Q1645.77 72.576 1642.49 69.3758 Q1639.21 66.1351 1639.21 57.6282 L1639.21 32.9987 L1633.74 32.9987 L1633.74 27.2059 L1639.21 27.2059 L1639.21 14.324 L1646.7 14.324 Z\" fill=\"#000000\" fill-rule=\"evenodd\" fill-opacity=\"1\" /><polyline clip-path=\"url(#clip092)\" style=\"stroke:#009af9; stroke-linecap:butt; stroke-linejoin:round; stroke-width:4; stroke-opacity:1; fill:none\" points=\"\n",
       "  280.231,850.802 423.957,1029.85 567.683,1117.8 711.408,1280.41 855.134,1071.26 998.86,579.154 1142.59,645.342 1286.31,1386.4 1430.04,284.275 1573.76,934.425 \n",
       "  1717.49,573.097 1861.21,998.396 2004.94,502.396 2148.67,834.942 2292.39,160.256 \n",
       "  \"/>\n",
       "<path clip-path=\"url(#clip090)\" d=\"\n",
       "M1771.36 287.756 L2281.66 287.756 L2281.66 166.796 L1771.36 166.796  Z\n",
       "  \" fill=\"#ffffff\" fill-rule=\"evenodd\" fill-opacity=\"1\"/>\n",
       "<polyline clip-path=\"url(#clip090)\" style=\"stroke:#000000; stroke-linecap:butt; stroke-linejoin:round; stroke-width:4; stroke-opacity:1; fill:none\" points=\"\n",
       "  1771.36,287.756 2281.66,287.756 2281.66,166.796 1771.36,166.796 1771.36,287.756 \n",
       "  \"/>\n",
       "<polyline clip-path=\"url(#clip090)\" style=\"stroke:#009af9; stroke-linecap:butt; stroke-linejoin:round; stroke-width:4; stroke-opacity:1; fill:none\" points=\"\n",
       "  1795.06,227.276 1937.25,227.276 \n",
       "  \"/>\n",
       "<path clip-path=\"url(#clip090)\" d=\"M1960.95 209.996 L1965.63 209.996 L1965.63 240.621 L1982.46 240.621 L1982.46 244.556 L1960.95 244.556 L1960.95 209.996 Z\" fill=\"#000000\" fill-rule=\"evenodd\" fill-opacity=\"1\" /><path clip-path=\"url(#clip090)\" d=\"M1987.18 218.63 L1991.44 218.63 L1991.44 244.556 L1987.18 244.556 L1987.18 218.63 M1987.18 208.537 L1991.44 208.537 L1991.44 213.931 L1987.18 213.931 L1987.18 208.537 Z\" fill=\"#000000\" fill-rule=\"evenodd\" fill-opacity=\"1\" /><path clip-path=\"url(#clip090)\" d=\"M2021.9 228.908 L2021.9 244.556 L2017.64 244.556 L2017.64 229.047 Q2017.64 225.366 2016.21 223.537 Q2014.77 221.709 2011.9 221.709 Q2008.45 221.709 2006.46 223.908 Q2004.47 226.107 2004.47 229.903 L2004.47 244.556 L2000.19 244.556 L2000.19 218.63 L2004.47 218.63 L2004.47 222.658 Q2006 220.32 2008.06 219.162 Q2010.14 218.005 2012.85 218.005 Q2017.32 218.005 2019.61 220.783 Q2021.9 223.537 2021.9 228.908 Z\" fill=\"#000000\" fill-rule=\"evenodd\" fill-opacity=\"1\" /><path clip-path=\"url(#clip090)\" d=\"M2052.57 230.528 L2052.57 232.611 L2032.99 232.611 Q2033.27 237.009 2035.63 239.324 Q2038.01 241.616 2042.25 241.616 Q2044.7 241.616 2046.99 241.014 Q2049.31 240.412 2051.58 239.209 L2051.58 243.236 Q2049.29 244.208 2046.88 244.718 Q2044.47 245.227 2041.99 245.227 Q2035.79 245.227 2032.16 241.616 Q2028.55 238.005 2028.55 231.847 Q2028.55 225.482 2031.97 221.755 Q2035.42 218.005 2041.25 218.005 Q2046.49 218.005 2049.52 221.385 Q2052.57 224.741 2052.57 230.528 M2048.31 229.278 Q2048.27 225.783 2046.35 223.699 Q2044.45 221.616 2041.3 221.616 Q2037.74 221.616 2035.58 223.63 Q2033.45 225.644 2033.13 229.301 L2048.31 229.278 Z\" fill=\"#000000\" fill-rule=\"evenodd\" fill-opacity=\"1\" /><path clip-path=\"url(#clip090)\" d=\"M2093.29 219.625 L2093.29 223.607 Q2091.49 222.611 2089.66 222.125 Q2087.85 221.616 2086 221.616 Q2081.86 221.616 2079.56 224.255 Q2077.27 226.871 2077.27 231.616 Q2077.27 236.361 2079.56 239 Q2081.86 241.616 2086 241.616 Q2087.85 241.616 2089.66 241.13 Q2091.49 240.621 2093.29 239.625 L2093.29 243.56 Q2091.51 244.394 2089.59 244.81 Q2087.69 245.227 2085.54 245.227 Q2079.68 245.227 2076.23 241.546 Q2072.78 237.866 2072.78 231.616 Q2072.78 225.273 2076.25 221.639 Q2079.75 218.005 2085.81 218.005 Q2087.78 218.005 2089.66 218.422 Q2091.53 218.815 2093.29 219.625 Z\" fill=\"#000000\" fill-rule=\"evenodd\" fill-opacity=\"1\" /><path clip-path=\"url(#clip090)\" d=\"M2122.25 228.908 L2122.25 244.556 L2117.99 244.556 L2117.99 229.047 Q2117.99 225.366 2116.55 223.537 Q2115.12 221.709 2112.25 221.709 Q2108.8 221.709 2106.81 223.908 Q2104.82 226.107 2104.82 229.903 L2104.82 244.556 L2100.54 244.556 L2100.54 208.537 L2104.82 208.537 L2104.82 222.658 Q2106.35 220.32 2108.41 219.162 Q2110.49 218.005 2113.2 218.005 Q2117.67 218.005 2119.96 220.783 Q2122.25 223.537 2122.25 228.908 Z\" fill=\"#000000\" fill-rule=\"evenodd\" fill-opacity=\"1\" /><path clip-path=\"url(#clip090)\" d=\"M2142.53 231.523 Q2137.36 231.523 2135.37 232.704 Q2133.38 233.884 2133.38 236.732 Q2133.38 239 2134.86 240.343 Q2136.37 241.662 2138.94 241.662 Q2142.48 241.662 2144.61 239.162 Q2146.76 236.639 2146.76 232.472 L2146.76 231.523 L2142.53 231.523 M2151.02 229.764 L2151.02 244.556 L2146.76 244.556 L2146.76 240.621 Q2145.3 242.982 2143.13 244.116 Q2140.95 245.227 2137.8 245.227 Q2133.82 245.227 2131.46 243.005 Q2129.12 240.759 2129.12 237.009 Q2129.12 232.634 2132.04 230.412 Q2134.98 228.19 2140.79 228.19 L2146.76 228.19 L2146.76 227.773 Q2146.76 224.834 2144.82 223.236 Q2142.9 221.616 2139.4 221.616 Q2137.18 221.616 2135.07 222.148 Q2132.97 222.681 2131.02 223.746 L2131.02 219.81 Q2133.36 218.908 2135.56 218.468 Q2137.76 218.005 2139.84 218.005 Q2145.47 218.005 2148.24 220.922 Q2151.02 223.838 2151.02 229.764 Z\" fill=\"#000000\" fill-rule=\"evenodd\" fill-opacity=\"1\" /><path clip-path=\"url(#clip090)\" d=\"M2174.82 222.611 Q2174.1 222.195 2173.24 222.01 Q2172.41 221.801 2171.39 221.801 Q2167.78 221.801 2165.84 224.162 Q2163.92 226.5 2163.92 230.898 L2163.92 244.556 L2159.63 244.556 L2159.63 218.63 L2163.92 218.63 L2163.92 222.658 Q2165.26 220.297 2167.41 219.162 Q2169.56 218.005 2172.64 218.005 Q2173.08 218.005 2173.61 218.074 Q2174.15 218.121 2174.79 218.236 L2174.82 222.611 Z\" fill=\"#000000\" fill-rule=\"evenodd\" fill-opacity=\"1\" /><path clip-path=\"url(#clip090)\" d=\"M2183.5 211.269 L2183.5 218.63 L2192.27 218.63 L2192.27 221.94 L2183.5 221.94 L2183.5 236.014 Q2183.5 239.185 2184.35 240.088 Q2185.23 240.991 2187.9 240.991 L2192.27 240.991 L2192.27 244.556 L2187.9 244.556 Q2182.97 244.556 2181.09 242.727 Q2179.22 240.875 2179.22 236.014 L2179.22 221.94 L2176.09 221.94 L2176.09 218.63 L2179.22 218.63 L2179.22 211.269 L2183.5 211.269 Z\" fill=\"#000000\" fill-rule=\"evenodd\" fill-opacity=\"1\" /><path clip-path=\"url(#clip090)\" d=\"M2214.35 240.621 L2221.99 240.621 L2221.99 214.255 L2213.68 215.922 L2213.68 211.662 L2221.95 209.996 L2226.62 209.996 L2226.62 240.621 L2234.26 240.621 L2234.26 244.556 L2214.35 244.556 L2214.35 240.621 Z\" fill=\"#000000\" fill-rule=\"evenodd\" fill-opacity=\"1\" /></svg>\n"
      ]
     },
     "execution_count": 65,
     "metadata": {},
     "output_type": "execute_result"
    }
   ],
   "source": [
    "plot(x,y,title=\"Random line chart\", label = \"Line chart 1\",\n",
    "xlabel=\"X axis\", ylabel=\"Y axis\")"
   ]
  },
  {
   "cell_type": "code",
   "execution_count": 66,
   "metadata": {
    "scrolled": true
   },
   "outputs": [
    {
     "data": {
      "image/svg+xml": [
       "<?xml version=\"1.0\" encoding=\"utf-8\"?>\n",
       "<svg xmlns=\"http://www.w3.org/2000/svg\" xmlns:xlink=\"http://www.w3.org/1999/xlink\" width=\"600\" height=\"400\" viewBox=\"0 0 2400 1600\">\n",
       "<defs>\n",
       "  <clipPath id=\"clip130\">\n",
       "    <rect x=\"0\" y=\"0\" width=\"2400\" height=\"1600\"/>\n",
       "  </clipPath>\n",
       "</defs>\n",
       "<path clip-path=\"url(#clip130)\" d=\"\n",
       "M0 1600 L2400 1600 L2400 0 L0 0  Z\n",
       "  \" fill=\"#ffffff\" fill-rule=\"evenodd\" fill-opacity=\"1\"/>\n",
       "<defs>\n",
       "  <clipPath id=\"clip131\">\n",
       "    <rect x=\"480\" y=\"0\" width=\"1681\" height=\"1600\"/>\n",
       "  </clipPath>\n",
       "</defs>\n",
       "<path clip-path=\"url(#clip130)\" d=\"\n",
       "M156.598 1486.45 L2352.76 1486.45 L2352.76 47.2441 L156.598 47.2441  Z\n",
       "  \" fill=\"#ffffff\" fill-rule=\"evenodd\" fill-opacity=\"1\"/>\n",
       "<defs>\n",
       "  <clipPath id=\"clip132\">\n",
       "    <rect x=\"156\" y=\"47\" width=\"2197\" height=\"1440\"/>\n",
       "  </clipPath>\n",
       "</defs>\n",
       "<polyline clip-path=\"url(#clip132)\" style=\"stroke:#000000; stroke-linecap:butt; stroke-linejoin:round; stroke-width:2; stroke-opacity:0.1; fill:none\" points=\"\n",
       "  366.743,1486.45 366.743,47.2441 \n",
       "  \"/>\n",
       "<polyline clip-path=\"url(#clip132)\" style=\"stroke:#000000; stroke-linecap:butt; stroke-linejoin:round; stroke-width:2; stroke-opacity:0.1; fill:none\" points=\"\n",
       "  662.721,1486.45 662.721,47.2441 \n",
       "  \"/>\n",
       "<polyline clip-path=\"url(#clip132)\" style=\"stroke:#000000; stroke-linecap:butt; stroke-linejoin:round; stroke-width:2; stroke-opacity:0.1; fill:none\" points=\"\n",
       "  958.699,1486.45 958.699,47.2441 \n",
       "  \"/>\n",
       "<polyline clip-path=\"url(#clip132)\" style=\"stroke:#000000; stroke-linecap:butt; stroke-linejoin:round; stroke-width:2; stroke-opacity:0.1; fill:none\" points=\"\n",
       "  1254.68,1486.45 1254.68,47.2441 \n",
       "  \"/>\n",
       "<polyline clip-path=\"url(#clip132)\" style=\"stroke:#000000; stroke-linecap:butt; stroke-linejoin:round; stroke-width:2; stroke-opacity:0.1; fill:none\" points=\"\n",
       "  1550.66,1486.45 1550.66,47.2441 \n",
       "  \"/>\n",
       "<polyline clip-path=\"url(#clip132)\" style=\"stroke:#000000; stroke-linecap:butt; stroke-linejoin:round; stroke-width:2; stroke-opacity:0.1; fill:none\" points=\"\n",
       "  1846.63,1486.45 1846.63,47.2441 \n",
       "  \"/>\n",
       "<polyline clip-path=\"url(#clip132)\" style=\"stroke:#000000; stroke-linecap:butt; stroke-linejoin:round; stroke-width:2; stroke-opacity:0.1; fill:none\" points=\"\n",
       "  2142.61,1486.45 2142.61,47.2441 \n",
       "  \"/>\n",
       "<polyline clip-path=\"url(#clip130)\" style=\"stroke:#000000; stroke-linecap:butt; stroke-linejoin:round; stroke-width:4; stroke-opacity:1; fill:none\" points=\"\n",
       "  156.598,1486.45 2352.76,1486.45 \n",
       "  \"/>\n",
       "<polyline clip-path=\"url(#clip130)\" style=\"stroke:#000000; stroke-linecap:butt; stroke-linejoin:round; stroke-width:4; stroke-opacity:1; fill:none\" points=\"\n",
       "  366.743,1486.45 366.743,1469.18 \n",
       "  \"/>\n",
       "<polyline clip-path=\"url(#clip130)\" style=\"stroke:#000000; stroke-linecap:butt; stroke-linejoin:round; stroke-width:4; stroke-opacity:1; fill:none\" points=\"\n",
       "  662.721,1486.45 662.721,1469.18 \n",
       "  \"/>\n",
       "<polyline clip-path=\"url(#clip130)\" style=\"stroke:#000000; stroke-linecap:butt; stroke-linejoin:round; stroke-width:4; stroke-opacity:1; fill:none\" points=\"\n",
       "  958.699,1486.45 958.699,1469.18 \n",
       "  \"/>\n",
       "<polyline clip-path=\"url(#clip130)\" style=\"stroke:#000000; stroke-linecap:butt; stroke-linejoin:round; stroke-width:4; stroke-opacity:1; fill:none\" points=\"\n",
       "  1254.68,1486.45 1254.68,1469.18 \n",
       "  \"/>\n",
       "<polyline clip-path=\"url(#clip130)\" style=\"stroke:#000000; stroke-linecap:butt; stroke-linejoin:round; stroke-width:4; stroke-opacity:1; fill:none\" points=\"\n",
       "  1550.66,1486.45 1550.66,1469.18 \n",
       "  \"/>\n",
       "<polyline clip-path=\"url(#clip130)\" style=\"stroke:#000000; stroke-linecap:butt; stroke-linejoin:round; stroke-width:4; stroke-opacity:1; fill:none\" points=\"\n",
       "  1846.63,1486.45 1846.63,1469.18 \n",
       "  \"/>\n",
       "<polyline clip-path=\"url(#clip130)\" style=\"stroke:#000000; stroke-linecap:butt; stroke-linejoin:round; stroke-width:4; stroke-opacity:1; fill:none\" points=\"\n",
       "  2142.61,1486.45 2142.61,1469.18 \n",
       "  \"/>\n",
       "<path clip-path=\"url(#clip130)\" d=\"M361.396 1543.18 L377.715 1543.18 L377.715 1547.12 L355.771 1547.12 L355.771 1543.18 Q358.433 1540.43 363.016 1535.8 Q367.622 1531.15 368.803 1529.81 Q371.048 1527.28 371.928 1525.55 Q372.831 1523.79 372.831 1522.1 Q372.831 1519.34 370.886 1517.61 Q368.965 1515.87 365.863 1515.87 Q363.664 1515.87 361.21 1516.63 Q358.78 1517.4 356.002 1518.95 L356.002 1514.23 Q358.826 1513.09 361.28 1512.51 Q363.733 1511.93 365.77 1511.93 Q371.141 1511.93 374.335 1514.62 Q377.53 1517.31 377.53 1521.8 Q377.53 1523.93 376.72 1525.85 Q375.932 1527.74 373.826 1530.34 Q373.247 1531.01 370.145 1534.23 Q367.044 1537.42 361.396 1543.18 Z\" fill=\"#000000\" fill-rule=\"evenodd\" fill-opacity=\"1\" /><path clip-path=\"url(#clip130)\" d=\"M665.73 1516.63 L653.925 1535.08 L665.73 1535.08 L665.73 1516.63 M664.503 1512.56 L670.383 1512.56 L670.383 1535.08 L675.313 1535.08 L675.313 1538.97 L670.383 1538.97 L670.383 1547.12 L665.73 1547.12 L665.73 1538.97 L650.128 1538.97 L650.128 1534.46 L664.503 1512.56 Z\" fill=\"#000000\" fill-rule=\"evenodd\" fill-opacity=\"1\" /><path clip-path=\"url(#clip130)\" d=\"M959.104 1527.98 Q955.956 1527.98 954.104 1530.13 Q952.275 1532.28 952.275 1536.03 Q952.275 1539.76 954.104 1541.93 Q955.956 1544.09 959.104 1544.09 Q962.252 1544.09 964.081 1541.93 Q965.933 1539.76 965.933 1536.03 Q965.933 1532.28 964.081 1530.13 Q962.252 1527.98 959.104 1527.98 M968.386 1513.32 L968.386 1517.58 Q966.627 1516.75 964.822 1516.31 Q963.039 1515.87 961.28 1515.87 Q956.65 1515.87 954.197 1519 Q951.766 1522.12 951.419 1528.44 Q952.785 1526.43 954.845 1525.36 Q956.905 1524.27 959.382 1524.27 Q964.59 1524.27 967.599 1527.44 Q970.632 1530.59 970.632 1536.03 Q970.632 1541.36 967.484 1544.57 Q964.335 1547.79 959.104 1547.79 Q953.109 1547.79 949.937 1543.21 Q946.766 1538.6 946.766 1529.87 Q946.766 1521.68 950.655 1516.82 Q954.544 1511.93 961.095 1511.93 Q962.854 1511.93 964.636 1512.28 Q966.442 1512.63 968.386 1513.32 Z\" fill=\"#000000\" fill-rule=\"evenodd\" fill-opacity=\"1\" /><path clip-path=\"url(#clip130)\" d=\"M1254.68 1530.71 Q1251.34 1530.71 1249.42 1532.49 Q1247.52 1534.27 1247.52 1537.4 Q1247.52 1540.52 1249.42 1542.31 Q1251.34 1544.09 1254.68 1544.09 Q1258.01 1544.09 1259.93 1542.31 Q1261.85 1540.5 1261.85 1537.4 Q1261.85 1534.27 1259.93 1532.49 Q1258.03 1530.71 1254.68 1530.71 M1250 1528.72 Q1246.99 1527.98 1245.3 1525.92 Q1243.64 1523.86 1243.64 1520.89 Q1243.64 1516.75 1246.58 1514.34 Q1249.54 1511.93 1254.68 1511.93 Q1259.84 1511.93 1262.78 1514.34 Q1265.72 1516.75 1265.72 1520.89 Q1265.72 1523.86 1264.03 1525.92 Q1262.36 1527.98 1259.38 1528.72 Q1262.76 1529.5 1264.63 1531.8 Q1266.53 1534.09 1266.53 1537.4 Q1266.53 1542.42 1263.45 1545.11 Q1260.39 1547.79 1254.68 1547.79 Q1248.96 1547.79 1245.88 1545.11 Q1242.83 1542.42 1242.83 1537.4 Q1242.83 1534.09 1244.72 1531.8 Q1246.62 1529.5 1250 1528.72 M1248.29 1521.33 Q1248.29 1524.02 1249.95 1525.52 Q1251.64 1527.03 1254.68 1527.03 Q1257.69 1527.03 1259.38 1525.52 Q1261.09 1524.02 1261.09 1521.33 Q1261.09 1518.65 1259.38 1517.14 Q1257.69 1515.64 1254.68 1515.64 Q1251.64 1515.64 1249.95 1517.14 Q1248.29 1518.65 1248.29 1521.33 Z\" fill=\"#000000\" fill-rule=\"evenodd\" fill-opacity=\"1\" /><path clip-path=\"url(#clip130)\" d=\"M1525.34 1543.18 L1532.98 1543.18 L1532.98 1516.82 L1524.67 1518.49 L1524.67 1514.23 L1532.94 1512.56 L1537.61 1512.56 L1537.61 1543.18 L1545.25 1543.18 L1545.25 1547.12 L1525.34 1547.12 L1525.34 1543.18 Z\" fill=\"#000000\" fill-rule=\"evenodd\" fill-opacity=\"1\" /><path clip-path=\"url(#clip130)\" d=\"M1564.69 1515.64 Q1561.08 1515.64 1559.25 1519.2 Q1557.45 1522.75 1557.45 1529.87 Q1557.45 1536.98 1559.25 1540.55 Q1561.08 1544.09 1564.69 1544.09 Q1568.33 1544.09 1570.13 1540.55 Q1571.96 1536.98 1571.96 1529.87 Q1571.96 1522.75 1570.13 1519.2 Q1568.33 1515.64 1564.69 1515.64 M1564.69 1511.93 Q1570.5 1511.93 1573.56 1516.54 Q1576.64 1521.12 1576.64 1529.87 Q1576.64 1538.6 1573.56 1543.21 Q1570.5 1547.79 1564.69 1547.79 Q1558.88 1547.79 1555.81 1543.21 Q1552.75 1538.6 1552.75 1529.87 Q1552.75 1521.12 1555.81 1516.54 Q1558.88 1511.93 1564.69 1511.93 Z\" fill=\"#000000\" fill-rule=\"evenodd\" fill-opacity=\"1\" /><path clip-path=\"url(#clip130)\" d=\"M1822.12 1543.18 L1829.76 1543.18 L1829.76 1516.82 L1821.45 1518.49 L1821.45 1514.23 L1829.71 1512.56 L1834.39 1512.56 L1834.39 1543.18 L1842.03 1543.18 L1842.03 1547.12 L1822.12 1547.12 L1822.12 1543.18 Z\" fill=\"#000000\" fill-rule=\"evenodd\" fill-opacity=\"1\" /><path clip-path=\"url(#clip130)\" d=\"M1855.5 1543.18 L1871.82 1543.18 L1871.82 1547.12 L1849.87 1547.12 L1849.87 1543.18 Q1852.54 1540.43 1857.12 1535.8 Q1861.73 1531.15 1862.91 1529.81 Q1865.15 1527.28 1866.03 1525.55 Q1866.93 1523.79 1866.93 1522.1 Q1866.93 1519.34 1864.99 1517.61 Q1863.07 1515.87 1859.97 1515.87 Q1857.77 1515.87 1855.31 1516.63 Q1852.88 1517.4 1850.11 1518.95 L1850.11 1514.23 Q1852.93 1513.09 1855.38 1512.51 Q1857.84 1511.93 1859.87 1511.93 Q1865.24 1511.93 1868.44 1514.62 Q1871.63 1517.31 1871.63 1521.8 Q1871.63 1523.93 1870.82 1525.85 Q1870.04 1527.74 1867.93 1530.34 Q1867.35 1531.01 1864.25 1534.23 Q1861.15 1537.42 1855.5 1543.18 Z\" fill=\"#000000\" fill-rule=\"evenodd\" fill-opacity=\"1\" /><path clip-path=\"url(#clip130)\" d=\"M2117.06 1543.18 L2124.69 1543.18 L2124.69 1516.82 L2116.38 1518.49 L2116.38 1514.23 L2124.65 1512.56 L2129.32 1512.56 L2129.32 1543.18 L2136.96 1543.18 L2136.96 1547.12 L2117.06 1547.12 L2117.06 1543.18 Z\" fill=\"#000000\" fill-rule=\"evenodd\" fill-opacity=\"1\" /><path clip-path=\"url(#clip130)\" d=\"M2159.25 1516.63 L2147.45 1535.08 L2159.25 1535.08 L2159.25 1516.63 M2158.03 1512.56 L2163.91 1512.56 L2163.91 1535.08 L2168.84 1535.08 L2168.84 1538.97 L2163.91 1538.97 L2163.91 1547.12 L2159.25 1547.12 L2159.25 1538.97 L2143.65 1538.97 L2143.65 1534.46 L2158.03 1512.56 Z\" fill=\"#000000\" fill-rule=\"evenodd\" fill-opacity=\"1\" /><polyline clip-path=\"url(#clip132)\" style=\"stroke:#000000; stroke-linecap:butt; stroke-linejoin:round; stroke-width:2; stroke-opacity:0.1; fill:none\" points=\"\n",
       "  156.598,1200.79 2352.76,1200.79 \n",
       "  \"/>\n",
       "<polyline clip-path=\"url(#clip132)\" style=\"stroke:#000000; stroke-linecap:butt; stroke-linejoin:round; stroke-width:2; stroke-opacity:0.1; fill:none\" points=\"\n",
       "  156.598,895.49 2352.76,895.49 \n",
       "  \"/>\n",
       "<polyline clip-path=\"url(#clip132)\" style=\"stroke:#000000; stroke-linecap:butt; stroke-linejoin:round; stroke-width:2; stroke-opacity:0.1; fill:none\" points=\"\n",
       "  156.598,590.189 2352.76,590.189 \n",
       "  \"/>\n",
       "<polyline clip-path=\"url(#clip132)\" style=\"stroke:#000000; stroke-linecap:butt; stroke-linejoin:round; stroke-width:2; stroke-opacity:0.1; fill:none\" points=\"\n",
       "  156.598,284.887 2352.76,284.887 \n",
       "  \"/>\n",
       "<polyline clip-path=\"url(#clip130)\" style=\"stroke:#000000; stroke-linecap:butt; stroke-linejoin:round; stroke-width:4; stroke-opacity:1; fill:none\" points=\"\n",
       "  156.598,1486.45 156.598,47.2441 \n",
       "  \"/>\n",
       "<polyline clip-path=\"url(#clip130)\" style=\"stroke:#000000; stroke-linecap:butt; stroke-linejoin:round; stroke-width:4; stroke-opacity:1; fill:none\" points=\"\n",
       "  156.598,1200.79 182.952,1200.79 \n",
       "  \"/>\n",
       "<polyline clip-path=\"url(#clip130)\" style=\"stroke:#000000; stroke-linecap:butt; stroke-linejoin:round; stroke-width:4; stroke-opacity:1; fill:none\" points=\"\n",
       "  156.598,895.49 182.952,895.49 \n",
       "  \"/>\n",
       "<polyline clip-path=\"url(#clip130)\" style=\"stroke:#000000; stroke-linecap:butt; stroke-linejoin:round; stroke-width:4; stroke-opacity:1; fill:none\" points=\"\n",
       "  156.598,590.189 182.952,590.189 \n",
       "  \"/>\n",
       "<polyline clip-path=\"url(#clip130)\" style=\"stroke:#000000; stroke-linecap:butt; stroke-linejoin:round; stroke-width:4; stroke-opacity:1; fill:none\" points=\"\n",
       "  156.598,284.887 182.952,284.887 \n",
       "  \"/>\n",
       "<path clip-path=\"url(#clip130)\" d=\"M65.0198 1186.59 Q61.4087 1186.59 59.58 1190.16 Q57.7745 1193.7 57.7745 1200.83 Q57.7745 1207.93 59.58 1211.5 Q61.4087 1215.04 65.0198 1215.04 Q68.6541 1215.04 70.4596 1211.5 Q72.2883 1207.93 72.2883 1200.83 Q72.2883 1193.7 70.4596 1190.16 Q68.6541 1186.59 65.0198 1186.59 M65.0198 1182.89 Q70.83 1182.89 73.8855 1187.49 Q76.9642 1192.08 76.9642 1200.83 Q76.9642 1209.55 73.8855 1214.16 Q70.83 1218.74 65.0198 1218.74 Q59.2097 1218.74 56.131 1214.16 Q53.0754 1209.55 53.0754 1200.83 Q53.0754 1192.08 56.131 1187.49 Q59.2097 1182.89 65.0198 1182.89 Z\" fill=\"#000000\" fill-rule=\"evenodd\" fill-opacity=\"1\" /><path clip-path=\"url(#clip130)\" d=\"M85.1818 1212.19 L90.066 1212.19 L90.066 1218.07 L85.1818 1218.07 L85.1818 1212.19 Z\" fill=\"#000000\" fill-rule=\"evenodd\" fill-opacity=\"1\" /><path clip-path=\"url(#clip130)\" d=\"M104.279 1214.14 L120.598 1214.14 L120.598 1218.07 L98.6539 1218.07 L98.6539 1214.14 Q101.316 1211.38 105.899 1206.75 Q110.506 1202.1 111.686 1200.76 Q113.932 1198.23 114.811 1196.5 Q115.714 1194.74 115.714 1193.05 Q115.714 1190.29 113.77 1188.56 Q111.848 1186.82 108.746 1186.82 Q106.547 1186.82 104.094 1187.59 Q101.663 1188.35 98.8854 1189.9 L98.8854 1185.18 Q101.709 1184.04 104.163 1183.47 Q106.617 1182.89 108.654 1182.89 Q114.024 1182.89 117.219 1185.57 Q120.413 1188.26 120.413 1192.75 Q120.413 1194.88 119.603 1196.8 Q118.816 1198.7 116.709 1201.29 Q116.131 1201.96 113.029 1205.18 Q109.927 1208.37 104.279 1214.14 Z\" fill=\"#000000\" fill-rule=\"evenodd\" fill-opacity=\"1\" /><path clip-path=\"url(#clip130)\" d=\"M62.9365 881.289 Q59.3254 881.289 57.4967 884.854 Q55.6912 888.395 55.6912 895.525 Q55.6912 902.631 57.4967 906.196 Q59.3254 909.738 62.9365 909.738 Q66.5707 909.738 68.3763 906.196 Q70.205 902.631 70.205 895.525 Q70.205 888.395 68.3763 884.854 Q66.5707 881.289 62.9365 881.289 M62.9365 877.585 Q68.7467 877.585 71.8022 882.192 Q74.8809 886.775 74.8809 895.525 Q74.8809 904.252 71.8022 908.858 Q68.7467 913.442 62.9365 913.442 Q57.1264 913.442 54.0477 908.858 Q50.9921 904.252 50.9921 895.525 Q50.9921 886.775 54.0477 882.192 Q57.1264 877.585 62.9365 877.585 Z\" fill=\"#000000\" fill-rule=\"evenodd\" fill-opacity=\"1\" /><path clip-path=\"url(#clip130)\" d=\"M83.0984 906.891 L87.9827 906.891 L87.9827 912.77 L83.0984 912.77 L83.0984 906.891 Z\" fill=\"#000000\" fill-rule=\"evenodd\" fill-opacity=\"1\" /><path clip-path=\"url(#clip130)\" d=\"M111.015 882.284 L99.2095 900.733 L111.015 900.733 L111.015 882.284 M109.788 878.21 L115.668 878.21 L115.668 900.733 L120.598 900.733 L120.598 904.622 L115.668 904.622 L115.668 912.77 L111.015 912.77 L111.015 904.622 L95.4132 904.622 L95.4132 900.108 L109.788 878.21 Z\" fill=\"#000000\" fill-rule=\"evenodd\" fill-opacity=\"1\" /><path clip-path=\"url(#clip130)\" d=\"M63.2606 575.987 Q59.6495 575.987 57.8208 579.552 Q56.0152 583.094 56.0152 590.223 Q56.0152 597.33 57.8208 600.895 Q59.6495 604.436 63.2606 604.436 Q66.8948 604.436 68.7004 600.895 Q70.5291 597.33 70.5291 590.223 Q70.5291 583.094 68.7004 579.552 Q66.8948 575.987 63.2606 575.987 M63.2606 572.284 Q69.0707 572.284 72.1263 576.89 Q75.205 581.473 75.205 590.223 Q75.205 598.95 72.1263 603.557 Q69.0707 608.14 63.2606 608.14 Q57.4504 608.14 54.3717 603.557 Q51.3162 598.95 51.3162 590.223 Q51.3162 581.473 54.3717 576.89 Q57.4504 572.284 63.2606 572.284 Z\" fill=\"#000000\" fill-rule=\"evenodd\" fill-opacity=\"1\" /><path clip-path=\"url(#clip130)\" d=\"M83.4225 601.589 L88.3067 601.589 L88.3067 607.469 L83.4225 607.469 L83.4225 601.589 Z\" fill=\"#000000\" fill-rule=\"evenodd\" fill-opacity=\"1\" /><path clip-path=\"url(#clip130)\" d=\"M109.071 588.325 Q105.922 588.325 104.071 590.478 Q102.242 592.631 102.242 596.381 Q102.242 600.108 104.071 602.284 Q105.922 604.436 109.071 604.436 Q112.219 604.436 114.047 602.284 Q115.899 600.108 115.899 596.381 Q115.899 592.631 114.047 590.478 Q112.219 588.325 109.071 588.325 M118.353 573.673 L118.353 577.932 Q116.594 577.098 114.788 576.659 Q113.006 576.219 111.246 576.219 Q106.617 576.219 104.163 579.344 Q101.733 582.469 101.385 588.788 Q102.751 586.774 104.811 585.71 Q106.871 584.622 109.348 584.622 Q114.557 584.622 117.566 587.793 Q120.598 590.941 120.598 596.381 Q120.598 601.705 117.45 604.922 Q114.302 608.14 109.071 608.14 Q103.075 608.14 99.9039 603.557 Q96.7326 598.95 96.7326 590.223 Q96.7326 582.029 100.621 577.168 Q104.51 572.284 111.061 572.284 Q112.82 572.284 114.603 572.631 Q116.408 572.978 118.353 573.673 Z\" fill=\"#000000\" fill-rule=\"evenodd\" fill-opacity=\"1\" /><path clip-path=\"url(#clip130)\" d=\"M63.5152 270.686 Q59.9041 270.686 58.0754 274.251 Q56.2699 277.792 56.2699 284.922 Q56.2699 292.028 58.0754 295.593 Q59.9041 299.135 63.5152 299.135 Q67.1494 299.135 68.955 295.593 Q70.7837 292.028 70.7837 284.922 Q70.7837 277.792 68.955 274.251 Q67.1494 270.686 63.5152 270.686 M63.5152 266.982 Q69.3254 266.982 72.3809 271.589 Q75.4596 276.172 75.4596 284.922 Q75.4596 293.649 72.3809 298.255 Q69.3254 302.838 63.5152 302.838 Q57.7051 302.838 54.6264 298.255 Q51.5708 293.649 51.5708 284.922 Q51.5708 276.172 54.6264 271.589 Q57.7051 266.982 63.5152 266.982 Z\" fill=\"#000000\" fill-rule=\"evenodd\" fill-opacity=\"1\" /><path clip-path=\"url(#clip130)\" d=\"M83.6771 296.287 L88.5614 296.287 L88.5614 302.167 L83.6771 302.167 L83.6771 296.287 Z\" fill=\"#000000\" fill-rule=\"evenodd\" fill-opacity=\"1\" /><path clip-path=\"url(#clip130)\" d=\"M108.746 285.755 Q105.413 285.755 103.492 287.537 Q101.594 289.32 101.594 292.445 Q101.594 295.57 103.492 297.352 Q105.413 299.135 108.746 299.135 Q112.08 299.135 114.001 297.352 Q115.922 295.547 115.922 292.445 Q115.922 289.32 114.001 287.537 Q112.103 285.755 108.746 285.755 M104.071 283.764 Q101.061 283.024 99.3715 280.963 Q97.7048 278.903 97.7048 275.94 Q97.7048 271.797 100.645 269.389 Q103.608 266.982 108.746 266.982 Q113.908 266.982 116.848 269.389 Q119.788 271.797 119.788 275.94 Q119.788 278.903 118.098 280.963 Q116.432 283.024 113.445 283.764 Q116.825 284.551 118.7 286.843 Q120.598 289.135 120.598 292.445 Q120.598 297.468 117.52 300.153 Q114.464 302.838 108.746 302.838 Q103.029 302.838 99.9502 300.153 Q96.8947 297.468 96.8947 292.445 Q96.8947 289.135 98.7928 286.843 Q100.691 284.551 104.071 283.764 M102.358 276.38 Q102.358 279.065 104.024 280.57 Q105.714 282.075 108.746 282.075 Q111.756 282.075 113.445 280.57 Q115.158 279.065 115.158 276.38 Q115.158 273.695 113.445 272.19 Q111.756 270.686 108.746 270.686 Q105.714 270.686 104.024 272.19 Q102.358 273.695 102.358 276.38 Z\" fill=\"#000000\" fill-rule=\"evenodd\" fill-opacity=\"1\" /><circle clip-path=\"url(#clip132)\" cx=\"218.754\" cy=\"852.637\" r=\"14\" fill=\"#009af9\" fill-rule=\"evenodd\" fill-opacity=\"1\" stroke=\"#000000\" stroke-opacity=\"1\" stroke-width=\"3.2\"/>\n",
       "<circle clip-path=\"url(#clip132)\" cx=\"366.743\" cy=\"1050.9\" r=\"14\" fill=\"#009af9\" fill-rule=\"evenodd\" fill-opacity=\"1\" stroke=\"#000000\" stroke-opacity=\"1\" stroke-width=\"3.2\"/>\n",
       "<circle clip-path=\"url(#clip132)\" cx=\"514.732\" cy=\"1148.29\" r=\"14\" fill=\"#009af9\" fill-rule=\"evenodd\" fill-opacity=\"1\" stroke=\"#000000\" stroke-opacity=\"1\" stroke-width=\"3.2\"/>\n",
       "<circle clip-path=\"url(#clip132)\" cx=\"662.721\" cy=\"1328.35\" r=\"14\" fill=\"#009af9\" fill-rule=\"evenodd\" fill-opacity=\"1\" stroke=\"#000000\" stroke-opacity=\"1\" stroke-width=\"3.2\"/>\n",
       "<circle clip-path=\"url(#clip132)\" cx=\"810.71\" cy=\"1096.76\" r=\"14\" fill=\"#009af9\" fill-rule=\"evenodd\" fill-opacity=\"1\" stroke=\"#000000\" stroke-opacity=\"1\" stroke-width=\"3.2\"/>\n",
       "<circle clip-path=\"url(#clip132)\" cx=\"958.699\" cy=\"551.834\" r=\"14\" fill=\"#009af9\" fill-rule=\"evenodd\" fill-opacity=\"1\" stroke=\"#000000\" stroke-opacity=\"1\" stroke-width=\"3.2\"/>\n",
       "<circle clip-path=\"url(#clip132)\" cx=\"1106.69\" cy=\"625.126\" r=\"14\" fill=\"#009af9\" fill-rule=\"evenodd\" fill-opacity=\"1\" stroke=\"#000000\" stroke-opacity=\"1\" stroke-width=\"3.2\"/>\n",
       "<circle clip-path=\"url(#clip132)\" cx=\"1254.68\" cy=\"1445.72\" r=\"14\" fill=\"#009af9\" fill-rule=\"evenodd\" fill-opacity=\"1\" stroke=\"#000000\" stroke-opacity=\"1\" stroke-width=\"3.2\"/>\n",
       "<circle clip-path=\"url(#clip132)\" cx=\"1402.67\" cy=\"225.306\" r=\"14\" fill=\"#009af9\" fill-rule=\"evenodd\" fill-opacity=\"1\" stroke=\"#000000\" stroke-opacity=\"1\" stroke-width=\"3.2\"/>\n",
       "<circle clip-path=\"url(#clip132)\" cx=\"1550.66\" cy=\"945.236\" r=\"14\" fill=\"#009af9\" fill-rule=\"evenodd\" fill-opacity=\"1\" stroke=\"#000000\" stroke-opacity=\"1\" stroke-width=\"3.2\"/>\n",
       "<circle clip-path=\"url(#clip132)\" cx=\"1698.64\" cy=\"545.126\" r=\"14\" fill=\"#009af9\" fill-rule=\"evenodd\" fill-opacity=\"1\" stroke=\"#000000\" stroke-opacity=\"1\" stroke-width=\"3.2\"/>\n",
       "<circle clip-path=\"url(#clip132)\" cx=\"1846.63\" cy=\"1016.07\" r=\"14\" fill=\"#009af9\" fill-rule=\"evenodd\" fill-opacity=\"1\" stroke=\"#000000\" stroke-opacity=\"1\" stroke-width=\"3.2\"/>\n",
       "<circle clip-path=\"url(#clip132)\" cx=\"1994.62\" cy=\"466.837\" r=\"14\" fill=\"#009af9\" fill-rule=\"evenodd\" fill-opacity=\"1\" stroke=\"#000000\" stroke-opacity=\"1\" stroke-width=\"3.2\"/>\n",
       "<circle clip-path=\"url(#clip132)\" cx=\"2142.61\" cy=\"835.075\" r=\"14\" fill=\"#009af9\" fill-rule=\"evenodd\" fill-opacity=\"1\" stroke=\"#000000\" stroke-opacity=\"1\" stroke-width=\"3.2\"/>\n",
       "<circle clip-path=\"url(#clip132)\" cx=\"2290.6\" cy=\"87.9763\" r=\"14\" fill=\"#009af9\" fill-rule=\"evenodd\" fill-opacity=\"1\" stroke=\"#000000\" stroke-opacity=\"1\" stroke-width=\"3.2\"/>\n",
       "<path clip-path=\"url(#clip130)\" d=\"\n",
       "M1983.1 216.178 L2279.55 216.178 L2279.55 95.2176 L1983.1 95.2176  Z\n",
       "  \" fill=\"#ffffff\" fill-rule=\"evenodd\" fill-opacity=\"1\"/>\n",
       "<polyline clip-path=\"url(#clip130)\" style=\"stroke:#000000; stroke-linecap:butt; stroke-linejoin:round; stroke-width:4; stroke-opacity:1; fill:none\" points=\"\n",
       "  1983.1,216.178 2279.55,216.178 2279.55,95.2176 1983.1,95.2176 1983.1,216.178 \n",
       "  \"/>\n",
       "<circle clip-path=\"url(#clip130)\" cx=\"2080.71\" cy=\"155.698\" r=\"23\" fill=\"#009af9\" fill-rule=\"evenodd\" fill-opacity=\"1\" stroke=\"#000000\" stroke-opacity=\"1\" stroke-width=\"5.12\"/>\n",
       "<path clip-path=\"url(#clip130)\" d=\"M2192.16 175.385 Q2190.35 180.015 2188.64 181.427 Q2186.93 182.839 2184.06 182.839 L2180.65 182.839 L2180.65 179.274 L2183.15 179.274 Q2184.91 179.274 2185.89 178.44 Q2186.86 177.607 2188.04 174.505 L2188.8 172.561 L2178.32 147.052 L2182.83 147.052 L2190.93 167.329 L2199.03 147.052 L2203.55 147.052 L2192.16 175.385 Z\" fill=\"#000000\" fill-rule=\"evenodd\" fill-opacity=\"1\" /><path clip-path=\"url(#clip130)\" d=\"M2210.84 169.042 L2218.48 169.042 L2218.48 142.677 L2210.17 144.343 L2210.17 140.084 L2218.43 138.418 L2223.11 138.418 L2223.11 169.042 L2230.75 169.042 L2230.75 172.978 L2210.84 172.978 L2210.84 169.042 Z\" fill=\"#000000\" fill-rule=\"evenodd\" fill-opacity=\"1\" /></svg>\n"
      ]
     },
     "execution_count": 66,
     "metadata": {},
     "output_type": "execute_result"
    }
   ],
   "source": [
    "scatter(x,y)"
   ]
  },
  {
   "cell_type": "code",
   "execution_count": 67,
   "metadata": {},
   "outputs": [
    {
     "data": {
      "image/svg+xml": [
       "<?xml version=\"1.0\" encoding=\"utf-8\"?>\n",
       "<svg xmlns=\"http://www.w3.org/2000/svg\" xmlns:xlink=\"http://www.w3.org/1999/xlink\" width=\"600\" height=\"400\" viewBox=\"0 0 2400 1600\">\n",
       "<defs>\n",
       "  <clipPath id=\"clip170\">\n",
       "    <rect x=\"0\" y=\"0\" width=\"2400\" height=\"1600\"/>\n",
       "  </clipPath>\n",
       "</defs>\n",
       "<path clip-path=\"url(#clip170)\" d=\"\n",
       "M0 1600 L2400 1600 L2400 0 L0 0  Z\n",
       "  \" fill=\"#ffffff\" fill-rule=\"evenodd\" fill-opacity=\"1\"/>\n",
       "<defs>\n",
       "  <clipPath id=\"clip171\">\n",
       "    <rect x=\"480\" y=\"0\" width=\"1681\" height=\"1600\"/>\n",
       "  </clipPath>\n",
       "</defs>\n",
       "<path clip-path=\"url(#clip170)\" d=\"\n",
       "M156.598 1486.45 L2352.76 1486.45 L2352.76 47.2441 L156.598 47.2441  Z\n",
       "  \" fill=\"#ffffff\" fill-rule=\"evenodd\" fill-opacity=\"1\"/>\n",
       "<defs>\n",
       "  <clipPath id=\"clip172\">\n",
       "    <rect x=\"156\" y=\"47\" width=\"2197\" height=\"1440\"/>\n",
       "  </clipPath>\n",
       "</defs>\n",
       "<polyline clip-path=\"url(#clip172)\" style=\"stroke:#000000; stroke-linecap:butt; stroke-linejoin:round; stroke-width:2; stroke-opacity:0.1; fill:none\" points=\"\n",
       "  198.151,1486.45 198.151,47.2441 \n",
       "  \"/>\n",
       "<polyline clip-path=\"url(#clip172)\" style=\"stroke:#000000; stroke-linecap:butt; stroke-linejoin:round; stroke-width:2; stroke-opacity:0.1; fill:none\" points=\"\n",
       "  858.48,1486.45 858.48,47.2441 \n",
       "  \"/>\n",
       "<polyline clip-path=\"url(#clip172)\" style=\"stroke:#000000; stroke-linecap:butt; stroke-linejoin:round; stroke-width:2; stroke-opacity:0.1; fill:none\" points=\"\n",
       "  1518.81,1486.45 1518.81,47.2441 \n",
       "  \"/>\n",
       "<polyline clip-path=\"url(#clip172)\" style=\"stroke:#000000; stroke-linecap:butt; stroke-linejoin:round; stroke-width:2; stroke-opacity:0.1; fill:none\" points=\"\n",
       "  2179.14,1486.45 2179.14,47.2441 \n",
       "  \"/>\n",
       "<polyline clip-path=\"url(#clip170)\" style=\"stroke:#000000; stroke-linecap:butt; stroke-linejoin:round; stroke-width:4; stroke-opacity:1; fill:none\" points=\"\n",
       "  156.598,1486.45 2352.76,1486.45 \n",
       "  \"/>\n",
       "<polyline clip-path=\"url(#clip170)\" style=\"stroke:#000000; stroke-linecap:butt; stroke-linejoin:round; stroke-width:4; stroke-opacity:1; fill:none\" points=\"\n",
       "  198.151,1486.45 198.151,1469.18 \n",
       "  \"/>\n",
       "<polyline clip-path=\"url(#clip170)\" style=\"stroke:#000000; stroke-linecap:butt; stroke-linejoin:round; stroke-width:4; stroke-opacity:1; fill:none\" points=\"\n",
       "  858.48,1486.45 858.48,1469.18 \n",
       "  \"/>\n",
       "<polyline clip-path=\"url(#clip170)\" style=\"stroke:#000000; stroke-linecap:butt; stroke-linejoin:round; stroke-width:4; stroke-opacity:1; fill:none\" points=\"\n",
       "  1518.81,1486.45 1518.81,1469.18 \n",
       "  \"/>\n",
       "<polyline clip-path=\"url(#clip170)\" style=\"stroke:#000000; stroke-linecap:butt; stroke-linejoin:round; stroke-width:4; stroke-opacity:1; fill:none\" points=\"\n",
       "  2179.14,1486.45 2179.14,1469.18 \n",
       "  \"/>\n",
       "<path clip-path=\"url(#clip170)\" d=\"M198.151 1515.64 Q194.54 1515.64 192.712 1519.2 Q190.906 1522.75 190.906 1529.87 Q190.906 1536.98 192.712 1540.55 Q194.54 1544.09 198.151 1544.09 Q201.786 1544.09 203.591 1540.55 Q205.42 1536.98 205.42 1529.87 Q205.42 1522.75 203.591 1519.2 Q201.786 1515.64 198.151 1515.64 M198.151 1511.93 Q203.962 1511.93 207.017 1516.54 Q210.096 1521.12 210.096 1529.87 Q210.096 1538.6 207.017 1543.21 Q203.962 1547.79 198.151 1547.79 Q192.341 1547.79 189.263 1543.21 Q186.207 1538.6 186.207 1529.87 Q186.207 1521.12 189.263 1516.54 Q192.341 1511.93 198.151 1511.93 Z\" fill=\"#000000\" fill-rule=\"evenodd\" fill-opacity=\"1\" /><path clip-path=\"url(#clip170)\" d=\"M848.758 1512.56 L867.114 1512.56 L867.114 1516.5 L853.04 1516.5 L853.04 1524.97 Q854.059 1524.62 855.077 1524.46 Q856.096 1524.27 857.114 1524.27 Q862.901 1524.27 866.281 1527.44 Q869.66 1530.62 869.66 1536.03 Q869.66 1541.61 866.188 1544.71 Q862.716 1547.79 856.397 1547.79 Q854.221 1547.79 851.952 1547.42 Q849.707 1547.05 847.299 1546.31 L847.299 1541.61 Q849.383 1542.74 851.605 1543.3 Q853.827 1543.86 856.304 1543.86 Q860.309 1543.86 862.647 1541.75 Q864.985 1539.64 864.985 1536.03 Q864.985 1532.42 862.647 1530.31 Q860.309 1528.21 856.304 1528.21 Q854.429 1528.21 852.554 1528.62 Q850.702 1529.04 848.758 1529.92 L848.758 1512.56 Z\" fill=\"#000000\" fill-rule=\"evenodd\" fill-opacity=\"1\" /><path clip-path=\"url(#clip170)\" d=\"M1493.5 1543.18 L1501.13 1543.18 L1501.13 1516.82 L1492.82 1518.49 L1492.82 1514.23 L1501.09 1512.56 L1505.76 1512.56 L1505.76 1543.18 L1513.4 1543.18 L1513.4 1547.12 L1493.5 1547.12 L1493.5 1543.18 Z\" fill=\"#000000\" fill-rule=\"evenodd\" fill-opacity=\"1\" /><path clip-path=\"url(#clip170)\" d=\"M1532.85 1515.64 Q1529.24 1515.64 1527.41 1519.2 Q1525.6 1522.75 1525.6 1529.87 Q1525.6 1536.98 1527.41 1540.55 Q1529.24 1544.09 1532.85 1544.09 Q1536.48 1544.09 1538.29 1540.55 Q1540.12 1536.98 1540.12 1529.87 Q1540.12 1522.75 1538.29 1519.2 Q1536.48 1515.64 1532.85 1515.64 M1532.85 1511.93 Q1538.66 1511.93 1541.71 1516.54 Q1544.79 1521.12 1544.79 1529.87 Q1544.79 1538.6 1541.71 1543.21 Q1538.66 1547.79 1532.85 1547.79 Q1527.04 1547.79 1523.96 1543.21 Q1520.9 1538.6 1520.9 1529.87 Q1520.9 1521.12 1523.96 1516.54 Q1527.04 1511.93 1532.85 1511.93 Z\" fill=\"#000000\" fill-rule=\"evenodd\" fill-opacity=\"1\" /><path clip-path=\"url(#clip170)\" d=\"M2154.32 1543.18 L2161.96 1543.18 L2161.96 1516.82 L2153.65 1518.49 L2153.65 1514.23 L2161.91 1512.56 L2166.59 1512.56 L2166.59 1543.18 L2174.23 1543.18 L2174.23 1547.12 L2154.32 1547.12 L2154.32 1543.18 Z\" fill=\"#000000\" fill-rule=\"evenodd\" fill-opacity=\"1\" /><path clip-path=\"url(#clip170)\" d=\"M2183.72 1512.56 L2202.08 1512.56 L2202.08 1516.5 L2188 1516.5 L2188 1524.97 Q2189.02 1524.62 2190.04 1524.46 Q2191.06 1524.27 2192.08 1524.27 Q2197.86 1524.27 2201.24 1527.44 Q2204.62 1530.62 2204.62 1536.03 Q2204.62 1541.61 2201.15 1544.71 Q2197.68 1547.79 2191.36 1547.79 Q2189.18 1547.79 2186.91 1547.42 Q2184.67 1547.05 2182.26 1546.31 L2182.26 1541.61 Q2184.35 1542.74 2186.57 1543.3 Q2188.79 1543.86 2191.27 1543.86 Q2195.27 1543.86 2197.61 1541.75 Q2199.95 1539.64 2199.95 1536.03 Q2199.95 1532.42 2197.61 1530.31 Q2195.27 1528.21 2191.27 1528.21 Q2189.39 1528.21 2187.52 1528.62 Q2185.66 1529.04 2183.72 1529.92 L2183.72 1512.56 Z\" fill=\"#000000\" fill-rule=\"evenodd\" fill-opacity=\"1\" /><polyline clip-path=\"url(#clip172)\" style=\"stroke:#000000; stroke-linecap:butt; stroke-linejoin:round; stroke-width:2; stroke-opacity:0.1; fill:none\" points=\"\n",
       "  156.598,1445.72 2352.76,1445.72 \n",
       "  \"/>\n",
       "<polyline clip-path=\"url(#clip172)\" style=\"stroke:#000000; stroke-linecap:butt; stroke-linejoin:round; stroke-width:2; stroke-opacity:0.1; fill:none\" points=\"\n",
       "  156.598,1153.41 2352.76,1153.41 \n",
       "  \"/>\n",
       "<polyline clip-path=\"url(#clip172)\" style=\"stroke:#000000; stroke-linecap:butt; stroke-linejoin:round; stroke-width:2; stroke-opacity:0.1; fill:none\" points=\"\n",
       "  156.598,861.11 2352.76,861.11 \n",
       "  \"/>\n",
       "<polyline clip-path=\"url(#clip172)\" style=\"stroke:#000000; stroke-linecap:butt; stroke-linejoin:round; stroke-width:2; stroke-opacity:0.1; fill:none\" points=\"\n",
       "  156.598,568.806 2352.76,568.806 \n",
       "  \"/>\n",
       "<polyline clip-path=\"url(#clip172)\" style=\"stroke:#000000; stroke-linecap:butt; stroke-linejoin:round; stroke-width:2; stroke-opacity:0.1; fill:none\" points=\"\n",
       "  156.598,276.503 2352.76,276.503 \n",
       "  \"/>\n",
       "<polyline clip-path=\"url(#clip170)\" style=\"stroke:#000000; stroke-linecap:butt; stroke-linejoin:round; stroke-width:4; stroke-opacity:1; fill:none\" points=\"\n",
       "  156.598,1486.45 156.598,47.2441 \n",
       "  \"/>\n",
       "<polyline clip-path=\"url(#clip170)\" style=\"stroke:#000000; stroke-linecap:butt; stroke-linejoin:round; stroke-width:4; stroke-opacity:1; fill:none\" points=\"\n",
       "  156.598,1445.72 182.952,1445.72 \n",
       "  \"/>\n",
       "<polyline clip-path=\"url(#clip170)\" style=\"stroke:#000000; stroke-linecap:butt; stroke-linejoin:round; stroke-width:4; stroke-opacity:1; fill:none\" points=\"\n",
       "  156.598,1153.41 182.952,1153.41 \n",
       "  \"/>\n",
       "<polyline clip-path=\"url(#clip170)\" style=\"stroke:#000000; stroke-linecap:butt; stroke-linejoin:round; stroke-width:4; stroke-opacity:1; fill:none\" points=\"\n",
       "  156.598,861.11 182.952,861.11 \n",
       "  \"/>\n",
       "<polyline clip-path=\"url(#clip170)\" style=\"stroke:#000000; stroke-linecap:butt; stroke-linejoin:round; stroke-width:4; stroke-opacity:1; fill:none\" points=\"\n",
       "  156.598,568.806 182.952,568.806 \n",
       "  \"/>\n",
       "<polyline clip-path=\"url(#clip170)\" style=\"stroke:#000000; stroke-linecap:butt; stroke-linejoin:round; stroke-width:4; stroke-opacity:1; fill:none\" points=\"\n",
       "  156.598,276.503 182.952,276.503 \n",
       "  \"/>\n",
       "<path clip-path=\"url(#clip170)\" d=\"M63.4226 1431.51 Q59.8115 1431.51 57.9828 1435.08 Q56.1773 1438.62 56.1773 1445.75 Q56.1773 1452.86 57.9828 1456.42 Q59.8115 1459.96 63.4226 1459.96 Q67.0569 1459.96 68.8624 1456.42 Q70.6911 1452.86 70.6911 1445.75 Q70.6911 1438.62 68.8624 1435.08 Q67.0569 1431.51 63.4226 1431.51 M63.4226 1427.81 Q69.2328 1427.81 72.2883 1432.42 Q75.367 1437 75.367 1445.75 Q75.367 1454.48 72.2883 1459.08 Q69.2328 1463.67 63.4226 1463.67 Q57.6125 1463.67 54.5338 1459.08 Q51.4782 1454.48 51.4782 1445.75 Q51.4782 1437 54.5338 1432.42 Q57.6125 1427.81 63.4226 1427.81 Z\" fill=\"#000000\" fill-rule=\"evenodd\" fill-opacity=\"1\" /><path clip-path=\"url(#clip170)\" d=\"M83.5845 1457.12 L88.4688 1457.12 L88.4688 1463 L83.5845 1463 L83.5845 1457.12 Z\" fill=\"#000000\" fill-rule=\"evenodd\" fill-opacity=\"1\" /><path clip-path=\"url(#clip170)\" d=\"M108.654 1431.51 Q105.043 1431.51 103.214 1435.08 Q101.409 1438.62 101.409 1445.75 Q101.409 1452.86 103.214 1456.42 Q105.043 1459.96 108.654 1459.96 Q112.288 1459.96 114.094 1456.42 Q115.922 1452.86 115.922 1445.75 Q115.922 1438.62 114.094 1435.08 Q112.288 1431.51 108.654 1431.51 M108.654 1427.81 Q114.464 1427.81 117.52 1432.42 Q120.598 1437 120.598 1445.75 Q120.598 1454.48 117.52 1459.08 Q114.464 1463.67 108.654 1463.67 Q102.844 1463.67 99.765 1459.08 Q96.7095 1454.48 96.7095 1445.75 Q96.7095 1437 99.765 1432.42 Q102.844 1427.81 108.654 1427.81 Z\" fill=\"#000000\" fill-rule=\"evenodd\" fill-opacity=\"1\" /><path clip-path=\"url(#clip170)\" d=\"M65.0198 1139.21 Q61.4087 1139.21 59.58 1142.78 Q57.7745 1146.32 57.7745 1153.45 Q57.7745 1160.55 59.58 1164.12 Q61.4087 1167.66 65.0198 1167.66 Q68.6541 1167.66 70.4596 1164.12 Q72.2883 1160.55 72.2883 1153.45 Q72.2883 1146.32 70.4596 1142.78 Q68.6541 1139.21 65.0198 1139.21 M65.0198 1135.51 Q70.83 1135.51 73.8855 1140.11 Q76.9642 1144.7 76.9642 1153.45 Q76.9642 1162.17 73.8855 1166.78 Q70.83 1171.36 65.0198 1171.36 Q59.2097 1171.36 56.131 1166.78 Q53.0754 1162.17 53.0754 1153.45 Q53.0754 1144.7 56.131 1140.11 Q59.2097 1135.51 65.0198 1135.51 Z\" fill=\"#000000\" fill-rule=\"evenodd\" fill-opacity=\"1\" /><path clip-path=\"url(#clip170)\" d=\"M85.1818 1164.81 L90.066 1164.81 L90.066 1170.69 L85.1818 1170.69 L85.1818 1164.81 Z\" fill=\"#000000\" fill-rule=\"evenodd\" fill-opacity=\"1\" /><path clip-path=\"url(#clip170)\" d=\"M104.279 1166.76 L120.598 1166.76 L120.598 1170.69 L98.6539 1170.69 L98.6539 1166.76 Q101.316 1164 105.899 1159.37 Q110.506 1154.72 111.686 1153.38 Q113.932 1150.85 114.811 1149.12 Q115.714 1147.36 115.714 1145.67 Q115.714 1142.91 113.77 1141.18 Q111.848 1139.44 108.746 1139.44 Q106.547 1139.44 104.094 1140.21 Q101.663 1140.97 98.8854 1142.52 L98.8854 1137.8 Q101.709 1136.67 104.163 1136.09 Q106.617 1135.51 108.654 1135.51 Q114.024 1135.51 117.219 1138.19 Q120.413 1140.88 120.413 1145.37 Q120.413 1147.5 119.603 1149.42 Q118.816 1151.32 116.709 1153.91 Q116.131 1154.58 113.029 1157.8 Q109.927 1160.99 104.279 1166.76 Z\" fill=\"#000000\" fill-rule=\"evenodd\" fill-opacity=\"1\" /><path clip-path=\"url(#clip170)\" d=\"M62.9365 846.908 Q59.3254 846.908 57.4967 850.473 Q55.6912 854.015 55.6912 861.144 Q55.6912 868.251 57.4967 871.815 Q59.3254 875.357 62.9365 875.357 Q66.5707 875.357 68.3763 871.815 Q70.205 868.251 70.205 861.144 Q70.205 854.015 68.3763 850.473 Q66.5707 846.908 62.9365 846.908 M62.9365 843.205 Q68.7467 843.205 71.8022 847.811 Q74.8809 852.394 74.8809 861.144 Q74.8809 869.871 71.8022 874.478 Q68.7467 879.061 62.9365 879.061 Q57.1264 879.061 54.0477 874.478 Q50.9921 869.871 50.9921 861.144 Q50.9921 852.394 54.0477 847.811 Q57.1264 843.205 62.9365 843.205 Z\" fill=\"#000000\" fill-rule=\"evenodd\" fill-opacity=\"1\" /><path clip-path=\"url(#clip170)\" d=\"M83.0984 872.51 L87.9827 872.51 L87.9827 878.39 L83.0984 878.39 L83.0984 872.51 Z\" fill=\"#000000\" fill-rule=\"evenodd\" fill-opacity=\"1\" /><path clip-path=\"url(#clip170)\" d=\"M111.015 847.904 L99.2095 866.353 L111.015 866.353 L111.015 847.904 M109.788 843.83 L115.668 843.83 L115.668 866.353 L120.598 866.353 L120.598 870.241 L115.668 870.241 L115.668 878.39 L111.015 878.39 L111.015 870.241 L95.4132 870.241 L95.4132 865.728 L109.788 843.83 Z\" fill=\"#000000\" fill-rule=\"evenodd\" fill-opacity=\"1\" /><path clip-path=\"url(#clip170)\" d=\"M63.2606 554.605 Q59.6495 554.605 57.8208 558.17 Q56.0152 561.712 56.0152 568.841 Q56.0152 575.948 57.8208 579.512 Q59.6495 583.054 63.2606 583.054 Q66.8948 583.054 68.7004 579.512 Q70.5291 575.948 70.5291 568.841 Q70.5291 561.712 68.7004 558.17 Q66.8948 554.605 63.2606 554.605 M63.2606 550.901 Q69.0707 550.901 72.1263 555.508 Q75.205 560.091 75.205 568.841 Q75.205 577.568 72.1263 582.174 Q69.0707 586.758 63.2606 586.758 Q57.4504 586.758 54.3717 582.174 Q51.3162 577.568 51.3162 568.841 Q51.3162 560.091 54.3717 555.508 Q57.4504 550.901 63.2606 550.901 Z\" fill=\"#000000\" fill-rule=\"evenodd\" fill-opacity=\"1\" /><path clip-path=\"url(#clip170)\" d=\"M83.4225 580.207 L88.3067 580.207 L88.3067 586.086 L83.4225 586.086 L83.4225 580.207 Z\" fill=\"#000000\" fill-rule=\"evenodd\" fill-opacity=\"1\" /><path clip-path=\"url(#clip170)\" d=\"M109.071 566.943 Q105.922 566.943 104.071 569.096 Q102.242 571.249 102.242 574.999 Q102.242 578.725 104.071 580.901 Q105.922 583.054 109.071 583.054 Q112.219 583.054 114.047 580.901 Q115.899 578.725 115.899 574.999 Q115.899 571.249 114.047 569.096 Q112.219 566.943 109.071 566.943 M118.353 552.29 L118.353 556.55 Q116.594 555.716 114.788 555.276 Q113.006 554.837 111.246 554.837 Q106.617 554.837 104.163 557.962 Q101.733 561.087 101.385 567.406 Q102.751 565.392 104.811 564.327 Q106.871 563.239 109.348 563.239 Q114.557 563.239 117.566 566.411 Q120.598 569.559 120.598 574.999 Q120.598 580.323 117.45 583.54 Q114.302 586.758 109.071 586.758 Q103.075 586.758 99.9039 582.174 Q96.7326 577.568 96.7326 568.841 Q96.7326 560.647 100.621 555.786 Q104.51 550.901 111.061 550.901 Q112.82 550.901 114.603 551.249 Q116.408 551.596 118.353 552.29 Z\" fill=\"#000000\" fill-rule=\"evenodd\" fill-opacity=\"1\" /><path clip-path=\"url(#clip170)\" d=\"M63.5152 262.302 Q59.9041 262.302 58.0754 265.867 Q56.2699 269.408 56.2699 276.538 Q56.2699 283.645 58.0754 287.209 Q59.9041 290.751 63.5152 290.751 Q67.1494 290.751 68.955 287.209 Q70.7837 283.645 70.7837 276.538 Q70.7837 269.408 68.955 265.867 Q67.1494 262.302 63.5152 262.302 M63.5152 258.598 Q69.3254 258.598 72.3809 263.205 Q75.4596 267.788 75.4596 276.538 Q75.4596 285.265 72.3809 289.871 Q69.3254 294.455 63.5152 294.455 Q57.7051 294.455 54.6264 289.871 Q51.5708 285.265 51.5708 276.538 Q51.5708 267.788 54.6264 263.205 Q57.7051 258.598 63.5152 258.598 Z\" fill=\"#000000\" fill-rule=\"evenodd\" fill-opacity=\"1\" /><path clip-path=\"url(#clip170)\" d=\"M83.6771 287.904 L88.5614 287.904 L88.5614 293.783 L83.6771 293.783 L83.6771 287.904 Z\" fill=\"#000000\" fill-rule=\"evenodd\" fill-opacity=\"1\" /><path clip-path=\"url(#clip170)\" d=\"M108.746 277.371 Q105.413 277.371 103.492 279.154 Q101.594 280.936 101.594 284.061 Q101.594 287.186 103.492 288.969 Q105.413 290.751 108.746 290.751 Q112.08 290.751 114.001 288.969 Q115.922 287.163 115.922 284.061 Q115.922 280.936 114.001 279.154 Q112.103 277.371 108.746 277.371 M104.071 275.381 Q101.061 274.64 99.3715 272.58 Q97.7048 270.52 97.7048 267.557 Q97.7048 263.413 100.645 261.006 Q103.608 258.598 108.746 258.598 Q113.908 258.598 116.848 261.006 Q119.788 263.413 119.788 267.557 Q119.788 270.52 118.098 272.58 Q116.432 274.64 113.445 275.381 Q116.825 276.168 118.7 278.459 Q120.598 280.751 120.598 284.061 Q120.598 289.084 117.52 291.769 Q114.464 294.455 108.746 294.455 Q103.029 294.455 99.9502 291.769 Q96.8947 289.084 96.8947 284.061 Q96.8947 280.751 98.7928 278.459 Q100.691 276.168 104.071 275.381 M102.358 267.996 Q102.358 270.682 104.024 272.186 Q105.714 273.691 108.746 273.691 Q111.756 273.691 113.445 272.186 Q115.158 270.682 115.158 267.996 Q115.158 265.311 113.445 263.807 Q111.756 262.302 108.746 262.302 Q105.714 262.302 104.024 263.807 Q102.358 265.311 102.358 267.996 Z\" fill=\"#000000\" fill-rule=\"evenodd\" fill-opacity=\"1\" /><path clip-path=\"url(#clip172)\" d=\"\n",
       "M277.391 820.081 L277.391 1445.72 L383.043 1445.72 L383.043 820.081 L277.391 820.081 L277.391 820.081  Z\n",
       "  \" fill=\"#009af9\" fill-rule=\"evenodd\" fill-opacity=\"1\"/>\n",
       "<polyline clip-path=\"url(#clip172)\" style=\"stroke:#000000; stroke-linecap:butt; stroke-linejoin:round; stroke-width:4; stroke-opacity:1; fill:none\" points=\"\n",
       "  277.391,820.081 277.391,1445.72 383.043,1445.72 383.043,820.081 277.391,820.081 \n",
       "  \"/>\n",
       "<path clip-path=\"url(#clip172)\" d=\"\n",
       "M409.457 1009.9 L409.457 1445.72 L515.109 1445.72 L515.109 1009.9 L409.457 1009.9 L409.457 1009.9  Z\n",
       "  \" fill=\"#009af9\" fill-rule=\"evenodd\" fill-opacity=\"1\"/>\n",
       "<polyline clip-path=\"url(#clip172)\" style=\"stroke:#000000; stroke-linecap:butt; stroke-linejoin:round; stroke-width:4; stroke-opacity:1; fill:none\" points=\"\n",
       "  409.457,1009.9 409.457,1445.72 515.109,1445.72 515.109,1009.9 409.457,1009.9 \n",
       "  \"/>\n",
       "<path clip-path=\"url(#clip172)\" d=\"\n",
       "M541.522 1103.14 L541.522 1445.72 L647.175 1445.72 L647.175 1103.14 L541.522 1103.14 L541.522 1103.14  Z\n",
       "  \" fill=\"#009af9\" fill-rule=\"evenodd\" fill-opacity=\"1\"/>\n",
       "<polyline clip-path=\"url(#clip172)\" style=\"stroke:#000000; stroke-linecap:butt; stroke-linejoin:round; stroke-width:4; stroke-opacity:1; fill:none\" points=\"\n",
       "  541.522,1103.14 541.522,1445.72 647.175,1445.72 647.175,1103.14 541.522,1103.14 \n",
       "  \"/>\n",
       "<path clip-path=\"url(#clip172)\" d=\"\n",
       "M673.588 1275.54 L673.588 1445.72 L779.241 1445.72 L779.241 1275.54 L673.588 1275.54 L673.588 1275.54  Z\n",
       "  \" fill=\"#009af9\" fill-rule=\"evenodd\" fill-opacity=\"1\"/>\n",
       "<polyline clip-path=\"url(#clip172)\" style=\"stroke:#000000; stroke-linecap:butt; stroke-linejoin:round; stroke-width:4; stroke-opacity:1; fill:none\" points=\"\n",
       "  673.588,1275.54 673.588,1445.72 779.241,1445.72 779.241,1275.54 673.588,1275.54 \n",
       "  \"/>\n",
       "<path clip-path=\"url(#clip172)\" d=\"\n",
       "M805.654 1053.81 L805.654 1445.72 L911.306 1445.72 L911.306 1053.81 L805.654 1053.81 L805.654 1053.81  Z\n",
       "  \" fill=\"#009af9\" fill-rule=\"evenodd\" fill-opacity=\"1\"/>\n",
       "<polyline clip-path=\"url(#clip172)\" style=\"stroke:#000000; stroke-linecap:butt; stroke-linejoin:round; stroke-width:4; stroke-opacity:1; fill:none\" points=\"\n",
       "  805.654,1053.81 805.654,1445.72 911.306,1445.72 911.306,1053.81 805.654,1053.81 \n",
       "  \"/>\n",
       "<path clip-path=\"url(#clip172)\" d=\"\n",
       "M937.719 532.084 L937.719 1445.72 L1043.37 1445.72 L1043.37 532.084 L937.719 532.084 L937.719 532.084  Z\n",
       "  \" fill=\"#009af9\" fill-rule=\"evenodd\" fill-opacity=\"1\"/>\n",
       "<polyline clip-path=\"url(#clip172)\" style=\"stroke:#000000; stroke-linecap:butt; stroke-linejoin:round; stroke-width:4; stroke-opacity:1; fill:none\" points=\"\n",
       "  937.719,532.084 937.719,1445.72 1043.37,1445.72 1043.37,532.084 937.719,532.084 \n",
       "  \"/>\n",
       "<path clip-path=\"url(#clip172)\" d=\"\n",
       "M1069.79 602.256 L1069.79 1445.72 L1175.44 1445.72 L1175.44 602.256 L1069.79 602.256 L1069.79 602.256  Z\n",
       "  \" fill=\"#009af9\" fill-rule=\"evenodd\" fill-opacity=\"1\"/>\n",
       "<polyline clip-path=\"url(#clip172)\" style=\"stroke:#000000; stroke-linecap:butt; stroke-linejoin:round; stroke-width:4; stroke-opacity:1; fill:none\" points=\"\n",
       "  1069.79,602.256 1069.79,1445.72 1175.44,1445.72 1175.44,602.256 1069.79,602.256 \n",
       "  \"/>\n",
       "<path clip-path=\"url(#clip172)\" d=\"\n",
       "M1201.85 1387.91 L1201.85 1445.72 L1307.5 1445.72 L1307.5 1387.91 L1201.85 1387.91 L1201.85 1387.91  Z\n",
       "  \" fill=\"#009af9\" fill-rule=\"evenodd\" fill-opacity=\"1\"/>\n",
       "<polyline clip-path=\"url(#clip172)\" style=\"stroke:#000000; stroke-linecap:butt; stroke-linejoin:round; stroke-width:4; stroke-opacity:1; fill:none\" points=\"\n",
       "  1201.85,1387.91 1201.85,1445.72 1307.5,1445.72 1307.5,1387.91 1201.85,1387.91 \n",
       "  \"/>\n",
       "<path clip-path=\"url(#clip172)\" d=\"\n",
       "M1333.92 219.459 L1333.92 1445.72 L1439.57 1445.72 L1439.57 219.459 L1333.92 219.459 L1333.92 219.459  Z\n",
       "  \" fill=\"#009af9\" fill-rule=\"evenodd\" fill-opacity=\"1\"/>\n",
       "<polyline clip-path=\"url(#clip172)\" style=\"stroke:#000000; stroke-linecap:butt; stroke-linejoin:round; stroke-width:4; stroke-opacity:1; fill:none\" points=\"\n",
       "  1333.92,219.459 1333.92,1445.72 1439.57,1445.72 1439.57,219.459 1333.92,219.459 \n",
       "  \"/>\n",
       "<path clip-path=\"url(#clip172)\" d=\"\n",
       "M1465.98 908.737 L1465.98 1445.72 L1571.63 1445.72 L1571.63 908.737 L1465.98 908.737 L1465.98 908.737  Z\n",
       "  \" fill=\"#009af9\" fill-rule=\"evenodd\" fill-opacity=\"1\"/>\n",
       "<polyline clip-path=\"url(#clip172)\" style=\"stroke:#000000; stroke-linecap:butt; stroke-linejoin:round; stroke-width:4; stroke-opacity:1; fill:none\" points=\"\n",
       "  1465.98,908.737 1465.98,1445.72 1571.63,1445.72 1571.63,908.737 1465.98,908.737 \n",
       "  \"/>\n",
       "<path clip-path=\"url(#clip172)\" d=\"\n",
       "M1598.05 525.663 L1598.05 1445.72 L1703.7 1445.72 L1703.7 525.663 L1598.05 525.663 L1598.05 525.663  Z\n",
       "  \" fill=\"#009af9\" fill-rule=\"evenodd\" fill-opacity=\"1\"/>\n",
       "<polyline clip-path=\"url(#clip172)\" style=\"stroke:#000000; stroke-linecap:butt; stroke-linejoin:round; stroke-width:4; stroke-opacity:1; fill:none\" points=\"\n",
       "  1598.05,525.663 1598.05,1445.72 1703.7,1445.72 1703.7,525.663 1598.05,525.663 \n",
       "  \"/>\n",
       "<path clip-path=\"url(#clip172)\" d=\"\n",
       "M1730.11 976.558 L1730.11 1445.72 L1835.77 1445.72 L1835.77 976.558 L1730.11 976.558 L1730.11 976.558  Z\n",
       "  \" fill=\"#009af9\" fill-rule=\"evenodd\" fill-opacity=\"1\"/>\n",
       "<polyline clip-path=\"url(#clip172)\" style=\"stroke:#000000; stroke-linecap:butt; stroke-linejoin:round; stroke-width:4; stroke-opacity:1; fill:none\" points=\"\n",
       "  1730.11,976.558 1730.11,1445.72 1835.77,1445.72 1835.77,976.558 1730.11,976.558 \n",
       "  \"/>\n",
       "<path clip-path=\"url(#clip172)\" d=\"\n",
       "M1862.18 450.707 L1862.18 1445.72 L1967.83 1445.72 L1967.83 450.707 L1862.18 450.707 L1862.18 450.707  Z\n",
       "  \" fill=\"#009af9\" fill-rule=\"evenodd\" fill-opacity=\"1\"/>\n",
       "<polyline clip-path=\"url(#clip172)\" style=\"stroke:#000000; stroke-linecap:butt; stroke-linejoin:round; stroke-width:4; stroke-opacity:1; fill:none\" points=\"\n",
       "  1862.18,450.707 1862.18,1445.72 1967.83,1445.72 1967.83,450.707 1862.18,450.707 \n",
       "  \"/>\n",
       "<path clip-path=\"url(#clip172)\" d=\"\n",
       "M1994.25 803.267 L1994.25 1445.72 L2099.9 1445.72 L2099.9 803.267 L1994.25 803.267 L1994.25 803.267  Z\n",
       "  \" fill=\"#009af9\" fill-rule=\"evenodd\" fill-opacity=\"1\"/>\n",
       "<polyline clip-path=\"url(#clip172)\" style=\"stroke:#000000; stroke-linecap:butt; stroke-linejoin:round; stroke-width:4; stroke-opacity:1; fill:none\" points=\"\n",
       "  1994.25,803.267 1994.25,1445.72 2099.9,1445.72 2099.9,803.267 1994.25,803.267 \n",
       "  \"/>\n",
       "<path clip-path=\"url(#clip172)\" d=\"\n",
       "M2126.31 87.9763 L2126.31 1445.72 L2231.96 1445.72 L2231.96 87.9763 L2126.31 87.9763 L2126.31 87.9763  Z\n",
       "  \" fill=\"#009af9\" fill-rule=\"evenodd\" fill-opacity=\"1\"/>\n",
       "<polyline clip-path=\"url(#clip172)\" style=\"stroke:#000000; stroke-linecap:butt; stroke-linejoin:round; stroke-width:4; stroke-opacity:1; fill:none\" points=\"\n",
       "  2126.31,87.9763 2126.31,1445.72 2231.96,1445.72 2231.96,87.9763 2126.31,87.9763 \n",
       "  \"/>\n",
       "<path clip-path=\"url(#clip170)\" d=\"\n",
       "M1983.1 216.178 L2279.55 216.178 L2279.55 95.2176 L1983.1 95.2176  Z\n",
       "  \" fill=\"#ffffff\" fill-rule=\"evenodd\" fill-opacity=\"1\"/>\n",
       "<polyline clip-path=\"url(#clip170)\" style=\"stroke:#000000; stroke-linecap:butt; stroke-linejoin:round; stroke-width:4; stroke-opacity:1; fill:none\" points=\"\n",
       "  1983.1,216.178 2279.55,216.178 2279.55,95.2176 1983.1,95.2176 1983.1,216.178 \n",
       "  \"/>\n",
       "<path clip-path=\"url(#clip170)\" d=\"\n",
       "M2007.5 179.89 L2153.92 179.89 L2153.92 131.506 L2007.5 131.506 L2007.5 179.89  Z\n",
       "  \" fill=\"#009af9\" fill-rule=\"evenodd\" fill-opacity=\"1\"/>\n",
       "<polyline clip-path=\"url(#clip170)\" style=\"stroke:#000000; stroke-linecap:butt; stroke-linejoin:round; stroke-width:4; stroke-opacity:1; fill:none\" points=\"\n",
       "  2007.5,179.89 2153.92,179.89 2153.92,131.506 2007.5,131.506 2007.5,179.89 \n",
       "  \"/>\n",
       "<path clip-path=\"url(#clip170)\" d=\"M2192.16 175.385 Q2190.35 180.015 2188.64 181.427 Q2186.93 182.839 2184.06 182.839 L2180.65 182.839 L2180.65 179.274 L2183.15 179.274 Q2184.91 179.274 2185.89 178.44 Q2186.86 177.607 2188.04 174.505 L2188.8 172.561 L2178.32 147.052 L2182.83 147.052 L2190.93 167.329 L2199.03 147.052 L2203.55 147.052 L2192.16 175.385 Z\" fill=\"#000000\" fill-rule=\"evenodd\" fill-opacity=\"1\" /><path clip-path=\"url(#clip170)\" d=\"M2210.84 169.042 L2218.48 169.042 L2218.48 142.677 L2210.17 144.343 L2210.17 140.084 L2218.43 138.418 L2223.11 138.418 L2223.11 169.042 L2230.75 169.042 L2230.75 172.978 L2210.84 172.978 L2210.84 169.042 Z\" fill=\"#000000\" fill-rule=\"evenodd\" fill-opacity=\"1\" /></svg>\n"
      ]
     },
     "execution_count": 67,
     "metadata": {},
     "output_type": "execute_result"
    }
   ],
   "source": [
    "bar(x,y)"
   ]
  },
  {
   "cell_type": "code",
   "execution_count": 68,
   "metadata": {},
   "outputs": [
    {
     "data": {
      "image/svg+xml": [
       "<?xml version=\"1.0\" encoding=\"utf-8\"?>\n",
       "<svg xmlns=\"http://www.w3.org/2000/svg\" xmlns:xlink=\"http://www.w3.org/1999/xlink\" width=\"600\" height=\"400\" viewBox=\"0 0 2400 1600\">\n",
       "<defs>\n",
       "  <clipPath id=\"clip210\">\n",
       "    <rect x=\"0\" y=\"0\" width=\"2400\" height=\"1600\"/>\n",
       "  </clipPath>\n",
       "</defs>\n",
       "<path clip-path=\"url(#clip210)\" d=\"\n",
       "M0 1600 L2400 1600 L2400 0 L0 0  Z\n",
       "  \" fill=\"#ffffff\" fill-rule=\"evenodd\" fill-opacity=\"1\"/>\n",
       "<defs>\n",
       "  <clipPath id=\"clip211\">\n",
       "    <rect x=\"480\" y=\"0\" width=\"1681\" height=\"1600\"/>\n",
       "  </clipPath>\n",
       "</defs>\n",
       "<path clip-path=\"url(#clip210)\" d=\"\n",
       "M112.177 1486.45 L2352.76 1486.45 L2352.76 47.2441 L112.177 47.2441  Z\n",
       "  \" fill=\"#ffffff\" fill-rule=\"evenodd\" fill-opacity=\"1\"/>\n",
       "<defs>\n",
       "  <clipPath id=\"clip212\">\n",
       "    <rect x=\"112\" y=\"47\" width=\"2242\" height=\"1440\"/>\n",
       "  </clipPath>\n",
       "</defs>\n",
       "<polyline clip-path=\"url(#clip212)\" style=\"stroke:#000000; stroke-linecap:butt; stroke-linejoin:round; stroke-width:2; stroke-opacity:0.1; fill:none\" points=\"\n",
       "  235.413,1486.45 235.413,47.2441 \n",
       "  \"/>\n",
       "<polyline clip-path=\"url(#clip212)\" style=\"stroke:#000000; stroke-linecap:butt; stroke-linejoin:round; stroke-width:2; stroke-opacity:0.1; fill:none\" points=\"\n",
       "  733.94,1486.45 733.94,47.2441 \n",
       "  \"/>\n",
       "<polyline clip-path=\"url(#clip212)\" style=\"stroke:#000000; stroke-linecap:butt; stroke-linejoin:round; stroke-width:2; stroke-opacity:0.1; fill:none\" points=\"\n",
       "  1232.47,1486.45 1232.47,47.2441 \n",
       "  \"/>\n",
       "<polyline clip-path=\"url(#clip212)\" style=\"stroke:#000000; stroke-linecap:butt; stroke-linejoin:round; stroke-width:2; stroke-opacity:0.1; fill:none\" points=\"\n",
       "  1730.99,1486.45 1730.99,47.2441 \n",
       "  \"/>\n",
       "<polyline clip-path=\"url(#clip212)\" style=\"stroke:#000000; stroke-linecap:butt; stroke-linejoin:round; stroke-width:2; stroke-opacity:0.1; fill:none\" points=\"\n",
       "  2229.52,1486.45 2229.52,47.2441 \n",
       "  \"/>\n",
       "<polyline clip-path=\"url(#clip210)\" style=\"stroke:#000000; stroke-linecap:butt; stroke-linejoin:round; stroke-width:4; stroke-opacity:1; fill:none\" points=\"\n",
       "  112.177,1486.45 2352.76,1486.45 \n",
       "  \"/>\n",
       "<polyline clip-path=\"url(#clip210)\" style=\"stroke:#000000; stroke-linecap:butt; stroke-linejoin:round; stroke-width:4; stroke-opacity:1; fill:none\" points=\"\n",
       "  235.413,1486.45 235.413,1469.18 \n",
       "  \"/>\n",
       "<polyline clip-path=\"url(#clip210)\" style=\"stroke:#000000; stroke-linecap:butt; stroke-linejoin:round; stroke-width:4; stroke-opacity:1; fill:none\" points=\"\n",
       "  733.94,1486.45 733.94,1469.18 \n",
       "  \"/>\n",
       "<polyline clip-path=\"url(#clip210)\" style=\"stroke:#000000; stroke-linecap:butt; stroke-linejoin:round; stroke-width:4; stroke-opacity:1; fill:none\" points=\"\n",
       "  1232.47,1486.45 1232.47,1469.18 \n",
       "  \"/>\n",
       "<polyline clip-path=\"url(#clip210)\" style=\"stroke:#000000; stroke-linecap:butt; stroke-linejoin:round; stroke-width:4; stroke-opacity:1; fill:none\" points=\"\n",
       "  1730.99,1486.45 1730.99,1469.18 \n",
       "  \"/>\n",
       "<polyline clip-path=\"url(#clip210)\" style=\"stroke:#000000; stroke-linecap:butt; stroke-linejoin:round; stroke-width:4; stroke-opacity:1; fill:none\" points=\"\n",
       "  2229.52,1486.45 2229.52,1469.18 \n",
       "  \"/>\n",
       "<path clip-path=\"url(#clip210)\" d=\"M197.716 1515.64 Q194.105 1515.64 192.277 1519.2 Q190.471 1522.75 190.471 1529.87 Q190.471 1536.98 192.277 1540.55 Q194.105 1544.09 197.716 1544.09 Q201.351 1544.09 203.156 1540.55 Q204.985 1536.98 204.985 1529.87 Q204.985 1522.75 203.156 1519.2 Q201.351 1515.64 197.716 1515.64 M197.716 1511.93 Q203.527 1511.93 206.582 1516.54 Q209.661 1521.12 209.661 1529.87 Q209.661 1538.6 206.582 1543.21 Q203.527 1547.79 197.716 1547.79 Q191.906 1547.79 188.828 1543.21 Q185.772 1538.6 185.772 1529.87 Q185.772 1521.12 188.828 1516.54 Q191.906 1511.93 197.716 1511.93 Z\" fill=\"#000000\" fill-rule=\"evenodd\" fill-opacity=\"1\" /><path clip-path=\"url(#clip210)\" d=\"M217.878 1541.24 L222.763 1541.24 L222.763 1547.12 L217.878 1547.12 L217.878 1541.24 Z\" fill=\"#000000\" fill-rule=\"evenodd\" fill-opacity=\"1\" /><path clip-path=\"url(#clip210)\" d=\"M242.948 1515.64 Q239.337 1515.64 237.508 1519.2 Q235.702 1522.75 235.702 1529.87 Q235.702 1536.98 237.508 1540.55 Q239.337 1544.09 242.948 1544.09 Q246.582 1544.09 248.387 1540.55 Q250.216 1536.98 250.216 1529.87 Q250.216 1522.75 248.387 1519.2 Q246.582 1515.64 242.948 1515.64 M242.948 1511.93 Q248.758 1511.93 251.813 1516.54 Q254.892 1521.12 254.892 1529.87 Q254.892 1538.6 251.813 1543.21 Q248.758 1547.79 242.948 1547.79 Q237.138 1547.79 234.059 1543.21 Q231.003 1538.6 231.003 1529.87 Q231.003 1521.12 234.059 1516.54 Q237.138 1511.93 242.948 1511.93 Z\" fill=\"#000000\" fill-rule=\"evenodd\" fill-opacity=\"1\" /><path clip-path=\"url(#clip210)\" d=\"M273.11 1515.64 Q269.498 1515.64 267.67 1519.2 Q265.864 1522.75 265.864 1529.87 Q265.864 1536.98 267.67 1540.55 Q269.498 1544.09 273.11 1544.09 Q276.744 1544.09 278.549 1540.55 Q280.378 1536.98 280.378 1529.87 Q280.378 1522.75 278.549 1519.2 Q276.744 1515.64 273.11 1515.64 M273.11 1511.93 Q278.92 1511.93 281.975 1516.54 Q285.054 1521.12 285.054 1529.87 Q285.054 1538.6 281.975 1543.21 Q278.92 1547.79 273.11 1547.79 Q267.299 1547.79 264.221 1543.21 Q261.165 1538.6 261.165 1529.87 Q261.165 1521.12 264.221 1516.54 Q267.299 1511.93 273.11 1511.93 Z\" fill=\"#000000\" fill-rule=\"evenodd\" fill-opacity=\"1\" /><path clip-path=\"url(#clip210)\" d=\"M696.741 1515.64 Q693.13 1515.64 691.301 1519.2 Q689.496 1522.75 689.496 1529.87 Q689.496 1536.98 691.301 1540.55 Q693.13 1544.09 696.741 1544.09 Q700.375 1544.09 702.181 1540.55 Q704.009 1536.98 704.009 1529.87 Q704.009 1522.75 702.181 1519.2 Q700.375 1515.64 696.741 1515.64 M696.741 1511.93 Q702.551 1511.93 705.607 1516.54 Q708.685 1521.12 708.685 1529.87 Q708.685 1538.6 705.607 1543.21 Q702.551 1547.79 696.741 1547.79 Q690.931 1547.79 687.852 1543.21 Q684.797 1538.6 684.797 1529.87 Q684.797 1521.12 687.852 1516.54 Q690.931 1511.93 696.741 1511.93 Z\" fill=\"#000000\" fill-rule=\"evenodd\" fill-opacity=\"1\" /><path clip-path=\"url(#clip210)\" d=\"M716.903 1541.24 L721.787 1541.24 L721.787 1547.12 L716.903 1547.12 L716.903 1541.24 Z\" fill=\"#000000\" fill-rule=\"evenodd\" fill-opacity=\"1\" /><path clip-path=\"url(#clip210)\" d=\"M736 1543.18 L752.319 1543.18 L752.319 1547.12 L730.375 1547.12 L730.375 1543.18 Q733.037 1540.43 737.62 1535.8 Q742.227 1531.15 743.407 1529.81 Q745.653 1527.28 746.532 1525.55 Q747.435 1523.79 747.435 1522.1 Q747.435 1519.34 745.491 1517.61 Q743.569 1515.87 740.468 1515.87 Q738.268 1515.87 735.815 1516.63 Q733.384 1517.4 730.606 1518.95 L730.606 1514.23 Q733.431 1513.09 735.884 1512.51 Q738.338 1511.93 740.375 1511.93 Q745.745 1511.93 748.94 1514.62 Q752.134 1517.31 752.134 1521.8 Q752.134 1523.93 751.324 1525.85 Q750.537 1527.74 748.43 1530.34 Q747.852 1531.01 744.75 1534.23 Q741.648 1537.42 736 1543.18 Z\" fill=\"#000000\" fill-rule=\"evenodd\" fill-opacity=\"1\" /><path clip-path=\"url(#clip210)\" d=\"M762.18 1512.56 L780.537 1512.56 L780.537 1516.5 L766.463 1516.5 L766.463 1524.97 Q767.481 1524.62 768.5 1524.46 Q769.518 1524.27 770.537 1524.27 Q776.324 1524.27 779.703 1527.44 Q783.083 1530.62 783.083 1536.03 Q783.083 1541.61 779.611 1544.71 Q776.139 1547.79 769.819 1547.79 Q767.643 1547.79 765.375 1547.42 Q763.129 1547.05 760.722 1546.31 L760.722 1541.61 Q762.805 1542.74 765.028 1543.3 Q767.25 1543.86 769.727 1543.86 Q773.731 1543.86 776.069 1541.75 Q778.407 1539.64 778.407 1536.03 Q778.407 1532.42 776.069 1530.31 Q773.731 1528.21 769.727 1528.21 Q767.852 1528.21 765.977 1528.62 Q764.125 1529.04 762.18 1529.92 L762.18 1512.56 Z\" fill=\"#000000\" fill-rule=\"evenodd\" fill-opacity=\"1\" /><path clip-path=\"url(#clip210)\" d=\"M1194.77 1515.64 Q1191.16 1515.64 1189.33 1519.2 Q1187.52 1522.75 1187.52 1529.87 Q1187.52 1536.98 1189.33 1540.55 Q1191.16 1544.09 1194.77 1544.09 Q1198.4 1544.09 1200.21 1540.55 Q1202.04 1536.98 1202.04 1529.87 Q1202.04 1522.75 1200.21 1519.2 Q1198.4 1515.64 1194.77 1515.64 M1194.77 1511.93 Q1200.58 1511.93 1203.64 1516.54 Q1206.71 1521.12 1206.71 1529.87 Q1206.71 1538.6 1203.64 1543.21 Q1200.58 1547.79 1194.77 1547.79 Q1188.96 1547.79 1185.88 1543.21 Q1182.83 1538.6 1182.83 1529.87 Q1182.83 1521.12 1185.88 1516.54 Q1188.96 1511.93 1194.77 1511.93 Z\" fill=\"#000000\" fill-rule=\"evenodd\" fill-opacity=\"1\" /><path clip-path=\"url(#clip210)\" d=\"M1214.93 1541.24 L1219.82 1541.24 L1219.82 1547.12 L1214.93 1547.12 L1214.93 1541.24 Z\" fill=\"#000000\" fill-rule=\"evenodd\" fill-opacity=\"1\" /><path clip-path=\"url(#clip210)\" d=\"M1230.05 1512.56 L1248.4 1512.56 L1248.4 1516.5 L1234.33 1516.5 L1234.33 1524.97 Q1235.35 1524.62 1236.37 1524.46 Q1237.39 1524.27 1238.4 1524.27 Q1244.19 1524.27 1247.57 1527.44 Q1250.95 1530.62 1250.95 1536.03 Q1250.95 1541.61 1247.48 1544.71 Q1244.01 1547.79 1237.69 1547.79 Q1235.51 1547.79 1233.24 1547.42 Q1231 1547.05 1228.59 1546.31 L1228.59 1541.61 Q1230.67 1542.74 1232.89 1543.3 Q1235.12 1543.86 1237.59 1543.86 Q1241.6 1543.86 1243.94 1541.75 Q1246.27 1539.64 1246.27 1536.03 Q1246.27 1532.42 1243.94 1530.31 Q1241.6 1528.21 1237.59 1528.21 Q1235.72 1528.21 1233.84 1528.62 Q1231.99 1529.04 1230.05 1529.92 L1230.05 1512.56 Z\" fill=\"#000000\" fill-rule=\"evenodd\" fill-opacity=\"1\" /><path clip-path=\"url(#clip210)\" d=\"M1270.16 1515.64 Q1266.55 1515.64 1264.72 1519.2 Q1262.92 1522.75 1262.92 1529.87 Q1262.92 1536.98 1264.72 1540.55 Q1266.55 1544.09 1270.16 1544.09 Q1273.8 1544.09 1275.6 1540.55 Q1277.43 1536.98 1277.43 1529.87 Q1277.43 1522.75 1275.6 1519.2 Q1273.8 1515.64 1270.16 1515.64 M1270.16 1511.93 Q1275.97 1511.93 1279.03 1516.54 Q1282.11 1521.12 1282.11 1529.87 Q1282.11 1538.6 1279.03 1543.21 Q1275.97 1547.79 1270.16 1547.79 Q1264.35 1547.79 1261.27 1543.21 Q1258.22 1538.6 1258.22 1529.87 Q1258.22 1521.12 1261.27 1516.54 Q1264.35 1511.93 1270.16 1511.93 Z\" fill=\"#000000\" fill-rule=\"evenodd\" fill-opacity=\"1\" /><path clip-path=\"url(#clip210)\" d=\"M1693.79 1515.64 Q1690.18 1515.64 1688.35 1519.2 Q1686.55 1522.75 1686.55 1529.87 Q1686.55 1536.98 1688.35 1540.55 Q1690.18 1544.09 1693.79 1544.09 Q1697.43 1544.09 1699.23 1540.55 Q1701.06 1536.98 1701.06 1529.87 Q1701.06 1522.75 1699.23 1519.2 Q1697.43 1515.64 1693.79 1515.64 M1693.79 1511.93 Q1699.6 1511.93 1702.66 1516.54 Q1705.74 1521.12 1705.74 1529.87 Q1705.74 1538.6 1702.66 1543.21 Q1699.6 1547.79 1693.79 1547.79 Q1687.98 1547.79 1684.91 1543.21 Q1681.85 1538.6 1681.85 1529.87 Q1681.85 1521.12 1684.91 1516.54 Q1687.98 1511.93 1693.79 1511.93 Z\" fill=\"#000000\" fill-rule=\"evenodd\" fill-opacity=\"1\" /><path clip-path=\"url(#clip210)\" d=\"M1713.96 1541.24 L1718.84 1541.24 L1718.84 1547.12 L1713.96 1547.12 L1713.96 1541.24 Z\" fill=\"#000000\" fill-rule=\"evenodd\" fill-opacity=\"1\" /><path clip-path=\"url(#clip210)\" d=\"M1727.85 1512.56 L1750.07 1512.56 L1750.07 1514.55 L1737.52 1547.12 L1732.64 1547.12 L1744.44 1516.5 L1727.85 1516.5 L1727.85 1512.56 Z\" fill=\"#000000\" fill-rule=\"evenodd\" fill-opacity=\"1\" /><path clip-path=\"url(#clip210)\" d=\"M1759.23 1512.56 L1777.59 1512.56 L1777.59 1516.5 L1763.52 1516.5 L1763.52 1524.97 Q1764.53 1524.62 1765.55 1524.46 Q1766.57 1524.27 1767.59 1524.27 Q1773.38 1524.27 1776.76 1527.44 Q1780.14 1530.62 1780.14 1536.03 Q1780.14 1541.61 1776.66 1544.71 Q1773.19 1547.79 1766.87 1547.79 Q1764.7 1547.79 1762.43 1547.42 Q1760.18 1547.05 1757.78 1546.31 L1757.78 1541.61 Q1759.86 1542.74 1762.08 1543.3 Q1764.3 1543.86 1766.78 1543.86 Q1770.78 1543.86 1773.12 1541.75 Q1775.46 1539.64 1775.46 1536.03 Q1775.46 1532.42 1773.12 1530.31 Q1770.78 1528.21 1766.78 1528.21 Q1764.91 1528.21 1763.03 1528.62 Q1761.18 1529.04 1759.23 1529.92 L1759.23 1512.56 Z\" fill=\"#000000\" fill-rule=\"evenodd\" fill-opacity=\"1\" /><path clip-path=\"url(#clip210)\" d=\"M2181.59 1543.18 L2189.23 1543.18 L2189.23 1516.82 L2180.92 1518.49 L2180.92 1514.23 L2189.18 1512.56 L2193.86 1512.56 L2193.86 1543.18 L2201.5 1543.18 L2201.5 1547.12 L2181.59 1547.12 L2181.59 1543.18 Z\" fill=\"#000000\" fill-rule=\"evenodd\" fill-opacity=\"1\" /><path clip-path=\"url(#clip210)\" d=\"M2210.94 1541.24 L2215.83 1541.24 L2215.83 1547.12 L2210.94 1547.12 L2210.94 1541.24 Z\" fill=\"#000000\" fill-rule=\"evenodd\" fill-opacity=\"1\" /><path clip-path=\"url(#clip210)\" d=\"M2236.01 1515.64 Q2232.4 1515.64 2230.57 1519.2 Q2228.77 1522.75 2228.77 1529.87 Q2228.77 1536.98 2230.57 1540.55 Q2232.4 1544.09 2236.01 1544.09 Q2239.65 1544.09 2241.45 1540.55 Q2243.28 1536.98 2243.28 1529.87 Q2243.28 1522.75 2241.45 1519.2 Q2239.65 1515.64 2236.01 1515.64 M2236.01 1511.93 Q2241.82 1511.93 2244.88 1516.54 Q2247.96 1521.12 2247.96 1529.87 Q2247.96 1538.6 2244.88 1543.21 Q2241.82 1547.79 2236.01 1547.79 Q2230.2 1547.79 2227.12 1543.21 Q2224.07 1538.6 2224.07 1529.87 Q2224.07 1521.12 2227.12 1516.54 Q2230.2 1511.93 2236.01 1511.93 Z\" fill=\"#000000\" fill-rule=\"evenodd\" fill-opacity=\"1\" /><path clip-path=\"url(#clip210)\" d=\"M2266.17 1515.64 Q2262.56 1515.64 2260.74 1519.2 Q2258.93 1522.75 2258.93 1529.87 Q2258.93 1536.98 2260.74 1540.55 Q2262.56 1544.09 2266.17 1544.09 Q2269.81 1544.09 2271.61 1540.55 Q2273.44 1536.98 2273.44 1529.87 Q2273.44 1522.75 2271.61 1519.2 Q2269.81 1515.64 2266.17 1515.64 M2266.17 1511.93 Q2271.99 1511.93 2275.04 1516.54 Q2278.12 1521.12 2278.12 1529.87 Q2278.12 1538.6 2275.04 1543.21 Q2271.99 1547.79 2266.17 1547.79 Q2260.36 1547.79 2257.29 1543.21 Q2254.23 1538.6 2254.23 1529.87 Q2254.23 1521.12 2257.29 1516.54 Q2260.36 1511.93 2266.17 1511.93 Z\" fill=\"#000000\" fill-rule=\"evenodd\" fill-opacity=\"1\" /><polyline clip-path=\"url(#clip212)\" style=\"stroke:#000000; stroke-linecap:butt; stroke-linejoin:round; stroke-width:2; stroke-opacity:0.1; fill:none\" points=\"\n",
       "  112.177,1445.72 2352.76,1445.72 \n",
       "  \"/>\n",
       "<polyline clip-path=\"url(#clip212)\" style=\"stroke:#000000; stroke-linecap:butt; stroke-linejoin:round; stroke-width:2; stroke-opacity:0.1; fill:none\" points=\"\n",
       "  112.177,1144 2352.76,1144 \n",
       "  \"/>\n",
       "<polyline clip-path=\"url(#clip212)\" style=\"stroke:#000000; stroke-linecap:butt; stroke-linejoin:round; stroke-width:2; stroke-opacity:0.1; fill:none\" points=\"\n",
       "  112.177,842.276 2352.76,842.276 \n",
       "  \"/>\n",
       "<polyline clip-path=\"url(#clip212)\" style=\"stroke:#000000; stroke-linecap:butt; stroke-linejoin:round; stroke-width:2; stroke-opacity:0.1; fill:none\" points=\"\n",
       "  112.177,540.556 2352.76,540.556 \n",
       "  \"/>\n",
       "<polyline clip-path=\"url(#clip212)\" style=\"stroke:#000000; stroke-linecap:butt; stroke-linejoin:round; stroke-width:2; stroke-opacity:0.1; fill:none\" points=\"\n",
       "  112.177,238.836 2352.76,238.836 \n",
       "  \"/>\n",
       "<polyline clip-path=\"url(#clip210)\" style=\"stroke:#000000; stroke-linecap:butt; stroke-linejoin:round; stroke-width:4; stroke-opacity:1; fill:none\" points=\"\n",
       "  112.177,1486.45 112.177,47.2441 \n",
       "  \"/>\n",
       "<polyline clip-path=\"url(#clip210)\" style=\"stroke:#000000; stroke-linecap:butt; stroke-linejoin:round; stroke-width:4; stroke-opacity:1; fill:none\" points=\"\n",
       "  112.177,1445.72 139.064,1445.72 \n",
       "  \"/>\n",
       "<polyline clip-path=\"url(#clip210)\" style=\"stroke:#000000; stroke-linecap:butt; stroke-linejoin:round; stroke-width:4; stroke-opacity:1; fill:none\" points=\"\n",
       "  112.177,1144 139.064,1144 \n",
       "  \"/>\n",
       "<polyline clip-path=\"url(#clip210)\" style=\"stroke:#000000; stroke-linecap:butt; stroke-linejoin:round; stroke-width:4; stroke-opacity:1; fill:none\" points=\"\n",
       "  112.177,842.276 139.064,842.276 \n",
       "  \"/>\n",
       "<polyline clip-path=\"url(#clip210)\" style=\"stroke:#000000; stroke-linecap:butt; stroke-linejoin:round; stroke-width:4; stroke-opacity:1; fill:none\" points=\"\n",
       "  112.177,540.556 139.064,540.556 \n",
       "  \"/>\n",
       "<polyline clip-path=\"url(#clip210)\" style=\"stroke:#000000; stroke-linecap:butt; stroke-linejoin:round; stroke-width:4; stroke-opacity:1; fill:none\" points=\"\n",
       "  112.177,238.836 139.064,238.836 \n",
       "  \"/>\n",
       "<path clip-path=\"url(#clip210)\" d=\"M64.2328 1431.51 Q60.6217 1431.51 58.793 1435.08 Q56.9875 1438.62 56.9875 1445.75 Q56.9875 1452.86 58.793 1456.42 Q60.6217 1459.96 64.2328 1459.96 Q67.867 1459.96 69.6726 1456.42 Q71.5013 1452.86 71.5013 1445.75 Q71.5013 1438.62 69.6726 1435.08 Q67.867 1431.51 64.2328 1431.51 M64.2328 1427.81 Q70.0429 1427.81 73.0985 1432.42 Q76.1772 1437 76.1772 1445.75 Q76.1772 1454.48 73.0985 1459.08 Q70.0429 1463.67 64.2328 1463.67 Q58.4226 1463.67 55.344 1459.08 Q52.2884 1454.48 52.2884 1445.75 Q52.2884 1437 55.344 1432.42 Q58.4226 1427.81 64.2328 1427.81 Z\" fill=\"#000000\" fill-rule=\"evenodd\" fill-opacity=\"1\" /><path clip-path=\"url(#clip210)\" d=\"M59.8578 1157.34 L76.1772 1157.34 L76.1772 1161.28 L54.2328 1161.28 L54.2328 1157.34 Q56.8949 1154.59 61.4782 1149.96 Q66.0846 1145.3 67.2652 1143.96 Q69.5105 1141.44 70.3902 1139.7 Q71.2929 1137.94 71.2929 1136.25 Q71.2929 1133.5 69.3485 1131.76 Q67.4272 1130.03 64.3254 1130.03 Q62.1263 1130.03 59.6726 1130.79 Q57.2421 1131.55 54.4643 1133.1 L54.4643 1128.38 Q57.2884 1127.25 59.7421 1126.67 Q62.1958 1126.09 64.2328 1126.09 Q69.6031 1126.09 72.7976 1128.78 Q75.992 1131.46 75.992 1135.95 Q75.992 1138.08 75.1818 1140 Q74.3948 1141.9 72.2883 1144.49 Q71.7096 1145.16 68.6078 1148.38 Q65.5059 1151.58 59.8578 1157.34 Z\" fill=\"#000000\" fill-rule=\"evenodd\" fill-opacity=\"1\" /><path clip-path=\"url(#clip210)\" d=\"M66.5939 829.07 L54.7884 847.519 L66.5939 847.519 L66.5939 829.07 M65.367 824.996 L71.2466 824.996 L71.2466 847.519 L76.1772 847.519 L76.1772 851.408 L71.2466 851.408 L71.2466 859.556 L66.5939 859.556 L66.5939 851.408 L50.9921 851.408 L50.9921 846.894 L65.367 824.996 Z\" fill=\"#000000\" fill-rule=\"evenodd\" fill-opacity=\"1\" /><path clip-path=\"url(#clip210)\" d=\"M64.6495 538.693 Q61.5013 538.693 59.6495 540.845 Q57.8208 542.998 57.8208 546.748 Q57.8208 550.475 59.6495 552.651 Q61.5013 554.804 64.6495 554.804 Q67.7976 554.804 69.6263 552.651 Q71.4781 550.475 71.4781 546.748 Q71.4781 542.998 69.6263 540.845 Q67.7976 538.693 64.6495 538.693 M73.9318 524.04 L73.9318 528.299 Q72.1726 527.466 70.367 527.026 Q68.5846 526.586 66.8254 526.586 Q62.1958 526.586 59.7421 529.711 Q57.3115 532.836 56.9643 539.156 Q58.33 537.142 60.3902 536.077 Q62.4504 534.989 64.9272 534.989 Q70.1355 534.989 73.1448 538.16 Q76.1772 541.308 76.1772 546.748 Q76.1772 552.072 73.029 555.29 Q69.8809 558.507 64.6495 558.507 Q58.6541 558.507 55.4828 553.924 Q52.3116 549.318 52.3116 540.591 Q52.3116 532.396 56.2004 527.535 Q60.0893 522.651 66.6402 522.651 Q68.3994 522.651 70.1818 522.998 Q71.9874 523.346 73.9318 524.04 Z\" fill=\"#000000\" fill-rule=\"evenodd\" fill-opacity=\"1\" /><path clip-path=\"url(#clip210)\" d=\"M64.3254 239.704 Q60.9921 239.704 59.0708 241.487 Q57.1726 243.269 57.1726 246.394 Q57.1726 249.519 59.0708 251.301 Q60.9921 253.084 64.3254 253.084 Q67.6587 253.084 69.58 251.301 Q71.5013 249.496 71.5013 246.394 Q71.5013 243.269 69.58 241.487 Q67.6819 239.704 64.3254 239.704 M59.6495 237.714 Q56.6402 236.973 54.9504 234.913 Q53.2838 232.852 53.2838 229.89 Q53.2838 225.746 56.2236 223.339 Q59.1865 220.931 64.3254 220.931 Q69.4874 220.931 72.4272 223.339 Q75.367 225.746 75.367 229.89 Q75.367 232.852 73.6772 234.913 Q72.0105 236.973 69.0244 237.714 Q72.404 238.501 74.279 240.792 Q76.1772 243.084 76.1772 246.394 Q76.1772 251.417 73.0985 254.102 Q70.0429 256.788 64.3254 256.788 Q58.6078 256.788 55.5291 254.102 Q52.4736 251.417 52.4736 246.394 Q52.4736 243.084 54.3717 240.792 Q56.2699 238.501 59.6495 237.714 M57.9365 230.329 Q57.9365 233.014 59.6032 234.519 Q61.293 236.024 64.3254 236.024 Q67.3346 236.024 69.0244 234.519 Q70.7374 233.014 70.7374 230.329 Q70.7374 227.644 69.0244 226.14 Q67.3346 224.635 64.3254 224.635 Q61.293 224.635 59.6032 226.14 Q57.9365 227.644 57.9365 230.329 Z\" fill=\"#000000\" fill-rule=\"evenodd\" fill-opacity=\"1\" /><path clip-path=\"url(#clip212)\" d=\"\n",
       "M235.413 87.9763 L235.413 1445.72 L1232.47 1445.72 L1232.47 87.9763 L235.413 87.9763 L235.413 87.9763  Z\n",
       "  \" fill=\"#009af9\" fill-rule=\"evenodd\" fill-opacity=\"1\"/>\n",
       "<polyline clip-path=\"url(#clip212)\" style=\"stroke:#000000; stroke-linecap:butt; stroke-linejoin:round; stroke-width:4; stroke-opacity:1; fill:none\" points=\"\n",
       "  235.413,87.9763 235.413,1445.72 1232.47,1445.72 1232.47,87.9763 235.413,87.9763 \n",
       "  \"/>\n",
       "<path clip-path=\"url(#clip212)\" d=\"\n",
       "M1232.47 540.556 L1232.47 1445.72 L2229.52 1445.72 L2229.52 540.556 L1232.47 540.556 L1232.47 540.556  Z\n",
       "  \" fill=\"#009af9\" fill-rule=\"evenodd\" fill-opacity=\"1\"/>\n",
       "<polyline clip-path=\"url(#clip212)\" style=\"stroke:#000000; stroke-linecap:butt; stroke-linejoin:round; stroke-width:4; stroke-opacity:1; fill:none\" points=\"\n",
       "  1232.47,540.556 1232.47,1445.72 2229.52,1445.72 2229.52,540.556 1232.47,540.556 \n",
       "  \"/>\n",
       "<path clip-path=\"url(#clip210)\" d=\"\n",
       "M1976.69 216.178 L2278.07 216.178 L2278.07 95.2176 L1976.69 95.2176  Z\n",
       "  \" fill=\"#ffffff\" fill-rule=\"evenodd\" fill-opacity=\"1\"/>\n",
       "<polyline clip-path=\"url(#clip210)\" style=\"stroke:#000000; stroke-linecap:butt; stroke-linejoin:round; stroke-width:4; stroke-opacity:1; fill:none\" points=\"\n",
       "  1976.69,216.178 2278.07,216.178 2278.07,95.2176 1976.69,95.2176 1976.69,216.178 \n",
       "  \"/>\n",
       "<path clip-path=\"url(#clip210)\" d=\"\n",
       "M2001.58 179.89 L2150.95 179.89 L2150.95 131.506 L2001.58 131.506 L2001.58 179.89  Z\n",
       "  \" fill=\"#009af9\" fill-rule=\"evenodd\" fill-opacity=\"1\"/>\n",
       "<polyline clip-path=\"url(#clip210)\" style=\"stroke:#000000; stroke-linecap:butt; stroke-linejoin:round; stroke-width:4; stroke-opacity:1; fill:none\" points=\"\n",
       "  2001.58,179.89 2150.95,179.89 2150.95,131.506 2001.58,131.506 2001.58,179.89 \n",
       "  \"/>\n",
       "<path clip-path=\"url(#clip210)\" d=\"M2189.69 175.385 Q2187.89 180.015 2186.17 181.427 Q2184.46 182.839 2181.59 182.839 L2178.19 182.839 L2178.19 179.274 L2180.69 179.274 Q2182.45 179.274 2183.42 178.44 Q2184.39 177.607 2185.57 174.505 L2186.34 172.561 L2175.85 147.052 L2180.36 147.052 L2188.46 167.329 L2196.57 147.052 L2201.08 147.052 L2189.69 175.385 Z\" fill=\"#000000\" fill-rule=\"evenodd\" fill-opacity=\"1\" /><path clip-path=\"url(#clip210)\" d=\"M2208.37 169.042 L2216.01 169.042 L2216.01 142.677 L2207.7 144.343 L2207.7 140.084 L2215.96 138.418 L2220.64 138.418 L2220.64 169.042 L2228.28 169.042 L2228.28 172.978 L2208.37 172.978 L2208.37 169.042 Z\" fill=\"#000000\" fill-rule=\"evenodd\" fill-opacity=\"1\" /></svg>\n"
      ]
     },
     "execution_count": 68,
     "metadata": {},
     "output_type": "execute_result"
    }
   ],
   "source": [
    "histogram(y)"
   ]
  },
  {
   "cell_type": "code",
   "execution_count": 70,
   "metadata": {},
   "outputs": [
    {
     "data": {
      "image/svg+xml": [
       "<?xml version=\"1.0\" encoding=\"utf-8\"?>\n",
       "<svg xmlns=\"http://www.w3.org/2000/svg\" xmlns:xlink=\"http://www.w3.org/1999/xlink\" width=\"600\" height=\"400\" viewBox=\"0 0 2400 1600\">\n",
       "<defs>\n",
       "  <clipPath id=\"clip250\">\n",
       "    <rect x=\"0\" y=\"0\" width=\"2400\" height=\"1600\"/>\n",
       "  </clipPath>\n",
       "</defs>\n",
       "<path clip-path=\"url(#clip250)\" d=\"\n",
       "M0 1600 L2400 1600 L2400 0 L0 0  Z\n",
       "  \" fill=\"#ffffff\" fill-rule=\"evenodd\" fill-opacity=\"1\"/>\n",
       "<defs>\n",
       "  <clipPath id=\"clip251\">\n",
       "    <rect x=\"480\" y=\"0\" width=\"1681\" height=\"1600\"/>\n",
       "  </clipPath>\n",
       "</defs>\n",
       "<path clip-path=\"url(#clip250)\" d=\"\n",
       "M156.598 686.448 L1152.76 686.448 L1152.76 47.2441 L156.598 47.2441  Z\n",
       "  \" fill=\"#ffffff\" fill-rule=\"evenodd\" fill-opacity=\"1\"/>\n",
       "<defs>\n",
       "  <clipPath id=\"clip252\">\n",
       "    <rect x=\"156\" y=\"47\" width=\"997\" height=\"640\"/>\n",
       "  </clipPath>\n",
       "</defs>\n",
       "<polyline clip-path=\"url(#clip252)\" style=\"stroke:#000000; stroke-linecap:butt; stroke-linejoin:round; stroke-width:2; stroke-opacity:0.1; fill:none\" points=\"\n",
       "  251.918,686.448 251.918,47.2441 \n",
       "  \"/>\n",
       "<polyline clip-path=\"url(#clip252)\" style=\"stroke:#000000; stroke-linecap:butt; stroke-linejoin:round; stroke-width:2; stroke-opacity:0.1; fill:none\" points=\"\n",
       "  386.171,686.448 386.171,47.2441 \n",
       "  \"/>\n",
       "<polyline clip-path=\"url(#clip252)\" style=\"stroke:#000000; stroke-linecap:butt; stroke-linejoin:round; stroke-width:2; stroke-opacity:0.1; fill:none\" points=\"\n",
       "  520.424,686.448 520.424,47.2441 \n",
       "  \"/>\n",
       "<polyline clip-path=\"url(#clip252)\" style=\"stroke:#000000; stroke-linecap:butt; stroke-linejoin:round; stroke-width:2; stroke-opacity:0.1; fill:none\" points=\"\n",
       "  654.677,686.448 654.677,47.2441 \n",
       "  \"/>\n",
       "<polyline clip-path=\"url(#clip252)\" style=\"stroke:#000000; stroke-linecap:butt; stroke-linejoin:round; stroke-width:2; stroke-opacity:0.1; fill:none\" points=\"\n",
       "  788.93,686.448 788.93,47.2441 \n",
       "  \"/>\n",
       "<polyline clip-path=\"url(#clip252)\" style=\"stroke:#000000; stroke-linecap:butt; stroke-linejoin:round; stroke-width:2; stroke-opacity:0.1; fill:none\" points=\"\n",
       "  923.183,686.448 923.183,47.2441 \n",
       "  \"/>\n",
       "<polyline clip-path=\"url(#clip252)\" style=\"stroke:#000000; stroke-linecap:butt; stroke-linejoin:round; stroke-width:2; stroke-opacity:0.1; fill:none\" points=\"\n",
       "  1057.44,686.448 1057.44,47.2441 \n",
       "  \"/>\n",
       "<polyline clip-path=\"url(#clip250)\" style=\"stroke:#000000; stroke-linecap:butt; stroke-linejoin:round; stroke-width:4; stroke-opacity:1; fill:none\" points=\"\n",
       "  156.598,686.448 1152.76,686.448 \n",
       "  \"/>\n",
       "<polyline clip-path=\"url(#clip250)\" style=\"stroke:#000000; stroke-linecap:butt; stroke-linejoin:round; stroke-width:4; stroke-opacity:1; fill:none\" points=\"\n",
       "  251.918,686.448 251.918,678.777 \n",
       "  \"/>\n",
       "<polyline clip-path=\"url(#clip250)\" style=\"stroke:#000000; stroke-linecap:butt; stroke-linejoin:round; stroke-width:4; stroke-opacity:1; fill:none\" points=\"\n",
       "  386.171,686.448 386.171,678.777 \n",
       "  \"/>\n",
       "<polyline clip-path=\"url(#clip250)\" style=\"stroke:#000000; stroke-linecap:butt; stroke-linejoin:round; stroke-width:4; stroke-opacity:1; fill:none\" points=\"\n",
       "  520.424,686.448 520.424,678.777 \n",
       "  \"/>\n",
       "<polyline clip-path=\"url(#clip250)\" style=\"stroke:#000000; stroke-linecap:butt; stroke-linejoin:round; stroke-width:4; stroke-opacity:1; fill:none\" points=\"\n",
       "  654.677,686.448 654.677,678.777 \n",
       "  \"/>\n",
       "<polyline clip-path=\"url(#clip250)\" style=\"stroke:#000000; stroke-linecap:butt; stroke-linejoin:round; stroke-width:4; stroke-opacity:1; fill:none\" points=\"\n",
       "  788.93,686.448 788.93,678.777 \n",
       "  \"/>\n",
       "<polyline clip-path=\"url(#clip250)\" style=\"stroke:#000000; stroke-linecap:butt; stroke-linejoin:round; stroke-width:4; stroke-opacity:1; fill:none\" points=\"\n",
       "  923.183,686.448 923.183,678.777 \n",
       "  \"/>\n",
       "<polyline clip-path=\"url(#clip250)\" style=\"stroke:#000000; stroke-linecap:butt; stroke-linejoin:round; stroke-width:4; stroke-opacity:1; fill:none\" points=\"\n",
       "  1057.44,686.448 1057.44,678.777 \n",
       "  \"/>\n",
       "<path clip-path=\"url(#clip250)\" d=\"M246.571 743.185 L262.89 743.185 L262.89 747.12 L240.946 747.12 L240.946 743.185 Q243.608 740.43 248.191 735.8 Q252.798 731.148 253.978 729.805 Q256.223 727.282 257.103 725.546 Q258.006 723.787 258.006 722.097 Q258.006 719.342 256.061 717.606 Q254.14 715.87 251.038 715.87 Q248.839 715.87 246.386 716.634 Q243.955 717.398 241.177 718.949 L241.177 714.227 Q244.001 713.092 246.455 712.514 Q248.909 711.935 250.946 711.935 Q256.316 711.935 259.51 714.62 Q262.705 717.305 262.705 721.796 Q262.705 723.926 261.895 725.847 Q261.108 727.745 259.001 730.338 Q258.422 731.009 255.321 734.226 Q252.219 737.421 246.571 743.185 Z\" fill=\"#000000\" fill-rule=\"evenodd\" fill-opacity=\"1\" /><path clip-path=\"url(#clip250)\" d=\"M389.18 716.634 L377.375 735.083 L389.18 735.083 L389.18 716.634 M387.953 712.56 L393.833 712.56 L393.833 735.083 L398.763 735.083 L398.763 738.972 L393.833 738.972 L393.833 747.12 L389.18 747.12 L389.18 738.972 L373.578 738.972 L373.578 734.458 L387.953 712.56 Z\" fill=\"#000000\" fill-rule=\"evenodd\" fill-opacity=\"1\" /><path clip-path=\"url(#clip250)\" d=\"M520.829 727.976 Q517.681 727.976 515.829 730.129 Q514 732.282 514 736.032 Q514 739.759 515.829 741.935 Q517.681 744.087 520.829 744.087 Q523.977 744.087 525.806 741.935 Q527.658 739.759 527.658 736.032 Q527.658 732.282 525.806 730.129 Q523.977 727.976 520.829 727.976 M530.111 713.324 L530.111 717.583 Q528.352 716.75 526.547 716.31 Q524.764 715.87 523.005 715.87 Q518.375 715.87 515.922 718.995 Q513.491 722.12 513.144 728.439 Q514.51 726.426 516.57 725.361 Q518.63 724.273 521.107 724.273 Q526.315 724.273 529.324 727.444 Q532.357 730.592 532.357 736.032 Q532.357 741.356 529.209 744.574 Q526.061 747.791 520.829 747.791 Q514.834 747.791 511.662 743.208 Q508.491 738.601 508.491 729.875 Q508.491 721.68 512.38 716.819 Q516.269 711.935 522.82 711.935 Q524.579 711.935 526.361 712.282 Q528.167 712.629 530.111 713.324 Z\" fill=\"#000000\" fill-rule=\"evenodd\" fill-opacity=\"1\" /><path clip-path=\"url(#clip250)\" d=\"M654.677 730.708 Q651.344 730.708 649.422 732.49 Q647.524 734.273 647.524 737.398 Q647.524 740.523 649.422 742.305 Q651.344 744.087 654.677 744.087 Q658.01 744.087 659.932 742.305 Q661.853 740.5 661.853 737.398 Q661.853 734.273 659.932 732.49 Q658.034 730.708 654.677 730.708 M650.001 728.717 Q646.992 727.976 645.302 725.916 Q643.635 723.856 643.635 720.893 Q643.635 716.75 646.575 714.342 Q649.538 711.935 654.677 711.935 Q659.839 711.935 662.779 714.342 Q665.719 716.75 665.719 720.893 Q665.719 723.856 664.029 725.916 Q662.362 727.976 659.376 728.717 Q662.756 729.504 664.631 731.796 Q666.529 734.088 666.529 737.398 Q666.529 742.421 663.45 745.106 Q660.395 747.791 654.677 747.791 Q648.96 747.791 645.881 745.106 Q642.825 742.421 642.825 737.398 Q642.825 734.088 644.723 731.796 Q646.622 729.504 650.001 728.717 M648.288 721.333 Q648.288 724.018 649.955 725.523 Q651.645 727.027 654.677 727.027 Q657.686 727.027 659.376 725.523 Q661.089 724.018 661.089 721.333 Q661.089 718.648 659.376 717.143 Q657.686 715.639 654.677 715.639 Q651.645 715.639 649.955 717.143 Q648.288 718.648 648.288 721.333 Z\" fill=\"#000000\" fill-rule=\"evenodd\" fill-opacity=\"1\" /><path clip-path=\"url(#clip250)\" d=\"M763.618 743.185 L771.257 743.185 L771.257 716.819 L762.946 718.486 L762.946 714.227 L771.21 712.56 L775.886 712.56 L775.886 743.185 L783.525 743.185 L783.525 747.12 L763.618 747.12 L763.618 743.185 Z\" fill=\"#000000\" fill-rule=\"evenodd\" fill-opacity=\"1\" /><path clip-path=\"url(#clip250)\" d=\"M802.969 715.639 Q799.358 715.639 797.53 719.203 Q795.724 722.745 795.724 729.875 Q795.724 736.981 797.53 740.546 Q799.358 744.087 802.969 744.087 Q806.604 744.087 808.409 740.546 Q810.238 736.981 810.238 729.875 Q810.238 722.745 808.409 719.203 Q806.604 715.639 802.969 715.639 M802.969 711.935 Q808.78 711.935 811.835 716.541 Q814.914 721.125 814.914 729.875 Q814.914 738.601 811.835 743.208 Q808.78 747.791 802.969 747.791 Q797.159 747.791 794.081 743.208 Q791.025 738.601 791.025 729.875 Q791.025 721.125 794.081 716.541 Q797.159 711.935 802.969 711.935 Z\" fill=\"#000000\" fill-rule=\"evenodd\" fill-opacity=\"1\" /><path clip-path=\"url(#clip250)\" d=\"M898.669 743.185 L906.308 743.185 L906.308 716.819 L897.998 718.486 L897.998 714.227 L906.262 712.56 L910.938 712.56 L910.938 743.185 L918.577 743.185 L918.577 747.12 L898.669 747.12 L898.669 743.185 Z\" fill=\"#000000\" fill-rule=\"evenodd\" fill-opacity=\"1\" /><path clip-path=\"url(#clip250)\" d=\"M932.049 743.185 L948.368 743.185 L948.368 747.12 L926.424 747.12 L926.424 743.185 Q929.086 740.43 933.669 735.8 Q938.276 731.148 939.456 729.805 Q941.702 727.282 942.581 725.546 Q943.484 723.787 943.484 722.097 Q943.484 719.342 941.54 717.606 Q939.618 715.87 936.516 715.87 Q934.317 715.87 931.864 716.634 Q929.433 717.398 926.655 718.949 L926.655 714.227 Q929.479 713.092 931.933 712.514 Q934.387 711.935 936.424 711.935 Q941.794 711.935 944.989 714.62 Q948.183 717.305 948.183 721.796 Q948.183 723.926 947.373 725.847 Q946.586 727.745 944.479 730.338 Q943.901 731.009 940.799 734.226 Q937.697 737.421 932.049 743.185 Z\" fill=\"#000000\" fill-rule=\"evenodd\" fill-opacity=\"1\" /><path clip-path=\"url(#clip250)\" d=\"M1031.88 743.185 L1039.52 743.185 L1039.52 716.819 L1031.21 718.486 L1031.21 714.227 L1039.47 712.56 L1044.15 712.56 L1044.15 743.185 L1051.79 743.185 L1051.79 747.12 L1031.88 747.12 L1031.88 743.185 Z\" fill=\"#000000\" fill-rule=\"evenodd\" fill-opacity=\"1\" /><path clip-path=\"url(#clip250)\" d=\"M1074.08 716.634 L1062.27 735.083 L1074.08 735.083 L1074.08 716.634 M1072.85 712.56 L1078.73 712.56 L1078.73 735.083 L1083.66 735.083 L1083.66 738.972 L1078.73 738.972 L1078.73 747.12 L1074.08 747.12 L1074.08 738.972 L1058.48 738.972 L1058.48 734.458 L1072.85 712.56 Z\" fill=\"#000000\" fill-rule=\"evenodd\" fill-opacity=\"1\" /><polyline clip-path=\"url(#clip252)\" style=\"stroke:#000000; stroke-linecap:butt; stroke-linejoin:round; stroke-width:2; stroke-opacity:0.1; fill:none\" points=\"\n",
       "  156.598,559.577 1152.76,559.577 \n",
       "  \"/>\n",
       "<polyline clip-path=\"url(#clip252)\" style=\"stroke:#000000; stroke-linecap:butt; stroke-linejoin:round; stroke-width:2; stroke-opacity:0.1; fill:none\" points=\"\n",
       "  156.598,423.982 1152.76,423.982 \n",
       "  \"/>\n",
       "<polyline clip-path=\"url(#clip252)\" style=\"stroke:#000000; stroke-linecap:butt; stroke-linejoin:round; stroke-width:2; stroke-opacity:0.1; fill:none\" points=\"\n",
       "  156.598,288.386 1152.76,288.386 \n",
       "  \"/>\n",
       "<polyline clip-path=\"url(#clip252)\" style=\"stroke:#000000; stroke-linecap:butt; stroke-linejoin:round; stroke-width:2; stroke-opacity:0.1; fill:none\" points=\"\n",
       "  156.598,152.79 1152.76,152.79 \n",
       "  \"/>\n",
       "<polyline clip-path=\"url(#clip250)\" style=\"stroke:#000000; stroke-linecap:butt; stroke-linejoin:round; stroke-width:4; stroke-opacity:1; fill:none\" points=\"\n",
       "  156.598,686.448 156.598,47.2441 \n",
       "  \"/>\n",
       "<polyline clip-path=\"url(#clip250)\" style=\"stroke:#000000; stroke-linecap:butt; stroke-linejoin:round; stroke-width:4; stroke-opacity:1; fill:none\" points=\"\n",
       "  156.598,559.577 168.552,559.577 \n",
       "  \"/>\n",
       "<polyline clip-path=\"url(#clip250)\" style=\"stroke:#000000; stroke-linecap:butt; stroke-linejoin:round; stroke-width:4; stroke-opacity:1; fill:none\" points=\"\n",
       "  156.598,423.982 168.552,423.982 \n",
       "  \"/>\n",
       "<polyline clip-path=\"url(#clip250)\" style=\"stroke:#000000; stroke-linecap:butt; stroke-linejoin:round; stroke-width:4; stroke-opacity:1; fill:none\" points=\"\n",
       "  156.598,288.386 168.552,288.386 \n",
       "  \"/>\n",
       "<polyline clip-path=\"url(#clip250)\" style=\"stroke:#000000; stroke-linecap:butt; stroke-linejoin:round; stroke-width:4; stroke-opacity:1; fill:none\" points=\"\n",
       "  156.598,152.79 168.552,152.79 \n",
       "  \"/>\n",
       "<path clip-path=\"url(#clip250)\" d=\"M65.0198 545.376 Q61.4087 545.376 59.58 548.941 Q57.7745 552.483 57.7745 559.612 Q57.7745 566.719 59.58 570.283 Q61.4087 573.825 65.0198 573.825 Q68.6541 573.825 70.4596 570.283 Q72.2883 566.719 72.2883 559.612 Q72.2883 552.483 70.4596 548.941 Q68.6541 545.376 65.0198 545.376 M65.0198 541.672 Q70.83 541.672 73.8855 546.279 Q76.9642 550.862 76.9642 559.612 Q76.9642 568.339 73.8855 572.945 Q70.83 577.529 65.0198 577.529 Q59.2097 577.529 56.131 572.945 Q53.0754 568.339 53.0754 559.612 Q53.0754 550.862 56.131 546.279 Q59.2097 541.672 65.0198 541.672 Z\" fill=\"#000000\" fill-rule=\"evenodd\" fill-opacity=\"1\" /><path clip-path=\"url(#clip250)\" d=\"M85.1818 570.978 L90.066 570.978 L90.066 576.857 L85.1818 576.857 L85.1818 570.978 Z\" fill=\"#000000\" fill-rule=\"evenodd\" fill-opacity=\"1\" /><path clip-path=\"url(#clip250)\" d=\"M104.279 572.922 L120.598 572.922 L120.598 576.857 L98.6539 576.857 L98.6539 572.922 Q101.316 570.168 105.899 565.538 Q110.506 560.885 111.686 559.543 Q113.932 557.02 114.811 555.284 Q115.714 553.524 115.714 551.834 Q115.714 549.08 113.77 547.344 Q111.848 545.608 108.746 545.608 Q106.547 545.608 104.094 546.372 Q101.663 547.135 98.8854 548.686 L98.8854 543.964 Q101.709 542.83 104.163 542.251 Q106.617 541.672 108.654 541.672 Q114.024 541.672 117.219 544.358 Q120.413 547.043 120.413 551.534 Q120.413 553.663 119.603 555.584 Q118.816 557.483 116.709 560.075 Q116.131 560.746 113.029 563.964 Q109.927 567.158 104.279 572.922 Z\" fill=\"#000000\" fill-rule=\"evenodd\" fill-opacity=\"1\" /><path clip-path=\"url(#clip250)\" d=\"M62.9365 409.78 Q59.3254 409.78 57.4967 413.345 Q55.6912 416.887 55.6912 424.016 Q55.6912 431.123 57.4967 434.688 Q59.3254 438.229 62.9365 438.229 Q66.5707 438.229 68.3763 434.688 Q70.205 431.123 70.205 424.016 Q70.205 416.887 68.3763 413.345 Q66.5707 409.78 62.9365 409.78 M62.9365 406.077 Q68.7467 406.077 71.8022 410.683 Q74.8809 415.266 74.8809 424.016 Q74.8809 432.743 71.8022 437.35 Q68.7467 441.933 62.9365 441.933 Q57.1264 441.933 54.0477 437.35 Q50.9921 432.743 50.9921 424.016 Q50.9921 415.266 54.0477 410.683 Q57.1264 406.077 62.9365 406.077 Z\" fill=\"#000000\" fill-rule=\"evenodd\" fill-opacity=\"1\" /><path clip-path=\"url(#clip250)\" d=\"M83.0984 435.382 L87.9827 435.382 L87.9827 441.262 L83.0984 441.262 L83.0984 435.382 Z\" fill=\"#000000\" fill-rule=\"evenodd\" fill-opacity=\"1\" /><path clip-path=\"url(#clip250)\" d=\"M111.015 410.776 L99.2095 429.225 L111.015 429.225 L111.015 410.776 M109.788 406.702 L115.668 406.702 L115.668 429.225 L120.598 429.225 L120.598 433.114 L115.668 433.114 L115.668 441.262 L111.015 441.262 L111.015 433.114 L95.4132 433.114 L95.4132 428.6 L109.788 406.702 Z\" fill=\"#000000\" fill-rule=\"evenodd\" fill-opacity=\"1\" /><path clip-path=\"url(#clip250)\" d=\"M63.2606 274.185 Q59.6495 274.185 57.8208 277.749 Q56.0152 281.291 56.0152 288.421 Q56.0152 295.527 57.8208 299.092 Q59.6495 302.634 63.2606 302.634 Q66.8948 302.634 68.7004 299.092 Q70.5291 295.527 70.5291 288.421 Q70.5291 281.291 68.7004 277.749 Q66.8948 274.185 63.2606 274.185 M63.2606 270.481 Q69.0707 270.481 72.1263 275.087 Q75.205 279.671 75.205 288.421 Q75.205 297.147 72.1263 301.754 Q69.0707 306.337 63.2606 306.337 Q57.4504 306.337 54.3717 301.754 Q51.3162 297.147 51.3162 288.421 Q51.3162 279.671 54.3717 275.087 Q57.4504 270.481 63.2606 270.481 Z\" fill=\"#000000\" fill-rule=\"evenodd\" fill-opacity=\"1\" /><path clip-path=\"url(#clip250)\" d=\"M83.4225 299.786 L88.3067 299.786 L88.3067 305.666 L83.4225 305.666 L83.4225 299.786 Z\" fill=\"#000000\" fill-rule=\"evenodd\" fill-opacity=\"1\" /><path clip-path=\"url(#clip250)\" d=\"M109.071 286.523 Q105.922 286.523 104.071 288.675 Q102.242 290.828 102.242 294.578 Q102.242 298.305 104.071 300.481 Q105.922 302.634 109.071 302.634 Q112.219 302.634 114.047 300.481 Q115.899 298.305 115.899 294.578 Q115.899 290.828 114.047 288.675 Q112.219 286.523 109.071 286.523 M118.353 271.87 L118.353 276.129 Q116.594 275.296 114.788 274.856 Q113.006 274.416 111.246 274.416 Q106.617 274.416 104.163 277.541 Q101.733 280.666 101.385 286.985 Q102.751 284.972 104.811 283.907 Q106.871 282.819 109.348 282.819 Q114.557 282.819 117.566 285.99 Q120.598 289.138 120.598 294.578 Q120.598 299.902 117.45 303.12 Q114.302 306.337 109.071 306.337 Q103.075 306.337 99.9039 301.754 Q96.7326 297.147 96.7326 288.421 Q96.7326 280.226 100.621 275.365 Q104.51 270.481 111.061 270.481 Q112.82 270.481 114.603 270.828 Q116.408 271.175 118.353 271.87 Z\" fill=\"#000000\" fill-rule=\"evenodd\" fill-opacity=\"1\" /><path clip-path=\"url(#clip250)\" d=\"M63.5152 138.589 Q59.9041 138.589 58.0754 142.154 Q56.2699 145.695 56.2699 152.825 Q56.2699 159.931 58.0754 163.496 Q59.9041 167.038 63.5152 167.038 Q67.1494 167.038 68.955 163.496 Q70.7837 159.931 70.7837 152.825 Q70.7837 145.695 68.955 142.154 Q67.1494 138.589 63.5152 138.589 M63.5152 134.885 Q69.3254 134.885 72.3809 139.492 Q75.4596 144.075 75.4596 152.825 Q75.4596 161.552 72.3809 166.158 Q69.3254 170.741 63.5152 170.741 Q57.7051 170.741 54.6264 166.158 Q51.5708 161.552 51.5708 152.825 Q51.5708 144.075 54.6264 139.492 Q57.7051 134.885 63.5152 134.885 Z\" fill=\"#000000\" fill-rule=\"evenodd\" fill-opacity=\"1\" /><path clip-path=\"url(#clip250)\" d=\"M83.6771 164.191 L88.5614 164.191 L88.5614 170.07 L83.6771 170.07 L83.6771 164.191 Z\" fill=\"#000000\" fill-rule=\"evenodd\" fill-opacity=\"1\" /><path clip-path=\"url(#clip250)\" d=\"M108.746 153.658 Q105.413 153.658 103.492 155.441 Q101.594 157.223 101.594 160.348 Q101.594 163.473 103.492 165.255 Q105.413 167.038 108.746 167.038 Q112.08 167.038 114.001 165.255 Q115.922 163.45 115.922 160.348 Q115.922 157.223 114.001 155.441 Q112.103 153.658 108.746 153.658 M104.071 151.667 Q101.061 150.927 99.3715 148.867 Q97.7048 146.806 97.7048 143.843 Q97.7048 139.7 100.645 137.293 Q103.608 134.885 108.746 134.885 Q113.908 134.885 116.848 137.293 Q119.788 139.7 119.788 143.843 Q119.788 146.806 118.098 148.867 Q116.432 150.927 113.445 151.667 Q116.825 152.454 118.7 154.746 Q120.598 157.038 120.598 160.348 Q120.598 165.371 117.52 168.056 Q114.464 170.741 108.746 170.741 Q103.029 170.741 99.9502 168.056 Q96.8947 165.371 96.8947 160.348 Q96.8947 157.038 98.7928 154.746 Q100.691 152.454 104.071 151.667 M102.358 144.283 Q102.358 146.968 104.024 148.473 Q105.714 149.978 108.746 149.978 Q111.756 149.978 113.445 148.473 Q115.158 146.968 115.158 144.283 Q115.158 141.598 113.445 140.093 Q111.756 138.589 108.746 138.589 Q105.714 138.589 104.024 140.093 Q102.358 141.598 102.358 144.283 Z\" fill=\"#000000\" fill-rule=\"evenodd\" fill-opacity=\"1\" /><polyline clip-path=\"url(#clip252)\" style=\"stroke:#009af9; stroke-linecap:butt; stroke-linejoin:round; stroke-width:4; stroke-opacity:1; fill:none\" points=\"\n",
       "  184.791,404.949 251.918,493.006 319.044,536.259 386.171,616.232 453.297,513.372 520.424,271.351 587.551,303.903 654.677,668.357 721.804,126.328 788.93,446.076 \n",
       "  856.057,268.372 923.183,477.537 990.31,233.601 1057.44,397.149 1124.56,65.3348 \n",
       "  \"/>\n",
       "<path clip-path=\"url(#clip250)\" d=\"\n",
       "M1356.6 686.448 L2352.76 686.448 L2352.76 47.2441 L1356.6 47.2441  Z\n",
       "  \" fill=\"#ffffff\" fill-rule=\"evenodd\" fill-opacity=\"1\"/>\n",
       "<defs>\n",
       "  <clipPath id=\"clip253\">\n",
       "    <rect x=\"1356\" y=\"47\" width=\"997\" height=\"640\"/>\n",
       "  </clipPath>\n",
       "</defs>\n",
       "<polyline clip-path=\"url(#clip253)\" style=\"stroke:#000000; stroke-linecap:butt; stroke-linejoin:round; stroke-width:2; stroke-opacity:0.1; fill:none\" points=\"\n",
       "  1451.92,686.448 1451.92,47.2441 \n",
       "  \"/>\n",
       "<polyline clip-path=\"url(#clip253)\" style=\"stroke:#000000; stroke-linecap:butt; stroke-linejoin:round; stroke-width:2; stroke-opacity:0.1; fill:none\" points=\"\n",
       "  1586.17,686.448 1586.17,47.2441 \n",
       "  \"/>\n",
       "<polyline clip-path=\"url(#clip253)\" style=\"stroke:#000000; stroke-linecap:butt; stroke-linejoin:round; stroke-width:2; stroke-opacity:0.1; fill:none\" points=\"\n",
       "  1720.42,686.448 1720.42,47.2441 \n",
       "  \"/>\n",
       "<polyline clip-path=\"url(#clip253)\" style=\"stroke:#000000; stroke-linecap:butt; stroke-linejoin:round; stroke-width:2; stroke-opacity:0.1; fill:none\" points=\"\n",
       "  1854.68,686.448 1854.68,47.2441 \n",
       "  \"/>\n",
       "<polyline clip-path=\"url(#clip253)\" style=\"stroke:#000000; stroke-linecap:butt; stroke-linejoin:round; stroke-width:2; stroke-opacity:0.1; fill:none\" points=\"\n",
       "  1988.93,686.448 1988.93,47.2441 \n",
       "  \"/>\n",
       "<polyline clip-path=\"url(#clip253)\" style=\"stroke:#000000; stroke-linecap:butt; stroke-linejoin:round; stroke-width:2; stroke-opacity:0.1; fill:none\" points=\"\n",
       "  2123.18,686.448 2123.18,47.2441 \n",
       "  \"/>\n",
       "<polyline clip-path=\"url(#clip253)\" style=\"stroke:#000000; stroke-linecap:butt; stroke-linejoin:round; stroke-width:2; stroke-opacity:0.1; fill:none\" points=\"\n",
       "  2257.44,686.448 2257.44,47.2441 \n",
       "  \"/>\n",
       "<polyline clip-path=\"url(#clip250)\" style=\"stroke:#000000; stroke-linecap:butt; stroke-linejoin:round; stroke-width:4; stroke-opacity:1; fill:none\" points=\"\n",
       "  1356.6,686.448 2352.76,686.448 \n",
       "  \"/>\n",
       "<polyline clip-path=\"url(#clip250)\" style=\"stroke:#000000; stroke-linecap:butt; stroke-linejoin:round; stroke-width:4; stroke-opacity:1; fill:none\" points=\"\n",
       "  1451.92,686.448 1451.92,678.777 \n",
       "  \"/>\n",
       "<polyline clip-path=\"url(#clip250)\" style=\"stroke:#000000; stroke-linecap:butt; stroke-linejoin:round; stroke-width:4; stroke-opacity:1; fill:none\" points=\"\n",
       "  1586.17,686.448 1586.17,678.777 \n",
       "  \"/>\n",
       "<polyline clip-path=\"url(#clip250)\" style=\"stroke:#000000; stroke-linecap:butt; stroke-linejoin:round; stroke-width:4; stroke-opacity:1; fill:none\" points=\"\n",
       "  1720.42,686.448 1720.42,678.777 \n",
       "  \"/>\n",
       "<polyline clip-path=\"url(#clip250)\" style=\"stroke:#000000; stroke-linecap:butt; stroke-linejoin:round; stroke-width:4; stroke-opacity:1; fill:none\" points=\"\n",
       "  1854.68,686.448 1854.68,678.777 \n",
       "  \"/>\n",
       "<polyline clip-path=\"url(#clip250)\" style=\"stroke:#000000; stroke-linecap:butt; stroke-linejoin:round; stroke-width:4; stroke-opacity:1; fill:none\" points=\"\n",
       "  1988.93,686.448 1988.93,678.777 \n",
       "  \"/>\n",
       "<polyline clip-path=\"url(#clip250)\" style=\"stroke:#000000; stroke-linecap:butt; stroke-linejoin:round; stroke-width:4; stroke-opacity:1; fill:none\" points=\"\n",
       "  2123.18,686.448 2123.18,678.777 \n",
       "  \"/>\n",
       "<polyline clip-path=\"url(#clip250)\" style=\"stroke:#000000; stroke-linecap:butt; stroke-linejoin:round; stroke-width:4; stroke-opacity:1; fill:none\" points=\"\n",
       "  2257.44,686.448 2257.44,678.777 \n",
       "  \"/>\n",
       "<path clip-path=\"url(#clip250)\" d=\"M1446.57 743.185 L1462.89 743.185 L1462.89 747.12 L1440.95 747.12 L1440.95 743.185 Q1443.61 740.43 1448.19 735.8 Q1452.8 731.148 1453.98 729.805 Q1456.22 727.282 1457.1 725.546 Q1458.01 723.787 1458.01 722.097 Q1458.01 719.342 1456.06 717.606 Q1454.14 715.87 1451.04 715.87 Q1448.84 715.87 1446.39 716.634 Q1443.95 717.398 1441.18 718.949 L1441.18 714.227 Q1444 713.092 1446.45 712.514 Q1448.91 711.935 1450.95 711.935 Q1456.32 711.935 1459.51 714.62 Q1462.7 717.305 1462.7 721.796 Q1462.7 723.926 1461.89 725.847 Q1461.11 727.745 1459 730.338 Q1458.42 731.009 1455.32 734.226 Q1452.22 737.421 1446.57 743.185 Z\" fill=\"#000000\" fill-rule=\"evenodd\" fill-opacity=\"1\" /><path clip-path=\"url(#clip250)\" d=\"M1589.18 716.634 L1577.37 735.083 L1589.18 735.083 L1589.18 716.634 M1587.95 712.56 L1593.83 712.56 L1593.83 735.083 L1598.76 735.083 L1598.76 738.972 L1593.83 738.972 L1593.83 747.12 L1589.18 747.12 L1589.18 738.972 L1573.58 738.972 L1573.58 734.458 L1587.95 712.56 Z\" fill=\"#000000\" fill-rule=\"evenodd\" fill-opacity=\"1\" /><path clip-path=\"url(#clip250)\" d=\"M1720.83 727.976 Q1717.68 727.976 1715.83 730.129 Q1714 732.282 1714 736.032 Q1714 739.759 1715.83 741.935 Q1717.68 744.087 1720.83 744.087 Q1723.98 744.087 1725.81 741.935 Q1727.66 739.759 1727.66 736.032 Q1727.66 732.282 1725.81 730.129 Q1723.98 727.976 1720.83 727.976 M1730.11 713.324 L1730.11 717.583 Q1728.35 716.75 1726.55 716.31 Q1724.76 715.87 1723.01 715.87 Q1718.38 715.87 1715.92 718.995 Q1713.49 722.12 1713.14 728.439 Q1714.51 726.426 1716.57 725.361 Q1718.63 724.273 1721.11 724.273 Q1726.32 724.273 1729.32 727.444 Q1732.36 730.592 1732.36 736.032 Q1732.36 741.356 1729.21 744.574 Q1726.06 747.791 1720.83 747.791 Q1714.83 747.791 1711.66 743.208 Q1708.49 738.601 1708.49 729.875 Q1708.49 721.68 1712.38 716.819 Q1716.27 711.935 1722.82 711.935 Q1724.58 711.935 1726.36 712.282 Q1728.17 712.629 1730.11 713.324 Z\" fill=\"#000000\" fill-rule=\"evenodd\" fill-opacity=\"1\" /><path clip-path=\"url(#clip250)\" d=\"M1854.68 730.708 Q1851.34 730.708 1849.42 732.49 Q1847.52 734.273 1847.52 737.398 Q1847.52 740.523 1849.42 742.305 Q1851.34 744.087 1854.68 744.087 Q1858.01 744.087 1859.93 742.305 Q1861.85 740.5 1861.85 737.398 Q1861.85 734.273 1859.93 732.49 Q1858.03 730.708 1854.68 730.708 M1850 728.717 Q1846.99 727.976 1845.3 725.916 Q1843.64 723.856 1843.64 720.893 Q1843.64 716.75 1846.58 714.342 Q1849.54 711.935 1854.68 711.935 Q1859.84 711.935 1862.78 714.342 Q1865.72 716.75 1865.72 720.893 Q1865.72 723.856 1864.03 725.916 Q1862.36 727.976 1859.38 728.717 Q1862.76 729.504 1864.63 731.796 Q1866.53 734.088 1866.53 737.398 Q1866.53 742.421 1863.45 745.106 Q1860.39 747.791 1854.68 747.791 Q1848.96 747.791 1845.88 745.106 Q1842.83 742.421 1842.83 737.398 Q1842.83 734.088 1844.72 731.796 Q1846.62 729.504 1850 728.717 M1848.29 721.333 Q1848.29 724.018 1849.95 725.523 Q1851.64 727.027 1854.68 727.027 Q1857.69 727.027 1859.38 725.523 Q1861.09 724.018 1861.09 721.333 Q1861.09 718.648 1859.38 717.143 Q1857.69 715.639 1854.68 715.639 Q1851.64 715.639 1849.95 717.143 Q1848.29 718.648 1848.29 721.333 Z\" fill=\"#000000\" fill-rule=\"evenodd\" fill-opacity=\"1\" /><path clip-path=\"url(#clip250)\" d=\"M1963.62 743.185 L1971.26 743.185 L1971.26 716.819 L1962.95 718.486 L1962.95 714.227 L1971.21 712.56 L1975.89 712.56 L1975.89 743.185 L1983.53 743.185 L1983.53 747.12 L1963.62 747.12 L1963.62 743.185 Z\" fill=\"#000000\" fill-rule=\"evenodd\" fill-opacity=\"1\" /><path clip-path=\"url(#clip250)\" d=\"M2002.97 715.639 Q1999.36 715.639 1997.53 719.203 Q1995.72 722.745 1995.72 729.875 Q1995.72 736.981 1997.53 740.546 Q1999.36 744.087 2002.97 744.087 Q2006.6 744.087 2008.41 740.546 Q2010.24 736.981 2010.24 729.875 Q2010.24 722.745 2008.41 719.203 Q2006.6 715.639 2002.97 715.639 M2002.97 711.935 Q2008.78 711.935 2011.84 716.541 Q2014.91 721.125 2014.91 729.875 Q2014.91 738.601 2011.84 743.208 Q2008.78 747.791 2002.97 747.791 Q1997.16 747.791 1994.08 743.208 Q1991.03 738.601 1991.03 729.875 Q1991.03 721.125 1994.08 716.541 Q1997.16 711.935 2002.97 711.935 Z\" fill=\"#000000\" fill-rule=\"evenodd\" fill-opacity=\"1\" /><path clip-path=\"url(#clip250)\" d=\"M2098.67 743.185 L2106.31 743.185 L2106.31 716.819 L2098 718.486 L2098 714.227 L2106.26 712.56 L2110.94 712.56 L2110.94 743.185 L2118.58 743.185 L2118.58 747.12 L2098.67 747.12 L2098.67 743.185 Z\" fill=\"#000000\" fill-rule=\"evenodd\" fill-opacity=\"1\" /><path clip-path=\"url(#clip250)\" d=\"M2132.05 743.185 L2148.37 743.185 L2148.37 747.12 L2126.42 747.12 L2126.42 743.185 Q2129.09 740.43 2133.67 735.8 Q2138.28 731.148 2139.46 729.805 Q2141.7 727.282 2142.58 725.546 Q2143.48 723.787 2143.48 722.097 Q2143.48 719.342 2141.54 717.606 Q2139.62 715.87 2136.52 715.87 Q2134.32 715.87 2131.86 716.634 Q2129.43 717.398 2126.66 718.949 L2126.66 714.227 Q2129.48 713.092 2131.93 712.514 Q2134.39 711.935 2136.42 711.935 Q2141.79 711.935 2144.99 714.62 Q2148.18 717.305 2148.18 721.796 Q2148.18 723.926 2147.37 725.847 Q2146.59 727.745 2144.48 730.338 Q2143.9 731.009 2140.8 734.226 Q2137.7 737.421 2132.05 743.185 Z\" fill=\"#000000\" fill-rule=\"evenodd\" fill-opacity=\"1\" /><path clip-path=\"url(#clip250)\" d=\"M2231.88 743.185 L2239.52 743.185 L2239.52 716.819 L2231.21 718.486 L2231.21 714.227 L2239.47 712.56 L2244.15 712.56 L2244.15 743.185 L2251.79 743.185 L2251.79 747.12 L2231.88 747.12 L2231.88 743.185 Z\" fill=\"#000000\" fill-rule=\"evenodd\" fill-opacity=\"1\" /><path clip-path=\"url(#clip250)\" d=\"M2274.08 716.634 L2262.27 735.083 L2274.08 735.083 L2274.08 716.634 M2272.85 712.56 L2278.73 712.56 L2278.73 735.083 L2283.66 735.083 L2283.66 738.972 L2278.73 738.972 L2278.73 747.12 L2274.08 747.12 L2274.08 738.972 L2258.48 738.972 L2258.48 734.458 L2272.85 712.56 Z\" fill=\"#000000\" fill-rule=\"evenodd\" fill-opacity=\"1\" /><polyline clip-path=\"url(#clip253)\" style=\"stroke:#000000; stroke-linecap:butt; stroke-linejoin:round; stroke-width:2; stroke-opacity:0.1; fill:none\" points=\"\n",
       "  1356.6,559.577 2352.76,559.577 \n",
       "  \"/>\n",
       "<polyline clip-path=\"url(#clip253)\" style=\"stroke:#000000; stroke-linecap:butt; stroke-linejoin:round; stroke-width:2; stroke-opacity:0.1; fill:none\" points=\"\n",
       "  1356.6,423.982 2352.76,423.982 \n",
       "  \"/>\n",
       "<polyline clip-path=\"url(#clip253)\" style=\"stroke:#000000; stroke-linecap:butt; stroke-linejoin:round; stroke-width:2; stroke-opacity:0.1; fill:none\" points=\"\n",
       "  1356.6,288.386 2352.76,288.386 \n",
       "  \"/>\n",
       "<polyline clip-path=\"url(#clip253)\" style=\"stroke:#000000; stroke-linecap:butt; stroke-linejoin:round; stroke-width:2; stroke-opacity:0.1; fill:none\" points=\"\n",
       "  1356.6,152.79 2352.76,152.79 \n",
       "  \"/>\n",
       "<polyline clip-path=\"url(#clip250)\" style=\"stroke:#000000; stroke-linecap:butt; stroke-linejoin:round; stroke-width:4; stroke-opacity:1; fill:none\" points=\"\n",
       "  1356.6,686.448 1356.6,47.2441 \n",
       "  \"/>\n",
       "<polyline clip-path=\"url(#clip250)\" style=\"stroke:#000000; stroke-linecap:butt; stroke-linejoin:round; stroke-width:4; stroke-opacity:1; fill:none\" points=\"\n",
       "  1356.6,559.577 1368.55,559.577 \n",
       "  \"/>\n",
       "<polyline clip-path=\"url(#clip250)\" style=\"stroke:#000000; stroke-linecap:butt; stroke-linejoin:round; stroke-width:4; stroke-opacity:1; fill:none\" points=\"\n",
       "  1356.6,423.982 1368.55,423.982 \n",
       "  \"/>\n",
       "<polyline clip-path=\"url(#clip250)\" style=\"stroke:#000000; stroke-linecap:butt; stroke-linejoin:round; stroke-width:4; stroke-opacity:1; fill:none\" points=\"\n",
       "  1356.6,288.386 1368.55,288.386 \n",
       "  \"/>\n",
       "<polyline clip-path=\"url(#clip250)\" style=\"stroke:#000000; stroke-linecap:butt; stroke-linejoin:round; stroke-width:4; stroke-opacity:1; fill:none\" points=\"\n",
       "  1356.6,152.79 1368.55,152.79 \n",
       "  \"/>\n",
       "<path clip-path=\"url(#clip250)\" d=\"M1265.02 545.376 Q1261.41 545.376 1259.58 548.941 Q1257.77 552.483 1257.77 559.612 Q1257.77 566.719 1259.58 570.283 Q1261.41 573.825 1265.02 573.825 Q1268.65 573.825 1270.46 570.283 Q1272.29 566.719 1272.29 559.612 Q1272.29 552.483 1270.46 548.941 Q1268.65 545.376 1265.02 545.376 M1265.02 541.672 Q1270.83 541.672 1273.89 546.279 Q1276.96 550.862 1276.96 559.612 Q1276.96 568.339 1273.89 572.945 Q1270.83 577.529 1265.02 577.529 Q1259.21 577.529 1256.13 572.945 Q1253.08 568.339 1253.08 559.612 Q1253.08 550.862 1256.13 546.279 Q1259.21 541.672 1265.02 541.672 Z\" fill=\"#000000\" fill-rule=\"evenodd\" fill-opacity=\"1\" /><path clip-path=\"url(#clip250)\" d=\"M1285.18 570.978 L1290.07 570.978 L1290.07 576.857 L1285.18 576.857 L1285.18 570.978 Z\" fill=\"#000000\" fill-rule=\"evenodd\" fill-opacity=\"1\" /><path clip-path=\"url(#clip250)\" d=\"M1304.28 572.922 L1320.6 572.922 L1320.6 576.857 L1298.65 576.857 L1298.65 572.922 Q1301.32 570.168 1305.9 565.538 Q1310.51 560.885 1311.69 559.543 Q1313.93 557.02 1314.81 555.284 Q1315.71 553.524 1315.71 551.834 Q1315.71 549.08 1313.77 547.344 Q1311.85 545.608 1308.75 545.608 Q1306.55 545.608 1304.09 546.372 Q1301.66 547.135 1298.89 548.686 L1298.89 543.964 Q1301.71 542.83 1304.16 542.251 Q1306.62 541.672 1308.65 541.672 Q1314.02 541.672 1317.22 544.358 Q1320.41 547.043 1320.41 551.534 Q1320.41 553.663 1319.6 555.584 Q1318.82 557.483 1316.71 560.075 Q1316.13 560.746 1313.03 563.964 Q1309.93 567.158 1304.28 572.922 Z\" fill=\"#000000\" fill-rule=\"evenodd\" fill-opacity=\"1\" /><path clip-path=\"url(#clip250)\" d=\"M1262.94 409.78 Q1259.33 409.78 1257.5 413.345 Q1255.69 416.887 1255.69 424.016 Q1255.69 431.123 1257.5 434.688 Q1259.33 438.229 1262.94 438.229 Q1266.57 438.229 1268.38 434.688 Q1270.2 431.123 1270.2 424.016 Q1270.2 416.887 1268.38 413.345 Q1266.57 409.78 1262.94 409.78 M1262.94 406.077 Q1268.75 406.077 1271.8 410.683 Q1274.88 415.266 1274.88 424.016 Q1274.88 432.743 1271.8 437.35 Q1268.75 441.933 1262.94 441.933 Q1257.13 441.933 1254.05 437.35 Q1250.99 432.743 1250.99 424.016 Q1250.99 415.266 1254.05 410.683 Q1257.13 406.077 1262.94 406.077 Z\" fill=\"#000000\" fill-rule=\"evenodd\" fill-opacity=\"1\" /><path clip-path=\"url(#clip250)\" d=\"M1283.1 435.382 L1287.98 435.382 L1287.98 441.262 L1283.1 441.262 L1283.1 435.382 Z\" fill=\"#000000\" fill-rule=\"evenodd\" fill-opacity=\"1\" /><path clip-path=\"url(#clip250)\" d=\"M1311.01 410.776 L1299.21 429.225 L1311.01 429.225 L1311.01 410.776 M1309.79 406.702 L1315.67 406.702 L1315.67 429.225 L1320.6 429.225 L1320.6 433.114 L1315.67 433.114 L1315.67 441.262 L1311.01 441.262 L1311.01 433.114 L1295.41 433.114 L1295.41 428.6 L1309.79 406.702 Z\" fill=\"#000000\" fill-rule=\"evenodd\" fill-opacity=\"1\" /><path clip-path=\"url(#clip250)\" d=\"M1263.26 274.185 Q1259.65 274.185 1257.82 277.749 Q1256.02 281.291 1256.02 288.421 Q1256.02 295.527 1257.82 299.092 Q1259.65 302.634 1263.26 302.634 Q1266.89 302.634 1268.7 299.092 Q1270.53 295.527 1270.53 288.421 Q1270.53 281.291 1268.7 277.749 Q1266.89 274.185 1263.26 274.185 M1263.26 270.481 Q1269.07 270.481 1272.13 275.087 Q1275.2 279.671 1275.2 288.421 Q1275.2 297.147 1272.13 301.754 Q1269.07 306.337 1263.26 306.337 Q1257.45 306.337 1254.37 301.754 Q1251.32 297.147 1251.32 288.421 Q1251.32 279.671 1254.37 275.087 Q1257.45 270.481 1263.26 270.481 Z\" fill=\"#000000\" fill-rule=\"evenodd\" fill-opacity=\"1\" /><path clip-path=\"url(#clip250)\" d=\"M1283.42 299.786 L1288.31 299.786 L1288.31 305.666 L1283.42 305.666 L1283.42 299.786 Z\" fill=\"#000000\" fill-rule=\"evenodd\" fill-opacity=\"1\" /><path clip-path=\"url(#clip250)\" d=\"M1309.07 286.523 Q1305.92 286.523 1304.07 288.675 Q1302.24 290.828 1302.24 294.578 Q1302.24 298.305 1304.07 300.481 Q1305.92 302.634 1309.07 302.634 Q1312.22 302.634 1314.05 300.481 Q1315.9 298.305 1315.9 294.578 Q1315.9 290.828 1314.05 288.675 Q1312.22 286.523 1309.07 286.523 M1318.35 271.87 L1318.35 276.129 Q1316.59 275.296 1314.79 274.856 Q1313.01 274.416 1311.25 274.416 Q1306.62 274.416 1304.16 277.541 Q1301.73 280.666 1301.39 286.985 Q1302.75 284.972 1304.81 283.907 Q1306.87 282.819 1309.35 282.819 Q1314.56 282.819 1317.57 285.99 Q1320.6 289.138 1320.6 294.578 Q1320.6 299.902 1317.45 303.12 Q1314.3 306.337 1309.07 306.337 Q1303.08 306.337 1299.9 301.754 Q1296.73 297.147 1296.73 288.421 Q1296.73 280.226 1300.62 275.365 Q1304.51 270.481 1311.06 270.481 Q1312.82 270.481 1314.6 270.828 Q1316.41 271.175 1318.35 271.87 Z\" fill=\"#000000\" fill-rule=\"evenodd\" fill-opacity=\"1\" /><path clip-path=\"url(#clip250)\" d=\"M1263.52 138.589 Q1259.9 138.589 1258.08 142.154 Q1256.27 145.695 1256.27 152.825 Q1256.27 159.931 1258.08 163.496 Q1259.9 167.038 1263.52 167.038 Q1267.15 167.038 1268.95 163.496 Q1270.78 159.931 1270.78 152.825 Q1270.78 145.695 1268.95 142.154 Q1267.15 138.589 1263.52 138.589 M1263.52 134.885 Q1269.33 134.885 1272.38 139.492 Q1275.46 144.075 1275.46 152.825 Q1275.46 161.552 1272.38 166.158 Q1269.33 170.741 1263.52 170.741 Q1257.71 170.741 1254.63 166.158 Q1251.57 161.552 1251.57 152.825 Q1251.57 144.075 1254.63 139.492 Q1257.71 134.885 1263.52 134.885 Z\" fill=\"#000000\" fill-rule=\"evenodd\" fill-opacity=\"1\" /><path clip-path=\"url(#clip250)\" d=\"M1283.68 164.191 L1288.56 164.191 L1288.56 170.07 L1283.68 170.07 L1283.68 164.191 Z\" fill=\"#000000\" fill-rule=\"evenodd\" fill-opacity=\"1\" /><path clip-path=\"url(#clip250)\" d=\"M1308.75 153.658 Q1305.41 153.658 1303.49 155.441 Q1301.59 157.223 1301.59 160.348 Q1301.59 163.473 1303.49 165.255 Q1305.41 167.038 1308.75 167.038 Q1312.08 167.038 1314 165.255 Q1315.92 163.45 1315.92 160.348 Q1315.92 157.223 1314 155.441 Q1312.1 153.658 1308.75 153.658 M1304.07 151.667 Q1301.06 150.927 1299.37 148.867 Q1297.7 146.806 1297.7 143.843 Q1297.7 139.7 1300.64 137.293 Q1303.61 134.885 1308.75 134.885 Q1313.91 134.885 1316.85 137.293 Q1319.79 139.7 1319.79 143.843 Q1319.79 146.806 1318.1 148.867 Q1316.43 150.927 1313.45 151.667 Q1316.83 152.454 1318.7 154.746 Q1320.6 157.038 1320.6 160.348 Q1320.6 165.371 1317.52 168.056 Q1314.46 170.741 1308.75 170.741 Q1303.03 170.741 1299.95 168.056 Q1296.89 165.371 1296.89 160.348 Q1296.89 157.038 1298.79 154.746 Q1300.69 152.454 1304.07 151.667 M1302.36 144.283 Q1302.36 146.968 1304.02 148.473 Q1305.71 149.978 1308.75 149.978 Q1311.76 149.978 1313.45 148.473 Q1315.16 146.968 1315.16 144.283 Q1315.16 141.598 1313.45 140.093 Q1311.76 138.589 1308.75 138.589 Q1305.71 138.589 1304.02 140.093 Q1302.36 141.598 1302.36 144.283 Z\" fill=\"#000000\" fill-rule=\"evenodd\" fill-opacity=\"1\" /><circle clip-path=\"url(#clip253)\" cx=\"1384.79\" cy=\"404.949\" r=\"14\" fill=\"#009af9\" fill-rule=\"evenodd\" fill-opacity=\"1\" stroke=\"#000000\" stroke-opacity=\"1\" stroke-width=\"3.2\"/>\n",
       "<circle clip-path=\"url(#clip253)\" cx=\"1451.92\" cy=\"493.006\" r=\"14\" fill=\"#009af9\" fill-rule=\"evenodd\" fill-opacity=\"1\" stroke=\"#000000\" stroke-opacity=\"1\" stroke-width=\"3.2\"/>\n",
       "<circle clip-path=\"url(#clip253)\" cx=\"1519.04\" cy=\"536.259\" r=\"14\" fill=\"#009af9\" fill-rule=\"evenodd\" fill-opacity=\"1\" stroke=\"#000000\" stroke-opacity=\"1\" stroke-width=\"3.2\"/>\n",
       "<circle clip-path=\"url(#clip253)\" cx=\"1586.17\" cy=\"616.232\" r=\"14\" fill=\"#009af9\" fill-rule=\"evenodd\" fill-opacity=\"1\" stroke=\"#000000\" stroke-opacity=\"1\" stroke-width=\"3.2\"/>\n",
       "<circle clip-path=\"url(#clip253)\" cx=\"1653.3\" cy=\"513.372\" r=\"14\" fill=\"#009af9\" fill-rule=\"evenodd\" fill-opacity=\"1\" stroke=\"#000000\" stroke-opacity=\"1\" stroke-width=\"3.2\"/>\n",
       "<circle clip-path=\"url(#clip253)\" cx=\"1720.42\" cy=\"271.351\" r=\"14\" fill=\"#009af9\" fill-rule=\"evenodd\" fill-opacity=\"1\" stroke=\"#000000\" stroke-opacity=\"1\" stroke-width=\"3.2\"/>\n",
       "<circle clip-path=\"url(#clip253)\" cx=\"1787.55\" cy=\"303.903\" r=\"14\" fill=\"#009af9\" fill-rule=\"evenodd\" fill-opacity=\"1\" stroke=\"#000000\" stroke-opacity=\"1\" stroke-width=\"3.2\"/>\n",
       "<circle clip-path=\"url(#clip253)\" cx=\"1854.68\" cy=\"668.357\" r=\"14\" fill=\"#009af9\" fill-rule=\"evenodd\" fill-opacity=\"1\" stroke=\"#000000\" stroke-opacity=\"1\" stroke-width=\"3.2\"/>\n",
       "<circle clip-path=\"url(#clip253)\" cx=\"1921.8\" cy=\"126.328\" r=\"14\" fill=\"#009af9\" fill-rule=\"evenodd\" fill-opacity=\"1\" stroke=\"#000000\" stroke-opacity=\"1\" stroke-width=\"3.2\"/>\n",
       "<circle clip-path=\"url(#clip253)\" cx=\"1988.93\" cy=\"446.076\" r=\"14\" fill=\"#009af9\" fill-rule=\"evenodd\" fill-opacity=\"1\" stroke=\"#000000\" stroke-opacity=\"1\" stroke-width=\"3.2\"/>\n",
       "<circle clip-path=\"url(#clip253)\" cx=\"2056.06\" cy=\"268.372\" r=\"14\" fill=\"#009af9\" fill-rule=\"evenodd\" fill-opacity=\"1\" stroke=\"#000000\" stroke-opacity=\"1\" stroke-width=\"3.2\"/>\n",
       "<circle clip-path=\"url(#clip253)\" cx=\"2123.18\" cy=\"477.537\" r=\"14\" fill=\"#009af9\" fill-rule=\"evenodd\" fill-opacity=\"1\" stroke=\"#000000\" stroke-opacity=\"1\" stroke-width=\"3.2\"/>\n",
       "<circle clip-path=\"url(#clip253)\" cx=\"2190.31\" cy=\"233.601\" r=\"14\" fill=\"#009af9\" fill-rule=\"evenodd\" fill-opacity=\"1\" stroke=\"#000000\" stroke-opacity=\"1\" stroke-width=\"3.2\"/>\n",
       "<circle clip-path=\"url(#clip253)\" cx=\"2257.44\" cy=\"397.149\" r=\"14\" fill=\"#009af9\" fill-rule=\"evenodd\" fill-opacity=\"1\" stroke=\"#000000\" stroke-opacity=\"1\" stroke-width=\"3.2\"/>\n",
       "<circle clip-path=\"url(#clip253)\" cx=\"2324.56\" cy=\"65.3348\" r=\"14\" fill=\"#009af9\" fill-rule=\"evenodd\" fill-opacity=\"1\" stroke=\"#000000\" stroke-opacity=\"1\" stroke-width=\"3.2\"/>\n",
       "<path clip-path=\"url(#clip250)\" d=\"\n",
       "M156.598 1486.45 L1152.76 1486.45 L1152.76 847.244 L156.598 847.244  Z\n",
       "  \" fill=\"#ffffff\" fill-rule=\"evenodd\" fill-opacity=\"1\"/>\n",
       "<defs>\n",
       "  <clipPath id=\"clip254\">\n",
       "    <rect x=\"156\" y=\"847\" width=\"997\" height=\"640\"/>\n",
       "  </clipPath>\n",
       "</defs>\n",
       "<polyline clip-path=\"url(#clip254)\" style=\"stroke:#000000; stroke-linecap:butt; stroke-linejoin:round; stroke-width:2; stroke-opacity:0.1; fill:none\" points=\"\n",
       "  175.446,1486.45 175.446,847.244 \n",
       "  \"/>\n",
       "<polyline clip-path=\"url(#clip254)\" style=\"stroke:#000000; stroke-linecap:butt; stroke-linejoin:round; stroke-width:2; stroke-opacity:0.1; fill:none\" points=\"\n",
       "  474.966,1486.45 474.966,847.244 \n",
       "  \"/>\n",
       "<polyline clip-path=\"url(#clip254)\" style=\"stroke:#000000; stroke-linecap:butt; stroke-linejoin:round; stroke-width:2; stroke-opacity:0.1; fill:none\" points=\"\n",
       "  774.485,1486.45 774.485,847.244 \n",
       "  \"/>\n",
       "<polyline clip-path=\"url(#clip254)\" style=\"stroke:#000000; stroke-linecap:butt; stroke-linejoin:round; stroke-width:2; stroke-opacity:0.1; fill:none\" points=\"\n",
       "  1074,1486.45 1074,847.244 \n",
       "  \"/>\n",
       "<polyline clip-path=\"url(#clip250)\" style=\"stroke:#000000; stroke-linecap:butt; stroke-linejoin:round; stroke-width:4; stroke-opacity:1; fill:none\" points=\"\n",
       "  156.598,1486.45 1152.76,1486.45 \n",
       "  \"/>\n",
       "<polyline clip-path=\"url(#clip250)\" style=\"stroke:#000000; stroke-linecap:butt; stroke-linejoin:round; stroke-width:4; stroke-opacity:1; fill:none\" points=\"\n",
       "  175.446,1486.45 175.446,1478.78 \n",
       "  \"/>\n",
       "<polyline clip-path=\"url(#clip250)\" style=\"stroke:#000000; stroke-linecap:butt; stroke-linejoin:round; stroke-width:4; stroke-opacity:1; fill:none\" points=\"\n",
       "  474.966,1486.45 474.966,1478.78 \n",
       "  \"/>\n",
       "<polyline clip-path=\"url(#clip250)\" style=\"stroke:#000000; stroke-linecap:butt; stroke-linejoin:round; stroke-width:4; stroke-opacity:1; fill:none\" points=\"\n",
       "  774.485,1486.45 774.485,1478.78 \n",
       "  \"/>\n",
       "<polyline clip-path=\"url(#clip250)\" style=\"stroke:#000000; stroke-linecap:butt; stroke-linejoin:round; stroke-width:4; stroke-opacity:1; fill:none\" points=\"\n",
       "  1074,1486.45 1074,1478.78 \n",
       "  \"/>\n",
       "<path clip-path=\"url(#clip250)\" d=\"M175.446 1515.64 Q171.835 1515.64 170.007 1519.2 Q168.201 1522.75 168.201 1529.87 Q168.201 1536.98 170.007 1540.55 Q171.835 1544.09 175.446 1544.09 Q179.081 1544.09 180.886 1540.55 Q182.715 1536.98 182.715 1529.87 Q182.715 1522.75 180.886 1519.2 Q179.081 1515.64 175.446 1515.64 M175.446 1511.93 Q181.257 1511.93 184.312 1516.54 Q187.391 1521.12 187.391 1529.87 Q187.391 1538.6 184.312 1543.21 Q181.257 1547.79 175.446 1547.79 Q169.636 1547.79 166.558 1543.21 Q163.502 1538.6 163.502 1529.87 Q163.502 1521.12 166.558 1516.54 Q169.636 1511.93 175.446 1511.93 Z\" fill=\"#000000\" fill-rule=\"evenodd\" fill-opacity=\"1\" /><path clip-path=\"url(#clip250)\" d=\"M465.243 1512.56 L483.6 1512.56 L483.6 1516.5 L469.526 1516.5 L469.526 1524.97 Q470.544 1524.62 471.563 1524.46 Q472.581 1524.27 473.6 1524.27 Q479.387 1524.27 482.766 1527.44 Q486.146 1530.62 486.146 1536.03 Q486.146 1541.61 482.674 1544.71 Q479.202 1547.79 472.882 1547.79 Q470.706 1547.79 468.438 1547.42 Q466.192 1547.05 463.785 1546.31 L463.785 1541.61 Q465.868 1542.74 468.091 1543.3 Q470.313 1543.86 472.79 1543.86 Q476.794 1543.86 479.132 1541.75 Q481.47 1539.64 481.47 1536.03 Q481.47 1532.42 479.132 1530.31 Q476.794 1528.21 472.79 1528.21 Q470.915 1528.21 469.04 1528.62 Q467.188 1529.04 465.243 1529.92 L465.243 1512.56 Z\" fill=\"#000000\" fill-rule=\"evenodd\" fill-opacity=\"1\" /><path clip-path=\"url(#clip250)\" d=\"M749.172 1543.18 L756.811 1543.18 L756.811 1516.82 L748.501 1518.49 L748.501 1514.23 L756.765 1512.56 L761.441 1512.56 L761.441 1543.18 L769.08 1543.18 L769.08 1547.12 L749.172 1547.12 L749.172 1543.18 Z\" fill=\"#000000\" fill-rule=\"evenodd\" fill-opacity=\"1\" /><path clip-path=\"url(#clip250)\" d=\"M788.524 1515.64 Q784.913 1515.64 783.084 1519.2 Q781.279 1522.75 781.279 1529.87 Q781.279 1536.98 783.084 1540.55 Q784.913 1544.09 788.524 1544.09 Q792.158 1544.09 793.964 1540.55 Q795.792 1536.98 795.792 1529.87 Q795.792 1522.75 793.964 1519.2 Q792.158 1515.64 788.524 1515.64 M788.524 1511.93 Q794.334 1511.93 797.39 1516.54 Q800.468 1521.12 800.468 1529.87 Q800.468 1538.6 797.39 1543.21 Q794.334 1547.79 788.524 1547.79 Q782.714 1547.79 779.635 1543.21 Q776.58 1538.6 776.58 1529.87 Q776.58 1521.12 779.635 1516.54 Q782.714 1511.93 788.524 1511.93 Z\" fill=\"#000000\" fill-rule=\"evenodd\" fill-opacity=\"1\" /><path clip-path=\"url(#clip250)\" d=\"M1049.19 1543.18 L1056.83 1543.18 L1056.83 1516.82 L1048.52 1518.49 L1048.52 1514.23 L1056.78 1512.56 L1061.46 1512.56 L1061.46 1543.18 L1069.1 1543.18 L1069.1 1547.12 L1049.19 1547.12 L1049.19 1543.18 Z\" fill=\"#000000\" fill-rule=\"evenodd\" fill-opacity=\"1\" /><path clip-path=\"url(#clip250)\" d=\"M1078.59 1512.56 L1096.94 1512.56 L1096.94 1516.5 L1082.87 1516.5 L1082.87 1524.97 Q1083.89 1524.62 1084.91 1524.46 Q1085.93 1524.27 1086.94 1524.27 Q1092.73 1524.27 1096.11 1527.44 Q1099.49 1530.62 1099.49 1536.03 Q1099.49 1541.61 1096.02 1544.71 Q1092.55 1547.79 1086.23 1547.79 Q1084.05 1547.79 1081.78 1547.42 Q1079.54 1547.05 1077.13 1546.31 L1077.13 1541.61 Q1079.21 1542.74 1081.43 1543.3 Q1083.66 1543.86 1086.13 1543.86 Q1090.14 1543.86 1092.48 1541.75 Q1094.81 1539.64 1094.81 1536.03 Q1094.81 1532.42 1092.48 1530.31 Q1090.14 1528.21 1086.13 1528.21 Q1084.26 1528.21 1082.38 1528.62 Q1080.53 1529.04 1078.59 1529.92 L1078.59 1512.56 Z\" fill=\"#000000\" fill-rule=\"evenodd\" fill-opacity=\"1\" /><polyline clip-path=\"url(#clip254)\" style=\"stroke:#000000; stroke-linecap:butt; stroke-linejoin:round; stroke-width:2; stroke-opacity:0.1; fill:none\" points=\"\n",
       "  156.598,1468.36 1152.76,1468.36 \n",
       "  \"/>\n",
       "<polyline clip-path=\"url(#clip254)\" style=\"stroke:#000000; stroke-linecap:butt; stroke-linejoin:round; stroke-width:2; stroke-opacity:0.1; fill:none\" points=\"\n",
       "  156.598,1338.53 1152.76,1338.53 \n",
       "  \"/>\n",
       "<polyline clip-path=\"url(#clip254)\" style=\"stroke:#000000; stroke-linecap:butt; stroke-linejoin:round; stroke-width:2; stroke-opacity:0.1; fill:none\" points=\"\n",
       "  156.598,1208.71 1152.76,1208.71 \n",
       "  \"/>\n",
       "<polyline clip-path=\"url(#clip254)\" style=\"stroke:#000000; stroke-linecap:butt; stroke-linejoin:round; stroke-width:2; stroke-opacity:0.1; fill:none\" points=\"\n",
       "  156.598,1078.89 1152.76,1078.89 \n",
       "  \"/>\n",
       "<polyline clip-path=\"url(#clip254)\" style=\"stroke:#000000; stroke-linecap:butt; stroke-linejoin:round; stroke-width:2; stroke-opacity:0.1; fill:none\" points=\"\n",
       "  156.598,949.067 1152.76,949.067 \n",
       "  \"/>\n",
       "<polyline clip-path=\"url(#clip250)\" style=\"stroke:#000000; stroke-linecap:butt; stroke-linejoin:round; stroke-width:4; stroke-opacity:1; fill:none\" points=\"\n",
       "  156.598,1486.45 156.598,847.244 \n",
       "  \"/>\n",
       "<polyline clip-path=\"url(#clip250)\" style=\"stroke:#000000; stroke-linecap:butt; stroke-linejoin:round; stroke-width:4; stroke-opacity:1; fill:none\" points=\"\n",
       "  156.598,1468.36 168.552,1468.36 \n",
       "  \"/>\n",
       "<polyline clip-path=\"url(#clip250)\" style=\"stroke:#000000; stroke-linecap:butt; stroke-linejoin:round; stroke-width:4; stroke-opacity:1; fill:none\" points=\"\n",
       "  156.598,1338.53 168.552,1338.53 \n",
       "  \"/>\n",
       "<polyline clip-path=\"url(#clip250)\" style=\"stroke:#000000; stroke-linecap:butt; stroke-linejoin:round; stroke-width:4; stroke-opacity:1; fill:none\" points=\"\n",
       "  156.598,1208.71 168.552,1208.71 \n",
       "  \"/>\n",
       "<polyline clip-path=\"url(#clip250)\" style=\"stroke:#000000; stroke-linecap:butt; stroke-linejoin:round; stroke-width:4; stroke-opacity:1; fill:none\" points=\"\n",
       "  156.598,1078.89 168.552,1078.89 \n",
       "  \"/>\n",
       "<polyline clip-path=\"url(#clip250)\" style=\"stroke:#000000; stroke-linecap:butt; stroke-linejoin:round; stroke-width:4; stroke-opacity:1; fill:none\" points=\"\n",
       "  156.598,949.067 168.552,949.067 \n",
       "  \"/>\n",
       "<path clip-path=\"url(#clip250)\" d=\"M63.4226 1454.16 Q59.8115 1454.16 57.9828 1457.72 Q56.1773 1461.26 56.1773 1468.39 Q56.1773 1475.5 57.9828 1479.06 Q59.8115 1482.6 63.4226 1482.6 Q67.0569 1482.6 68.8624 1479.06 Q70.6911 1475.5 70.6911 1468.39 Q70.6911 1461.26 68.8624 1457.72 Q67.0569 1454.16 63.4226 1454.16 M63.4226 1450.45 Q69.2328 1450.45 72.2883 1455.06 Q75.367 1459.64 75.367 1468.39 Q75.367 1477.12 72.2883 1481.73 Q69.2328 1486.31 63.4226 1486.31 Q57.6125 1486.31 54.5338 1481.73 Q51.4782 1477.12 51.4782 1468.39 Q51.4782 1459.64 54.5338 1455.06 Q57.6125 1450.45 63.4226 1450.45 Z\" fill=\"#000000\" fill-rule=\"evenodd\" fill-opacity=\"1\" /><path clip-path=\"url(#clip250)\" d=\"M83.5845 1479.76 L88.4688 1479.76 L88.4688 1485.64 L83.5845 1485.64 L83.5845 1479.76 Z\" fill=\"#000000\" fill-rule=\"evenodd\" fill-opacity=\"1\" /><path clip-path=\"url(#clip250)\" d=\"M108.654 1454.16 Q105.043 1454.16 103.214 1457.72 Q101.409 1461.26 101.409 1468.39 Q101.409 1475.5 103.214 1479.06 Q105.043 1482.6 108.654 1482.6 Q112.288 1482.6 114.094 1479.06 Q115.922 1475.5 115.922 1468.39 Q115.922 1461.26 114.094 1457.72 Q112.288 1454.16 108.654 1454.16 M108.654 1450.45 Q114.464 1450.45 117.52 1455.06 Q120.598 1459.64 120.598 1468.39 Q120.598 1477.12 117.52 1481.73 Q114.464 1486.31 108.654 1486.31 Q102.844 1486.31 99.765 1481.73 Q96.7095 1477.12 96.7095 1468.39 Q96.7095 1459.64 99.765 1455.06 Q102.844 1450.45 108.654 1450.45 Z\" fill=\"#000000\" fill-rule=\"evenodd\" fill-opacity=\"1\" /><path clip-path=\"url(#clip250)\" d=\"M65.0198 1324.33 Q61.4087 1324.33 59.58 1327.9 Q57.7745 1331.44 57.7745 1338.57 Q57.7745 1345.68 59.58 1349.24 Q61.4087 1352.78 65.0198 1352.78 Q68.6541 1352.78 70.4596 1349.24 Q72.2883 1345.68 72.2883 1338.57 Q72.2883 1331.44 70.4596 1327.9 Q68.6541 1324.33 65.0198 1324.33 M65.0198 1320.63 Q70.83 1320.63 73.8855 1325.24 Q76.9642 1329.82 76.9642 1338.57 Q76.9642 1347.3 73.8855 1351.9 Q70.83 1356.49 65.0198 1356.49 Q59.2097 1356.49 56.131 1351.9 Q53.0754 1347.3 53.0754 1338.57 Q53.0754 1329.82 56.131 1325.24 Q59.2097 1320.63 65.0198 1320.63 Z\" fill=\"#000000\" fill-rule=\"evenodd\" fill-opacity=\"1\" /><path clip-path=\"url(#clip250)\" d=\"M85.1818 1349.93 L90.066 1349.93 L90.066 1355.81 L85.1818 1355.81 L85.1818 1349.93 Z\" fill=\"#000000\" fill-rule=\"evenodd\" fill-opacity=\"1\" /><path clip-path=\"url(#clip250)\" d=\"M104.279 1351.88 L120.598 1351.88 L120.598 1355.81 L98.6539 1355.81 L98.6539 1351.88 Q101.316 1349.12 105.899 1344.5 Q110.506 1339.84 111.686 1338.5 Q113.932 1335.98 114.811 1334.24 Q115.714 1332.48 115.714 1330.79 Q115.714 1328.04 113.77 1326.3 Q111.848 1324.56 108.746 1324.56 Q106.547 1324.56 104.094 1325.33 Q101.663 1326.09 98.8854 1327.64 L98.8854 1322.92 Q101.709 1321.79 104.163 1321.21 Q106.617 1320.63 108.654 1320.63 Q114.024 1320.63 117.219 1323.31 Q120.413 1326 120.413 1330.49 Q120.413 1332.62 119.603 1334.54 Q118.816 1336.44 116.709 1339.03 Q116.131 1339.7 113.029 1342.92 Q109.927 1346.12 104.279 1351.88 Z\" fill=\"#000000\" fill-rule=\"evenodd\" fill-opacity=\"1\" /><path clip-path=\"url(#clip250)\" d=\"M62.9365 1194.51 Q59.3254 1194.51 57.4967 1198.08 Q55.6912 1201.62 55.6912 1208.75 Q55.6912 1215.85 57.4967 1219.42 Q59.3254 1222.96 62.9365 1222.96 Q66.5707 1222.96 68.3763 1219.42 Q70.205 1215.85 70.205 1208.75 Q70.205 1201.62 68.3763 1198.08 Q66.5707 1194.51 62.9365 1194.51 M62.9365 1190.81 Q68.7467 1190.81 71.8022 1195.41 Q74.8809 1200 74.8809 1208.75 Q74.8809 1217.47 71.8022 1222.08 Q68.7467 1226.66 62.9365 1226.66 Q57.1264 1226.66 54.0477 1222.08 Q50.9921 1217.47 50.9921 1208.75 Q50.9921 1200 54.0477 1195.41 Q57.1264 1190.81 62.9365 1190.81 Z\" fill=\"#000000\" fill-rule=\"evenodd\" fill-opacity=\"1\" /><path clip-path=\"url(#clip250)\" d=\"M83.0984 1220.11 L87.9827 1220.11 L87.9827 1225.99 L83.0984 1225.99 L83.0984 1220.11 Z\" fill=\"#000000\" fill-rule=\"evenodd\" fill-opacity=\"1\" /><path clip-path=\"url(#clip250)\" d=\"M111.015 1195.51 L99.2095 1213.95 L111.015 1213.95 L111.015 1195.51 M109.788 1191.43 L115.668 1191.43 L115.668 1213.95 L120.598 1213.95 L120.598 1217.84 L115.668 1217.84 L115.668 1225.99 L111.015 1225.99 L111.015 1217.84 L95.4132 1217.84 L95.4132 1213.33 L109.788 1191.43 Z\" fill=\"#000000\" fill-rule=\"evenodd\" fill-opacity=\"1\" /><path clip-path=\"url(#clip250)\" d=\"M63.2606 1064.69 Q59.6495 1064.69 57.8208 1068.25 Q56.0152 1071.79 56.0152 1078.92 Q56.0152 1086.03 57.8208 1089.6 Q59.6495 1093.14 63.2606 1093.14 Q66.8948 1093.14 68.7004 1089.6 Q70.5291 1086.03 70.5291 1078.92 Q70.5291 1071.79 68.7004 1068.25 Q66.8948 1064.69 63.2606 1064.69 M63.2606 1060.98 Q69.0707 1060.98 72.1263 1065.59 Q75.205 1070.17 75.205 1078.92 Q75.205 1087.65 72.1263 1092.26 Q69.0707 1096.84 63.2606 1096.84 Q57.4504 1096.84 54.3717 1092.26 Q51.3162 1087.65 51.3162 1078.92 Q51.3162 1070.17 54.3717 1065.59 Q57.4504 1060.98 63.2606 1060.98 Z\" fill=\"#000000\" fill-rule=\"evenodd\" fill-opacity=\"1\" /><path clip-path=\"url(#clip250)\" d=\"M83.4225 1090.29 L88.3067 1090.29 L88.3067 1096.17 L83.4225 1096.17 L83.4225 1090.29 Z\" fill=\"#000000\" fill-rule=\"evenodd\" fill-opacity=\"1\" /><path clip-path=\"url(#clip250)\" d=\"M109.071 1077.03 Q105.922 1077.03 104.071 1079.18 Q102.242 1081.33 102.242 1085.08 Q102.242 1088.81 104.071 1090.98 Q105.922 1093.14 109.071 1093.14 Q112.219 1093.14 114.047 1090.98 Q115.899 1088.81 115.899 1085.08 Q115.899 1081.33 114.047 1079.18 Q112.219 1077.03 109.071 1077.03 M118.353 1062.37 L118.353 1066.63 Q116.594 1065.8 114.788 1065.36 Q113.006 1064.92 111.246 1064.92 Q106.617 1064.92 104.163 1068.04 Q101.733 1071.17 101.385 1077.49 Q102.751 1075.47 104.811 1074.41 Q106.871 1073.32 109.348 1073.32 Q114.557 1073.32 117.566 1076.49 Q120.598 1079.64 120.598 1085.08 Q120.598 1090.41 117.45 1093.62 Q114.302 1096.84 109.071 1096.84 Q103.075 1096.84 99.9039 1092.26 Q96.7326 1087.65 96.7326 1078.92 Q96.7326 1070.73 100.621 1065.87 Q104.51 1060.98 111.061 1060.98 Q112.82 1060.98 114.603 1061.33 Q116.408 1061.68 118.353 1062.37 Z\" fill=\"#000000\" fill-rule=\"evenodd\" fill-opacity=\"1\" /><path clip-path=\"url(#clip250)\" d=\"M63.5152 934.865 Q59.9041 934.865 58.0754 938.43 Q56.2699 941.972 56.2699 949.101 Q56.2699 956.208 58.0754 959.773 Q59.9041 963.314 63.5152 963.314 Q67.1494 963.314 68.955 959.773 Q70.7837 956.208 70.7837 949.101 Q70.7837 941.972 68.955 938.43 Q67.1494 934.865 63.5152 934.865 M63.5152 931.162 Q69.3254 931.162 72.3809 935.768 Q75.4596 940.351 75.4596 949.101 Q75.4596 957.828 72.3809 962.435 Q69.3254 967.018 63.5152 967.018 Q57.7051 967.018 54.6264 962.435 Q51.5708 957.828 51.5708 949.101 Q51.5708 940.351 54.6264 935.768 Q57.7051 931.162 63.5152 931.162 Z\" fill=\"#000000\" fill-rule=\"evenodd\" fill-opacity=\"1\" /><path clip-path=\"url(#clip250)\" d=\"M83.6771 960.467 L88.5614 960.467 L88.5614 966.347 L83.6771 966.347 L83.6771 960.467 Z\" fill=\"#000000\" fill-rule=\"evenodd\" fill-opacity=\"1\" /><path clip-path=\"url(#clip250)\" d=\"M108.746 949.935 Q105.413 949.935 103.492 951.717 Q101.594 953.499 101.594 956.624 Q101.594 959.749 103.492 961.532 Q105.413 963.314 108.746 963.314 Q112.08 963.314 114.001 961.532 Q115.922 959.726 115.922 956.624 Q115.922 953.499 114.001 951.717 Q112.103 949.935 108.746 949.935 M104.071 947.944 Q101.061 947.203 99.3715 945.143 Q97.7048 943.083 97.7048 940.12 Q97.7048 935.976 100.645 933.569 Q103.608 931.162 108.746 931.162 Q113.908 931.162 116.848 933.569 Q119.788 935.976 119.788 940.12 Q119.788 943.083 118.098 945.143 Q116.432 947.203 113.445 947.944 Q116.825 948.731 118.7 951.023 Q120.598 953.314 120.598 956.624 Q120.598 961.648 117.52 964.333 Q114.464 967.018 108.746 967.018 Q103.029 967.018 99.9502 964.333 Q96.8947 961.648 96.8947 956.624 Q96.8947 953.314 98.7928 951.023 Q100.691 948.731 104.071 947.944 M102.358 940.56 Q102.358 943.245 104.024 944.75 Q105.714 946.254 108.746 946.254 Q111.756 946.254 113.445 944.75 Q115.158 943.245 115.158 940.56 Q115.158 937.875 113.445 936.37 Q111.756 934.865 108.746 934.865 Q105.714 934.865 104.024 936.37 Q102.358 937.875 102.358 940.56 Z\" fill=\"#000000\" fill-rule=\"evenodd\" fill-opacity=\"1\" /><path clip-path=\"url(#clip254)\" d=\"\n",
       "M211.389 1190.49 L211.389 1468.36 L259.312 1468.36 L259.312 1190.49 L211.389 1190.49 L211.389 1190.49  Z\n",
       "  \" fill=\"#009af9\" fill-rule=\"evenodd\" fill-opacity=\"1\"/>\n",
       "<polyline clip-path=\"url(#clip254)\" style=\"stroke:#000000; stroke-linecap:butt; stroke-linejoin:round; stroke-width:4; stroke-opacity:1; fill:none\" points=\"\n",
       "  211.389,1190.49 211.389,1468.36 259.312,1468.36 259.312,1190.49 211.389,1190.49 \n",
       "  \"/>\n",
       "<path clip-path=\"url(#clip254)\" d=\"\n",
       "M271.293 1274.8 L271.293 1468.36 L319.216 1468.36 L319.216 1274.8 L271.293 1274.8 L271.293 1274.8  Z\n",
       "  \" fill=\"#009af9\" fill-rule=\"evenodd\" fill-opacity=\"1\"/>\n",
       "<polyline clip-path=\"url(#clip254)\" style=\"stroke:#000000; stroke-linecap:butt; stroke-linejoin:round; stroke-width:4; stroke-opacity:1; fill:none\" points=\"\n",
       "  271.293,1274.8 271.293,1468.36 319.216,1468.36 319.216,1274.8 271.293,1274.8 \n",
       "  \"/>\n",
       "<path clip-path=\"url(#clip254)\" d=\"\n",
       "M331.196 1316.21 L331.196 1468.36 L379.119 1468.36 L379.119 1316.21 L331.196 1316.21 L331.196 1316.21  Z\n",
       "  \" fill=\"#009af9\" fill-rule=\"evenodd\" fill-opacity=\"1\"/>\n",
       "<polyline clip-path=\"url(#clip254)\" style=\"stroke:#000000; stroke-linecap:butt; stroke-linejoin:round; stroke-width:4; stroke-opacity:1; fill:none\" points=\"\n",
       "  331.196,1316.21 331.196,1468.36 379.119,1468.36 379.119,1316.21 331.196,1316.21 \n",
       "  \"/>\n",
       "<path clip-path=\"url(#clip254)\" d=\"\n",
       "M391.1 1392.78 L391.1 1468.36 L439.023 1468.36 L439.023 1392.78 L391.1 1392.78 L391.1 1392.78  Z\n",
       "  \" fill=\"#009af9\" fill-rule=\"evenodd\" fill-opacity=\"1\"/>\n",
       "<polyline clip-path=\"url(#clip254)\" style=\"stroke:#000000; stroke-linecap:butt; stroke-linejoin:round; stroke-width:4; stroke-opacity:1; fill:none\" points=\"\n",
       "  391.1,1392.78 391.1,1468.36 439.023,1468.36 439.023,1392.78 391.1,1392.78 \n",
       "  \"/>\n",
       "<path clip-path=\"url(#clip254)\" d=\"\n",
       "M451.004 1294.3 L451.004 1468.36 L498.927 1468.36 L498.927 1294.3 L451.004 1294.3 L451.004 1294.3  Z\n",
       "  \" fill=\"#009af9\" fill-rule=\"evenodd\" fill-opacity=\"1\"/>\n",
       "<polyline clip-path=\"url(#clip254)\" style=\"stroke:#000000; stroke-linecap:butt; stroke-linejoin:round; stroke-width:4; stroke-opacity:1; fill:none\" points=\"\n",
       "  451.004,1294.3 451.004,1468.36 498.927,1468.36 498.927,1294.3 451.004,1294.3 \n",
       "  \"/>\n",
       "<path clip-path=\"url(#clip254)\" d=\"\n",
       "M510.908 1062.58 L510.908 1468.36 L558.831 1468.36 L558.831 1062.58 L510.908 1062.58 L510.908 1062.58  Z\n",
       "  \" fill=\"#009af9\" fill-rule=\"evenodd\" fill-opacity=\"1\"/>\n",
       "<polyline clip-path=\"url(#clip254)\" style=\"stroke:#000000; stroke-linecap:butt; stroke-linejoin:round; stroke-width:4; stroke-opacity:1; fill:none\" points=\"\n",
       "  510.908,1062.58 510.908,1468.36 558.831,1468.36 558.831,1062.58 510.908,1062.58 \n",
       "  \"/>\n",
       "<path clip-path=\"url(#clip254)\" d=\"\n",
       "M570.812 1093.75 L570.812 1468.36 L618.735 1468.36 L618.735 1093.75 L570.812 1093.75 L570.812 1093.75  Z\n",
       "  \" fill=\"#009af9\" fill-rule=\"evenodd\" fill-opacity=\"1\"/>\n",
       "<polyline clip-path=\"url(#clip254)\" style=\"stroke:#000000; stroke-linecap:butt; stroke-linejoin:round; stroke-width:4; stroke-opacity:1; fill:none\" points=\"\n",
       "  570.812,1093.75 570.812,1468.36 618.735,1468.36 618.735,1093.75 570.812,1093.75 \n",
       "  \"/>\n",
       "<path clip-path=\"url(#clip254)\" d=\"\n",
       "M630.716 1442.68 L630.716 1468.36 L678.639 1468.36 L678.639 1442.68 L630.716 1442.68 L630.716 1442.68  Z\n",
       "  \" fill=\"#009af9\" fill-rule=\"evenodd\" fill-opacity=\"1\"/>\n",
       "<polyline clip-path=\"url(#clip254)\" style=\"stroke:#000000; stroke-linecap:butt; stroke-linejoin:round; stroke-width:4; stroke-opacity:1; fill:none\" points=\"\n",
       "  630.716,1442.68 630.716,1468.36 678.639,1468.36 678.639,1442.68 630.716,1442.68 \n",
       "  \"/>\n",
       "<path clip-path=\"url(#clip254)\" d=\"\n",
       "M690.619 923.731 L690.619 1468.36 L738.542 1468.36 L738.542 923.731 L690.619 923.731 L690.619 923.731  Z\n",
       "  \" fill=\"#009af9\" fill-rule=\"evenodd\" fill-opacity=\"1\"/>\n",
       "<polyline clip-path=\"url(#clip254)\" style=\"stroke:#000000; stroke-linecap:butt; stroke-linejoin:round; stroke-width:4; stroke-opacity:1; fill:none\" points=\"\n",
       "  690.619,923.731 690.619,1468.36 738.542,1468.36 738.542,923.731 690.619,923.731 \n",
       "  \"/>\n",
       "<path clip-path=\"url(#clip254)\" d=\"\n",
       "M750.523 1229.87 L750.523 1468.36 L798.446 1468.36 L798.446 1229.87 L750.523 1229.87 L750.523 1229.87  Z\n",
       "  \" fill=\"#009af9\" fill-rule=\"evenodd\" fill-opacity=\"1\"/>\n",
       "<polyline clip-path=\"url(#clip254)\" style=\"stroke:#000000; stroke-linecap:butt; stroke-linejoin:round; stroke-width:4; stroke-opacity:1; fill:none\" points=\"\n",
       "  750.523,1229.87 750.523,1468.36 798.446,1468.36 798.446,1229.87 750.523,1229.87 \n",
       "  \"/>\n",
       "<path clip-path=\"url(#clip254)\" d=\"\n",
       "M810.427 1059.73 L810.427 1468.36 L858.35 1468.36 L858.35 1059.73 L810.427 1059.73 L810.427 1059.73  Z\n",
       "  \" fill=\"#009af9\" fill-rule=\"evenodd\" fill-opacity=\"1\"/>\n",
       "<polyline clip-path=\"url(#clip254)\" style=\"stroke:#000000; stroke-linecap:butt; stroke-linejoin:round; stroke-width:4; stroke-opacity:1; fill:none\" points=\"\n",
       "  810.427,1059.73 810.427,1468.36 858.35,1468.36 858.35,1059.73 810.427,1059.73 \n",
       "  \"/>\n",
       "<path clip-path=\"url(#clip254)\" d=\"\n",
       "M870.331 1259.99 L870.331 1468.36 L918.254 1468.36 L918.254 1259.99 L870.331 1259.99 L870.331 1259.99  Z\n",
       "  \" fill=\"#009af9\" fill-rule=\"evenodd\" fill-opacity=\"1\"/>\n",
       "<polyline clip-path=\"url(#clip254)\" style=\"stroke:#000000; stroke-linecap:butt; stroke-linejoin:round; stroke-width:4; stroke-opacity:1; fill:none\" points=\"\n",
       "  870.331,1259.99 870.331,1468.36 918.254,1468.36 918.254,1259.99 870.331,1259.99 \n",
       "  \"/>\n",
       "<path clip-path=\"url(#clip254)\" d=\"\n",
       "M930.235 1026.44 L930.235 1468.36 L978.158 1468.36 L978.158 1026.44 L930.235 1026.44 L930.235 1026.44  Z\n",
       "  \" fill=\"#009af9\" fill-rule=\"evenodd\" fill-opacity=\"1\"/>\n",
       "<polyline clip-path=\"url(#clip254)\" style=\"stroke:#000000; stroke-linecap:butt; stroke-linejoin:round; stroke-width:4; stroke-opacity:1; fill:none\" points=\"\n",
       "  930.235,1026.44 930.235,1468.36 978.158,1468.36 978.158,1026.44 930.235,1026.44 \n",
       "  \"/>\n",
       "<path clip-path=\"url(#clip254)\" d=\"\n",
       "M990.139 1183.02 L990.139 1468.36 L1038.06 1468.36 L1038.06 1183.02 L990.139 1183.02 L990.139 1183.02  Z\n",
       "  \" fill=\"#009af9\" fill-rule=\"evenodd\" fill-opacity=\"1\"/>\n",
       "<polyline clip-path=\"url(#clip254)\" style=\"stroke:#000000; stroke-linecap:butt; stroke-linejoin:round; stroke-width:4; stroke-opacity:1; fill:none\" points=\"\n",
       "  990.139,1183.02 990.139,1468.36 1038.06,1468.36 1038.06,1183.02 990.139,1183.02 \n",
       "  \"/>\n",
       "<path clip-path=\"url(#clip254)\" d=\"\n",
       "M1050.04 865.335 L1050.04 1468.36 L1097.97 1468.36 L1097.97 865.335 L1050.04 865.335 L1050.04 865.335  Z\n",
       "  \" fill=\"#009af9\" fill-rule=\"evenodd\" fill-opacity=\"1\"/>\n",
       "<polyline clip-path=\"url(#clip254)\" style=\"stroke:#000000; stroke-linecap:butt; stroke-linejoin:round; stroke-width:4; stroke-opacity:1; fill:none\" points=\"\n",
       "  1050.04,865.335 1050.04,1468.36 1097.97,1468.36 1097.97,865.335 1050.04,865.335 \n",
       "  \"/>\n",
       "<path clip-path=\"url(#clip250)\" d=\"\n",
       "M1356.6 1486.45 L2352.76 1486.45 L2352.76 847.244 L1356.6 847.244  Z\n",
       "  \" fill=\"#ffffff\" fill-rule=\"evenodd\" fill-opacity=\"1\"/>\n",
       "<defs>\n",
       "  <clipPath id=\"clip255\">\n",
       "    <rect x=\"1356\" y=\"847\" width=\"997\" height=\"640\"/>\n",
       "  </clipPath>\n",
       "</defs>\n",
       "<polyline clip-path=\"url(#clip255)\" style=\"stroke:#000000; stroke-linecap:butt; stroke-linejoin:round; stroke-width:2; stroke-opacity:0.1; fill:none\" points=\"\n",
       "  1411.39,1486.45 1411.39,847.244 \n",
       "  \"/>\n",
       "<polyline clip-path=\"url(#clip255)\" style=\"stroke:#000000; stroke-linecap:butt; stroke-linejoin:round; stroke-width:2; stroke-opacity:0.1; fill:none\" points=\"\n",
       "  1633.03,1486.45 1633.03,847.244 \n",
       "  \"/>\n",
       "<polyline clip-path=\"url(#clip255)\" style=\"stroke:#000000; stroke-linecap:butt; stroke-linejoin:round; stroke-width:2; stroke-opacity:0.1; fill:none\" points=\"\n",
       "  1854.68,1486.45 1854.68,847.244 \n",
       "  \"/>\n",
       "<polyline clip-path=\"url(#clip255)\" style=\"stroke:#000000; stroke-linecap:butt; stroke-linejoin:round; stroke-width:2; stroke-opacity:0.1; fill:none\" points=\"\n",
       "  2076.32,1486.45 2076.32,847.244 \n",
       "  \"/>\n",
       "<polyline clip-path=\"url(#clip255)\" style=\"stroke:#000000; stroke-linecap:butt; stroke-linejoin:round; stroke-width:2; stroke-opacity:0.1; fill:none\" points=\"\n",
       "  2297.97,1486.45 2297.97,847.244 \n",
       "  \"/>\n",
       "<polyline clip-path=\"url(#clip250)\" style=\"stroke:#000000; stroke-linecap:butt; stroke-linejoin:round; stroke-width:4; stroke-opacity:1; fill:none\" points=\"\n",
       "  1356.6,1486.45 2352.76,1486.45 \n",
       "  \"/>\n",
       "<polyline clip-path=\"url(#clip250)\" style=\"stroke:#000000; stroke-linecap:butt; stroke-linejoin:round; stroke-width:4; stroke-opacity:1; fill:none\" points=\"\n",
       "  1411.39,1486.45 1411.39,1478.78 \n",
       "  \"/>\n",
       "<polyline clip-path=\"url(#clip250)\" style=\"stroke:#000000; stroke-linecap:butt; stroke-linejoin:round; stroke-width:4; stroke-opacity:1; fill:none\" points=\"\n",
       "  1633.03,1486.45 1633.03,1478.78 \n",
       "  \"/>\n",
       "<polyline clip-path=\"url(#clip250)\" style=\"stroke:#000000; stroke-linecap:butt; stroke-linejoin:round; stroke-width:4; stroke-opacity:1; fill:none\" points=\"\n",
       "  1854.68,1486.45 1854.68,1478.78 \n",
       "  \"/>\n",
       "<polyline clip-path=\"url(#clip250)\" style=\"stroke:#000000; stroke-linecap:butt; stroke-linejoin:round; stroke-width:4; stroke-opacity:1; fill:none\" points=\"\n",
       "  2076.32,1486.45 2076.32,1478.78 \n",
       "  \"/>\n",
       "<polyline clip-path=\"url(#clip250)\" style=\"stroke:#000000; stroke-linecap:butt; stroke-linejoin:round; stroke-width:4; stroke-opacity:1; fill:none\" points=\"\n",
       "  2297.97,1486.45 2297.97,1478.78 \n",
       "  \"/>\n",
       "<path clip-path=\"url(#clip250)\" d=\"M1373.69 1515.64 Q1370.08 1515.64 1368.25 1519.2 Q1366.45 1522.75 1366.45 1529.87 Q1366.45 1536.98 1368.25 1540.55 Q1370.08 1544.09 1373.69 1544.09 Q1377.33 1544.09 1379.13 1540.55 Q1380.96 1536.98 1380.96 1529.87 Q1380.96 1522.75 1379.13 1519.2 Q1377.33 1515.64 1373.69 1515.64 M1373.69 1511.93 Q1379.5 1511.93 1382.56 1516.54 Q1385.64 1521.12 1385.64 1529.87 Q1385.64 1538.6 1382.56 1543.21 Q1379.5 1547.79 1373.69 1547.79 Q1367.88 1547.79 1364.8 1543.21 Q1361.75 1538.6 1361.75 1529.87 Q1361.75 1521.12 1364.8 1516.54 Q1367.88 1511.93 1373.69 1511.93 Z\" fill=\"#000000\" fill-rule=\"evenodd\" fill-opacity=\"1\" /><path clip-path=\"url(#clip250)\" d=\"M1393.85 1541.24 L1398.74 1541.24 L1398.74 1547.12 L1393.85 1547.12 L1393.85 1541.24 Z\" fill=\"#000000\" fill-rule=\"evenodd\" fill-opacity=\"1\" /><path clip-path=\"url(#clip250)\" d=\"M1418.92 1515.64 Q1415.31 1515.64 1413.48 1519.2 Q1411.68 1522.75 1411.68 1529.87 Q1411.68 1536.98 1413.48 1540.55 Q1415.31 1544.09 1418.92 1544.09 Q1422.56 1544.09 1424.36 1540.55 Q1426.19 1536.98 1426.19 1529.87 Q1426.19 1522.75 1424.36 1519.2 Q1422.56 1515.64 1418.92 1515.64 M1418.92 1511.93 Q1424.73 1511.93 1427.79 1516.54 Q1430.87 1521.12 1430.87 1529.87 Q1430.87 1538.6 1427.79 1543.21 Q1424.73 1547.79 1418.92 1547.79 Q1413.11 1547.79 1410.03 1543.21 Q1406.98 1538.6 1406.98 1529.87 Q1406.98 1521.12 1410.03 1516.54 Q1413.11 1511.93 1418.92 1511.93 Z\" fill=\"#000000\" fill-rule=\"evenodd\" fill-opacity=\"1\" /><path clip-path=\"url(#clip250)\" d=\"M1449.09 1515.64 Q1445.47 1515.64 1443.65 1519.2 Q1441.84 1522.75 1441.84 1529.87 Q1441.84 1536.98 1443.65 1540.55 Q1445.47 1544.09 1449.09 1544.09 Q1452.72 1544.09 1454.53 1540.55 Q1456.35 1536.98 1456.35 1529.87 Q1456.35 1522.75 1454.53 1519.2 Q1452.72 1515.64 1449.09 1515.64 M1449.09 1511.93 Q1454.9 1511.93 1457.95 1516.54 Q1461.03 1521.12 1461.03 1529.87 Q1461.03 1538.6 1457.95 1543.21 Q1454.9 1547.79 1449.09 1547.79 Q1443.28 1547.79 1440.2 1543.21 Q1437.14 1538.6 1437.14 1529.87 Q1437.14 1521.12 1440.2 1516.54 Q1443.28 1511.93 1449.09 1511.93 Z\" fill=\"#000000\" fill-rule=\"evenodd\" fill-opacity=\"1\" /><path clip-path=\"url(#clip250)\" d=\"M1595.83 1515.64 Q1592.22 1515.64 1590.39 1519.2 Q1588.59 1522.75 1588.59 1529.87 Q1588.59 1536.98 1590.39 1540.55 Q1592.22 1544.09 1595.83 1544.09 Q1599.47 1544.09 1601.27 1540.55 Q1603.1 1536.98 1603.1 1529.87 Q1603.1 1522.75 1601.27 1519.2 Q1599.47 1515.64 1595.83 1515.64 M1595.83 1511.93 Q1601.64 1511.93 1604.7 1516.54 Q1607.78 1521.12 1607.78 1529.87 Q1607.78 1538.6 1604.7 1543.21 Q1601.64 1547.79 1595.83 1547.79 Q1590.02 1547.79 1586.95 1543.21 Q1583.89 1538.6 1583.89 1529.87 Q1583.89 1521.12 1586.95 1516.54 Q1590.02 1511.93 1595.83 1511.93 Z\" fill=\"#000000\" fill-rule=\"evenodd\" fill-opacity=\"1\" /><path clip-path=\"url(#clip250)\" d=\"M1616 1541.24 L1620.88 1541.24 L1620.88 1547.12 L1616 1547.12 L1616 1541.24 Z\" fill=\"#000000\" fill-rule=\"evenodd\" fill-opacity=\"1\" /><path clip-path=\"url(#clip250)\" d=\"M1635.09 1543.18 L1651.41 1543.18 L1651.41 1547.12 L1629.47 1547.12 L1629.47 1543.18 Q1632.13 1540.43 1636.71 1535.8 Q1641.32 1531.15 1642.5 1529.81 Q1644.75 1527.28 1645.63 1525.55 Q1646.53 1523.79 1646.53 1522.1 Q1646.53 1519.34 1644.58 1517.61 Q1642.66 1515.87 1639.56 1515.87 Q1637.36 1515.87 1634.91 1516.63 Q1632.48 1517.4 1629.7 1518.95 L1629.7 1514.23 Q1632.52 1513.09 1634.98 1512.51 Q1637.43 1511.93 1639.47 1511.93 Q1644.84 1511.93 1648.03 1514.62 Q1651.23 1517.31 1651.23 1521.8 Q1651.23 1523.93 1650.42 1525.85 Q1649.63 1527.74 1647.52 1530.34 Q1646.94 1531.01 1643.84 1534.23 Q1640.74 1537.42 1635.09 1543.18 Z\" fill=\"#000000\" fill-rule=\"evenodd\" fill-opacity=\"1\" /><path clip-path=\"url(#clip250)\" d=\"M1661.27 1512.56 L1679.63 1512.56 L1679.63 1516.5 L1665.56 1516.5 L1665.56 1524.97 Q1666.57 1524.62 1667.59 1524.46 Q1668.61 1524.27 1669.63 1524.27 Q1675.42 1524.27 1678.8 1527.44 Q1682.18 1530.62 1682.18 1536.03 Q1682.18 1541.61 1678.7 1544.71 Q1675.23 1547.79 1668.91 1547.79 Q1666.74 1547.79 1664.47 1547.42 Q1662.22 1547.05 1659.82 1546.31 L1659.82 1541.61 Q1661.9 1542.74 1664.12 1543.3 Q1666.34 1543.86 1668.82 1543.86 Q1672.82 1543.86 1675.16 1541.75 Q1677.5 1539.64 1677.5 1536.03 Q1677.5 1532.42 1675.16 1530.31 Q1672.82 1528.21 1668.82 1528.21 Q1666.94 1528.21 1665.07 1528.62 Q1663.22 1529.04 1661.27 1529.92 L1661.27 1512.56 Z\" fill=\"#000000\" fill-rule=\"evenodd\" fill-opacity=\"1\" /><path clip-path=\"url(#clip250)\" d=\"M1816.98 1515.64 Q1813.37 1515.64 1811.54 1519.2 Q1809.74 1522.75 1809.74 1529.87 Q1809.74 1536.98 1811.54 1540.55 Q1813.37 1544.09 1816.98 1544.09 Q1820.61 1544.09 1822.42 1540.55 Q1824.25 1536.98 1824.25 1529.87 Q1824.25 1522.75 1822.42 1519.2 Q1820.61 1515.64 1816.98 1515.64 M1816.98 1511.93 Q1822.79 1511.93 1825.85 1516.54 Q1828.92 1521.12 1828.92 1529.87 Q1828.92 1538.6 1825.85 1543.21 Q1822.79 1547.79 1816.98 1547.79 Q1811.17 1547.79 1808.09 1543.21 Q1805.04 1538.6 1805.04 1529.87 Q1805.04 1521.12 1808.09 1516.54 Q1811.17 1511.93 1816.98 1511.93 Z\" fill=\"#000000\" fill-rule=\"evenodd\" fill-opacity=\"1\" /><path clip-path=\"url(#clip250)\" d=\"M1837.14 1541.24 L1842.03 1541.24 L1842.03 1547.12 L1837.14 1547.12 L1837.14 1541.24 Z\" fill=\"#000000\" fill-rule=\"evenodd\" fill-opacity=\"1\" /><path clip-path=\"url(#clip250)\" d=\"M1852.26 1512.56 L1870.61 1512.56 L1870.61 1516.5 L1856.54 1516.5 L1856.54 1524.97 Q1857.56 1524.62 1858.58 1524.46 Q1859.6 1524.27 1860.61 1524.27 Q1866.4 1524.27 1869.78 1527.44 Q1873.16 1530.62 1873.16 1536.03 Q1873.16 1541.61 1869.69 1544.71 Q1866.22 1547.79 1859.9 1547.79 Q1857.72 1547.79 1855.45 1547.42 Q1853.21 1547.05 1850.8 1546.31 L1850.8 1541.61 Q1852.88 1542.74 1855.11 1543.3 Q1857.33 1543.86 1859.8 1543.86 Q1863.81 1543.86 1866.15 1541.75 Q1868.48 1539.64 1868.48 1536.03 Q1868.48 1532.42 1866.15 1530.31 Q1863.81 1528.21 1859.8 1528.21 Q1857.93 1528.21 1856.05 1528.62 Q1854.2 1529.04 1852.26 1529.92 L1852.26 1512.56 Z\" fill=\"#000000\" fill-rule=\"evenodd\" fill-opacity=\"1\" /><path clip-path=\"url(#clip250)\" d=\"M1892.37 1515.64 Q1888.76 1515.64 1886.93 1519.2 Q1885.13 1522.75 1885.13 1529.87 Q1885.13 1536.98 1886.93 1540.55 Q1888.76 1544.09 1892.37 1544.09 Q1896.01 1544.09 1897.81 1540.55 Q1899.64 1536.98 1899.64 1529.87 Q1899.64 1522.75 1897.81 1519.2 Q1896.01 1515.64 1892.37 1515.64 M1892.37 1511.93 Q1898.18 1511.93 1901.24 1516.54 Q1904.32 1521.12 1904.32 1529.87 Q1904.32 1538.6 1901.24 1543.21 Q1898.18 1547.79 1892.37 1547.79 Q1886.56 1547.79 1883.48 1543.21 Q1880.43 1538.6 1880.43 1529.87 Q1880.43 1521.12 1883.48 1516.54 Q1886.56 1511.93 1892.37 1511.93 Z\" fill=\"#000000\" fill-rule=\"evenodd\" fill-opacity=\"1\" /><path clip-path=\"url(#clip250)\" d=\"M2039.12 1515.64 Q2035.51 1515.64 2033.68 1519.2 Q2031.88 1522.75 2031.88 1529.87 Q2031.88 1536.98 2033.68 1540.55 Q2035.51 1544.09 2039.12 1544.09 Q2042.76 1544.09 2044.56 1540.55 Q2046.39 1536.98 2046.39 1529.87 Q2046.39 1522.75 2044.56 1519.2 Q2042.76 1515.64 2039.12 1515.64 M2039.12 1511.93 Q2044.93 1511.93 2047.99 1516.54 Q2051.07 1521.12 2051.07 1529.87 Q2051.07 1538.6 2047.99 1543.21 Q2044.93 1547.79 2039.12 1547.79 Q2033.31 1547.79 2030.23 1543.21 Q2027.18 1538.6 2027.18 1529.87 Q2027.18 1521.12 2030.23 1516.54 Q2033.31 1511.93 2039.12 1511.93 Z\" fill=\"#000000\" fill-rule=\"evenodd\" fill-opacity=\"1\" /><path clip-path=\"url(#clip250)\" d=\"M2059.28 1541.24 L2064.17 1541.24 L2064.17 1547.12 L2059.28 1547.12 L2059.28 1541.24 Z\" fill=\"#000000\" fill-rule=\"evenodd\" fill-opacity=\"1\" /><path clip-path=\"url(#clip250)\" d=\"M2073.17 1512.56 L2095.4 1512.56 L2095.4 1514.55 L2082.85 1547.12 L2077.96 1547.12 L2089.77 1516.5 L2073.17 1516.5 L2073.17 1512.56 Z\" fill=\"#000000\" fill-rule=\"evenodd\" fill-opacity=\"1\" /><path clip-path=\"url(#clip250)\" d=\"M2104.56 1512.56 L2122.92 1512.56 L2122.92 1516.5 L2108.84 1516.5 L2108.84 1524.97 Q2109.86 1524.62 2110.88 1524.46 Q2111.9 1524.27 2112.92 1524.27 Q2118.71 1524.27 2122.08 1527.44 Q2125.46 1530.62 2125.46 1536.03 Q2125.46 1541.61 2121.99 1544.71 Q2118.52 1547.79 2112.2 1547.79 Q2110.02 1547.79 2107.76 1547.42 Q2105.51 1547.05 2103.1 1546.31 L2103.1 1541.61 Q2105.19 1542.74 2107.41 1543.3 Q2109.63 1543.86 2112.11 1543.86 Q2116.11 1543.86 2118.45 1541.75 Q2120.79 1539.64 2120.79 1536.03 Q2120.79 1532.42 2118.45 1530.31 Q2116.11 1528.21 2112.11 1528.21 Q2110.23 1528.21 2108.36 1528.62 Q2106.51 1529.04 2104.56 1529.92 L2104.56 1512.56 Z\" fill=\"#000000\" fill-rule=\"evenodd\" fill-opacity=\"1\" /><path clip-path=\"url(#clip250)\" d=\"M2250.04 1543.18 L2257.68 1543.18 L2257.68 1516.82 L2249.37 1518.49 L2249.37 1514.23 L2257.63 1512.56 L2262.31 1512.56 L2262.31 1543.18 L2269.94 1543.18 L2269.94 1547.12 L2250.04 1547.12 L2250.04 1543.18 Z\" fill=\"#000000\" fill-rule=\"evenodd\" fill-opacity=\"1\" /><path clip-path=\"url(#clip250)\" d=\"M2279.39 1541.24 L2284.27 1541.24 L2284.27 1547.12 L2279.39 1547.12 L2279.39 1541.24 Z\" fill=\"#000000\" fill-rule=\"evenodd\" fill-opacity=\"1\" /><path clip-path=\"url(#clip250)\" d=\"M2304.46 1515.64 Q2300.85 1515.64 2299.02 1519.2 Q2297.21 1522.75 2297.21 1529.87 Q2297.21 1536.98 2299.02 1540.55 Q2300.85 1544.09 2304.46 1544.09 Q2308.09 1544.09 2309.9 1540.55 Q2311.73 1536.98 2311.73 1529.87 Q2311.73 1522.75 2309.9 1519.2 Q2308.09 1515.64 2304.46 1515.64 M2304.46 1511.93 Q2310.27 1511.93 2313.32 1516.54 Q2316.4 1521.12 2316.4 1529.87 Q2316.4 1538.6 2313.32 1543.21 Q2310.27 1547.79 2304.46 1547.79 Q2298.65 1547.79 2295.57 1543.21 Q2292.51 1538.6 2292.51 1529.87 Q2292.51 1521.12 2295.57 1516.54 Q2298.65 1511.93 2304.46 1511.93 Z\" fill=\"#000000\" fill-rule=\"evenodd\" fill-opacity=\"1\" /><path clip-path=\"url(#clip250)\" d=\"M2334.62 1515.64 Q2331.01 1515.64 2329.18 1519.2 Q2327.38 1522.75 2327.38 1529.87 Q2327.38 1536.98 2329.18 1540.55 Q2331.01 1544.09 2334.62 1544.09 Q2338.25 1544.09 2340.06 1540.55 Q2341.89 1536.98 2341.89 1529.87 Q2341.89 1522.75 2340.06 1519.2 Q2338.25 1515.64 2334.62 1515.64 M2334.62 1511.93 Q2340.43 1511.93 2343.49 1516.54 Q2346.56 1521.12 2346.56 1529.87 Q2346.56 1538.6 2343.49 1543.21 Q2340.43 1547.79 2334.62 1547.79 Q2328.81 1547.79 2325.73 1543.21 Q2322.68 1538.6 2322.68 1529.87 Q2322.68 1521.12 2325.73 1516.54 Q2328.81 1511.93 2334.62 1511.93 Z\" fill=\"#000000\" fill-rule=\"evenodd\" fill-opacity=\"1\" /><polyline clip-path=\"url(#clip255)\" style=\"stroke:#000000; stroke-linecap:butt; stroke-linejoin:round; stroke-width:2; stroke-opacity:0.1; fill:none\" points=\"\n",
       "  1356.6,1468.36 2352.76,1468.36 \n",
       "  \"/>\n",
       "<polyline clip-path=\"url(#clip255)\" style=\"stroke:#000000; stroke-linecap:butt; stroke-linejoin:round; stroke-width:2; stroke-opacity:0.1; fill:none\" points=\"\n",
       "  1356.6,1334.35 2352.76,1334.35 \n",
       "  \"/>\n",
       "<polyline clip-path=\"url(#clip255)\" style=\"stroke:#000000; stroke-linecap:butt; stroke-linejoin:round; stroke-width:2; stroke-opacity:0.1; fill:none\" points=\"\n",
       "  1356.6,1200.35 2352.76,1200.35 \n",
       "  \"/>\n",
       "<polyline clip-path=\"url(#clip255)\" style=\"stroke:#000000; stroke-linecap:butt; stroke-linejoin:round; stroke-width:2; stroke-opacity:0.1; fill:none\" points=\"\n",
       "  1356.6,1066.34 2352.76,1066.34 \n",
       "  \"/>\n",
       "<polyline clip-path=\"url(#clip255)\" style=\"stroke:#000000; stroke-linecap:butt; stroke-linejoin:round; stroke-width:2; stroke-opacity:0.1; fill:none\" points=\"\n",
       "  1356.6,932.337 2352.76,932.337 \n",
       "  \"/>\n",
       "<polyline clip-path=\"url(#clip250)\" style=\"stroke:#000000; stroke-linecap:butt; stroke-linejoin:round; stroke-width:4; stroke-opacity:1; fill:none\" points=\"\n",
       "  1356.6,1486.45 1356.6,847.244 \n",
       "  \"/>\n",
       "<polyline clip-path=\"url(#clip250)\" style=\"stroke:#000000; stroke-linecap:butt; stroke-linejoin:round; stroke-width:4; stroke-opacity:1; fill:none\" points=\"\n",
       "  1356.6,1468.36 1368.55,1468.36 \n",
       "  \"/>\n",
       "<polyline clip-path=\"url(#clip250)\" style=\"stroke:#000000; stroke-linecap:butt; stroke-linejoin:round; stroke-width:4; stroke-opacity:1; fill:none\" points=\"\n",
       "  1356.6,1334.35 1368.55,1334.35 \n",
       "  \"/>\n",
       "<polyline clip-path=\"url(#clip250)\" style=\"stroke:#000000; stroke-linecap:butt; stroke-linejoin:round; stroke-width:4; stroke-opacity:1; fill:none\" points=\"\n",
       "  1356.6,1200.35 1368.55,1200.35 \n",
       "  \"/>\n",
       "<polyline clip-path=\"url(#clip250)\" style=\"stroke:#000000; stroke-linecap:butt; stroke-linejoin:round; stroke-width:4; stroke-opacity:1; fill:none\" points=\"\n",
       "  1356.6,1066.34 1368.55,1066.34 \n",
       "  \"/>\n",
       "<polyline clip-path=\"url(#clip250)\" style=\"stroke:#000000; stroke-linecap:butt; stroke-linejoin:round; stroke-width:4; stroke-opacity:1; fill:none\" points=\"\n",
       "  1356.6,932.337 1368.55,932.337 \n",
       "  \"/>\n",
       "<path clip-path=\"url(#clip250)\" d=\"M1308.65 1454.16 Q1305.04 1454.16 1303.21 1457.72 Q1301.41 1461.26 1301.41 1468.39 Q1301.41 1475.5 1303.21 1479.06 Q1305.04 1482.6 1308.65 1482.6 Q1312.29 1482.6 1314.09 1479.06 Q1315.92 1475.5 1315.92 1468.39 Q1315.92 1461.26 1314.09 1457.72 Q1312.29 1454.16 1308.65 1454.16 M1308.65 1450.45 Q1314.46 1450.45 1317.52 1455.06 Q1320.6 1459.64 1320.6 1468.39 Q1320.6 1477.12 1317.52 1481.73 Q1314.46 1486.31 1308.65 1486.31 Q1302.84 1486.31 1299.77 1481.73 Q1296.71 1477.12 1296.71 1468.39 Q1296.71 1459.64 1299.77 1455.06 Q1302.84 1450.45 1308.65 1450.45 Z\" fill=\"#000000\" fill-rule=\"evenodd\" fill-opacity=\"1\" /><path clip-path=\"url(#clip250)\" d=\"M1304.28 1347.7 L1320.6 1347.7 L1320.6 1351.63 L1298.65 1351.63 L1298.65 1347.7 Q1301.32 1344.94 1305.9 1340.31 Q1310.51 1335.66 1311.69 1334.32 Q1313.93 1331.79 1314.81 1330.06 Q1315.71 1328.3 1315.71 1326.61 Q1315.71 1323.85 1313.77 1322.12 Q1311.85 1320.38 1308.75 1320.38 Q1306.55 1320.38 1304.09 1321.15 Q1301.66 1321.91 1298.89 1323.46 L1298.89 1318.74 Q1301.71 1317.6 1304.16 1317.03 Q1306.62 1316.45 1308.65 1316.45 Q1314.02 1316.45 1317.22 1319.13 Q1320.41 1321.82 1320.41 1326.31 Q1320.41 1328.44 1319.6 1330.36 Q1318.82 1332.26 1316.71 1334.85 Q1316.13 1335.52 1313.03 1338.74 Q1309.93 1341.93 1304.28 1347.7 Z\" fill=\"#000000\" fill-rule=\"evenodd\" fill-opacity=\"1\" /><path clip-path=\"url(#clip250)\" d=\"M1311.01 1187.14 L1299.21 1205.59 L1311.01 1205.59 L1311.01 1187.14 M1309.79 1183.07 L1315.67 1183.07 L1315.67 1205.59 L1320.6 1205.59 L1320.6 1209.48 L1315.67 1209.48 L1315.67 1217.63 L1311.01 1217.63 L1311.01 1209.48 L1295.41 1209.48 L1295.41 1204.97 L1309.79 1183.07 Z\" fill=\"#000000\" fill-rule=\"evenodd\" fill-opacity=\"1\" /><path clip-path=\"url(#clip250)\" d=\"M1309.07 1064.48 Q1305.92 1064.48 1304.07 1066.63 Q1302.24 1068.78 1302.24 1072.53 Q1302.24 1076.26 1304.07 1078.44 Q1305.92 1080.59 1309.07 1080.59 Q1312.22 1080.59 1314.05 1078.44 Q1315.9 1076.26 1315.9 1072.53 Q1315.9 1068.78 1314.05 1066.63 Q1312.22 1064.48 1309.07 1064.48 M1318.35 1049.83 L1318.35 1054.09 Q1316.59 1053.25 1314.79 1052.81 Q1313.01 1052.37 1311.25 1052.37 Q1306.62 1052.37 1304.16 1055.5 Q1301.73 1058.62 1301.39 1064.94 Q1302.75 1062.93 1304.81 1061.86 Q1306.87 1060.78 1309.35 1060.78 Q1314.56 1060.78 1317.57 1063.95 Q1320.6 1067.09 1320.6 1072.53 Q1320.6 1077.86 1317.45 1081.08 Q1314.3 1084.29 1309.07 1084.29 Q1303.08 1084.29 1299.9 1079.71 Q1296.73 1075.1 1296.73 1066.38 Q1296.73 1058.18 1300.62 1053.32 Q1304.51 1048.44 1311.06 1048.44 Q1312.82 1048.44 1314.6 1048.78 Q1316.41 1049.13 1318.35 1049.83 Z\" fill=\"#000000\" fill-rule=\"evenodd\" fill-opacity=\"1\" /><path clip-path=\"url(#clip250)\" d=\"M1308.75 933.205 Q1305.41 933.205 1303.49 934.988 Q1301.59 936.77 1301.59 939.895 Q1301.59 943.02 1303.49 944.802 Q1305.41 946.585 1308.75 946.585 Q1312.08 946.585 1314 944.802 Q1315.92 942.997 1315.92 939.895 Q1315.92 936.77 1314 934.988 Q1312.1 933.205 1308.75 933.205 M1304.07 931.215 Q1301.06 930.474 1299.37 928.414 Q1297.7 926.353 1297.7 923.391 Q1297.7 919.247 1300.64 916.84 Q1303.61 914.432 1308.75 914.432 Q1313.91 914.432 1316.85 916.84 Q1319.79 919.247 1319.79 923.391 Q1319.79 926.353 1318.1 928.414 Q1316.43 930.474 1313.45 931.215 Q1316.83 932.002 1318.7 934.293 Q1320.6 936.585 1320.6 939.895 Q1320.6 944.918 1317.52 947.603 Q1314.46 950.289 1308.75 950.289 Q1303.03 950.289 1299.95 947.603 Q1296.89 944.918 1296.89 939.895 Q1296.89 936.585 1298.79 934.293 Q1300.69 932.002 1304.07 931.215 M1302.36 923.83 Q1302.36 926.516 1304.02 928.02 Q1305.71 929.525 1308.75 929.525 Q1311.76 929.525 1313.45 928.02 Q1315.16 926.516 1315.16 923.83 Q1315.16 921.145 1313.45 919.641 Q1311.76 918.136 1308.75 918.136 Q1305.71 918.136 1304.02 919.641 Q1302.36 921.145 1302.36 923.83 Z\" fill=\"#000000\" fill-rule=\"evenodd\" fill-opacity=\"1\" /><path clip-path=\"url(#clip255)\" d=\"\n",
       "M1411.39 865.335 L1411.39 1468.36 L1854.68 1468.36 L1854.68 865.335 L1411.39 865.335 L1411.39 865.335  Z\n",
       "  \" fill=\"#009af9\" fill-rule=\"evenodd\" fill-opacity=\"1\"/>\n",
       "<polyline clip-path=\"url(#clip255)\" style=\"stroke:#000000; stroke-linecap:butt; stroke-linejoin:round; stroke-width:4; stroke-opacity:1; fill:none\" points=\"\n",
       "  1411.39,865.335 1411.39,1468.36 1854.68,1468.36 1854.68,865.335 1411.39,865.335 \n",
       "  \"/>\n",
       "<path clip-path=\"url(#clip255)\" d=\"\n",
       "M1854.68 1066.34 L1854.68 1468.36 L2297.97 1468.36 L2297.97 1066.34 L1854.68 1066.34 L1854.68 1066.34  Z\n",
       "  \" fill=\"#009af9\" fill-rule=\"evenodd\" fill-opacity=\"1\"/>\n",
       "<polyline clip-path=\"url(#clip255)\" style=\"stroke:#000000; stroke-linecap:butt; stroke-linejoin:round; stroke-width:4; stroke-opacity:1; fill:none\" points=\"\n",
       "  1854.68,1066.34 1854.68,1468.36 2297.97,1468.36 2297.97,1066.34 1854.68,1066.34 \n",
       "  \"/>\n",
       "</svg>\n"
      ]
     },
     "execution_count": 70,
     "metadata": {},
     "output_type": "execute_result"
    }
   ],
   "source": [
    "p1 = plot(x,y)\n",
    "p2 = scatter(x,y)\n",
    "p3 = bar(x,y)\n",
    "p4 = histogram(y)\n",
    "\n",
    "plot(p1,p2,p3,p4, layout=(2,2), legend=false)"
   ]
  },
  {
   "cell_type": "code",
   "execution_count": 72,
   "metadata": {},
   "outputs": [
    {
     "data": {
      "text/plain": [
       "15×4 Matrix{Float64}:\n",
       " 0.407903  0.219311   0.577936   0.501938\n",
       " 0.716694  0.0917516  0.732867   0.922384\n",
       " 0.57385   0.451439   0.229407   0.945779\n",
       " 0.131421  0.82534    0.526808   0.18037\n",
       " 0.229635  0.265384   0.604534   0.435989\n",
       " 0.127137  0.458401   0.822319   0.582168\n",
       " 0.767409  0.806671   0.912813   0.178992\n",
       " 0.882869  0.638794   0.78326    0.120564\n",
       " 0.18166   0.794004   0.381071   0.654078\n",
       " 0.797346  0.595312   0.568487   0.0824897\n",
       " 0.222935  0.15684    0.527755   0.475323\n",
       " 0.247061  0.629894   0.969515   0.299355\n",
       " 0.718869  0.110188   0.970389   0.597921\n",
       " 0.147704  0.0306021  0.955543   0.783283\n",
       " 0.359726  0.792822   0.0334961  0.197394"
      ]
     },
     "execution_count": 72,
     "metadata": {},
     "output_type": "execute_result"
    }
   ],
   "source": [
    "y = rand(15,4)"
   ]
  },
  {
   "cell_type": "code",
   "execution_count": 73,
   "metadata": {},
   "outputs": [
    {
     "data": {
      "image/svg+xml": [
       "<?xml version=\"1.0\" encoding=\"utf-8\"?>\n",
       "<svg xmlns=\"http://www.w3.org/2000/svg\" xmlns:xlink=\"http://www.w3.org/1999/xlink\" width=\"600\" height=\"400\" viewBox=\"0 0 2400 1600\">\n",
       "<defs>\n",
       "  <clipPath id=\"clip290\">\n",
       "    <rect x=\"0\" y=\"0\" width=\"2400\" height=\"1600\"/>\n",
       "  </clipPath>\n",
       "</defs>\n",
       "<path clip-path=\"url(#clip290)\" d=\"\n",
       "M0 1600 L2400 1600 L2400 0 L0 0  Z\n",
       "  \" fill=\"#ffffff\" fill-rule=\"evenodd\" fill-opacity=\"1\"/>\n",
       "<defs>\n",
       "  <clipPath id=\"clip291\">\n",
       "    <rect x=\"480\" y=\"0\" width=\"1681\" height=\"1600\"/>\n",
       "  </clipPath>\n",
       "</defs>\n",
       "<path clip-path=\"url(#clip290)\" d=\"\n",
       "M156.598 286.448 L2352.76 286.448 L2352.76 47.2441 L156.598 47.2441  Z\n",
       "  \" fill=\"#ffffff\" fill-rule=\"evenodd\" fill-opacity=\"1\"/>\n",
       "<defs>\n",
       "  <clipPath id=\"clip292\">\n",
       "    <rect x=\"156\" y=\"47\" width=\"2197\" height=\"240\"/>\n",
       "  </clipPath>\n",
       "</defs>\n",
       "<polyline clip-path=\"url(#clip292)\" style=\"stroke:#000000; stroke-linecap:butt; stroke-linejoin:round; stroke-width:2; stroke-opacity:0.1; fill:none\" points=\"\n",
       "  366.743,286.448 366.743,47.2441 \n",
       "  \"/>\n",
       "<polyline clip-path=\"url(#clip292)\" style=\"stroke:#000000; stroke-linecap:butt; stroke-linejoin:round; stroke-width:2; stroke-opacity:0.1; fill:none\" points=\"\n",
       "  662.721,286.448 662.721,47.2441 \n",
       "  \"/>\n",
       "<polyline clip-path=\"url(#clip292)\" style=\"stroke:#000000; stroke-linecap:butt; stroke-linejoin:round; stroke-width:2; stroke-opacity:0.1; fill:none\" points=\"\n",
       "  958.699,286.448 958.699,47.2441 \n",
       "  \"/>\n",
       "<polyline clip-path=\"url(#clip292)\" style=\"stroke:#000000; stroke-linecap:butt; stroke-linejoin:round; stroke-width:2; stroke-opacity:0.1; fill:none\" points=\"\n",
       "  1254.68,286.448 1254.68,47.2441 \n",
       "  \"/>\n",
       "<polyline clip-path=\"url(#clip292)\" style=\"stroke:#000000; stroke-linecap:butt; stroke-linejoin:round; stroke-width:2; stroke-opacity:0.1; fill:none\" points=\"\n",
       "  1550.66,286.448 1550.66,47.2441 \n",
       "  \"/>\n",
       "<polyline clip-path=\"url(#clip292)\" style=\"stroke:#000000; stroke-linecap:butt; stroke-linejoin:round; stroke-width:2; stroke-opacity:0.1; fill:none\" points=\"\n",
       "  1846.63,286.448 1846.63,47.2441 \n",
       "  \"/>\n",
       "<polyline clip-path=\"url(#clip292)\" style=\"stroke:#000000; stroke-linecap:butt; stroke-linejoin:round; stroke-width:2; stroke-opacity:0.1; fill:none\" points=\"\n",
       "  2142.61,286.448 2142.61,47.2441 \n",
       "  \"/>\n",
       "<polyline clip-path=\"url(#clip290)\" style=\"stroke:#000000; stroke-linecap:butt; stroke-linejoin:round; stroke-width:4; stroke-opacity:1; fill:none\" points=\"\n",
       "  156.598,286.448 2352.76,286.448 \n",
       "  \"/>\n",
       "<polyline clip-path=\"url(#clip290)\" style=\"stroke:#000000; stroke-linecap:butt; stroke-linejoin:round; stroke-width:4; stroke-opacity:1; fill:none\" points=\"\n",
       "  366.743,286.448 366.743,283.577 \n",
       "  \"/>\n",
       "<polyline clip-path=\"url(#clip290)\" style=\"stroke:#000000; stroke-linecap:butt; stroke-linejoin:round; stroke-width:4; stroke-opacity:1; fill:none\" points=\"\n",
       "  662.721,286.448 662.721,283.577 \n",
       "  \"/>\n",
       "<polyline clip-path=\"url(#clip290)\" style=\"stroke:#000000; stroke-linecap:butt; stroke-linejoin:round; stroke-width:4; stroke-opacity:1; fill:none\" points=\"\n",
       "  958.699,286.448 958.699,283.577 \n",
       "  \"/>\n",
       "<polyline clip-path=\"url(#clip290)\" style=\"stroke:#000000; stroke-linecap:butt; stroke-linejoin:round; stroke-width:4; stroke-opacity:1; fill:none\" points=\"\n",
       "  1254.68,286.448 1254.68,283.577 \n",
       "  \"/>\n",
       "<polyline clip-path=\"url(#clip290)\" style=\"stroke:#000000; stroke-linecap:butt; stroke-linejoin:round; stroke-width:4; stroke-opacity:1; fill:none\" points=\"\n",
       "  1550.66,286.448 1550.66,283.577 \n",
       "  \"/>\n",
       "<polyline clip-path=\"url(#clip290)\" style=\"stroke:#000000; stroke-linecap:butt; stroke-linejoin:round; stroke-width:4; stroke-opacity:1; fill:none\" points=\"\n",
       "  1846.63,286.448 1846.63,283.577 \n",
       "  \"/>\n",
       "<polyline clip-path=\"url(#clip290)\" style=\"stroke:#000000; stroke-linecap:butt; stroke-linejoin:round; stroke-width:4; stroke-opacity:1; fill:none\" points=\"\n",
       "  2142.61,286.448 2142.61,283.577 \n",
       "  \"/>\n",
       "<path clip-path=\"url(#clip290)\" d=\"M361.396 343.185 L377.715 343.185 L377.715 347.12 L355.771 347.12 L355.771 343.185 Q358.433 340.43 363.016 335.8 Q367.622 331.148 368.803 329.805 Q371.048 327.282 371.928 325.546 Q372.831 323.787 372.831 322.097 Q372.831 319.342 370.886 317.606 Q368.965 315.87 365.863 315.87 Q363.664 315.87 361.21 316.634 Q358.78 317.398 356.002 318.949 L356.002 314.227 Q358.826 313.092 361.28 312.514 Q363.733 311.935 365.77 311.935 Q371.141 311.935 374.335 314.62 Q377.53 317.305 377.53 321.796 Q377.53 323.926 376.72 325.847 Q375.932 327.745 373.826 330.338 Q373.247 331.009 370.145 334.226 Q367.044 337.421 361.396 343.185 Z\" fill=\"#000000\" fill-rule=\"evenodd\" fill-opacity=\"1\" /><path clip-path=\"url(#clip290)\" d=\"M665.73 316.634 L653.925 335.083 L665.73 335.083 L665.73 316.634 M664.503 312.56 L670.383 312.56 L670.383 335.083 L675.313 335.083 L675.313 338.972 L670.383 338.972 L670.383 347.12 L665.73 347.12 L665.73 338.972 L650.128 338.972 L650.128 334.458 L664.503 312.56 Z\" fill=\"#000000\" fill-rule=\"evenodd\" fill-opacity=\"1\" /><path clip-path=\"url(#clip290)\" d=\"M959.104 327.976 Q955.956 327.976 954.104 330.129 Q952.275 332.282 952.275 336.032 Q952.275 339.759 954.104 341.935 Q955.956 344.087 959.104 344.087 Q962.252 344.087 964.081 341.935 Q965.933 339.759 965.933 336.032 Q965.933 332.282 964.081 330.129 Q962.252 327.976 959.104 327.976 M968.386 313.324 L968.386 317.583 Q966.627 316.75 964.822 316.31 Q963.039 315.87 961.28 315.87 Q956.65 315.87 954.197 318.995 Q951.766 322.12 951.419 328.439 Q952.785 326.426 954.845 325.361 Q956.905 324.273 959.382 324.273 Q964.59 324.273 967.599 327.444 Q970.632 330.592 970.632 336.032 Q970.632 341.356 967.484 344.574 Q964.335 347.791 959.104 347.791 Q953.109 347.791 949.937 343.208 Q946.766 338.601 946.766 329.875 Q946.766 321.68 950.655 316.819 Q954.544 311.935 961.095 311.935 Q962.854 311.935 964.636 312.282 Q966.442 312.629 968.386 313.324 Z\" fill=\"#000000\" fill-rule=\"evenodd\" fill-opacity=\"1\" /><path clip-path=\"url(#clip290)\" d=\"M1254.68 330.708 Q1251.34 330.708 1249.42 332.49 Q1247.52 334.273 1247.52 337.398 Q1247.52 340.523 1249.42 342.305 Q1251.34 344.087 1254.68 344.087 Q1258.01 344.087 1259.93 342.305 Q1261.85 340.5 1261.85 337.398 Q1261.85 334.273 1259.93 332.49 Q1258.03 330.708 1254.68 330.708 M1250 328.717 Q1246.99 327.976 1245.3 325.916 Q1243.64 323.856 1243.64 320.893 Q1243.64 316.75 1246.58 314.342 Q1249.54 311.935 1254.68 311.935 Q1259.84 311.935 1262.78 314.342 Q1265.72 316.75 1265.72 320.893 Q1265.72 323.856 1264.03 325.916 Q1262.36 327.976 1259.38 328.717 Q1262.76 329.504 1264.63 331.796 Q1266.53 334.088 1266.53 337.398 Q1266.53 342.421 1263.45 345.106 Q1260.39 347.791 1254.68 347.791 Q1248.96 347.791 1245.88 345.106 Q1242.83 342.421 1242.83 337.398 Q1242.83 334.088 1244.72 331.796 Q1246.62 329.504 1250 328.717 M1248.29 321.333 Q1248.29 324.018 1249.95 325.523 Q1251.64 327.027 1254.68 327.027 Q1257.69 327.027 1259.38 325.523 Q1261.09 324.018 1261.09 321.333 Q1261.09 318.648 1259.38 317.143 Q1257.69 315.639 1254.68 315.639 Q1251.64 315.639 1249.95 317.143 Q1248.29 318.648 1248.29 321.333 Z\" fill=\"#000000\" fill-rule=\"evenodd\" fill-opacity=\"1\" /><path clip-path=\"url(#clip290)\" d=\"M1525.34 343.185 L1532.98 343.185 L1532.98 316.819 L1524.67 318.486 L1524.67 314.227 L1532.94 312.56 L1537.61 312.56 L1537.61 343.185 L1545.25 343.185 L1545.25 347.12 L1525.34 347.12 L1525.34 343.185 Z\" fill=\"#000000\" fill-rule=\"evenodd\" fill-opacity=\"1\" /><path clip-path=\"url(#clip290)\" d=\"M1564.69 315.639 Q1561.08 315.639 1559.25 319.203 Q1557.45 322.745 1557.45 329.875 Q1557.45 336.981 1559.25 340.546 Q1561.08 344.087 1564.69 344.087 Q1568.33 344.087 1570.13 340.546 Q1571.96 336.981 1571.96 329.875 Q1571.96 322.745 1570.13 319.203 Q1568.33 315.639 1564.69 315.639 M1564.69 311.935 Q1570.5 311.935 1573.56 316.541 Q1576.64 321.125 1576.64 329.875 Q1576.64 338.601 1573.56 343.208 Q1570.5 347.791 1564.69 347.791 Q1558.88 347.791 1555.81 343.208 Q1552.75 338.601 1552.75 329.875 Q1552.75 321.125 1555.81 316.541 Q1558.88 311.935 1564.69 311.935 Z\" fill=\"#000000\" fill-rule=\"evenodd\" fill-opacity=\"1\" /><path clip-path=\"url(#clip290)\" d=\"M1822.12 343.185 L1829.76 343.185 L1829.76 316.819 L1821.45 318.486 L1821.45 314.227 L1829.71 312.56 L1834.39 312.56 L1834.39 343.185 L1842.03 343.185 L1842.03 347.12 L1822.12 347.12 L1822.12 343.185 Z\" fill=\"#000000\" fill-rule=\"evenodd\" fill-opacity=\"1\" /><path clip-path=\"url(#clip290)\" d=\"M1855.5 343.185 L1871.82 343.185 L1871.82 347.12 L1849.87 347.12 L1849.87 343.185 Q1852.54 340.43 1857.12 335.8 Q1861.73 331.148 1862.91 329.805 Q1865.15 327.282 1866.03 325.546 Q1866.93 323.787 1866.93 322.097 Q1866.93 319.342 1864.99 317.606 Q1863.07 315.87 1859.97 315.87 Q1857.77 315.87 1855.31 316.634 Q1852.88 317.398 1850.11 318.949 L1850.11 314.227 Q1852.93 313.092 1855.38 312.514 Q1857.84 311.935 1859.87 311.935 Q1865.24 311.935 1868.44 314.62 Q1871.63 317.305 1871.63 321.796 Q1871.63 323.926 1870.82 325.847 Q1870.04 327.745 1867.93 330.338 Q1867.35 331.009 1864.25 334.226 Q1861.15 337.421 1855.5 343.185 Z\" fill=\"#000000\" fill-rule=\"evenodd\" fill-opacity=\"1\" /><path clip-path=\"url(#clip290)\" d=\"M2117.06 343.185 L2124.69 343.185 L2124.69 316.819 L2116.38 318.486 L2116.38 314.227 L2124.65 312.56 L2129.32 312.56 L2129.32 343.185 L2136.96 343.185 L2136.96 347.12 L2117.06 347.12 L2117.06 343.185 Z\" fill=\"#000000\" fill-rule=\"evenodd\" fill-opacity=\"1\" /><path clip-path=\"url(#clip290)\" d=\"M2159.25 316.634 L2147.45 335.083 L2159.25 335.083 L2159.25 316.634 M2158.03 312.56 L2163.91 312.56 L2163.91 335.083 L2168.84 335.083 L2168.84 338.972 L2163.91 338.972 L2163.91 347.12 L2159.25 347.12 L2159.25 338.972 L2143.65 338.972 L2143.65 334.458 L2158.03 312.56 Z\" fill=\"#000000\" fill-rule=\"evenodd\" fill-opacity=\"1\" /><polyline clip-path=\"url(#clip292)\" style=\"stroke:#000000; stroke-linecap:butt; stroke-linejoin:round; stroke-width:2; stroke-opacity:0.1; fill:none\" points=\"\n",
       "  156.598,257.921 2352.76,257.921 \n",
       "  \"/>\n",
       "<polyline clip-path=\"url(#clip292)\" style=\"stroke:#000000; stroke-linecap:butt; stroke-linejoin:round; stroke-width:2; stroke-opacity:0.1; fill:none\" points=\"\n",
       "  156.598,198.2 2352.76,198.2 \n",
       "  \"/>\n",
       "<polyline clip-path=\"url(#clip292)\" style=\"stroke:#000000; stroke-linecap:butt; stroke-linejoin:round; stroke-width:2; stroke-opacity:0.1; fill:none\" points=\"\n",
       "  156.598,138.48 2352.76,138.48 \n",
       "  \"/>\n",
       "<polyline clip-path=\"url(#clip292)\" style=\"stroke:#000000; stroke-linecap:butt; stroke-linejoin:round; stroke-width:2; stroke-opacity:0.1; fill:none\" points=\"\n",
       "  156.598,78.759 2352.76,78.759 \n",
       "  \"/>\n",
       "<polyline clip-path=\"url(#clip290)\" style=\"stroke:#000000; stroke-linecap:butt; stroke-linejoin:round; stroke-width:4; stroke-opacity:1; fill:none\" points=\"\n",
       "  156.598,286.448 156.598,47.2441 \n",
       "  \"/>\n",
       "<polyline clip-path=\"url(#clip290)\" style=\"stroke:#000000; stroke-linecap:butt; stroke-linejoin:round; stroke-width:4; stroke-opacity:1; fill:none\" points=\"\n",
       "  156.598,257.921 182.952,257.921 \n",
       "  \"/>\n",
       "<polyline clip-path=\"url(#clip290)\" style=\"stroke:#000000; stroke-linecap:butt; stroke-linejoin:round; stroke-width:4; stroke-opacity:1; fill:none\" points=\"\n",
       "  156.598,198.2 182.952,198.2 \n",
       "  \"/>\n",
       "<polyline clip-path=\"url(#clip290)\" style=\"stroke:#000000; stroke-linecap:butt; stroke-linejoin:round; stroke-width:4; stroke-opacity:1; fill:none\" points=\"\n",
       "  156.598,138.48 182.952,138.48 \n",
       "  \"/>\n",
       "<polyline clip-path=\"url(#clip290)\" style=\"stroke:#000000; stroke-linecap:butt; stroke-linejoin:round; stroke-width:4; stroke-opacity:1; fill:none\" points=\"\n",
       "  156.598,78.759 182.952,78.759 \n",
       "  \"/>\n",
       "<path clip-path=\"url(#clip290)\" d=\"M65.0198 243.72 Q61.4087 243.72 59.58 247.284 Q57.7745 250.826 57.7745 257.956 Q57.7745 265.062 59.58 268.627 Q61.4087 272.168 65.0198 272.168 Q68.6541 272.168 70.4596 268.627 Q72.2883 265.062 72.2883 257.956 Q72.2883 250.826 70.4596 247.284 Q68.6541 243.72 65.0198 243.72 M65.0198 240.016 Q70.83 240.016 73.8855 244.622 Q76.9642 249.206 76.9642 257.956 Q76.9642 266.682 73.8855 271.289 Q70.83 275.872 65.0198 275.872 Q59.2097 275.872 56.131 271.289 Q53.0754 266.682 53.0754 257.956 Q53.0754 249.206 56.131 244.622 Q59.2097 240.016 65.0198 240.016 Z\" fill=\"#000000\" fill-rule=\"evenodd\" fill-opacity=\"1\" /><path clip-path=\"url(#clip290)\" d=\"M85.1818 269.321 L90.066 269.321 L90.066 275.201 L85.1818 275.201 L85.1818 269.321 Z\" fill=\"#000000\" fill-rule=\"evenodd\" fill-opacity=\"1\" /><path clip-path=\"url(#clip290)\" d=\"M104.279 271.266 L120.598 271.266 L120.598 275.201 L98.6539 275.201 L98.6539 271.266 Q101.316 268.511 105.899 263.881 Q110.506 259.229 111.686 257.886 Q113.932 255.363 114.811 253.627 Q115.714 251.868 115.714 250.178 Q115.714 247.423 113.77 245.687 Q111.848 243.951 108.746 243.951 Q106.547 243.951 104.094 244.715 Q101.663 245.479 98.8854 247.03 L98.8854 242.307 Q101.709 241.173 104.163 240.595 Q106.617 240.016 108.654 240.016 Q114.024 240.016 117.219 242.701 Q120.413 245.386 120.413 249.877 Q120.413 252.006 119.603 253.928 Q118.816 255.826 116.709 258.418 Q116.131 259.09 113.029 262.307 Q109.927 265.502 104.279 271.266 Z\" fill=\"#000000\" fill-rule=\"evenodd\" fill-opacity=\"1\" /><path clip-path=\"url(#clip290)\" d=\"M62.9365 183.999 Q59.3254 183.999 57.4967 187.564 Q55.6912 191.105 55.6912 198.235 Q55.6912 205.341 57.4967 208.906 Q59.3254 212.448 62.9365 212.448 Q66.5707 212.448 68.3763 208.906 Q70.205 205.341 70.205 198.235 Q70.205 191.105 68.3763 187.564 Q66.5707 183.999 62.9365 183.999 M62.9365 180.295 Q68.7467 180.295 71.8022 184.902 Q74.8809 189.485 74.8809 198.235 Q74.8809 206.962 71.8022 211.568 Q68.7467 216.151 62.9365 216.151 Q57.1264 216.151 54.0477 211.568 Q50.9921 206.962 50.9921 198.235 Q50.9921 189.485 54.0477 184.902 Q57.1264 180.295 62.9365 180.295 Z\" fill=\"#000000\" fill-rule=\"evenodd\" fill-opacity=\"1\" /><path clip-path=\"url(#clip290)\" d=\"M83.0984 209.601 L87.9827 209.601 L87.9827 215.48 L83.0984 215.48 L83.0984 209.601 Z\" fill=\"#000000\" fill-rule=\"evenodd\" fill-opacity=\"1\" /><path clip-path=\"url(#clip290)\" d=\"M111.015 184.994 L99.2095 203.443 L111.015 203.443 L111.015 184.994 M109.788 180.92 L115.668 180.92 L115.668 203.443 L120.598 203.443 L120.598 207.332 L115.668 207.332 L115.668 215.48 L111.015 215.48 L111.015 207.332 L95.4132 207.332 L95.4132 202.818 L109.788 180.92 Z\" fill=\"#000000\" fill-rule=\"evenodd\" fill-opacity=\"1\" /><path clip-path=\"url(#clip290)\" d=\"M63.2606 124.278 Q59.6495 124.278 57.8208 127.843 Q56.0152 131.385 56.0152 138.514 Q56.0152 145.621 57.8208 149.186 Q59.6495 152.727 63.2606 152.727 Q66.8948 152.727 68.7004 149.186 Q70.5291 145.621 70.5291 138.514 Q70.5291 131.385 68.7004 127.843 Q66.8948 124.278 63.2606 124.278 M63.2606 120.575 Q69.0707 120.575 72.1263 125.181 Q75.205 129.764 75.205 138.514 Q75.205 147.241 72.1263 151.848 Q69.0707 156.431 63.2606 156.431 Q57.4504 156.431 54.3717 151.848 Q51.3162 147.241 51.3162 138.514 Q51.3162 129.764 54.3717 125.181 Q57.4504 120.575 63.2606 120.575 Z\" fill=\"#000000\" fill-rule=\"evenodd\" fill-opacity=\"1\" /><path clip-path=\"url(#clip290)\" d=\"M83.4225 149.88 L88.3067 149.88 L88.3067 155.76 L83.4225 155.76 L83.4225 149.88 Z\" fill=\"#000000\" fill-rule=\"evenodd\" fill-opacity=\"1\" /><path clip-path=\"url(#clip290)\" d=\"M109.071 136.616 Q105.922 136.616 104.071 138.769 Q102.242 140.922 102.242 144.672 Q102.242 148.399 104.071 150.574 Q105.922 152.727 109.071 152.727 Q112.219 152.727 114.047 150.574 Q115.899 148.399 115.899 144.672 Q115.899 140.922 114.047 138.769 Q112.219 136.616 109.071 136.616 M118.353 121.963 L118.353 126.223 Q116.594 125.389 114.788 124.95 Q113.006 124.51 111.246 124.51 Q106.617 124.51 104.163 127.635 Q101.733 130.76 101.385 137.079 Q102.751 135.065 104.811 134 Q106.871 132.912 109.348 132.912 Q114.557 132.912 117.566 136.084 Q120.598 139.232 120.598 144.672 Q120.598 149.996 117.45 153.213 Q114.302 156.431 109.071 156.431 Q103.075 156.431 99.9039 151.848 Q96.7326 147.241 96.7326 138.514 Q96.7326 130.32 100.621 125.459 Q104.51 120.575 111.061 120.575 Q112.82 120.575 114.603 120.922 Q116.408 121.269 118.353 121.963 Z\" fill=\"#000000\" fill-rule=\"evenodd\" fill-opacity=\"1\" /><path clip-path=\"url(#clip290)\" d=\"M63.5152 64.5577 Q59.9041 64.5577 58.0754 68.1224 Q56.2699 71.6641 56.2699 78.7937 Q56.2699 85.9001 58.0754 89.4649 Q59.9041 93.0066 63.5152 93.0066 Q67.1494 93.0066 68.955 89.4649 Q70.7837 85.9001 70.7837 78.7937 Q70.7837 71.6641 68.955 68.1224 Q67.1494 64.5577 63.5152 64.5577 M63.5152 60.854 Q69.3254 60.854 72.3809 65.4604 Q75.4596 70.0437 75.4596 78.7937 Q75.4596 87.5205 72.3809 92.1269 Q69.3254 96.7103 63.5152 96.7103 Q57.7051 96.7103 54.6264 92.1269 Q51.5708 87.5205 51.5708 78.7937 Q51.5708 70.0437 54.6264 65.4604 Q57.7051 60.854 63.5152 60.854 Z\" fill=\"#000000\" fill-rule=\"evenodd\" fill-opacity=\"1\" /><path clip-path=\"url(#clip290)\" d=\"M83.6771 90.1594 L88.5614 90.1594 L88.5614 96.039 L83.6771 96.039 L83.6771 90.1594 Z\" fill=\"#000000\" fill-rule=\"evenodd\" fill-opacity=\"1\" /><path clip-path=\"url(#clip290)\" d=\"M108.746 79.627 Q105.413 79.627 103.492 81.4094 Q101.594 83.1918 101.594 86.3168 Q101.594 89.4418 103.492 91.2242 Q105.413 93.0066 108.746 93.0066 Q112.08 93.0066 114.001 91.2242 Q115.922 89.4186 115.922 86.3168 Q115.922 83.1918 114.001 81.4094 Q112.103 79.627 108.746 79.627 M104.071 77.6363 Q101.061 76.8955 99.3715 74.8354 Q97.7048 72.7752 97.7048 69.8123 Q97.7048 65.6688 100.645 63.2614 Q103.608 60.854 108.746 60.854 Q113.908 60.854 116.848 63.2614 Q119.788 65.6688 119.788 69.8123 Q119.788 72.7752 118.098 74.8354 Q116.432 76.8955 113.445 77.6363 Q116.825 78.4233 118.7 80.715 Q120.598 83.0066 120.598 86.3168 Q120.598 91.3399 117.52 94.0251 Q114.464 96.7103 108.746 96.7103 Q103.029 96.7103 99.9502 94.0251 Q96.8947 91.3399 96.8947 86.3168 Q96.8947 83.0066 98.7928 80.715 Q100.691 78.4233 104.071 77.6363 M102.358 70.2521 Q102.358 72.9372 104.024 74.4419 Q105.714 75.9465 108.746 75.9465 Q111.756 75.9465 113.445 74.4419 Q115.158 72.9372 115.158 70.2521 Q115.158 67.5669 113.445 66.0623 Q111.756 64.5577 108.746 64.5577 Q105.714 64.5577 104.024 66.0623 Q102.358 67.5669 102.358 70.2521 Z\" fill=\"#000000\" fill-rule=\"evenodd\" fill-opacity=\"1\" /><polyline clip-path=\"url(#clip292)\" style=\"stroke:#009af9; stroke-linecap:butt; stroke-linejoin:round; stroke-width:4; stroke-opacity:1; fill:none\" points=\"\n",
       "  218.754,195.84 366.743,103.635 514.732,146.288 662.721,278.399 810.71,249.072 958.699,279.678 1106.69,88.4906 1254.68,54.014 1402.67,263.397 1550.66,79.5514 \n",
       "  1698.64,251.072 1846.63,243.868 1994.62,102.985 2142.61,273.536 2290.6,210.226 \n",
       "  \"/>\n",
       "<path clip-path=\"url(#clip290)\" d=\"\n",
       "M1983.1 176.178 L2279.55 176.178 L2279.55 55.2176 L1983.1 55.2176  Z\n",
       "  \" fill=\"#ffffff\" fill-rule=\"evenodd\" fill-opacity=\"1\"/>\n",
       "<polyline clip-path=\"url(#clip290)\" style=\"stroke:#000000; stroke-linecap:butt; stroke-linejoin:round; stroke-width:4; stroke-opacity:1; fill:none\" points=\"\n",
       "  1983.1,176.178 2279.55,176.178 2279.55,55.2176 1983.1,55.2176 1983.1,176.178 \n",
       "  \"/>\n",
       "<polyline clip-path=\"url(#clip290)\" style=\"stroke:#009af9; stroke-linecap:butt; stroke-linejoin:round; stroke-width:4; stroke-opacity:1; fill:none\" points=\"\n",
       "  2007.5,115.698 2153.92,115.698 \n",
       "  \"/>\n",
       "<path clip-path=\"url(#clip290)\" d=\"M2192.16 135.385 Q2190.35 140.015 2188.64 141.427 Q2186.93 142.839 2184.06 142.839 L2180.65 142.839 L2180.65 139.274 L2183.15 139.274 Q2184.91 139.274 2185.89 138.44 Q2186.86 137.607 2188.04 134.505 L2188.8 132.561 L2178.32 107.052 L2182.83 107.052 L2190.93 127.329 L2199.03 107.052 L2203.55 107.052 L2192.16 135.385 Z\" fill=\"#000000\" fill-rule=\"evenodd\" fill-opacity=\"1\" /><path clip-path=\"url(#clip290)\" d=\"M2210.84 129.042 L2218.48 129.042 L2218.48 102.677 L2210.17 104.343 L2210.17 100.084 L2218.43 98.4176 L2223.11 98.4176 L2223.11 129.042 L2230.75 129.042 L2230.75 132.978 L2210.84 132.978 L2210.84 129.042 Z\" fill=\"#000000\" fill-rule=\"evenodd\" fill-opacity=\"1\" /><path clip-path=\"url(#clip290)\" d=\"\n",
       "M156.598 686.448 L2352.76 686.448 L2352.76 447.244 L156.598 447.244  Z\n",
       "  \" fill=\"#ffffff\" fill-rule=\"evenodd\" fill-opacity=\"1\"/>\n",
       "<defs>\n",
       "  <clipPath id=\"clip293\">\n",
       "    <rect x=\"156\" y=\"447\" width=\"2197\" height=\"240\"/>\n",
       "  </clipPath>\n",
       "</defs>\n",
       "<polyline clip-path=\"url(#clip293)\" style=\"stroke:#000000; stroke-linecap:butt; stroke-linejoin:round; stroke-width:2; stroke-opacity:0.1; fill:none\" points=\"\n",
       "  366.743,686.448 366.743,447.244 \n",
       "  \"/>\n",
       "<polyline clip-path=\"url(#clip293)\" style=\"stroke:#000000; stroke-linecap:butt; stroke-linejoin:round; stroke-width:2; stroke-opacity:0.1; fill:none\" points=\"\n",
       "  662.721,686.448 662.721,447.244 \n",
       "  \"/>\n",
       "<polyline clip-path=\"url(#clip293)\" style=\"stroke:#000000; stroke-linecap:butt; stroke-linejoin:round; stroke-width:2; stroke-opacity:0.1; fill:none\" points=\"\n",
       "  958.699,686.448 958.699,447.244 \n",
       "  \"/>\n",
       "<polyline clip-path=\"url(#clip293)\" style=\"stroke:#000000; stroke-linecap:butt; stroke-linejoin:round; stroke-width:2; stroke-opacity:0.1; fill:none\" points=\"\n",
       "  1254.68,686.448 1254.68,447.244 \n",
       "  \"/>\n",
       "<polyline clip-path=\"url(#clip293)\" style=\"stroke:#000000; stroke-linecap:butt; stroke-linejoin:round; stroke-width:2; stroke-opacity:0.1; fill:none\" points=\"\n",
       "  1550.66,686.448 1550.66,447.244 \n",
       "  \"/>\n",
       "<polyline clip-path=\"url(#clip293)\" style=\"stroke:#000000; stroke-linecap:butt; stroke-linejoin:round; stroke-width:2; stroke-opacity:0.1; fill:none\" points=\"\n",
       "  1846.63,686.448 1846.63,447.244 \n",
       "  \"/>\n",
       "<polyline clip-path=\"url(#clip293)\" style=\"stroke:#000000; stroke-linecap:butt; stroke-linejoin:round; stroke-width:2; stroke-opacity:0.1; fill:none\" points=\"\n",
       "  2142.61,686.448 2142.61,447.244 \n",
       "  \"/>\n",
       "<polyline clip-path=\"url(#clip290)\" style=\"stroke:#000000; stroke-linecap:butt; stroke-linejoin:round; stroke-width:4; stroke-opacity:1; fill:none\" points=\"\n",
       "  156.598,686.448 2352.76,686.448 \n",
       "  \"/>\n",
       "<polyline clip-path=\"url(#clip290)\" style=\"stroke:#000000; stroke-linecap:butt; stroke-linejoin:round; stroke-width:4; stroke-opacity:1; fill:none\" points=\"\n",
       "  366.743,686.448 366.743,683.577 \n",
       "  \"/>\n",
       "<polyline clip-path=\"url(#clip290)\" style=\"stroke:#000000; stroke-linecap:butt; stroke-linejoin:round; stroke-width:4; stroke-opacity:1; fill:none\" points=\"\n",
       "  662.721,686.448 662.721,683.577 \n",
       "  \"/>\n",
       "<polyline clip-path=\"url(#clip290)\" style=\"stroke:#000000; stroke-linecap:butt; stroke-linejoin:round; stroke-width:4; stroke-opacity:1; fill:none\" points=\"\n",
       "  958.699,686.448 958.699,683.577 \n",
       "  \"/>\n",
       "<polyline clip-path=\"url(#clip290)\" style=\"stroke:#000000; stroke-linecap:butt; stroke-linejoin:round; stroke-width:4; stroke-opacity:1; fill:none\" points=\"\n",
       "  1254.68,686.448 1254.68,683.577 \n",
       "  \"/>\n",
       "<polyline clip-path=\"url(#clip290)\" style=\"stroke:#000000; stroke-linecap:butt; stroke-linejoin:round; stroke-width:4; stroke-opacity:1; fill:none\" points=\"\n",
       "  1550.66,686.448 1550.66,683.577 \n",
       "  \"/>\n",
       "<polyline clip-path=\"url(#clip290)\" style=\"stroke:#000000; stroke-linecap:butt; stroke-linejoin:round; stroke-width:4; stroke-opacity:1; fill:none\" points=\"\n",
       "  1846.63,686.448 1846.63,683.577 \n",
       "  \"/>\n",
       "<polyline clip-path=\"url(#clip290)\" style=\"stroke:#000000; stroke-linecap:butt; stroke-linejoin:round; stroke-width:4; stroke-opacity:1; fill:none\" points=\"\n",
       "  2142.61,686.448 2142.61,683.577 \n",
       "  \"/>\n",
       "<path clip-path=\"url(#clip290)\" d=\"M361.396 743.185 L377.715 743.185 L377.715 747.12 L355.771 747.12 L355.771 743.185 Q358.433 740.43 363.016 735.8 Q367.622 731.148 368.803 729.805 Q371.048 727.282 371.928 725.546 Q372.831 723.787 372.831 722.097 Q372.831 719.342 370.886 717.606 Q368.965 715.87 365.863 715.87 Q363.664 715.87 361.21 716.634 Q358.78 717.398 356.002 718.949 L356.002 714.227 Q358.826 713.092 361.28 712.514 Q363.733 711.935 365.77 711.935 Q371.141 711.935 374.335 714.62 Q377.53 717.305 377.53 721.796 Q377.53 723.926 376.72 725.847 Q375.932 727.745 373.826 730.338 Q373.247 731.009 370.145 734.226 Q367.044 737.421 361.396 743.185 Z\" fill=\"#000000\" fill-rule=\"evenodd\" fill-opacity=\"1\" /><path clip-path=\"url(#clip290)\" d=\"M665.73 716.634 L653.925 735.083 L665.73 735.083 L665.73 716.634 M664.503 712.56 L670.383 712.56 L670.383 735.083 L675.313 735.083 L675.313 738.972 L670.383 738.972 L670.383 747.12 L665.73 747.12 L665.73 738.972 L650.128 738.972 L650.128 734.458 L664.503 712.56 Z\" fill=\"#000000\" fill-rule=\"evenodd\" fill-opacity=\"1\" /><path clip-path=\"url(#clip290)\" d=\"M959.104 727.976 Q955.956 727.976 954.104 730.129 Q952.275 732.282 952.275 736.032 Q952.275 739.759 954.104 741.935 Q955.956 744.087 959.104 744.087 Q962.252 744.087 964.081 741.935 Q965.933 739.759 965.933 736.032 Q965.933 732.282 964.081 730.129 Q962.252 727.976 959.104 727.976 M968.386 713.324 L968.386 717.583 Q966.627 716.75 964.822 716.31 Q963.039 715.87 961.28 715.87 Q956.65 715.87 954.197 718.995 Q951.766 722.12 951.419 728.439 Q952.785 726.426 954.845 725.361 Q956.905 724.273 959.382 724.273 Q964.59 724.273 967.599 727.444 Q970.632 730.592 970.632 736.032 Q970.632 741.356 967.484 744.574 Q964.335 747.791 959.104 747.791 Q953.109 747.791 949.937 743.208 Q946.766 738.601 946.766 729.875 Q946.766 721.68 950.655 716.819 Q954.544 711.935 961.095 711.935 Q962.854 711.935 964.636 712.282 Q966.442 712.629 968.386 713.324 Z\" fill=\"#000000\" fill-rule=\"evenodd\" fill-opacity=\"1\" /><path clip-path=\"url(#clip290)\" d=\"M1254.68 730.708 Q1251.34 730.708 1249.42 732.49 Q1247.52 734.273 1247.52 737.398 Q1247.52 740.523 1249.42 742.305 Q1251.34 744.087 1254.68 744.087 Q1258.01 744.087 1259.93 742.305 Q1261.85 740.5 1261.85 737.398 Q1261.85 734.273 1259.93 732.49 Q1258.03 730.708 1254.68 730.708 M1250 728.717 Q1246.99 727.976 1245.3 725.916 Q1243.64 723.856 1243.64 720.893 Q1243.64 716.75 1246.58 714.342 Q1249.54 711.935 1254.68 711.935 Q1259.84 711.935 1262.78 714.342 Q1265.72 716.75 1265.72 720.893 Q1265.72 723.856 1264.03 725.916 Q1262.36 727.976 1259.38 728.717 Q1262.76 729.504 1264.63 731.796 Q1266.53 734.088 1266.53 737.398 Q1266.53 742.421 1263.45 745.106 Q1260.39 747.791 1254.68 747.791 Q1248.96 747.791 1245.88 745.106 Q1242.83 742.421 1242.83 737.398 Q1242.83 734.088 1244.72 731.796 Q1246.62 729.504 1250 728.717 M1248.29 721.333 Q1248.29 724.018 1249.95 725.523 Q1251.64 727.027 1254.68 727.027 Q1257.69 727.027 1259.38 725.523 Q1261.09 724.018 1261.09 721.333 Q1261.09 718.648 1259.38 717.143 Q1257.69 715.639 1254.68 715.639 Q1251.64 715.639 1249.95 717.143 Q1248.29 718.648 1248.29 721.333 Z\" fill=\"#000000\" fill-rule=\"evenodd\" fill-opacity=\"1\" /><path clip-path=\"url(#clip290)\" d=\"M1525.34 743.185 L1532.98 743.185 L1532.98 716.819 L1524.67 718.486 L1524.67 714.227 L1532.94 712.56 L1537.61 712.56 L1537.61 743.185 L1545.25 743.185 L1545.25 747.12 L1525.34 747.12 L1525.34 743.185 Z\" fill=\"#000000\" fill-rule=\"evenodd\" fill-opacity=\"1\" /><path clip-path=\"url(#clip290)\" d=\"M1564.69 715.639 Q1561.08 715.639 1559.25 719.203 Q1557.45 722.745 1557.45 729.875 Q1557.45 736.981 1559.25 740.546 Q1561.08 744.087 1564.69 744.087 Q1568.33 744.087 1570.13 740.546 Q1571.96 736.981 1571.96 729.875 Q1571.96 722.745 1570.13 719.203 Q1568.33 715.639 1564.69 715.639 M1564.69 711.935 Q1570.5 711.935 1573.56 716.541 Q1576.64 721.125 1576.64 729.875 Q1576.64 738.601 1573.56 743.208 Q1570.5 747.791 1564.69 747.791 Q1558.88 747.791 1555.81 743.208 Q1552.75 738.601 1552.75 729.875 Q1552.75 721.125 1555.81 716.541 Q1558.88 711.935 1564.69 711.935 Z\" fill=\"#000000\" fill-rule=\"evenodd\" fill-opacity=\"1\" /><path clip-path=\"url(#clip290)\" d=\"M1822.12 743.185 L1829.76 743.185 L1829.76 716.819 L1821.45 718.486 L1821.45 714.227 L1829.71 712.56 L1834.39 712.56 L1834.39 743.185 L1842.03 743.185 L1842.03 747.12 L1822.12 747.12 L1822.12 743.185 Z\" fill=\"#000000\" fill-rule=\"evenodd\" fill-opacity=\"1\" /><path clip-path=\"url(#clip290)\" d=\"M1855.5 743.185 L1871.82 743.185 L1871.82 747.12 L1849.87 747.12 L1849.87 743.185 Q1852.54 740.43 1857.12 735.8 Q1861.73 731.148 1862.91 729.805 Q1865.15 727.282 1866.03 725.546 Q1866.93 723.787 1866.93 722.097 Q1866.93 719.342 1864.99 717.606 Q1863.07 715.87 1859.97 715.87 Q1857.77 715.87 1855.31 716.634 Q1852.88 717.398 1850.11 718.949 L1850.11 714.227 Q1852.93 713.092 1855.38 712.514 Q1857.84 711.935 1859.87 711.935 Q1865.24 711.935 1868.44 714.62 Q1871.63 717.305 1871.63 721.796 Q1871.63 723.926 1870.82 725.847 Q1870.04 727.745 1867.93 730.338 Q1867.35 731.009 1864.25 734.226 Q1861.15 737.421 1855.5 743.185 Z\" fill=\"#000000\" fill-rule=\"evenodd\" fill-opacity=\"1\" /><path clip-path=\"url(#clip290)\" d=\"M2117.06 743.185 L2124.69 743.185 L2124.69 716.819 L2116.38 718.486 L2116.38 714.227 L2124.65 712.56 L2129.32 712.56 L2129.32 743.185 L2136.96 743.185 L2136.96 747.12 L2117.06 747.12 L2117.06 743.185 Z\" fill=\"#000000\" fill-rule=\"evenodd\" fill-opacity=\"1\" /><path clip-path=\"url(#clip290)\" d=\"M2159.25 716.634 L2147.45 735.083 L2159.25 735.083 L2159.25 716.634 M2158.03 712.56 L2163.91 712.56 L2163.91 735.083 L2168.84 735.083 L2168.84 738.972 L2163.91 738.972 L2163.91 747.12 L2159.25 747.12 L2159.25 738.972 L2143.65 738.972 L2143.65 734.458 L2158.03 712.56 Z\" fill=\"#000000\" fill-rule=\"evenodd\" fill-opacity=\"1\" /><polyline clip-path=\"url(#clip293)\" style=\"stroke:#000000; stroke-linecap:butt; stroke-linejoin:round; stroke-width:2; stroke-opacity:0.1; fill:none\" points=\"\n",
       "  156.598,631.578 2352.76,631.578 \n",
       "  \"/>\n",
       "<polyline clip-path=\"url(#clip293)\" style=\"stroke:#000000; stroke-linecap:butt; stroke-linejoin:round; stroke-width:2; stroke-opacity:0.1; fill:none\" points=\"\n",
       "  156.598,574.788 2352.76,574.788 \n",
       "  \"/>\n",
       "<polyline clip-path=\"url(#clip293)\" style=\"stroke:#000000; stroke-linecap:butt; stroke-linejoin:round; stroke-width:2; stroke-opacity:0.1; fill:none\" points=\"\n",
       "  156.598,517.999 2352.76,517.999 \n",
       "  \"/>\n",
       "<polyline clip-path=\"url(#clip293)\" style=\"stroke:#000000; stroke-linecap:butt; stroke-linejoin:round; stroke-width:2; stroke-opacity:0.1; fill:none\" points=\"\n",
       "  156.598,461.209 2352.76,461.209 \n",
       "  \"/>\n",
       "<polyline clip-path=\"url(#clip290)\" style=\"stroke:#000000; stroke-linecap:butt; stroke-linejoin:round; stroke-width:4; stroke-opacity:1; fill:none\" points=\"\n",
       "  156.598,686.448 156.598,447.244 \n",
       "  \"/>\n",
       "<polyline clip-path=\"url(#clip290)\" style=\"stroke:#000000; stroke-linecap:butt; stroke-linejoin:round; stroke-width:4; stroke-opacity:1; fill:none\" points=\"\n",
       "  156.598,631.578 182.952,631.578 \n",
       "  \"/>\n",
       "<polyline clip-path=\"url(#clip290)\" style=\"stroke:#000000; stroke-linecap:butt; stroke-linejoin:round; stroke-width:4; stroke-opacity:1; fill:none\" points=\"\n",
       "  156.598,574.788 182.952,574.788 \n",
       "  \"/>\n",
       "<polyline clip-path=\"url(#clip290)\" style=\"stroke:#000000; stroke-linecap:butt; stroke-linejoin:round; stroke-width:4; stroke-opacity:1; fill:none\" points=\"\n",
       "  156.598,517.999 182.952,517.999 \n",
       "  \"/>\n",
       "<polyline clip-path=\"url(#clip290)\" style=\"stroke:#000000; stroke-linecap:butt; stroke-linejoin:round; stroke-width:4; stroke-opacity:1; fill:none\" points=\"\n",
       "  156.598,461.209 182.952,461.209 \n",
       "  \"/>\n",
       "<path clip-path=\"url(#clip290)\" d=\"M65.0198 617.377 Q61.4087 617.377 59.58 620.941 Q57.7745 624.483 57.7745 631.613 Q57.7745 638.719 59.58 642.284 Q61.4087 645.825 65.0198 645.825 Q68.6541 645.825 70.4596 642.284 Q72.2883 638.719 72.2883 631.613 Q72.2883 624.483 70.4596 620.941 Q68.6541 617.377 65.0198 617.377 M65.0198 613.673 Q70.83 613.673 73.8855 618.279 Q76.9642 622.863 76.9642 631.613 Q76.9642 640.339 73.8855 644.946 Q70.83 649.529 65.0198 649.529 Q59.2097 649.529 56.131 644.946 Q53.0754 640.339 53.0754 631.613 Q53.0754 622.863 56.131 618.279 Q59.2097 613.673 65.0198 613.673 Z\" fill=\"#000000\" fill-rule=\"evenodd\" fill-opacity=\"1\" /><path clip-path=\"url(#clip290)\" d=\"M85.1818 642.978 L90.066 642.978 L90.066 648.858 L85.1818 648.858 L85.1818 642.978 Z\" fill=\"#000000\" fill-rule=\"evenodd\" fill-opacity=\"1\" /><path clip-path=\"url(#clip290)\" d=\"M104.279 644.923 L120.598 644.923 L120.598 648.858 L98.6539 648.858 L98.6539 644.923 Q101.316 642.168 105.899 637.538 Q110.506 632.886 111.686 631.543 Q113.932 629.02 114.811 627.284 Q115.714 625.525 115.714 623.835 Q115.714 621.08 113.77 619.344 Q111.848 617.608 108.746 617.608 Q106.547 617.608 104.094 618.372 Q101.663 619.136 98.8854 620.687 L98.8854 615.964 Q101.709 614.83 104.163 614.252 Q106.617 613.673 108.654 613.673 Q114.024 613.673 117.219 616.358 Q120.413 619.043 120.413 623.534 Q120.413 625.664 119.603 627.585 Q118.816 629.483 116.709 632.076 Q116.131 632.747 113.029 635.964 Q109.927 639.159 104.279 644.923 Z\" fill=\"#000000\" fill-rule=\"evenodd\" fill-opacity=\"1\" /><path clip-path=\"url(#clip290)\" d=\"M62.9365 560.587 Q59.3254 560.587 57.4967 564.152 Q55.6912 567.693 55.6912 574.823 Q55.6912 581.93 57.4967 585.494 Q59.3254 589.036 62.9365 589.036 Q66.5707 589.036 68.3763 585.494 Q70.205 581.93 70.205 574.823 Q70.205 567.693 68.3763 564.152 Q66.5707 560.587 62.9365 560.587 M62.9365 556.883 Q68.7467 556.883 71.8022 561.49 Q74.8809 566.073 74.8809 574.823 Q74.8809 583.55 71.8022 588.156 Q68.7467 592.74 62.9365 592.74 Q57.1264 592.74 54.0477 588.156 Q50.9921 583.55 50.9921 574.823 Q50.9921 566.073 54.0477 561.49 Q57.1264 556.883 62.9365 556.883 Z\" fill=\"#000000\" fill-rule=\"evenodd\" fill-opacity=\"1\" /><path clip-path=\"url(#clip290)\" d=\"M83.0984 586.189 L87.9827 586.189 L87.9827 592.068 L83.0984 592.068 L83.0984 586.189 Z\" fill=\"#000000\" fill-rule=\"evenodd\" fill-opacity=\"1\" /><path clip-path=\"url(#clip290)\" d=\"M111.015 561.582 L99.2095 580.031 L111.015 580.031 L111.015 561.582 M109.788 557.508 L115.668 557.508 L115.668 580.031 L120.598 580.031 L120.598 583.92 L115.668 583.92 L115.668 592.068 L111.015 592.068 L111.015 583.92 L95.4132 583.92 L95.4132 579.406 L109.788 557.508 Z\" fill=\"#000000\" fill-rule=\"evenodd\" fill-opacity=\"1\" /><path clip-path=\"url(#clip290)\" d=\"M63.2606 503.798 Q59.6495 503.798 57.8208 507.362 Q56.0152 510.904 56.0152 518.034 Q56.0152 525.14 57.8208 528.705 Q59.6495 532.246 63.2606 532.246 Q66.8948 532.246 68.7004 528.705 Q70.5291 525.14 70.5291 518.034 Q70.5291 510.904 68.7004 507.362 Q66.8948 503.798 63.2606 503.798 M63.2606 500.094 Q69.0707 500.094 72.1263 504.7 Q75.205 509.284 75.205 518.034 Q75.205 526.76 72.1263 531.367 Q69.0707 535.95 63.2606 535.95 Q57.4504 535.95 54.3717 531.367 Q51.3162 526.76 51.3162 518.034 Q51.3162 509.284 54.3717 504.7 Q57.4504 500.094 63.2606 500.094 Z\" fill=\"#000000\" fill-rule=\"evenodd\" fill-opacity=\"1\" /><path clip-path=\"url(#clip290)\" d=\"M83.4225 529.399 L88.3067 529.399 L88.3067 535.279 L83.4225 535.279 L83.4225 529.399 Z\" fill=\"#000000\" fill-rule=\"evenodd\" fill-opacity=\"1\" /><path clip-path=\"url(#clip290)\" d=\"M109.071 516.135 Q105.922 516.135 104.071 518.288 Q102.242 520.441 102.242 524.191 Q102.242 527.918 104.071 530.094 Q105.922 532.246 109.071 532.246 Q112.219 532.246 114.047 530.094 Q115.899 527.918 115.899 524.191 Q115.899 520.441 114.047 518.288 Q112.219 516.135 109.071 516.135 M118.353 501.483 L118.353 505.742 Q116.594 504.909 114.788 504.469 Q113.006 504.029 111.246 504.029 Q106.617 504.029 104.163 507.154 Q101.733 510.279 101.385 516.598 Q102.751 514.585 104.811 513.52 Q106.871 512.432 109.348 512.432 Q114.557 512.432 117.566 515.603 Q120.598 518.751 120.598 524.191 Q120.598 529.515 117.45 532.733 Q114.302 535.95 109.071 535.95 Q103.075 535.95 99.9039 531.367 Q96.7326 526.76 96.7326 518.034 Q96.7326 509.839 100.621 504.978 Q104.51 500.094 111.061 500.094 Q112.82 500.094 114.603 500.441 Q116.408 500.788 118.353 501.483 Z\" fill=\"#000000\" fill-rule=\"evenodd\" fill-opacity=\"1\" /><path clip-path=\"url(#clip290)\" d=\"M63.5152 447.008 Q59.9041 447.008 58.0754 450.573 Q56.2699 454.114 56.2699 461.244 Q56.2699 468.35 58.0754 471.915 Q59.9041 475.457 63.5152 475.457 Q67.1494 475.457 68.955 471.915 Q70.7837 468.35 70.7837 461.244 Q70.7837 454.114 68.955 450.573 Q67.1494 447.008 63.5152 447.008 M63.5152 443.304 Q69.3254 443.304 72.3809 447.911 Q75.4596 452.494 75.4596 461.244 Q75.4596 469.971 72.3809 474.577 Q69.3254 479.161 63.5152 479.161 Q57.7051 479.161 54.6264 474.577 Q51.5708 469.971 51.5708 461.244 Q51.5708 452.494 54.6264 447.911 Q57.7051 443.304 63.5152 443.304 Z\" fill=\"#000000\" fill-rule=\"evenodd\" fill-opacity=\"1\" /><path clip-path=\"url(#clip290)\" d=\"M83.6771 472.61 L88.5614 472.61 L88.5614 478.489 L83.6771 478.489 L83.6771 472.61 Z\" fill=\"#000000\" fill-rule=\"evenodd\" fill-opacity=\"1\" /><path clip-path=\"url(#clip290)\" d=\"M108.746 462.077 Q105.413 462.077 103.492 463.86 Q101.594 465.642 101.594 468.767 Q101.594 471.892 103.492 473.675 Q105.413 475.457 108.746 475.457 Q112.08 475.457 114.001 473.675 Q115.922 471.869 115.922 468.767 Q115.922 465.642 114.001 463.86 Q112.103 462.077 108.746 462.077 M104.071 460.087 Q101.061 459.346 99.3715 457.286 Q97.7048 455.226 97.7048 452.263 Q97.7048 448.119 100.645 445.712 Q103.608 443.304 108.746 443.304 Q113.908 443.304 116.848 445.712 Q119.788 448.119 119.788 452.263 Q119.788 455.226 118.098 457.286 Q116.432 459.346 113.445 460.087 Q116.825 460.874 118.7 463.165 Q120.598 465.457 120.598 468.767 Q120.598 473.79 117.52 476.475 Q114.464 479.161 108.746 479.161 Q103.029 479.161 99.9502 476.475 Q96.8947 473.79 96.8947 468.767 Q96.8947 465.457 98.7928 463.165 Q100.691 460.874 104.071 460.087 M102.358 452.702 Q102.358 455.388 104.024 456.892 Q105.714 458.397 108.746 458.397 Q111.756 458.397 113.445 456.892 Q115.158 455.388 115.158 452.702 Q115.158 450.017 113.445 448.513 Q111.756 447.008 108.746 447.008 Q105.714 447.008 104.024 448.513 Q102.358 450.017 102.358 452.702 Z\" fill=\"#000000\" fill-rule=\"evenodd\" fill-opacity=\"1\" /><polyline clip-path=\"url(#clip293)\" style=\"stroke:#009af9; stroke-linecap:butt; stroke-linejoin:round; stroke-width:4; stroke-opacity:1; fill:none\" points=\"\n",
       "  218.754,626.095 366.743,662.315 514.732,560.182 662.721,454.014 810.71,613.012 958.699,558.205 1106.69,459.315 1254.68,506.983 1402.67,462.912 1550.66,519.33 \n",
       "  1698.64,643.833 1846.63,509.511 1994.62,657.08 2142.61,679.678 2290.6,463.248 \n",
       "  \"/>\n",
       "<path clip-path=\"url(#clip290)\" d=\"\n",
       "M1983.47 576.178 L2279.55 576.178 L2279.55 455.218 L1983.47 455.218  Z\n",
       "  \" fill=\"#ffffff\" fill-rule=\"evenodd\" fill-opacity=\"1\"/>\n",
       "<polyline clip-path=\"url(#clip290)\" style=\"stroke:#000000; stroke-linecap:butt; stroke-linejoin:round; stroke-width:4; stroke-opacity:1; fill:none\" points=\"\n",
       "  1983.47,576.178 2279.55,576.178 2279.55,455.218 1983.47,455.218 1983.47,576.178 \n",
       "  \"/>\n",
       "<polyline clip-path=\"url(#clip290)\" style=\"stroke:#009af9; stroke-linecap:butt; stroke-linejoin:round; stroke-width:4; stroke-opacity:1; fill:none\" points=\"\n",
       "  2007.87,515.698 2154.29,515.698 \n",
       "  \"/>\n",
       "<path clip-path=\"url(#clip290)\" d=\"M2192.53 535.385 Q2190.72 540.015 2189.01 541.427 Q2187.3 542.839 2184.43 542.839 L2181.03 542.839 L2181.03 539.274 L2183.53 539.274 Q2185.28 539.274 2186.26 538.44 Q2187.23 537.607 2188.41 534.505 L2189.17 532.561 L2178.69 507.052 L2183.2 507.052 L2191.3 527.329 L2199.4 507.052 L2203.92 507.052 L2192.53 535.385 Z\" fill=\"#000000\" fill-rule=\"evenodd\" fill-opacity=\"1\" /><path clip-path=\"url(#clip290)\" d=\"M2214.43 529.042 L2230.75 529.042 L2230.75 532.978 L2208.8 532.978 L2208.8 529.042 Q2211.46 526.288 2216.05 521.658 Q2220.65 517.005 2221.84 515.663 Q2224.08 513.14 2224.96 511.404 Q2225.86 509.644 2225.86 507.955 Q2225.86 505.2 2223.92 503.464 Q2222 501.728 2218.9 501.728 Q2216.7 501.728 2214.24 502.492 Q2211.81 503.255 2209.03 504.806 L2209.03 500.084 Q2211.86 498.95 2214.31 498.371 Q2216.77 497.793 2218.8 497.793 Q2224.17 497.793 2227.37 500.478 Q2230.56 503.163 2230.56 507.654 Q2230.56 509.783 2229.75 511.705 Q2228.96 513.603 2226.86 516.195 Q2226.28 516.867 2223.18 520.084 Q2220.08 523.279 2214.43 529.042 Z\" fill=\"#000000\" fill-rule=\"evenodd\" fill-opacity=\"1\" /><path clip-path=\"url(#clip290)\" d=\"\n",
       "M156.598 1086.45 L2352.76 1086.45 L2352.76 847.244 L156.598 847.244  Z\n",
       "  \" fill=\"#ffffff\" fill-rule=\"evenodd\" fill-opacity=\"1\"/>\n",
       "<defs>\n",
       "  <clipPath id=\"clip294\">\n",
       "    <rect x=\"156\" y=\"847\" width=\"2197\" height=\"240\"/>\n",
       "  </clipPath>\n",
       "</defs>\n",
       "<polyline clip-path=\"url(#clip294)\" style=\"stroke:#000000; stroke-linecap:butt; stroke-linejoin:round; stroke-width:2; stroke-opacity:0.1; fill:none\" points=\"\n",
       "  366.743,1086.45 366.743,847.244 \n",
       "  \"/>\n",
       "<polyline clip-path=\"url(#clip294)\" style=\"stroke:#000000; stroke-linecap:butt; stroke-linejoin:round; stroke-width:2; stroke-opacity:0.1; fill:none\" points=\"\n",
       "  662.721,1086.45 662.721,847.244 \n",
       "  \"/>\n",
       "<polyline clip-path=\"url(#clip294)\" style=\"stroke:#000000; stroke-linecap:butt; stroke-linejoin:round; stroke-width:2; stroke-opacity:0.1; fill:none\" points=\"\n",
       "  958.699,1086.45 958.699,847.244 \n",
       "  \"/>\n",
       "<polyline clip-path=\"url(#clip294)\" style=\"stroke:#000000; stroke-linecap:butt; stroke-linejoin:round; stroke-width:2; stroke-opacity:0.1; fill:none\" points=\"\n",
       "  1254.68,1086.45 1254.68,847.244 \n",
       "  \"/>\n",
       "<polyline clip-path=\"url(#clip294)\" style=\"stroke:#000000; stroke-linecap:butt; stroke-linejoin:round; stroke-width:2; stroke-opacity:0.1; fill:none\" points=\"\n",
       "  1550.66,1086.45 1550.66,847.244 \n",
       "  \"/>\n",
       "<polyline clip-path=\"url(#clip294)\" style=\"stroke:#000000; stroke-linecap:butt; stroke-linejoin:round; stroke-width:2; stroke-opacity:0.1; fill:none\" points=\"\n",
       "  1846.63,1086.45 1846.63,847.244 \n",
       "  \"/>\n",
       "<polyline clip-path=\"url(#clip294)\" style=\"stroke:#000000; stroke-linecap:butt; stroke-linejoin:round; stroke-width:2; stroke-opacity:0.1; fill:none\" points=\"\n",
       "  2142.61,1086.45 2142.61,847.244 \n",
       "  \"/>\n",
       "<polyline clip-path=\"url(#clip290)\" style=\"stroke:#000000; stroke-linecap:butt; stroke-linejoin:round; stroke-width:4; stroke-opacity:1; fill:none\" points=\"\n",
       "  156.598,1086.45 2352.76,1086.45 \n",
       "  \"/>\n",
       "<polyline clip-path=\"url(#clip290)\" style=\"stroke:#000000; stroke-linecap:butt; stroke-linejoin:round; stroke-width:4; stroke-opacity:1; fill:none\" points=\"\n",
       "  366.743,1086.45 366.743,1083.58 \n",
       "  \"/>\n",
       "<polyline clip-path=\"url(#clip290)\" style=\"stroke:#000000; stroke-linecap:butt; stroke-linejoin:round; stroke-width:4; stroke-opacity:1; fill:none\" points=\"\n",
       "  662.721,1086.45 662.721,1083.58 \n",
       "  \"/>\n",
       "<polyline clip-path=\"url(#clip290)\" style=\"stroke:#000000; stroke-linecap:butt; stroke-linejoin:round; stroke-width:4; stroke-opacity:1; fill:none\" points=\"\n",
       "  958.699,1086.45 958.699,1083.58 \n",
       "  \"/>\n",
       "<polyline clip-path=\"url(#clip290)\" style=\"stroke:#000000; stroke-linecap:butt; stroke-linejoin:round; stroke-width:4; stroke-opacity:1; fill:none\" points=\"\n",
       "  1254.68,1086.45 1254.68,1083.58 \n",
       "  \"/>\n",
       "<polyline clip-path=\"url(#clip290)\" style=\"stroke:#000000; stroke-linecap:butt; stroke-linejoin:round; stroke-width:4; stroke-opacity:1; fill:none\" points=\"\n",
       "  1550.66,1086.45 1550.66,1083.58 \n",
       "  \"/>\n",
       "<polyline clip-path=\"url(#clip290)\" style=\"stroke:#000000; stroke-linecap:butt; stroke-linejoin:round; stroke-width:4; stroke-opacity:1; fill:none\" points=\"\n",
       "  1846.63,1086.45 1846.63,1083.58 \n",
       "  \"/>\n",
       "<polyline clip-path=\"url(#clip290)\" style=\"stroke:#000000; stroke-linecap:butt; stroke-linejoin:round; stroke-width:4; stroke-opacity:1; fill:none\" points=\"\n",
       "  2142.61,1086.45 2142.61,1083.58 \n",
       "  \"/>\n",
       "<path clip-path=\"url(#clip290)\" d=\"M361.396 1143.18 L377.715 1143.18 L377.715 1147.12 L355.771 1147.12 L355.771 1143.18 Q358.433 1140.43 363.016 1135.8 Q367.622 1131.15 368.803 1129.81 Q371.048 1127.28 371.928 1125.55 Q372.831 1123.79 372.831 1122.1 Q372.831 1119.34 370.886 1117.61 Q368.965 1115.87 365.863 1115.87 Q363.664 1115.87 361.21 1116.63 Q358.78 1117.4 356.002 1118.95 L356.002 1114.23 Q358.826 1113.09 361.28 1112.51 Q363.733 1111.93 365.77 1111.93 Q371.141 1111.93 374.335 1114.62 Q377.53 1117.31 377.53 1121.8 Q377.53 1123.93 376.72 1125.85 Q375.932 1127.74 373.826 1130.34 Q373.247 1131.01 370.145 1134.23 Q367.044 1137.42 361.396 1143.18 Z\" fill=\"#000000\" fill-rule=\"evenodd\" fill-opacity=\"1\" /><path clip-path=\"url(#clip290)\" d=\"M665.73 1116.63 L653.925 1135.08 L665.73 1135.08 L665.73 1116.63 M664.503 1112.56 L670.383 1112.56 L670.383 1135.08 L675.313 1135.08 L675.313 1138.97 L670.383 1138.97 L670.383 1147.12 L665.73 1147.12 L665.73 1138.97 L650.128 1138.97 L650.128 1134.46 L664.503 1112.56 Z\" fill=\"#000000\" fill-rule=\"evenodd\" fill-opacity=\"1\" /><path clip-path=\"url(#clip290)\" d=\"M959.104 1127.98 Q955.956 1127.98 954.104 1130.13 Q952.275 1132.28 952.275 1136.03 Q952.275 1139.76 954.104 1141.93 Q955.956 1144.09 959.104 1144.09 Q962.252 1144.09 964.081 1141.93 Q965.933 1139.76 965.933 1136.03 Q965.933 1132.28 964.081 1130.13 Q962.252 1127.98 959.104 1127.98 M968.386 1113.32 L968.386 1117.58 Q966.627 1116.75 964.822 1116.31 Q963.039 1115.87 961.28 1115.87 Q956.65 1115.87 954.197 1119 Q951.766 1122.12 951.419 1128.44 Q952.785 1126.43 954.845 1125.36 Q956.905 1124.27 959.382 1124.27 Q964.59 1124.27 967.599 1127.44 Q970.632 1130.59 970.632 1136.03 Q970.632 1141.36 967.484 1144.57 Q964.335 1147.79 959.104 1147.79 Q953.109 1147.79 949.937 1143.21 Q946.766 1138.6 946.766 1129.87 Q946.766 1121.68 950.655 1116.82 Q954.544 1111.93 961.095 1111.93 Q962.854 1111.93 964.636 1112.28 Q966.442 1112.63 968.386 1113.32 Z\" fill=\"#000000\" fill-rule=\"evenodd\" fill-opacity=\"1\" /><path clip-path=\"url(#clip290)\" d=\"M1254.68 1130.71 Q1251.34 1130.71 1249.42 1132.49 Q1247.52 1134.27 1247.52 1137.4 Q1247.52 1140.52 1249.42 1142.31 Q1251.34 1144.09 1254.68 1144.09 Q1258.01 1144.09 1259.93 1142.31 Q1261.85 1140.5 1261.85 1137.4 Q1261.85 1134.27 1259.93 1132.49 Q1258.03 1130.71 1254.68 1130.71 M1250 1128.72 Q1246.99 1127.98 1245.3 1125.92 Q1243.64 1123.86 1243.64 1120.89 Q1243.64 1116.75 1246.58 1114.34 Q1249.54 1111.93 1254.68 1111.93 Q1259.84 1111.93 1262.78 1114.34 Q1265.72 1116.75 1265.72 1120.89 Q1265.72 1123.86 1264.03 1125.92 Q1262.36 1127.98 1259.38 1128.72 Q1262.76 1129.5 1264.63 1131.8 Q1266.53 1134.09 1266.53 1137.4 Q1266.53 1142.42 1263.45 1145.11 Q1260.39 1147.79 1254.68 1147.79 Q1248.96 1147.79 1245.88 1145.11 Q1242.83 1142.42 1242.83 1137.4 Q1242.83 1134.09 1244.72 1131.8 Q1246.62 1129.5 1250 1128.72 M1248.29 1121.33 Q1248.29 1124.02 1249.95 1125.52 Q1251.64 1127.03 1254.68 1127.03 Q1257.69 1127.03 1259.38 1125.52 Q1261.09 1124.02 1261.09 1121.33 Q1261.09 1118.65 1259.38 1117.14 Q1257.69 1115.64 1254.68 1115.64 Q1251.64 1115.64 1249.95 1117.14 Q1248.29 1118.65 1248.29 1121.33 Z\" fill=\"#000000\" fill-rule=\"evenodd\" fill-opacity=\"1\" /><path clip-path=\"url(#clip290)\" d=\"M1525.34 1143.18 L1532.98 1143.18 L1532.98 1116.82 L1524.67 1118.49 L1524.67 1114.23 L1532.94 1112.56 L1537.61 1112.56 L1537.61 1143.18 L1545.25 1143.18 L1545.25 1147.12 L1525.34 1147.12 L1525.34 1143.18 Z\" fill=\"#000000\" fill-rule=\"evenodd\" fill-opacity=\"1\" /><path clip-path=\"url(#clip290)\" d=\"M1564.69 1115.64 Q1561.08 1115.64 1559.25 1119.2 Q1557.45 1122.75 1557.45 1129.87 Q1557.45 1136.98 1559.25 1140.55 Q1561.08 1144.09 1564.69 1144.09 Q1568.33 1144.09 1570.13 1140.55 Q1571.96 1136.98 1571.96 1129.87 Q1571.96 1122.75 1570.13 1119.2 Q1568.33 1115.64 1564.69 1115.64 M1564.69 1111.93 Q1570.5 1111.93 1573.56 1116.54 Q1576.64 1121.12 1576.64 1129.87 Q1576.64 1138.6 1573.56 1143.21 Q1570.5 1147.79 1564.69 1147.79 Q1558.88 1147.79 1555.81 1143.21 Q1552.75 1138.6 1552.75 1129.87 Q1552.75 1121.12 1555.81 1116.54 Q1558.88 1111.93 1564.69 1111.93 Z\" fill=\"#000000\" fill-rule=\"evenodd\" fill-opacity=\"1\" /><path clip-path=\"url(#clip290)\" d=\"M1822.12 1143.18 L1829.76 1143.18 L1829.76 1116.82 L1821.45 1118.49 L1821.45 1114.23 L1829.71 1112.56 L1834.39 1112.56 L1834.39 1143.18 L1842.03 1143.18 L1842.03 1147.12 L1822.12 1147.12 L1822.12 1143.18 Z\" fill=\"#000000\" fill-rule=\"evenodd\" fill-opacity=\"1\" /><path clip-path=\"url(#clip290)\" d=\"M1855.5 1143.18 L1871.82 1143.18 L1871.82 1147.12 L1849.87 1147.12 L1849.87 1143.18 Q1852.54 1140.43 1857.12 1135.8 Q1861.73 1131.15 1862.91 1129.81 Q1865.15 1127.28 1866.03 1125.55 Q1866.93 1123.79 1866.93 1122.1 Q1866.93 1119.34 1864.99 1117.61 Q1863.07 1115.87 1859.97 1115.87 Q1857.77 1115.87 1855.31 1116.63 Q1852.88 1117.4 1850.11 1118.95 L1850.11 1114.23 Q1852.93 1113.09 1855.38 1112.51 Q1857.84 1111.93 1859.87 1111.93 Q1865.24 1111.93 1868.44 1114.62 Q1871.63 1117.31 1871.63 1121.8 Q1871.63 1123.93 1870.82 1125.85 Q1870.04 1127.74 1867.93 1130.34 Q1867.35 1131.01 1864.25 1134.23 Q1861.15 1137.42 1855.5 1143.18 Z\" fill=\"#000000\" fill-rule=\"evenodd\" fill-opacity=\"1\" /><path clip-path=\"url(#clip290)\" d=\"M2117.06 1143.18 L2124.69 1143.18 L2124.69 1116.82 L2116.38 1118.49 L2116.38 1114.23 L2124.65 1112.56 L2129.32 1112.56 L2129.32 1143.18 L2136.96 1143.18 L2136.96 1147.12 L2117.06 1147.12 L2117.06 1143.18 Z\" fill=\"#000000\" fill-rule=\"evenodd\" fill-opacity=\"1\" /><path clip-path=\"url(#clip290)\" d=\"M2159.25 1116.63 L2147.45 1135.08 L2159.25 1135.08 L2159.25 1116.63 M2158.03 1112.56 L2163.91 1112.56 L2163.91 1135.08 L2168.84 1135.08 L2168.84 1138.97 L2163.91 1138.97 L2163.91 1147.12 L2159.25 1147.12 L2159.25 1138.97 L2143.65 1138.97 L2143.65 1134.46 L2158.03 1112.56 Z\" fill=\"#000000\" fill-rule=\"evenodd\" fill-opacity=\"1\" /><polyline clip-path=\"url(#clip294)\" style=\"stroke:#000000; stroke-linecap:butt; stroke-linejoin:round; stroke-width:2; stroke-opacity:0.1; fill:none\" points=\"\n",
       "  156.598,1039.57 2352.76,1039.57 \n",
       "  \"/>\n",
       "<polyline clip-path=\"url(#clip294)\" style=\"stroke:#000000; stroke-linecap:butt; stroke-linejoin:round; stroke-width:2; stroke-opacity:0.1; fill:none\" points=\"\n",
       "  156.598,991.4 2352.76,991.4 \n",
       "  \"/>\n",
       "<polyline clip-path=\"url(#clip294)\" style=\"stroke:#000000; stroke-linecap:butt; stroke-linejoin:round; stroke-width:2; stroke-opacity:0.1; fill:none\" points=\"\n",
       "  156.598,943.227 2352.76,943.227 \n",
       "  \"/>\n",
       "<polyline clip-path=\"url(#clip294)\" style=\"stroke:#000000; stroke-linecap:butt; stroke-linejoin:round; stroke-width:2; stroke-opacity:0.1; fill:none\" points=\"\n",
       "  156.598,895.055 2352.76,895.055 \n",
       "  \"/>\n",
       "<polyline clip-path=\"url(#clip290)\" style=\"stroke:#000000; stroke-linecap:butt; stroke-linejoin:round; stroke-width:4; stroke-opacity:1; fill:none\" points=\"\n",
       "  156.598,1086.45 156.598,847.244 \n",
       "  \"/>\n",
       "<polyline clip-path=\"url(#clip290)\" style=\"stroke:#000000; stroke-linecap:butt; stroke-linejoin:round; stroke-width:4; stroke-opacity:1; fill:none\" points=\"\n",
       "  156.598,1039.57 182.952,1039.57 \n",
       "  \"/>\n",
       "<polyline clip-path=\"url(#clip290)\" style=\"stroke:#000000; stroke-linecap:butt; stroke-linejoin:round; stroke-width:4; stroke-opacity:1; fill:none\" points=\"\n",
       "  156.598,991.4 182.952,991.4 \n",
       "  \"/>\n",
       "<polyline clip-path=\"url(#clip290)\" style=\"stroke:#000000; stroke-linecap:butt; stroke-linejoin:round; stroke-width:4; stroke-opacity:1; fill:none\" points=\"\n",
       "  156.598,943.227 182.952,943.227 \n",
       "  \"/>\n",
       "<polyline clip-path=\"url(#clip290)\" style=\"stroke:#000000; stroke-linecap:butt; stroke-linejoin:round; stroke-width:4; stroke-opacity:1; fill:none\" points=\"\n",
       "  156.598,895.055 182.952,895.055 \n",
       "  \"/>\n",
       "<path clip-path=\"url(#clip290)\" d=\"M65.0198 1025.37 Q61.4087 1025.37 59.58 1028.94 Q57.7745 1032.48 57.7745 1039.61 Q57.7745 1046.71 59.58 1050.28 Q61.4087 1053.82 65.0198 1053.82 Q68.6541 1053.82 70.4596 1050.28 Q72.2883 1046.71 72.2883 1039.61 Q72.2883 1032.48 70.4596 1028.94 Q68.6541 1025.37 65.0198 1025.37 M65.0198 1021.67 Q70.83 1021.67 73.8855 1026.27 Q76.9642 1030.86 76.9642 1039.61 Q76.9642 1048.33 73.8855 1052.94 Q70.83 1057.52 65.0198 1057.52 Q59.2097 1057.52 56.131 1052.94 Q53.0754 1048.33 53.0754 1039.61 Q53.0754 1030.86 56.131 1026.27 Q59.2097 1021.67 65.0198 1021.67 Z\" fill=\"#000000\" fill-rule=\"evenodd\" fill-opacity=\"1\" /><path clip-path=\"url(#clip290)\" d=\"M85.1818 1050.97 L90.066 1050.97 L90.066 1056.85 L85.1818 1056.85 L85.1818 1050.97 Z\" fill=\"#000000\" fill-rule=\"evenodd\" fill-opacity=\"1\" /><path clip-path=\"url(#clip290)\" d=\"M104.279 1052.92 L120.598 1052.92 L120.598 1056.85 L98.6539 1056.85 L98.6539 1052.92 Q101.316 1050.16 105.899 1045.53 Q110.506 1040.88 111.686 1039.54 Q113.932 1037.02 114.811 1035.28 Q115.714 1033.52 115.714 1031.83 Q115.714 1029.08 113.77 1027.34 Q111.848 1025.6 108.746 1025.6 Q106.547 1025.6 104.094 1026.37 Q101.663 1027.13 98.8854 1028.68 L98.8854 1023.96 Q101.709 1022.83 104.163 1022.25 Q106.617 1021.67 108.654 1021.67 Q114.024 1021.67 117.219 1024.35 Q120.413 1027.04 120.413 1031.53 Q120.413 1033.66 119.603 1035.58 Q118.816 1037.48 116.709 1040.07 Q116.131 1040.74 113.029 1043.96 Q109.927 1047.15 104.279 1052.92 Z\" fill=\"#000000\" fill-rule=\"evenodd\" fill-opacity=\"1\" /><path clip-path=\"url(#clip290)\" d=\"M62.9365 977.199 Q59.3254 977.199 57.4967 980.764 Q55.6912 984.305 55.6912 991.435 Q55.6912 998.541 57.4967 1002.11 Q59.3254 1005.65 62.9365 1005.65 Q66.5707 1005.65 68.3763 1002.11 Q70.205 998.541 70.205 991.435 Q70.205 984.305 68.3763 980.764 Q66.5707 977.199 62.9365 977.199 M62.9365 973.495 Q68.7467 973.495 71.8022 978.102 Q74.8809 982.685 74.8809 991.435 Q74.8809 1000.16 71.8022 1004.77 Q68.7467 1009.35 62.9365 1009.35 Q57.1264 1009.35 54.0477 1004.77 Q50.9921 1000.16 50.9921 991.435 Q50.9921 982.685 54.0477 978.102 Q57.1264 973.495 62.9365 973.495 Z\" fill=\"#000000\" fill-rule=\"evenodd\" fill-opacity=\"1\" /><path clip-path=\"url(#clip290)\" d=\"M83.0984 1002.8 L87.9827 1002.8 L87.9827 1008.68 L83.0984 1008.68 L83.0984 1002.8 Z\" fill=\"#000000\" fill-rule=\"evenodd\" fill-opacity=\"1\" /><path clip-path=\"url(#clip290)\" d=\"M111.015 978.194 L99.2095 996.643 L111.015 996.643 L111.015 978.194 M109.788 974.12 L115.668 974.12 L115.668 996.643 L120.598 996.643 L120.598 1000.53 L115.668 1000.53 L115.668 1008.68 L111.015 1008.68 L111.015 1000.53 L95.4132 1000.53 L95.4132 996.018 L109.788 974.12 Z\" fill=\"#000000\" fill-rule=\"evenodd\" fill-opacity=\"1\" /><path clip-path=\"url(#clip290)\" d=\"M63.2606 929.026 Q59.6495 929.026 57.8208 932.591 Q56.0152 936.133 56.0152 943.262 Q56.0152 950.369 57.8208 953.933 Q59.6495 957.475 63.2606 957.475 Q66.8948 957.475 68.7004 953.933 Q70.5291 950.369 70.5291 943.262 Q70.5291 936.133 68.7004 932.591 Q66.8948 929.026 63.2606 929.026 M63.2606 925.322 Q69.0707 925.322 72.1263 929.929 Q75.205 934.512 75.205 943.262 Q75.205 951.989 72.1263 956.595 Q69.0707 961.179 63.2606 961.179 Q57.4504 961.179 54.3717 956.595 Q51.3162 951.989 51.3162 943.262 Q51.3162 934.512 54.3717 929.929 Q57.4504 925.322 63.2606 925.322 Z\" fill=\"#000000\" fill-rule=\"evenodd\" fill-opacity=\"1\" /><path clip-path=\"url(#clip290)\" d=\"M83.4225 954.628 L88.3067 954.628 L88.3067 960.507 L83.4225 960.507 L83.4225 954.628 Z\" fill=\"#000000\" fill-rule=\"evenodd\" fill-opacity=\"1\" /><path clip-path=\"url(#clip290)\" d=\"M109.071 941.364 Q105.922 941.364 104.071 943.517 Q102.242 945.67 102.242 949.42 Q102.242 953.146 104.071 955.322 Q105.922 957.475 109.071 957.475 Q112.219 957.475 114.047 955.322 Q115.899 953.146 115.899 949.42 Q115.899 945.67 114.047 943.517 Q112.219 941.364 109.071 941.364 M118.353 926.711 L118.353 930.971 Q116.594 930.137 114.788 929.697 Q113.006 929.258 111.246 929.258 Q106.617 929.258 104.163 932.383 Q101.733 935.508 101.385 941.827 Q102.751 939.813 104.811 938.748 Q106.871 937.66 109.348 937.66 Q114.557 937.66 117.566 940.832 Q120.598 943.98 120.598 949.42 Q120.598 954.744 117.45 957.961 Q114.302 961.179 109.071 961.179 Q103.075 961.179 99.9039 956.595 Q96.7326 951.989 96.7326 943.262 Q96.7326 935.068 100.621 930.207 Q104.51 925.322 111.061 925.322 Q112.82 925.322 114.603 925.67 Q116.408 926.017 118.353 926.711 Z\" fill=\"#000000\" fill-rule=\"evenodd\" fill-opacity=\"1\" /><path clip-path=\"url(#clip290)\" d=\"M63.5152 880.853 Q59.9041 880.853 58.0754 884.418 Q56.2699 887.96 56.2699 895.089 Q56.2699 902.196 58.0754 905.761 Q59.9041 909.302 63.5152 909.302 Q67.1494 909.302 68.955 905.761 Q70.7837 902.196 70.7837 895.089 Q70.7837 887.96 68.955 884.418 Q67.1494 880.853 63.5152 880.853 M63.5152 877.15 Q69.3254 877.15 72.3809 881.756 Q75.4596 886.339 75.4596 895.089 Q75.4596 903.816 72.3809 908.423 Q69.3254 913.006 63.5152 913.006 Q57.7051 913.006 54.6264 908.423 Q51.5708 903.816 51.5708 895.089 Q51.5708 886.339 54.6264 881.756 Q57.7051 877.15 63.5152 877.15 Z\" fill=\"#000000\" fill-rule=\"evenodd\" fill-opacity=\"1\" /><path clip-path=\"url(#clip290)\" d=\"M83.6771 906.455 L88.5614 906.455 L88.5614 912.335 L83.6771 912.335 L83.6771 906.455 Z\" fill=\"#000000\" fill-rule=\"evenodd\" fill-opacity=\"1\" /><path clip-path=\"url(#clip290)\" d=\"M108.746 895.923 Q105.413 895.923 103.492 897.705 Q101.594 899.487 101.594 902.612 Q101.594 905.737 103.492 907.52 Q105.413 909.302 108.746 909.302 Q112.08 909.302 114.001 907.52 Q115.922 905.714 115.922 902.612 Q115.922 899.487 114.001 897.705 Q112.103 895.923 108.746 895.923 M104.071 893.932 Q101.061 893.191 99.3715 891.131 Q97.7048 889.071 97.7048 886.108 Q97.7048 881.964 100.645 879.557 Q103.608 877.15 108.746 877.15 Q113.908 877.15 116.848 879.557 Q119.788 881.964 119.788 886.108 Q119.788 889.071 118.098 891.131 Q116.432 893.191 113.445 893.932 Q116.825 894.719 118.7 897.011 Q120.598 899.302 120.598 902.612 Q120.598 907.636 117.52 910.321 Q114.464 913.006 108.746 913.006 Q103.029 913.006 99.9502 910.321 Q96.8947 907.636 96.8947 902.612 Q96.8947 899.302 98.7928 897.011 Q100.691 894.719 104.071 893.932 M102.358 886.548 Q102.358 889.233 104.024 890.737 Q105.714 892.242 108.746 892.242 Q111.756 892.242 113.445 890.737 Q115.158 889.233 115.158 886.548 Q115.158 883.863 113.445 882.358 Q111.756 880.853 108.746 880.853 Q105.714 880.853 104.024 882.358 Q102.358 883.863 102.358 886.548 Z\" fill=\"#000000\" fill-rule=\"evenodd\" fill-opacity=\"1\" /><polyline clip-path=\"url(#clip294)\" style=\"stroke:#009af9; stroke-linecap:butt; stroke-linejoin:round; stroke-width:4; stroke-opacity:1; fill:none\" points=\"\n",
       "  218.754,948.542 366.743,911.224 514.732,1032.49 662.721,960.857 810.71,942.135 958.699,889.679 1106.69,867.882 1254.68,899.087 1402.67,995.96 1550.66,950.818 \n",
       "  1698.64,960.629 1846.63,854.224 1994.62,854.014 2142.61,857.59 2290.6,1079.68 \n",
       "  \"/>\n",
       "<path clip-path=\"url(#clip290)\" d=\"\n",
       "M1982.52 976.178 L2279.55 976.178 L2279.55 855.218 L1982.52 855.218  Z\n",
       "  \" fill=\"#ffffff\" fill-rule=\"evenodd\" fill-opacity=\"1\"/>\n",
       "<polyline clip-path=\"url(#clip290)\" style=\"stroke:#000000; stroke-linecap:butt; stroke-linejoin:round; stroke-width:4; stroke-opacity:1; fill:none\" points=\"\n",
       "  1982.52,976.178 2279.55,976.178 2279.55,855.218 1982.52,855.218 1982.52,976.178 \n",
       "  \"/>\n",
       "<polyline clip-path=\"url(#clip290)\" style=\"stroke:#009af9; stroke-linecap:butt; stroke-linejoin:round; stroke-width:4; stroke-opacity:1; fill:none\" points=\"\n",
       "  2006.93,915.698 2153.34,915.698 \n",
       "  \"/>\n",
       "<path clip-path=\"url(#clip290)\" d=\"M2191.58 935.385 Q2189.78 940.015 2188.06 941.427 Q2186.35 942.839 2183.48 942.839 L2180.08 942.839 L2180.08 939.274 L2182.58 939.274 Q2184.34 939.274 2185.31 938.44 Q2186.28 937.607 2187.46 934.505 L2188.22 932.561 L2177.74 907.052 L2182.25 907.052 L2190.35 927.329 L2198.46 907.052 L2202.97 907.052 L2191.58 935.385 Z\" fill=\"#000000\" fill-rule=\"evenodd\" fill-opacity=\"1\" /><path clip-path=\"url(#clip290)\" d=\"M2223.62 914.343 Q2226.97 915.061 2228.85 917.329 Q2230.75 919.598 2230.75 922.931 Q2230.75 928.047 2227.23 930.848 Q2223.71 933.649 2217.23 933.649 Q2215.05 933.649 2212.74 933.209 Q2210.45 932.792 2207.99 931.936 L2207.99 927.422 Q2209.94 928.556 2212.25 929.135 Q2214.57 929.714 2217.09 929.714 Q2221.49 929.714 2223.78 927.978 Q2226.09 926.241 2226.09 922.931 Q2226.09 919.876 2223.94 918.163 Q2221.81 916.427 2217.99 916.427 L2213.96 916.427 L2213.96 912.584 L2218.18 912.584 Q2221.63 912.584 2223.46 911.218 Q2225.28 909.83 2225.28 907.237 Q2225.28 904.575 2223.39 903.163 Q2221.51 901.728 2217.99 901.728 Q2216.07 901.728 2213.87 902.144 Q2211.67 902.561 2209.03 903.441 L2209.03 899.274 Q2211.7 898.533 2214.01 898.163 Q2216.35 897.793 2218.41 897.793 Q2223.73 897.793 2226.84 900.223 Q2229.94 902.63 2229.94 906.751 Q2229.94 909.621 2228.29 911.612 Q2226.65 913.58 2223.62 914.343 Z\" fill=\"#000000\" fill-rule=\"evenodd\" fill-opacity=\"1\" /><path clip-path=\"url(#clip290)\" d=\"\n",
       "M156.598 1486.45 L2352.76 1486.45 L2352.76 1247.24 L156.598 1247.24  Z\n",
       "  \" fill=\"#ffffff\" fill-rule=\"evenodd\" fill-opacity=\"1\"/>\n",
       "<defs>\n",
       "  <clipPath id=\"clip295\">\n",
       "    <rect x=\"156\" y=\"1247\" width=\"2197\" height=\"240\"/>\n",
       "  </clipPath>\n",
       "</defs>\n",
       "<polyline clip-path=\"url(#clip295)\" style=\"stroke:#000000; stroke-linecap:butt; stroke-linejoin:round; stroke-width:2; stroke-opacity:0.1; fill:none\" points=\"\n",
       "  366.743,1486.45 366.743,1247.24 \n",
       "  \"/>\n",
       "<polyline clip-path=\"url(#clip295)\" style=\"stroke:#000000; stroke-linecap:butt; stroke-linejoin:round; stroke-width:2; stroke-opacity:0.1; fill:none\" points=\"\n",
       "  662.721,1486.45 662.721,1247.24 \n",
       "  \"/>\n",
       "<polyline clip-path=\"url(#clip295)\" style=\"stroke:#000000; stroke-linecap:butt; stroke-linejoin:round; stroke-width:2; stroke-opacity:0.1; fill:none\" points=\"\n",
       "  958.699,1486.45 958.699,1247.24 \n",
       "  \"/>\n",
       "<polyline clip-path=\"url(#clip295)\" style=\"stroke:#000000; stroke-linecap:butt; stroke-linejoin:round; stroke-width:2; stroke-opacity:0.1; fill:none\" points=\"\n",
       "  1254.68,1486.45 1254.68,1247.24 \n",
       "  \"/>\n",
       "<polyline clip-path=\"url(#clip295)\" style=\"stroke:#000000; stroke-linecap:butt; stroke-linejoin:round; stroke-width:2; stroke-opacity:0.1; fill:none\" points=\"\n",
       "  1550.66,1486.45 1550.66,1247.24 \n",
       "  \"/>\n",
       "<polyline clip-path=\"url(#clip295)\" style=\"stroke:#000000; stroke-linecap:butt; stroke-linejoin:round; stroke-width:2; stroke-opacity:0.1; fill:none\" points=\"\n",
       "  1846.63,1486.45 1846.63,1247.24 \n",
       "  \"/>\n",
       "<polyline clip-path=\"url(#clip295)\" style=\"stroke:#000000; stroke-linecap:butt; stroke-linejoin:round; stroke-width:2; stroke-opacity:0.1; fill:none\" points=\"\n",
       "  2142.61,1486.45 2142.61,1247.24 \n",
       "  \"/>\n",
       "<polyline clip-path=\"url(#clip290)\" style=\"stroke:#000000; stroke-linecap:butt; stroke-linejoin:round; stroke-width:4; stroke-opacity:1; fill:none\" points=\"\n",
       "  156.598,1486.45 2352.76,1486.45 \n",
       "  \"/>\n",
       "<polyline clip-path=\"url(#clip290)\" style=\"stroke:#000000; stroke-linecap:butt; stroke-linejoin:round; stroke-width:4; stroke-opacity:1; fill:none\" points=\"\n",
       "  366.743,1486.45 366.743,1483.58 \n",
       "  \"/>\n",
       "<polyline clip-path=\"url(#clip290)\" style=\"stroke:#000000; stroke-linecap:butt; stroke-linejoin:round; stroke-width:4; stroke-opacity:1; fill:none\" points=\"\n",
       "  662.721,1486.45 662.721,1483.58 \n",
       "  \"/>\n",
       "<polyline clip-path=\"url(#clip290)\" style=\"stroke:#000000; stroke-linecap:butt; stroke-linejoin:round; stroke-width:4; stroke-opacity:1; fill:none\" points=\"\n",
       "  958.699,1486.45 958.699,1483.58 \n",
       "  \"/>\n",
       "<polyline clip-path=\"url(#clip290)\" style=\"stroke:#000000; stroke-linecap:butt; stroke-linejoin:round; stroke-width:4; stroke-opacity:1; fill:none\" points=\"\n",
       "  1254.68,1486.45 1254.68,1483.58 \n",
       "  \"/>\n",
       "<polyline clip-path=\"url(#clip290)\" style=\"stroke:#000000; stroke-linecap:butt; stroke-linejoin:round; stroke-width:4; stroke-opacity:1; fill:none\" points=\"\n",
       "  1550.66,1486.45 1550.66,1483.58 \n",
       "  \"/>\n",
       "<polyline clip-path=\"url(#clip290)\" style=\"stroke:#000000; stroke-linecap:butt; stroke-linejoin:round; stroke-width:4; stroke-opacity:1; fill:none\" points=\"\n",
       "  1846.63,1486.45 1846.63,1483.58 \n",
       "  \"/>\n",
       "<polyline clip-path=\"url(#clip290)\" style=\"stroke:#000000; stroke-linecap:butt; stroke-linejoin:round; stroke-width:4; stroke-opacity:1; fill:none\" points=\"\n",
       "  2142.61,1486.45 2142.61,1483.58 \n",
       "  \"/>\n",
       "<path clip-path=\"url(#clip290)\" d=\"M361.396 1543.18 L377.715 1543.18 L377.715 1547.12 L355.771 1547.12 L355.771 1543.18 Q358.433 1540.43 363.016 1535.8 Q367.622 1531.15 368.803 1529.81 Q371.048 1527.28 371.928 1525.55 Q372.831 1523.79 372.831 1522.1 Q372.831 1519.34 370.886 1517.61 Q368.965 1515.87 365.863 1515.87 Q363.664 1515.87 361.21 1516.63 Q358.78 1517.4 356.002 1518.95 L356.002 1514.23 Q358.826 1513.09 361.28 1512.51 Q363.733 1511.93 365.77 1511.93 Q371.141 1511.93 374.335 1514.62 Q377.53 1517.31 377.53 1521.8 Q377.53 1523.93 376.72 1525.85 Q375.932 1527.74 373.826 1530.34 Q373.247 1531.01 370.145 1534.23 Q367.044 1537.42 361.396 1543.18 Z\" fill=\"#000000\" fill-rule=\"evenodd\" fill-opacity=\"1\" /><path clip-path=\"url(#clip290)\" d=\"M665.73 1516.63 L653.925 1535.08 L665.73 1535.08 L665.73 1516.63 M664.503 1512.56 L670.383 1512.56 L670.383 1535.08 L675.313 1535.08 L675.313 1538.97 L670.383 1538.97 L670.383 1547.12 L665.73 1547.12 L665.73 1538.97 L650.128 1538.97 L650.128 1534.46 L664.503 1512.56 Z\" fill=\"#000000\" fill-rule=\"evenodd\" fill-opacity=\"1\" /><path clip-path=\"url(#clip290)\" d=\"M959.104 1527.98 Q955.956 1527.98 954.104 1530.13 Q952.275 1532.28 952.275 1536.03 Q952.275 1539.76 954.104 1541.93 Q955.956 1544.09 959.104 1544.09 Q962.252 1544.09 964.081 1541.93 Q965.933 1539.76 965.933 1536.03 Q965.933 1532.28 964.081 1530.13 Q962.252 1527.98 959.104 1527.98 M968.386 1513.32 L968.386 1517.58 Q966.627 1516.75 964.822 1516.31 Q963.039 1515.87 961.28 1515.87 Q956.65 1515.87 954.197 1519 Q951.766 1522.12 951.419 1528.44 Q952.785 1526.43 954.845 1525.36 Q956.905 1524.27 959.382 1524.27 Q964.59 1524.27 967.599 1527.44 Q970.632 1530.59 970.632 1536.03 Q970.632 1541.36 967.484 1544.57 Q964.335 1547.79 959.104 1547.79 Q953.109 1547.79 949.937 1543.21 Q946.766 1538.6 946.766 1529.87 Q946.766 1521.68 950.655 1516.82 Q954.544 1511.93 961.095 1511.93 Q962.854 1511.93 964.636 1512.28 Q966.442 1512.63 968.386 1513.32 Z\" fill=\"#000000\" fill-rule=\"evenodd\" fill-opacity=\"1\" /><path clip-path=\"url(#clip290)\" d=\"M1254.68 1530.71 Q1251.34 1530.71 1249.42 1532.49 Q1247.52 1534.27 1247.52 1537.4 Q1247.52 1540.52 1249.42 1542.31 Q1251.34 1544.09 1254.68 1544.09 Q1258.01 1544.09 1259.93 1542.31 Q1261.85 1540.5 1261.85 1537.4 Q1261.85 1534.27 1259.93 1532.49 Q1258.03 1530.71 1254.68 1530.71 M1250 1528.72 Q1246.99 1527.98 1245.3 1525.92 Q1243.64 1523.86 1243.64 1520.89 Q1243.64 1516.75 1246.58 1514.34 Q1249.54 1511.93 1254.68 1511.93 Q1259.84 1511.93 1262.78 1514.34 Q1265.72 1516.75 1265.72 1520.89 Q1265.72 1523.86 1264.03 1525.92 Q1262.36 1527.98 1259.38 1528.72 Q1262.76 1529.5 1264.63 1531.8 Q1266.53 1534.09 1266.53 1537.4 Q1266.53 1542.42 1263.45 1545.11 Q1260.39 1547.79 1254.68 1547.79 Q1248.96 1547.79 1245.88 1545.11 Q1242.83 1542.42 1242.83 1537.4 Q1242.83 1534.09 1244.72 1531.8 Q1246.62 1529.5 1250 1528.72 M1248.29 1521.33 Q1248.29 1524.02 1249.95 1525.52 Q1251.64 1527.03 1254.68 1527.03 Q1257.69 1527.03 1259.38 1525.52 Q1261.09 1524.02 1261.09 1521.33 Q1261.09 1518.65 1259.38 1517.14 Q1257.69 1515.64 1254.68 1515.64 Q1251.64 1515.64 1249.95 1517.14 Q1248.29 1518.65 1248.29 1521.33 Z\" fill=\"#000000\" fill-rule=\"evenodd\" fill-opacity=\"1\" /><path clip-path=\"url(#clip290)\" d=\"M1525.34 1543.18 L1532.98 1543.18 L1532.98 1516.82 L1524.67 1518.49 L1524.67 1514.23 L1532.94 1512.56 L1537.61 1512.56 L1537.61 1543.18 L1545.25 1543.18 L1545.25 1547.12 L1525.34 1547.12 L1525.34 1543.18 Z\" fill=\"#000000\" fill-rule=\"evenodd\" fill-opacity=\"1\" /><path clip-path=\"url(#clip290)\" d=\"M1564.69 1515.64 Q1561.08 1515.64 1559.25 1519.2 Q1557.45 1522.75 1557.45 1529.87 Q1557.45 1536.98 1559.25 1540.55 Q1561.08 1544.09 1564.69 1544.09 Q1568.33 1544.09 1570.13 1540.55 Q1571.96 1536.98 1571.96 1529.87 Q1571.96 1522.75 1570.13 1519.2 Q1568.33 1515.64 1564.69 1515.64 M1564.69 1511.93 Q1570.5 1511.93 1573.56 1516.54 Q1576.64 1521.12 1576.64 1529.87 Q1576.64 1538.6 1573.56 1543.21 Q1570.5 1547.79 1564.69 1547.79 Q1558.88 1547.79 1555.81 1543.21 Q1552.75 1538.6 1552.75 1529.87 Q1552.75 1521.12 1555.81 1516.54 Q1558.88 1511.93 1564.69 1511.93 Z\" fill=\"#000000\" fill-rule=\"evenodd\" fill-opacity=\"1\" /><path clip-path=\"url(#clip290)\" d=\"M1822.12 1543.18 L1829.76 1543.18 L1829.76 1516.82 L1821.45 1518.49 L1821.45 1514.23 L1829.71 1512.56 L1834.39 1512.56 L1834.39 1543.18 L1842.03 1543.18 L1842.03 1547.12 L1822.12 1547.12 L1822.12 1543.18 Z\" fill=\"#000000\" fill-rule=\"evenodd\" fill-opacity=\"1\" /><path clip-path=\"url(#clip290)\" d=\"M1855.5 1543.18 L1871.82 1543.18 L1871.82 1547.12 L1849.87 1547.12 L1849.87 1543.18 Q1852.54 1540.43 1857.12 1535.8 Q1861.73 1531.15 1862.91 1529.81 Q1865.15 1527.28 1866.03 1525.55 Q1866.93 1523.79 1866.93 1522.1 Q1866.93 1519.34 1864.99 1517.61 Q1863.07 1515.87 1859.97 1515.87 Q1857.77 1515.87 1855.31 1516.63 Q1852.88 1517.4 1850.11 1518.95 L1850.11 1514.23 Q1852.93 1513.09 1855.38 1512.51 Q1857.84 1511.93 1859.87 1511.93 Q1865.24 1511.93 1868.44 1514.62 Q1871.63 1517.31 1871.63 1521.8 Q1871.63 1523.93 1870.82 1525.85 Q1870.04 1527.74 1867.93 1530.34 Q1867.35 1531.01 1864.25 1534.23 Q1861.15 1537.42 1855.5 1543.18 Z\" fill=\"#000000\" fill-rule=\"evenodd\" fill-opacity=\"1\" /><path clip-path=\"url(#clip290)\" d=\"M2117.06 1543.18 L2124.69 1543.18 L2124.69 1516.82 L2116.38 1518.49 L2116.38 1514.23 L2124.65 1512.56 L2129.32 1512.56 L2129.32 1543.18 L2136.96 1543.18 L2136.96 1547.12 L2117.06 1547.12 L2117.06 1543.18 Z\" fill=\"#000000\" fill-rule=\"evenodd\" fill-opacity=\"1\" /><path clip-path=\"url(#clip290)\" d=\"M2159.25 1516.63 L2147.45 1535.08 L2159.25 1535.08 L2159.25 1516.63 M2158.03 1512.56 L2163.91 1512.56 L2163.91 1535.08 L2168.84 1535.08 L2168.84 1538.97 L2163.91 1538.97 L2163.91 1547.12 L2159.25 1547.12 L2159.25 1538.97 L2143.65 1538.97 L2143.65 1534.46 L2158.03 1512.56 Z\" fill=\"#000000\" fill-rule=\"evenodd\" fill-opacity=\"1\" /><polyline clip-path=\"url(#clip295)\" style=\"stroke:#000000; stroke-linecap:butt; stroke-linejoin:round; stroke-width:2; stroke-opacity:0.1; fill:none\" points=\"\n",
       "  156.598,1448.96 2352.76,1448.96 \n",
       "  \"/>\n",
       "<polyline clip-path=\"url(#clip295)\" style=\"stroke:#000000; stroke-linecap:butt; stroke-linejoin:round; stroke-width:2; stroke-opacity:0.1; fill:none\" points=\"\n",
       "  156.598,1396.68 2352.76,1396.68 \n",
       "  \"/>\n",
       "<polyline clip-path=\"url(#clip295)\" style=\"stroke:#000000; stroke-linecap:butt; stroke-linejoin:round; stroke-width:2; stroke-opacity:0.1; fill:none\" points=\"\n",
       "  156.598,1344.4 2352.76,1344.4 \n",
       "  \"/>\n",
       "<polyline clip-path=\"url(#clip295)\" style=\"stroke:#000000; stroke-linecap:butt; stroke-linejoin:round; stroke-width:2; stroke-opacity:0.1; fill:none\" points=\"\n",
       "  156.598,1292.12 2352.76,1292.12 \n",
       "  \"/>\n",
       "<polyline clip-path=\"url(#clip290)\" style=\"stroke:#000000; stroke-linecap:butt; stroke-linejoin:round; stroke-width:4; stroke-opacity:1; fill:none\" points=\"\n",
       "  156.598,1486.45 156.598,1247.24 \n",
       "  \"/>\n",
       "<polyline clip-path=\"url(#clip290)\" style=\"stroke:#000000; stroke-linecap:butt; stroke-linejoin:round; stroke-width:4; stroke-opacity:1; fill:none\" points=\"\n",
       "  156.598,1448.96 182.952,1448.96 \n",
       "  \"/>\n",
       "<polyline clip-path=\"url(#clip290)\" style=\"stroke:#000000; stroke-linecap:butt; stroke-linejoin:round; stroke-width:4; stroke-opacity:1; fill:none\" points=\"\n",
       "  156.598,1396.68 182.952,1396.68 \n",
       "  \"/>\n",
       "<polyline clip-path=\"url(#clip290)\" style=\"stroke:#000000; stroke-linecap:butt; stroke-linejoin:round; stroke-width:4; stroke-opacity:1; fill:none\" points=\"\n",
       "  156.598,1344.4 182.952,1344.4 \n",
       "  \"/>\n",
       "<polyline clip-path=\"url(#clip290)\" style=\"stroke:#000000; stroke-linecap:butt; stroke-linejoin:round; stroke-width:4; stroke-opacity:1; fill:none\" points=\"\n",
       "  156.598,1292.12 182.952,1292.12 \n",
       "  \"/>\n",
       "<path clip-path=\"url(#clip290)\" d=\"M65.0198 1434.76 Q61.4087 1434.76 59.58 1438.32 Q57.7745 1441.87 57.7745 1449 Q57.7745 1456.1 59.58 1459.67 Q61.4087 1463.21 65.0198 1463.21 Q68.6541 1463.21 70.4596 1459.67 Q72.2883 1456.1 72.2883 1449 Q72.2883 1441.87 70.4596 1438.32 Q68.6541 1434.76 65.0198 1434.76 M65.0198 1431.06 Q70.83 1431.06 73.8855 1435.66 Q76.9642 1440.25 76.9642 1449 Q76.9642 1457.72 73.8855 1462.33 Q70.83 1466.91 65.0198 1466.91 Q59.2097 1466.91 56.131 1462.33 Q53.0754 1457.72 53.0754 1449 Q53.0754 1440.25 56.131 1435.66 Q59.2097 1431.06 65.0198 1431.06 Z\" fill=\"#000000\" fill-rule=\"evenodd\" fill-opacity=\"1\" /><path clip-path=\"url(#clip290)\" d=\"M85.1818 1460.36 L90.066 1460.36 L90.066 1466.24 L85.1818 1466.24 L85.1818 1460.36 Z\" fill=\"#000000\" fill-rule=\"evenodd\" fill-opacity=\"1\" /><path clip-path=\"url(#clip290)\" d=\"M104.279 1462.31 L120.598 1462.31 L120.598 1466.24 L98.6539 1466.24 L98.6539 1462.31 Q101.316 1459.55 105.899 1454.92 Q110.506 1450.27 111.686 1448.93 Q113.932 1446.4 114.811 1444.67 Q115.714 1442.91 115.714 1441.22 Q115.714 1438.46 113.77 1436.73 Q111.848 1434.99 108.746 1434.99 Q106.547 1434.99 104.094 1435.75 Q101.663 1436.52 98.8854 1438.07 L98.8854 1433.35 Q101.709 1432.21 104.163 1431.63 Q106.617 1431.06 108.654 1431.06 Q114.024 1431.06 117.219 1433.74 Q120.413 1436.43 120.413 1440.92 Q120.413 1443.05 119.603 1444.97 Q118.816 1446.87 116.709 1449.46 Q116.131 1450.13 113.029 1453.35 Q109.927 1456.54 104.279 1462.31 Z\" fill=\"#000000\" fill-rule=\"evenodd\" fill-opacity=\"1\" /><path clip-path=\"url(#clip290)\" d=\"M62.9365 1382.48 Q59.3254 1382.48 57.4967 1386.04 Q55.6912 1389.59 55.6912 1396.72 Q55.6912 1403.82 57.4967 1407.39 Q59.3254 1410.93 62.9365 1410.93 Q66.5707 1410.93 68.3763 1407.39 Q70.205 1403.82 70.205 1396.72 Q70.205 1389.59 68.3763 1386.04 Q66.5707 1382.48 62.9365 1382.48 M62.9365 1378.78 Q68.7467 1378.78 71.8022 1383.38 Q74.8809 1387.97 74.8809 1396.72 Q74.8809 1405.44 71.8022 1410.05 Q68.7467 1414.63 62.9365 1414.63 Q57.1264 1414.63 54.0477 1410.05 Q50.9921 1405.44 50.9921 1396.72 Q50.9921 1387.97 54.0477 1383.38 Q57.1264 1378.78 62.9365 1378.78 Z\" fill=\"#000000\" fill-rule=\"evenodd\" fill-opacity=\"1\" /><path clip-path=\"url(#clip290)\" d=\"M83.0984 1408.08 L87.9827 1408.08 L87.9827 1413.96 L83.0984 1413.96 L83.0984 1408.08 Z\" fill=\"#000000\" fill-rule=\"evenodd\" fill-opacity=\"1\" /><path clip-path=\"url(#clip290)\" d=\"M111.015 1383.47 L99.2095 1401.92 L111.015 1401.92 L111.015 1383.47 M109.788 1379.4 L115.668 1379.4 L115.668 1401.92 L120.598 1401.92 L120.598 1405.81 L115.668 1405.81 L115.668 1413.96 L111.015 1413.96 L111.015 1405.81 L95.4132 1405.81 L95.4132 1401.3 L109.788 1379.4 Z\" fill=\"#000000\" fill-rule=\"evenodd\" fill-opacity=\"1\" /><path clip-path=\"url(#clip290)\" d=\"M63.2606 1330.2 Q59.6495 1330.2 57.8208 1333.76 Q56.0152 1337.31 56.0152 1344.44 Q56.0152 1351.54 57.8208 1355.11 Q59.6495 1358.65 63.2606 1358.65 Q66.8948 1358.65 68.7004 1355.11 Q70.5291 1351.54 70.5291 1344.44 Q70.5291 1337.31 68.7004 1333.76 Q66.8948 1330.2 63.2606 1330.2 M63.2606 1326.5 Q69.0707 1326.5 72.1263 1331.1 Q75.205 1335.69 75.205 1344.44 Q75.205 1353.16 72.1263 1357.77 Q69.0707 1362.35 63.2606 1362.35 Q57.4504 1362.35 54.3717 1357.77 Q51.3162 1353.16 51.3162 1344.44 Q51.3162 1335.69 54.3717 1331.1 Q57.4504 1326.5 63.2606 1326.5 Z\" fill=\"#000000\" fill-rule=\"evenodd\" fill-opacity=\"1\" /><path clip-path=\"url(#clip290)\" d=\"M83.4225 1355.8 L88.3067 1355.8 L88.3067 1361.68 L83.4225 1361.68 L83.4225 1355.8 Z\" fill=\"#000000\" fill-rule=\"evenodd\" fill-opacity=\"1\" /><path clip-path=\"url(#clip290)\" d=\"M109.071 1342.54 Q105.922 1342.54 104.071 1344.69 Q102.242 1346.84 102.242 1350.59 Q102.242 1354.32 104.071 1356.5 Q105.922 1358.65 109.071 1358.65 Q112.219 1358.65 114.047 1356.5 Q115.899 1354.32 115.899 1350.59 Q115.899 1346.84 114.047 1344.69 Q112.219 1342.54 109.071 1342.54 M118.353 1327.88 L118.353 1332.14 Q116.594 1331.31 114.788 1330.87 Q113.006 1330.43 111.246 1330.43 Q106.617 1330.43 104.163 1333.56 Q101.733 1336.68 101.385 1343 Q102.751 1340.99 104.811 1339.92 Q106.871 1338.83 109.348 1338.83 Q114.557 1338.83 117.566 1342 Q120.598 1345.15 120.598 1350.59 Q120.598 1355.92 117.45 1359.13 Q114.302 1362.35 109.071 1362.35 Q103.075 1362.35 99.9039 1357.77 Q96.7326 1353.16 96.7326 1344.44 Q96.7326 1336.24 100.621 1331.38 Q104.51 1326.5 111.061 1326.5 Q112.82 1326.5 114.603 1326.84 Q116.408 1327.19 118.353 1327.88 Z\" fill=\"#000000\" fill-rule=\"evenodd\" fill-opacity=\"1\" /><path clip-path=\"url(#clip290)\" d=\"M63.5152 1277.92 Q59.9041 1277.92 58.0754 1281.48 Q56.2699 1285.03 56.2699 1292.16 Q56.2699 1299.26 58.0754 1302.83 Q59.9041 1306.37 63.5152 1306.37 Q67.1494 1306.37 68.955 1302.83 Q70.7837 1299.26 70.7837 1292.16 Q70.7837 1285.03 68.955 1281.48 Q67.1494 1277.92 63.5152 1277.92 M63.5152 1274.22 Q69.3254 1274.22 72.3809 1278.82 Q75.4596 1283.41 75.4596 1292.16 Q75.4596 1300.88 72.3809 1305.49 Q69.3254 1310.07 63.5152 1310.07 Q57.7051 1310.07 54.6264 1305.49 Q51.5708 1300.88 51.5708 1292.16 Q51.5708 1283.41 54.6264 1278.82 Q57.7051 1274.22 63.5152 1274.22 Z\" fill=\"#000000\" fill-rule=\"evenodd\" fill-opacity=\"1\" /><path clip-path=\"url(#clip290)\" d=\"M83.6771 1303.52 L88.5614 1303.52 L88.5614 1309.4 L83.6771 1309.4 L83.6771 1303.52 Z\" fill=\"#000000\" fill-rule=\"evenodd\" fill-opacity=\"1\" /><path clip-path=\"url(#clip290)\" d=\"M108.746 1292.99 Q105.413 1292.99 103.492 1294.77 Q101.594 1296.55 101.594 1299.68 Q101.594 1302.8 103.492 1304.59 Q105.413 1306.37 108.746 1306.37 Q112.08 1306.37 114.001 1304.59 Q115.922 1302.78 115.922 1299.68 Q115.922 1296.55 114.001 1294.77 Q112.103 1292.99 108.746 1292.99 M104.071 1291 Q101.061 1290.26 99.3715 1288.2 Q97.7048 1286.14 97.7048 1283.17 Q97.7048 1279.03 100.645 1276.62 Q103.608 1274.22 108.746 1274.22 Q113.908 1274.22 116.848 1276.62 Q119.788 1279.03 119.788 1283.17 Q119.788 1286.14 118.098 1288.2 Q116.432 1290.26 113.445 1291 Q116.825 1291.78 118.7 1294.08 Q120.598 1296.37 120.598 1299.68 Q120.598 1304.7 117.52 1307.39 Q114.464 1310.07 108.746 1310.07 Q103.029 1310.07 99.9502 1307.39 Q96.8947 1304.7 96.8947 1299.68 Q96.8947 1296.37 98.7928 1294.08 Q100.691 1291.78 104.071 1291 M102.358 1283.61 Q102.358 1286.3 104.024 1287.8 Q105.714 1289.31 108.746 1289.31 Q111.756 1289.31 113.445 1287.8 Q115.158 1286.3 115.158 1283.61 Q115.158 1280.93 113.445 1279.42 Q111.756 1277.92 108.746 1277.92 Q105.714 1277.92 104.024 1279.42 Q102.358 1280.93 102.358 1283.61 Z\" fill=\"#000000\" fill-rule=\"evenodd\" fill-opacity=\"1\" /><polyline clip-path=\"url(#clip295)\" style=\"stroke:#009af9; stroke-linecap:butt; stroke-linejoin:round; stroke-width:4; stroke-opacity:1; fill:none\" points=\"\n",
       "  218.754,1370.03 366.743,1260.13 514.732,1254.01 662.721,1454.09 810.71,1387.27 958.699,1349.06 1106.69,1454.45 1254.68,1469.73 1402.67,1330.26 1550.66,1479.68 \n",
       "  1698.64,1376.99 1846.63,1422.99 1994.62,1344.94 2142.61,1296.49 2290.6,1449.64 \n",
       "  \"/>\n",
       "<path clip-path=\"url(#clip290)\" d=\"\n",
       "M1981.39 1376.18 L2279.55 1376.18 L2279.55 1255.22 L1981.39 1255.22  Z\n",
       "  \" fill=\"#ffffff\" fill-rule=\"evenodd\" fill-opacity=\"1\"/>\n",
       "<polyline clip-path=\"url(#clip290)\" style=\"stroke:#000000; stroke-linecap:butt; stroke-linejoin:round; stroke-width:4; stroke-opacity:1; fill:none\" points=\"\n",
       "  1981.39,1376.18 2279.55,1376.18 2279.55,1255.22 1981.39,1255.22 1981.39,1376.18 \n",
       "  \"/>\n",
       "<polyline clip-path=\"url(#clip290)\" style=\"stroke:#009af9; stroke-linecap:butt; stroke-linejoin:round; stroke-width:4; stroke-opacity:1; fill:none\" points=\"\n",
       "  2005.79,1315.7 2152.2,1315.7 \n",
       "  \"/>\n",
       "<path clip-path=\"url(#clip290)\" d=\"M2190.45 1335.38 Q2188.64 1340.01 2186.93 1341.43 Q2185.21 1342.84 2182.34 1342.84 L2178.94 1342.84 L2178.94 1339.27 L2181.44 1339.27 Q2183.2 1339.27 2184.17 1338.44 Q2185.15 1337.61 2186.33 1334.51 L2187.09 1332.56 L2176.6 1307.05 L2181.12 1307.05 L2189.22 1327.33 L2197.32 1307.05 L2201.84 1307.05 L2190.45 1335.38 Z\" fill=\"#000000\" fill-rule=\"evenodd\" fill-opacity=\"1\" /><path clip-path=\"url(#clip290)\" d=\"M2221.16 1302.49 L2209.36 1320.94 L2221.16 1320.94 L2221.16 1302.49 M2219.94 1298.42 L2225.82 1298.42 L2225.82 1320.94 L2230.75 1320.94 L2230.75 1324.83 L2225.82 1324.83 L2225.82 1332.98 L2221.16 1332.98 L2221.16 1324.83 L2205.56 1324.83 L2205.56 1320.32 L2219.94 1298.42 Z\" fill=\"#000000\" fill-rule=\"evenodd\" fill-opacity=\"1\" /></svg>\n"
      ]
     },
     "execution_count": 73,
     "metadata": {},
     "output_type": "execute_result"
    }
   ],
   "source": [
    "plot(x,y,layout = (4,1))"
   ]
  },
  {
   "cell_type": "code",
   "execution_count": 74,
   "metadata": {},
   "outputs": [],
   "source": [
    "using CSV"
   ]
  },
  {
   "cell_type": "code",
   "execution_count": 78,
   "metadata": {},
   "outputs": [
    {
     "data": {
      "text/html": [
       "<table class=\"data-frame\"><thead><tr><th></th><th>sepal_length</th><th>sepal_width</th><th>petal_length</th><th>petal_width</th><th>variety</th></tr><tr><th></th><th>Float64</th><th>Float64</th><th>Float64</th><th>Float64</th><th>String</th></tr></thead><tbody><p>150 rows × 5 columns</p><tr><th>1</th><td>5.1</td><td>3.5</td><td>1.4</td><td>0.2</td><td>Setosa</td></tr><tr><th>2</th><td>4.9</td><td>3.0</td><td>1.4</td><td>0.2</td><td>Setosa</td></tr><tr><th>3</th><td>4.7</td><td>3.2</td><td>1.3</td><td>0.2</td><td>Setosa</td></tr><tr><th>4</th><td>4.6</td><td>3.1</td><td>1.5</td><td>0.2</td><td>Setosa</td></tr><tr><th>5</th><td>5.0</td><td>3.6</td><td>1.4</td><td>0.2</td><td>Setosa</td></tr><tr><th>6</th><td>5.4</td><td>3.9</td><td>1.7</td><td>0.4</td><td>Setosa</td></tr><tr><th>7</th><td>4.6</td><td>3.4</td><td>1.4</td><td>0.3</td><td>Setosa</td></tr><tr><th>8</th><td>5.0</td><td>3.4</td><td>1.5</td><td>0.2</td><td>Setosa</td></tr><tr><th>9</th><td>4.4</td><td>2.9</td><td>1.4</td><td>0.2</td><td>Setosa</td></tr><tr><th>10</th><td>4.9</td><td>3.1</td><td>1.5</td><td>0.1</td><td>Setosa</td></tr><tr><th>11</th><td>5.4</td><td>3.7</td><td>1.5</td><td>0.2</td><td>Setosa</td></tr><tr><th>12</th><td>4.8</td><td>3.4</td><td>1.6</td><td>0.2</td><td>Setosa</td></tr><tr><th>13</th><td>4.8</td><td>3.0</td><td>1.4</td><td>0.1</td><td>Setosa</td></tr><tr><th>14</th><td>4.3</td><td>3.0</td><td>1.1</td><td>0.1</td><td>Setosa</td></tr><tr><th>15</th><td>5.8</td><td>4.0</td><td>1.2</td><td>0.2</td><td>Setosa</td></tr><tr><th>16</th><td>5.7</td><td>4.4</td><td>1.5</td><td>0.4</td><td>Setosa</td></tr><tr><th>17</th><td>5.4</td><td>3.9</td><td>1.3</td><td>0.4</td><td>Setosa</td></tr><tr><th>18</th><td>5.1</td><td>3.5</td><td>1.4</td><td>0.3</td><td>Setosa</td></tr><tr><th>19</th><td>5.7</td><td>3.8</td><td>1.7</td><td>0.3</td><td>Setosa</td></tr><tr><th>20</th><td>5.1</td><td>3.8</td><td>1.5</td><td>0.3</td><td>Setosa</td></tr><tr><th>21</th><td>5.4</td><td>3.4</td><td>1.7</td><td>0.2</td><td>Setosa</td></tr><tr><th>22</th><td>5.1</td><td>3.7</td><td>1.5</td><td>0.4</td><td>Setosa</td></tr><tr><th>23</th><td>4.6</td><td>3.6</td><td>1.0</td><td>0.2</td><td>Setosa</td></tr><tr><th>24</th><td>5.1</td><td>3.3</td><td>1.7</td><td>0.5</td><td>Setosa</td></tr><tr><th>25</th><td>4.8</td><td>3.4</td><td>1.9</td><td>0.2</td><td>Setosa</td></tr><tr><th>26</th><td>5.0</td><td>3.0</td><td>1.6</td><td>0.2</td><td>Setosa</td></tr><tr><th>27</th><td>5.0</td><td>3.4</td><td>1.6</td><td>0.4</td><td>Setosa</td></tr><tr><th>28</th><td>5.2</td><td>3.5</td><td>1.5</td><td>0.2</td><td>Setosa</td></tr><tr><th>29</th><td>5.2</td><td>3.4</td><td>1.4</td><td>0.2</td><td>Setosa</td></tr><tr><th>30</th><td>4.7</td><td>3.2</td><td>1.6</td><td>0.2</td><td>Setosa</td></tr><tr><th>&vellip;</th><td>&vellip;</td><td>&vellip;</td><td>&vellip;</td><td>&vellip;</td><td>&vellip;</td></tr></tbody></table>"
      ],
      "text/latex": [
       "\\begin{tabular}{r|ccccc}\n",
       "\t& sepal\\_length & sepal\\_width & petal\\_length & petal\\_width & variety\\\\\n",
       "\t\\hline\n",
       "\t& Float64 & Float64 & Float64 & Float64 & String\\\\\n",
       "\t\\hline\n",
       "\t1 & 5.1 & 3.5 & 1.4 & 0.2 & Setosa \\\\\n",
       "\t2 & 4.9 & 3.0 & 1.4 & 0.2 & Setosa \\\\\n",
       "\t3 & 4.7 & 3.2 & 1.3 & 0.2 & Setosa \\\\\n",
       "\t4 & 4.6 & 3.1 & 1.5 & 0.2 & Setosa \\\\\n",
       "\t5 & 5.0 & 3.6 & 1.4 & 0.2 & Setosa \\\\\n",
       "\t6 & 5.4 & 3.9 & 1.7 & 0.4 & Setosa \\\\\n",
       "\t7 & 4.6 & 3.4 & 1.4 & 0.3 & Setosa \\\\\n",
       "\t8 & 5.0 & 3.4 & 1.5 & 0.2 & Setosa \\\\\n",
       "\t9 & 4.4 & 2.9 & 1.4 & 0.2 & Setosa \\\\\n",
       "\t10 & 4.9 & 3.1 & 1.5 & 0.1 & Setosa \\\\\n",
       "\t11 & 5.4 & 3.7 & 1.5 & 0.2 & Setosa \\\\\n",
       "\t12 & 4.8 & 3.4 & 1.6 & 0.2 & Setosa \\\\\n",
       "\t13 & 4.8 & 3.0 & 1.4 & 0.1 & Setosa \\\\\n",
       "\t14 & 4.3 & 3.0 & 1.1 & 0.1 & Setosa \\\\\n",
       "\t15 & 5.8 & 4.0 & 1.2 & 0.2 & Setosa \\\\\n",
       "\t16 & 5.7 & 4.4 & 1.5 & 0.4 & Setosa \\\\\n",
       "\t17 & 5.4 & 3.9 & 1.3 & 0.4 & Setosa \\\\\n",
       "\t18 & 5.1 & 3.5 & 1.4 & 0.3 & Setosa \\\\\n",
       "\t19 & 5.7 & 3.8 & 1.7 & 0.3 & Setosa \\\\\n",
       "\t20 & 5.1 & 3.8 & 1.5 & 0.3 & Setosa \\\\\n",
       "\t21 & 5.4 & 3.4 & 1.7 & 0.2 & Setosa \\\\\n",
       "\t22 & 5.1 & 3.7 & 1.5 & 0.4 & Setosa \\\\\n",
       "\t23 & 4.6 & 3.6 & 1.0 & 0.2 & Setosa \\\\\n",
       "\t24 & 5.1 & 3.3 & 1.7 & 0.5 & Setosa \\\\\n",
       "\t25 & 4.8 & 3.4 & 1.9 & 0.2 & Setosa \\\\\n",
       "\t26 & 5.0 & 3.0 & 1.6 & 0.2 & Setosa \\\\\n",
       "\t27 & 5.0 & 3.4 & 1.6 & 0.4 & Setosa \\\\\n",
       "\t28 & 5.2 & 3.5 & 1.5 & 0.2 & Setosa \\\\\n",
       "\t29 & 5.2 & 3.4 & 1.4 & 0.2 & Setosa \\\\\n",
       "\t30 & 4.7 & 3.2 & 1.6 & 0.2 & Setosa \\\\\n",
       "\t$\\dots$ & $\\dots$ & $\\dots$ & $\\dots$ & $\\dots$ & $\\dots$ \\\\\n",
       "\\end{tabular}\n"
      ],
      "text/plain": [
       "150×5 DataFrame\n",
       "│ Row │ sepal_length │ sepal_width │ petal_length │ petal_width │ variety   │\n",
       "│     │ \u001b[90mFloat64\u001b[39m      │ \u001b[90mFloat64\u001b[39m     │ \u001b[90mFloat64\u001b[39m      │ \u001b[90mFloat64\u001b[39m     │ \u001b[90mString\u001b[39m    │\n",
       "├─────┼──────────────┼─────────────┼──────────────┼─────────────┼───────────┤\n",
       "│ 1   │ 5.1          │ 3.5         │ 1.4          │ 0.2         │ Setosa    │\n",
       "│ 2   │ 4.9          │ 3.0         │ 1.4          │ 0.2         │ Setosa    │\n",
       "│ 3   │ 4.7          │ 3.2         │ 1.3          │ 0.2         │ Setosa    │\n",
       "│ 4   │ 4.6          │ 3.1         │ 1.5          │ 0.2         │ Setosa    │\n",
       "│ 5   │ 5.0          │ 3.6         │ 1.4          │ 0.2         │ Setosa    │\n",
       "│ 6   │ 5.4          │ 3.9         │ 1.7          │ 0.4         │ Setosa    │\n",
       "│ 7   │ 4.6          │ 3.4         │ 1.4          │ 0.3         │ Setosa    │\n",
       "│ 8   │ 5.0          │ 3.4         │ 1.5          │ 0.2         │ Setosa    │\n",
       "│ 9   │ 4.4          │ 2.9         │ 1.4          │ 0.2         │ Setosa    │\n",
       "│ 10  │ 4.9          │ 3.1         │ 1.5          │ 0.1         │ Setosa    │\n",
       "⋮\n",
       "│ 140 │ 6.9          │ 3.1         │ 5.4          │ 2.1         │ Virginica │\n",
       "│ 141 │ 6.7          │ 3.1         │ 5.6          │ 2.4         │ Virginica │\n",
       "│ 142 │ 6.9          │ 3.1         │ 5.1          │ 2.3         │ Virginica │\n",
       "│ 143 │ 5.8          │ 2.7         │ 5.1          │ 1.9         │ Virginica │\n",
       "│ 144 │ 6.8          │ 3.2         │ 5.9          │ 2.3         │ Virginica │\n",
       "│ 145 │ 6.7          │ 3.3         │ 5.7          │ 2.5         │ Virginica │\n",
       "│ 146 │ 6.7          │ 3.0         │ 5.2          │ 2.3         │ Virginica │\n",
       "│ 147 │ 6.3          │ 2.5         │ 5.0          │ 1.9         │ Virginica │\n",
       "│ 148 │ 6.5          │ 3.0         │ 5.2          │ 2.0         │ Virginica │\n",
       "│ 149 │ 6.2          │ 3.4         │ 5.4          │ 2.3         │ Virginica │\n",
       "│ 150 │ 5.9          │ 3.0         │ 5.1          │ 1.8         │ Virginica │"
      ]
     },
     "execution_count": 78,
     "metadata": {},
     "output_type": "execute_result"
    }
   ],
   "source": [
    "iris = CSV.read(\"iris.csv\",DataFrame,normalizenames=true)"
   ]
  },
  {
   "cell_type": "code",
   "execution_count": 79,
   "metadata": {},
   "outputs": [
    {
     "data": {
      "image/svg+xml": [
       "<?xml version=\"1.0\" encoding=\"utf-8\"?>\n",
       "<svg xmlns=\"http://www.w3.org/2000/svg\" xmlns:xlink=\"http://www.w3.org/1999/xlink\" width=\"600\" height=\"400\" viewBox=\"0 0 2400 1600\">\n",
       "<defs>\n",
       "  <clipPath id=\"clip330\">\n",
       "    <rect x=\"0\" y=\"0\" width=\"2400\" height=\"1600\"/>\n",
       "  </clipPath>\n",
       "</defs>\n",
       "<path clip-path=\"url(#clip330)\" d=\"\n",
       "M0 1600 L2400 1600 L2400 0 L0 0  Z\n",
       "  \" fill=\"#ffffff\" fill-rule=\"evenodd\" fill-opacity=\"1\"/>\n",
       "<defs>\n",
       "  <clipPath id=\"clip331\">\n",
       "    <rect x=\"480\" y=\"0\" width=\"1681\" height=\"1600\"/>\n",
       "  </clipPath>\n",
       "</defs>\n",
       "<path clip-path=\"url(#clip330)\" d=\"\n",
       "M110.858 1486.45 L2352.76 1486.45 L2352.76 47.2441 L110.858 47.2441  Z\n",
       "  \" fill=\"#ffffff\" fill-rule=\"evenodd\" fill-opacity=\"1\"/>\n",
       "<defs>\n",
       "  <clipPath id=\"clip332\">\n",
       "    <rect x=\"110\" y=\"47\" width=\"2243\" height=\"1440\"/>\n",
       "  </clipPath>\n",
       "</defs>\n",
       "<polyline clip-path=\"url(#clip332)\" style=\"stroke:#000000; stroke-linecap:butt; stroke-linejoin:round; stroke-width:2; stroke-opacity:0.1; fill:none\" points=\"\n",
       "  160.113,1486.45 160.113,47.2441 \n",
       "  \"/>\n",
       "<polyline clip-path=\"url(#clip332)\" style=\"stroke:#000000; stroke-linecap:butt; stroke-linejoin:round; stroke-width:2; stroke-opacity:0.1; fill:none\" points=\"\n",
       "  869.844,1486.45 869.844,47.2441 \n",
       "  \"/>\n",
       "<polyline clip-path=\"url(#clip332)\" style=\"stroke:#000000; stroke-linecap:butt; stroke-linejoin:round; stroke-width:2; stroke-opacity:0.1; fill:none\" points=\"\n",
       "  1579.57,1486.45 1579.57,47.2441 \n",
       "  \"/>\n",
       "<polyline clip-path=\"url(#clip332)\" style=\"stroke:#000000; stroke-linecap:butt; stroke-linejoin:round; stroke-width:2; stroke-opacity:0.1; fill:none\" points=\"\n",
       "  2289.31,1486.45 2289.31,47.2441 \n",
       "  \"/>\n",
       "<polyline clip-path=\"url(#clip330)\" style=\"stroke:#000000; stroke-linecap:butt; stroke-linejoin:round; stroke-width:4; stroke-opacity:1; fill:none\" points=\"\n",
       "  110.858,1486.45 2352.76,1486.45 \n",
       "  \"/>\n",
       "<polyline clip-path=\"url(#clip330)\" style=\"stroke:#000000; stroke-linecap:butt; stroke-linejoin:round; stroke-width:4; stroke-opacity:1; fill:none\" points=\"\n",
       "  160.113,1486.45 160.113,1469.18 \n",
       "  \"/>\n",
       "<polyline clip-path=\"url(#clip330)\" style=\"stroke:#000000; stroke-linecap:butt; stroke-linejoin:round; stroke-width:4; stroke-opacity:1; fill:none\" points=\"\n",
       "  869.844,1486.45 869.844,1469.18 \n",
       "  \"/>\n",
       "<polyline clip-path=\"url(#clip330)\" style=\"stroke:#000000; stroke-linecap:butt; stroke-linejoin:round; stroke-width:4; stroke-opacity:1; fill:none\" points=\"\n",
       "  1579.57,1486.45 1579.57,1469.18 \n",
       "  \"/>\n",
       "<polyline clip-path=\"url(#clip330)\" style=\"stroke:#000000; stroke-linecap:butt; stroke-linejoin:round; stroke-width:4; stroke-opacity:1; fill:none\" points=\"\n",
       "  2289.31,1486.45 2289.31,1469.18 \n",
       "  \"/>\n",
       "<path clip-path=\"url(#clip330)\" d=\"M160.113 1515.64 Q156.502 1515.64 154.673 1519.2 Q152.868 1522.75 152.868 1529.87 Q152.868 1536.98 154.673 1540.55 Q156.502 1544.09 160.113 1544.09 Q163.747 1544.09 165.553 1540.55 Q167.382 1536.98 167.382 1529.87 Q167.382 1522.75 165.553 1519.2 Q163.747 1515.64 160.113 1515.64 M160.113 1511.93 Q165.923 1511.93 168.979 1516.54 Q172.057 1521.12 172.057 1529.87 Q172.057 1538.6 168.979 1543.21 Q165.923 1547.79 160.113 1547.79 Q154.303 1547.79 151.224 1543.21 Q148.169 1538.6 148.169 1529.87 Q148.169 1521.12 151.224 1516.54 Q154.303 1511.93 160.113 1511.93 Z\" fill=\"#000000\" fill-rule=\"evenodd\" fill-opacity=\"1\" /><path clip-path=\"url(#clip330)\" d=\"M844.543 1512.56 L862.9 1512.56 L862.9 1516.5 L848.826 1516.5 L848.826 1524.97 Q849.844 1524.62 850.863 1524.46 Q851.881 1524.27 852.9 1524.27 Q858.687 1524.27 862.066 1527.44 Q865.446 1530.62 865.446 1536.03 Q865.446 1541.61 861.974 1544.71 Q858.501 1547.79 852.182 1547.79 Q850.006 1547.79 847.738 1547.42 Q845.492 1547.05 843.085 1546.31 L843.085 1541.61 Q845.168 1542.74 847.39 1543.3 Q849.613 1543.86 852.089 1543.86 Q856.094 1543.86 858.432 1541.75 Q860.77 1539.64 860.77 1536.03 Q860.77 1532.42 858.432 1530.31 Q856.094 1528.21 852.089 1528.21 Q850.215 1528.21 848.34 1528.62 Q846.488 1529.04 844.543 1529.92 L844.543 1512.56 Z\" fill=\"#000000\" fill-rule=\"evenodd\" fill-opacity=\"1\" /><path clip-path=\"url(#clip330)\" d=\"M884.659 1515.64 Q881.048 1515.64 879.219 1519.2 Q877.413 1522.75 877.413 1529.87 Q877.413 1536.98 879.219 1540.55 Q881.048 1544.09 884.659 1544.09 Q888.293 1544.09 890.099 1540.55 Q891.927 1536.98 891.927 1529.87 Q891.927 1522.75 890.099 1519.2 Q888.293 1515.64 884.659 1515.64 M884.659 1511.93 Q890.469 1511.93 893.524 1516.54 Q896.603 1521.12 896.603 1529.87 Q896.603 1538.6 893.524 1543.21 Q890.469 1547.79 884.659 1547.79 Q878.849 1547.79 875.77 1543.21 Q872.714 1538.6 872.714 1529.87 Q872.714 1521.12 875.77 1516.54 Q878.849 1511.93 884.659 1511.93 Z\" fill=\"#000000\" fill-rule=\"evenodd\" fill-opacity=\"1\" /><path clip-path=\"url(#clip330)\" d=\"M1539.18 1543.18 L1546.82 1543.18 L1546.82 1516.82 L1538.51 1518.49 L1538.51 1514.23 L1546.77 1512.56 L1551.45 1512.56 L1551.45 1543.18 L1559.09 1543.18 L1559.09 1547.12 L1539.18 1547.12 L1539.18 1543.18 Z\" fill=\"#000000\" fill-rule=\"evenodd\" fill-opacity=\"1\" /><path clip-path=\"url(#clip330)\" d=\"M1578.53 1515.64 Q1574.92 1515.64 1573.09 1519.2 Q1571.29 1522.75 1571.29 1529.87 Q1571.29 1536.98 1573.09 1540.55 Q1574.92 1544.09 1578.53 1544.09 Q1582.17 1544.09 1583.97 1540.55 Q1585.8 1536.98 1585.8 1529.87 Q1585.8 1522.75 1583.97 1519.2 Q1582.17 1515.64 1578.53 1515.64 M1578.53 1511.93 Q1584.34 1511.93 1587.4 1516.54 Q1590.48 1521.12 1590.48 1529.87 Q1590.48 1538.6 1587.4 1543.21 Q1584.34 1547.79 1578.53 1547.79 Q1572.72 1547.79 1569.64 1543.21 Q1566.59 1538.6 1566.59 1529.87 Q1566.59 1521.12 1569.64 1516.54 Q1572.72 1511.93 1578.53 1511.93 Z\" fill=\"#000000\" fill-rule=\"evenodd\" fill-opacity=\"1\" /><path clip-path=\"url(#clip330)\" d=\"M1608.7 1515.64 Q1605.08 1515.64 1603.26 1519.2 Q1601.45 1522.75 1601.45 1529.87 Q1601.45 1536.98 1603.26 1540.55 Q1605.08 1544.09 1608.7 1544.09 Q1612.33 1544.09 1614.13 1540.55 Q1615.96 1536.98 1615.96 1529.87 Q1615.96 1522.75 1614.13 1519.2 Q1612.33 1515.64 1608.7 1515.64 M1608.7 1511.93 Q1614.51 1511.93 1617.56 1516.54 Q1620.64 1521.12 1620.64 1529.87 Q1620.64 1538.6 1617.56 1543.21 Q1614.51 1547.79 1608.7 1547.79 Q1602.89 1547.79 1599.81 1543.21 Q1596.75 1538.6 1596.75 1529.87 Q1596.75 1521.12 1599.81 1516.54 Q1602.89 1511.93 1608.7 1511.93 Z\" fill=\"#000000\" fill-rule=\"evenodd\" fill-opacity=\"1\" /><path clip-path=\"url(#clip330)\" d=\"M2248.91 1543.18 L2256.55 1543.18 L2256.55 1516.82 L2248.24 1518.49 L2248.24 1514.23 L2256.51 1512.56 L2261.18 1512.56 L2261.18 1543.18 L2268.82 1543.18 L2268.82 1547.12 L2248.91 1547.12 L2248.91 1543.18 Z\" fill=\"#000000\" fill-rule=\"evenodd\" fill-opacity=\"1\" /><path clip-path=\"url(#clip330)\" d=\"M2278.31 1512.56 L2296.67 1512.56 L2296.67 1516.5 L2282.59 1516.5 L2282.59 1524.97 Q2283.61 1524.62 2284.63 1524.46 Q2285.65 1524.27 2286.67 1524.27 Q2292.45 1524.27 2295.83 1527.44 Q2299.21 1530.62 2299.21 1536.03 Q2299.21 1541.61 2295.74 1544.71 Q2292.27 1547.79 2285.95 1547.79 Q2283.77 1547.79 2281.51 1547.42 Q2279.26 1547.05 2276.85 1546.31 L2276.85 1541.61 Q2278.94 1542.74 2281.16 1543.3 Q2283.38 1543.86 2285.86 1543.86 Q2289.86 1543.86 2292.2 1541.75 Q2294.54 1539.64 2294.54 1536.03 Q2294.54 1532.42 2292.2 1530.31 Q2289.86 1528.21 2285.86 1528.21 Q2283.98 1528.21 2282.11 1528.62 Q2280.26 1529.04 2278.31 1529.92 L2278.31 1512.56 Z\" fill=\"#000000\" fill-rule=\"evenodd\" fill-opacity=\"1\" /><path clip-path=\"url(#clip330)\" d=\"M2318.43 1515.64 Q2314.82 1515.64 2312.99 1519.2 Q2311.18 1522.75 2311.18 1529.87 Q2311.18 1536.98 2312.99 1540.55 Q2314.82 1544.09 2318.43 1544.09 Q2322.06 1544.09 2323.87 1540.55 Q2325.69 1536.98 2325.69 1529.87 Q2325.69 1522.75 2323.87 1519.2 Q2322.06 1515.64 2318.43 1515.64 M2318.43 1511.93 Q2324.24 1511.93 2327.29 1516.54 Q2330.37 1521.12 2330.37 1529.87 Q2330.37 1538.6 2327.29 1543.21 Q2324.24 1547.79 2318.43 1547.79 Q2312.62 1547.79 2309.54 1543.21 Q2306.48 1538.6 2306.48 1529.87 Q2306.48 1521.12 2309.54 1516.54 Q2312.62 1511.93 2318.43 1511.93 Z\" fill=\"#000000\" fill-rule=\"evenodd\" fill-opacity=\"1\" /><polyline clip-path=\"url(#clip332)\" style=\"stroke:#000000; stroke-linecap:butt; stroke-linejoin:round; stroke-width:2; stroke-opacity:0.1; fill:none\" points=\"\n",
       "  110.858,1181.71 2352.76,1181.71 \n",
       "  \"/>\n",
       "<polyline clip-path=\"url(#clip332)\" style=\"stroke:#000000; stroke-linecap:butt; stroke-linejoin:round; stroke-width:2; stroke-opacity:0.1; fill:none\" points=\"\n",
       "  110.858,804.561 2352.76,804.561 \n",
       "  \"/>\n",
       "<polyline clip-path=\"url(#clip332)\" style=\"stroke:#000000; stroke-linecap:butt; stroke-linejoin:round; stroke-width:2; stroke-opacity:0.1; fill:none\" points=\"\n",
       "  110.858,427.411 2352.76,427.411 \n",
       "  \"/>\n",
       "<polyline clip-path=\"url(#clip332)\" style=\"stroke:#000000; stroke-linecap:butt; stroke-linejoin:round; stroke-width:2; stroke-opacity:0.1; fill:none\" points=\"\n",
       "  110.858,50.2613 2352.76,50.2613 \n",
       "  \"/>\n",
       "<polyline clip-path=\"url(#clip330)\" style=\"stroke:#000000; stroke-linecap:butt; stroke-linejoin:round; stroke-width:4; stroke-opacity:1; fill:none\" points=\"\n",
       "  110.858,1486.45 110.858,47.2441 \n",
       "  \"/>\n",
       "<polyline clip-path=\"url(#clip330)\" style=\"stroke:#000000; stroke-linecap:butt; stroke-linejoin:round; stroke-width:4; stroke-opacity:1; fill:none\" points=\"\n",
       "  110.858,1181.71 137.761,1181.71 \n",
       "  \"/>\n",
       "<polyline clip-path=\"url(#clip330)\" style=\"stroke:#000000; stroke-linecap:butt; stroke-linejoin:round; stroke-width:4; stroke-opacity:1; fill:none\" points=\"\n",
       "  110.858,804.561 137.761,804.561 \n",
       "  \"/>\n",
       "<polyline clip-path=\"url(#clip330)\" style=\"stroke:#000000; stroke-linecap:butt; stroke-linejoin:round; stroke-width:4; stroke-opacity:1; fill:none\" points=\"\n",
       "  110.858,427.411 137.761,427.411 \n",
       "  \"/>\n",
       "<polyline clip-path=\"url(#clip330)\" style=\"stroke:#000000; stroke-linecap:butt; stroke-linejoin:round; stroke-width:4; stroke-opacity:1; fill:none\" points=\"\n",
       "  110.858,50.2613 137.761,50.2613 \n",
       "  \"/>\n",
       "<path clip-path=\"url(#clip330)\" d=\"M53.9551 1164.43 L72.3115 1164.43 L72.3115 1168.37 L58.2375 1168.37 L58.2375 1176.84 Q59.256 1176.49 60.2745 1176.33 Q61.293 1176.14 62.3115 1176.14 Q68.0985 1176.14 71.4781 1179.31 Q74.8577 1182.49 74.8577 1187.9 Q74.8577 1193.48 71.3855 1196.58 Q67.9133 1199.66 61.5939 1199.66 Q59.418 1199.66 57.1495 1199.29 Q54.9041 1198.92 52.4967 1198.18 L52.4967 1193.48 Q54.5801 1194.62 56.8023 1195.17 Q59.0245 1195.73 61.5013 1195.73 Q65.5059 1195.73 67.8439 1193.62 Q70.1818 1191.51 70.1818 1187.9 Q70.1818 1184.29 67.8439 1182.19 Q65.5059 1180.08 61.5013 1180.08 Q59.6263 1180.08 57.7513 1180.5 Q55.8995 1180.91 53.9551 1181.79 L53.9551 1164.43 Z\" fill=\"#000000\" fill-rule=\"evenodd\" fill-opacity=\"1\" /><path clip-path=\"url(#clip330)\" d=\"M63.33 802.698 Q60.1819 802.698 58.33 804.85 Q56.5014 807.003 56.5014 810.753 Q56.5014 814.48 58.33 816.656 Q60.1819 818.809 63.33 818.809 Q66.4782 818.809 68.3068 816.656 Q70.1587 814.48 70.1587 810.753 Q70.1587 807.003 68.3068 804.85 Q66.4782 802.698 63.33 802.698 M72.6124 788.045 L72.6124 792.304 Q70.8531 791.471 69.0476 791.031 Q67.2652 790.591 65.5059 790.591 Q60.8763 790.591 58.4226 793.716 Q55.9921 796.841 55.6449 803.161 Q57.0106 801.147 59.0708 800.082 Q61.131 798.994 63.6078 798.994 Q68.8161 798.994 71.8253 802.165 Q74.8577 805.313 74.8577 810.753 Q74.8577 816.077 71.7096 819.295 Q68.5615 822.512 63.33 822.512 Q57.3347 822.512 54.1634 817.929 Q50.9921 813.322 50.9921 804.596 Q50.9921 796.401 54.881 791.54 Q58.7699 786.656 65.3208 786.656 Q67.08 786.656 68.8624 787.003 Q70.6679 787.35 72.6124 788.045 Z\" fill=\"#000000\" fill-rule=\"evenodd\" fill-opacity=\"1\" /><path clip-path=\"url(#clip330)\" d=\"M52.6356 410.131 L74.8577 410.131 L74.8577 412.122 L62.3115 444.691 L57.4273 444.691 L69.2328 414.066 L52.6356 414.066 L52.6356 410.131 Z\" fill=\"#000000\" fill-rule=\"evenodd\" fill-opacity=\"1\" /><path clip-path=\"url(#clip330)\" d=\"M63.006 51.1293 Q59.6726 51.1293 57.7513 52.9117 Q55.8532 54.6941 55.8532 57.8191 Q55.8532 60.9441 57.7513 62.7265 Q59.6726 64.5089 63.006 64.5089 Q66.3393 64.5089 68.2606 62.7265 Q70.1818 60.921 70.1818 57.8191 Q70.1818 54.6941 68.2606 52.9117 Q66.3624 51.1293 63.006 51.1293 M58.33 49.1386 Q55.3208 48.3979 53.631 46.3377 Q51.9643 44.2775 51.9643 41.3146 Q51.9643 37.1711 54.9041 34.7637 Q57.8671 32.3563 63.006 32.3563 Q68.168 32.3563 71.1078 34.7637 Q74.0476 37.1711 74.0476 41.3146 Q74.0476 44.2775 72.3578 46.3377 Q70.6911 48.3979 67.705 49.1386 Q71.0846 49.9256 72.9596 52.2173 Q74.8577 54.509 74.8577 57.8191 Q74.8577 62.8422 71.7791 65.5274 Q68.7235 68.2126 63.006 68.2126 Q57.2884 68.2126 54.2097 65.5274 Q51.1542 62.8422 51.1542 57.8191 Q51.1542 54.509 53.0523 52.2173 Q54.9504 49.9256 58.33 49.1386 M56.6171 41.7544 Q56.6171 44.4396 58.2838 45.9442 Q59.9736 47.4488 63.006 47.4488 Q66.0152 47.4488 67.705 45.9442 Q69.418 44.4396 69.418 41.7544 Q69.418 39.0692 67.705 37.5646 Q66.0152 36.06 63.006 36.06 Q59.9736 36.06 58.2838 37.5646 Q56.6171 39.0692 56.6171 41.7544 Z\" fill=\"#000000\" fill-rule=\"evenodd\" fill-opacity=\"1\" /><polyline clip-path=\"url(#clip332)\" style=\"stroke:#009af9; stroke-linecap:butt; stroke-linejoin:round; stroke-width:4; stroke-opacity:1; fill:none\" points=\"\n",
       "  174.308,1144 188.502,1219.43 202.697,1294.86 216.892,1332.57 231.086,1181.71 245.281,1030.85 259.475,1332.57 273.67,1181.71 287.865,1408 302.059,1219.43 \n",
       "  316.254,1030.85 330.448,1257.14 344.643,1257.14 358.838,1445.72 373.032,879.991 387.227,917.706 401.422,1030.85 415.616,1144 429.811,917.706 444.005,1144 \n",
       "  458.2,1030.85 472.395,1144 486.589,1332.57 500.784,1144 514.979,1257.14 529.173,1181.71 543.368,1181.71 557.562,1106.28 571.757,1106.28 585.952,1294.86 \n",
       "  600.146,1257.14 614.341,1030.85 628.536,1106.28 642.73,993.136 656.925,1219.43 671.119,1181.71 685.314,993.136 699.509,1219.43 713.703,1408 727.898,1144 \n",
       "  742.092,1181.71 756.287,1370.29 770.482,1408 784.676,1181.71 798.871,1144 813.066,1257.14 827.26,1144 841.455,1332.57 855.649,1068.57 869.844,1181.71 \n",
       "  884.039,427.411 898.233,653.701 912.428,465.126 926.623,993.136 940.817,615.986 955.012,917.706 969.206,691.416 983.401,1219.43 997.596,578.271 1011.79,1106.28 \n",
       "  1025.98,1181.71 1040.18,842.276 1054.37,804.561 1068.57,766.846 1082.76,955.421 1096.96,540.556 1111.15,955.421 1125.35,879.991 1139.54,729.131 1153.74,955.421 \n",
       "  1167.93,842.276 1182.13,766.846 1196.32,691.416 1210.51,766.846 1224.71,653.701 1238.9,578.271 1253.1,502.841 1267.29,540.556 1281.49,804.561 1295.68,917.706 \n",
       "  1309.88,993.136 1324.07,993.136 1338.27,879.991 1352.46,804.561 1366.66,1030.85 1380.85,804.561 1395.04,540.556 1409.24,691.416 1423.43,955.421 1437.63,993.136 \n",
       "  1451.82,993.136 1466.02,766.846 1480.21,879.991 1494.41,1181.71 1508.6,955.421 1522.8,917.706 1536.99,917.706 1551.19,729.131 1565.38,1144 1579.57,917.706 \n",
       "  1593.77,691.416 1607.96,879.991 1622.16,389.696 1636.35,691.416 1650.55,615.986 1664.74,201.121 1678.94,1219.43 1693.13,314.266 1707.33,540.556 1721.52,351.981 \n",
       "  1735.72,615.986 1749.91,653.701 1764.11,502.841 1778.3,917.706 1792.49,879.991 1806.69,653.701 1820.88,615.986 1835.08,163.406 1849.27,163.406 1863.47,804.561 \n",
       "  1877.66,465.126 1891.86,955.421 1906.05,163.406 1920.25,691.416 1934.44,540.556 1948.64,351.981 1962.83,729.131 1977.02,766.846 1991.22,653.701 2005.41,351.981 \n",
       "  2019.61,276.551 2033.8,87.9763 2048,653.701 2062.19,691.416 2076.39,766.846 2090.58,163.406 2104.78,691.416 2118.97,653.701 2133.17,804.561 2147.36,465.126 \n",
       "  2161.55,540.556 2175.75,465.126 2189.94,879.991 2204.14,502.841 2218.33,540.556 2232.53,540.556 2246.72,691.416 2260.92,615.986 2275.11,729.131 2289.31,842.276 \n",
       "  \n",
       "  \"/>\n",
       "<path clip-path=\"url(#clip330)\" d=\"\n",
       "M1976.5 216.178 L2278.03 216.178 L2278.03 95.2176 L1976.5 95.2176  Z\n",
       "  \" fill=\"#ffffff\" fill-rule=\"evenodd\" fill-opacity=\"1\"/>\n",
       "<polyline clip-path=\"url(#clip330)\" style=\"stroke:#000000; stroke-linecap:butt; stroke-linejoin:round; stroke-width:4; stroke-opacity:1; fill:none\" points=\"\n",
       "  1976.5,216.178 2278.03,216.178 2278.03,95.2176 1976.5,95.2176 1976.5,216.178 \n",
       "  \"/>\n",
       "<polyline clip-path=\"url(#clip330)\" style=\"stroke:#009af9; stroke-linecap:butt; stroke-linejoin:round; stroke-width:4; stroke-opacity:1; fill:none\" points=\"\n",
       "  2001.41,155.698 2150.87,155.698 \n",
       "  \"/>\n",
       "<path clip-path=\"url(#clip330)\" d=\"M2189.62 175.385 Q2187.81 180.015 2186.1 181.427 Q2184.39 182.839 2181.52 182.839 L2178.11 182.839 L2178.11 179.274 L2180.61 179.274 Q2182.37 179.274 2183.35 178.44 Q2184.32 177.607 2185.5 174.505 L2186.26 172.561 L2175.78 147.052 L2180.29 147.052 L2188.39 167.329 L2196.49 147.052 L2201.01 147.052 L2189.62 175.385 Z\" fill=\"#000000\" fill-rule=\"evenodd\" fill-opacity=\"1\" /><path clip-path=\"url(#clip330)\" d=\"M2208.3 169.042 L2215.94 169.042 L2215.94 142.677 L2207.63 144.343 L2207.63 140.084 L2215.89 138.418 L2220.57 138.418 L2220.57 169.042 L2228.21 169.042 L2228.21 172.978 L2208.3 172.978 L2208.3 169.042 Z\" fill=\"#000000\" fill-rule=\"evenodd\" fill-opacity=\"1\" /></svg>\n"
      ]
     },
     "execution_count": 79,
     "metadata": {},
     "output_type": "execute_result"
    }
   ],
   "source": [
    "plot(iris.sepal_length)"
   ]
  },
  {
   "cell_type": "code",
   "execution_count": 80,
   "metadata": {},
   "outputs": [
    {
     "data": {
      "image/svg+xml": [
       "<?xml version=\"1.0\" encoding=\"utf-8\"?>\n",
       "<svg xmlns=\"http://www.w3.org/2000/svg\" xmlns:xlink=\"http://www.w3.org/1999/xlink\" width=\"600\" height=\"400\" viewBox=\"0 0 2400 1600\">\n",
       "<defs>\n",
       "  <clipPath id=\"clip370\">\n",
       "    <rect x=\"0\" y=\"0\" width=\"2400\" height=\"1600\"/>\n",
       "  </clipPath>\n",
       "</defs>\n",
       "<path clip-path=\"url(#clip370)\" d=\"\n",
       "M0 1600 L2400 1600 L2400 0 L0 0  Z\n",
       "  \" fill=\"#ffffff\" fill-rule=\"evenodd\" fill-opacity=\"1\"/>\n",
       "<defs>\n",
       "  <clipPath id=\"clip371\">\n",
       "    <rect x=\"480\" y=\"0\" width=\"1681\" height=\"1600\"/>\n",
       "  </clipPath>\n",
       "</defs>\n",
       "<path clip-path=\"url(#clip370)\" d=\"\n",
       "M112.177 1486.45 L2352.76 1486.45 L2352.76 47.2441 L112.177 47.2441  Z\n",
       "  \" fill=\"#ffffff\" fill-rule=\"evenodd\" fill-opacity=\"1\"/>\n",
       "<defs>\n",
       "  <clipPath id=\"clip372\">\n",
       "    <rect x=\"112\" y=\"47\" width=\"2242\" height=\"1440\"/>\n",
       "  </clipPath>\n",
       "</defs>\n",
       "<polyline clip-path=\"url(#clip372)\" style=\"stroke:#000000; stroke-linecap:butt; stroke-linejoin:round; stroke-width:2; stroke-opacity:0.1; fill:none\" points=\"\n",
       "  520.285,1486.45 520.285,47.2441 \n",
       "  \"/>\n",
       "<polyline clip-path=\"url(#clip372)\" style=\"stroke:#000000; stroke-linecap:butt; stroke-linejoin:round; stroke-width:2; stroke-opacity:0.1; fill:none\" points=\"\n",
       "  1232.47,1486.45 1232.47,47.2441 \n",
       "  \"/>\n",
       "<polyline clip-path=\"url(#clip372)\" style=\"stroke:#000000; stroke-linecap:butt; stroke-linejoin:round; stroke-width:2; stroke-opacity:0.1; fill:none\" points=\"\n",
       "  1944.65,1486.45 1944.65,47.2441 \n",
       "  \"/>\n",
       "<polyline clip-path=\"url(#clip370)\" style=\"stroke:#000000; stroke-linecap:butt; stroke-linejoin:round; stroke-width:4; stroke-opacity:1; fill:none\" points=\"\n",
       "  112.177,1486.45 2352.76,1486.45 \n",
       "  \"/>\n",
       "<polyline clip-path=\"url(#clip370)\" style=\"stroke:#000000; stroke-linecap:butt; stroke-linejoin:round; stroke-width:4; stroke-opacity:1; fill:none\" points=\"\n",
       "  520.285,1486.45 520.285,1469.18 \n",
       "  \"/>\n",
       "<polyline clip-path=\"url(#clip370)\" style=\"stroke:#000000; stroke-linecap:butt; stroke-linejoin:round; stroke-width:4; stroke-opacity:1; fill:none\" points=\"\n",
       "  1232.47,1486.45 1232.47,1469.18 \n",
       "  \"/>\n",
       "<polyline clip-path=\"url(#clip370)\" style=\"stroke:#000000; stroke-linecap:butt; stroke-linejoin:round; stroke-width:4; stroke-opacity:1; fill:none\" points=\"\n",
       "  1944.65,1486.45 1944.65,1469.18 \n",
       "  \"/>\n",
       "<path clip-path=\"url(#clip370)\" d=\"M465.945 1513.69 L465.945 1518.25 Q463.283 1516.98 460.922 1516.36 Q458.561 1515.73 456.362 1515.73 Q452.543 1515.73 450.459 1517.21 Q448.399 1518.69 448.399 1521.43 Q448.399 1523.72 449.765 1524.9 Q451.154 1526.06 454.996 1526.77 L457.82 1527.35 Q463.052 1528.35 465.529 1530.87 Q468.029 1533.37 468.029 1537.58 Q468.029 1542.61 464.649 1545.2 Q461.293 1547.79 454.788 1547.79 Q452.334 1547.79 449.557 1547.24 Q446.802 1546.68 443.839 1545.59 L443.839 1540.78 Q446.686 1542.37 449.418 1543.18 Q452.149 1543.99 454.788 1543.99 Q458.793 1543.99 460.969 1542.42 Q463.145 1540.85 463.145 1537.93 Q463.145 1535.38 461.57 1533.95 Q460.02 1532.51 456.455 1531.8 L453.608 1531.24 Q448.376 1530.2 446.038 1527.98 Q443.7 1525.75 443.7 1521.8 Q443.7 1517.21 446.918 1514.57 Q450.158 1511.93 455.83 1511.93 Q458.26 1511.93 460.783 1512.37 Q463.307 1512.81 465.945 1513.69 Z\" fill=\"#000000\" fill-rule=\"evenodd\" fill-opacity=\"1\" /><path clip-path=\"url(#clip370)\" d=\"M497.311 1533.09 L497.311 1535.18 L477.728 1535.18 Q478.006 1539.57 480.367 1541.89 Q482.751 1544.18 486.987 1544.18 Q489.441 1544.18 491.732 1543.58 Q494.047 1542.98 496.316 1541.77 L496.316 1545.8 Q494.024 1546.77 491.617 1547.28 Q489.209 1547.79 486.732 1547.79 Q480.529 1547.79 476.894 1544.18 Q473.283 1540.57 473.283 1534.41 Q473.283 1528.05 476.709 1524.32 Q480.158 1520.57 485.992 1520.57 Q491.223 1520.57 494.255 1523.95 Q497.311 1527.31 497.311 1533.09 M493.052 1531.84 Q493.005 1528.35 491.084 1526.26 Q489.186 1524.18 486.038 1524.18 Q482.473 1524.18 480.32 1526.19 Q478.191 1528.21 477.867 1531.87 L493.052 1531.84 Z\" fill=\"#000000\" fill-rule=\"evenodd\" fill-opacity=\"1\" /><path clip-path=\"url(#clip370)\" d=\"M508.515 1513.83 L508.515 1521.19 L517.288 1521.19 L517.288 1524.5 L508.515 1524.5 L508.515 1538.58 Q508.515 1541.75 509.371 1542.65 Q510.251 1543.56 512.913 1543.56 L517.288 1543.56 L517.288 1547.12 L512.913 1547.12 Q507.982 1547.12 506.107 1545.29 Q504.232 1543.44 504.232 1538.58 L504.232 1524.5 L501.107 1524.5 L501.107 1521.19 L504.232 1521.19 L504.232 1513.83 L508.515 1513.83 Z\" fill=\"#000000\" fill-rule=\"evenodd\" fill-opacity=\"1\" /><path clip-path=\"url(#clip370)\" d=\"M532.936 1524.18 Q529.51 1524.18 527.519 1526.87 Q525.528 1529.53 525.528 1534.18 Q525.528 1538.83 527.496 1541.52 Q529.487 1544.18 532.936 1544.18 Q536.339 1544.18 538.329 1541.49 Q540.32 1538.81 540.32 1534.18 Q540.32 1529.57 538.329 1526.89 Q536.339 1524.18 532.936 1524.18 M532.936 1520.57 Q538.491 1520.57 541.663 1524.18 Q544.834 1527.79 544.834 1534.18 Q544.834 1540.55 541.663 1544.18 Q538.491 1547.79 532.936 1547.79 Q527.357 1547.79 524.186 1544.18 Q521.038 1540.55 521.038 1534.18 Q521.038 1527.79 524.186 1524.18 Q527.357 1520.57 532.936 1520.57 Z\" fill=\"#000000\" fill-rule=\"evenodd\" fill-opacity=\"1\" /><path clip-path=\"url(#clip370)\" d=\"M568.422 1521.96 L568.422 1525.99 Q566.616 1525.06 564.672 1524.6 Q562.727 1524.13 560.644 1524.13 Q557.473 1524.13 555.876 1525.11 Q554.301 1526.08 554.301 1528.02 Q554.301 1529.5 555.436 1530.36 Q556.57 1531.19 559.996 1531.96 L561.454 1532.28 Q565.991 1533.25 567.889 1535.04 Q569.811 1536.8 569.811 1539.97 Q569.811 1543.58 566.94 1545.68 Q564.093 1547.79 559.093 1547.79 Q557.01 1547.79 554.741 1547.37 Q552.496 1546.98 549.996 1546.17 L549.996 1541.77 Q552.357 1543 554.649 1543.62 Q556.94 1544.23 559.186 1544.23 Q562.195 1544.23 563.815 1543.21 Q565.436 1542.17 565.436 1540.29 Q565.436 1538.56 564.255 1537.63 Q563.098 1536.7 559.139 1535.85 L557.658 1535.5 Q553.7 1534.67 551.94 1532.95 Q550.181 1531.22 550.181 1528.21 Q550.181 1524.55 552.774 1522.56 Q555.366 1520.57 560.135 1520.57 Q562.496 1520.57 564.579 1520.92 Q566.663 1521.26 568.422 1521.96 Z\" fill=\"#000000\" fill-rule=\"evenodd\" fill-opacity=\"1\" /><path clip-path=\"url(#clip370)\" d=\"M588.375 1534.09 Q583.213 1534.09 581.223 1535.27 Q579.232 1536.45 579.232 1539.3 Q579.232 1541.56 580.713 1542.91 Q582.218 1544.23 584.787 1544.23 Q588.329 1544.23 590.459 1541.73 Q592.611 1539.2 592.611 1535.04 L592.611 1534.09 L588.375 1534.09 M596.871 1532.33 L596.871 1547.12 L592.611 1547.12 L592.611 1543.18 Q591.153 1545.55 588.977 1546.68 Q586.801 1547.79 583.653 1547.79 Q579.672 1547.79 577.311 1545.57 Q574.973 1543.32 574.973 1539.57 Q574.973 1535.2 577.889 1532.98 Q580.829 1530.75 586.639 1530.75 L592.611 1530.75 L592.611 1530.34 Q592.611 1527.4 590.667 1525.8 Q588.746 1524.18 585.25 1524.18 Q583.028 1524.18 580.922 1524.71 Q578.815 1525.24 576.871 1526.31 L576.871 1522.37 Q579.209 1521.47 581.408 1521.03 Q583.607 1520.57 585.69 1520.57 Q591.315 1520.57 594.093 1523.49 Q596.871 1526.4 596.871 1532.33 Z\" fill=\"#000000\" fill-rule=\"evenodd\" fill-opacity=\"1\" /><path clip-path=\"url(#clip370)\" d=\"M1129.84 1547.12 L1116.65 1512.56 L1121.53 1512.56 L1132.48 1541.66 L1143.45 1512.56 L1148.31 1512.56 L1135.14 1547.12 L1129.84 1547.12 Z\" fill=\"#000000\" fill-rule=\"evenodd\" fill-opacity=\"1\" /><path clip-path=\"url(#clip370)\" d=\"M1171.67 1533.09 L1171.67 1535.18 L1152.09 1535.18 Q1152.36 1539.57 1154.72 1541.89 Q1157.11 1544.18 1161.34 1544.18 Q1163.8 1544.18 1166.09 1543.58 Q1168.4 1542.98 1170.67 1541.77 L1170.67 1545.8 Q1168.38 1546.77 1165.97 1547.28 Q1163.57 1547.79 1161.09 1547.79 Q1154.89 1547.79 1151.25 1544.18 Q1147.64 1540.57 1147.64 1534.41 Q1147.64 1528.05 1151.07 1524.32 Q1154.52 1520.57 1160.35 1520.57 Q1165.58 1520.57 1168.61 1523.95 Q1171.67 1527.31 1171.67 1533.09 M1167.41 1531.84 Q1167.36 1528.35 1165.44 1526.26 Q1163.54 1524.18 1160.4 1524.18 Q1156.83 1524.18 1154.68 1526.19 Q1152.55 1528.21 1152.22 1531.87 L1167.41 1531.84 Z\" fill=\"#000000\" fill-rule=\"evenodd\" fill-opacity=\"1\" /><path clip-path=\"url(#clip370)\" d=\"M1193.68 1525.18 Q1192.96 1524.76 1192.11 1524.57 Q1191.27 1524.37 1190.26 1524.37 Q1186.65 1524.37 1184.7 1526.73 Q1182.78 1529.06 1182.78 1533.46 L1182.78 1547.12 L1178.5 1547.12 L1178.5 1521.19 L1182.78 1521.19 L1182.78 1525.22 Q1184.12 1522.86 1186.27 1521.73 Q1188.43 1520.57 1191.51 1520.57 Q1191.95 1520.57 1192.48 1520.64 Q1193.01 1520.68 1193.66 1520.8 L1193.68 1525.18 Z\" fill=\"#000000\" fill-rule=\"evenodd\" fill-opacity=\"1\" /><path clip-path=\"url(#clip370)\" d=\"M1214.68 1521.96 L1214.68 1525.99 Q1212.87 1525.06 1210.93 1524.6 Q1208.98 1524.13 1206.9 1524.13 Q1203.73 1524.13 1202.13 1525.11 Q1200.56 1526.08 1200.56 1528.02 Q1200.56 1529.5 1201.69 1530.36 Q1202.83 1531.19 1206.25 1531.96 L1207.71 1532.28 Q1212.25 1533.25 1214.14 1535.04 Q1216.07 1536.8 1216.07 1539.97 Q1216.07 1543.58 1213.2 1545.68 Q1210.35 1547.79 1205.35 1547.79 Q1203.27 1547.79 1201 1547.37 Q1198.75 1546.98 1196.25 1546.17 L1196.25 1541.77 Q1198.61 1543 1200.9 1543.62 Q1203.2 1544.23 1205.44 1544.23 Q1208.45 1544.23 1210.07 1543.21 Q1211.69 1542.17 1211.69 1540.29 Q1211.69 1538.56 1210.51 1537.63 Q1209.35 1536.7 1205.39 1535.85 L1203.91 1535.5 Q1199.96 1534.67 1198.2 1532.95 Q1196.44 1531.22 1196.44 1528.21 Q1196.44 1524.55 1199.03 1522.56 Q1201.62 1520.57 1206.39 1520.57 Q1208.75 1520.57 1210.83 1520.92 Q1212.92 1521.26 1214.68 1521.96 Z\" fill=\"#000000\" fill-rule=\"evenodd\" fill-opacity=\"1\" /><path clip-path=\"url(#clip370)\" d=\"M1222.85 1521.19 L1227.11 1521.19 L1227.11 1547.12 L1222.85 1547.12 L1222.85 1521.19 M1222.85 1511.1 L1227.11 1511.1 L1227.11 1516.5 L1222.85 1516.5 L1222.85 1511.1 Z\" fill=\"#000000\" fill-rule=\"evenodd\" fill-opacity=\"1\" /><path clip-path=\"url(#clip370)\" d=\"M1254.68 1522.19 L1254.68 1526.17 Q1252.87 1525.18 1251.04 1524.69 Q1249.24 1524.18 1247.39 1524.18 Q1243.24 1524.18 1240.95 1526.82 Q1238.66 1529.43 1238.66 1534.18 Q1238.66 1538.93 1240.95 1541.56 Q1243.24 1544.18 1247.39 1544.18 Q1249.24 1544.18 1251.04 1543.69 Q1252.87 1543.18 1254.68 1542.19 L1254.68 1546.12 Q1252.89 1546.96 1250.97 1547.37 Q1249.08 1547.79 1246.92 1547.79 Q1241.07 1547.79 1237.62 1544.11 Q1234.17 1540.43 1234.17 1534.18 Q1234.17 1527.84 1237.64 1524.2 Q1241.14 1520.57 1247.2 1520.57 Q1249.17 1520.57 1251.04 1520.99 Q1252.92 1521.38 1254.68 1522.19 Z\" fill=\"#000000\" fill-rule=\"evenodd\" fill-opacity=\"1\" /><path clip-path=\"url(#clip370)\" d=\"M1272.13 1524.18 Q1268.7 1524.18 1266.71 1526.87 Q1264.72 1529.53 1264.72 1534.18 Q1264.72 1538.83 1266.69 1541.52 Q1268.68 1544.18 1272.13 1544.18 Q1275.53 1544.18 1277.52 1541.49 Q1279.51 1538.81 1279.51 1534.18 Q1279.51 1529.57 1277.52 1526.89 Q1275.53 1524.18 1272.13 1524.18 M1272.13 1520.57 Q1277.69 1520.57 1280.86 1524.18 Q1284.03 1527.79 1284.03 1534.18 Q1284.03 1540.55 1280.86 1544.18 Q1277.69 1547.79 1272.13 1547.79 Q1266.55 1547.79 1263.38 1544.18 Q1260.23 1540.55 1260.23 1534.18 Q1260.23 1527.79 1263.38 1524.18 Q1266.55 1520.57 1272.13 1520.57 Z\" fill=\"#000000\" fill-rule=\"evenodd\" fill-opacity=\"1\" /><path clip-path=\"url(#clip370)\" d=\"M1291.09 1511.1 L1295.35 1511.1 L1295.35 1547.12 L1291.09 1547.12 L1291.09 1511.1 Z\" fill=\"#000000\" fill-rule=\"evenodd\" fill-opacity=\"1\" /><path clip-path=\"url(#clip370)\" d=\"M1314.31 1524.18 Q1310.88 1524.18 1308.89 1526.87 Q1306.9 1529.53 1306.9 1534.18 Q1306.9 1538.83 1308.87 1541.52 Q1310.86 1544.18 1314.31 1544.18 Q1317.71 1544.18 1319.7 1541.49 Q1321.69 1538.81 1321.69 1534.18 Q1321.69 1529.57 1319.7 1526.89 Q1317.71 1524.18 1314.31 1524.18 M1314.31 1520.57 Q1319.86 1520.57 1323.03 1524.18 Q1326.2 1527.79 1326.2 1534.18 Q1326.2 1540.55 1323.03 1544.18 Q1319.86 1547.79 1314.31 1547.79 Q1308.73 1547.79 1305.56 1544.18 Q1302.41 1540.55 1302.41 1534.18 Q1302.41 1527.79 1305.56 1524.18 Q1308.73 1520.57 1314.31 1520.57 Z\" fill=\"#000000\" fill-rule=\"evenodd\" fill-opacity=\"1\" /><path clip-path=\"url(#clip370)\" d=\"M1348.29 1525.18 Q1347.57 1524.76 1346.71 1524.57 Q1345.88 1524.37 1344.86 1524.37 Q1341.25 1524.37 1339.31 1526.73 Q1337.38 1529.06 1337.38 1533.46 L1337.38 1547.12 L1333.1 1547.12 L1333.1 1521.19 L1337.38 1521.19 L1337.38 1525.22 Q1338.73 1522.86 1340.88 1521.73 Q1343.03 1520.57 1346.11 1520.57 Q1346.55 1520.57 1347.08 1520.64 Q1347.62 1520.68 1348.26 1520.8 L1348.29 1525.18 Z\" fill=\"#000000\" fill-rule=\"evenodd\" fill-opacity=\"1\" /><path clip-path=\"url(#clip370)\" d=\"M1857.77 1547.12 L1844.58 1512.56 L1849.46 1512.56 L1860.41 1541.66 L1871.38 1512.56 L1876.25 1512.56 L1863.07 1547.12 L1857.77 1547.12 Z\" fill=\"#000000\" fill-rule=\"evenodd\" fill-opacity=\"1\" /><path clip-path=\"url(#clip370)\" d=\"M1880.06 1521.19 L1884.32 1521.19 L1884.32 1547.12 L1880.06 1547.12 L1880.06 1521.19 M1880.06 1511.1 L1884.32 1511.1 L1884.32 1516.5 L1880.06 1516.5 L1880.06 1511.1 Z\" fill=\"#000000\" fill-rule=\"evenodd\" fill-opacity=\"1\" /><path clip-path=\"url(#clip370)\" d=\"M1908.26 1525.18 Q1907.54 1524.76 1906.68 1524.57 Q1905.85 1524.37 1904.83 1524.37 Q1901.22 1524.37 1899.28 1526.73 Q1897.36 1529.06 1897.36 1533.46 L1897.36 1547.12 L1893.07 1547.12 L1893.07 1521.19 L1897.36 1521.19 L1897.36 1525.22 Q1898.7 1522.86 1900.85 1521.73 Q1903 1520.57 1906.08 1520.57 Q1906.52 1520.57 1907.06 1520.64 Q1907.59 1520.68 1908.24 1520.8 L1908.26 1525.18 Z\" fill=\"#000000\" fill-rule=\"evenodd\" fill-opacity=\"1\" /><path clip-path=\"url(#clip370)\" d=\"M1928.95 1533.86 Q1928.95 1529.23 1927.03 1526.68 Q1925.13 1524.13 1921.68 1524.13 Q1918.26 1524.13 1916.34 1526.68 Q1914.44 1529.23 1914.44 1533.86 Q1914.44 1538.46 1916.34 1541.01 Q1918.26 1543.56 1921.68 1543.56 Q1925.13 1543.56 1927.03 1541.01 Q1928.95 1538.46 1928.95 1533.86 M1933.21 1543.9 Q1933.21 1550.52 1930.27 1553.74 Q1927.33 1556.98 1921.27 1556.98 Q1919.02 1556.98 1917.03 1556.63 Q1915.04 1556.31 1913.17 1555.62 L1913.17 1551.47 Q1915.04 1552.49 1916.87 1552.98 Q1918.7 1553.46 1920.6 1553.46 Q1924.79 1553.46 1926.87 1551.26 Q1928.95 1549.09 1928.95 1544.67 L1928.95 1542.56 Q1927.63 1544.85 1925.57 1545.99 Q1923.51 1547.12 1920.64 1547.12 Q1915.87 1547.12 1912.96 1543.49 Q1910.04 1539.85 1910.04 1533.86 Q1910.04 1527.84 1912.96 1524.2 Q1915.87 1520.57 1920.64 1520.57 Q1923.51 1520.57 1925.57 1521.7 Q1927.63 1522.84 1928.95 1525.13 L1928.95 1521.19 L1933.21 1521.19 L1933.21 1543.9 Z\" fill=\"#000000\" fill-rule=\"evenodd\" fill-opacity=\"1\" /><path clip-path=\"url(#clip370)\" d=\"M1941.99 1521.19 L1946.24 1521.19 L1946.24 1547.12 L1941.99 1547.12 L1941.99 1521.19 M1941.99 1511.1 L1946.24 1511.1 L1946.24 1516.5 L1941.99 1516.5 L1941.99 1511.1 Z\" fill=\"#000000\" fill-rule=\"evenodd\" fill-opacity=\"1\" /><path clip-path=\"url(#clip370)\" d=\"M1976.71 1531.47 L1976.71 1547.12 L1972.45 1547.12 L1972.45 1531.61 Q1972.45 1527.93 1971.01 1526.1 Q1969.58 1524.27 1966.71 1524.27 Q1963.26 1524.27 1961.27 1526.47 Q1959.28 1528.67 1959.28 1532.47 L1959.28 1547.12 L1954.99 1547.12 L1954.99 1521.19 L1959.28 1521.19 L1959.28 1525.22 Q1960.8 1522.88 1962.87 1521.73 Q1964.95 1520.57 1967.66 1520.57 Q1972.12 1520.57 1974.42 1523.35 Q1976.71 1526.1 1976.71 1531.47 Z\" fill=\"#000000\" fill-rule=\"evenodd\" fill-opacity=\"1\" /><path clip-path=\"url(#clip370)\" d=\"M1985.2 1521.19 L1989.46 1521.19 L1989.46 1547.12 L1985.2 1547.12 L1985.2 1521.19 M1985.2 1511.1 L1989.46 1511.1 L1989.46 1516.5 L1985.2 1516.5 L1985.2 1511.1 Z\" fill=\"#000000\" fill-rule=\"evenodd\" fill-opacity=\"1\" /><path clip-path=\"url(#clip370)\" d=\"M2017.03 1522.19 L2017.03 1526.17 Q2015.23 1525.18 2013.4 1524.69 Q2011.59 1524.18 2009.74 1524.18 Q2005.6 1524.18 2003.3 1526.82 Q2001.01 1529.43 2001.01 1534.18 Q2001.01 1538.93 2003.3 1541.56 Q2005.6 1544.18 2009.74 1544.18 Q2011.59 1544.18 2013.4 1543.69 Q2015.23 1543.18 2017.03 1542.19 L2017.03 1546.12 Q2015.25 1546.96 2013.33 1547.37 Q2011.43 1547.79 2009.28 1547.79 Q2003.42 1547.79 1999.97 1544.11 Q1996.52 1540.43 1996.52 1534.18 Q1996.52 1527.84 1999.99 1524.2 Q2003.49 1520.57 2009.55 1520.57 Q2011.52 1520.57 2013.4 1520.99 Q2015.27 1521.38 2017.03 1522.19 Z\" fill=\"#000000\" fill-rule=\"evenodd\" fill-opacity=\"1\" /><path clip-path=\"url(#clip370)\" d=\"M2036.22 1534.09 Q2031.06 1534.09 2029.07 1535.27 Q2027.08 1536.45 2027.08 1539.3 Q2027.08 1541.56 2028.56 1542.91 Q2030.06 1544.23 2032.63 1544.23 Q2036.17 1544.23 2038.3 1541.73 Q2040.46 1539.2 2040.46 1535.04 L2040.46 1534.09 L2036.22 1534.09 M2044.72 1532.33 L2044.72 1547.12 L2040.46 1547.12 L2040.46 1543.18 Q2039 1545.55 2036.82 1546.68 Q2034.65 1547.79 2031.5 1547.79 Q2027.52 1547.79 2025.16 1545.57 Q2022.82 1543.32 2022.82 1539.57 Q2022.82 1535.2 2025.74 1532.98 Q2028.67 1530.75 2034.49 1530.75 L2040.46 1530.75 L2040.46 1530.34 Q2040.46 1527.4 2038.51 1525.8 Q2036.59 1524.18 2033.1 1524.18 Q2030.87 1524.18 2028.77 1524.71 Q2026.66 1525.24 2024.72 1526.31 L2024.72 1522.37 Q2027.05 1521.47 2029.25 1521.03 Q2031.45 1520.57 2033.54 1520.57 Q2039.16 1520.57 2041.94 1523.49 Q2044.72 1526.4 2044.72 1532.33 Z\" fill=\"#000000\" fill-rule=\"evenodd\" fill-opacity=\"1\" /><polyline clip-path=\"url(#clip372)\" style=\"stroke:#000000; stroke-linecap:butt; stroke-linejoin:round; stroke-width:2; stroke-opacity:0.1; fill:none\" points=\"\n",
       "  112.177,1445.72 2352.76,1445.72 \n",
       "  \"/>\n",
       "<polyline clip-path=\"url(#clip372)\" style=\"stroke:#000000; stroke-linecap:butt; stroke-linejoin:round; stroke-width:2; stroke-opacity:0.1; fill:none\" points=\"\n",
       "  112.177,1052.17 2352.76,1052.17 \n",
       "  \"/>\n",
       "<polyline clip-path=\"url(#clip372)\" style=\"stroke:#000000; stroke-linecap:butt; stroke-linejoin:round; stroke-width:2; stroke-opacity:0.1; fill:none\" points=\"\n",
       "  112.177,658.62 2352.76,658.62 \n",
       "  \"/>\n",
       "<polyline clip-path=\"url(#clip372)\" style=\"stroke:#000000; stroke-linecap:butt; stroke-linejoin:round; stroke-width:2; stroke-opacity:0.1; fill:none\" points=\"\n",
       "  112.177,265.073 2352.76,265.073 \n",
       "  \"/>\n",
       "<polyline clip-path=\"url(#clip370)\" style=\"stroke:#000000; stroke-linecap:butt; stroke-linejoin:round; stroke-width:4; stroke-opacity:1; fill:none\" points=\"\n",
       "  112.177,1486.45 112.177,47.2441 \n",
       "  \"/>\n",
       "<polyline clip-path=\"url(#clip370)\" style=\"stroke:#000000; stroke-linecap:butt; stroke-linejoin:round; stroke-width:4; stroke-opacity:1; fill:none\" points=\"\n",
       "  112.177,1445.72 139.064,1445.72 \n",
       "  \"/>\n",
       "<polyline clip-path=\"url(#clip370)\" style=\"stroke:#000000; stroke-linecap:butt; stroke-linejoin:round; stroke-width:4; stroke-opacity:1; fill:none\" points=\"\n",
       "  112.177,1052.17 139.064,1052.17 \n",
       "  \"/>\n",
       "<polyline clip-path=\"url(#clip370)\" style=\"stroke:#000000; stroke-linecap:butt; stroke-linejoin:round; stroke-width:4; stroke-opacity:1; fill:none\" points=\"\n",
       "  112.177,658.62 139.064,658.62 \n",
       "  \"/>\n",
       "<polyline clip-path=\"url(#clip370)\" style=\"stroke:#000000; stroke-linecap:butt; stroke-linejoin:round; stroke-width:4; stroke-opacity:1; fill:none\" points=\"\n",
       "  112.177,265.073 139.064,265.073 \n",
       "  \"/>\n",
       "<path clip-path=\"url(#clip370)\" d=\"M64.2328 1431.51 Q60.6217 1431.51 58.793 1435.08 Q56.9875 1438.62 56.9875 1445.75 Q56.9875 1452.86 58.793 1456.42 Q60.6217 1459.96 64.2328 1459.96 Q67.867 1459.96 69.6726 1456.42 Q71.5013 1452.86 71.5013 1445.75 Q71.5013 1438.62 69.6726 1435.08 Q67.867 1431.51 64.2328 1431.51 M64.2328 1427.81 Q70.0429 1427.81 73.0985 1432.42 Q76.1772 1437 76.1772 1445.75 Q76.1772 1454.48 73.0985 1459.08 Q70.0429 1463.67 64.2328 1463.67 Q58.4226 1463.67 55.344 1459.08 Q52.2884 1454.48 52.2884 1445.75 Q52.2884 1437 55.344 1432.42 Q58.4226 1427.81 64.2328 1427.81 Z\" fill=\"#000000\" fill-rule=\"evenodd\" fill-opacity=\"1\" /><path clip-path=\"url(#clip370)\" d=\"M59.8578 1065.51 L76.1772 1065.51 L76.1772 1069.45 L54.2328 1069.45 L54.2328 1065.51 Q56.8949 1062.76 61.4782 1058.13 Q66.0846 1053.48 67.2652 1052.13 Q69.5105 1049.61 70.3902 1047.87 Q71.2929 1046.11 71.2929 1044.43 Q71.2929 1041.67 69.3485 1039.93 Q67.4272 1038.2 64.3254 1038.2 Q62.1263 1038.2 59.6726 1038.96 Q57.2421 1039.73 54.4643 1041.28 L54.4643 1036.55 Q57.2884 1035.42 59.7421 1034.84 Q62.1958 1034.26 64.2328 1034.26 Q69.6031 1034.26 72.7976 1036.95 Q75.992 1039.63 75.992 1044.12 Q75.992 1046.25 75.1818 1048.18 Q74.3948 1050.07 72.2883 1052.67 Q71.7096 1053.34 68.6078 1056.55 Q65.5059 1059.75 59.8578 1065.51 Z\" fill=\"#000000\" fill-rule=\"evenodd\" fill-opacity=\"1\" /><path clip-path=\"url(#clip370)\" d=\"M66.5939 645.414 L54.7884 663.863 L66.5939 663.863 L66.5939 645.414 M65.367 641.34 L71.2466 641.34 L71.2466 663.863 L76.1772 663.863 L76.1772 667.752 L71.2466 667.752 L71.2466 675.9 L66.5939 675.9 L66.5939 667.752 L50.9921 667.752 L50.9921 663.238 L65.367 641.34 Z\" fill=\"#000000\" fill-rule=\"evenodd\" fill-opacity=\"1\" /><path clip-path=\"url(#clip370)\" d=\"M64.6495 263.209 Q61.5013 263.209 59.6495 265.362 Q57.8208 267.515 57.8208 271.265 Q57.8208 274.992 59.6495 277.168 Q61.5013 279.32 64.6495 279.32 Q67.7976 279.32 69.6263 277.168 Q71.4781 274.992 71.4781 271.265 Q71.4781 267.515 69.6263 265.362 Q67.7976 263.209 64.6495 263.209 M73.9318 248.557 L73.9318 252.816 Q72.1726 251.983 70.367 251.543 Q68.5846 251.103 66.8254 251.103 Q62.1958 251.103 59.7421 254.228 Q57.3115 257.353 56.9643 263.672 Q58.33 261.658 60.3902 260.594 Q62.4504 259.506 64.9272 259.506 Q70.1355 259.506 73.1448 262.677 Q76.1772 265.825 76.1772 271.265 Q76.1772 276.589 73.029 279.806 Q69.8809 283.024 64.6495 283.024 Q58.6541 283.024 55.4828 278.441 Q52.3116 273.834 52.3116 265.107 Q52.3116 256.913 56.2004 252.052 Q60.0893 247.168 66.6402 247.168 Q68.3994 247.168 70.1818 247.515 Q71.9874 247.862 73.9318 248.557 Z\" fill=\"#000000\" fill-rule=\"evenodd\" fill-opacity=\"1\" /><path clip-path=\"url(#clip372)\" d=\"\n",
       "M235.413 1170.23 L235.413 1445.72 L805.158 1445.72 L805.158 1170.23 L235.413 1170.23 L235.413 1170.23  Z\n",
       "  \" fill=\"#009af9\" fill-rule=\"evenodd\" fill-opacity=\"1\"/>\n",
       "<polyline clip-path=\"url(#clip372)\" style=\"stroke:#000000; stroke-linecap:butt; stroke-linejoin:round; stroke-width:4; stroke-opacity:1; fill:none\" points=\"\n",
       "  235.413,1170.23 235.413,1445.72 805.158,1445.72 805.158,1170.23 235.413,1170.23 \n",
       "  \"/>\n",
       "<path clip-path=\"url(#clip372)\" d=\"\n",
       "M235.413 1170.23 L235.413 1445.72 L805.158 1445.72 L805.158 1170.23 L235.413 1170.23 L235.413 1170.23  Z\n",
       "  \" fill=\"#009af9\" fill-rule=\"evenodd\" fill-opacity=\"1\"/>\n",
       "<polyline clip-path=\"url(#clip372)\" style=\"stroke:#000000; stroke-linecap:butt; stroke-linejoin:round; stroke-width:4; stroke-opacity:1; fill:none\" points=\"\n",
       "  235.413,1170.23 235.413,1445.72 805.158,1445.72 805.158,1170.23 235.413,1170.23 \n",
       "  \"/>\n",
       "<path clip-path=\"url(#clip372)\" d=\"\n",
       "M235.413 1189.91 L235.413 1445.72 L805.158 1445.72 L805.158 1189.91 L235.413 1189.91 L235.413 1189.91  Z\n",
       "  \" fill=\"#009af9\" fill-rule=\"evenodd\" fill-opacity=\"1\"/>\n",
       "<polyline clip-path=\"url(#clip372)\" style=\"stroke:#000000; stroke-linecap:butt; stroke-linejoin:round; stroke-width:4; stroke-opacity:1; fill:none\" points=\"\n",
       "  235.413,1189.91 235.413,1445.72 805.158,1445.72 805.158,1189.91 235.413,1189.91 \n",
       "  \"/>\n",
       "<path clip-path=\"url(#clip372)\" d=\"\n",
       "M235.413 1150.55 L235.413 1445.72 L805.158 1445.72 L805.158 1150.55 L235.413 1150.55 L235.413 1150.55  Z\n",
       "  \" fill=\"#009af9\" fill-rule=\"evenodd\" fill-opacity=\"1\"/>\n",
       "<polyline clip-path=\"url(#clip372)\" style=\"stroke:#000000; stroke-linecap:butt; stroke-linejoin:round; stroke-width:4; stroke-opacity:1; fill:none\" points=\"\n",
       "  235.413,1150.55 235.413,1445.72 805.158,1445.72 805.158,1150.55 235.413,1150.55 \n",
       "  \"/>\n",
       "<path clip-path=\"url(#clip372)\" d=\"\n",
       "M235.413 1170.23 L235.413 1445.72 L805.158 1445.72 L805.158 1170.23 L235.413 1170.23 L235.413 1170.23  Z\n",
       "  \" fill=\"#009af9\" fill-rule=\"evenodd\" fill-opacity=\"1\"/>\n",
       "<polyline clip-path=\"url(#clip372)\" style=\"stroke:#000000; stroke-linecap:butt; stroke-linejoin:round; stroke-width:4; stroke-opacity:1; fill:none\" points=\"\n",
       "  235.413,1170.23 235.413,1445.72 805.158,1445.72 805.158,1170.23 235.413,1170.23 \n",
       "  \"/>\n",
       "<path clip-path=\"url(#clip372)\" d=\"\n",
       "M235.413 1111.2 L235.413 1445.72 L805.158 1445.72 L805.158 1111.2 L235.413 1111.2 L235.413 1111.2  Z\n",
       "  \" fill=\"#009af9\" fill-rule=\"evenodd\" fill-opacity=\"1\"/>\n",
       "<polyline clip-path=\"url(#clip372)\" style=\"stroke:#000000; stroke-linecap:butt; stroke-linejoin:round; stroke-width:4; stroke-opacity:1; fill:none\" points=\"\n",
       "  235.413,1111.2 235.413,1445.72 805.158,1445.72 805.158,1111.2 235.413,1111.2 \n",
       "  \"/>\n",
       "<path clip-path=\"url(#clip372)\" d=\"\n",
       "M235.413 1170.23 L235.413 1445.72 L805.158 1445.72 L805.158 1170.23 L235.413 1170.23 L235.413 1170.23  Z\n",
       "  \" fill=\"#009af9\" fill-rule=\"evenodd\" fill-opacity=\"1\"/>\n",
       "<polyline clip-path=\"url(#clip372)\" style=\"stroke:#000000; stroke-linecap:butt; stroke-linejoin:round; stroke-width:4; stroke-opacity:1; fill:none\" points=\"\n",
       "  235.413,1170.23 235.413,1445.72 805.158,1445.72 805.158,1170.23 235.413,1170.23 \n",
       "  \"/>\n",
       "<path clip-path=\"url(#clip372)\" d=\"\n",
       "M235.413 1150.55 L235.413 1445.72 L805.158 1445.72 L805.158 1150.55 L235.413 1150.55 L235.413 1150.55  Z\n",
       "  \" fill=\"#009af9\" fill-rule=\"evenodd\" fill-opacity=\"1\"/>\n",
       "<polyline clip-path=\"url(#clip372)\" style=\"stroke:#000000; stroke-linecap:butt; stroke-linejoin:round; stroke-width:4; stroke-opacity:1; fill:none\" points=\"\n",
       "  235.413,1150.55 235.413,1445.72 805.158,1445.72 805.158,1150.55 235.413,1150.55 \n",
       "  \"/>\n",
       "<path clip-path=\"url(#clip372)\" d=\"\n",
       "M235.413 1170.23 L235.413 1445.72 L805.158 1445.72 L805.158 1170.23 L235.413 1170.23 L235.413 1170.23  Z\n",
       "  \" fill=\"#009af9\" fill-rule=\"evenodd\" fill-opacity=\"1\"/>\n",
       "<polyline clip-path=\"url(#clip372)\" style=\"stroke:#000000; stroke-linecap:butt; stroke-linejoin:round; stroke-width:4; stroke-opacity:1; fill:none\" points=\"\n",
       "  235.413,1170.23 235.413,1445.72 805.158,1445.72 805.158,1170.23 235.413,1170.23 \n",
       "  \"/>\n",
       "<path clip-path=\"url(#clip372)\" d=\"\n",
       "M235.413 1150.55 L235.413 1445.72 L805.158 1445.72 L805.158 1150.55 L235.413 1150.55 L235.413 1150.55  Z\n",
       "  \" fill=\"#009af9\" fill-rule=\"evenodd\" fill-opacity=\"1\"/>\n",
       "<polyline clip-path=\"url(#clip372)\" style=\"stroke:#000000; stroke-linecap:butt; stroke-linejoin:round; stroke-width:4; stroke-opacity:1; fill:none\" points=\"\n",
       "  235.413,1150.55 235.413,1445.72 805.158,1445.72 805.158,1150.55 235.413,1150.55 \n",
       "  \"/>\n",
       "<path clip-path=\"url(#clip372)\" d=\"\n",
       "M235.413 1150.55 L235.413 1445.72 L805.158 1445.72 L805.158 1150.55 L235.413 1150.55 L235.413 1150.55  Z\n",
       "  \" fill=\"#009af9\" fill-rule=\"evenodd\" fill-opacity=\"1\"/>\n",
       "<polyline clip-path=\"url(#clip372)\" style=\"stroke:#000000; stroke-linecap:butt; stroke-linejoin:round; stroke-width:4; stroke-opacity:1; fill:none\" points=\"\n",
       "  235.413,1150.55 235.413,1445.72 805.158,1445.72 805.158,1150.55 235.413,1150.55 \n",
       "  \"/>\n",
       "<path clip-path=\"url(#clip372)\" d=\"\n",
       "M235.413 1130.88 L235.413 1445.72 L805.158 1445.72 L805.158 1130.88 L235.413 1130.88 L235.413 1130.88  Z\n",
       "  \" fill=\"#009af9\" fill-rule=\"evenodd\" fill-opacity=\"1\"/>\n",
       "<polyline clip-path=\"url(#clip372)\" style=\"stroke:#000000; stroke-linecap:butt; stroke-linejoin:round; stroke-width:4; stroke-opacity:1; fill:none\" points=\"\n",
       "  235.413,1130.88 235.413,1445.72 805.158,1445.72 805.158,1130.88 235.413,1130.88 \n",
       "  \"/>\n",
       "<path clip-path=\"url(#clip372)\" d=\"\n",
       "M235.413 1170.23 L235.413 1445.72 L805.158 1445.72 L805.158 1170.23 L235.413 1170.23 L235.413 1170.23  Z\n",
       "  \" fill=\"#009af9\" fill-rule=\"evenodd\" fill-opacity=\"1\"/>\n",
       "<polyline clip-path=\"url(#clip372)\" style=\"stroke:#000000; stroke-linecap:butt; stroke-linejoin:round; stroke-width:4; stroke-opacity:1; fill:none\" points=\"\n",
       "  235.413,1170.23 235.413,1445.72 805.158,1445.72 805.158,1170.23 235.413,1170.23 \n",
       "  \"/>\n",
       "<path clip-path=\"url(#clip372)\" d=\"\n",
       "M235.413 1229.26 L235.413 1445.72 L805.158 1445.72 L805.158 1229.26 L235.413 1229.26 L235.413 1229.26  Z\n",
       "  \" fill=\"#009af9\" fill-rule=\"evenodd\" fill-opacity=\"1\"/>\n",
       "<polyline clip-path=\"url(#clip372)\" style=\"stroke:#000000; stroke-linecap:butt; stroke-linejoin:round; stroke-width:4; stroke-opacity:1; fill:none\" points=\"\n",
       "  235.413,1229.26 235.413,1445.72 805.158,1445.72 805.158,1229.26 235.413,1229.26 \n",
       "  \"/>\n",
       "<path clip-path=\"url(#clip372)\" d=\"\n",
       "M235.413 1209.59 L235.413 1445.72 L805.158 1445.72 L805.158 1209.59 L235.413 1209.59 L235.413 1209.59  Z\n",
       "  \" fill=\"#009af9\" fill-rule=\"evenodd\" fill-opacity=\"1\"/>\n",
       "<polyline clip-path=\"url(#clip372)\" style=\"stroke:#000000; stroke-linecap:butt; stroke-linejoin:round; stroke-width:4; stroke-opacity:1; fill:none\" points=\"\n",
       "  235.413,1209.59 235.413,1445.72 805.158,1445.72 805.158,1209.59 235.413,1209.59 \n",
       "  \"/>\n",
       "<path clip-path=\"url(#clip372)\" d=\"\n",
       "M235.413 1150.55 L235.413 1445.72 L805.158 1445.72 L805.158 1150.55 L235.413 1150.55 L235.413 1150.55  Z\n",
       "  \" fill=\"#009af9\" fill-rule=\"evenodd\" fill-opacity=\"1\"/>\n",
       "<polyline clip-path=\"url(#clip372)\" style=\"stroke:#000000; stroke-linecap:butt; stroke-linejoin:round; stroke-width:4; stroke-opacity:1; fill:none\" points=\"\n",
       "  235.413,1150.55 235.413,1445.72 805.158,1445.72 805.158,1150.55 235.413,1150.55 \n",
       "  \"/>\n",
       "<path clip-path=\"url(#clip372)\" d=\"\n",
       "M235.413 1189.91 L235.413 1445.72 L805.158 1445.72 L805.158 1189.91 L235.413 1189.91 L235.413 1189.91  Z\n",
       "  \" fill=\"#009af9\" fill-rule=\"evenodd\" fill-opacity=\"1\"/>\n",
       "<polyline clip-path=\"url(#clip372)\" style=\"stroke:#000000; stroke-linecap:butt; stroke-linejoin:round; stroke-width:4; stroke-opacity:1; fill:none\" points=\"\n",
       "  235.413,1189.91 235.413,1445.72 805.158,1445.72 805.158,1189.91 235.413,1189.91 \n",
       "  \"/>\n",
       "<path clip-path=\"url(#clip372)\" d=\"\n",
       "M235.413 1170.23 L235.413 1445.72 L805.158 1445.72 L805.158 1170.23 L235.413 1170.23 L235.413 1170.23  Z\n",
       "  \" fill=\"#009af9\" fill-rule=\"evenodd\" fill-opacity=\"1\"/>\n",
       "<polyline clip-path=\"url(#clip372)\" style=\"stroke:#000000; stroke-linecap:butt; stroke-linejoin:round; stroke-width:4; stroke-opacity:1; fill:none\" points=\"\n",
       "  235.413,1170.23 235.413,1445.72 805.158,1445.72 805.158,1170.23 235.413,1170.23 \n",
       "  \"/>\n",
       "<path clip-path=\"url(#clip372)\" d=\"\n",
       "M235.413 1111.2 L235.413 1445.72 L805.158 1445.72 L805.158 1111.2 L235.413 1111.2 L235.413 1111.2  Z\n",
       "  \" fill=\"#009af9\" fill-rule=\"evenodd\" fill-opacity=\"1\"/>\n",
       "<polyline clip-path=\"url(#clip372)\" style=\"stroke:#000000; stroke-linecap:butt; stroke-linejoin:round; stroke-width:4; stroke-opacity:1; fill:none\" points=\"\n",
       "  235.413,1111.2 235.413,1445.72 805.158,1445.72 805.158,1111.2 235.413,1111.2 \n",
       "  \"/>\n",
       "<path clip-path=\"url(#clip372)\" d=\"\n",
       "M235.413 1150.55 L235.413 1445.72 L805.158 1445.72 L805.158 1150.55 L235.413 1150.55 L235.413 1150.55  Z\n",
       "  \" fill=\"#009af9\" fill-rule=\"evenodd\" fill-opacity=\"1\"/>\n",
       "<polyline clip-path=\"url(#clip372)\" style=\"stroke:#000000; stroke-linecap:butt; stroke-linejoin:round; stroke-width:4; stroke-opacity:1; fill:none\" points=\"\n",
       "  235.413,1150.55 235.413,1445.72 805.158,1445.72 805.158,1150.55 235.413,1150.55 \n",
       "  \"/>\n",
       "<path clip-path=\"url(#clip372)\" d=\"\n",
       "M235.413 1111.2 L235.413 1445.72 L805.158 1445.72 L805.158 1111.2 L235.413 1111.2 L235.413 1111.2  Z\n",
       "  \" fill=\"#009af9\" fill-rule=\"evenodd\" fill-opacity=\"1\"/>\n",
       "<polyline clip-path=\"url(#clip372)\" style=\"stroke:#000000; stroke-linecap:butt; stroke-linejoin:round; stroke-width:4; stroke-opacity:1; fill:none\" points=\"\n",
       "  235.413,1111.2 235.413,1445.72 805.158,1445.72 805.158,1111.2 235.413,1111.2 \n",
       "  \"/>\n",
       "<path clip-path=\"url(#clip372)\" d=\"\n",
       "M235.413 1150.55 L235.413 1445.72 L805.158 1445.72 L805.158 1150.55 L235.413 1150.55 L235.413 1150.55  Z\n",
       "  \" fill=\"#009af9\" fill-rule=\"evenodd\" fill-opacity=\"1\"/>\n",
       "<polyline clip-path=\"url(#clip372)\" style=\"stroke:#000000; stroke-linecap:butt; stroke-linejoin:round; stroke-width:4; stroke-opacity:1; fill:none\" points=\"\n",
       "  235.413,1150.55 235.413,1445.72 805.158,1445.72 805.158,1150.55 235.413,1150.55 \n",
       "  \"/>\n",
       "<path clip-path=\"url(#clip372)\" d=\"\n",
       "M235.413 1248.94 L235.413 1445.72 L805.158 1445.72 L805.158 1248.94 L235.413 1248.94 L235.413 1248.94  Z\n",
       "  \" fill=\"#009af9\" fill-rule=\"evenodd\" fill-opacity=\"1\"/>\n",
       "<polyline clip-path=\"url(#clip372)\" style=\"stroke:#000000; stroke-linecap:butt; stroke-linejoin:round; stroke-width:4; stroke-opacity:1; fill:none\" points=\"\n",
       "  235.413,1248.94 235.413,1445.72 805.158,1445.72 805.158,1248.94 235.413,1248.94 \n",
       "  \"/>\n",
       "<path clip-path=\"url(#clip372)\" d=\"\n",
       "M235.413 1111.2 L235.413 1445.72 L805.158 1445.72 L805.158 1111.2 L235.413 1111.2 L235.413 1111.2  Z\n",
       "  \" fill=\"#009af9\" fill-rule=\"evenodd\" fill-opacity=\"1\"/>\n",
       "<polyline clip-path=\"url(#clip372)\" style=\"stroke:#000000; stroke-linecap:butt; stroke-linejoin:round; stroke-width:4; stroke-opacity:1; fill:none\" points=\"\n",
       "  235.413,1111.2 235.413,1445.72 805.158,1445.72 805.158,1111.2 235.413,1111.2 \n",
       "  \"/>\n",
       "<path clip-path=\"url(#clip372)\" d=\"\n",
       "M235.413 1071.85 L235.413 1445.72 L805.158 1445.72 L805.158 1071.85 L235.413 1071.85 L235.413 1071.85  Z\n",
       "  \" fill=\"#009af9\" fill-rule=\"evenodd\" fill-opacity=\"1\"/>\n",
       "<polyline clip-path=\"url(#clip372)\" style=\"stroke:#000000; stroke-linecap:butt; stroke-linejoin:round; stroke-width:4; stroke-opacity:1; fill:none\" points=\"\n",
       "  235.413,1071.85 235.413,1445.72 805.158,1445.72 805.158,1071.85 235.413,1071.85 \n",
       "  \"/>\n",
       "<path clip-path=\"url(#clip372)\" d=\"\n",
       "M235.413 1130.88 L235.413 1445.72 L805.158 1445.72 L805.158 1130.88 L235.413 1130.88 L235.413 1130.88  Z\n",
       "  \" fill=\"#009af9\" fill-rule=\"evenodd\" fill-opacity=\"1\"/>\n",
       "<polyline clip-path=\"url(#clip372)\" style=\"stroke:#000000; stroke-linecap:butt; stroke-linejoin:round; stroke-width:4; stroke-opacity:1; fill:none\" points=\"\n",
       "  235.413,1130.88 235.413,1445.72 805.158,1445.72 805.158,1130.88 235.413,1130.88 \n",
       "  \"/>\n",
       "<path clip-path=\"url(#clip372)\" d=\"\n",
       "M235.413 1130.88 L235.413 1445.72 L805.158 1445.72 L805.158 1130.88 L235.413 1130.88 L235.413 1130.88  Z\n",
       "  \" fill=\"#009af9\" fill-rule=\"evenodd\" fill-opacity=\"1\"/>\n",
       "<polyline clip-path=\"url(#clip372)\" style=\"stroke:#000000; stroke-linecap:butt; stroke-linejoin:round; stroke-width:4; stroke-opacity:1; fill:none\" points=\"\n",
       "  235.413,1130.88 235.413,1445.72 805.158,1445.72 805.158,1130.88 235.413,1130.88 \n",
       "  \"/>\n",
       "<path clip-path=\"url(#clip372)\" d=\"\n",
       "M235.413 1150.55 L235.413 1445.72 L805.158 1445.72 L805.158 1150.55 L235.413 1150.55 L235.413 1150.55  Z\n",
       "  \" fill=\"#009af9\" fill-rule=\"evenodd\" fill-opacity=\"1\"/>\n",
       "<polyline clip-path=\"url(#clip372)\" style=\"stroke:#000000; stroke-linecap:butt; stroke-linejoin:round; stroke-width:4; stroke-opacity:1; fill:none\" points=\"\n",
       "  235.413,1150.55 235.413,1445.72 805.158,1445.72 805.158,1150.55 235.413,1150.55 \n",
       "  \"/>\n",
       "<path clip-path=\"url(#clip372)\" d=\"\n",
       "M235.413 1170.23 L235.413 1445.72 L805.158 1445.72 L805.158 1170.23 L235.413 1170.23 L235.413 1170.23  Z\n",
       "  \" fill=\"#009af9\" fill-rule=\"evenodd\" fill-opacity=\"1\"/>\n",
       "<polyline clip-path=\"url(#clip372)\" style=\"stroke:#000000; stroke-linecap:butt; stroke-linejoin:round; stroke-width:4; stroke-opacity:1; fill:none\" points=\"\n",
       "  235.413,1170.23 235.413,1445.72 805.158,1445.72 805.158,1170.23 235.413,1170.23 \n",
       "  \"/>\n",
       "<path clip-path=\"url(#clip372)\" d=\"\n",
       "M235.413 1130.88 L235.413 1445.72 L805.158 1445.72 L805.158 1130.88 L235.413 1130.88 L235.413 1130.88  Z\n",
       "  \" fill=\"#009af9\" fill-rule=\"evenodd\" fill-opacity=\"1\"/>\n",
       "<polyline clip-path=\"url(#clip372)\" style=\"stroke:#000000; stroke-linecap:butt; stroke-linejoin:round; stroke-width:4; stroke-opacity:1; fill:none\" points=\"\n",
       "  235.413,1130.88 235.413,1445.72 805.158,1445.72 805.158,1130.88 235.413,1130.88 \n",
       "  \"/>\n",
       "<path clip-path=\"url(#clip372)\" d=\"\n",
       "M235.413 1130.88 L235.413 1445.72 L805.158 1445.72 L805.158 1130.88 L235.413 1130.88 L235.413 1130.88  Z\n",
       "  \" fill=\"#009af9\" fill-rule=\"evenodd\" fill-opacity=\"1\"/>\n",
       "<polyline clip-path=\"url(#clip372)\" style=\"stroke:#000000; stroke-linecap:butt; stroke-linejoin:round; stroke-width:4; stroke-opacity:1; fill:none\" points=\"\n",
       "  235.413,1130.88 235.413,1445.72 805.158,1445.72 805.158,1130.88 235.413,1130.88 \n",
       "  \"/>\n",
       "<path clip-path=\"url(#clip372)\" d=\"\n",
       "M235.413 1150.55 L235.413 1445.72 L805.158 1445.72 L805.158 1150.55 L235.413 1150.55 L235.413 1150.55  Z\n",
       "  \" fill=\"#009af9\" fill-rule=\"evenodd\" fill-opacity=\"1\"/>\n",
       "<polyline clip-path=\"url(#clip372)\" style=\"stroke:#000000; stroke-linecap:butt; stroke-linejoin:round; stroke-width:4; stroke-opacity:1; fill:none\" points=\"\n",
       "  235.413,1150.55 235.413,1445.72 805.158,1445.72 805.158,1150.55 235.413,1150.55 \n",
       "  \"/>\n",
       "<path clip-path=\"url(#clip372)\" d=\"\n",
       "M235.413 1150.55 L235.413 1445.72 L805.158 1445.72 L805.158 1150.55 L235.413 1150.55 L235.413 1150.55  Z\n",
       "  \" fill=\"#009af9\" fill-rule=\"evenodd\" fill-opacity=\"1\"/>\n",
       "<polyline clip-path=\"url(#clip372)\" style=\"stroke:#000000; stroke-linecap:butt; stroke-linejoin:round; stroke-width:4; stroke-opacity:1; fill:none\" points=\"\n",
       "  235.413,1150.55 235.413,1445.72 805.158,1445.72 805.158,1150.55 235.413,1150.55 \n",
       "  \"/>\n",
       "<path clip-path=\"url(#clip372)\" d=\"\n",
       "M235.413 1170.23 L235.413 1445.72 L805.158 1445.72 L805.158 1170.23 L235.413 1170.23 L235.413 1170.23  Z\n",
       "  \" fill=\"#009af9\" fill-rule=\"evenodd\" fill-opacity=\"1\"/>\n",
       "<polyline clip-path=\"url(#clip372)\" style=\"stroke:#000000; stroke-linecap:butt; stroke-linejoin:round; stroke-width:4; stroke-opacity:1; fill:none\" points=\"\n",
       "  235.413,1170.23 235.413,1445.72 805.158,1445.72 805.158,1170.23 235.413,1170.23 \n",
       "  \"/>\n",
       "<path clip-path=\"url(#clip372)\" d=\"\n",
       "M235.413 1150.55 L235.413 1445.72 L805.158 1445.72 L805.158 1150.55 L235.413 1150.55 L235.413 1150.55  Z\n",
       "  \" fill=\"#009af9\" fill-rule=\"evenodd\" fill-opacity=\"1\"/>\n",
       "<polyline clip-path=\"url(#clip372)\" style=\"stroke:#000000; stroke-linecap:butt; stroke-linejoin:round; stroke-width:4; stroke-opacity:1; fill:none\" points=\"\n",
       "  235.413,1150.55 235.413,1445.72 805.158,1445.72 805.158,1150.55 235.413,1150.55 \n",
       "  \"/>\n",
       "<path clip-path=\"url(#clip372)\" d=\"\n",
       "M235.413 1209.59 L235.413 1445.72 L805.158 1445.72 L805.158 1209.59 L235.413 1209.59 L235.413 1209.59  Z\n",
       "  \" fill=\"#009af9\" fill-rule=\"evenodd\" fill-opacity=\"1\"/>\n",
       "<polyline clip-path=\"url(#clip372)\" style=\"stroke:#000000; stroke-linecap:butt; stroke-linejoin:round; stroke-width:4; stroke-opacity:1; fill:none\" points=\"\n",
       "  235.413,1209.59 235.413,1445.72 805.158,1445.72 805.158,1209.59 235.413,1209.59 \n",
       "  \"/>\n",
       "<path clip-path=\"url(#clip372)\" d=\"\n",
       "M235.413 1189.91 L235.413 1445.72 L805.158 1445.72 L805.158 1189.91 L235.413 1189.91 L235.413 1189.91  Z\n",
       "  \" fill=\"#009af9\" fill-rule=\"evenodd\" fill-opacity=\"1\"/>\n",
       "<polyline clip-path=\"url(#clip372)\" style=\"stroke:#000000; stroke-linecap:butt; stroke-linejoin:round; stroke-width:4; stroke-opacity:1; fill:none\" points=\"\n",
       "  235.413,1189.91 235.413,1445.72 805.158,1445.72 805.158,1189.91 235.413,1189.91 \n",
       "  \"/>\n",
       "<path clip-path=\"url(#clip372)\" d=\"\n",
       "M235.413 1170.23 L235.413 1445.72 L805.158 1445.72 L805.158 1170.23 L235.413 1170.23 L235.413 1170.23  Z\n",
       "  \" fill=\"#009af9\" fill-rule=\"evenodd\" fill-opacity=\"1\"/>\n",
       "<polyline clip-path=\"url(#clip372)\" style=\"stroke:#000000; stroke-linecap:butt; stroke-linejoin:round; stroke-width:4; stroke-opacity:1; fill:none\" points=\"\n",
       "  235.413,1170.23 235.413,1445.72 805.158,1445.72 805.158,1170.23 235.413,1170.23 \n",
       "  \"/>\n",
       "<path clip-path=\"url(#clip372)\" d=\"\n",
       "M235.413 1189.91 L235.413 1445.72 L805.158 1445.72 L805.158 1189.91 L235.413 1189.91 L235.413 1189.91  Z\n",
       "  \" fill=\"#009af9\" fill-rule=\"evenodd\" fill-opacity=\"1\"/>\n",
       "<polyline clip-path=\"url(#clip372)\" style=\"stroke:#000000; stroke-linecap:butt; stroke-linejoin:round; stroke-width:4; stroke-opacity:1; fill:none\" points=\"\n",
       "  235.413,1189.91 235.413,1445.72 805.158,1445.72 805.158,1189.91 235.413,1189.91 \n",
       "  \"/>\n",
       "<path clip-path=\"url(#clip372)\" d=\"\n",
       "M235.413 1150.55 L235.413 1445.72 L805.158 1445.72 L805.158 1150.55 L235.413 1150.55 L235.413 1150.55  Z\n",
       "  \" fill=\"#009af9\" fill-rule=\"evenodd\" fill-opacity=\"1\"/>\n",
       "<polyline clip-path=\"url(#clip372)\" style=\"stroke:#000000; stroke-linecap:butt; stroke-linejoin:round; stroke-width:4; stroke-opacity:1; fill:none\" points=\"\n",
       "  235.413,1150.55 235.413,1445.72 805.158,1445.72 805.158,1150.55 235.413,1150.55 \n",
       "  \"/>\n",
       "<path clip-path=\"url(#clip372)\" d=\"\n",
       "M235.413 1189.91 L235.413 1445.72 L805.158 1445.72 L805.158 1189.91 L235.413 1189.91 L235.413 1189.91  Z\n",
       "  \" fill=\"#009af9\" fill-rule=\"evenodd\" fill-opacity=\"1\"/>\n",
       "<polyline clip-path=\"url(#clip372)\" style=\"stroke:#000000; stroke-linecap:butt; stroke-linejoin:round; stroke-width:4; stroke-opacity:1; fill:none\" points=\"\n",
       "  235.413,1189.91 235.413,1445.72 805.158,1445.72 805.158,1189.91 235.413,1189.91 \n",
       "  \"/>\n",
       "<path clip-path=\"url(#clip372)\" d=\"\n",
       "M235.413 1189.91 L235.413 1445.72 L805.158 1445.72 L805.158 1189.91 L235.413 1189.91 L235.413 1189.91  Z\n",
       "  \" fill=\"#009af9\" fill-rule=\"evenodd\" fill-opacity=\"1\"/>\n",
       "<polyline clip-path=\"url(#clip372)\" style=\"stroke:#000000; stroke-linecap:butt; stroke-linejoin:round; stroke-width:4; stroke-opacity:1; fill:none\" points=\"\n",
       "  235.413,1189.91 235.413,1445.72 805.158,1445.72 805.158,1189.91 235.413,1189.91 \n",
       "  \"/>\n",
       "<path clip-path=\"url(#clip372)\" d=\"\n",
       "M235.413 1189.91 L235.413 1445.72 L805.158 1445.72 L805.158 1189.91 L235.413 1189.91 L235.413 1189.91  Z\n",
       "  \" fill=\"#009af9\" fill-rule=\"evenodd\" fill-opacity=\"1\"/>\n",
       "<polyline clip-path=\"url(#clip372)\" style=\"stroke:#000000; stroke-linecap:butt; stroke-linejoin:round; stroke-width:4; stroke-opacity:1; fill:none\" points=\"\n",
       "  235.413,1189.91 235.413,1445.72 805.158,1445.72 805.158,1189.91 235.413,1189.91 \n",
       "  \"/>\n",
       "<path clip-path=\"url(#clip372)\" d=\"\n",
       "M235.413 1130.88 L235.413 1445.72 L805.158 1445.72 L805.158 1130.88 L235.413 1130.88 L235.413 1130.88  Z\n",
       "  \" fill=\"#009af9\" fill-rule=\"evenodd\" fill-opacity=\"1\"/>\n",
       "<polyline clip-path=\"url(#clip372)\" style=\"stroke:#000000; stroke-linecap:butt; stroke-linejoin:round; stroke-width:4; stroke-opacity:1; fill:none\" points=\"\n",
       "  235.413,1130.88 235.413,1445.72 805.158,1445.72 805.158,1130.88 235.413,1130.88 \n",
       "  \"/>\n",
       "<path clip-path=\"url(#clip372)\" d=\"\n",
       "M235.413 1071.85 L235.413 1445.72 L805.158 1445.72 L805.158 1071.85 L235.413 1071.85 L235.413 1071.85  Z\n",
       "  \" fill=\"#009af9\" fill-rule=\"evenodd\" fill-opacity=\"1\"/>\n",
       "<polyline clip-path=\"url(#clip372)\" style=\"stroke:#000000; stroke-linecap:butt; stroke-linejoin:round; stroke-width:4; stroke-opacity:1; fill:none\" points=\"\n",
       "  235.413,1071.85 235.413,1445.72 805.158,1445.72 805.158,1071.85 235.413,1071.85 \n",
       "  \"/>\n",
       "<path clip-path=\"url(#clip372)\" d=\"\n",
       "M235.413 1170.23 L235.413 1445.72 L805.158 1445.72 L805.158 1170.23 L235.413 1170.23 L235.413 1170.23  Z\n",
       "  \" fill=\"#009af9\" fill-rule=\"evenodd\" fill-opacity=\"1\"/>\n",
       "<polyline clip-path=\"url(#clip372)\" style=\"stroke:#000000; stroke-linecap:butt; stroke-linejoin:round; stroke-width:4; stroke-opacity:1; fill:none\" points=\"\n",
       "  235.413,1170.23 235.413,1445.72 805.158,1445.72 805.158,1170.23 235.413,1170.23 \n",
       "  \"/>\n",
       "<path clip-path=\"url(#clip372)\" d=\"\n",
       "M235.413 1130.88 L235.413 1445.72 L805.158 1445.72 L805.158 1130.88 L235.413 1130.88 L235.413 1130.88  Z\n",
       "  \" fill=\"#009af9\" fill-rule=\"evenodd\" fill-opacity=\"1\"/>\n",
       "<polyline clip-path=\"url(#clip372)\" style=\"stroke:#000000; stroke-linecap:butt; stroke-linejoin:round; stroke-width:4; stroke-opacity:1; fill:none\" points=\"\n",
       "  235.413,1130.88 235.413,1445.72 805.158,1445.72 805.158,1130.88 235.413,1130.88 \n",
       "  \"/>\n",
       "<path clip-path=\"url(#clip372)\" d=\"\n",
       "M235.413 1170.23 L235.413 1445.72 L805.158 1445.72 L805.158 1170.23 L235.413 1170.23 L235.413 1170.23  Z\n",
       "  \" fill=\"#009af9\" fill-rule=\"evenodd\" fill-opacity=\"1\"/>\n",
       "<polyline clip-path=\"url(#clip372)\" style=\"stroke:#000000; stroke-linecap:butt; stroke-linejoin:round; stroke-width:4; stroke-opacity:1; fill:none\" points=\"\n",
       "  235.413,1170.23 235.413,1445.72 805.158,1445.72 805.158,1170.23 235.413,1170.23 \n",
       "  \"/>\n",
       "<path clip-path=\"url(#clip372)\" d=\"\n",
       "M235.413 1150.55 L235.413 1445.72 L805.158 1445.72 L805.158 1150.55 L235.413 1150.55 L235.413 1150.55  Z\n",
       "  \" fill=\"#009af9\" fill-rule=\"evenodd\" fill-opacity=\"1\"/>\n",
       "<polyline clip-path=\"url(#clip372)\" style=\"stroke:#000000; stroke-linecap:butt; stroke-linejoin:round; stroke-width:4; stroke-opacity:1; fill:none\" points=\"\n",
       "  235.413,1150.55 235.413,1445.72 805.158,1445.72 805.158,1150.55 235.413,1150.55 \n",
       "  \"/>\n",
       "<path clip-path=\"url(#clip372)\" d=\"\n",
       "M235.413 1170.23 L235.413 1445.72 L805.158 1445.72 L805.158 1170.23 L235.413 1170.23 L235.413 1170.23  Z\n",
       "  \" fill=\"#009af9\" fill-rule=\"evenodd\" fill-opacity=\"1\"/>\n",
       "<polyline clip-path=\"url(#clip372)\" style=\"stroke:#000000; stroke-linecap:butt; stroke-linejoin:round; stroke-width:4; stroke-opacity:1; fill:none\" points=\"\n",
       "  235.413,1170.23 235.413,1445.72 805.158,1445.72 805.158,1170.23 235.413,1170.23 \n",
       "  \"/>\n",
       "<path clip-path=\"url(#clip372)\" d=\"\n",
       "M947.594 520.879 L947.594 1445.72 L1517.34 1445.72 L1517.34 520.879 L947.594 520.879 L947.594 520.879  Z\n",
       "  \" fill=\"#009af9\" fill-rule=\"evenodd\" fill-opacity=\"1\"/>\n",
       "<polyline clip-path=\"url(#clip372)\" style=\"stroke:#000000; stroke-linecap:butt; stroke-linejoin:round; stroke-width:4; stroke-opacity:1; fill:none\" points=\"\n",
       "  947.594,520.879 947.594,1445.72 1517.34,1445.72 1517.34,520.879 947.594,520.879 \n",
       "  \"/>\n",
       "<path clip-path=\"url(#clip372)\" d=\"\n",
       "M947.594 560.233 L947.594 1445.72 L1517.34 1445.72 L1517.34 560.233 L947.594 560.233 L947.594 560.233  Z\n",
       "  \" fill=\"#009af9\" fill-rule=\"evenodd\" fill-opacity=\"1\"/>\n",
       "<polyline clip-path=\"url(#clip372)\" style=\"stroke:#000000; stroke-linecap:butt; stroke-linejoin:round; stroke-width:4; stroke-opacity:1; fill:none\" points=\"\n",
       "  947.594,560.233 947.594,1445.72 1517.34,1445.72 1517.34,560.233 947.594,560.233 \n",
       "  \"/>\n",
       "<path clip-path=\"url(#clip372)\" d=\"\n",
       "M947.594 481.524 L947.594 1445.72 L1517.34 1445.72 L1517.34 481.524 L947.594 481.524 L947.594 481.524  Z\n",
       "  \" fill=\"#009af9\" fill-rule=\"evenodd\" fill-opacity=\"1\"/>\n",
       "<polyline clip-path=\"url(#clip372)\" style=\"stroke:#000000; stroke-linecap:butt; stroke-linejoin:round; stroke-width:4; stroke-opacity:1; fill:none\" points=\"\n",
       "  947.594,481.524 947.594,1445.72 1517.34,1445.72 1517.34,481.524 947.594,481.524 \n",
       "  \"/>\n",
       "<path clip-path=\"url(#clip372)\" d=\"\n",
       "M947.594 658.62 L947.594 1445.72 L1517.34 1445.72 L1517.34 658.62 L947.594 658.62 L947.594 658.62  Z\n",
       "  \" fill=\"#009af9\" fill-rule=\"evenodd\" fill-opacity=\"1\"/>\n",
       "<polyline clip-path=\"url(#clip372)\" style=\"stroke:#000000; stroke-linecap:butt; stroke-linejoin:round; stroke-width:4; stroke-opacity:1; fill:none\" points=\"\n",
       "  947.594,658.62 947.594,1445.72 1517.34,1445.72 1517.34,658.62 947.594,658.62 \n",
       "  \"/>\n",
       "<path clip-path=\"url(#clip372)\" d=\"\n",
       "M947.594 540.556 L947.594 1445.72 L1517.34 1445.72 L1517.34 540.556 L947.594 540.556 L947.594 540.556  Z\n",
       "  \" fill=\"#009af9\" fill-rule=\"evenodd\" fill-opacity=\"1\"/>\n",
       "<polyline clip-path=\"url(#clip372)\" style=\"stroke:#000000; stroke-linecap:butt; stroke-linejoin:round; stroke-width:4; stroke-opacity:1; fill:none\" points=\"\n",
       "  947.594,540.556 947.594,1445.72 1517.34,1445.72 1517.34,540.556 947.594,540.556 \n",
       "  \"/>\n",
       "<path clip-path=\"url(#clip372)\" d=\"\n",
       "M947.594 560.233 L947.594 1445.72 L1517.34 1445.72 L1517.34 560.233 L947.594 560.233 L947.594 560.233  Z\n",
       "  \" fill=\"#009af9\" fill-rule=\"evenodd\" fill-opacity=\"1\"/>\n",
       "<polyline clip-path=\"url(#clip372)\" style=\"stroke:#000000; stroke-linecap:butt; stroke-linejoin:round; stroke-width:4; stroke-opacity:1; fill:none\" points=\"\n",
       "  947.594,560.233 947.594,1445.72 1517.34,1445.72 1517.34,560.233 947.594,560.233 \n",
       "  \"/>\n",
       "<path clip-path=\"url(#clip372)\" d=\"\n",
       "M947.594 520.879 L947.594 1445.72 L1517.34 1445.72 L1517.34 520.879 L947.594 520.879 L947.594 520.879  Z\n",
       "  \" fill=\"#009af9\" fill-rule=\"evenodd\" fill-opacity=\"1\"/>\n",
       "<polyline clip-path=\"url(#clip372)\" style=\"stroke:#000000; stroke-linecap:butt; stroke-linejoin:round; stroke-width:4; stroke-opacity:1; fill:none\" points=\"\n",
       "  947.594,520.879 947.594,1445.72 1517.34,1445.72 1517.34,520.879 947.594,520.879 \n",
       "  \"/>\n",
       "<path clip-path=\"url(#clip372)\" d=\"\n",
       "M947.594 796.362 L947.594 1445.72 L1517.34 1445.72 L1517.34 796.362 L947.594 796.362 L947.594 796.362  Z\n",
       "  \" fill=\"#009af9\" fill-rule=\"evenodd\" fill-opacity=\"1\"/>\n",
       "<polyline clip-path=\"url(#clip372)\" style=\"stroke:#000000; stroke-linecap:butt; stroke-linejoin:round; stroke-width:4; stroke-opacity:1; fill:none\" points=\"\n",
       "  947.594,796.362 947.594,1445.72 1517.34,1445.72 1517.34,796.362 947.594,796.362 \n",
       "  \"/>\n",
       "<path clip-path=\"url(#clip372)\" d=\"\n",
       "M947.594 540.556 L947.594 1445.72 L1517.34 1445.72 L1517.34 540.556 L947.594 540.556 L947.594 540.556  Z\n",
       "  \" fill=\"#009af9\" fill-rule=\"evenodd\" fill-opacity=\"1\"/>\n",
       "<polyline clip-path=\"url(#clip372)\" style=\"stroke:#000000; stroke-linecap:butt; stroke-linejoin:round; stroke-width:4; stroke-opacity:1; fill:none\" points=\"\n",
       "  947.594,540.556 947.594,1445.72 1517.34,1445.72 1517.34,540.556 947.594,540.556 \n",
       "  \"/>\n",
       "<path clip-path=\"url(#clip372)\" d=\"\n",
       "M947.594 678.298 L947.594 1445.72 L1517.34 1445.72 L1517.34 678.298 L947.594 678.298 L947.594 678.298  Z\n",
       "  \" fill=\"#009af9\" fill-rule=\"evenodd\" fill-opacity=\"1\"/>\n",
       "<polyline clip-path=\"url(#clip372)\" style=\"stroke:#000000; stroke-linecap:butt; stroke-linejoin:round; stroke-width:4; stroke-opacity:1; fill:none\" points=\"\n",
       "  947.594,678.298 947.594,1445.72 1517.34,1445.72 1517.34,678.298 947.594,678.298 \n",
       "  \"/>\n",
       "<path clip-path=\"url(#clip372)\" d=\"\n",
       "M947.594 757.007 L947.594 1445.72 L1517.34 1445.72 L1517.34 757.007 L947.594 757.007 L947.594 757.007  Z\n",
       "  \" fill=\"#009af9\" fill-rule=\"evenodd\" fill-opacity=\"1\"/>\n",
       "<polyline clip-path=\"url(#clip372)\" style=\"stroke:#000000; stroke-linecap:butt; stroke-linejoin:round; stroke-width:4; stroke-opacity:1; fill:none\" points=\"\n",
       "  947.594,757.007 947.594,1445.72 1517.34,1445.72 1517.34,757.007 947.594,757.007 \n",
       "  \"/>\n",
       "<path clip-path=\"url(#clip372)\" d=\"\n",
       "M947.594 619.266 L947.594 1445.72 L1517.34 1445.72 L1517.34 619.266 L947.594 619.266 L947.594 619.266  Z\n",
       "  \" fill=\"#009af9\" fill-rule=\"evenodd\" fill-opacity=\"1\"/>\n",
       "<polyline clip-path=\"url(#clip372)\" style=\"stroke:#000000; stroke-linecap:butt; stroke-linejoin:round; stroke-width:4; stroke-opacity:1; fill:none\" points=\"\n",
       "  947.594,619.266 947.594,1445.72 1517.34,1445.72 1517.34,619.266 947.594,619.266 \n",
       "  \"/>\n",
       "<path clip-path=\"url(#clip372)\" d=\"\n",
       "M947.594 658.62 L947.594 1445.72 L1517.34 1445.72 L1517.34 658.62 L947.594 658.62 L947.594 658.62  Z\n",
       "  \" fill=\"#009af9\" fill-rule=\"evenodd\" fill-opacity=\"1\"/>\n",
       "<polyline clip-path=\"url(#clip372)\" style=\"stroke:#000000; stroke-linecap:butt; stroke-linejoin:round; stroke-width:4; stroke-opacity:1; fill:none\" points=\"\n",
       "  947.594,658.62 947.594,1445.72 1517.34,1445.72 1517.34,658.62 947.594,658.62 \n",
       "  \"/>\n",
       "<path clip-path=\"url(#clip372)\" d=\"\n",
       "M947.594 520.879 L947.594 1445.72 L1517.34 1445.72 L1517.34 520.879 L947.594 520.879 L947.594 520.879  Z\n",
       "  \" fill=\"#009af9\" fill-rule=\"evenodd\" fill-opacity=\"1\"/>\n",
       "<polyline clip-path=\"url(#clip372)\" style=\"stroke:#000000; stroke-linecap:butt; stroke-linejoin:round; stroke-width:4; stroke-opacity:1; fill:none\" points=\"\n",
       "  947.594,520.879 947.594,1445.72 1517.34,1445.72 1517.34,520.879 947.594,520.879 \n",
       "  \"/>\n",
       "<path clip-path=\"url(#clip372)\" d=\"\n",
       "M947.594 737.33 L947.594 1445.72 L1517.34 1445.72 L1517.34 737.33 L947.594 737.33 L947.594 737.33  Z\n",
       "  \" fill=\"#009af9\" fill-rule=\"evenodd\" fill-opacity=\"1\"/>\n",
       "<polyline clip-path=\"url(#clip372)\" style=\"stroke:#000000; stroke-linecap:butt; stroke-linejoin:round; stroke-width:4; stroke-opacity:1; fill:none\" points=\"\n",
       "  947.594,737.33 947.594,1445.72 1517.34,1445.72 1517.34,737.33 947.594,737.33 \n",
       "  \"/>\n",
       "<path clip-path=\"url(#clip372)\" d=\"\n",
       "M947.594 579.911 L947.594 1445.72 L1517.34 1445.72 L1517.34 579.911 L947.594 579.911 L947.594 579.911  Z\n",
       "  \" fill=\"#009af9\" fill-rule=\"evenodd\" fill-opacity=\"1\"/>\n",
       "<polyline clip-path=\"url(#clip372)\" style=\"stroke:#000000; stroke-linecap:butt; stroke-linejoin:round; stroke-width:4; stroke-opacity:1; fill:none\" points=\"\n",
       "  947.594,579.911 947.594,1445.72 1517.34,1445.72 1517.34,579.911 947.594,579.911 \n",
       "  \"/>\n",
       "<path clip-path=\"url(#clip372)\" d=\"\n",
       "M947.594 560.233 L947.594 1445.72 L1517.34 1445.72 L1517.34 560.233 L947.594 560.233 L947.594 560.233  Z\n",
       "  \" fill=\"#009af9\" fill-rule=\"evenodd\" fill-opacity=\"1\"/>\n",
       "<polyline clip-path=\"url(#clip372)\" style=\"stroke:#000000; stroke-linecap:butt; stroke-linejoin:round; stroke-width:4; stroke-opacity:1; fill:none\" points=\"\n",
       "  947.594,560.233 947.594,1445.72 1517.34,1445.72 1517.34,560.233 947.594,560.233 \n",
       "  \"/>\n",
       "<path clip-path=\"url(#clip372)\" d=\"\n",
       "M947.594 638.943 L947.594 1445.72 L1517.34 1445.72 L1517.34 638.943 L947.594 638.943 L947.594 638.943  Z\n",
       "  \" fill=\"#009af9\" fill-rule=\"evenodd\" fill-opacity=\"1\"/>\n",
       "<polyline clip-path=\"url(#clip372)\" style=\"stroke:#000000; stroke-linecap:butt; stroke-linejoin:round; stroke-width:4; stroke-opacity:1; fill:none\" points=\"\n",
       "  947.594,638.943 947.594,1445.72 1517.34,1445.72 1517.34,638.943 947.594,638.943 \n",
       "  \"/>\n",
       "<path clip-path=\"url(#clip372)\" d=\"\n",
       "M947.594 560.233 L947.594 1445.72 L1517.34 1445.72 L1517.34 560.233 L947.594 560.233 L947.594 560.233  Z\n",
       "  \" fill=\"#009af9\" fill-rule=\"evenodd\" fill-opacity=\"1\"/>\n",
       "<polyline clip-path=\"url(#clip372)\" style=\"stroke:#000000; stroke-linecap:butt; stroke-linejoin:round; stroke-width:4; stroke-opacity:1; fill:none\" points=\"\n",
       "  947.594,560.233 947.594,1445.72 1517.34,1445.72 1517.34,560.233 947.594,560.233 \n",
       "  \"/>\n",
       "<path clip-path=\"url(#clip372)\" d=\"\n",
       "M947.594 678.298 L947.594 1445.72 L1517.34 1445.72 L1517.34 678.298 L947.594 678.298 L947.594 678.298  Z\n",
       "  \" fill=\"#009af9\" fill-rule=\"evenodd\" fill-opacity=\"1\"/>\n",
       "<polyline clip-path=\"url(#clip372)\" style=\"stroke:#000000; stroke-linecap:butt; stroke-linejoin:round; stroke-width:4; stroke-opacity:1; fill:none\" points=\"\n",
       "  947.594,678.298 947.594,1445.72 1517.34,1445.72 1517.34,678.298 947.594,678.298 \n",
       "  \"/>\n",
       "<path clip-path=\"url(#clip372)\" d=\"\n",
       "M947.594 501.201 L947.594 1445.72 L1517.34 1445.72 L1517.34 501.201 L947.594 501.201 L947.594 501.201  Z\n",
       "  \" fill=\"#009af9\" fill-rule=\"evenodd\" fill-opacity=\"1\"/>\n",
       "<polyline clip-path=\"url(#clip372)\" style=\"stroke:#000000; stroke-linecap:butt; stroke-linejoin:round; stroke-width:4; stroke-opacity:1; fill:none\" points=\"\n",
       "  947.594,501.201 947.594,1445.72 1517.34,1445.72 1517.34,501.201 947.594,501.201 \n",
       "  \"/>\n",
       "<path clip-path=\"url(#clip372)\" d=\"\n",
       "M947.594 658.62 L947.594 1445.72 L1517.34 1445.72 L1517.34 658.62 L947.594 658.62 L947.594 658.62  Z\n",
       "  \" fill=\"#009af9\" fill-rule=\"evenodd\" fill-opacity=\"1\"/>\n",
       "<polyline clip-path=\"url(#clip372)\" style=\"stroke:#000000; stroke-linecap:butt; stroke-linejoin:round; stroke-width:4; stroke-opacity:1; fill:none\" points=\"\n",
       "  947.594,658.62 947.594,1445.72 1517.34,1445.72 1517.34,658.62 947.594,658.62 \n",
       "  \"/>\n",
       "<path clip-path=\"url(#clip372)\" d=\"\n",
       "M947.594 481.524 L947.594 1445.72 L1517.34 1445.72 L1517.34 481.524 L947.594 481.524 L947.594 481.524  Z\n",
       "  \" fill=\"#009af9\" fill-rule=\"evenodd\" fill-opacity=\"1\"/>\n",
       "<polyline clip-path=\"url(#clip372)\" style=\"stroke:#000000; stroke-linecap:butt; stroke-linejoin:round; stroke-width:4; stroke-opacity:1; fill:none\" points=\"\n",
       "  947.594,481.524 947.594,1445.72 1517.34,1445.72 1517.34,481.524 947.594,481.524 \n",
       "  \"/>\n",
       "<path clip-path=\"url(#clip372)\" d=\"\n",
       "M947.594 520.879 L947.594 1445.72 L1517.34 1445.72 L1517.34 520.879 L947.594 520.879 L947.594 520.879  Z\n",
       "  \" fill=\"#009af9\" fill-rule=\"evenodd\" fill-opacity=\"1\"/>\n",
       "<polyline clip-path=\"url(#clip372)\" style=\"stroke:#000000; stroke-linecap:butt; stroke-linejoin:round; stroke-width:4; stroke-opacity:1; fill:none\" points=\"\n",
       "  947.594,520.879 947.594,1445.72 1517.34,1445.72 1517.34,520.879 947.594,520.879 \n",
       "  \"/>\n",
       "<path clip-path=\"url(#clip372)\" d=\"\n",
       "M947.594 599.588 L947.594 1445.72 L1517.34 1445.72 L1517.34 599.588 L947.594 599.588 L947.594 599.588  Z\n",
       "  \" fill=\"#009af9\" fill-rule=\"evenodd\" fill-opacity=\"1\"/>\n",
       "<polyline clip-path=\"url(#clip372)\" style=\"stroke:#000000; stroke-linecap:butt; stroke-linejoin:round; stroke-width:4; stroke-opacity:1; fill:none\" points=\"\n",
       "  947.594,599.588 947.594,1445.72 1517.34,1445.72 1517.34,599.588 947.594,599.588 \n",
       "  \"/>\n",
       "<path clip-path=\"url(#clip372)\" d=\"\n",
       "M947.594 579.911 L947.594 1445.72 L1517.34 1445.72 L1517.34 579.911 L947.594 579.911 L947.594 579.911  Z\n",
       "  \" fill=\"#009af9\" fill-rule=\"evenodd\" fill-opacity=\"1\"/>\n",
       "<polyline clip-path=\"url(#clip372)\" style=\"stroke:#000000; stroke-linecap:butt; stroke-linejoin:round; stroke-width:4; stroke-opacity:1; fill:none\" points=\"\n",
       "  947.594,579.911 947.594,1445.72 1517.34,1445.72 1517.34,579.911 947.594,579.911 \n",
       "  \"/>\n",
       "<path clip-path=\"url(#clip372)\" d=\"\n",
       "M947.594 501.201 L947.594 1445.72 L1517.34 1445.72 L1517.34 501.201 L947.594 501.201 L947.594 501.201  Z\n",
       "  \" fill=\"#009af9\" fill-rule=\"evenodd\" fill-opacity=\"1\"/>\n",
       "<polyline clip-path=\"url(#clip372)\" style=\"stroke:#000000; stroke-linecap:butt; stroke-linejoin:round; stroke-width:4; stroke-opacity:1; fill:none\" points=\"\n",
       "  947.594,501.201 947.594,1445.72 1517.34,1445.72 1517.34,501.201 947.594,501.201 \n",
       "  \"/>\n",
       "<path clip-path=\"url(#clip372)\" d=\"\n",
       "M947.594 461.847 L947.594 1445.72 L1517.34 1445.72 L1517.34 461.847 L947.594 461.847 L947.594 461.847  Z\n",
       "  \" fill=\"#009af9\" fill-rule=\"evenodd\" fill-opacity=\"1\"/>\n",
       "<polyline clip-path=\"url(#clip372)\" style=\"stroke:#000000; stroke-linecap:butt; stroke-linejoin:round; stroke-width:4; stroke-opacity:1; fill:none\" points=\"\n",
       "  947.594,461.847 947.594,1445.72 1517.34,1445.72 1517.34,461.847 947.594,461.847 \n",
       "  \"/>\n",
       "<path clip-path=\"url(#clip372)\" d=\"\n",
       "M947.594 560.233 L947.594 1445.72 L1517.34 1445.72 L1517.34 560.233 L947.594 560.233 L947.594 560.233  Z\n",
       "  \" fill=\"#009af9\" fill-rule=\"evenodd\" fill-opacity=\"1\"/>\n",
       "<polyline clip-path=\"url(#clip372)\" style=\"stroke:#000000; stroke-linecap:butt; stroke-linejoin:round; stroke-width:4; stroke-opacity:1; fill:none\" points=\"\n",
       "  947.594,560.233 947.594,1445.72 1517.34,1445.72 1517.34,560.233 947.594,560.233 \n",
       "  \"/>\n",
       "<path clip-path=\"url(#clip372)\" d=\"\n",
       "M947.594 757.007 L947.594 1445.72 L1517.34 1445.72 L1517.34 757.007 L947.594 757.007 L947.594 757.007  Z\n",
       "  \" fill=\"#009af9\" fill-rule=\"evenodd\" fill-opacity=\"1\"/>\n",
       "<polyline clip-path=\"url(#clip372)\" style=\"stroke:#000000; stroke-linecap:butt; stroke-linejoin:round; stroke-width:4; stroke-opacity:1; fill:none\" points=\"\n",
       "  947.594,757.007 947.594,1445.72 1517.34,1445.72 1517.34,757.007 947.594,757.007 \n",
       "  \"/>\n",
       "<path clip-path=\"url(#clip372)\" d=\"\n",
       "M947.594 697.975 L947.594 1445.72 L1517.34 1445.72 L1517.34 697.975 L947.594 697.975 L947.594 697.975  Z\n",
       "  \" fill=\"#009af9\" fill-rule=\"evenodd\" fill-opacity=\"1\"/>\n",
       "<polyline clip-path=\"url(#clip372)\" style=\"stroke:#000000; stroke-linecap:butt; stroke-linejoin:round; stroke-width:4; stroke-opacity:1; fill:none\" points=\"\n",
       "  947.594,697.975 947.594,1445.72 1517.34,1445.72 1517.34,697.975 947.594,697.975 \n",
       "  \"/>\n",
       "<path clip-path=\"url(#clip372)\" d=\"\n",
       "M947.594 717.653 L947.594 1445.72 L1517.34 1445.72 L1517.34 717.653 L947.594 717.653 L947.594 717.653  Z\n",
       "  \" fill=\"#009af9\" fill-rule=\"evenodd\" fill-opacity=\"1\"/>\n",
       "<polyline clip-path=\"url(#clip372)\" style=\"stroke:#000000; stroke-linecap:butt; stroke-linejoin:round; stroke-width:4; stroke-opacity:1; fill:none\" points=\"\n",
       "  947.594,717.653 947.594,1445.72 1517.34,1445.72 1517.34,717.653 947.594,717.653 \n",
       "  \"/>\n",
       "<path clip-path=\"url(#clip372)\" d=\"\n",
       "M947.594 678.298 L947.594 1445.72 L1517.34 1445.72 L1517.34 678.298 L947.594 678.298 L947.594 678.298  Z\n",
       "  \" fill=\"#009af9\" fill-rule=\"evenodd\" fill-opacity=\"1\"/>\n",
       "<polyline clip-path=\"url(#clip372)\" style=\"stroke:#000000; stroke-linecap:butt; stroke-linejoin:round; stroke-width:4; stroke-opacity:1; fill:none\" points=\"\n",
       "  947.594,678.298 947.594,1445.72 1517.34,1445.72 1517.34,678.298 947.594,678.298 \n",
       "  \"/>\n",
       "<path clip-path=\"url(#clip372)\" d=\"\n",
       "M947.594 442.169 L947.594 1445.72 L1517.34 1445.72 L1517.34 442.169 L947.594 442.169 L947.594 442.169  Z\n",
       "  \" fill=\"#009af9\" fill-rule=\"evenodd\" fill-opacity=\"1\"/>\n",
       "<polyline clip-path=\"url(#clip372)\" style=\"stroke:#000000; stroke-linecap:butt; stroke-linejoin:round; stroke-width:4; stroke-opacity:1; fill:none\" points=\"\n",
       "  947.594,442.169 947.594,1445.72 1517.34,1445.72 1517.34,442.169 947.594,442.169 \n",
       "  \"/>\n",
       "<path clip-path=\"url(#clip372)\" d=\"\n",
       "M947.594 560.233 L947.594 1445.72 L1517.34 1445.72 L1517.34 560.233 L947.594 560.233 L947.594 560.233  Z\n",
       "  \" fill=\"#009af9\" fill-rule=\"evenodd\" fill-opacity=\"1\"/>\n",
       "<polyline clip-path=\"url(#clip372)\" style=\"stroke:#000000; stroke-linecap:butt; stroke-linejoin:round; stroke-width:4; stroke-opacity:1; fill:none\" points=\"\n",
       "  947.594,560.233 947.594,1445.72 1517.34,1445.72 1517.34,560.233 947.594,560.233 \n",
       "  \"/>\n",
       "<path clip-path=\"url(#clip372)\" d=\"\n",
       "M947.594 560.233 L947.594 1445.72 L1517.34 1445.72 L1517.34 560.233 L947.594 560.233 L947.594 560.233  Z\n",
       "  \" fill=\"#009af9\" fill-rule=\"evenodd\" fill-opacity=\"1\"/>\n",
       "<polyline clip-path=\"url(#clip372)\" style=\"stroke:#000000; stroke-linecap:butt; stroke-linejoin:round; stroke-width:4; stroke-opacity:1; fill:none\" points=\"\n",
       "  947.594,560.233 947.594,1445.72 1517.34,1445.72 1517.34,560.233 947.594,560.233 \n",
       "  \"/>\n",
       "<path clip-path=\"url(#clip372)\" d=\"\n",
       "M947.594 520.879 L947.594 1445.72 L1517.34 1445.72 L1517.34 520.879 L947.594 520.879 L947.594 520.879  Z\n",
       "  \" fill=\"#009af9\" fill-rule=\"evenodd\" fill-opacity=\"1\"/>\n",
       "<polyline clip-path=\"url(#clip372)\" style=\"stroke:#000000; stroke-linecap:butt; stroke-linejoin:round; stroke-width:4; stroke-opacity:1; fill:none\" points=\"\n",
       "  947.594,520.879 947.594,1445.72 1517.34,1445.72 1517.34,520.879 947.594,520.879 \n",
       "  \"/>\n",
       "<path clip-path=\"url(#clip372)\" d=\"\n",
       "M947.594 579.911 L947.594 1445.72 L1517.34 1445.72 L1517.34 579.911 L947.594 579.911 L947.594 579.911  Z\n",
       "  \" fill=\"#009af9\" fill-rule=\"evenodd\" fill-opacity=\"1\"/>\n",
       "<polyline clip-path=\"url(#clip372)\" style=\"stroke:#000000; stroke-linecap:butt; stroke-linejoin:round; stroke-width:4; stroke-opacity:1; fill:none\" points=\"\n",
       "  947.594,579.911 947.594,1445.72 1517.34,1445.72 1517.34,579.911 947.594,579.911 \n",
       "  \"/>\n",
       "<path clip-path=\"url(#clip372)\" d=\"\n",
       "M947.594 638.943 L947.594 1445.72 L1517.34 1445.72 L1517.34 638.943 L947.594 638.943 L947.594 638.943  Z\n",
       "  \" fill=\"#009af9\" fill-rule=\"evenodd\" fill-opacity=\"1\"/>\n",
       "<polyline clip-path=\"url(#clip372)\" style=\"stroke:#000000; stroke-linecap:butt; stroke-linejoin:round; stroke-width:4; stroke-opacity:1; fill:none\" points=\"\n",
       "  947.594,638.943 947.594,1445.72 1517.34,1445.72 1517.34,638.943 947.594,638.943 \n",
       "  \"/>\n",
       "<path clip-path=\"url(#clip372)\" d=\"\n",
       "M947.594 658.62 L947.594 1445.72 L1517.34 1445.72 L1517.34 658.62 L947.594 658.62 L947.594 658.62  Z\n",
       "  \" fill=\"#009af9\" fill-rule=\"evenodd\" fill-opacity=\"1\"/>\n",
       "<polyline clip-path=\"url(#clip372)\" style=\"stroke:#000000; stroke-linecap:butt; stroke-linejoin:round; stroke-width:4; stroke-opacity:1; fill:none\" points=\"\n",
       "  947.594,658.62 947.594,1445.72 1517.34,1445.72 1517.34,658.62 947.594,658.62 \n",
       "  \"/>\n",
       "<path clip-path=\"url(#clip372)\" d=\"\n",
       "M947.594 579.911 L947.594 1445.72 L1517.34 1445.72 L1517.34 579.911 L947.594 579.911 L947.594 579.911  Z\n",
       "  \" fill=\"#009af9\" fill-rule=\"evenodd\" fill-opacity=\"1\"/>\n",
       "<polyline clip-path=\"url(#clip372)\" style=\"stroke:#000000; stroke-linecap:butt; stroke-linejoin:round; stroke-width:4; stroke-opacity:1; fill:none\" points=\"\n",
       "  947.594,579.911 947.594,1445.72 1517.34,1445.72 1517.34,579.911 947.594,579.911 \n",
       "  \"/>\n",
       "<path clip-path=\"url(#clip372)\" d=\"\n",
       "M947.594 540.556 L947.594 1445.72 L1517.34 1445.72 L1517.34 540.556 L947.594 540.556 L947.594 540.556  Z\n",
       "  \" fill=\"#009af9\" fill-rule=\"evenodd\" fill-opacity=\"1\"/>\n",
       "<polyline clip-path=\"url(#clip372)\" style=\"stroke:#000000; stroke-linecap:butt; stroke-linejoin:round; stroke-width:4; stroke-opacity:1; fill:none\" points=\"\n",
       "  947.594,540.556 947.594,1445.72 1517.34,1445.72 1517.34,540.556 947.594,540.556 \n",
       "  \"/>\n",
       "<path clip-path=\"url(#clip372)\" d=\"\n",
       "M947.594 658.62 L947.594 1445.72 L1517.34 1445.72 L1517.34 658.62 L947.594 658.62 L947.594 658.62  Z\n",
       "  \" fill=\"#009af9\" fill-rule=\"evenodd\" fill-opacity=\"1\"/>\n",
       "<polyline clip-path=\"url(#clip372)\" style=\"stroke:#000000; stroke-linecap:butt; stroke-linejoin:round; stroke-width:4; stroke-opacity:1; fill:none\" points=\"\n",
       "  947.594,658.62 947.594,1445.72 1517.34,1445.72 1517.34,658.62 947.594,658.62 \n",
       "  \"/>\n",
       "<path clip-path=\"url(#clip372)\" d=\"\n",
       "M947.594 796.362 L947.594 1445.72 L1517.34 1445.72 L1517.34 796.362 L947.594 796.362 L947.594 796.362  Z\n",
       "  \" fill=\"#009af9\" fill-rule=\"evenodd\" fill-opacity=\"1\"/>\n",
       "<polyline clip-path=\"url(#clip372)\" style=\"stroke:#000000; stroke-linecap:butt; stroke-linejoin:round; stroke-width:4; stroke-opacity:1; fill:none\" points=\"\n",
       "  947.594,796.362 947.594,1445.72 1517.34,1445.72 1517.34,796.362 947.594,796.362 \n",
       "  \"/>\n",
       "<path clip-path=\"url(#clip372)\" d=\"\n",
       "M947.594 619.266 L947.594 1445.72 L1517.34 1445.72 L1517.34 619.266 L947.594 619.266 L947.594 619.266  Z\n",
       "  \" fill=\"#009af9\" fill-rule=\"evenodd\" fill-opacity=\"1\"/>\n",
       "<polyline clip-path=\"url(#clip372)\" style=\"stroke:#000000; stroke-linecap:butt; stroke-linejoin:round; stroke-width:4; stroke-opacity:1; fill:none\" points=\"\n",
       "  947.594,619.266 947.594,1445.72 1517.34,1445.72 1517.34,619.266 947.594,619.266 \n",
       "  \"/>\n",
       "<path clip-path=\"url(#clip372)\" d=\"\n",
       "M947.594 619.266 L947.594 1445.72 L1517.34 1445.72 L1517.34 619.266 L947.594 619.266 L947.594 619.266  Z\n",
       "  \" fill=\"#009af9\" fill-rule=\"evenodd\" fill-opacity=\"1\"/>\n",
       "<polyline clip-path=\"url(#clip372)\" style=\"stroke:#000000; stroke-linecap:butt; stroke-linejoin:round; stroke-width:4; stroke-opacity:1; fill:none\" points=\"\n",
       "  947.594,619.266 947.594,1445.72 1517.34,1445.72 1517.34,619.266 947.594,619.266 \n",
       "  \"/>\n",
       "<path clip-path=\"url(#clip372)\" d=\"\n",
       "M947.594 619.266 L947.594 1445.72 L1517.34 1445.72 L1517.34 619.266 L947.594 619.266 L947.594 619.266  Z\n",
       "  \" fill=\"#009af9\" fill-rule=\"evenodd\" fill-opacity=\"1\"/>\n",
       "<polyline clip-path=\"url(#clip372)\" style=\"stroke:#000000; stroke-linecap:butt; stroke-linejoin:round; stroke-width:4; stroke-opacity:1; fill:none\" points=\"\n",
       "  947.594,619.266 947.594,1445.72 1517.34,1445.72 1517.34,619.266 947.594,619.266 \n",
       "  \"/>\n",
       "<path clip-path=\"url(#clip372)\" d=\"\n",
       "M947.594 599.588 L947.594 1445.72 L1517.34 1445.72 L1517.34 599.588 L947.594 599.588 L947.594 599.588  Z\n",
       "  \" fill=\"#009af9\" fill-rule=\"evenodd\" fill-opacity=\"1\"/>\n",
       "<polyline clip-path=\"url(#clip372)\" style=\"stroke:#000000; stroke-linecap:butt; stroke-linejoin:round; stroke-width:4; stroke-opacity:1; fill:none\" points=\"\n",
       "  947.594,599.588 947.594,1445.72 1517.34,1445.72 1517.34,599.588 947.594,599.588 \n",
       "  \"/>\n",
       "<path clip-path=\"url(#clip372)\" d=\"\n",
       "M947.594 855.394 L947.594 1445.72 L1517.34 1445.72 L1517.34 855.394 L947.594 855.394 L947.594 855.394  Z\n",
       "  \" fill=\"#009af9\" fill-rule=\"evenodd\" fill-opacity=\"1\"/>\n",
       "<polyline clip-path=\"url(#clip372)\" style=\"stroke:#000000; stroke-linecap:butt; stroke-linejoin:round; stroke-width:4; stroke-opacity:1; fill:none\" points=\"\n",
       "  947.594,855.394 947.594,1445.72 1517.34,1445.72 1517.34,855.394 947.594,855.394 \n",
       "  \"/>\n",
       "<path clip-path=\"url(#clip372)\" d=\"\n",
       "M947.594 638.943 L947.594 1445.72 L1517.34 1445.72 L1517.34 638.943 L947.594 638.943 L947.594 638.943  Z\n",
       "  \" fill=\"#009af9\" fill-rule=\"evenodd\" fill-opacity=\"1\"/>\n",
       "<polyline clip-path=\"url(#clip372)\" style=\"stroke:#000000; stroke-linecap:butt; stroke-linejoin:round; stroke-width:4; stroke-opacity:1; fill:none\" points=\"\n",
       "  947.594,638.943 947.594,1445.72 1517.34,1445.72 1517.34,638.943 947.594,638.943 \n",
       "  \"/>\n",
       "<path clip-path=\"url(#clip372)\" d=\"\n",
       "M1659.78 265.073 L1659.78 1445.72 L2229.52 1445.72 L2229.52 265.073 L1659.78 265.073 L1659.78 265.073  Z\n",
       "  \" fill=\"#009af9\" fill-rule=\"evenodd\" fill-opacity=\"1\"/>\n",
       "<polyline clip-path=\"url(#clip372)\" style=\"stroke:#000000; stroke-linecap:butt; stroke-linejoin:round; stroke-width:4; stroke-opacity:1; fill:none\" points=\"\n",
       "  1659.78,265.073 1659.78,1445.72 2229.52,1445.72 2229.52,265.073 1659.78,265.073 \n",
       "  \"/>\n",
       "<path clip-path=\"url(#clip372)\" d=\"\n",
       "M1659.78 442.169 L1659.78 1445.72 L2229.52 1445.72 L2229.52 442.169 L1659.78 442.169 L1659.78 442.169  Z\n",
       "  \" fill=\"#009af9\" fill-rule=\"evenodd\" fill-opacity=\"1\"/>\n",
       "<polyline clip-path=\"url(#clip372)\" style=\"stroke:#000000; stroke-linecap:butt; stroke-linejoin:round; stroke-width:4; stroke-opacity:1; fill:none\" points=\"\n",
       "  1659.78,442.169 1659.78,1445.72 2229.52,1445.72 2229.52,442.169 1659.78,442.169 \n",
       "  \"/>\n",
       "<path clip-path=\"url(#clip372)\" d=\"\n",
       "M1659.78 284.75 L1659.78 1445.72 L2229.52 1445.72 L2229.52 284.75 L1659.78 284.75 L1659.78 284.75  Z\n",
       "  \" fill=\"#009af9\" fill-rule=\"evenodd\" fill-opacity=\"1\"/>\n",
       "<polyline clip-path=\"url(#clip372)\" style=\"stroke:#000000; stroke-linecap:butt; stroke-linejoin:round; stroke-width:4; stroke-opacity:1; fill:none\" points=\"\n",
       "  1659.78,284.75 1659.78,1445.72 2229.52,1445.72 2229.52,284.75 1659.78,284.75 \n",
       "  \"/>\n",
       "<path clip-path=\"url(#clip372)\" d=\"\n",
       "M1659.78 343.782 L1659.78 1445.72 L2229.52 1445.72 L2229.52 343.782 L1659.78 343.782 L1659.78 343.782  Z\n",
       "  \" fill=\"#009af9\" fill-rule=\"evenodd\" fill-opacity=\"1\"/>\n",
       "<polyline clip-path=\"url(#clip372)\" style=\"stroke:#000000; stroke-linecap:butt; stroke-linejoin:round; stroke-width:4; stroke-opacity:1; fill:none\" points=\"\n",
       "  1659.78,343.782 1659.78,1445.72 2229.52,1445.72 2229.52,343.782 1659.78,343.782 \n",
       "  \"/>\n",
       "<path clip-path=\"url(#clip372)\" d=\"\n",
       "M1659.78 304.427 L1659.78 1445.72 L2229.52 1445.72 L2229.52 304.427 L1659.78 304.427 L1659.78 304.427  Z\n",
       "  \" fill=\"#009af9\" fill-rule=\"evenodd\" fill-opacity=\"1\"/>\n",
       "<polyline clip-path=\"url(#clip372)\" style=\"stroke:#000000; stroke-linecap:butt; stroke-linejoin:round; stroke-width:4; stroke-opacity:1; fill:none\" points=\"\n",
       "  1659.78,304.427 1659.78,1445.72 2229.52,1445.72 2229.52,304.427 1659.78,304.427 \n",
       "  \"/>\n",
       "<path clip-path=\"url(#clip372)\" d=\"\n",
       "M1659.78 147.008 L1659.78 1445.72 L2229.52 1445.72 L2229.52 147.008 L1659.78 147.008 L1659.78 147.008  Z\n",
       "  \" fill=\"#009af9\" fill-rule=\"evenodd\" fill-opacity=\"1\"/>\n",
       "<polyline clip-path=\"url(#clip372)\" style=\"stroke:#000000; stroke-linecap:butt; stroke-linejoin:round; stroke-width:4; stroke-opacity:1; fill:none\" points=\"\n",
       "  1659.78,147.008 1659.78,1445.72 2229.52,1445.72 2229.52,147.008 1659.78,147.008 \n",
       "  \"/>\n",
       "<path clip-path=\"url(#clip372)\" d=\"\n",
       "M1659.78 560.233 L1659.78 1445.72 L2229.52 1445.72 L2229.52 560.233 L1659.78 560.233 L1659.78 560.233  Z\n",
       "  \" fill=\"#009af9\" fill-rule=\"evenodd\" fill-opacity=\"1\"/>\n",
       "<polyline clip-path=\"url(#clip372)\" style=\"stroke:#000000; stroke-linecap:butt; stroke-linejoin:round; stroke-width:4; stroke-opacity:1; fill:none\" points=\"\n",
       "  1659.78,560.233 1659.78,1445.72 2229.52,1445.72 2229.52,560.233 1659.78,560.233 \n",
       "  \"/>\n",
       "<path clip-path=\"url(#clip372)\" d=\"\n",
       "M1659.78 206.041 L1659.78 1445.72 L2229.52 1445.72 L2229.52 206.041 L1659.78 206.041 L1659.78 206.041  Z\n",
       "  \" fill=\"#009af9\" fill-rule=\"evenodd\" fill-opacity=\"1\"/>\n",
       "<polyline clip-path=\"url(#clip372)\" style=\"stroke:#000000; stroke-linecap:butt; stroke-linejoin:round; stroke-width:4; stroke-opacity:1; fill:none\" points=\"\n",
       "  1659.78,206.041 1659.78,1445.72 2229.52,1445.72 2229.52,206.041 1659.78,206.041 \n",
       "  \"/>\n",
       "<path clip-path=\"url(#clip372)\" d=\"\n",
       "M1659.78 304.427 L1659.78 1445.72 L2229.52 1445.72 L2229.52 304.427 L1659.78 304.427 L1659.78 304.427  Z\n",
       "  \" fill=\"#009af9\" fill-rule=\"evenodd\" fill-opacity=\"1\"/>\n",
       "<polyline clip-path=\"url(#clip372)\" style=\"stroke:#000000; stroke-linecap:butt; stroke-linejoin:round; stroke-width:4; stroke-opacity:1; fill:none\" points=\"\n",
       "  1659.78,304.427 1659.78,1445.72 2229.52,1445.72 2229.52,304.427 1659.78,304.427 \n",
       "  \"/>\n",
       "<path clip-path=\"url(#clip372)\" d=\"\n",
       "M1659.78 245.395 L1659.78 1445.72 L2229.52 1445.72 L2229.52 245.395 L1659.78 245.395 L1659.78 245.395  Z\n",
       "  \" fill=\"#009af9\" fill-rule=\"evenodd\" fill-opacity=\"1\"/>\n",
       "<polyline clip-path=\"url(#clip372)\" style=\"stroke:#000000; stroke-linecap:butt; stroke-linejoin:round; stroke-width:4; stroke-opacity:1; fill:none\" points=\"\n",
       "  1659.78,245.395 1659.78,1445.72 2229.52,1445.72 2229.52,245.395 1659.78,245.395 \n",
       "  \"/>\n",
       "<path clip-path=\"url(#clip372)\" d=\"\n",
       "M1659.78 442.169 L1659.78 1445.72 L2229.52 1445.72 L2229.52 442.169 L1659.78 442.169 L1659.78 442.169  Z\n",
       "  \" fill=\"#009af9\" fill-rule=\"evenodd\" fill-opacity=\"1\"/>\n",
       "<polyline clip-path=\"url(#clip372)\" style=\"stroke:#000000; stroke-linecap:butt; stroke-linejoin:round; stroke-width:4; stroke-opacity:1; fill:none\" points=\"\n",
       "  1659.78,442.169 1659.78,1445.72 2229.52,1445.72 2229.52,442.169 1659.78,442.169 \n",
       "  \"/>\n",
       "<path clip-path=\"url(#clip372)\" d=\"\n",
       "M1659.78 402.814 L1659.78 1445.72 L2229.52 1445.72 L2229.52 402.814 L1659.78 402.814 L1659.78 402.814  Z\n",
       "  \" fill=\"#009af9\" fill-rule=\"evenodd\" fill-opacity=\"1\"/>\n",
       "<polyline clip-path=\"url(#clip372)\" style=\"stroke:#000000; stroke-linecap:butt; stroke-linejoin:round; stroke-width:4; stroke-opacity:1; fill:none\" points=\"\n",
       "  1659.78,402.814 1659.78,1445.72 2229.52,1445.72 2229.52,402.814 1659.78,402.814 \n",
       "  \"/>\n",
       "<path clip-path=\"url(#clip372)\" d=\"\n",
       "M1659.78 363.46 L1659.78 1445.72 L2229.52 1445.72 L2229.52 363.46 L1659.78 363.46 L1659.78 363.46  Z\n",
       "  \" fill=\"#009af9\" fill-rule=\"evenodd\" fill-opacity=\"1\"/>\n",
       "<polyline clip-path=\"url(#clip372)\" style=\"stroke:#000000; stroke-linecap:butt; stroke-linejoin:round; stroke-width:4; stroke-opacity:1; fill:none\" points=\"\n",
       "  1659.78,363.46 1659.78,1445.72 2229.52,1445.72 2229.52,363.46 1659.78,363.46 \n",
       "  \"/>\n",
       "<path clip-path=\"url(#clip372)\" d=\"\n",
       "M1659.78 461.847 L1659.78 1445.72 L2229.52 1445.72 L2229.52 461.847 L1659.78 461.847 L1659.78 461.847  Z\n",
       "  \" fill=\"#009af9\" fill-rule=\"evenodd\" fill-opacity=\"1\"/>\n",
       "<polyline clip-path=\"url(#clip372)\" style=\"stroke:#000000; stroke-linecap:butt; stroke-linejoin:round; stroke-width:4; stroke-opacity:1; fill:none\" points=\"\n",
       "  1659.78,461.847 1659.78,1445.72 2229.52,1445.72 2229.52,461.847 1659.78,461.847 \n",
       "  \"/>\n",
       "<path clip-path=\"url(#clip372)\" d=\"\n",
       "M1659.78 442.169 L1659.78 1445.72 L2229.52 1445.72 L2229.52 442.169 L1659.78 442.169 L1659.78 442.169  Z\n",
       "  \" fill=\"#009af9\" fill-rule=\"evenodd\" fill-opacity=\"1\"/>\n",
       "<polyline clip-path=\"url(#clip372)\" style=\"stroke:#000000; stroke-linecap:butt; stroke-linejoin:round; stroke-width:4; stroke-opacity:1; fill:none\" points=\"\n",
       "  1659.78,442.169 1659.78,1445.72 2229.52,1445.72 2229.52,442.169 1659.78,442.169 \n",
       "  \"/>\n",
       "<path clip-path=\"url(#clip372)\" d=\"\n",
       "M1659.78 402.814 L1659.78 1445.72 L2229.52 1445.72 L2229.52 402.814 L1659.78 402.814 L1659.78 402.814  Z\n",
       "  \" fill=\"#009af9\" fill-rule=\"evenodd\" fill-opacity=\"1\"/>\n",
       "<polyline clip-path=\"url(#clip372)\" style=\"stroke:#000000; stroke-linecap:butt; stroke-linejoin:round; stroke-width:4; stroke-opacity:1; fill:none\" points=\"\n",
       "  1659.78,402.814 1659.78,1445.72 2229.52,1445.72 2229.52,402.814 1659.78,402.814 \n",
       "  \"/>\n",
       "<path clip-path=\"url(#clip372)\" d=\"\n",
       "M1659.78 363.46 L1659.78 1445.72 L2229.52 1445.72 L2229.52 363.46 L1659.78 363.46 L1659.78 363.46  Z\n",
       "  \" fill=\"#009af9\" fill-rule=\"evenodd\" fill-opacity=\"1\"/>\n",
       "<polyline clip-path=\"url(#clip372)\" style=\"stroke:#000000; stroke-linecap:butt; stroke-linejoin:round; stroke-width:4; stroke-opacity:1; fill:none\" points=\"\n",
       "  1659.78,363.46 1659.78,1445.72 2229.52,1445.72 2229.52,363.46 1659.78,363.46 \n",
       "  \"/>\n",
       "<path clip-path=\"url(#clip372)\" d=\"\n",
       "M1659.78 127.331 L1659.78 1445.72 L2229.52 1445.72 L2229.52 127.331 L1659.78 127.331 L1659.78 127.331  Z\n",
       "  \" fill=\"#009af9\" fill-rule=\"evenodd\" fill-opacity=\"1\"/>\n",
       "<polyline clip-path=\"url(#clip372)\" style=\"stroke:#000000; stroke-linecap:butt; stroke-linejoin:round; stroke-width:4; stroke-opacity:1; fill:none\" points=\"\n",
       "  1659.78,127.331 1659.78,1445.72 2229.52,1445.72 2229.52,127.331 1659.78,127.331 \n",
       "  \"/>\n",
       "<path clip-path=\"url(#clip372)\" d=\"\n",
       "M1659.78 87.9763 L1659.78 1445.72 L2229.52 1445.72 L2229.52 87.9763 L1659.78 87.9763 L1659.78 87.9763  Z\n",
       "  \" fill=\"#009af9\" fill-rule=\"evenodd\" fill-opacity=\"1\"/>\n",
       "<polyline clip-path=\"url(#clip372)\" style=\"stroke:#000000; stroke-linecap:butt; stroke-linejoin:round; stroke-width:4; stroke-opacity:1; fill:none\" points=\"\n",
       "  1659.78,87.9763 1659.78,1445.72 2229.52,1445.72 2229.52,87.9763 1659.78,87.9763 \n",
       "  \"/>\n",
       "<path clip-path=\"url(#clip372)\" d=\"\n",
       "M1659.78 461.847 L1659.78 1445.72 L2229.52 1445.72 L2229.52 461.847 L1659.78 461.847 L1659.78 461.847  Z\n",
       "  \" fill=\"#009af9\" fill-rule=\"evenodd\" fill-opacity=\"1\"/>\n",
       "<polyline clip-path=\"url(#clip372)\" style=\"stroke:#000000; stroke-linecap:butt; stroke-linejoin:round; stroke-width:4; stroke-opacity:1; fill:none\" points=\"\n",
       "  1659.78,461.847 1659.78,1445.72 2229.52,1445.72 2229.52,461.847 1659.78,461.847 \n",
       "  \"/>\n",
       "<path clip-path=\"url(#clip372)\" d=\"\n",
       "M1659.78 324.105 L1659.78 1445.72 L2229.52 1445.72 L2229.52 324.105 L1659.78 324.105 L1659.78 324.105  Z\n",
       "  \" fill=\"#009af9\" fill-rule=\"evenodd\" fill-opacity=\"1\"/>\n",
       "<polyline clip-path=\"url(#clip372)\" style=\"stroke:#000000; stroke-linecap:butt; stroke-linejoin:round; stroke-width:4; stroke-opacity:1; fill:none\" points=\"\n",
       "  1659.78,324.105 1659.78,1445.72 2229.52,1445.72 2229.52,324.105 1659.78,324.105 \n",
       "  \"/>\n",
       "<path clip-path=\"url(#clip372)\" d=\"\n",
       "M1659.78 481.524 L1659.78 1445.72 L2229.52 1445.72 L2229.52 481.524 L1659.78 481.524 L1659.78 481.524  Z\n",
       "  \" fill=\"#009af9\" fill-rule=\"evenodd\" fill-opacity=\"1\"/>\n",
       "<polyline clip-path=\"url(#clip372)\" style=\"stroke:#000000; stroke-linecap:butt; stroke-linejoin:round; stroke-width:4; stroke-opacity:1; fill:none\" points=\"\n",
       "  1659.78,481.524 1659.78,1445.72 2229.52,1445.72 2229.52,481.524 1659.78,481.524 \n",
       "  \"/>\n",
       "<path clip-path=\"url(#clip372)\" d=\"\n",
       "M1659.78 127.331 L1659.78 1445.72 L2229.52 1445.72 L2229.52 127.331 L1659.78 127.331 L1659.78 127.331  Z\n",
       "  \" fill=\"#009af9\" fill-rule=\"evenodd\" fill-opacity=\"1\"/>\n",
       "<polyline clip-path=\"url(#clip372)\" style=\"stroke:#000000; stroke-linecap:butt; stroke-linejoin:round; stroke-width:4; stroke-opacity:1; fill:none\" points=\"\n",
       "  1659.78,127.331 1659.78,1445.72 2229.52,1445.72 2229.52,127.331 1659.78,127.331 \n",
       "  \"/>\n",
       "<path clip-path=\"url(#clip372)\" d=\"\n",
       "M1659.78 481.524 L1659.78 1445.72 L2229.52 1445.72 L2229.52 481.524 L1659.78 481.524 L1659.78 481.524  Z\n",
       "  \" fill=\"#009af9\" fill-rule=\"evenodd\" fill-opacity=\"1\"/>\n",
       "<polyline clip-path=\"url(#clip372)\" style=\"stroke:#000000; stroke-linecap:butt; stroke-linejoin:round; stroke-width:4; stroke-opacity:1; fill:none\" points=\"\n",
       "  1659.78,481.524 1659.78,1445.72 2229.52,1445.72 2229.52,481.524 1659.78,481.524 \n",
       "  \"/>\n",
       "<path clip-path=\"url(#clip372)\" d=\"\n",
       "M1659.78 324.105 L1659.78 1445.72 L2229.52 1445.72 L2229.52 324.105 L1659.78 324.105 L1659.78 324.105  Z\n",
       "  \" fill=\"#009af9\" fill-rule=\"evenodd\" fill-opacity=\"1\"/>\n",
       "<polyline clip-path=\"url(#clip372)\" style=\"stroke:#000000; stroke-linecap:butt; stroke-linejoin:round; stroke-width:4; stroke-opacity:1; fill:none\" points=\"\n",
       "  1659.78,324.105 1659.78,1445.72 2229.52,1445.72 2229.52,324.105 1659.78,324.105 \n",
       "  \"/>\n",
       "<path clip-path=\"url(#clip372)\" d=\"\n",
       "M1659.78 265.073 L1659.78 1445.72 L2229.52 1445.72 L2229.52 265.073 L1659.78 265.073 L1659.78 265.073  Z\n",
       "  \" fill=\"#009af9\" fill-rule=\"evenodd\" fill-opacity=\"1\"/>\n",
       "<polyline clip-path=\"url(#clip372)\" style=\"stroke:#000000; stroke-linecap:butt; stroke-linejoin:round; stroke-width:4; stroke-opacity:1; fill:none\" points=\"\n",
       "  1659.78,265.073 1659.78,1445.72 2229.52,1445.72 2229.52,265.073 1659.78,265.073 \n",
       "  \"/>\n",
       "<path clip-path=\"url(#clip372)\" d=\"\n",
       "M1659.78 501.201 L1659.78 1445.72 L2229.52 1445.72 L2229.52 501.201 L1659.78 501.201 L1659.78 501.201  Z\n",
       "  \" fill=\"#009af9\" fill-rule=\"evenodd\" fill-opacity=\"1\"/>\n",
       "<polyline clip-path=\"url(#clip372)\" style=\"stroke:#000000; stroke-linecap:butt; stroke-linejoin:round; stroke-width:4; stroke-opacity:1; fill:none\" points=\"\n",
       "  1659.78,501.201 1659.78,1445.72 2229.52,1445.72 2229.52,501.201 1659.78,501.201 \n",
       "  \"/>\n",
       "<path clip-path=\"url(#clip372)\" d=\"\n",
       "M1659.78 481.524 L1659.78 1445.72 L2229.52 1445.72 L2229.52 481.524 L1659.78 481.524 L1659.78 481.524  Z\n",
       "  \" fill=\"#009af9\" fill-rule=\"evenodd\" fill-opacity=\"1\"/>\n",
       "<polyline clip-path=\"url(#clip372)\" style=\"stroke:#000000; stroke-linecap:butt; stroke-linejoin:round; stroke-width:4; stroke-opacity:1; fill:none\" points=\"\n",
       "  1659.78,481.524 1659.78,1445.72 2229.52,1445.72 2229.52,481.524 1659.78,481.524 \n",
       "  \"/>\n",
       "<path clip-path=\"url(#clip372)\" d=\"\n",
       "M1659.78 343.782 L1659.78 1445.72 L2229.52 1445.72 L2229.52 343.782 L1659.78 343.782 L1659.78 343.782  Z\n",
       "  \" fill=\"#009af9\" fill-rule=\"evenodd\" fill-opacity=\"1\"/>\n",
       "<polyline clip-path=\"url(#clip372)\" style=\"stroke:#000000; stroke-linecap:butt; stroke-linejoin:round; stroke-width:4; stroke-opacity:1; fill:none\" points=\"\n",
       "  1659.78,343.782 1659.78,1445.72 2229.52,1445.72 2229.52,343.782 1659.78,343.782 \n",
       "  \"/>\n",
       "<path clip-path=\"url(#clip372)\" d=\"\n",
       "M1659.78 304.427 L1659.78 1445.72 L2229.52 1445.72 L2229.52 304.427 L1659.78 304.427 L1659.78 304.427  Z\n",
       "  \" fill=\"#009af9\" fill-rule=\"evenodd\" fill-opacity=\"1\"/>\n",
       "<polyline clip-path=\"url(#clip372)\" style=\"stroke:#000000; stroke-linecap:butt; stroke-linejoin:round; stroke-width:4; stroke-opacity:1; fill:none\" points=\"\n",
       "  1659.78,304.427 1659.78,1445.72 2229.52,1445.72 2229.52,304.427 1659.78,304.427 \n",
       "  \"/>\n",
       "<path clip-path=\"url(#clip372)\" d=\"\n",
       "M1659.78 245.395 L1659.78 1445.72 L2229.52 1445.72 L2229.52 245.395 L1659.78 245.395 L1659.78 245.395  Z\n",
       "  \" fill=\"#009af9\" fill-rule=\"evenodd\" fill-opacity=\"1\"/>\n",
       "<polyline clip-path=\"url(#clip372)\" style=\"stroke:#000000; stroke-linecap:butt; stroke-linejoin:round; stroke-width:4; stroke-opacity:1; fill:none\" points=\"\n",
       "  1659.78,245.395 1659.78,1445.72 2229.52,1445.72 2229.52,245.395 1659.78,245.395 \n",
       "  \"/>\n",
       "<path clip-path=\"url(#clip372)\" d=\"\n",
       "M1659.78 186.363 L1659.78 1445.72 L2229.52 1445.72 L2229.52 186.363 L1659.78 186.363 L1659.78 186.363  Z\n",
       "  \" fill=\"#009af9\" fill-rule=\"evenodd\" fill-opacity=\"1\"/>\n",
       "<polyline clip-path=\"url(#clip372)\" style=\"stroke:#000000; stroke-linecap:butt; stroke-linejoin:round; stroke-width:4; stroke-opacity:1; fill:none\" points=\"\n",
       "  1659.78,186.363 1659.78,1445.72 2229.52,1445.72 2229.52,186.363 1659.78,186.363 \n",
       "  \"/>\n",
       "<path clip-path=\"url(#clip372)\" d=\"\n",
       "M1659.78 343.782 L1659.78 1445.72 L2229.52 1445.72 L2229.52 343.782 L1659.78 343.782 L1659.78 343.782  Z\n",
       "  \" fill=\"#009af9\" fill-rule=\"evenodd\" fill-opacity=\"1\"/>\n",
       "<polyline clip-path=\"url(#clip372)\" style=\"stroke:#000000; stroke-linecap:butt; stroke-linejoin:round; stroke-width:4; stroke-opacity:1; fill:none\" points=\"\n",
       "  1659.78,343.782 1659.78,1445.72 2229.52,1445.72 2229.52,343.782 1659.78,343.782 \n",
       "  \"/>\n",
       "<path clip-path=\"url(#clip372)\" d=\"\n",
       "M1659.78 442.169 L1659.78 1445.72 L2229.52 1445.72 L2229.52 442.169 L1659.78 442.169 L1659.78 442.169  Z\n",
       "  \" fill=\"#009af9\" fill-rule=\"evenodd\" fill-opacity=\"1\"/>\n",
       "<polyline clip-path=\"url(#clip372)\" style=\"stroke:#000000; stroke-linecap:butt; stroke-linejoin:round; stroke-width:4; stroke-opacity:1; fill:none\" points=\"\n",
       "  1659.78,442.169 1659.78,1445.72 2229.52,1445.72 2229.52,442.169 1659.78,442.169 \n",
       "  \"/>\n",
       "<path clip-path=\"url(#clip372)\" d=\"\n",
       "M1659.78 343.782 L1659.78 1445.72 L2229.52 1445.72 L2229.52 343.782 L1659.78 343.782 L1659.78 343.782  Z\n",
       "  \" fill=\"#009af9\" fill-rule=\"evenodd\" fill-opacity=\"1\"/>\n",
       "<polyline clip-path=\"url(#clip372)\" style=\"stroke:#000000; stroke-linecap:butt; stroke-linejoin:round; stroke-width:4; stroke-opacity:1; fill:none\" points=\"\n",
       "  1659.78,343.782 1659.78,1445.72 2229.52,1445.72 2229.52,343.782 1659.78,343.782 \n",
       "  \"/>\n",
       "<path clip-path=\"url(#clip372)\" d=\"\n",
       "M1659.78 245.395 L1659.78 1445.72 L2229.52 1445.72 L2229.52 245.395 L1659.78 245.395 L1659.78 245.395  Z\n",
       "  \" fill=\"#009af9\" fill-rule=\"evenodd\" fill-opacity=\"1\"/>\n",
       "<polyline clip-path=\"url(#clip372)\" style=\"stroke:#000000; stroke-linecap:butt; stroke-linejoin:round; stroke-width:4; stroke-opacity:1; fill:none\" points=\"\n",
       "  1659.78,245.395 1659.78,1445.72 2229.52,1445.72 2229.52,245.395 1659.78,245.395 \n",
       "  \"/>\n",
       "<path clip-path=\"url(#clip372)\" d=\"\n",
       "M1659.78 343.782 L1659.78 1445.72 L2229.52 1445.72 L2229.52 343.782 L1659.78 343.782 L1659.78 343.782  Z\n",
       "  \" fill=\"#009af9\" fill-rule=\"evenodd\" fill-opacity=\"1\"/>\n",
       "<polyline clip-path=\"url(#clip372)\" style=\"stroke:#000000; stroke-linecap:butt; stroke-linejoin:round; stroke-width:4; stroke-opacity:1; fill:none\" points=\"\n",
       "  1659.78,343.782 1659.78,1445.72 2229.52,1445.72 2229.52,343.782 1659.78,343.782 \n",
       "  \"/>\n",
       "<path clip-path=\"url(#clip372)\" d=\"\n",
       "M1659.78 363.46 L1659.78 1445.72 L2229.52 1445.72 L2229.52 363.46 L1659.78 363.46 L1659.78 363.46  Z\n",
       "  \" fill=\"#009af9\" fill-rule=\"evenodd\" fill-opacity=\"1\"/>\n",
       "<polyline clip-path=\"url(#clip372)\" style=\"stroke:#000000; stroke-linecap:butt; stroke-linejoin:round; stroke-width:4; stroke-opacity:1; fill:none\" points=\"\n",
       "  1659.78,363.46 1659.78,1445.72 2229.52,1445.72 2229.52,363.46 1659.78,363.46 \n",
       "  \"/>\n",
       "<path clip-path=\"url(#clip372)\" d=\"\n",
       "M1659.78 501.201 L1659.78 1445.72 L2229.52 1445.72 L2229.52 501.201 L1659.78 501.201 L1659.78 501.201  Z\n",
       "  \" fill=\"#009af9\" fill-rule=\"evenodd\" fill-opacity=\"1\"/>\n",
       "<polyline clip-path=\"url(#clip372)\" style=\"stroke:#000000; stroke-linecap:butt; stroke-linejoin:round; stroke-width:4; stroke-opacity:1; fill:none\" points=\"\n",
       "  1659.78,501.201 1659.78,1445.72 2229.52,1445.72 2229.52,501.201 1659.78,501.201 \n",
       "  \"/>\n",
       "<path clip-path=\"url(#clip372)\" d=\"\n",
       "M1659.78 383.137 L1659.78 1445.72 L2229.52 1445.72 L2229.52 383.137 L1659.78 383.137 L1659.78 383.137  Z\n",
       "  \" fill=\"#009af9\" fill-rule=\"evenodd\" fill-opacity=\"1\"/>\n",
       "<polyline clip-path=\"url(#clip372)\" style=\"stroke:#000000; stroke-linecap:butt; stroke-linejoin:round; stroke-width:4; stroke-opacity:1; fill:none\" points=\"\n",
       "  1659.78,383.137 1659.78,1445.72 2229.52,1445.72 2229.52,383.137 1659.78,383.137 \n",
       "  \"/>\n",
       "<path clip-path=\"url(#clip372)\" d=\"\n",
       "M1659.78 343.782 L1659.78 1445.72 L2229.52 1445.72 L2229.52 343.782 L1659.78 343.782 L1659.78 343.782  Z\n",
       "  \" fill=\"#009af9\" fill-rule=\"evenodd\" fill-opacity=\"1\"/>\n",
       "<polyline clip-path=\"url(#clip372)\" style=\"stroke:#000000; stroke-linecap:butt; stroke-linejoin:round; stroke-width:4; stroke-opacity:1; fill:none\" points=\"\n",
       "  1659.78,343.782 1659.78,1445.72 2229.52,1445.72 2229.52,343.782 1659.78,343.782 \n",
       "  \"/>\n",
       "<path clip-path=\"url(#clip372)\" d=\"\n",
       "M1659.78 442.169 L1659.78 1445.72 L2229.52 1445.72 L2229.52 442.169 L1659.78 442.169 L1659.78 442.169  Z\n",
       "  \" fill=\"#009af9\" fill-rule=\"evenodd\" fill-opacity=\"1\"/>\n",
       "<polyline clip-path=\"url(#clip372)\" style=\"stroke:#000000; stroke-linecap:butt; stroke-linejoin:round; stroke-width:4; stroke-opacity:1; fill:none\" points=\"\n",
       "  1659.78,442.169 1659.78,1445.72 2229.52,1445.72 2229.52,442.169 1659.78,442.169 \n",
       "  \"/>\n",
       "<path clip-path=\"url(#clip372)\" d=\"\n",
       "M1659.78 442.169 L1659.78 1445.72 L2229.52 1445.72 L2229.52 442.169 L1659.78 442.169 L1659.78 442.169  Z\n",
       "  \" fill=\"#009af9\" fill-rule=\"evenodd\" fill-opacity=\"1\"/>\n",
       "<polyline clip-path=\"url(#clip372)\" style=\"stroke:#000000; stroke-linecap:butt; stroke-linejoin:round; stroke-width:4; stroke-opacity:1; fill:none\" points=\"\n",
       "  1659.78,442.169 1659.78,1445.72 2229.52,1445.72 2229.52,442.169 1659.78,442.169 \n",
       "  \"/>\n",
       "<path clip-path=\"url(#clip372)\" d=\"\n",
       "M1659.78 284.75 L1659.78 1445.72 L2229.52 1445.72 L2229.52 284.75 L1659.78 284.75 L1659.78 284.75  Z\n",
       "  \" fill=\"#009af9\" fill-rule=\"evenodd\" fill-opacity=\"1\"/>\n",
       "<polyline clip-path=\"url(#clip372)\" style=\"stroke:#000000; stroke-linecap:butt; stroke-linejoin:round; stroke-width:4; stroke-opacity:1; fill:none\" points=\"\n",
       "  1659.78,284.75 1659.78,1445.72 2229.52,1445.72 2229.52,284.75 1659.78,284.75 \n",
       "  \"/>\n",
       "<path clip-path=\"url(#clip372)\" d=\"\n",
       "M1659.78 324.105 L1659.78 1445.72 L2229.52 1445.72 L2229.52 324.105 L1659.78 324.105 L1659.78 324.105  Z\n",
       "  \" fill=\"#009af9\" fill-rule=\"evenodd\" fill-opacity=\"1\"/>\n",
       "<polyline clip-path=\"url(#clip372)\" style=\"stroke:#000000; stroke-linecap:butt; stroke-linejoin:round; stroke-width:4; stroke-opacity:1; fill:none\" points=\"\n",
       "  1659.78,324.105 1659.78,1445.72 2229.52,1445.72 2229.52,324.105 1659.78,324.105 \n",
       "  \"/>\n",
       "<path clip-path=\"url(#clip372)\" d=\"\n",
       "M1659.78 422.492 L1659.78 1445.72 L2229.52 1445.72 L2229.52 422.492 L1659.78 422.492 L1659.78 422.492  Z\n",
       "  \" fill=\"#009af9\" fill-rule=\"evenodd\" fill-opacity=\"1\"/>\n",
       "<polyline clip-path=\"url(#clip372)\" style=\"stroke:#000000; stroke-linecap:butt; stroke-linejoin:round; stroke-width:4; stroke-opacity:1; fill:none\" points=\"\n",
       "  1659.78,422.492 1659.78,1445.72 2229.52,1445.72 2229.52,422.492 1659.78,422.492 \n",
       "  \"/>\n",
       "<path clip-path=\"url(#clip372)\" d=\"\n",
       "M1659.78 461.847 L1659.78 1445.72 L2229.52 1445.72 L2229.52 461.847 L1659.78 461.847 L1659.78 461.847  Z\n",
       "  \" fill=\"#009af9\" fill-rule=\"evenodd\" fill-opacity=\"1\"/>\n",
       "<polyline clip-path=\"url(#clip372)\" style=\"stroke:#000000; stroke-linecap:butt; stroke-linejoin:round; stroke-width:4; stroke-opacity:1; fill:none\" points=\"\n",
       "  1659.78,461.847 1659.78,1445.72 2229.52,1445.72 2229.52,461.847 1659.78,461.847 \n",
       "  \"/>\n",
       "<path clip-path=\"url(#clip372)\" d=\"\n",
       "M1659.78 422.492 L1659.78 1445.72 L2229.52 1445.72 L2229.52 422.492 L1659.78 422.492 L1659.78 422.492  Z\n",
       "  \" fill=\"#009af9\" fill-rule=\"evenodd\" fill-opacity=\"1\"/>\n",
       "<polyline clip-path=\"url(#clip372)\" style=\"stroke:#000000; stroke-linecap:butt; stroke-linejoin:round; stroke-width:4; stroke-opacity:1; fill:none\" points=\"\n",
       "  1659.78,422.492 1659.78,1445.72 2229.52,1445.72 2229.52,422.492 1659.78,422.492 \n",
       "  \"/>\n",
       "<path clip-path=\"url(#clip372)\" d=\"\n",
       "M1659.78 383.137 L1659.78 1445.72 L2229.52 1445.72 L2229.52 383.137 L1659.78 383.137 L1659.78 383.137  Z\n",
       "  \" fill=\"#009af9\" fill-rule=\"evenodd\" fill-opacity=\"1\"/>\n",
       "<polyline clip-path=\"url(#clip372)\" style=\"stroke:#000000; stroke-linecap:butt; stroke-linejoin:round; stroke-width:4; stroke-opacity:1; fill:none\" points=\"\n",
       "  1659.78,383.137 1659.78,1445.72 2229.52,1445.72 2229.52,383.137 1659.78,383.137 \n",
       "  \"/>\n",
       "<path clip-path=\"url(#clip372)\" d=\"\n",
       "M1659.78 442.169 L1659.78 1445.72 L2229.52 1445.72 L2229.52 442.169 L1659.78 442.169 L1659.78 442.169  Z\n",
       "  \" fill=\"#009af9\" fill-rule=\"evenodd\" fill-opacity=\"1\"/>\n",
       "<polyline clip-path=\"url(#clip372)\" style=\"stroke:#000000; stroke-linecap:butt; stroke-linejoin:round; stroke-width:4; stroke-opacity:1; fill:none\" points=\"\n",
       "  1659.78,442.169 1659.78,1445.72 2229.52,1445.72 2229.52,442.169 1659.78,442.169 \n",
       "  \"/>\n",
       "<path clip-path=\"url(#clip370)\" d=\"\n",
       "M1976.69 216.178 L2278.07 216.178 L2278.07 95.2176 L1976.69 95.2176  Z\n",
       "  \" fill=\"#ffffff\" fill-rule=\"evenodd\" fill-opacity=\"1\"/>\n",
       "<polyline clip-path=\"url(#clip370)\" style=\"stroke:#000000; stroke-linecap:butt; stroke-linejoin:round; stroke-width:4; stroke-opacity:1; fill:none\" points=\"\n",
       "  1976.69,216.178 2278.07,216.178 2278.07,95.2176 1976.69,95.2176 1976.69,216.178 \n",
       "  \"/>\n",
       "<path clip-path=\"url(#clip370)\" d=\"\n",
       "M2001.58 179.89 L2150.95 179.89 L2150.95 131.506 L2001.58 131.506 L2001.58 179.89  Z\n",
       "  \" fill=\"#009af9\" fill-rule=\"evenodd\" fill-opacity=\"1\"/>\n",
       "<polyline clip-path=\"url(#clip370)\" style=\"stroke:#000000; stroke-linecap:butt; stroke-linejoin:round; stroke-width:4; stroke-opacity:1; fill:none\" points=\"\n",
       "  2001.58,179.89 2150.95,179.89 2150.95,131.506 2001.58,131.506 2001.58,179.89 \n",
       "  \"/>\n",
       "<path clip-path=\"url(#clip370)\" d=\"M2189.69 175.385 Q2187.89 180.015 2186.17 181.427 Q2184.46 182.839 2181.59 182.839 L2178.19 182.839 L2178.19 179.274 L2180.69 179.274 Q2182.45 179.274 2183.42 178.44 Q2184.39 177.607 2185.57 174.505 L2186.34 172.561 L2175.85 147.052 L2180.36 147.052 L2188.46 167.329 L2196.57 147.052 L2201.08 147.052 L2189.69 175.385 Z\" fill=\"#000000\" fill-rule=\"evenodd\" fill-opacity=\"1\" /><path clip-path=\"url(#clip370)\" d=\"M2208.37 169.042 L2216.01 169.042 L2216.01 142.677 L2207.7 144.343 L2207.7 140.084 L2215.96 138.418 L2220.64 138.418 L2220.64 169.042 L2228.28 169.042 L2228.28 172.978 L2208.37 172.978 L2208.37 169.042 Z\" fill=\"#000000\" fill-rule=\"evenodd\" fill-opacity=\"1\" /></svg>\n"
      ]
     },
     "execution_count": 80,
     "metadata": {},
     "output_type": "execute_result"
    }
   ],
   "source": [
    "bar(iris.variety,iris.petal_length)"
   ]
  },
  {
   "cell_type": "code",
   "execution_count": 82,
   "metadata": {},
   "outputs": [
    {
     "data": {
      "image/svg+xml": [
       "<?xml version=\"1.0\" encoding=\"utf-8\"?>\n",
       "<svg xmlns=\"http://www.w3.org/2000/svg\" xmlns:xlink=\"http://www.w3.org/1999/xlink\" width=\"600\" height=\"400\" viewBox=\"0 0 2400 1600\">\n",
       "<defs>\n",
       "  <clipPath id=\"clip450\">\n",
       "    <rect x=\"0\" y=\"0\" width=\"2400\" height=\"1600\"/>\n",
       "  </clipPath>\n",
       "</defs>\n",
       "<path clip-path=\"url(#clip450)\" d=\"\n",
       "M0 1600 L2400 1600 L2400 0 L0 0  Z\n",
       "  \" fill=\"#ffffff\" fill-rule=\"evenodd\" fill-opacity=\"1\"/>\n",
       "<defs>\n",
       "  <clipPath id=\"clip451\">\n",
       "    <rect x=\"480\" y=\"0\" width=\"1681\" height=\"1600\"/>\n",
       "  </clipPath>\n",
       "</defs>\n",
       "<path clip-path=\"url(#clip450)\" d=\"\n",
       "M155.765 1486.45 L2352.76 1486.45 L2352.76 47.2441 L155.765 47.2441  Z\n",
       "  \" fill=\"#ffffff\" fill-rule=\"evenodd\" fill-opacity=\"1\"/>\n",
       "<defs>\n",
       "  <clipPath id=\"clip452\">\n",
       "    <rect x=\"155\" y=\"47\" width=\"2198\" height=\"1440\"/>\n",
       "  </clipPath>\n",
       "</defs>\n",
       "<polyline clip-path=\"url(#clip452)\" style=\"stroke:#000000; stroke-linecap:butt; stroke-linejoin:round; stroke-width:2; stroke-opacity:0.1; fill:none\" points=\"\n",
       "  217.944,1486.45 217.944,47.2441 \n",
       "  \"/>\n",
       "<polyline clip-path=\"url(#clip452)\" style=\"stroke:#000000; stroke-linecap:butt; stroke-linejoin:round; stroke-width:2; stroke-opacity:0.1; fill:none\" points=\"\n",
       "  569.238,1486.45 569.238,47.2441 \n",
       "  \"/>\n",
       "<polyline clip-path=\"url(#clip452)\" style=\"stroke:#000000; stroke-linecap:butt; stroke-linejoin:round; stroke-width:2; stroke-opacity:0.1; fill:none\" points=\"\n",
       "  920.531,1486.45 920.531,47.2441 \n",
       "  \"/>\n",
       "<polyline clip-path=\"url(#clip452)\" style=\"stroke:#000000; stroke-linecap:butt; stroke-linejoin:round; stroke-width:2; stroke-opacity:0.1; fill:none\" points=\"\n",
       "  1271.83,1486.45 1271.83,47.2441 \n",
       "  \"/>\n",
       "<polyline clip-path=\"url(#clip452)\" style=\"stroke:#000000; stroke-linecap:butt; stroke-linejoin:round; stroke-width:2; stroke-opacity:0.1; fill:none\" points=\"\n",
       "  1623.12,1486.45 1623.12,47.2441 \n",
       "  \"/>\n",
       "<polyline clip-path=\"url(#clip452)\" style=\"stroke:#000000; stroke-linecap:butt; stroke-linejoin:round; stroke-width:2; stroke-opacity:0.1; fill:none\" points=\"\n",
       "  1974.41,1486.45 1974.41,47.2441 \n",
       "  \"/>\n",
       "<polyline clip-path=\"url(#clip452)\" style=\"stroke:#000000; stroke-linecap:butt; stroke-linejoin:round; stroke-width:2; stroke-opacity:0.1; fill:none\" points=\"\n",
       "  2325.71,1486.45 2325.71,47.2441 \n",
       "  \"/>\n",
       "<polyline clip-path=\"url(#clip450)\" style=\"stroke:#000000; stroke-linecap:butt; stroke-linejoin:round; stroke-width:4; stroke-opacity:1; fill:none\" points=\"\n",
       "  155.765,1486.45 2352.76,1486.45 \n",
       "  \"/>\n",
       "<polyline clip-path=\"url(#clip450)\" style=\"stroke:#000000; stroke-linecap:butt; stroke-linejoin:round; stroke-width:4; stroke-opacity:1; fill:none\" points=\"\n",
       "  217.944,1486.45 217.944,1469.18 \n",
       "  \"/>\n",
       "<polyline clip-path=\"url(#clip450)\" style=\"stroke:#000000; stroke-linecap:butt; stroke-linejoin:round; stroke-width:4; stroke-opacity:1; fill:none\" points=\"\n",
       "  569.238,1486.45 569.238,1469.18 \n",
       "  \"/>\n",
       "<polyline clip-path=\"url(#clip450)\" style=\"stroke:#000000; stroke-linecap:butt; stroke-linejoin:round; stroke-width:4; stroke-opacity:1; fill:none\" points=\"\n",
       "  920.531,1486.45 920.531,1469.18 \n",
       "  \"/>\n",
       "<polyline clip-path=\"url(#clip450)\" style=\"stroke:#000000; stroke-linecap:butt; stroke-linejoin:round; stroke-width:4; stroke-opacity:1; fill:none\" points=\"\n",
       "  1271.83,1486.45 1271.83,1469.18 \n",
       "  \"/>\n",
       "<polyline clip-path=\"url(#clip450)\" style=\"stroke:#000000; stroke-linecap:butt; stroke-linejoin:round; stroke-width:4; stroke-opacity:1; fill:none\" points=\"\n",
       "  1623.12,1486.45 1623.12,1469.18 \n",
       "  \"/>\n",
       "<polyline clip-path=\"url(#clip450)\" style=\"stroke:#000000; stroke-linecap:butt; stroke-linejoin:round; stroke-width:4; stroke-opacity:1; fill:none\" points=\"\n",
       "  1974.41,1486.45 1974.41,1469.18 \n",
       "  \"/>\n",
       "<polyline clip-path=\"url(#clip450)\" style=\"stroke:#000000; stroke-linecap:butt; stroke-linejoin:round; stroke-width:4; stroke-opacity:1; fill:none\" points=\"\n",
       "  2325.71,1486.45 2325.71,1469.18 \n",
       "  \"/>\n",
       "<path clip-path=\"url(#clip450)\" d=\"M208.326 1543.18 L215.965 1543.18 L215.965 1516.82 L207.655 1518.49 L207.655 1514.23 L215.918 1512.56 L220.594 1512.56 L220.594 1543.18 L228.233 1543.18 L228.233 1547.12 L208.326 1547.12 L208.326 1543.18 Z\" fill=\"#000000\" fill-rule=\"evenodd\" fill-opacity=\"1\" /><path clip-path=\"url(#clip450)\" d=\"M563.89 1543.18 L580.21 1543.18 L580.21 1547.12 L558.265 1547.12 L558.265 1543.18 Q560.927 1540.43 565.511 1535.8 Q570.117 1531.15 571.298 1529.81 Q573.543 1527.28 574.423 1525.55 Q575.326 1523.79 575.326 1522.1 Q575.326 1519.34 573.381 1517.61 Q571.46 1515.87 568.358 1515.87 Q566.159 1515.87 563.705 1516.63 Q561.275 1517.4 558.497 1518.95 L558.497 1514.23 Q561.321 1513.09 563.775 1512.51 Q566.228 1511.93 568.265 1511.93 Q573.636 1511.93 576.83 1514.62 Q580.025 1517.31 580.025 1521.8 Q580.025 1523.93 579.214 1525.85 Q578.427 1527.74 576.321 1530.34 Q575.742 1531.01 572.64 1534.23 Q569.539 1537.42 563.89 1543.18 Z\" fill=\"#000000\" fill-rule=\"evenodd\" fill-opacity=\"1\" /><path clip-path=\"url(#clip450)\" d=\"M924.779 1528.49 Q928.135 1529.2 930.01 1531.47 Q931.909 1533.74 931.909 1537.07 Q931.909 1542.19 928.39 1544.99 Q924.872 1547.79 918.39 1547.79 Q916.214 1547.79 913.899 1547.35 Q911.608 1546.93 909.154 1546.08 L909.154 1541.56 Q911.099 1542.7 913.413 1543.28 Q915.728 1543.86 918.251 1543.86 Q922.649 1543.86 924.941 1542.12 Q927.256 1540.38 927.256 1537.07 Q927.256 1534.02 925.103 1532.31 Q922.973 1530.57 919.154 1530.57 L915.126 1530.57 L915.126 1526.73 L919.339 1526.73 Q922.788 1526.73 924.617 1525.36 Q926.446 1523.97 926.446 1521.38 Q926.446 1518.72 924.548 1517.31 Q922.673 1515.87 919.154 1515.87 Q917.233 1515.87 915.034 1516.29 Q912.835 1516.7 910.196 1517.58 L910.196 1513.42 Q912.858 1512.68 915.173 1512.31 Q917.511 1511.93 919.571 1511.93 Q924.895 1511.93 927.997 1514.37 Q931.098 1516.77 931.098 1520.89 Q931.098 1523.76 929.455 1525.75 Q927.811 1527.72 924.779 1528.49 Z\" fill=\"#000000\" fill-rule=\"evenodd\" fill-opacity=\"1\" /><path clip-path=\"url(#clip450)\" d=\"M1274.83 1516.63 L1263.03 1535.08 L1274.83 1535.08 L1274.83 1516.63 M1273.61 1512.56 L1279.49 1512.56 L1279.49 1535.08 L1284.42 1535.08 L1284.42 1538.97 L1279.49 1538.97 L1279.49 1547.12 L1274.83 1547.12 L1274.83 1538.97 L1259.23 1538.97 L1259.23 1534.46 L1273.61 1512.56 Z\" fill=\"#000000\" fill-rule=\"evenodd\" fill-opacity=\"1\" /><path clip-path=\"url(#clip450)\" d=\"M1613.4 1512.56 L1631.75 1512.56 L1631.75 1516.5 L1617.68 1516.5 L1617.68 1524.97 Q1618.7 1524.62 1619.72 1524.46 Q1620.73 1524.27 1621.75 1524.27 Q1627.54 1524.27 1630.92 1527.44 Q1634.3 1530.62 1634.3 1536.03 Q1634.3 1541.61 1630.83 1544.71 Q1627.35 1547.79 1621.04 1547.79 Q1618.86 1547.79 1616.59 1547.42 Q1614.35 1547.05 1611.94 1546.31 L1611.94 1541.61 Q1614.02 1542.74 1616.24 1543.3 Q1618.47 1543.86 1620.94 1543.86 Q1624.95 1543.86 1627.29 1541.75 Q1629.62 1539.64 1629.62 1536.03 Q1629.62 1532.42 1627.29 1530.31 Q1624.95 1528.21 1620.94 1528.21 Q1619.07 1528.21 1617.19 1528.62 Q1615.34 1529.04 1613.4 1529.92 L1613.4 1512.56 Z\" fill=\"#000000\" fill-rule=\"evenodd\" fill-opacity=\"1\" /><path clip-path=\"url(#clip450)\" d=\"M1974.82 1527.98 Q1971.67 1527.98 1969.82 1530.13 Q1967.99 1532.28 1967.99 1536.03 Q1967.99 1539.76 1969.82 1541.93 Q1971.67 1544.09 1974.82 1544.09 Q1977.97 1544.09 1979.79 1541.93 Q1981.65 1539.76 1981.65 1536.03 Q1981.65 1532.28 1979.79 1530.13 Q1977.97 1527.98 1974.82 1527.98 M1984.1 1513.32 L1984.1 1517.58 Q1982.34 1516.75 1980.54 1516.31 Q1978.75 1515.87 1976.99 1515.87 Q1972.36 1515.87 1969.91 1519 Q1967.48 1522.12 1967.13 1528.44 Q1968.5 1526.43 1970.56 1525.36 Q1972.62 1524.27 1975.1 1524.27 Q1980.3 1524.27 1983.31 1527.44 Q1986.35 1530.59 1986.35 1536.03 Q1986.35 1541.36 1983.2 1544.57 Q1980.05 1547.79 1974.82 1547.79 Q1968.82 1547.79 1965.65 1543.21 Q1962.48 1538.6 1962.48 1529.87 Q1962.48 1521.68 1966.37 1516.82 Q1970.26 1511.93 1976.81 1511.93 Q1978.57 1511.93 1980.35 1512.28 Q1982.16 1512.63 1984.1 1513.32 Z\" fill=\"#000000\" fill-rule=\"evenodd\" fill-opacity=\"1\" /><path clip-path=\"url(#clip450)\" d=\"M2314.6 1512.56 L2336.82 1512.56 L2336.82 1514.55 L2324.27 1547.12 L2319.39 1547.12 L2331.19 1516.5 L2314.6 1516.5 L2314.6 1512.56 Z\" fill=\"#000000\" fill-rule=\"evenodd\" fill-opacity=\"1\" /><polyline clip-path=\"url(#clip452)\" style=\"stroke:#000000; stroke-linecap:butt; stroke-linejoin:round; stroke-width:2; stroke-opacity:0.1; fill:none\" points=\"\n",
       "  155.765,1219.43 2352.76,1219.43 \n",
       "  \"/>\n",
       "<polyline clip-path=\"url(#clip452)\" style=\"stroke:#000000; stroke-linecap:butt; stroke-linejoin:round; stroke-width:2; stroke-opacity:0.1; fill:none\" points=\"\n",
       "  155.765,936.563 2352.76,936.563 \n",
       "  \"/>\n",
       "<polyline clip-path=\"url(#clip452)\" style=\"stroke:#000000; stroke-linecap:butt; stroke-linejoin:round; stroke-width:2; stroke-opacity:0.1; fill:none\" points=\"\n",
       "  155.765,653.701 2352.76,653.701 \n",
       "  \"/>\n",
       "<polyline clip-path=\"url(#clip452)\" style=\"stroke:#000000; stroke-linecap:butt; stroke-linejoin:round; stroke-width:2; stroke-opacity:0.1; fill:none\" points=\"\n",
       "  155.765,370.839 2352.76,370.839 \n",
       "  \"/>\n",
       "<polyline clip-path=\"url(#clip452)\" style=\"stroke:#000000; stroke-linecap:butt; stroke-linejoin:round; stroke-width:2; stroke-opacity:0.1; fill:none\" points=\"\n",
       "  155.765,87.9763 2352.76,87.9763 \n",
       "  \"/>\n",
       "<polyline clip-path=\"url(#clip450)\" style=\"stroke:#000000; stroke-linecap:butt; stroke-linejoin:round; stroke-width:4; stroke-opacity:1; fill:none\" points=\"\n",
       "  155.765,1486.45 155.765,47.2441 \n",
       "  \"/>\n",
       "<polyline clip-path=\"url(#clip450)\" style=\"stroke:#000000; stroke-linecap:butt; stroke-linejoin:round; stroke-width:4; stroke-opacity:1; fill:none\" points=\"\n",
       "  155.765,1219.43 182.129,1219.43 \n",
       "  \"/>\n",
       "<polyline clip-path=\"url(#clip450)\" style=\"stroke:#000000; stroke-linecap:butt; stroke-linejoin:round; stroke-width:4; stroke-opacity:1; fill:none\" points=\"\n",
       "  155.765,936.563 182.129,936.563 \n",
       "  \"/>\n",
       "<polyline clip-path=\"url(#clip450)\" style=\"stroke:#000000; stroke-linecap:butt; stroke-linejoin:round; stroke-width:4; stroke-opacity:1; fill:none\" points=\"\n",
       "  155.765,653.701 182.129,653.701 \n",
       "  \"/>\n",
       "<polyline clip-path=\"url(#clip450)\" style=\"stroke:#000000; stroke-linecap:butt; stroke-linejoin:round; stroke-width:4; stroke-opacity:1; fill:none\" points=\"\n",
       "  155.765,370.839 182.129,370.839 \n",
       "  \"/>\n",
       "<polyline clip-path=\"url(#clip450)\" style=\"stroke:#000000; stroke-linecap:butt; stroke-linejoin:round; stroke-width:4; stroke-opacity:1; fill:none\" points=\"\n",
       "  155.765,87.9763 182.129,87.9763 \n",
       "  \"/>\n",
       "<path clip-path=\"url(#clip450)\" d=\"M63.5847 1205.22 Q59.9736 1205.22 58.1449 1208.79 Q56.3393 1212.33 56.3393 1219.46 Q56.3393 1226.57 58.1449 1230.13 Q59.9736 1233.67 63.5847 1233.67 Q67.2189 1233.67 69.0244 1230.13 Q70.8531 1226.57 70.8531 1219.46 Q70.8531 1212.33 69.0244 1208.79 Q67.2189 1205.22 63.5847 1205.22 M63.5847 1201.52 Q69.3948 1201.52 72.4503 1206.13 Q75.529 1210.71 75.529 1219.46 Q75.529 1228.19 72.4503 1232.79 Q69.3948 1237.38 63.5847 1237.38 Q57.7745 1237.38 54.6958 1232.79 Q51.6403 1228.19 51.6403 1219.46 Q51.6403 1210.71 54.6958 1206.13 Q57.7745 1201.52 63.5847 1201.52 Z\" fill=\"#000000\" fill-rule=\"evenodd\" fill-opacity=\"1\" /><path clip-path=\"url(#clip450)\" d=\"M83.7466 1230.83 L88.6308 1230.83 L88.6308 1236.71 L83.7466 1236.71 L83.7466 1230.83 Z\" fill=\"#000000\" fill-rule=\"evenodd\" fill-opacity=\"1\" /><path clip-path=\"url(#clip450)\" d=\"M98.8622 1202.15 L117.219 1202.15 L117.219 1206.08 L103.145 1206.08 L103.145 1214.55 Q104.163 1214.21 105.182 1214.04 Q106.2 1213.86 107.219 1213.86 Q113.006 1213.86 116.385 1217.03 Q119.765 1220.2 119.765 1225.62 Q119.765 1231.2 116.293 1234.3 Q112.82 1237.38 106.501 1237.38 Q104.325 1237.38 102.057 1237.01 Q99.8113 1236.64 97.4039 1235.9 L97.4039 1231.2 Q99.4872 1232.33 101.709 1232.89 Q103.932 1233.44 106.408 1233.44 Q110.413 1233.44 112.751 1231.34 Q115.089 1229.23 115.089 1225.62 Q115.089 1222.01 112.751 1219.9 Q110.413 1217.79 106.408 1217.79 Q104.534 1217.79 102.659 1218.21 Q100.807 1218.63 98.8622 1219.51 L98.8622 1202.15 Z\" fill=\"#000000\" fill-rule=\"evenodd\" fill-opacity=\"1\" /><path clip-path=\"url(#clip450)\" d=\"M53.3995 949.908 L61.0384 949.908 L61.0384 923.543 L52.7282 925.209 L52.7282 920.95 L60.9921 919.283 L65.668 919.283 L65.668 949.908 L73.3068 949.908 L73.3068 953.843 L53.3995 953.843 L53.3995 949.908 Z\" fill=\"#000000\" fill-rule=\"evenodd\" fill-opacity=\"1\" /><path clip-path=\"url(#clip450)\" d=\"M82.7512 947.964 L87.6354 947.964 L87.6354 953.843 L82.7512 953.843 L82.7512 947.964 Z\" fill=\"#000000\" fill-rule=\"evenodd\" fill-opacity=\"1\" /><path clip-path=\"url(#clip450)\" d=\"M107.821 922.362 Q104.209 922.362 102.381 925.927 Q100.575 929.469 100.575 936.598 Q100.575 943.705 102.381 947.269 Q104.209 950.811 107.821 950.811 Q111.455 950.811 113.26 947.269 Q115.089 943.705 115.089 936.598 Q115.089 929.469 113.26 925.927 Q111.455 922.362 107.821 922.362 M107.821 918.658 Q113.631 918.658 116.686 923.265 Q119.765 927.848 119.765 936.598 Q119.765 945.325 116.686 949.931 Q113.631 954.515 107.821 954.515 Q102.01 954.515 98.9317 949.931 Q95.8761 945.325 95.8761 936.598 Q95.8761 927.848 98.9317 923.265 Q102.01 918.658 107.821 918.658 Z\" fill=\"#000000\" fill-rule=\"evenodd\" fill-opacity=\"1\" /><path clip-path=\"url(#clip450)\" d=\"M54.3949 667.046 L62.0337 667.046 L62.0337 640.68 L53.7236 642.347 L53.7236 638.088 L61.9874 636.421 L66.6633 636.421 L66.6633 667.046 L74.3022 667.046 L74.3022 670.981 L54.3949 670.981 L54.3949 667.046 Z\" fill=\"#000000\" fill-rule=\"evenodd\" fill-opacity=\"1\" /><path clip-path=\"url(#clip450)\" d=\"M83.7466 665.101 L88.6308 665.101 L88.6308 670.981 L83.7466 670.981 L83.7466 665.101 Z\" fill=\"#000000\" fill-rule=\"evenodd\" fill-opacity=\"1\" /><path clip-path=\"url(#clip450)\" d=\"M98.8622 636.421 L117.219 636.421 L117.219 640.356 L103.145 640.356 L103.145 648.828 Q104.163 648.481 105.182 648.319 Q106.2 648.134 107.219 648.134 Q113.006 648.134 116.385 651.305 Q119.765 654.476 119.765 659.893 Q119.765 665.472 116.293 668.574 Q112.82 671.652 106.501 671.652 Q104.325 671.652 102.057 671.282 Q99.8113 670.912 97.4039 670.171 L97.4039 665.472 Q99.4872 666.606 101.709 667.162 Q103.932 667.717 106.408 667.717 Q110.413 667.717 112.751 665.611 Q115.089 663.504 115.089 659.893 Q115.089 656.282 112.751 654.176 Q110.413 652.069 106.408 652.069 Q104.534 652.069 102.659 652.486 Q100.807 652.902 98.8622 653.782 L98.8622 636.421 Z\" fill=\"#000000\" fill-rule=\"evenodd\" fill-opacity=\"1\" /><path clip-path=\"url(#clip450)\" d=\"M56.6171 384.183 L72.9365 384.183 L72.9365 388.119 L50.9921 388.119 L50.9921 384.183 Q53.6541 381.429 58.2375 376.799 Q62.8439 372.147 64.0245 370.804 Q66.2698 368.281 67.1494 366.545 Q68.0522 364.785 68.0522 363.096 Q68.0522 360.341 66.1078 358.605 Q64.1865 356.869 61.0847 356.869 Q58.8856 356.869 56.4319 357.633 Q54.0014 358.397 51.2236 359.948 L51.2236 355.225 Q54.0477 354.091 56.5014 353.512 Q58.955 352.934 60.9921 352.934 Q66.3624 352.934 69.5568 355.619 Q72.7513 358.304 72.7513 362.795 Q72.7513 364.924 71.9411 366.846 Q71.1541 368.744 69.0476 371.336 Q68.4689 372.008 65.367 375.225 Q62.2652 378.42 56.6171 384.183 Z\" fill=\"#000000\" fill-rule=\"evenodd\" fill-opacity=\"1\" /><path clip-path=\"url(#clip450)\" d=\"M82.7512 382.239 L87.6354 382.239 L87.6354 388.119 L82.7512 388.119 L82.7512 382.239 Z\" fill=\"#000000\" fill-rule=\"evenodd\" fill-opacity=\"1\" /><path clip-path=\"url(#clip450)\" d=\"M107.821 356.637 Q104.209 356.637 102.381 360.202 Q100.575 363.744 100.575 370.873 Q100.575 377.98 102.381 381.545 Q104.209 385.086 107.821 385.086 Q111.455 385.086 113.26 381.545 Q115.089 377.98 115.089 370.873 Q115.089 363.744 113.26 360.202 Q111.455 356.637 107.821 356.637 M107.821 352.934 Q113.631 352.934 116.686 357.54 Q119.765 362.123 119.765 370.873 Q119.765 379.6 116.686 384.207 Q113.631 388.79 107.821 388.79 Q102.01 388.79 98.9317 384.207 Q95.8761 379.6 95.8761 370.873 Q95.8761 362.123 98.9317 357.54 Q102.01 352.934 107.821 352.934 Z\" fill=\"#000000\" fill-rule=\"evenodd\" fill-opacity=\"1\" /><path clip-path=\"url(#clip450)\" d=\"M57.6125 101.321 L73.9318 101.321 L73.9318 105.256 L51.9875 105.256 L51.9875 101.321 Q54.6495 98.5665 59.2328 93.9369 Q63.8393 89.2841 65.0198 87.9416 Q67.2652 85.4184 68.1448 83.6823 Q69.0476 81.9231 69.0476 80.2333 Q69.0476 77.4786 67.1032 75.7425 Q65.1819 74.0064 62.08 74.0064 Q59.881 74.0064 57.4273 74.7703 Q54.9967 75.5342 52.219 77.0851 L52.219 72.3629 Q55.043 71.2287 57.4967 70.65 Q59.9504 70.0713 61.9874 70.0713 Q67.3578 70.0713 70.5522 72.7565 Q73.7466 75.4416 73.7466 79.9323 Q73.7466 82.062 72.9365 83.9832 Q72.1494 85.8814 70.0429 88.474 Q69.4642 89.1453 66.3624 92.3628 Q63.2606 95.5573 57.6125 101.321 Z\" fill=\"#000000\" fill-rule=\"evenodd\" fill-opacity=\"1\" /><path clip-path=\"url(#clip450)\" d=\"M83.7466 99.3767 L88.6308 99.3767 L88.6308 105.256 L83.7466 105.256 L83.7466 99.3767 Z\" fill=\"#000000\" fill-rule=\"evenodd\" fill-opacity=\"1\" /><path clip-path=\"url(#clip450)\" d=\"M98.8622 70.6963 L117.219 70.6963 L117.219 74.6314 L103.145 74.6314 L103.145 83.1036 Q104.163 82.7564 105.182 82.5944 Q106.2 82.4092 107.219 82.4092 Q113.006 82.4092 116.385 85.5805 Q119.765 88.7517 119.765 94.1684 Q119.765 99.747 116.293 102.849 Q112.82 105.928 106.501 105.928 Q104.325 105.928 102.057 105.557 Q99.8113 105.187 97.4039 104.446 L97.4039 99.747 Q99.4872 100.881 101.709 101.437 Q103.932 101.992 106.408 101.992 Q110.413 101.992 112.751 99.8859 Q115.089 97.7795 115.089 94.1684 Q115.089 90.5573 112.751 88.4508 Q110.413 86.3443 106.408 86.3443 Q104.534 86.3443 102.659 86.761 Q100.807 87.1777 98.8622 88.0573 L98.8622 70.6963 Z\" fill=\"#000000\" fill-rule=\"evenodd\" fill-opacity=\"1\" /><circle clip-path=\"url(#clip452)\" cx=\"358.461\" cy=\"1389.14\" r=\"14\" fill=\"#009af9\" fill-rule=\"evenodd\" fill-opacity=\"1\" stroke=\"#000000\" stroke-opacity=\"1\" stroke-width=\"3.2\"/>\n",
       "<circle clip-path=\"url(#clip452)\" cx=\"358.461\" cy=\"1389.14\" r=\"14\" fill=\"#009af9\" fill-rule=\"evenodd\" fill-opacity=\"1\" stroke=\"#000000\" stroke-opacity=\"1\" stroke-width=\"3.2\"/>\n",
       "<circle clip-path=\"url(#clip452)\" cx=\"323.332\" cy=\"1389.14\" r=\"14\" fill=\"#009af9\" fill-rule=\"evenodd\" fill-opacity=\"1\" stroke=\"#000000\" stroke-opacity=\"1\" stroke-width=\"3.2\"/>\n",
       "<circle clip-path=\"url(#clip452)\" cx=\"393.591\" cy=\"1389.14\" r=\"14\" fill=\"#009af9\" fill-rule=\"evenodd\" fill-opacity=\"1\" stroke=\"#000000\" stroke-opacity=\"1\" stroke-width=\"3.2\"/>\n",
       "<circle clip-path=\"url(#clip452)\" cx=\"358.461\" cy=\"1389.14\" r=\"14\" fill=\"#009af9\" fill-rule=\"evenodd\" fill-opacity=\"1\" stroke=\"#000000\" stroke-opacity=\"1\" stroke-width=\"3.2\"/>\n",
       "<circle clip-path=\"url(#clip452)\" cx=\"463.85\" cy=\"1276\" r=\"14\" fill=\"#009af9\" fill-rule=\"evenodd\" fill-opacity=\"1\" stroke=\"#000000\" stroke-opacity=\"1\" stroke-width=\"3.2\"/>\n",
       "<circle clip-path=\"url(#clip452)\" cx=\"358.461\" cy=\"1332.57\" r=\"14\" fill=\"#009af9\" fill-rule=\"evenodd\" fill-opacity=\"1\" stroke=\"#000000\" stroke-opacity=\"1\" stroke-width=\"3.2\"/>\n",
       "<circle clip-path=\"url(#clip452)\" cx=\"393.591\" cy=\"1389.14\" r=\"14\" fill=\"#009af9\" fill-rule=\"evenodd\" fill-opacity=\"1\" stroke=\"#000000\" stroke-opacity=\"1\" stroke-width=\"3.2\"/>\n",
       "<circle clip-path=\"url(#clip452)\" cx=\"358.461\" cy=\"1389.14\" r=\"14\" fill=\"#009af9\" fill-rule=\"evenodd\" fill-opacity=\"1\" stroke=\"#000000\" stroke-opacity=\"1\" stroke-width=\"3.2\"/>\n",
       "<circle clip-path=\"url(#clip452)\" cx=\"393.591\" cy=\"1445.72\" r=\"14\" fill=\"#009af9\" fill-rule=\"evenodd\" fill-opacity=\"1\" stroke=\"#000000\" stroke-opacity=\"1\" stroke-width=\"3.2\"/>\n",
       "<circle clip-path=\"url(#clip452)\" cx=\"393.591\" cy=\"1389.14\" r=\"14\" fill=\"#009af9\" fill-rule=\"evenodd\" fill-opacity=\"1\" stroke=\"#000000\" stroke-opacity=\"1\" stroke-width=\"3.2\"/>\n",
       "<circle clip-path=\"url(#clip452)\" cx=\"428.72\" cy=\"1389.14\" r=\"14\" fill=\"#009af9\" fill-rule=\"evenodd\" fill-opacity=\"1\" stroke=\"#000000\" stroke-opacity=\"1\" stroke-width=\"3.2\"/>\n",
       "<circle clip-path=\"url(#clip452)\" cx=\"358.461\" cy=\"1445.72\" r=\"14\" fill=\"#009af9\" fill-rule=\"evenodd\" fill-opacity=\"1\" stroke=\"#000000\" stroke-opacity=\"1\" stroke-width=\"3.2\"/>\n",
       "<circle clip-path=\"url(#clip452)\" cx=\"253.073\" cy=\"1445.72\" r=\"14\" fill=\"#009af9\" fill-rule=\"evenodd\" fill-opacity=\"1\" stroke=\"#000000\" stroke-opacity=\"1\" stroke-width=\"3.2\"/>\n",
       "<circle clip-path=\"url(#clip452)\" cx=\"288.203\" cy=\"1389.14\" r=\"14\" fill=\"#009af9\" fill-rule=\"evenodd\" fill-opacity=\"1\" stroke=\"#000000\" stroke-opacity=\"1\" stroke-width=\"3.2\"/>\n",
       "<circle clip-path=\"url(#clip452)\" cx=\"393.591\" cy=\"1276\" r=\"14\" fill=\"#009af9\" fill-rule=\"evenodd\" fill-opacity=\"1\" stroke=\"#000000\" stroke-opacity=\"1\" stroke-width=\"3.2\"/>\n",
       "<circle clip-path=\"url(#clip452)\" cx=\"323.332\" cy=\"1276\" r=\"14\" fill=\"#009af9\" fill-rule=\"evenodd\" fill-opacity=\"1\" stroke=\"#000000\" stroke-opacity=\"1\" stroke-width=\"3.2\"/>\n",
       "<circle clip-path=\"url(#clip452)\" cx=\"358.461\" cy=\"1332.57\" r=\"14\" fill=\"#009af9\" fill-rule=\"evenodd\" fill-opacity=\"1\" stroke=\"#000000\" stroke-opacity=\"1\" stroke-width=\"3.2\"/>\n",
       "<circle clip-path=\"url(#clip452)\" cx=\"463.85\" cy=\"1332.57\" r=\"14\" fill=\"#009af9\" fill-rule=\"evenodd\" fill-opacity=\"1\" stroke=\"#000000\" stroke-opacity=\"1\" stroke-width=\"3.2\"/>\n",
       "<circle clip-path=\"url(#clip452)\" cx=\"393.591\" cy=\"1332.57\" r=\"14\" fill=\"#009af9\" fill-rule=\"evenodd\" fill-opacity=\"1\" stroke=\"#000000\" stroke-opacity=\"1\" stroke-width=\"3.2\"/>\n",
       "<circle clip-path=\"url(#clip452)\" cx=\"463.85\" cy=\"1389.14\" r=\"14\" fill=\"#009af9\" fill-rule=\"evenodd\" fill-opacity=\"1\" stroke=\"#000000\" stroke-opacity=\"1\" stroke-width=\"3.2\"/>\n",
       "<circle clip-path=\"url(#clip452)\" cx=\"393.591\" cy=\"1276\" r=\"14\" fill=\"#009af9\" fill-rule=\"evenodd\" fill-opacity=\"1\" stroke=\"#000000\" stroke-opacity=\"1\" stroke-width=\"3.2\"/>\n",
       "<circle clip-path=\"url(#clip452)\" cx=\"217.944\" cy=\"1389.14\" r=\"14\" fill=\"#009af9\" fill-rule=\"evenodd\" fill-opacity=\"1\" stroke=\"#000000\" stroke-opacity=\"1\" stroke-width=\"3.2\"/>\n",
       "<circle clip-path=\"url(#clip452)\" cx=\"463.85\" cy=\"1219.43\" r=\"14\" fill=\"#009af9\" fill-rule=\"evenodd\" fill-opacity=\"1\" stroke=\"#000000\" stroke-opacity=\"1\" stroke-width=\"3.2\"/>\n",
       "<circle clip-path=\"url(#clip452)\" cx=\"534.108\" cy=\"1389.14\" r=\"14\" fill=\"#009af9\" fill-rule=\"evenodd\" fill-opacity=\"1\" stroke=\"#000000\" stroke-opacity=\"1\" stroke-width=\"3.2\"/>\n",
       "<circle clip-path=\"url(#clip452)\" cx=\"428.72\" cy=\"1389.14\" r=\"14\" fill=\"#009af9\" fill-rule=\"evenodd\" fill-opacity=\"1\" stroke=\"#000000\" stroke-opacity=\"1\" stroke-width=\"3.2\"/>\n",
       "<circle clip-path=\"url(#clip452)\" cx=\"428.72\" cy=\"1276\" r=\"14\" fill=\"#009af9\" fill-rule=\"evenodd\" fill-opacity=\"1\" stroke=\"#000000\" stroke-opacity=\"1\" stroke-width=\"3.2\"/>\n",
       "<circle clip-path=\"url(#clip452)\" cx=\"393.591\" cy=\"1389.14\" r=\"14\" fill=\"#009af9\" fill-rule=\"evenodd\" fill-opacity=\"1\" stroke=\"#000000\" stroke-opacity=\"1\" stroke-width=\"3.2\"/>\n",
       "<circle clip-path=\"url(#clip452)\" cx=\"358.461\" cy=\"1389.14\" r=\"14\" fill=\"#009af9\" fill-rule=\"evenodd\" fill-opacity=\"1\" stroke=\"#000000\" stroke-opacity=\"1\" stroke-width=\"3.2\"/>\n",
       "<circle clip-path=\"url(#clip452)\" cx=\"428.72\" cy=\"1389.14\" r=\"14\" fill=\"#009af9\" fill-rule=\"evenodd\" fill-opacity=\"1\" stroke=\"#000000\" stroke-opacity=\"1\" stroke-width=\"3.2\"/>\n",
       "<circle clip-path=\"url(#clip452)\" cx=\"428.72\" cy=\"1389.14\" r=\"14\" fill=\"#009af9\" fill-rule=\"evenodd\" fill-opacity=\"1\" stroke=\"#000000\" stroke-opacity=\"1\" stroke-width=\"3.2\"/>\n",
       "<circle clip-path=\"url(#clip452)\" cx=\"393.591\" cy=\"1276\" r=\"14\" fill=\"#009af9\" fill-rule=\"evenodd\" fill-opacity=\"1\" stroke=\"#000000\" stroke-opacity=\"1\" stroke-width=\"3.2\"/>\n",
       "<circle clip-path=\"url(#clip452)\" cx=\"393.591\" cy=\"1445.72\" r=\"14\" fill=\"#009af9\" fill-rule=\"evenodd\" fill-opacity=\"1\" stroke=\"#000000\" stroke-opacity=\"1\" stroke-width=\"3.2\"/>\n",
       "<circle clip-path=\"url(#clip452)\" cx=\"358.461\" cy=\"1389.14\" r=\"14\" fill=\"#009af9\" fill-rule=\"evenodd\" fill-opacity=\"1\" stroke=\"#000000\" stroke-opacity=\"1\" stroke-width=\"3.2\"/>\n",
       "<circle clip-path=\"url(#clip452)\" cx=\"393.591\" cy=\"1389.14\" r=\"14\" fill=\"#009af9\" fill-rule=\"evenodd\" fill-opacity=\"1\" stroke=\"#000000\" stroke-opacity=\"1\" stroke-width=\"3.2\"/>\n",
       "<circle clip-path=\"url(#clip452)\" cx=\"288.203\" cy=\"1389.14\" r=\"14\" fill=\"#009af9\" fill-rule=\"evenodd\" fill-opacity=\"1\" stroke=\"#000000\" stroke-opacity=\"1\" stroke-width=\"3.2\"/>\n",
       "<circle clip-path=\"url(#clip452)\" cx=\"323.332\" cy=\"1389.14\" r=\"14\" fill=\"#009af9\" fill-rule=\"evenodd\" fill-opacity=\"1\" stroke=\"#000000\" stroke-opacity=\"1\" stroke-width=\"3.2\"/>\n",
       "<circle clip-path=\"url(#clip452)\" cx=\"358.461\" cy=\"1445.72\" r=\"14\" fill=\"#009af9\" fill-rule=\"evenodd\" fill-opacity=\"1\" stroke=\"#000000\" stroke-opacity=\"1\" stroke-width=\"3.2\"/>\n",
       "<circle clip-path=\"url(#clip452)\" cx=\"323.332\" cy=\"1389.14\" r=\"14\" fill=\"#009af9\" fill-rule=\"evenodd\" fill-opacity=\"1\" stroke=\"#000000\" stroke-opacity=\"1\" stroke-width=\"3.2\"/>\n",
       "<circle clip-path=\"url(#clip452)\" cx=\"393.591\" cy=\"1389.14\" r=\"14\" fill=\"#009af9\" fill-rule=\"evenodd\" fill-opacity=\"1\" stroke=\"#000000\" stroke-opacity=\"1\" stroke-width=\"3.2\"/>\n",
       "<circle clip-path=\"url(#clip452)\" cx=\"323.332\" cy=\"1332.57\" r=\"14\" fill=\"#009af9\" fill-rule=\"evenodd\" fill-opacity=\"1\" stroke=\"#000000\" stroke-opacity=\"1\" stroke-width=\"3.2\"/>\n",
       "<circle clip-path=\"url(#clip452)\" cx=\"323.332\" cy=\"1332.57\" r=\"14\" fill=\"#009af9\" fill-rule=\"evenodd\" fill-opacity=\"1\" stroke=\"#000000\" stroke-opacity=\"1\" stroke-width=\"3.2\"/>\n",
       "<circle clip-path=\"url(#clip452)\" cx=\"323.332\" cy=\"1389.14\" r=\"14\" fill=\"#009af9\" fill-rule=\"evenodd\" fill-opacity=\"1\" stroke=\"#000000\" stroke-opacity=\"1\" stroke-width=\"3.2\"/>\n",
       "<circle clip-path=\"url(#clip452)\" cx=\"428.72\" cy=\"1162.85\" r=\"14\" fill=\"#009af9\" fill-rule=\"evenodd\" fill-opacity=\"1\" stroke=\"#000000\" stroke-opacity=\"1\" stroke-width=\"3.2\"/>\n",
       "<circle clip-path=\"url(#clip452)\" cx=\"534.108\" cy=\"1276\" r=\"14\" fill=\"#009af9\" fill-rule=\"evenodd\" fill-opacity=\"1\" stroke=\"#000000\" stroke-opacity=\"1\" stroke-width=\"3.2\"/>\n",
       "<circle clip-path=\"url(#clip452)\" cx=\"358.461\" cy=\"1332.57\" r=\"14\" fill=\"#009af9\" fill-rule=\"evenodd\" fill-opacity=\"1\" stroke=\"#000000\" stroke-opacity=\"1\" stroke-width=\"3.2\"/>\n",
       "<circle clip-path=\"url(#clip452)\" cx=\"428.72\" cy=\"1389.14\" r=\"14\" fill=\"#009af9\" fill-rule=\"evenodd\" fill-opacity=\"1\" stroke=\"#000000\" stroke-opacity=\"1\" stroke-width=\"3.2\"/>\n",
       "<circle clip-path=\"url(#clip452)\" cx=\"358.461\" cy=\"1389.14\" r=\"14\" fill=\"#009af9\" fill-rule=\"evenodd\" fill-opacity=\"1\" stroke=\"#000000\" stroke-opacity=\"1\" stroke-width=\"3.2\"/>\n",
       "<circle clip-path=\"url(#clip452)\" cx=\"393.591\" cy=\"1389.14\" r=\"14\" fill=\"#009af9\" fill-rule=\"evenodd\" fill-opacity=\"1\" stroke=\"#000000\" stroke-opacity=\"1\" stroke-width=\"3.2\"/>\n",
       "<circle clip-path=\"url(#clip452)\" cx=\"358.461\" cy=\"1389.14\" r=\"14\" fill=\"#009af9\" fill-rule=\"evenodd\" fill-opacity=\"1\" stroke=\"#000000\" stroke-opacity=\"1\" stroke-width=\"3.2\"/>\n",
       "<circle clip-path=\"url(#clip452)\" cx=\"1517.73\" cy=\"710.274\" r=\"14\" fill=\"#009af9\" fill-rule=\"evenodd\" fill-opacity=\"1\" stroke=\"#000000\" stroke-opacity=\"1\" stroke-width=\"3.2\"/>\n",
       "<circle clip-path=\"url(#clip452)\" cx=\"1447.47\" cy=\"653.701\" r=\"14\" fill=\"#009af9\" fill-rule=\"evenodd\" fill-opacity=\"1\" stroke=\"#000000\" stroke-opacity=\"1\" stroke-width=\"3.2\"/>\n",
       "<circle clip-path=\"url(#clip452)\" cx=\"1587.99\" cy=\"653.701\" r=\"14\" fill=\"#009af9\" fill-rule=\"evenodd\" fill-opacity=\"1\" stroke=\"#000000\" stroke-opacity=\"1\" stroke-width=\"3.2\"/>\n",
       "<circle clip-path=\"url(#clip452)\" cx=\"1271.83\" cy=\"766.846\" r=\"14\" fill=\"#009af9\" fill-rule=\"evenodd\" fill-opacity=\"1\" stroke=\"#000000\" stroke-opacity=\"1\" stroke-width=\"3.2\"/>\n",
       "<circle clip-path=\"url(#clip452)\" cx=\"1482.6\" cy=\"653.701\" r=\"14\" fill=\"#009af9\" fill-rule=\"evenodd\" fill-opacity=\"1\" stroke=\"#000000\" stroke-opacity=\"1\" stroke-width=\"3.2\"/>\n",
       "<circle clip-path=\"url(#clip452)\" cx=\"1447.47\" cy=\"766.846\" r=\"14\" fill=\"#009af9\" fill-rule=\"evenodd\" fill-opacity=\"1\" stroke=\"#000000\" stroke-opacity=\"1\" stroke-width=\"3.2\"/>\n",
       "<circle clip-path=\"url(#clip452)\" cx=\"1517.73\" cy=\"597.129\" r=\"14\" fill=\"#009af9\" fill-rule=\"evenodd\" fill-opacity=\"1\" stroke=\"#000000\" stroke-opacity=\"1\" stroke-width=\"3.2\"/>\n",
       "<circle clip-path=\"url(#clip452)\" cx=\"1025.92\" cy=\"936.563\" r=\"14\" fill=\"#009af9\" fill-rule=\"evenodd\" fill-opacity=\"1\" stroke=\"#000000\" stroke-opacity=\"1\" stroke-width=\"3.2\"/>\n",
       "<circle clip-path=\"url(#clip452)\" cx=\"1482.6\" cy=\"766.846\" r=\"14\" fill=\"#009af9\" fill-rule=\"evenodd\" fill-opacity=\"1\" stroke=\"#000000\" stroke-opacity=\"1\" stroke-width=\"3.2\"/>\n",
       "<circle clip-path=\"url(#clip452)\" cx=\"1236.7\" cy=\"710.274\" r=\"14\" fill=\"#009af9\" fill-rule=\"evenodd\" fill-opacity=\"1\" stroke=\"#000000\" stroke-opacity=\"1\" stroke-width=\"3.2\"/>\n",
       "<circle clip-path=\"url(#clip452)\" cx=\"1096.18\" cy=\"936.563\" r=\"14\" fill=\"#009af9\" fill-rule=\"evenodd\" fill-opacity=\"1\" stroke=\"#000000\" stroke-opacity=\"1\" stroke-width=\"3.2\"/>\n",
       "<circle clip-path=\"url(#clip452)\" cx=\"1342.08\" cy=\"653.701\" r=\"14\" fill=\"#009af9\" fill-rule=\"evenodd\" fill-opacity=\"1\" stroke=\"#000000\" stroke-opacity=\"1\" stroke-width=\"3.2\"/>\n",
       "<circle clip-path=\"url(#clip452)\" cx=\"1271.83\" cy=\"936.563\" r=\"14\" fill=\"#009af9\" fill-rule=\"evenodd\" fill-opacity=\"1\" stroke=\"#000000\" stroke-opacity=\"1\" stroke-width=\"3.2\"/>\n",
       "<circle clip-path=\"url(#clip452)\" cx=\"1517.73\" cy=\"710.274\" r=\"14\" fill=\"#009af9\" fill-rule=\"evenodd\" fill-opacity=\"1\" stroke=\"#000000\" stroke-opacity=\"1\" stroke-width=\"3.2\"/>\n",
       "<circle clip-path=\"url(#clip452)\" cx=\"1131.31\" cy=\"766.846\" r=\"14\" fill=\"#009af9\" fill-rule=\"evenodd\" fill-opacity=\"1\" stroke=\"#000000\" stroke-opacity=\"1\" stroke-width=\"3.2\"/>\n",
       "<circle clip-path=\"url(#clip452)\" cx=\"1412.34\" cy=\"710.274\" r=\"14\" fill=\"#009af9\" fill-rule=\"evenodd\" fill-opacity=\"1\" stroke=\"#000000\" stroke-opacity=\"1\" stroke-width=\"3.2\"/>\n",
       "<circle clip-path=\"url(#clip452)\" cx=\"1447.47\" cy=\"653.701\" r=\"14\" fill=\"#009af9\" fill-rule=\"evenodd\" fill-opacity=\"1\" stroke=\"#000000\" stroke-opacity=\"1\" stroke-width=\"3.2\"/>\n",
       "<circle clip-path=\"url(#clip452)\" cx=\"1306.95\" cy=\"936.563\" r=\"14\" fill=\"#009af9\" fill-rule=\"evenodd\" fill-opacity=\"1\" stroke=\"#000000\" stroke-opacity=\"1\" stroke-width=\"3.2\"/>\n",
       "<circle clip-path=\"url(#clip452)\" cx=\"1447.47\" cy=\"653.701\" r=\"14\" fill=\"#009af9\" fill-rule=\"evenodd\" fill-opacity=\"1\" stroke=\"#000000\" stroke-opacity=\"1\" stroke-width=\"3.2\"/>\n",
       "<circle clip-path=\"url(#clip452)\" cx=\"1236.7\" cy=\"879.991\" r=\"14\" fill=\"#009af9\" fill-rule=\"evenodd\" fill-opacity=\"1\" stroke=\"#000000\" stroke-opacity=\"1\" stroke-width=\"3.2\"/>\n",
       "<circle clip-path=\"url(#clip452)\" cx=\"1552.86\" cy=\"483.984\" r=\"14\" fill=\"#009af9\" fill-rule=\"evenodd\" fill-opacity=\"1\" stroke=\"#000000\" stroke-opacity=\"1\" stroke-width=\"3.2\"/>\n",
       "<circle clip-path=\"url(#clip452)\" cx=\"1271.83\" cy=\"766.846\" r=\"14\" fill=\"#009af9\" fill-rule=\"evenodd\" fill-opacity=\"1\" stroke=\"#000000\" stroke-opacity=\"1\" stroke-width=\"3.2\"/>\n",
       "<circle clip-path=\"url(#clip452)\" cx=\"1587.99\" cy=\"653.701\" r=\"14\" fill=\"#009af9\" fill-rule=\"evenodd\" fill-opacity=\"1\" stroke=\"#000000\" stroke-opacity=\"1\" stroke-width=\"3.2\"/>\n",
       "<circle clip-path=\"url(#clip452)\" cx=\"1517.73\" cy=\"823.418\" r=\"14\" fill=\"#009af9\" fill-rule=\"evenodd\" fill-opacity=\"1\" stroke=\"#000000\" stroke-opacity=\"1\" stroke-width=\"3.2\"/>\n",
       "<circle clip-path=\"url(#clip452)\" cx=\"1377.21\" cy=\"766.846\" r=\"14\" fill=\"#009af9\" fill-rule=\"evenodd\" fill-opacity=\"1\" stroke=\"#000000\" stroke-opacity=\"1\" stroke-width=\"3.2\"/>\n",
       "<circle clip-path=\"url(#clip452)\" cx=\"1412.34\" cy=\"710.274\" r=\"14\" fill=\"#009af9\" fill-rule=\"evenodd\" fill-opacity=\"1\" stroke=\"#000000\" stroke-opacity=\"1\" stroke-width=\"3.2\"/>\n",
       "<circle clip-path=\"url(#clip452)\" cx=\"1552.86\" cy=\"710.274\" r=\"14\" fill=\"#009af9\" fill-rule=\"evenodd\" fill-opacity=\"1\" stroke=\"#000000\" stroke-opacity=\"1\" stroke-width=\"3.2\"/>\n",
       "<circle clip-path=\"url(#clip452)\" cx=\"1623.12\" cy=\"540.556\" r=\"14\" fill=\"#009af9\" fill-rule=\"evenodd\" fill-opacity=\"1\" stroke=\"#000000\" stroke-opacity=\"1\" stroke-width=\"3.2\"/>\n",
       "<circle clip-path=\"url(#clip452)\" cx=\"1447.47\" cy=\"653.701\" r=\"14\" fill=\"#009af9\" fill-rule=\"evenodd\" fill-opacity=\"1\" stroke=\"#000000\" stroke-opacity=\"1\" stroke-width=\"3.2\"/>\n",
       "<circle clip-path=\"url(#clip452)\" cx=\"1096.18\" cy=\"936.563\" r=\"14\" fill=\"#009af9\" fill-rule=\"evenodd\" fill-opacity=\"1\" stroke=\"#000000\" stroke-opacity=\"1\" stroke-width=\"3.2\"/>\n",
       "<circle clip-path=\"url(#clip452)\" cx=\"1201.57\" cy=\"879.991\" r=\"14\" fill=\"#009af9\" fill-rule=\"evenodd\" fill-opacity=\"1\" stroke=\"#000000\" stroke-opacity=\"1\" stroke-width=\"3.2\"/>\n",
       "<circle clip-path=\"url(#clip452)\" cx=\"1166.44\" cy=\"936.563\" r=\"14\" fill=\"#009af9\" fill-rule=\"evenodd\" fill-opacity=\"1\" stroke=\"#000000\" stroke-opacity=\"1\" stroke-width=\"3.2\"/>\n",
       "<circle clip-path=\"url(#clip452)\" cx=\"1236.7\" cy=\"823.418\" r=\"14\" fill=\"#009af9\" fill-rule=\"evenodd\" fill-opacity=\"1\" stroke=\"#000000\" stroke-opacity=\"1\" stroke-width=\"3.2\"/>\n",
       "<circle clip-path=\"url(#clip452)\" cx=\"1658.25\" cy=\"597.129\" r=\"14\" fill=\"#009af9\" fill-rule=\"evenodd\" fill-opacity=\"1\" stroke=\"#000000\" stroke-opacity=\"1\" stroke-width=\"3.2\"/>\n",
       "<circle clip-path=\"url(#clip452)\" cx=\"1447.47\" cy=\"653.701\" r=\"14\" fill=\"#009af9\" fill-rule=\"evenodd\" fill-opacity=\"1\" stroke=\"#000000\" stroke-opacity=\"1\" stroke-width=\"3.2\"/>\n",
       "<circle clip-path=\"url(#clip452)\" cx=\"1447.47\" cy=\"597.129\" r=\"14\" fill=\"#009af9\" fill-rule=\"evenodd\" fill-opacity=\"1\" stroke=\"#000000\" stroke-opacity=\"1\" stroke-width=\"3.2\"/>\n",
       "<circle clip-path=\"url(#clip452)\" cx=\"1517.73\" cy=\"653.701\" r=\"14\" fill=\"#009af9\" fill-rule=\"evenodd\" fill-opacity=\"1\" stroke=\"#000000\" stroke-opacity=\"1\" stroke-width=\"3.2\"/>\n",
       "<circle clip-path=\"url(#clip452)\" cx=\"1412.34\" cy=\"766.846\" r=\"14\" fill=\"#009af9\" fill-rule=\"evenodd\" fill-opacity=\"1\" stroke=\"#000000\" stroke-opacity=\"1\" stroke-width=\"3.2\"/>\n",
       "<circle clip-path=\"url(#clip452)\" cx=\"1306.95\" cy=\"766.846\" r=\"14\" fill=\"#009af9\" fill-rule=\"evenodd\" fill-opacity=\"1\" stroke=\"#000000\" stroke-opacity=\"1\" stroke-width=\"3.2\"/>\n",
       "<circle clip-path=\"url(#clip452)\" cx=\"1271.83\" cy=\"766.846\" r=\"14\" fill=\"#009af9\" fill-rule=\"evenodd\" fill-opacity=\"1\" stroke=\"#000000\" stroke-opacity=\"1\" stroke-width=\"3.2\"/>\n",
       "<circle clip-path=\"url(#clip452)\" cx=\"1412.34\" cy=\"823.418\" r=\"14\" fill=\"#009af9\" fill-rule=\"evenodd\" fill-opacity=\"1\" stroke=\"#000000\" stroke-opacity=\"1\" stroke-width=\"3.2\"/>\n",
       "<circle clip-path=\"url(#clip452)\" cx=\"1482.6\" cy=\"710.274\" r=\"14\" fill=\"#009af9\" fill-rule=\"evenodd\" fill-opacity=\"1\" stroke=\"#000000\" stroke-opacity=\"1\" stroke-width=\"3.2\"/>\n",
       "<circle clip-path=\"url(#clip452)\" cx=\"1271.83\" cy=\"823.418\" r=\"14\" fill=\"#009af9\" fill-rule=\"evenodd\" fill-opacity=\"1\" stroke=\"#000000\" stroke-opacity=\"1\" stroke-width=\"3.2\"/>\n",
       "<circle clip-path=\"url(#clip452)\" cx=\"1025.92\" cy=\"936.563\" r=\"14\" fill=\"#009af9\" fill-rule=\"evenodd\" fill-opacity=\"1\" stroke=\"#000000\" stroke-opacity=\"1\" stroke-width=\"3.2\"/>\n",
       "<circle clip-path=\"url(#clip452)\" cx=\"1342.08\" cy=\"766.846\" r=\"14\" fill=\"#009af9\" fill-rule=\"evenodd\" fill-opacity=\"1\" stroke=\"#000000\" stroke-opacity=\"1\" stroke-width=\"3.2\"/>\n",
       "<circle clip-path=\"url(#clip452)\" cx=\"1342.08\" cy=\"823.418\" r=\"14\" fill=\"#009af9\" fill-rule=\"evenodd\" fill-opacity=\"1\" stroke=\"#000000\" stroke-opacity=\"1\" stroke-width=\"3.2\"/>\n",
       "<circle clip-path=\"url(#clip452)\" cx=\"1342.08\" cy=\"766.846\" r=\"14\" fill=\"#009af9\" fill-rule=\"evenodd\" fill-opacity=\"1\" stroke=\"#000000\" stroke-opacity=\"1\" stroke-width=\"3.2\"/>\n",
       "<circle clip-path=\"url(#clip452)\" cx=\"1377.21\" cy=\"766.846\" r=\"14\" fill=\"#009af9\" fill-rule=\"evenodd\" fill-opacity=\"1\" stroke=\"#000000\" stroke-opacity=\"1\" stroke-width=\"3.2\"/>\n",
       "<circle clip-path=\"url(#clip452)\" cx=\"920.531\" cy=\"879.991\" r=\"14\" fill=\"#009af9\" fill-rule=\"evenodd\" fill-opacity=\"1\" stroke=\"#000000\" stroke-opacity=\"1\" stroke-width=\"3.2\"/>\n",
       "<circle clip-path=\"url(#clip452)\" cx=\"1306.95\" cy=\"766.846\" r=\"14\" fill=\"#009af9\" fill-rule=\"evenodd\" fill-opacity=\"1\" stroke=\"#000000\" stroke-opacity=\"1\" stroke-width=\"3.2\"/>\n",
       "<circle clip-path=\"url(#clip452)\" cx=\"1974.41\" cy=\"87.9763\" r=\"14\" fill=\"#009af9\" fill-rule=\"evenodd\" fill-opacity=\"1\" stroke=\"#000000\" stroke-opacity=\"1\" stroke-width=\"3.2\"/>\n",
       "<circle clip-path=\"url(#clip452)\" cx=\"1658.25\" cy=\"427.411\" r=\"14\" fill=\"#009af9\" fill-rule=\"evenodd\" fill-opacity=\"1\" stroke=\"#000000\" stroke-opacity=\"1\" stroke-width=\"3.2\"/>\n",
       "<circle clip-path=\"url(#clip452)\" cx=\"1939.28\" cy=\"314.266\" r=\"14\" fill=\"#009af9\" fill-rule=\"evenodd\" fill-opacity=\"1\" stroke=\"#000000\" stroke-opacity=\"1\" stroke-width=\"3.2\"/>\n",
       "<circle clip-path=\"url(#clip452)\" cx=\"1833.9\" cy=\"483.984\" r=\"14\" fill=\"#009af9\" fill-rule=\"evenodd\" fill-opacity=\"1\" stroke=\"#000000\" stroke-opacity=\"1\" stroke-width=\"3.2\"/>\n",
       "<circle clip-path=\"url(#clip452)\" cx=\"1904.15\" cy=\"257.694\" r=\"14\" fill=\"#009af9\" fill-rule=\"evenodd\" fill-opacity=\"1\" stroke=\"#000000\" stroke-opacity=\"1\" stroke-width=\"3.2\"/>\n",
       "<circle clip-path=\"url(#clip452)\" cx=\"2185.19\" cy=\"314.266\" r=\"14\" fill=\"#009af9\" fill-rule=\"evenodd\" fill-opacity=\"1\" stroke=\"#000000\" stroke-opacity=\"1\" stroke-width=\"3.2\"/>\n",
       "<circle clip-path=\"url(#clip452)\" cx=\"1447.47\" cy=\"540.556\" r=\"14\" fill=\"#009af9\" fill-rule=\"evenodd\" fill-opacity=\"1\" stroke=\"#000000\" stroke-opacity=\"1\" stroke-width=\"3.2\"/>\n",
       "<circle clip-path=\"url(#clip452)\" cx=\"2079.8\" cy=\"483.984\" r=\"14\" fill=\"#009af9\" fill-rule=\"evenodd\" fill-opacity=\"1\" stroke=\"#000000\" stroke-opacity=\"1\" stroke-width=\"3.2\"/>\n",
       "<circle clip-path=\"url(#clip452)\" cx=\"1904.15\" cy=\"483.984\" r=\"14\" fill=\"#009af9\" fill-rule=\"evenodd\" fill-opacity=\"1\" stroke=\"#000000\" stroke-opacity=\"1\" stroke-width=\"3.2\"/>\n",
       "<circle clip-path=\"url(#clip452)\" cx=\"2009.54\" cy=\"87.9763\" r=\"14\" fill=\"#009af9\" fill-rule=\"evenodd\" fill-opacity=\"1\" stroke=\"#000000\" stroke-opacity=\"1\" stroke-width=\"3.2\"/>\n",
       "<circle clip-path=\"url(#clip452)\" cx=\"1658.25\" cy=\"370.839\" r=\"14\" fill=\"#009af9\" fill-rule=\"evenodd\" fill-opacity=\"1\" stroke=\"#000000\" stroke-opacity=\"1\" stroke-width=\"3.2\"/>\n",
       "<circle clip-path=\"url(#clip452)\" cx=\"1728.51\" cy=\"427.411\" r=\"14\" fill=\"#009af9\" fill-rule=\"evenodd\" fill-opacity=\"1\" stroke=\"#000000\" stroke-opacity=\"1\" stroke-width=\"3.2\"/>\n",
       "<circle clip-path=\"url(#clip452)\" cx=\"1798.77\" cy=\"314.266\" r=\"14\" fill=\"#009af9\" fill-rule=\"evenodd\" fill-opacity=\"1\" stroke=\"#000000\" stroke-opacity=\"1\" stroke-width=\"3.2\"/>\n",
       "<circle clip-path=\"url(#clip452)\" cx=\"1623.12\" cy=\"370.839\" r=\"14\" fill=\"#009af9\" fill-rule=\"evenodd\" fill-opacity=\"1\" stroke=\"#000000\" stroke-opacity=\"1\" stroke-width=\"3.2\"/>\n",
       "<circle clip-path=\"url(#clip452)\" cx=\"1658.25\" cy=\"144.549\" r=\"14\" fill=\"#009af9\" fill-rule=\"evenodd\" fill-opacity=\"1\" stroke=\"#000000\" stroke-opacity=\"1\" stroke-width=\"3.2\"/>\n",
       "<circle clip-path=\"url(#clip452)\" cx=\"1728.51\" cy=\"201.121\" r=\"14\" fill=\"#009af9\" fill-rule=\"evenodd\" fill-opacity=\"1\" stroke=\"#000000\" stroke-opacity=\"1\" stroke-width=\"3.2\"/>\n",
       "<circle clip-path=\"url(#clip452)\" cx=\"1798.77\" cy=\"483.984\" r=\"14\" fill=\"#009af9\" fill-rule=\"evenodd\" fill-opacity=\"1\" stroke=\"#000000\" stroke-opacity=\"1\" stroke-width=\"3.2\"/>\n",
       "<circle clip-path=\"url(#clip452)\" cx=\"2220.32\" cy=\"257.694\" r=\"14\" fill=\"#009af9\" fill-rule=\"evenodd\" fill-opacity=\"1\" stroke=\"#000000\" stroke-opacity=\"1\" stroke-width=\"3.2\"/>\n",
       "<circle clip-path=\"url(#clip452)\" cx=\"2290.58\" cy=\"201.121\" r=\"14\" fill=\"#009af9\" fill-rule=\"evenodd\" fill-opacity=\"1\" stroke=\"#000000\" stroke-opacity=\"1\" stroke-width=\"3.2\"/>\n",
       "<circle clip-path=\"url(#clip452)\" cx=\"1623.12\" cy=\"653.701\" r=\"14\" fill=\"#009af9\" fill-rule=\"evenodd\" fill-opacity=\"1\" stroke=\"#000000\" stroke-opacity=\"1\" stroke-width=\"3.2\"/>\n",
       "<circle clip-path=\"url(#clip452)\" cx=\"1869.02\" cy=\"201.121\" r=\"14\" fill=\"#009af9\" fill-rule=\"evenodd\" fill-opacity=\"1\" stroke=\"#000000\" stroke-opacity=\"1\" stroke-width=\"3.2\"/>\n",
       "<circle clip-path=\"url(#clip452)\" cx=\"1587.99\" cy=\"370.839\" r=\"14\" fill=\"#009af9\" fill-rule=\"evenodd\" fill-opacity=\"1\" stroke=\"#000000\" stroke-opacity=\"1\" stroke-width=\"3.2\"/>\n",
       "<circle clip-path=\"url(#clip452)\" cx=\"2220.32\" cy=\"370.839\" r=\"14\" fill=\"#009af9\" fill-rule=\"evenodd\" fill-opacity=\"1\" stroke=\"#000000\" stroke-opacity=\"1\" stroke-width=\"3.2\"/>\n",
       "<circle clip-path=\"url(#clip452)\" cx=\"1587.99\" cy=\"483.984\" r=\"14\" fill=\"#009af9\" fill-rule=\"evenodd\" fill-opacity=\"1\" stroke=\"#000000\" stroke-opacity=\"1\" stroke-width=\"3.2\"/>\n",
       "<circle clip-path=\"url(#clip452)\" cx=\"1869.02\" cy=\"314.266\" r=\"14\" fill=\"#009af9\" fill-rule=\"evenodd\" fill-opacity=\"1\" stroke=\"#000000\" stroke-opacity=\"1\" stroke-width=\"3.2\"/>\n",
       "<circle clip-path=\"url(#clip452)\" cx=\"1974.41\" cy=\"483.984\" r=\"14\" fill=\"#009af9\" fill-rule=\"evenodd\" fill-opacity=\"1\" stroke=\"#000000\" stroke-opacity=\"1\" stroke-width=\"3.2\"/>\n",
       "<circle clip-path=\"url(#clip452)\" cx=\"1552.86\" cy=\"483.984\" r=\"14\" fill=\"#009af9\" fill-rule=\"evenodd\" fill-opacity=\"1\" stroke=\"#000000\" stroke-opacity=\"1\" stroke-width=\"3.2\"/>\n",
       "<circle clip-path=\"url(#clip452)\" cx=\"1587.99\" cy=\"483.984\" r=\"14\" fill=\"#009af9\" fill-rule=\"evenodd\" fill-opacity=\"1\" stroke=\"#000000\" stroke-opacity=\"1\" stroke-width=\"3.2\"/>\n",
       "<circle clip-path=\"url(#clip452)\" cx=\"1833.9\" cy=\"314.266\" r=\"14\" fill=\"#009af9\" fill-rule=\"evenodd\" fill-opacity=\"1\" stroke=\"#000000\" stroke-opacity=\"1\" stroke-width=\"3.2\"/>\n",
       "<circle clip-path=\"url(#clip452)\" cx=\"1904.15\" cy=\"597.129\" r=\"14\" fill=\"#009af9\" fill-rule=\"evenodd\" fill-opacity=\"1\" stroke=\"#000000\" stroke-opacity=\"1\" stroke-width=\"3.2\"/>\n",
       "<circle clip-path=\"url(#clip452)\" cx=\"2009.54\" cy=\"427.411\" r=\"14\" fill=\"#009af9\" fill-rule=\"evenodd\" fill-opacity=\"1\" stroke=\"#000000\" stroke-opacity=\"1\" stroke-width=\"3.2\"/>\n",
       "<circle clip-path=\"url(#clip452)\" cx=\"2114.93\" cy=\"370.839\" r=\"14\" fill=\"#009af9\" fill-rule=\"evenodd\" fill-opacity=\"1\" stroke=\"#000000\" stroke-opacity=\"1\" stroke-width=\"3.2\"/>\n",
       "<circle clip-path=\"url(#clip452)\" cx=\"1833.9\" cy=\"257.694\" r=\"14\" fill=\"#009af9\" fill-rule=\"evenodd\" fill-opacity=\"1\" stroke=\"#000000\" stroke-opacity=\"1\" stroke-width=\"3.2\"/>\n",
       "<circle clip-path=\"url(#clip452)\" cx=\"1658.25\" cy=\"653.701\" r=\"14\" fill=\"#009af9\" fill-rule=\"evenodd\" fill-opacity=\"1\" stroke=\"#000000\" stroke-opacity=\"1\" stroke-width=\"3.2\"/>\n",
       "<circle clip-path=\"url(#clip452)\" cx=\"1833.9\" cy=\"710.274\" r=\"14\" fill=\"#009af9\" fill-rule=\"evenodd\" fill-opacity=\"1\" stroke=\"#000000\" stroke-opacity=\"1\" stroke-width=\"3.2\"/>\n",
       "<circle clip-path=\"url(#clip452)\" cx=\"2009.54\" cy=\"201.121\" r=\"14\" fill=\"#009af9\" fill-rule=\"evenodd\" fill-opacity=\"1\" stroke=\"#000000\" stroke-opacity=\"1\" stroke-width=\"3.2\"/>\n",
       "<circle clip-path=\"url(#clip452)\" cx=\"1833.9\" cy=\"144.549\" r=\"14\" fill=\"#009af9\" fill-rule=\"evenodd\" fill-opacity=\"1\" stroke=\"#000000\" stroke-opacity=\"1\" stroke-width=\"3.2\"/>\n",
       "<circle clip-path=\"url(#clip452)\" cx=\"1798.77\" cy=\"483.984\" r=\"14\" fill=\"#009af9\" fill-rule=\"evenodd\" fill-opacity=\"1\" stroke=\"#000000\" stroke-opacity=\"1\" stroke-width=\"3.2\"/>\n",
       "<circle clip-path=\"url(#clip452)\" cx=\"1552.86\" cy=\"483.984\" r=\"14\" fill=\"#009af9\" fill-rule=\"evenodd\" fill-opacity=\"1\" stroke=\"#000000\" stroke-opacity=\"1\" stroke-width=\"3.2\"/>\n",
       "<circle clip-path=\"url(#clip452)\" cx=\"1763.64\" cy=\"314.266\" r=\"14\" fill=\"#009af9\" fill-rule=\"evenodd\" fill-opacity=\"1\" stroke=\"#000000\" stroke-opacity=\"1\" stroke-width=\"3.2\"/>\n",
       "<circle clip-path=\"url(#clip452)\" cx=\"1833.9\" cy=\"144.549\" r=\"14\" fill=\"#009af9\" fill-rule=\"evenodd\" fill-opacity=\"1\" stroke=\"#000000\" stroke-opacity=\"1\" stroke-width=\"3.2\"/>\n",
       "<circle clip-path=\"url(#clip452)\" cx=\"1658.25\" cy=\"201.121\" r=\"14\" fill=\"#009af9\" fill-rule=\"evenodd\" fill-opacity=\"1\" stroke=\"#000000\" stroke-opacity=\"1\" stroke-width=\"3.2\"/>\n",
       "<circle clip-path=\"url(#clip452)\" cx=\"1658.25\" cy=\"427.411\" r=\"14\" fill=\"#009af9\" fill-rule=\"evenodd\" fill-opacity=\"1\" stroke=\"#000000\" stroke-opacity=\"1\" stroke-width=\"3.2\"/>\n",
       "<circle clip-path=\"url(#clip452)\" cx=\"1939.28\" cy=\"201.121\" r=\"14\" fill=\"#009af9\" fill-rule=\"evenodd\" fill-opacity=\"1\" stroke=\"#000000\" stroke-opacity=\"1\" stroke-width=\"3.2\"/>\n",
       "<circle clip-path=\"url(#clip452)\" cx=\"1869.02\" cy=\"87.9763\" r=\"14\" fill=\"#009af9\" fill-rule=\"evenodd\" fill-opacity=\"1\" stroke=\"#000000\" stroke-opacity=\"1\" stroke-width=\"3.2\"/>\n",
       "<circle clip-path=\"url(#clip452)\" cx=\"1693.38\" cy=\"201.121\" r=\"14\" fill=\"#009af9\" fill-rule=\"evenodd\" fill-opacity=\"1\" stroke=\"#000000\" stroke-opacity=\"1\" stroke-width=\"3.2\"/>\n",
       "<circle clip-path=\"url(#clip452)\" cx=\"1623.12\" cy=\"427.411\" r=\"14\" fill=\"#009af9\" fill-rule=\"evenodd\" fill-opacity=\"1\" stroke=\"#000000\" stroke-opacity=\"1\" stroke-width=\"3.2\"/>\n",
       "<circle clip-path=\"url(#clip452)\" cx=\"1693.38\" cy=\"370.839\" r=\"14\" fill=\"#009af9\" fill-rule=\"evenodd\" fill-opacity=\"1\" stroke=\"#000000\" stroke-opacity=\"1\" stroke-width=\"3.2\"/>\n",
       "<circle clip-path=\"url(#clip452)\" cx=\"1763.64\" cy=\"201.121\" r=\"14\" fill=\"#009af9\" fill-rule=\"evenodd\" fill-opacity=\"1\" stroke=\"#000000\" stroke-opacity=\"1\" stroke-width=\"3.2\"/>\n",
       "<circle clip-path=\"url(#clip452)\" cx=\"1658.25\" cy=\"483.984\" r=\"14\" fill=\"#009af9\" fill-rule=\"evenodd\" fill-opacity=\"1\" stroke=\"#000000\" stroke-opacity=\"1\" stroke-width=\"3.2\"/>\n",
       "<path clip-path=\"url(#clip450)\" d=\"\n",
       "M1982.98 216.178 L2279.52 216.178 L2279.52 95.2176 L1982.98 95.2176  Z\n",
       "  \" fill=\"#ffffff\" fill-rule=\"evenodd\" fill-opacity=\"1\"/>\n",
       "<polyline clip-path=\"url(#clip450)\" style=\"stroke:#000000; stroke-linecap:butt; stroke-linejoin:round; stroke-width:4; stroke-opacity:1; fill:none\" points=\"\n",
       "  1982.98,216.178 2279.52,216.178 2279.52,95.2176 1982.98,95.2176 1982.98,216.178 \n",
       "  \"/>\n",
       "<circle clip-path=\"url(#clip450)\" cx=\"2080.63\" cy=\"155.698\" r=\"23\" fill=\"#009af9\" fill-rule=\"evenodd\" fill-opacity=\"1\" stroke=\"#000000\" stroke-opacity=\"1\" stroke-width=\"5.12\"/>\n",
       "<path clip-path=\"url(#clip450)\" d=\"M2192.11 175.385 Q2190.31 180.015 2188.59 181.427 Q2186.88 182.839 2184.01 182.839 L2180.61 182.839 L2180.61 179.274 L2183.11 179.274 Q2184.87 179.274 2185.84 178.44 Q2186.81 177.607 2187.99 174.505 L2188.76 172.561 L2178.27 147.052 L2182.78 147.052 L2190.89 167.329 L2198.99 147.052 L2203.5 147.052 L2192.11 175.385 Z\" fill=\"#000000\" fill-rule=\"evenodd\" fill-opacity=\"1\" /><path clip-path=\"url(#clip450)\" d=\"M2210.79 169.042 L2218.43 169.042 L2218.43 142.677 L2210.12 144.343 L2210.12 140.084 L2218.39 138.418 L2223.06 138.418 L2223.06 169.042 L2230.7 169.042 L2230.7 172.978 L2210.79 172.978 L2210.79 169.042 Z\" fill=\"#000000\" fill-rule=\"evenodd\" fill-opacity=\"1\" /></svg>\n"
      ]
     },
     "execution_count": 82,
     "metadata": {},
     "output_type": "execute_result"
    }
   ],
   "source": [
    "scatter(iris.petal_length, iris.petal_width)"
   ]
  },
  {
   "cell_type": "code",
   "execution_count": 83,
   "metadata": {},
   "outputs": [
    {
     "data": {
      "image/svg+xml": [
       "<?xml version=\"1.0\" encoding=\"utf-8\"?>\n",
       "<svg xmlns=\"http://www.w3.org/2000/svg\" xmlns:xlink=\"http://www.w3.org/1999/xlink\" width=\"600\" height=\"400\" viewBox=\"0 0 2400 1600\">\n",
       "<defs>\n",
       "  <clipPath id=\"clip490\">\n",
       "    <rect x=\"0\" y=\"0\" width=\"2400\" height=\"1600\"/>\n",
       "  </clipPath>\n",
       "</defs>\n",
       "<path clip-path=\"url(#clip490)\" d=\"\n",
       "M0 1600 L2400 1600 L2400 0 L0 0  Z\n",
       "  \" fill=\"#ffffff\" fill-rule=\"evenodd\" fill-opacity=\"1\"/>\n",
       "<defs>\n",
       "  <clipPath id=\"clip491\">\n",
       "    <rect x=\"480\" y=\"0\" width=\"1681\" height=\"1600\"/>\n",
       "  </clipPath>\n",
       "</defs>\n",
       "<path clip-path=\"url(#clip490)\" d=\"\n",
       "M141.853 1486.45 L2352.76 1486.45 L2352.76 47.2441 L141.853 47.2441  Z\n",
       "  \" fill=\"#ffffff\" fill-rule=\"evenodd\" fill-opacity=\"1\"/>\n",
       "<defs>\n",
       "  <clipPath id=\"clip492\">\n",
       "    <rect x=\"141\" y=\"47\" width=\"2212\" height=\"1440\"/>\n",
       "  </clipPath>\n",
       "</defs>\n",
       "<polyline clip-path=\"url(#clip492)\" style=\"stroke:#000000; stroke-linecap:butt; stroke-linejoin:round; stroke-width:2; stroke-opacity:0.1; fill:none\" points=\"\n",
       "  263.457,1486.45 263.457,47.2441 \n",
       "  \"/>\n",
       "<polyline clip-path=\"url(#clip492)\" style=\"stroke:#000000; stroke-linecap:butt; stroke-linejoin:round; stroke-width:2; stroke-opacity:0.1; fill:none\" points=\"\n",
       "  755.38,1486.45 755.38,47.2441 \n",
       "  \"/>\n",
       "<polyline clip-path=\"url(#clip492)\" style=\"stroke:#000000; stroke-linecap:butt; stroke-linejoin:round; stroke-width:2; stroke-opacity:0.1; fill:none\" points=\"\n",
       "  1247.3,1486.45 1247.3,47.2441 \n",
       "  \"/>\n",
       "<polyline clip-path=\"url(#clip492)\" style=\"stroke:#000000; stroke-linecap:butt; stroke-linejoin:round; stroke-width:2; stroke-opacity:0.1; fill:none\" points=\"\n",
       "  1739.23,1486.45 1739.23,47.2441 \n",
       "  \"/>\n",
       "<polyline clip-path=\"url(#clip492)\" style=\"stroke:#000000; stroke-linecap:butt; stroke-linejoin:round; stroke-width:2; stroke-opacity:0.1; fill:none\" points=\"\n",
       "  2231.15,1486.45 2231.15,47.2441 \n",
       "  \"/>\n",
       "<polyline clip-path=\"url(#clip490)\" style=\"stroke:#000000; stroke-linecap:butt; stroke-linejoin:round; stroke-width:4; stroke-opacity:1; fill:none\" points=\"\n",
       "  141.853,1486.45 2352.76,1486.45 \n",
       "  \"/>\n",
       "<polyline clip-path=\"url(#clip490)\" style=\"stroke:#000000; stroke-linecap:butt; stroke-linejoin:round; stroke-width:4; stroke-opacity:1; fill:none\" points=\"\n",
       "  263.457,1486.45 263.457,1469.18 \n",
       "  \"/>\n",
       "<polyline clip-path=\"url(#clip490)\" style=\"stroke:#000000; stroke-linecap:butt; stroke-linejoin:round; stroke-width:4; stroke-opacity:1; fill:none\" points=\"\n",
       "  755.38,1486.45 755.38,1469.18 \n",
       "  \"/>\n",
       "<polyline clip-path=\"url(#clip490)\" style=\"stroke:#000000; stroke-linecap:butt; stroke-linejoin:round; stroke-width:4; stroke-opacity:1; fill:none\" points=\"\n",
       "  1247.3,1486.45 1247.3,1469.18 \n",
       "  \"/>\n",
       "<polyline clip-path=\"url(#clip490)\" style=\"stroke:#000000; stroke-linecap:butt; stroke-linejoin:round; stroke-width:4; stroke-opacity:1; fill:none\" points=\"\n",
       "  1739.23,1486.45 1739.23,1469.18 \n",
       "  \"/>\n",
       "<polyline clip-path=\"url(#clip490)\" style=\"stroke:#000000; stroke-linecap:butt; stroke-linejoin:round; stroke-width:4; stroke-opacity:1; fill:none\" points=\"\n",
       "  2231.15,1486.45 2231.15,1469.18 \n",
       "  \"/>\n",
       "<path clip-path=\"url(#clip490)\" d=\"M263.457 1515.64 Q259.845 1515.64 258.017 1519.2 Q256.211 1522.75 256.211 1529.87 Q256.211 1536.98 258.017 1540.55 Q259.845 1544.09 263.457 1544.09 Q267.091 1544.09 268.896 1540.55 Q270.725 1536.98 270.725 1529.87 Q270.725 1522.75 268.896 1519.2 Q267.091 1515.64 263.457 1515.64 M263.457 1511.93 Q269.267 1511.93 272.322 1516.54 Q275.401 1521.12 275.401 1529.87 Q275.401 1538.6 272.322 1543.21 Q269.267 1547.79 263.457 1547.79 Q257.646 1547.79 254.568 1543.21 Q251.512 1538.6 251.512 1529.87 Q251.512 1521.12 254.568 1516.54 Q257.646 1511.93 263.457 1511.93 Z\" fill=\"#000000\" fill-rule=\"evenodd\" fill-opacity=\"1\" /><path clip-path=\"url(#clip490)\" d=\"M750.033 1543.18 L766.353 1543.18 L766.353 1547.12 L744.408 1547.12 L744.408 1543.18 Q747.07 1540.43 751.654 1535.8 Q756.26 1531.15 757.441 1529.81 Q759.686 1527.28 760.566 1525.55 Q761.468 1523.79 761.468 1522.1 Q761.468 1519.34 759.524 1517.61 Q757.603 1515.87 754.501 1515.87 Q752.302 1515.87 749.848 1516.63 Q747.418 1517.4 744.64 1518.95 L744.64 1514.23 Q747.464 1513.09 749.918 1512.51 Q752.371 1511.93 754.408 1511.93 Q759.779 1511.93 762.973 1514.62 Q766.167 1517.31 766.167 1521.8 Q766.167 1523.93 765.357 1525.85 Q764.57 1527.74 762.464 1530.34 Q761.885 1531.01 758.783 1534.23 Q755.681 1537.42 750.033 1543.18 Z\" fill=\"#000000\" fill-rule=\"evenodd\" fill-opacity=\"1\" /><path clip-path=\"url(#clip490)\" d=\"M1250.31 1516.63 L1238.51 1535.08 L1250.31 1535.08 L1250.31 1516.63 M1249.09 1512.56 L1254.97 1512.56 L1254.97 1535.08 L1259.9 1535.08 L1259.9 1538.97 L1254.97 1538.97 L1254.97 1547.12 L1250.31 1547.12 L1250.31 1538.97 L1234.71 1538.97 L1234.71 1534.46 L1249.09 1512.56 Z\" fill=\"#000000\" fill-rule=\"evenodd\" fill-opacity=\"1\" /><path clip-path=\"url(#clip490)\" d=\"M1739.63 1527.98 Q1736.49 1527.98 1734.63 1530.13 Q1732.8 1532.28 1732.8 1536.03 Q1732.8 1539.76 1734.63 1541.93 Q1736.49 1544.09 1739.63 1544.09 Q1742.78 1544.09 1744.61 1541.93 Q1746.46 1539.76 1746.46 1536.03 Q1746.46 1532.28 1744.61 1530.13 Q1742.78 1527.98 1739.63 1527.98 M1748.92 1513.32 L1748.92 1517.58 Q1747.16 1516.75 1745.35 1516.31 Q1743.57 1515.87 1741.81 1515.87 Q1737.18 1515.87 1734.73 1519 Q1732.3 1522.12 1731.95 1528.44 Q1733.31 1526.43 1735.37 1525.36 Q1737.43 1524.27 1739.91 1524.27 Q1745.12 1524.27 1748.13 1527.44 Q1751.16 1530.59 1751.16 1536.03 Q1751.16 1541.36 1748.01 1544.57 Q1744.86 1547.79 1739.63 1547.79 Q1733.64 1547.79 1730.47 1543.21 Q1727.3 1538.6 1727.3 1529.87 Q1727.3 1521.68 1731.18 1516.82 Q1735.07 1511.93 1741.62 1511.93 Q1743.38 1511.93 1745.17 1512.28 Q1746.97 1512.63 1748.92 1513.32 Z\" fill=\"#000000\" fill-rule=\"evenodd\" fill-opacity=\"1\" /><path clip-path=\"url(#clip490)\" d=\"M2231.15 1530.71 Q2227.82 1530.71 2225.9 1532.49 Q2224 1534.27 2224 1537.4 Q2224 1540.52 2225.9 1542.31 Q2227.82 1544.09 2231.15 1544.09 Q2234.49 1544.09 2236.41 1542.31 Q2238.33 1540.5 2238.33 1537.4 Q2238.33 1534.27 2236.41 1532.49 Q2234.51 1530.71 2231.15 1530.71 M2226.48 1528.72 Q2223.47 1527.98 2221.78 1525.92 Q2220.11 1523.86 2220.11 1520.89 Q2220.11 1516.75 2223.05 1514.34 Q2226.01 1511.93 2231.15 1511.93 Q2236.31 1511.93 2239.25 1514.34 Q2242.19 1516.75 2242.19 1520.89 Q2242.19 1523.86 2240.5 1525.92 Q2238.84 1527.98 2235.85 1528.72 Q2239.23 1529.5 2241.11 1531.8 Q2243 1534.09 2243 1537.4 Q2243 1542.42 2239.93 1545.11 Q2236.87 1547.79 2231.15 1547.79 Q2225.43 1547.79 2222.36 1545.11 Q2219.3 1542.42 2219.3 1537.4 Q2219.3 1534.09 2221.2 1531.8 Q2223.1 1529.5 2226.48 1528.72 M2224.76 1521.33 Q2224.76 1524.02 2226.43 1525.52 Q2228.12 1527.03 2231.15 1527.03 Q2234.16 1527.03 2235.85 1525.52 Q2237.56 1524.02 2237.56 1521.33 Q2237.56 1518.65 2235.85 1517.14 Q2234.16 1515.64 2231.15 1515.64 Q2228.12 1515.64 2226.43 1517.14 Q2224.76 1518.65 2224.76 1521.33 Z\" fill=\"#000000\" fill-rule=\"evenodd\" fill-opacity=\"1\" /><polyline clip-path=\"url(#clip492)\" style=\"stroke:#000000; stroke-linecap:butt; stroke-linejoin:round; stroke-width:2; stroke-opacity:0.1; fill:none\" points=\"\n",
       "  141.853,1445.72 2352.76,1445.72 \n",
       "  \"/>\n",
       "<polyline clip-path=\"url(#clip492)\" style=\"stroke:#000000; stroke-linecap:butt; stroke-linejoin:round; stroke-width:2; stroke-opacity:0.1; fill:none\" points=\"\n",
       "  141.853,1097.58 2352.76,1097.58 \n",
       "  \"/>\n",
       "<polyline clip-path=\"url(#clip492)\" style=\"stroke:#000000; stroke-linecap:butt; stroke-linejoin:round; stroke-width:2; stroke-opacity:0.1; fill:none\" points=\"\n",
       "  141.853,749.439 2352.76,749.439 \n",
       "  \"/>\n",
       "<polyline clip-path=\"url(#clip492)\" style=\"stroke:#000000; stroke-linecap:butt; stroke-linejoin:round; stroke-width:2; stroke-opacity:0.1; fill:none\" points=\"\n",
       "  141.853,401.301 2352.76,401.301 \n",
       "  \"/>\n",
       "<polyline clip-path=\"url(#clip492)\" style=\"stroke:#000000; stroke-linecap:butt; stroke-linejoin:round; stroke-width:2; stroke-opacity:0.1; fill:none\" points=\"\n",
       "  141.853,53.1624 2352.76,53.1624 \n",
       "  \"/>\n",
       "<polyline clip-path=\"url(#clip490)\" style=\"stroke:#000000; stroke-linecap:butt; stroke-linejoin:round; stroke-width:4; stroke-opacity:1; fill:none\" points=\"\n",
       "  141.853,1486.45 141.853,47.2441 \n",
       "  \"/>\n",
       "<polyline clip-path=\"url(#clip490)\" style=\"stroke:#000000; stroke-linecap:butt; stroke-linejoin:round; stroke-width:4; stroke-opacity:1; fill:none\" points=\"\n",
       "  141.853,1445.72 168.384,1445.72 \n",
       "  \"/>\n",
       "<polyline clip-path=\"url(#clip490)\" style=\"stroke:#000000; stroke-linecap:butt; stroke-linejoin:round; stroke-width:4; stroke-opacity:1; fill:none\" points=\"\n",
       "  141.853,1097.58 168.384,1097.58 \n",
       "  \"/>\n",
       "<polyline clip-path=\"url(#clip490)\" style=\"stroke:#000000; stroke-linecap:butt; stroke-linejoin:round; stroke-width:4; stroke-opacity:1; fill:none\" points=\"\n",
       "  141.853,749.439 168.384,749.439 \n",
       "  \"/>\n",
       "<polyline clip-path=\"url(#clip490)\" style=\"stroke:#000000; stroke-linecap:butt; stroke-linejoin:round; stroke-width:4; stroke-opacity:1; fill:none\" points=\"\n",
       "  141.853,401.301 168.384,401.301 \n",
       "  \"/>\n",
       "<polyline clip-path=\"url(#clip490)\" style=\"stroke:#000000; stroke-linecap:butt; stroke-linejoin:round; stroke-width:4; stroke-opacity:1; fill:none\" points=\"\n",
       "  141.853,53.1624 168.384,53.1624 \n",
       "  \"/>\n",
       "<path clip-path=\"url(#clip490)\" d=\"M93.9086 1431.51 Q90.2975 1431.51 88.4688 1435.08 Q86.6632 1438.62 86.6632 1445.75 Q86.6632 1452.86 88.4688 1456.42 Q90.2975 1459.96 93.9086 1459.96 Q97.5428 1459.96 99.3483 1456.42 Q101.177 1452.86 101.177 1445.75 Q101.177 1438.62 99.3483 1435.08 Q97.5428 1431.51 93.9086 1431.51 M93.9086 1427.81 Q99.7187 1427.81 102.774 1432.42 Q105.853 1437 105.853 1445.75 Q105.853 1454.48 102.774 1459.08 Q99.7187 1463.67 93.9086 1463.67 Q88.0984 1463.67 85.0197 1459.08 Q81.9642 1454.48 81.9642 1445.75 Q81.9642 1437 85.0197 1432.42 Q88.0984 1427.81 93.9086 1427.81 Z\" fill=\"#000000\" fill-rule=\"evenodd\" fill-opacity=\"1\" /><path clip-path=\"url(#clip490)\" d=\"M57.7745 1110.92 L74.0939 1110.92 L74.0939 1114.86 L52.1495 1114.86 L52.1495 1110.92 Q54.8115 1108.17 59.3949 1103.54 Q64.0013 1098.89 65.1819 1097.54 Q67.4272 1095.02 68.3068 1093.28 Q69.2096 1091.52 69.2096 1089.83 Q69.2096 1087.08 67.2652 1085.34 Q65.3439 1083.61 62.2421 1083.61 Q60.043 1083.61 57.5893 1084.37 Q55.1588 1085.14 52.381 1086.69 L52.381 1081.96 Q55.2051 1080.83 57.6588 1080.25 Q60.1124 1079.67 62.1495 1079.67 Q67.5198 1079.67 70.7142 1082.36 Q73.9087 1085.04 73.9087 1089.53 Q73.9087 1091.66 73.0985 1093.58 Q72.3115 1095.48 70.205 1098.08 Q69.6263 1098.75 66.5245 1101.96 Q63.4226 1105.16 57.7745 1110.92 Z\" fill=\"#000000\" fill-rule=\"evenodd\" fill-opacity=\"1\" /><path clip-path=\"url(#clip490)\" d=\"M93.9086 1083.38 Q90.2975 1083.38 88.4688 1086.94 Q86.6632 1090.48 86.6632 1097.61 Q86.6632 1104.72 88.4688 1108.28 Q90.2975 1111.82 93.9086 1111.82 Q97.5428 1111.82 99.3483 1108.28 Q101.177 1104.72 101.177 1097.61 Q101.177 1090.48 99.3483 1086.94 Q97.5428 1083.38 93.9086 1083.38 M93.9086 1079.67 Q99.7187 1079.67 102.774 1084.28 Q105.853 1088.86 105.853 1097.61 Q105.853 1106.34 102.774 1110.95 Q99.7187 1115.53 93.9086 1115.53 Q88.0984 1115.53 85.0197 1110.95 Q81.9642 1106.34 81.9642 1097.61 Q81.9642 1088.86 85.0197 1084.28 Q88.0984 1079.67 93.9086 1079.67 Z\" fill=\"#000000\" fill-rule=\"evenodd\" fill-opacity=\"1\" /><path clip-path=\"url(#clip490)\" d=\"M66.5939 736.233 L54.7884 754.682 L66.5939 754.682 L66.5939 736.233 M65.367 732.159 L71.2466 732.159 L71.2466 754.682 L76.1772 754.682 L76.1772 758.571 L71.2466 758.571 L71.2466 766.719 L66.5939 766.719 L66.5939 758.571 L50.9921 758.571 L50.9921 754.057 L65.367 732.159 Z\" fill=\"#000000\" fill-rule=\"evenodd\" fill-opacity=\"1\" /><path clip-path=\"url(#clip490)\" d=\"M93.9086 735.238 Q90.2975 735.238 88.4688 738.803 Q86.6632 742.344 86.6632 749.474 Q86.6632 756.58 88.4688 760.145 Q90.2975 763.687 93.9086 763.687 Q97.5428 763.687 99.3483 760.145 Q101.177 756.58 101.177 749.474 Q101.177 742.344 99.3483 738.803 Q97.5428 735.238 93.9086 735.238 M93.9086 731.534 Q99.7187 731.534 102.774 736.141 Q105.853 740.724 105.853 749.474 Q105.853 758.201 102.774 762.807 Q99.7187 767.39 93.9086 767.39 Q88.0984 767.39 85.0197 762.807 Q81.9642 758.201 81.9642 749.474 Q81.9642 740.724 85.0197 736.141 Q88.0984 731.534 93.9086 731.534 Z\" fill=\"#000000\" fill-rule=\"evenodd\" fill-opacity=\"1\" /><path clip-path=\"url(#clip490)\" d=\"M64.3254 399.437 Q61.1773 399.437 59.3254 401.59 Q57.4967 403.743 57.4967 407.493 Q57.4967 411.22 59.3254 413.396 Q61.1773 415.548 64.3254 415.548 Q67.4735 415.548 69.3022 413.396 Q71.1541 411.22 71.1541 407.493 Q71.1541 403.743 69.3022 401.59 Q67.4735 399.437 64.3254 399.437 M73.6077 384.785 L73.6077 389.044 Q71.8485 388.211 70.0429 387.771 Q68.2606 387.331 66.5013 387.331 Q61.8717 387.331 59.418 390.456 Q56.9875 393.581 56.6402 399.9 Q58.006 397.886 60.0662 396.822 Q62.1263 395.734 64.6032 395.734 Q69.8115 395.734 72.8207 398.905 Q75.8531 402.053 75.8531 407.493 Q75.8531 412.817 72.705 416.034 Q69.5568 419.252 64.3254 419.252 Q58.33 419.252 55.1588 414.669 Q51.9875 410.062 51.9875 401.335 Q51.9875 393.141 55.8764 388.28 Q59.7652 383.396 66.3161 383.396 Q68.0754 383.396 69.8578 383.743 Q71.6633 384.09 73.6077 384.785 Z\" fill=\"#000000\" fill-rule=\"evenodd\" fill-opacity=\"1\" /><path clip-path=\"url(#clip490)\" d=\"M93.9086 387.099 Q90.2975 387.099 88.4688 390.664 Q86.6632 394.206 86.6632 401.335 Q86.6632 408.442 88.4688 412.007 Q90.2975 415.548 93.9086 415.548 Q97.5428 415.548 99.3483 412.007 Q101.177 408.442 101.177 401.335 Q101.177 394.206 99.3483 390.664 Q97.5428 387.099 93.9086 387.099 M93.9086 383.396 Q99.7187 383.396 102.774 388.002 Q105.853 392.586 105.853 401.335 Q105.853 410.062 102.774 414.669 Q99.7187 419.252 93.9086 419.252 Q88.0984 419.252 85.0197 414.669 Q81.9642 410.062 81.9642 401.335 Q81.9642 392.586 85.0197 388.002 Q88.0984 383.396 93.9086 383.396 Z\" fill=\"#000000\" fill-rule=\"evenodd\" fill-opacity=\"1\" /><path clip-path=\"url(#clip490)\" d=\"M63.7467 54.0305 Q60.4134 54.0305 58.4921 55.8129 Q56.5939 57.5953 56.5939 60.7203 Q56.5939 63.8453 58.4921 65.6277 Q60.4134 67.4101 63.7467 67.4101 Q67.08 67.4101 69.0013 65.6277 Q70.9226 63.8221 70.9226 60.7203 Q70.9226 57.5953 69.0013 55.8129 Q67.1032 54.0305 63.7467 54.0305 M59.0708 52.0398 Q56.0615 51.299 54.3717 49.2389 Q52.7051 47.1787 52.7051 44.2157 Q52.7051 40.0722 55.6449 37.6648 Q58.6078 35.2574 63.7467 35.2574 Q68.9087 35.2574 71.8485 37.6648 Q74.7883 40.0722 74.7883 44.2157 Q74.7883 47.1787 73.0985 49.2389 Q71.4318 51.299 68.4457 52.0398 Q71.8253 52.8268 73.7003 55.1185 Q75.5985 57.4101 75.5985 60.7203 Q75.5985 65.7434 72.5198 68.4286 Q69.4642 71.1137 63.7467 71.1137 Q58.0291 71.1137 54.9504 68.4286 Q51.8949 65.7434 51.8949 60.7203 Q51.8949 57.4101 53.793 55.1185 Q55.6912 52.8268 59.0708 52.0398 M57.3578 44.6555 Q57.3578 47.3407 59.0245 48.8453 Q60.7143 50.35 63.7467 50.35 Q66.7559 50.35 68.4457 48.8453 Q70.1587 47.3407 70.1587 44.6555 Q70.1587 41.9704 68.4457 40.4658 Q66.7559 38.9611 63.7467 38.9611 Q60.7143 38.9611 59.0245 40.4658 Q57.3578 41.9704 57.3578 44.6555 Z\" fill=\"#000000\" fill-rule=\"evenodd\" fill-opacity=\"1\" /><path clip-path=\"url(#clip490)\" d=\"M93.9086 38.9611 Q90.2975 38.9611 88.4688 42.5259 Q86.6632 46.0676 86.6632 53.1972 Q86.6632 60.3036 88.4688 63.8684 Q90.2975 67.4101 93.9086 67.4101 Q97.5428 67.4101 99.3483 63.8684 Q101.177 60.3036 101.177 53.1972 Q101.177 46.0676 99.3483 42.5259 Q97.5428 38.9611 93.9086 38.9611 M93.9086 35.2574 Q99.7187 35.2574 102.774 39.8639 Q105.853 44.4472 105.853 53.1972 Q105.853 61.924 102.774 66.5304 Q99.7187 71.1137 93.9086 71.1137 Q88.0984 71.1137 85.0197 66.5304 Q81.9642 61.924 81.9642 53.1972 Q81.9642 44.4472 85.0197 39.8639 Q88.0984 35.2574 93.9086 35.2574 Z\" fill=\"#000000\" fill-rule=\"evenodd\" fill-opacity=\"1\" /><path clip-path=\"url(#clip492)\" d=\"\n",
       "M263.457 575.37 L263.457 1445.72 L755.38 1445.72 L755.38 575.37 L263.457 575.37 L263.457 575.37  Z\n",
       "  \" fill=\"#009af9\" fill-rule=\"evenodd\" fill-opacity=\"1\"/>\n",
       "<polyline clip-path=\"url(#clip492)\" style=\"stroke:#000000; stroke-linecap:butt; stroke-linejoin:round; stroke-width:4; stroke-opacity:1; fill:none\" points=\"\n",
       "  263.457,575.37 263.457,1445.72 755.38,1445.72 755.38,575.37 263.457,575.37 \n",
       "  \"/>\n",
       "<path clip-path=\"url(#clip492)\" d=\"\n",
       "M755.38 1254.24 L755.38 1445.72 L1247.3 1445.72 L1247.3 1254.24 L755.38 1254.24 L755.38 1254.24  Z\n",
       "  \" fill=\"#009af9\" fill-rule=\"evenodd\" fill-opacity=\"1\"/>\n",
       "<polyline clip-path=\"url(#clip492)\" style=\"stroke:#000000; stroke-linecap:butt; stroke-linejoin:round; stroke-width:4; stroke-opacity:1; fill:none\" points=\"\n",
       "  755.38,1254.24 755.38,1445.72 1247.3,1445.72 1247.3,1254.24 755.38,1254.24 \n",
       "  \"/>\n",
       "<path clip-path=\"url(#clip492)\" d=\"\n",
       "M1247.3 87.9763 L1247.3 1445.72 L1739.23 1445.72 L1739.23 87.9763 L1247.3 87.9763 L1247.3 87.9763  Z\n",
       "  \" fill=\"#009af9\" fill-rule=\"evenodd\" fill-opacity=\"1\"/>\n",
       "<polyline clip-path=\"url(#clip492)\" style=\"stroke:#000000; stroke-linecap:butt; stroke-linejoin:round; stroke-width:4; stroke-opacity:1; fill:none\" points=\"\n",
       "  1247.3,87.9763 1247.3,1445.72 1739.23,1445.72 1739.23,87.9763 1247.3,87.9763 \n",
       "  \"/>\n",
       "<path clip-path=\"url(#clip492)\" d=\"\n",
       "M1739.23 1254.24 L1739.23 1445.72 L2231.15 1445.72 L2231.15 1254.24 L1739.23 1254.24 L1739.23 1254.24  Z\n",
       "  \" fill=\"#009af9\" fill-rule=\"evenodd\" fill-opacity=\"1\"/>\n",
       "<polyline clip-path=\"url(#clip492)\" style=\"stroke:#000000; stroke-linecap:butt; stroke-linejoin:round; stroke-width:4; stroke-opacity:1; fill:none\" points=\"\n",
       "  1739.23,1254.24 1739.23,1445.72 2231.15,1445.72 2231.15,1254.24 1739.23,1254.24 \n",
       "  \"/>\n",
       "<path clip-path=\"url(#clip490)\" d=\"\n",
       "M1980.97 216.178 L2279.06 216.178 L2279.06 95.2176 L1980.97 95.2176  Z\n",
       "  \" fill=\"#ffffff\" fill-rule=\"evenodd\" fill-opacity=\"1\"/>\n",
       "<polyline clip-path=\"url(#clip490)\" style=\"stroke:#000000; stroke-linecap:butt; stroke-linejoin:round; stroke-width:4; stroke-opacity:1; fill:none\" points=\"\n",
       "  1980.97,216.178 2279.06,216.178 2279.06,95.2176 1980.97,95.2176 1980.97,216.178 \n",
       "  \"/>\n",
       "<path clip-path=\"url(#clip490)\" d=\"\n",
       "M2005.54 179.89 L2152.93 179.89 L2152.93 131.506 L2005.54 131.506 L2005.54 179.89  Z\n",
       "  \" fill=\"#009af9\" fill-rule=\"evenodd\" fill-opacity=\"1\"/>\n",
       "<polyline clip-path=\"url(#clip490)\" style=\"stroke:#000000; stroke-linecap:butt; stroke-linejoin:round; stroke-width:4; stroke-opacity:1; fill:none\" points=\"\n",
       "  2005.54,179.89 2152.93,179.89 2152.93,131.506 2005.54,131.506 2005.54,179.89 \n",
       "  \"/>\n",
       "<path clip-path=\"url(#clip490)\" d=\"M2191.34 175.385 Q2189.53 180.015 2187.82 181.427 Q2186.11 182.839 2183.24 182.839 L2179.84 182.839 L2179.84 179.274 L2182.34 179.274 Q2184.09 179.274 2185.07 178.44 Q2186.04 177.607 2187.22 174.505 L2187.98 172.561 L2177.5 147.052 L2182.01 147.052 L2190.11 167.329 L2198.22 147.052 L2202.73 147.052 L2191.34 175.385 Z\" fill=\"#000000\" fill-rule=\"evenodd\" fill-opacity=\"1\" /><path clip-path=\"url(#clip490)\" d=\"M2210.02 169.042 L2217.66 169.042 L2217.66 142.677 L2209.35 144.343 L2209.35 140.084 L2217.61 138.418 L2222.29 138.418 L2222.29 169.042 L2229.93 169.042 L2229.93 172.978 L2210.02 172.978 L2210.02 169.042 Z\" fill=\"#000000\" fill-rule=\"evenodd\" fill-opacity=\"1\" /></svg>\n"
      ]
     },
     "execution_count": 83,
     "metadata": {},
     "output_type": "execute_result"
    }
   ],
   "source": [
    "histogram(iris.petal_length)"
   ]
  },
  {
   "cell_type": "markdown",
   "metadata": {},
   "source": [
    "## Working with Databases : SQL Lite"
   ]
  },
  {
   "cell_type": "code",
   "execution_count": 84,
   "metadata": {},
   "outputs": [],
   "source": [
    "using SQLite"
   ]
  },
  {
   "cell_type": "code",
   "execution_count": 86,
   "metadata": {},
   "outputs": [],
   "source": [
    "# DDL -  Create, alter and drop tables SQLite.DB\n",
    "# DML - Insert, update and delete data SQLlite.execute\n",
    "# DQL - select - SQLite.query"
   ]
  },
  {
   "cell_type": "code",
   "execution_count": 87,
   "metadata": {},
   "outputs": [
    {
     "data": {
      "text/plain": [
       "SQLite.DB(\"Movies\")"
      ]
     },
     "execution_count": 87,
     "metadata": {},
     "output_type": "execute_result"
    }
   ],
   "source": [
    "db = SQLite.DB(\"Movies\")"
   ]
  },
  {
   "cell_type": "code",
   "execution_count": 88,
   "metadata": {},
   "outputs": [
    {
     "data": {
      "text/plain": [
       "101"
      ]
     },
     "execution_count": 88,
     "metadata": {},
     "output_type": "execute_result"
    }
   ],
   "source": [
    "SQLite.execute(db,\"create table if not exists movies(movie_id REAL, movie_name Text, location TEXT)\")"
   ]
  },
  {
   "cell_type": "code",
   "execution_count": 90,
   "metadata": {},
   "outputs": [
    {
     "data": {
      "text/plain": [
       "(name = [\"movies\"],)"
      ]
     },
     "execution_count": 90,
     "metadata": {},
     "output_type": "execute_result"
    }
   ],
   "source": [
    "SQLite.tables(db)"
   ]
  },
  {
   "cell_type": "code",
   "execution_count": 92,
   "metadata": {},
   "outputs": [
    {
     "data": {
      "text/plain": [
       "101"
      ]
     },
     "execution_count": 92,
     "metadata": {},
     "output_type": "execute_result"
    }
   ],
   "source": [
    "SQLite.execute(db,\"insert into movies(movie_id, movie_name,location) values(1,'Avengers','USA')\")"
   ]
  },
  {
   "cell_type": "code",
   "execution_count": 109,
   "metadata": {},
   "outputs": [],
   "source": [
    "using Pkg; Pkg.add(\"DBInterface\")\n"
   ]
  },
  {
   "cell_type": "code",
   "execution_count": 113,
   "metadata": {},
   "outputs": [
    {
     "data": {
      "text/html": [
       "<table class=\"data-frame\"><thead><tr><th></th><th>movie_id</th><th>movie_name</th><th>location</th></tr><tr><th></th><th>Float64</th><th>String</th><th>String</th></tr></thead><tbody><p>1 rows × 3 columns</p><tr><th>1</th><td>1.0</td><td>Avengers</td><td>USA</td></tr></tbody></table>"
      ],
      "text/latex": [
       "\\begin{tabular}{r|ccc}\n",
       "\t& movie\\_id & movie\\_name & location\\\\\n",
       "\t\\hline\n",
       "\t& Float64 & String & String\\\\\n",
       "\t\\hline\n",
       "\t1 & 1.0 & Avengers & USA \\\\\n",
       "\\end{tabular}\n"
      ],
      "text/plain": [
       "1×3 DataFrame\n",
       "│ Row │ movie_id │ movie_name │ location │\n",
       "│     │ \u001b[90mFloat64\u001b[39m  │ \u001b[90mString\u001b[39m     │ \u001b[90mString\u001b[39m   │\n",
       "├─────┼──────────┼────────────┼──────────┤\n",
       "│ 1   │ 1.0      │ Avengers   │ USA      │"
      ]
     },
     "execution_count": 113,
     "metadata": {},
     "output_type": "execute_result"
    }
   ],
   "source": [
    "DataFrame(DBInterface.execute(db, \"select * from movies\"))"
   ]
  },
  {
   "cell_type": "code",
   "execution_count": 115,
   "metadata": {},
   "outputs": [
    {
     "data": {
      "text/html": [
       "<table class=\"data-frame\"><thead><tr><th></th><th>cid</th><th>name</th><th>type</th><th>notnull</th><th>dflt_value</th><th>pk</th></tr><tr><th></th><th>Int64</th><th>String</th><th>String</th><th>Int64</th><th>Missing</th><th>Int64</th></tr></thead><tbody><p>3 rows × 6 columns</p><tr><th>1</th><td>0</td><td>movie_id</td><td>REAL</td><td>0</td><td><em>missing</em></td><td>0</td></tr><tr><th>2</th><td>1</td><td>movie_name</td><td>Text</td><td>0</td><td><em>missing</em></td><td>0</td></tr><tr><th>3</th><td>2</td><td>location</td><td>TEXT</td><td>0</td><td><em>missing</em></td><td>0</td></tr></tbody></table>"
      ],
      "text/latex": [
       "\\begin{tabular}{r|cccccc}\n",
       "\t& cid & name & type & notnull & dflt\\_value & pk\\\\\n",
       "\t\\hline\n",
       "\t& Int64 & String & String & Int64 & Missing & Int64\\\\\n",
       "\t\\hline\n",
       "\t1 & 0 & movie\\_id & REAL & 0 & \\emph{missing} & 0 \\\\\n",
       "\t2 & 1 & movie\\_name & Text & 0 & \\emph{missing} & 0 \\\\\n",
       "\t3 & 2 & location & TEXT & 0 & \\emph{missing} & 0 \\\\\n",
       "\\end{tabular}\n"
      ],
      "text/plain": [
       "3×6 DataFrame\n",
       "│ Row │ cid   │ name       │ type   │ notnull │ dflt_value │ pk    │\n",
       "│     │ \u001b[90mInt64\u001b[39m │ \u001b[90mString\u001b[39m     │ \u001b[90mString\u001b[39m │ \u001b[90mInt64\u001b[39m   │ \u001b[90mMissing\u001b[39m    │ \u001b[90mInt64\u001b[39m │\n",
       "├─────┼───────┼────────────┼────────┼─────────┼────────────┼───────┤\n",
       "│ 1   │ 0     │ movie_id   │ REAL   │ 0       │ \u001b[90mmissing\u001b[39m    │ 0     │\n",
       "│ 2   │ 1     │ movie_name │ Text   │ 0       │ \u001b[90mmissing\u001b[39m    │ 0     │\n",
       "│ 3   │ 2     │ location   │ TEXT   │ 0       │ \u001b[90mmissing\u001b[39m    │ 0     │"
      ]
     },
     "execution_count": 115,
     "metadata": {},
     "output_type": "execute_result"
    }
   ],
   "source": [
    "SQLite.columns(db,\"movies\") |> DataFrame"
   ]
  },
  {
   "cell_type": "code",
   "execution_count": 116,
   "metadata": {},
   "outputs": [
    {
     "data": {
      "text/plain": [
       "SQLite.DB(\"Chinook_Sqlite.sqlite\")"
      ]
     },
     "execution_count": 116,
     "metadata": {},
     "output_type": "execute_result"
    }
   ],
   "source": [
    "chinook = SQLite.DB(\"Chinook_Sqlite.sqlite\")"
   ]
  },
  {
   "cell_type": "code",
   "execution_count": 119,
   "metadata": {},
   "outputs": [
    {
     "data": {
      "text/html": [
       "<table class=\"data-frame\"><thead><tr><th></th><th>name</th></tr><tr><th></th><th>String</th></tr></thead><tbody><p>11 rows × 1 columns</p><tr><th>1</th><td>Album</td></tr><tr><th>2</th><td>Artist</td></tr><tr><th>3</th><td>Customer</td></tr><tr><th>4</th><td>Employee</td></tr><tr><th>5</th><td>Genre</td></tr><tr><th>6</th><td>Invoice</td></tr><tr><th>7</th><td>InvoiceLine</td></tr><tr><th>8</th><td>MediaType</td></tr><tr><th>9</th><td>Playlist</td></tr><tr><th>10</th><td>PlaylistTrack</td></tr><tr><th>11</th><td>Track</td></tr></tbody></table>"
      ],
      "text/latex": [
       "\\begin{tabular}{r|c}\n",
       "\t& name\\\\\n",
       "\t\\hline\n",
       "\t& String\\\\\n",
       "\t\\hline\n",
       "\t1 & Album \\\\\n",
       "\t2 & Artist \\\\\n",
       "\t3 & Customer \\\\\n",
       "\t4 & Employee \\\\\n",
       "\t5 & Genre \\\\\n",
       "\t6 & Invoice \\\\\n",
       "\t7 & InvoiceLine \\\\\n",
       "\t8 & MediaType \\\\\n",
       "\t9 & Playlist \\\\\n",
       "\t10 & PlaylistTrack \\\\\n",
       "\t11 & Track \\\\\n",
       "\\end{tabular}\n"
      ],
      "text/plain": [
       "11×1 DataFrame\n",
       "│ Row │ name          │\n",
       "│     │ \u001b[90mString\u001b[39m        │\n",
       "├─────┼───────────────┤\n",
       "│ 1   │ Album         │\n",
       "│ 2   │ Artist        │\n",
       "│ 3   │ Customer      │\n",
       "│ 4   │ Employee      │\n",
       "│ 5   │ Genre         │\n",
       "│ 6   │ Invoice       │\n",
       "│ 7   │ InvoiceLine   │\n",
       "│ 8   │ MediaType     │\n",
       "│ 9   │ Playlist      │\n",
       "│ 10  │ PlaylistTrack │\n",
       "│ 11  │ Track         │"
      ]
     },
     "execution_count": 119,
     "metadata": {},
     "output_type": "execute_result"
    }
   ],
   "source": [
    "SQLite.tables(chinook) |> DataFrame"
   ]
  },
  {
   "cell_type": "code",
   "execution_count": 122,
   "metadata": {},
   "outputs": [
    {
     "data": {
      "text/html": [
       "<table class=\"data-frame\"><thead><tr><th></th><th>EmployeeId</th><th>LastName</th><th>FirstName</th><th>Title</th><th>ReportsTo</th><th>BirthDate</th></tr><tr><th></th><th>Int64</th><th>String</th><th>String</th><th>String</th><th>Int64?</th><th>String</th></tr></thead><tbody><p>8 rows × 15 columns (omitted printing of 9 columns)</p><tr><th>1</th><td>1</td><td>Adams</td><td>Andrew</td><td>General Manager</td><td><em>missing</em></td><td>1962-02-18 00:00:00</td></tr><tr><th>2</th><td>2</td><td>Edwards</td><td>Nancy</td><td>Sales Manager</td><td>1</td><td>1958-12-08 00:00:00</td></tr><tr><th>3</th><td>3</td><td>Peacock</td><td>Jane</td><td>Sales Support Agent</td><td>2</td><td>1973-08-29 00:00:00</td></tr><tr><th>4</th><td>4</td><td>Park</td><td>Margaret</td><td>Sales Support Agent</td><td>2</td><td>1947-09-19 00:00:00</td></tr><tr><th>5</th><td>5</td><td>Johnson</td><td>Steve</td><td>Sales Support Agent</td><td>2</td><td>1965-03-03 00:00:00</td></tr><tr><th>6</th><td>6</td><td>Mitchell</td><td>Michael</td><td>IT Manager</td><td>1</td><td>1973-07-01 00:00:00</td></tr><tr><th>7</th><td>7</td><td>King</td><td>Robert</td><td>IT Staff</td><td>6</td><td>1970-05-29 00:00:00</td></tr><tr><th>8</th><td>8</td><td>Callahan</td><td>Laura</td><td>IT Staff</td><td>6</td><td>1968-01-09 00:00:00</td></tr></tbody></table>"
      ],
      "text/latex": [
       "\\begin{tabular}{r|ccccccc}\n",
       "\t& EmployeeId & LastName & FirstName & Title & ReportsTo & BirthDate & \\\\\n",
       "\t\\hline\n",
       "\t& Int64 & String & String & String & Int64? & String & \\\\\n",
       "\t\\hline\n",
       "\t1 & 1 & Adams & Andrew & General Manager & \\emph{missing} & 1962-02-18 00:00:00 & $\\dots$ \\\\\n",
       "\t2 & 2 & Edwards & Nancy & Sales Manager & 1 & 1958-12-08 00:00:00 & $\\dots$ \\\\\n",
       "\t3 & 3 & Peacock & Jane & Sales Support Agent & 2 & 1973-08-29 00:00:00 & $\\dots$ \\\\\n",
       "\t4 & 4 & Park & Margaret & Sales Support Agent & 2 & 1947-09-19 00:00:00 & $\\dots$ \\\\\n",
       "\t5 & 5 & Johnson & Steve & Sales Support Agent & 2 & 1965-03-03 00:00:00 & $\\dots$ \\\\\n",
       "\t6 & 6 & Mitchell & Michael & IT Manager & 1 & 1973-07-01 00:00:00 & $\\dots$ \\\\\n",
       "\t7 & 7 & King & Robert & IT Staff & 6 & 1970-05-29 00:00:00 & $\\dots$ \\\\\n",
       "\t8 & 8 & Callahan & Laura & IT Staff & 6 & 1968-01-09 00:00:00 & $\\dots$ \\\\\n",
       "\\end{tabular}\n"
      ],
      "text/plain": [
       "8×15 DataFrame. Omitted printing of 10 columns\n",
       "│ Row │ EmployeeId │ LastName │ FirstName │ Title               │ ReportsTo │\n",
       "│     │ \u001b[90mInt64\u001b[39m      │ \u001b[90mString\u001b[39m   │ \u001b[90mString\u001b[39m    │ \u001b[90mString\u001b[39m              │ \u001b[90mInt64?\u001b[39m    │\n",
       "├─────┼────────────┼──────────┼───────────┼─────────────────────┼───────────┤\n",
       "│ 1   │ 1          │ Adams    │ Andrew    │ General Manager     │ \u001b[90mmissing\u001b[39m   │\n",
       "│ 2   │ 2          │ Edwards  │ Nancy     │ Sales Manager       │ 1         │\n",
       "│ 3   │ 3          │ Peacock  │ Jane      │ Sales Support Agent │ 2         │\n",
       "│ 4   │ 4          │ Park     │ Margaret  │ Sales Support Agent │ 2         │\n",
       "│ 5   │ 5          │ Johnson  │ Steve     │ Sales Support Agent │ 2         │\n",
       "│ 6   │ 6          │ Mitchell │ Michael   │ IT Manager          │ 1         │\n",
       "│ 7   │ 7          │ King     │ Robert    │ IT Staff            │ 6         │\n",
       "│ 8   │ 8          │ Callahan │ Laura     │ IT Staff            │ 6         │"
      ]
     },
     "execution_count": 122,
     "metadata": {},
     "output_type": "execute_result"
    }
   ],
   "source": [
    "DBInterface.execute(chinook,\"select * from employee\") |>DataFrame"
   ]
  },
  {
   "cell_type": "markdown",
   "metadata": {},
   "source": [
    "## Working with Python Packages"
   ]
  },
  {
   "cell_type": "code",
   "execution_count": 124,
   "metadata": {},
   "outputs": [],
   "source": [
    "using Pkg; Pkg.add(\"PyCall\")"
   ]
  },
  {
   "cell_type": "code",
   "execution_count": 125,
   "metadata": {},
   "outputs": [],
   "source": [
    "using PyCall"
   ]
  },
  {
   "cell_type": "code",
   "execution_count": 126,
   "metadata": {},
   "outputs": [
    {
     "data": {
      "text/plain": [
       "PyObject <module 'numpy' from '/home/sandhya/anaconda3/lib/python3.7/site-packages/numpy/__init__.py'>"
      ]
     },
     "execution_count": 126,
     "metadata": {},
     "output_type": "execute_result"
    }
   ],
   "source": [
    "np = pyimport(\"numpy\")"
   ]
  },
  {
   "cell_type": "code",
   "execution_count": 127,
   "metadata": {},
   "outputs": [
    {
     "data": {
      "text/plain": [
       "4-element Vector{Int64}:\n",
       " 1\n",
       " 2\n",
       " 3\n",
       " 4"
      ]
     },
     "execution_count": 127,
     "metadata": {},
     "output_type": "execute_result"
    }
   ],
   "source": [
    "a1 = np.array([1,2,3,4])"
   ]
  },
  {
   "cell_type": "code",
   "execution_count": 128,
   "metadata": {},
   "outputs": [
    {
     "data": {
      "text/plain": [
       "3.5"
      ]
     },
     "execution_count": 128,
     "metadata": {},
     "output_type": "execute_result"
    }
   ],
   "source": [
    "np.mean([2,3,4,5])"
   ]
  },
  {
   "cell_type": "code",
   "execution_count": 129,
   "metadata": {},
   "outputs": [
    {
     "data": {
      "text/plain": [
       "2.5"
      ]
     },
     "execution_count": 129,
     "metadata": {},
     "output_type": "execute_result"
    }
   ],
   "source": [
    "np.median(a1)"
   ]
  },
  {
   "cell_type": "code",
   "execution_count": 130,
   "metadata": {},
   "outputs": [
    {
     "data": {
      "text/plain": [
       "PyObject <module 'math' from '/home/sandhya/anaconda3/lib/python3.7/lib-dynload/math.cpython-37m-x86_64-linux-gnu.so'>"
      ]
     },
     "execution_count": 130,
     "metadata": {},
     "output_type": "execute_result"
    }
   ],
   "source": [
    "math = pyimport(\"math\")"
   ]
  },
  {
   "cell_type": "code",
   "execution_count": 131,
   "metadata": {},
   "outputs": [
    {
     "data": {
      "text/plain": [
       "-0.4161468365471424"
      ]
     },
     "execution_count": 131,
     "metadata": {},
     "output_type": "execute_result"
    }
   ],
   "source": [
    "cos(2)"
   ]
  },
  {
   "cell_type": "code",
   "execution_count": 132,
   "metadata": {},
   "outputs": [
    {
     "data": {
      "text/plain": [
       "PyObject <module 'pandas' from '/home/sandhya/anaconda3/lib/python3.7/site-packages/pandas/__init__.py'>"
      ]
     },
     "execution_count": 132,
     "metadata": {},
     "output_type": "execute_result"
    }
   ],
   "source": [
    "pd = pyimport(\"pandas\")"
   ]
  },
  {
   "cell_type": "code",
   "execution_count": 133,
   "metadata": {},
   "outputs": [
    {
     "data": {
      "text/html": [
       "<div>\n",
       "<style scoped>\n",
       "    .dataframe tbody tr th:only-of-type {\n",
       "        vertical-align: middle;\n",
       "    }\n",
       "\n",
       "    .dataframe tbody tr th {\n",
       "        vertical-align: top;\n",
       "    }\n",
       "\n",
       "    .dataframe thead th {\n",
       "        text-align: right;\n",
       "    }\n",
       "</style>\n",
       "<table border=\"1\" class=\"dataframe\">\n",
       "  <thead>\n",
       "    <tr style=\"text-align: right;\">\n",
       "      <th></th>\n",
       "      <th>sepal.length</th>\n",
       "      <th>sepal.width</th>\n",
       "      <th>petal.length</th>\n",
       "      <th>petal.width</th>\n",
       "      <th>variety</th>\n",
       "    </tr>\n",
       "  </thead>\n",
       "  <tbody>\n",
       "    <tr>\n",
       "      <th>0</th>\n",
       "      <td>5.1</td>\n",
       "      <td>3.5</td>\n",
       "      <td>1.4</td>\n",
       "      <td>0.2</td>\n",
       "      <td>Setosa</td>\n",
       "    </tr>\n",
       "    <tr>\n",
       "      <th>1</th>\n",
       "      <td>4.9</td>\n",
       "      <td>3.0</td>\n",
       "      <td>1.4</td>\n",
       "      <td>0.2</td>\n",
       "      <td>Setosa</td>\n",
       "    </tr>\n",
       "    <tr>\n",
       "      <th>2</th>\n",
       "      <td>4.7</td>\n",
       "      <td>3.2</td>\n",
       "      <td>1.3</td>\n",
       "      <td>0.2</td>\n",
       "      <td>Setosa</td>\n",
       "    </tr>\n",
       "    <tr>\n",
       "      <th>3</th>\n",
       "      <td>4.6</td>\n",
       "      <td>3.1</td>\n",
       "      <td>1.5</td>\n",
       "      <td>0.2</td>\n",
       "      <td>Setosa</td>\n",
       "    </tr>\n",
       "    <tr>\n",
       "      <th>4</th>\n",
       "      <td>5.0</td>\n",
       "      <td>3.6</td>\n",
       "      <td>1.4</td>\n",
       "      <td>0.2</td>\n",
       "      <td>Setosa</td>\n",
       "    </tr>\n",
       "    <tr>\n",
       "      <th>...</th>\n",
       "      <td>...</td>\n",
       "      <td>...</td>\n",
       "      <td>...</td>\n",
       "      <td>...</td>\n",
       "      <td>...</td>\n",
       "    </tr>\n",
       "    <tr>\n",
       "      <th>145</th>\n",
       "      <td>6.7</td>\n",
       "      <td>3.0</td>\n",
       "      <td>5.2</td>\n",
       "      <td>2.3</td>\n",
       "      <td>Virginica</td>\n",
       "    </tr>\n",
       "    <tr>\n",
       "      <th>146</th>\n",
       "      <td>6.3</td>\n",
       "      <td>2.5</td>\n",
       "      <td>5.0</td>\n",
       "      <td>1.9</td>\n",
       "      <td>Virginica</td>\n",
       "    </tr>\n",
       "    <tr>\n",
       "      <th>147</th>\n",
       "      <td>6.5</td>\n",
       "      <td>3.0</td>\n",
       "      <td>5.2</td>\n",
       "      <td>2.0</td>\n",
       "      <td>Virginica</td>\n",
       "    </tr>\n",
       "    <tr>\n",
       "      <th>148</th>\n",
       "      <td>6.2</td>\n",
       "      <td>3.4</td>\n",
       "      <td>5.4</td>\n",
       "      <td>2.3</td>\n",
       "      <td>Virginica</td>\n",
       "    </tr>\n",
       "    <tr>\n",
       "      <th>149</th>\n",
       "      <td>5.9</td>\n",
       "      <td>3.0</td>\n",
       "      <td>5.1</td>\n",
       "      <td>1.8</td>\n",
       "      <td>Virginica</td>\n",
       "    </tr>\n",
       "  </tbody>\n",
       "</table>\n",
       "<p>150 rows × 5 columns</p>\n",
       "</div>"
      ],
      "text/plain": [
       "PyObject      sepal.length  sepal.width  petal.length  petal.width    variety\n",
       "0             5.1          3.5           1.4          0.2     Setosa\n",
       "1             4.9          3.0           1.4          0.2     Setosa\n",
       "2             4.7          3.2           1.3          0.2     Setosa\n",
       "3             4.6          3.1           1.5          0.2     Setosa\n",
       "4             5.0          3.6           1.4          0.2     Setosa\n",
       "..            ...          ...           ...          ...        ...\n",
       "145           6.7          3.0           5.2          2.3  Virginica\n",
       "146           6.3          2.5           5.0          1.9  Virginica\n",
       "147           6.5          3.0           5.2          2.0  Virginica\n",
       "148           6.2          3.4           5.4          2.3  Virginica\n",
       "149           5.9          3.0           5.1          1.8  Virginica\n",
       "\n",
       "[150 rows x 5 columns]"
      ]
     },
     "execution_count": 133,
     "metadata": {},
     "output_type": "execute_result"
    }
   ],
   "source": [
    "ir = pd.read_csv(\"iris.csv\")"
   ]
  },
  {
   "cell_type": "markdown",
   "metadata": {},
   "source": [
    "## Machine Learning in Julia"
   ]
  },
  {
   "cell_type": "code",
   "execution_count": 135,
   "metadata": {},
   "outputs": [],
   "source": [
    "using ScikitLearn, CSV"
   ]
  },
  {
   "cell_type": "code",
   "execution_count": 136,
   "metadata": {},
   "outputs": [
    {
     "data": {
      "text/html": [
       "<table class=\"data-frame\"><thead><tr><th></th><th>sepal_length</th><th>sepal_width</th><th>petal_length</th><th>petal_width</th><th>variety</th></tr><tr><th></th><th>Float64</th><th>Float64</th><th>Float64</th><th>Float64</th><th>String</th></tr></thead><tbody><p>150 rows × 5 columns</p><tr><th>1</th><td>5.1</td><td>3.5</td><td>1.4</td><td>0.2</td><td>Setosa</td></tr><tr><th>2</th><td>4.9</td><td>3.0</td><td>1.4</td><td>0.2</td><td>Setosa</td></tr><tr><th>3</th><td>4.7</td><td>3.2</td><td>1.3</td><td>0.2</td><td>Setosa</td></tr><tr><th>4</th><td>4.6</td><td>3.1</td><td>1.5</td><td>0.2</td><td>Setosa</td></tr><tr><th>5</th><td>5.0</td><td>3.6</td><td>1.4</td><td>0.2</td><td>Setosa</td></tr><tr><th>6</th><td>5.4</td><td>3.9</td><td>1.7</td><td>0.4</td><td>Setosa</td></tr><tr><th>7</th><td>4.6</td><td>3.4</td><td>1.4</td><td>0.3</td><td>Setosa</td></tr><tr><th>8</th><td>5.0</td><td>3.4</td><td>1.5</td><td>0.2</td><td>Setosa</td></tr><tr><th>9</th><td>4.4</td><td>2.9</td><td>1.4</td><td>0.2</td><td>Setosa</td></tr><tr><th>10</th><td>4.9</td><td>3.1</td><td>1.5</td><td>0.1</td><td>Setosa</td></tr><tr><th>11</th><td>5.4</td><td>3.7</td><td>1.5</td><td>0.2</td><td>Setosa</td></tr><tr><th>12</th><td>4.8</td><td>3.4</td><td>1.6</td><td>0.2</td><td>Setosa</td></tr><tr><th>13</th><td>4.8</td><td>3.0</td><td>1.4</td><td>0.1</td><td>Setosa</td></tr><tr><th>14</th><td>4.3</td><td>3.0</td><td>1.1</td><td>0.1</td><td>Setosa</td></tr><tr><th>15</th><td>5.8</td><td>4.0</td><td>1.2</td><td>0.2</td><td>Setosa</td></tr><tr><th>16</th><td>5.7</td><td>4.4</td><td>1.5</td><td>0.4</td><td>Setosa</td></tr><tr><th>17</th><td>5.4</td><td>3.9</td><td>1.3</td><td>0.4</td><td>Setosa</td></tr><tr><th>18</th><td>5.1</td><td>3.5</td><td>1.4</td><td>0.3</td><td>Setosa</td></tr><tr><th>19</th><td>5.7</td><td>3.8</td><td>1.7</td><td>0.3</td><td>Setosa</td></tr><tr><th>20</th><td>5.1</td><td>3.8</td><td>1.5</td><td>0.3</td><td>Setosa</td></tr><tr><th>21</th><td>5.4</td><td>3.4</td><td>1.7</td><td>0.2</td><td>Setosa</td></tr><tr><th>22</th><td>5.1</td><td>3.7</td><td>1.5</td><td>0.4</td><td>Setosa</td></tr><tr><th>23</th><td>4.6</td><td>3.6</td><td>1.0</td><td>0.2</td><td>Setosa</td></tr><tr><th>24</th><td>5.1</td><td>3.3</td><td>1.7</td><td>0.5</td><td>Setosa</td></tr><tr><th>25</th><td>4.8</td><td>3.4</td><td>1.9</td><td>0.2</td><td>Setosa</td></tr><tr><th>26</th><td>5.0</td><td>3.0</td><td>1.6</td><td>0.2</td><td>Setosa</td></tr><tr><th>27</th><td>5.0</td><td>3.4</td><td>1.6</td><td>0.4</td><td>Setosa</td></tr><tr><th>28</th><td>5.2</td><td>3.5</td><td>1.5</td><td>0.2</td><td>Setosa</td></tr><tr><th>29</th><td>5.2</td><td>3.4</td><td>1.4</td><td>0.2</td><td>Setosa</td></tr><tr><th>30</th><td>4.7</td><td>3.2</td><td>1.6</td><td>0.2</td><td>Setosa</td></tr><tr><th>&vellip;</th><td>&vellip;</td><td>&vellip;</td><td>&vellip;</td><td>&vellip;</td><td>&vellip;</td></tr></tbody></table>"
      ],
      "text/latex": [
       "\\begin{tabular}{r|ccccc}\n",
       "\t& sepal\\_length & sepal\\_width & petal\\_length & petal\\_width & variety\\\\\n",
       "\t\\hline\n",
       "\t& Float64 & Float64 & Float64 & Float64 & String\\\\\n",
       "\t\\hline\n",
       "\t1 & 5.1 & 3.5 & 1.4 & 0.2 & Setosa \\\\\n",
       "\t2 & 4.9 & 3.0 & 1.4 & 0.2 & Setosa \\\\\n",
       "\t3 & 4.7 & 3.2 & 1.3 & 0.2 & Setosa \\\\\n",
       "\t4 & 4.6 & 3.1 & 1.5 & 0.2 & Setosa \\\\\n",
       "\t5 & 5.0 & 3.6 & 1.4 & 0.2 & Setosa \\\\\n",
       "\t6 & 5.4 & 3.9 & 1.7 & 0.4 & Setosa \\\\\n",
       "\t7 & 4.6 & 3.4 & 1.4 & 0.3 & Setosa \\\\\n",
       "\t8 & 5.0 & 3.4 & 1.5 & 0.2 & Setosa \\\\\n",
       "\t9 & 4.4 & 2.9 & 1.4 & 0.2 & Setosa \\\\\n",
       "\t10 & 4.9 & 3.1 & 1.5 & 0.1 & Setosa \\\\\n",
       "\t11 & 5.4 & 3.7 & 1.5 & 0.2 & Setosa \\\\\n",
       "\t12 & 4.8 & 3.4 & 1.6 & 0.2 & Setosa \\\\\n",
       "\t13 & 4.8 & 3.0 & 1.4 & 0.1 & Setosa \\\\\n",
       "\t14 & 4.3 & 3.0 & 1.1 & 0.1 & Setosa \\\\\n",
       "\t15 & 5.8 & 4.0 & 1.2 & 0.2 & Setosa \\\\\n",
       "\t16 & 5.7 & 4.4 & 1.5 & 0.4 & Setosa \\\\\n",
       "\t17 & 5.4 & 3.9 & 1.3 & 0.4 & Setosa \\\\\n",
       "\t18 & 5.1 & 3.5 & 1.4 & 0.3 & Setosa \\\\\n",
       "\t19 & 5.7 & 3.8 & 1.7 & 0.3 & Setosa \\\\\n",
       "\t20 & 5.1 & 3.8 & 1.5 & 0.3 & Setosa \\\\\n",
       "\t21 & 5.4 & 3.4 & 1.7 & 0.2 & Setosa \\\\\n",
       "\t22 & 5.1 & 3.7 & 1.5 & 0.4 & Setosa \\\\\n",
       "\t23 & 4.6 & 3.6 & 1.0 & 0.2 & Setosa \\\\\n",
       "\t24 & 5.1 & 3.3 & 1.7 & 0.5 & Setosa \\\\\n",
       "\t25 & 4.8 & 3.4 & 1.9 & 0.2 & Setosa \\\\\n",
       "\t26 & 5.0 & 3.0 & 1.6 & 0.2 & Setosa \\\\\n",
       "\t27 & 5.0 & 3.4 & 1.6 & 0.4 & Setosa \\\\\n",
       "\t28 & 5.2 & 3.5 & 1.5 & 0.2 & Setosa \\\\\n",
       "\t29 & 5.2 & 3.4 & 1.4 & 0.2 & Setosa \\\\\n",
       "\t30 & 4.7 & 3.2 & 1.6 & 0.2 & Setosa \\\\\n",
       "\t$\\dots$ & $\\dots$ & $\\dots$ & $\\dots$ & $\\dots$ & $\\dots$ \\\\\n",
       "\\end{tabular}\n"
      ],
      "text/plain": [
       "150×5 DataFrame\n",
       "│ Row │ sepal_length │ sepal_width │ petal_length │ petal_width │ variety   │\n",
       "│     │ \u001b[90mFloat64\u001b[39m      │ \u001b[90mFloat64\u001b[39m     │ \u001b[90mFloat64\u001b[39m      │ \u001b[90mFloat64\u001b[39m     │ \u001b[90mString\u001b[39m    │\n",
       "├─────┼──────────────┼─────────────┼──────────────┼─────────────┼───────────┤\n",
       "│ 1   │ 5.1          │ 3.5         │ 1.4          │ 0.2         │ Setosa    │\n",
       "│ 2   │ 4.9          │ 3.0         │ 1.4          │ 0.2         │ Setosa    │\n",
       "│ 3   │ 4.7          │ 3.2         │ 1.3          │ 0.2         │ Setosa    │\n",
       "│ 4   │ 4.6          │ 3.1         │ 1.5          │ 0.2         │ Setosa    │\n",
       "│ 5   │ 5.0          │ 3.6         │ 1.4          │ 0.2         │ Setosa    │\n",
       "│ 6   │ 5.4          │ 3.9         │ 1.7          │ 0.4         │ Setosa    │\n",
       "│ 7   │ 4.6          │ 3.4         │ 1.4          │ 0.3         │ Setosa    │\n",
       "│ 8   │ 5.0          │ 3.4         │ 1.5          │ 0.2         │ Setosa    │\n",
       "│ 9   │ 4.4          │ 2.9         │ 1.4          │ 0.2         │ Setosa    │\n",
       "│ 10  │ 4.9          │ 3.1         │ 1.5          │ 0.1         │ Setosa    │\n",
       "⋮\n",
       "│ 140 │ 6.9          │ 3.1         │ 5.4          │ 2.1         │ Virginica │\n",
       "│ 141 │ 6.7          │ 3.1         │ 5.6          │ 2.4         │ Virginica │\n",
       "│ 142 │ 6.9          │ 3.1         │ 5.1          │ 2.3         │ Virginica │\n",
       "│ 143 │ 5.8          │ 2.7         │ 5.1          │ 1.9         │ Virginica │\n",
       "│ 144 │ 6.8          │ 3.2         │ 5.9          │ 2.3         │ Virginica │\n",
       "│ 145 │ 6.7          │ 3.3         │ 5.7          │ 2.5         │ Virginica │\n",
       "│ 146 │ 6.7          │ 3.0         │ 5.2          │ 2.3         │ Virginica │\n",
       "│ 147 │ 6.3          │ 2.5         │ 5.0          │ 1.9         │ Virginica │\n",
       "│ 148 │ 6.5          │ 3.0         │ 5.2          │ 2.0         │ Virginica │\n",
       "│ 149 │ 6.2          │ 3.4         │ 5.4          │ 2.3         │ Virginica │\n",
       "│ 150 │ 5.9          │ 3.0         │ 5.1          │ 1.8         │ Virginica │"
      ]
     },
     "execution_count": 136,
     "metadata": {},
     "output_type": "execute_result"
    }
   ],
   "source": [
    "iris = CSV.read(\"iris.csv\",DataFrame,normalizenames=true)"
   ]
  },
  {
   "cell_type": "code",
   "execution_count": 137,
   "metadata": {},
   "outputs": [
    {
     "data": {
      "text/plain": [
       "150×4 Matrix{Float64}:\n",
       " 5.1  3.5  1.4  0.2\n",
       " 4.9  3.0  1.4  0.2\n",
       " 4.7  3.2  1.3  0.2\n",
       " 4.6  3.1  1.5  0.2\n",
       " 5.0  3.6  1.4  0.2\n",
       " 5.4  3.9  1.7  0.4\n",
       " 4.6  3.4  1.4  0.3\n",
       " 5.0  3.4  1.5  0.2\n",
       " 4.4  2.9  1.4  0.2\n",
       " 4.9  3.1  1.5  0.1\n",
       " 5.4  3.7  1.5  0.2\n",
       " 4.8  3.4  1.6  0.2\n",
       " 4.8  3.0  1.4  0.1\n",
       " ⋮              \n",
       " 6.0  3.0  4.8  1.8\n",
       " 6.9  3.1  5.4  2.1\n",
       " 6.7  3.1  5.6  2.4\n",
       " 6.9  3.1  5.1  2.3\n",
       " 5.8  2.7  5.1  1.9\n",
       " 6.8  3.2  5.9  2.3\n",
       " 6.7  3.3  5.7  2.5\n",
       " 6.7  3.0  5.2  2.3\n",
       " 6.3  2.5  5.0  1.9\n",
       " 6.5  3.0  5.2  2.0\n",
       " 6.2  3.4  5.4  2.3\n",
       " 5.9  3.0  5.1  1.8"
      ]
     },
     "execution_count": 137,
     "metadata": {},
     "output_type": "execute_result"
    }
   ],
   "source": [
    "iris_x = convert(Array,iris[:,[1,2,3,4]])"
   ]
  },
  {
   "cell_type": "code",
   "execution_count": 139,
   "metadata": {},
   "outputs": [
    {
     "data": {
      "text/plain": [
       "150-element Vector{String}:\n",
       " \"Setosa\"\n",
       " \"Setosa\"\n",
       " \"Setosa\"\n",
       " \"Setosa\"\n",
       " \"Setosa\"\n",
       " \"Setosa\"\n",
       " \"Setosa\"\n",
       " \"Setosa\"\n",
       " \"Setosa\"\n",
       " \"Setosa\"\n",
       " \"Setosa\"\n",
       " \"Setosa\"\n",
       " \"Setosa\"\n",
       " ⋮\n",
       " \"Virginica\"\n",
       " \"Virginica\"\n",
       " \"Virginica\"\n",
       " \"Virginica\"\n",
       " \"Virginica\"\n",
       " \"Virginica\"\n",
       " \"Virginica\"\n",
       " \"Virginica\"\n",
       " \"Virginica\"\n",
       " \"Virginica\"\n",
       " \"Virginica\"\n",
       " \"Virginica\""
      ]
     },
     "execution_count": 139,
     "metadata": {},
     "output_type": "execute_result"
    }
   ],
   "source": [
    "iris_y = convert(Array,iris[:,5])"
   ]
  },
  {
   "cell_type": "code",
   "execution_count": 143,
   "metadata": {},
   "outputs": [
    {
     "data": {
      "text/plain": [
       "PyObject <class 'sklearn.linear_model._logistic.LogisticRegression'>"
      ]
     },
     "execution_count": 143,
     "metadata": {},
     "output_type": "execute_result"
    }
   ],
   "source": [
    "@sk_import linear_model: LogisticRegression"
   ]
  },
  {
   "cell_type": "code",
   "execution_count": 144,
   "metadata": {},
   "outputs": [
    {
     "data": {
      "text/plain": [
       "PyObject LogisticRegression(C=1.0, class_weight=None, dual=False, fit_intercept=True,\n",
       "                   intercept_scaling=1, l1_ratio=None, max_iter=100,\n",
       "                   multi_class='auto', n_jobs=None, penalty='l2',\n",
       "                   random_state=None, solver='lbfgs', tol=0.0001, verbose=0,\n",
       "                   warm_start=False)"
      ]
     },
     "execution_count": 144,
     "metadata": {},
     "output_type": "execute_result"
    }
   ],
   "source": [
    "log_reg_model = LogisticRegression()"
   ]
  },
  {
   "cell_type": "code",
   "execution_count": 145,
   "metadata": {},
   "outputs": [
    {
     "data": {
      "text/plain": [
       "PyObject LogisticRegression(C=1.0, class_weight=None, dual=False, fit_intercept=True,\n",
       "                   intercept_scaling=1, l1_ratio=None, max_iter=100,\n",
       "                   multi_class='auto', n_jobs=None, penalty='l2',\n",
       "                   random_state=None, solver='lbfgs', tol=0.0001, verbose=0,\n",
       "                   warm_start=False)"
      ]
     },
     "execution_count": 145,
     "metadata": {},
     "output_type": "execute_result"
    }
   ],
   "source": [
    "fit!(log_reg_model,iris_x,iris_y)"
   ]
  },
  {
   "cell_type": "code",
   "execution_count": 146,
   "metadata": {},
   "outputs": [
    {
     "data": {
      "text/plain": [
       "150-element Vector{Any}:\n",
       " \"Setosa\"\n",
       " \"Setosa\"\n",
       " \"Setosa\"\n",
       " \"Setosa\"\n",
       " \"Setosa\"\n",
       " \"Setosa\"\n",
       " \"Setosa\"\n",
       " \"Setosa\"\n",
       " \"Setosa\"\n",
       " \"Setosa\"\n",
       " \"Setosa\"\n",
       " \"Setosa\"\n",
       " \"Setosa\"\n",
       " ⋮\n",
       " \"Virginica\"\n",
       " \"Virginica\"\n",
       " \"Virginica\"\n",
       " \"Virginica\"\n",
       " \"Virginica\"\n",
       " \"Virginica\"\n",
       " \"Virginica\"\n",
       " \"Virginica\"\n",
       " \"Virginica\"\n",
       " \"Virginica\"\n",
       " \"Virginica\"\n",
       " \"Virginica\""
      ]
     },
     "execution_count": 146,
     "metadata": {},
     "output_type": "execute_result"
    }
   ],
   "source": [
    "prediction = predict(log_reg_model,iris_x)"
   ]
  },
  {
   "cell_type": "code",
   "execution_count": 148,
   "metadata": {},
   "outputs": [
    {
     "data": {
      "text/plain": [
       "PyObject <function accuracy_score at 0x7f47614e8200>"
      ]
     },
     "execution_count": 148,
     "metadata": {},
     "output_type": "execute_result"
    }
   ],
   "source": [
    "@sk_import metrics: accuracy_score"
   ]
  },
  {
   "cell_type": "code",
   "execution_count": 149,
   "metadata": {},
   "outputs": [
    {
     "data": {
      "text/plain": [
       "0.9733333333333334"
      ]
     },
     "execution_count": 149,
     "metadata": {},
     "output_type": "execute_result"
    }
   ],
   "source": [
    "accuracy = accuracy_score(prediction,iris_y)"
   ]
  },
  {
   "cell_type": "code",
   "execution_count": 150,
   "metadata": {},
   "outputs": [
    {
     "data": {
      "text/plain": [
       "PyObject <class 'sklearn.tree._classes.DecisionTreeClassifier'>"
      ]
     },
     "execution_count": 150,
     "metadata": {},
     "output_type": "execute_result"
    }
   ],
   "source": [
    "@sk_import tree: DecisionTreeClassifier"
   ]
  },
  {
   "cell_type": "code",
   "execution_count": 151,
   "metadata": {},
   "outputs": [
    {
     "data": {
      "text/plain": [
       "PyObject DecisionTreeClassifier(ccp_alpha=0.0, class_weight=None, criterion='gini',\n",
       "                       max_depth=None, max_features=None, max_leaf_nodes=None,\n",
       "                       min_impurity_decrease=0.0, min_impurity_split=None,\n",
       "                       min_samples_leaf=1, min_samples_split=2,\n",
       "                       min_weight_fraction_leaf=0.0, presort='deprecated',\n",
       "                       random_state=None, splitter='best')"
      ]
     },
     "execution_count": 151,
     "metadata": {},
     "output_type": "execute_result"
    }
   ],
   "source": [
    "tree_model = DecisionTreeClassifier()"
   ]
  },
  {
   "cell_type": "code",
   "execution_count": 152,
   "metadata": {},
   "outputs": [
    {
     "data": {
      "text/plain": [
       "PyObject DecisionTreeClassifier(ccp_alpha=0.0, class_weight=None, criterion='gini',\n",
       "                       max_depth=None, max_features=None, max_leaf_nodes=None,\n",
       "                       min_impurity_decrease=0.0, min_impurity_split=None,\n",
       "                       min_samples_leaf=1, min_samples_split=2,\n",
       "                       min_weight_fraction_leaf=0.0, presort='deprecated',\n",
       "                       random_state=None, splitter='best')"
      ]
     },
     "execution_count": 152,
     "metadata": {},
     "output_type": "execute_result"
    }
   ],
   "source": [
    "fit!(tree_model,iris_x,iris_y)"
   ]
  },
  {
   "cell_type": "code",
   "execution_count": 153,
   "metadata": {},
   "outputs": [
    {
     "data": {
      "text/plain": [
       "150-element Vector{Any}:\n",
       " \"Setosa\"\n",
       " \"Setosa\"\n",
       " \"Setosa\"\n",
       " \"Setosa\"\n",
       " \"Setosa\"\n",
       " \"Setosa\"\n",
       " \"Setosa\"\n",
       " \"Setosa\"\n",
       " \"Setosa\"\n",
       " \"Setosa\"\n",
       " \"Setosa\"\n",
       " \"Setosa\"\n",
       " \"Setosa\"\n",
       " ⋮\n",
       " \"Virginica\"\n",
       " \"Virginica\"\n",
       " \"Virginica\"\n",
       " \"Virginica\"\n",
       " \"Virginica\"\n",
       " \"Virginica\"\n",
       " \"Virginica\"\n",
       " \"Virginica\"\n",
       " \"Virginica\"\n",
       " \"Virginica\"\n",
       " \"Virginica\"\n",
       " \"Virginica\""
      ]
     },
     "execution_count": 153,
     "metadata": {},
     "output_type": "execute_result"
    }
   ],
   "source": [
    "tree_prediction = predict(tree_model,iris_x)"
   ]
  },
  {
   "cell_type": "code",
   "execution_count": 154,
   "metadata": {},
   "outputs": [
    {
     "data": {
      "text/plain": [
       "1.0"
      ]
     },
     "execution_count": 154,
     "metadata": {},
     "output_type": "execute_result"
    }
   ],
   "source": [
    "tree_accuracy = accuracy_score(tree_prediction, iris_y)"
   ]
  },
  {
   "cell_type": "code",
   "execution_count": 157,
   "metadata": {},
   "outputs": [
    {
     "data": {
      "text/plain": [
       "PyObject <class 'sklearn.ensemble._forest.RandomForestClassifier'>"
      ]
     },
     "execution_count": 157,
     "metadata": {},
     "output_type": "execute_result"
    }
   ],
   "source": [
    "@sk_import ensemble: RandomForestClassifier"
   ]
  },
  {
   "cell_type": "code",
   "execution_count": 158,
   "metadata": {},
   "outputs": [
    {
     "data": {
      "text/plain": [
       "PyObject RandomForestClassifier(bootstrap=True, ccp_alpha=0.0, class_weight=None,\n",
       "                       criterion='gini', max_depth=None, max_features='auto',\n",
       "                       max_leaf_nodes=None, max_samples=None,\n",
       "                       min_impurity_decrease=0.0, min_impurity_split=None,\n",
       "                       min_samples_leaf=1, min_samples_split=2,\n",
       "                       min_weight_fraction_leaf=0.0, n_estimators=100,\n",
       "                       n_jobs=None, oob_score=False, random_state=None,\n",
       "                       verbose=0, warm_start=False)"
      ]
     },
     "execution_count": 158,
     "metadata": {},
     "output_type": "execute_result"
    }
   ],
   "source": [
    "rf_model = RandomForestClassifier()"
   ]
  },
  {
   "cell_type": "code",
   "execution_count": 159,
   "metadata": {},
   "outputs": [
    {
     "data": {
      "text/plain": [
       "PyObject RandomForestClassifier(bootstrap=True, ccp_alpha=0.0, class_weight=None,\n",
       "                       criterion='gini', max_depth=None, max_features='auto',\n",
       "                       max_leaf_nodes=None, max_samples=None,\n",
       "                       min_impurity_decrease=0.0, min_impurity_split=None,\n",
       "                       min_samples_leaf=1, min_samples_split=2,\n",
       "                       min_weight_fraction_leaf=0.0, n_estimators=100,\n",
       "                       n_jobs=None, oob_score=False, random_state=None,\n",
       "                       verbose=0, warm_start=False)"
      ]
     },
     "execution_count": 159,
     "metadata": {},
     "output_type": "execute_result"
    }
   ],
   "source": [
    "fit!(rf_model,iris_x,iris_y)"
   ]
  },
  {
   "cell_type": "code",
   "execution_count": 161,
   "metadata": {},
   "outputs": [
    {
     "data": {
      "text/plain": [
       "150-element Vector{Any}:\n",
       " \"Setosa\"\n",
       " \"Setosa\"\n",
       " \"Setosa\"\n",
       " \"Setosa\"\n",
       " \"Setosa\"\n",
       " \"Setosa\"\n",
       " \"Setosa\"\n",
       " \"Setosa\"\n",
       " \"Setosa\"\n",
       " \"Setosa\"\n",
       " \"Setosa\"\n",
       " \"Setosa\"\n",
       " \"Setosa\"\n",
       " ⋮\n",
       " \"Virginica\"\n",
       " \"Virginica\"\n",
       " \"Virginica\"\n",
       " \"Virginica\"\n",
       " \"Virginica\"\n",
       " \"Virginica\"\n",
       " \"Virginica\"\n",
       " \"Virginica\"\n",
       " \"Virginica\"\n",
       " \"Virginica\"\n",
       " \"Virginica\"\n",
       " \"Virginica\""
      ]
     },
     "execution_count": 161,
     "metadata": {},
     "output_type": "execute_result"
    }
   ],
   "source": [
    "rf_predict = predict(rf_model,iris_x)"
   ]
  },
  {
   "cell_type": "code",
   "execution_count": 162,
   "metadata": {},
   "outputs": [
    {
     "data": {
      "text/plain": [
       "1.0"
      ]
     },
     "execution_count": 162,
     "metadata": {},
     "output_type": "execute_result"
    }
   ],
   "source": [
    "rf_accuracy = accuracy_score(rf_predict,iris_y)"
   ]
  },
  {
   "cell_type": "code",
   "execution_count": 163,
   "metadata": {},
   "outputs": [
    {
     "name": "stderr",
     "output_type": "stream",
     "text": [
      "┌ Warning: Module model_selection has been ported to Julia - try `import ScikitLearn: CrossValidation` instead\n",
      "└ @ ScikitLearn.Skcore /home/sandhya/.julia/packages/ScikitLearn/Kn82b/src/Skcore.jl:169\n"
     ]
    },
    {
     "data": {
      "text/plain": [
       "PyObject <function train_test_split at 0x7f4761540cb0>"
      ]
     },
     "execution_count": 163,
     "metadata": {},
     "output_type": "execute_result"
    },
    {
     "name": "stderr",
     "output_type": "stream",
     "text": [
      "WARNING: both ScikitLearn and DataFrames export \"transform\"; uses of it in module Main must be qualified\n"
     ]
    }
   ],
   "source": [
    "@sk_import model_selection: train_test_split"
   ]
  },
  {
   "cell_type": "code",
   "execution_count": 164,
   "metadata": {},
   "outputs": [
    {
     "data": {
      "text/plain": [
       "4-element Vector{Array}:\n",
       " [6.4 2.9 4.3 1.3; 4.5 2.3 1.3 0.3; … ; 5.4 3.9 1.7 0.4; 5.0 3.4 1.5 0.2]\n",
       " [5.9 3.0 5.1 1.8; 4.6 3.6 1.0 0.2; … ; 4.9 2.5 4.5 1.7; 6.7 3.0 5.2 2.3]\n",
       " [\"Versicolor\", \"Setosa\", \"Virginica\", \"Versicolor\", \"Virginica\", \"Virginica\", \"Versicolor\", \"Versicolor\", \"Virginica\", \"Virginica\"  …  \"Virginica\", \"Versicolor\", \"Versicolor\", \"Versicolor\", \"Versicolor\", \"Virginica\", \"Setosa\", \"Setosa\", \"Setosa\", \"Setosa\"]\n",
       " [\"Virginica\", \"Setosa\", \"Setosa\", \"Setosa\", \"Setosa\", \"Virginica\", \"Virginica\", \"Versicolor\", \"Setosa\", \"Virginica\"  …  \"Versicolor\", \"Versicolor\", \"Virginica\", \"Virginica\", \"Setosa\", \"Setosa\", \"Versicolor\", \"Virginica\", \"Virginica\", \"Virginica\"]"
      ]
     },
     "execution_count": 164,
     "metadata": {},
     "output_type": "execute_result"
    }
   ],
   "source": [
    "x_train, x_test, y_train, y_test = train_test_split(iris_x,iris_y,test_size=0.2)"
   ]
  },
  {
   "cell_type": "code",
   "execution_count": 165,
   "metadata": {},
   "outputs": [
    {
     "data": {
      "text/plain": [
       "(120, 4)"
      ]
     },
     "execution_count": 165,
     "metadata": {},
     "output_type": "execute_result"
    }
   ],
   "source": [
    "size(x_train)"
   ]
  },
  {
   "cell_type": "code",
   "execution_count": 166,
   "metadata": {},
   "outputs": [
    {
     "data": {
      "text/plain": [
       "(150, 4)"
      ]
     },
     "execution_count": 166,
     "metadata": {},
     "output_type": "execute_result"
    }
   ],
   "source": [
    "size(iris_x)"
   ]
  },
  {
   "cell_type": "code",
   "execution_count": 167,
   "metadata": {},
   "outputs": [
    {
     "data": {
      "text/plain": [
       "PyObject LogisticRegression(C=1.0, class_weight=None, dual=False, fit_intercept=True,\n",
       "                   intercept_scaling=1, l1_ratio=None, max_iter=100,\n",
       "                   multi_class='auto', n_jobs=None, penalty='l2',\n",
       "                   random_state=None, solver='lbfgs', tol=0.0001, verbose=0,\n",
       "                   warm_start=False)"
      ]
     },
     "execution_count": 167,
     "metadata": {},
     "output_type": "execute_result"
    }
   ],
   "source": [
    "log_reg_2 = LogisticRegression()\n"
   ]
  },
  {
   "cell_type": "code",
   "execution_count": 168,
   "metadata": {},
   "outputs": [
    {
     "data": {
      "text/plain": [
       "PyObject LogisticRegression(C=1.0, class_weight=None, dual=False, fit_intercept=True,\n",
       "                   intercept_scaling=1, l1_ratio=None, max_iter=100,\n",
       "                   multi_class='auto', n_jobs=None, penalty='l2',\n",
       "                   random_state=None, solver='lbfgs', tol=0.0001, verbose=0,\n",
       "                   warm_start=False)"
      ]
     },
     "execution_count": 168,
     "metadata": {},
     "output_type": "execute_result"
    }
   ],
   "source": [
    "fit!(log_reg_2,x_train,y_train)"
   ]
  },
  {
   "cell_type": "code",
   "execution_count": 169,
   "metadata": {},
   "outputs": [
    {
     "data": {
      "text/plain": [
       "30-element Vector{Any}:\n",
       " \"Virginica\"\n",
       " \"Setosa\"\n",
       " \"Setosa\"\n",
       " \"Setosa\"\n",
       " \"Setosa\"\n",
       " \"Virginica\"\n",
       " \"Virginica\"\n",
       " \"Versicolor\"\n",
       " \"Setosa\"\n",
       " \"Virginica\"\n",
       " \"Versicolor\"\n",
       " \"Versicolor\"\n",
       " \"Versicolor\"\n",
       " ⋮\n",
       " \"Versicolor\"\n",
       " \"Virginica\"\n",
       " \"Versicolor\"\n",
       " \"Versicolor\"\n",
       " \"Virginica\"\n",
       " \"Virginica\"\n",
       " \"Setosa\"\n",
       " \"Setosa\"\n",
       " \"Virginica\"\n",
       " \"Virginica\"\n",
       " \"Versicolor\"\n",
       " \"Virginica\""
      ]
     },
     "execution_count": 169,
     "metadata": {},
     "output_type": "execute_result"
    }
   ],
   "source": [
    "predict_log_reg = predict(log_reg_2,x_test)"
   ]
  },
  {
   "cell_type": "code",
   "execution_count": 170,
   "metadata": {},
   "outputs": [
    {
     "data": {
      "text/plain": [
       "0.9"
      ]
     },
     "execution_count": 170,
     "metadata": {},
     "output_type": "execute_result"
    }
   ],
   "source": [
    "accuracy_log_reg = accuracy_score(predict_log_reg,y_test)"
   ]
  },
  {
   "cell_type": "code",
   "execution_count": null,
   "metadata": {},
   "outputs": [],
   "source": []
  }
 ],
 "metadata": {
  "kernelspec": {
   "display_name": "Julia 1.6.1",
   "language": "julia",
   "name": "julia-1.6"
  },
  "language_info": {
   "file_extension": ".jl",
   "mimetype": "application/julia",
   "name": "julia",
   "version": "1.6.1"
  }
 },
 "nbformat": 4,
 "nbformat_minor": 4
}
