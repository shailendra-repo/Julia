{
 "cells": [
  {
   "cell_type": "markdown",
   "metadata": {},
   "source": [
    "# Composing models"
   ]
  },
  {
   "cell_type": "markdown",
   "metadata": {},
   "source": [
    "## Generating dummy data"
   ]
  },
  {
   "cell_type": "code",
   "execution_count": 1,
   "metadata": {},
   "outputs": [
    {
     "name": "stderr",
     "output_type": "stream",
     "text": [
      "┌ Info: For silent loading, specify `verbosity=0`. \n",
      "└ @ Main /home/sandhya/.julia/packages/MLJModels/E8BbE/src/loading.jl:168\n"
     ]
    },
    {
     "name": "stdout",
     "output_type": "stream",
     "text": [
      "import NearestNeighborModels ✔\n"
     ]
    },
    {
     "data": {
      "text/plain": [
       "NearestNeighborModels.KNNRegressor"
      ]
     },
     "execution_count": 1,
     "metadata": {},
     "output_type": "execute_result"
    }
   ],
   "source": [
    "using MLJ\n",
    "using PrettyPrinting\n",
    "\n",
    "@load KNNRegressor\n"
   ]
  },
  {
   "cell_type": "code",
   "execution_count": 2,
   "metadata": {},
   "outputs": [],
   "source": [
    "# input\n",
    "X = (age    = [23, 45, 34, 25, 67],\n",
    "     gender = categorical(['m', 'm', 'f', 'm', 'f']))\n",
    "# target\n",
    "height = [178, 194, 165, 173, 168];"
   ]
  },
  {
   "cell_type": "code",
   "execution_count": 3,
   "metadata": {},
   "outputs": [
    {
     "data": {
      "text/plain": [
       "AbstractVector{Count} (alias for AbstractArray{Count, 1})"
      ]
     },
     "execution_count": 3,
     "metadata": {},
     "output_type": "execute_result"
    }
   ],
   "source": [
    "scitype(X.age)"
   ]
  },
  {
   "cell_type": "markdown",
   "metadata": {},
   "source": [
    "## Declaring a pipeline\n",
    "\n",
    "A typical workflow for such data is to one-hot-encode the categorical data and then apply some regression model on the data. Let's say that we want to apply the following steps:\n",
    "\n",
    "standardize the target variable (:height)\n",
    "\n",
    "one hot encode the categorical data\n",
    "\n",
    "train a KNN regression model\n",
    "\n",
    "The @pipeline macro helps you define such a simple (non-branching) pipeline of steps to be applied in order:"
   ]
  },
  {
   "cell_type": "code",
   "execution_count": 7,
   "metadata": {},
   "outputs": [],
   "source": [
    "using NearestNeighborModels"
   ]
  },
  {
   "cell_type": "code",
   "execution_count": 8,
   "metadata": {},
   "outputs": [
    {
     "name": "stderr",
     "output_type": "stream",
     "text": [
      "┌ Info: Treating pipeline as a `Deterministic` predictor.\n",
      "│ To override, specify `prediction_type=...` (options: :deterministic, :probabilistic, :interval). \n",
      "└ @ MLJBase /home/sandhya/.julia/packages/MLJBase/pCCd7/src/composition/models/pipelines.jl:372\n"
     ]
    }
   ],
   "source": [
    "pipe = @pipeline(X -> coerce(X, :age=>Continuous),\n",
    "                OneHotEncoder(),\n",
    "                KNNRegressor(K=3),\n",
    "                target = UnivariateStandardizer());"
   ]
  },
  {
   "cell_type": "code",
   "execution_count": 10,
   "metadata": {},
   "outputs": [
    {
     "data": {
      "text/plain": [
       "true"
      ]
     },
     "execution_count": 10,
     "metadata": {},
     "output_type": "execute_result"
    }
   ],
   "source": [
    "pipe.knn_regressor.K=2\n",
    "pipe.one_hot_encoder.drop_last = true"
   ]
  },
  {
   "cell_type": "code",
   "execution_count": 11,
   "metadata": {},
   "outputs": [
    {
     "name": "stdout",
     "output_type": "stream",
     "text": [
      "(measure = [RootMeanSquaredError @344],\n",
      " measurement = [11.5],\n",
      " per_fold = [[11.5]],\n",
      " per_observation = [missing],\n",
      " fitted_params_per_fold =\n",
      "     [(one_hot_encoder = (fitresult = \u001b[34mOneHotEncoderResult @925\u001b[39m,),\n",
      "       knn_regressor =\n",
      "           (tree =\n",
      "                NearestNeighbors.KDTree{StaticArrays.SVector{2, Float64}, Euclidean, Float64}\n",
      "  Number of points: 4\n",
      "  Dimensions: 2\n",
      "  Metric: Euclidean(0.0)\n",
      "  Reordered: true,),\n",
      "       target = (mean_and_std = (177.5, 12.233832869001711),),\n",
      "       machines = [\u001b[34mMachine{OneHotEncoder,…} @608\u001b[39m,\n",
      "                   \u001b[34mMachine{KNNRegressor,…} @086\u001b[39m,\n",
      "                   \u001b[34mMachine{UnivariateStandardizer,…} @722\u001b[39m],\n",
      "       fitted_params_given_machine =\n",
      "           OrderedCollections.LittleDict{Any, Any, Vector{Any}, Vector{Any}}(\u001b[34mMachine{OneHotEncoder,…} @608\u001b[39m => (fitresult = \u001b[34mOneHotEncoderResult @925\u001b[39m,), \u001b[34mMachine{KNNRegressor,…} @086\u001b[39m => (tree = NearestNeighbors.KDTree{StaticArrays.SVector{2, Float64}, Euclidean, Float64}\n",
      "  Number of points: 4\n",
      "  Dimensions: 2\n",
      "  Metric: Euclidean(0.0)\n",
      "  Reordered: true,), \u001b[34mMachine{UnivariateStandardizer,…} @722\u001b[39m => (mean_and_std = (177.5, 12.233832869001711),)))],\n",
      " report_per_fold =\n",
      "     [(one_hot_encoder = (features_to_be_encoded = [:gender],\n",
      "                          new_features = [:age, :gender__f]),\n",
      "       knn_regressor = (),\n",
      "       target = (),\n",
      "       machines = [\u001b[34mMachine{OneHotEncoder,…} @608\u001b[39m,\n",
      "                   \u001b[34mMachine{KNNRegressor,…} @086\u001b[39m,\n",
      "                   \u001b[34mMachine{UnivariateStandardizer,…} @722\u001b[39m],\n",
      "       report_given_machine =\n",
      "           OrderedCollections.LittleDict{Any, Any, Vector{Any}, Vector{Any}}(\u001b[34mMachine{OneHotEncoder,…} @608\u001b[39m => (features_to_be_encoded = [:gender], new_features = [:age, :gender__f]), \u001b[34mMachine{KNNRegressor,…} @086\u001b[39m => NamedTuple(), \u001b[34mMachine{UnivariateStandardizer,…} @722\u001b[39m => NamedTuple()))])"
     ]
    }
   ],
   "source": [
    "evaluate(pipe, X, height, resampling=Holdout(),\n",
    "         measure=rms) |> pprint"
   ]
  },
  {
   "cell_type": "code",
   "execution_count": null,
   "metadata": {},
   "outputs": [],
   "source": []
  }
 ],
 "metadata": {
  "kernelspec": {
   "display_name": "Julia 1.6.1",
   "language": "julia",
   "name": "julia-1.6"
  },
  "language_info": {
   "file_extension": ".jl",
   "mimetype": "application/julia",
   "name": "julia",
   "version": "1.6.1"
  }
 },
 "nbformat": 4,
 "nbformat_minor": 4
}
