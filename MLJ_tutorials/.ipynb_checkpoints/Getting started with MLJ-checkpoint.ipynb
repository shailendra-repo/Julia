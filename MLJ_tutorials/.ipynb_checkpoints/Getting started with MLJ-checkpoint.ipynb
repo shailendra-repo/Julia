{
 "cells": [
  {
   "cell_type": "markdown",
   "metadata": {},
   "source": [
    "# Getting started with MLJ\n",
    "If you are new to MLJ but are familiar with Julia and with Machine Learning, we recommend you start by going through the short Getting started examples in order:\n",
    "\n",
    "* How to choose a model,\n",
    "\n",
    "* How to fit, predict and transform\n",
    "\n",
    "* How to tune models\n",
    "\n",
    "* How to ensemble models\n",
    "\n",
    "* How to ensemble models (2)\n",
    "\n",
    "* More on ensembles\n",
    "\n",
    "* How to compose models\n",
    "\n",
    "* How to build a learning network\n",
    "\n",
    "* How to create models from learning networks\n",
    "\n",
    "* An extended tutorial on stacking\n",
    "\n",
    "Additionally, you can refer to the documentation for more detailed information"
   ]
  },
  {
   "cell_type": "markdown",
   "metadata": {},
   "source": [
    "## How to choose a model,"
   ]
  },
  {
   "cell_type": "code",
   "execution_count": 1,
   "metadata": {},
   "outputs": [],
   "source": [
    "using RDatasets\n",
    "using MLJ"
   ]
  },
  {
   "cell_type": "code",
   "execution_count": 54,
   "metadata": {},
   "outputs": [
    {
     "name": "stdout",
     "output_type": "stream",
     "text": [
      "┌─────────────┬────────────┬─────────────┬────────────┬─────────────────────────────────┐\n",
      "│\u001b[1m SepalLength \u001b[0m│\u001b[1m SepalWidth \u001b[0m│\u001b[1m PetalLength \u001b[0m│\u001b[1m PetalWidth \u001b[0m│\u001b[1m Species                         \u001b[0m│\n",
      "│\u001b[90m Float64     \u001b[0m│\u001b[90m Float64    \u001b[0m│\u001b[90m Float64     \u001b[0m│\u001b[90m Float64    \u001b[0m│\u001b[90m CategoricalValue{String, UInt8} \u001b[0m│\n",
      "│\u001b[90m Continuous  \u001b[0m│\u001b[90m Continuous \u001b[0m│\u001b[90m Continuous  \u001b[0m│\u001b[90m Continuous \u001b[0m│\u001b[90m Multiclass{3}                   \u001b[0m│\n",
      "├─────────────┼────────────┼─────────────┼────────────┼─────────────────────────────────┤\n",
      "│ 5.1         │ 3.5        │ 1.4         │ 0.2        │ setosa                          │\n",
      "│ 4.9         │ 3.0        │ 1.4         │ 0.2        │ setosa                          │\n",
      "│ 4.7         │ 3.2        │ 1.3         │ 0.2        │ setosa                          │\n",
      "└─────────────┴────────────┴─────────────┴────────────┴─────────────────────────────────┘\n"
     ]
    }
   ],
   "source": [
    "iris = dataset(\"datasets\",\"iris\")\n",
    "first(iris,3) |> pretty"
   ]
  },
  {
   "cell_type": "code",
   "execution_count": 3,
   "metadata": {},
   "outputs": [
    {
     "data": {
      "text/plain": [
       "┌─────────────┬─────────────────────────────────┬───────────────┐\n",
       "│\u001b[22m _.names     \u001b[0m│\u001b[22m _.types                         \u001b[0m│\u001b[22m _.scitypes    \u001b[0m│\n",
       "├─────────────┼─────────────────────────────────┼───────────────┤\n",
       "│ SepalLength │ Float64                         │ Continuous    │\n",
       "│ SepalWidth  │ Float64                         │ Continuous    │\n",
       "│ PetalLength │ Float64                         │ Continuous    │\n",
       "│ PetalWidth  │ Float64                         │ Continuous    │\n",
       "│ Species     │ CategoricalValue{String, UInt8} │ Multiclass{3} │\n",
       "└─────────────┴─────────────────────────────────┴───────────────┘\n",
       "_.nrows = 150\n"
      ]
     },
     "execution_count": 3,
     "metadata": {},
     "output_type": "execute_result"
    }
   ],
   "source": [
    "schema(iris)"
   ]
  },
  {
   "cell_type": "code",
   "execution_count": 5,
   "metadata": {},
   "outputs": [
    {
     "data": {
      "text/plain": [
       "┌─────────────┬───────────────────────────────────┬───────────────────┐\n",
       "│\u001b[22m _.names     \u001b[0m│\u001b[22m _.types                           \u001b[0m│\u001b[22m _.scitypes        \u001b[0m│\n",
       "├─────────────┼───────────────────────────────────┼───────────────────┤\n",
       "│ SepalLength │ Float64                           │ Continuous        │\n",
       "│ SepalWidth  │ Float64                           │ Continuous        │\n",
       "│ PetalLength │ Float64                           │ Continuous        │\n",
       "│ PetalWidth  │ CategoricalValue{Float64, UInt32} │ OrderedFactor{22} │\n",
       "│ Species     │ CategoricalValue{String, UInt8}   │ Multiclass{3}     │\n",
       "└─────────────┴───────────────────────────────────┴───────────────────┘\n",
       "_.nrows = 150\n"
      ]
     },
     "execution_count": 5,
     "metadata": {},
     "output_type": "execute_result"
    }
   ],
   "source": [
    "iris2 = coerce(iris, :PetalWidth => OrderedFactor)\n",
    "schema(iris2)"
   ]
  },
  {
   "cell_type": "code",
   "execution_count": 6,
   "metadata": {},
   "outputs": [],
   "source": [
    "# Unpacking data"
   ]
  },
  {
   "cell_type": "code",
   "execution_count": 55,
   "metadata": {},
   "outputs": [
    {
     "name": "stdout",
     "output_type": "stream",
     "text": [
      "┌─────────────┬────────────┬─────────────┬────────────┐\n",
      "│\u001b[1m SepalLength \u001b[0m│\u001b[1m SepalWidth \u001b[0m│\u001b[1m PetalLength \u001b[0m│\u001b[1m PetalWidth \u001b[0m│\n",
      "│\u001b[90m Float64     \u001b[0m│\u001b[90m Float64    \u001b[0m│\u001b[90m Float64     \u001b[0m│\u001b[90m Float64    \u001b[0m│\n",
      "│\u001b[90m Continuous  \u001b[0m│\u001b[90m Continuous \u001b[0m│\u001b[90m Continuous  \u001b[0m│\u001b[90m Continuous \u001b[0m│\n",
      "├─────────────┼────────────┼─────────────┼────────────┤\n",
      "│ 5.1         │ 3.5        │ 1.4         │ 0.2        │\n",
      "└─────────────┴────────────┴─────────────┴────────────┘\n"
     ]
    }
   ],
   "source": [
    "y, X = unpack(iris, ==(:Species), colname->true)\n",
    "first(X,1) |> pretty"
   ]
  },
  {
   "cell_type": "code",
   "execution_count": 8,
   "metadata": {},
   "outputs": [
    {
     "data": {
      "text/plain": [
       "((sepal_length = [5.1, 4.9, 4.7, 4.6, 5.0, 5.4, 4.6, 5.0, 4.4, 4.9  …  6.7, 6.9, 5.8, 6.8, 6.7, 6.7, 6.3, 6.5, 6.2, 5.9], sepal_width = [3.5, 3.0, 3.2, 3.1, 3.6, 3.9, 3.4, 3.4, 2.9, 3.1  …  3.1, 3.1, 2.7, 3.2, 3.3, 3.0, 2.5, 3.0, 3.4, 3.0], petal_length = [1.4, 1.4, 1.3, 1.5, 1.4, 1.7, 1.4, 1.5, 1.4, 1.5  …  5.6, 5.1, 5.1, 5.9, 5.7, 5.2, 5.0, 5.2, 5.4, 5.1], petal_width = [0.2, 0.2, 0.2, 0.2, 0.2, 0.4, 0.3, 0.2, 0.2, 0.1  …  2.4, 2.3, 1.9, 2.3, 2.5, 2.3, 1.9, 2.0, 2.3, 1.8]), CategoricalArrays.CategoricalValue{String, UInt32}[\"setosa\", \"setosa\", \"setosa\", \"setosa\", \"setosa\", \"setosa\", \"setosa\", \"setosa\", \"setosa\", \"setosa\"  …  \"virginica\", \"virginica\", \"virginica\", \"virginica\", \"virginica\", \"virginica\", \"virginica\", \"virginica\", \"virginica\", \"virginica\"])"
      ]
     },
     "execution_count": 8,
     "metadata": {},
     "output_type": "execute_result"
    }
   ],
   "source": [
    "# Also iris can be downloaded as\n",
    "#X, y = @load_iris"
   ]
  },
  {
   "cell_type": "code",
   "execution_count": 47,
   "metadata": {},
   "outputs": [
    {
     "data": {
      "text/plain": [
       "┌─────────────┬─────────┬────────────┐\n",
       "│\u001b[22m _.names     \u001b[0m│\u001b[22m _.types \u001b[0m│\u001b[22m _.scitypes \u001b[0m│\n",
       "├─────────────┼─────────┼────────────┤\n",
       "│ SepalLength │ Float64 │ Continuous │\n",
       "│ SepalWidth  │ Float64 │ Continuous │\n",
       "│ PetalLength │ Float64 │ Continuous │\n",
       "│ PetalWidth  │ Float64 │ Continuous │\n",
       "└─────────────┴─────────┴────────────┘\n",
       "_.nrows = 150\n"
      ]
     },
     "execution_count": 47,
     "metadata": {},
     "output_type": "execute_result"
    }
   ],
   "source": [
    "schema(X)"
   ]
  },
  {
   "cell_type": "markdown",
   "metadata": {},
   "source": [
    "### Choosing a model"
   ]
  },
  {
   "cell_type": "code",
   "execution_count": 56,
   "metadata": {},
   "outputs": [
    {
     "name": "stdout",
     "output_type": "stream",
     "text": [
      "AdaBoostClassifier            (ScikitLearn)\n",
      "AdaBoostStumpClassifier       (DecisionTree)\n",
      "BaggingClassifier             (ScikitLearn)\n",
      "BayesianLDA                   (MultivariateStats)\n",
      "BayesianLDA                   (ScikitLearn)\n",
      "BayesianQDA                   (ScikitLearn)\n",
      "BayesianSubspaceLDA           (MultivariateStats)\n",
      "ConstantClassifier            (MLJModels)\n",
      "DecisionTreeClassifier        (BetaML)\n",
      "DecisionTreeClassifier        (DecisionTree)\n",
      "DeterministicConstantClassifier(MLJModels)\n",
      "DummyClassifier               (ScikitLearn)\n",
      "EvoTreeClassifier             (EvoTrees)\n",
      "ExtraTreesClassifier          (ScikitLearn)\n",
      "GaussianNBClassifier          (NaiveBayes)\n",
      "GaussianNBClassifier          (ScikitLearn)\n",
      "GaussianProcessClassifier     (ScikitLearn)\n",
      "GradientBoostingClassifier    (ScikitLearn)\n",
      "KNNClassifier                 (NearestNeighborModels)\n",
      "KNeighborsClassifier          (ScikitLearn)\n",
      "KernelPerceptronClassifier    (BetaML)\n",
      "LDA                           (MultivariateStats)\n",
      "LGBMClassifier                (LightGBM)\n",
      "LinearSVC                     (LIBSVM)\n",
      "LogisticCVClassifier          (ScikitLearn)\n",
      "LogisticClassifier            (MLJLinearModels)\n",
      "LogisticClassifier            (ScikitLearn)\n",
      "MultinomialClassifier         (MLJLinearModels)\n",
      "NeuralNetworkClassifier       (MLJFlux)\n",
      "NuSVC                         (LIBSVM)\n",
      "PassiveAggressiveClassifier   (ScikitLearn)\n",
      "PegasosClassifier             (BetaML)\n",
      "PerceptronClassifier          (BetaML)\n",
      "PerceptronClassifier          (ScikitLearn)\n",
      "ProbabilisticSGDClassifier    (ScikitLearn)\n",
      "RandomForestClassifier        (BetaML)\n",
      "RandomForestClassifier        (DecisionTree)\n",
      "RandomForestClassifier        (ScikitLearn)\n",
      "RidgeCVClassifier             (ScikitLearn)\n",
      "RidgeClassifier               (ScikitLearn)\n",
      "SGDClassifier                 (ScikitLearn)\n",
      "SVC                           (LIBSVM)\n",
      "SVMClassifier                 (ScikitLearn)\n",
      "SVMLinearClassifier           (ScikitLearn)\n",
      "SVMNuClassifier               (ScikitLearn)\n",
      "SubspaceLDA                   (MultivariateStats)\n",
      "XGBoostClassifier             (XGBoost)\n"
     ]
    }
   ],
   "source": [
    "for m in models(matching(X,y))\n",
    "    println(rpad(m.name,30),\"($(m.package_name))\")\n",
    "end"
   ]
  },
  {
   "cell_type": "markdown",
   "metadata": {},
   "source": [
    "### Loading a model"
   ]
  },
  {
   "cell_type": "code",
   "execution_count": 13,
   "metadata": {},
   "outputs": [
    {
     "name": "stderr",
     "output_type": "stream",
     "text": [
      "┌ Info: For silent loading, specify `verbosity=0`. \n",
      "└ @ Main /home/sandhya/.julia/packages/MLJModels/E8BbE/src/loading.jl:168\n"
     ]
    },
    {
     "name": "stdout",
     "output_type": "stream",
     "text": [
      "import MLJScikitLearnInterface ✔\n"
     ]
    },
    {
     "data": {
      "text/plain": [
       "MLJScikitLearnInterface.KNeighborsClassifier"
      ]
     },
     "execution_count": 13,
     "metadata": {},
     "output_type": "execute_result"
    }
   ],
   "source": [
    "knc =  @load KNeighborsClassifier"
   ]
  },
  {
   "cell_type": "code",
   "execution_count": 14,
   "metadata": {},
   "outputs": [
    {
     "name": "stdout",
     "output_type": "stream",
     "text": [
      "import MLJGLMInterface"
     ]
    },
    {
     "name": "stderr",
     "output_type": "stream",
     "text": [
      "┌ Info: For silent loading, specify `verbosity=0`. \n",
      "└ @ Main /home/sandhya/.julia/packages/MLJModels/E8BbE/src/loading.jl:168\n",
      "┌ Info: Precompiling MLJGLMInterface [caf8df21-4939-456d-ac9c-5fefbfb04c0c]\n",
      "└ @ Base loading.jl:1317\n"
     ]
    },
    {
     "name": "stdout",
     "output_type": "stream",
     "text": [
      " ✔\n"
     ]
    },
    {
     "data": {
      "text/plain": [
       "MLJGLMInterface.LinearRegressor"
      ]
     },
     "execution_count": 14,
     "metadata": {},
     "output_type": "execute_result"
    }
   ],
   "source": [
    "linreg = @load LinearRegressor pkg = \"GLM\""
   ]
  },
  {
   "cell_type": "code",
   "execution_count": 15,
   "metadata": {},
   "outputs": [],
   "source": [
    "using DecisionTree"
   ]
  },
  {
   "cell_type": "code",
   "execution_count": null,
   "metadata": {},
   "outputs": [],
   "source": []
  },
  {
   "cell_type": "markdown",
   "metadata": {},
   "source": [
    "### Fit, predict and tranform"
   ]
  },
  {
   "cell_type": "code",
   "execution_count": 16,
   "metadata": {},
   "outputs": [],
   "source": [
    "using MLJ\n",
    "using Statistics\n",
    "using PrettyPrinting\n",
    "using StableRNGs"
   ]
  },
  {
   "cell_type": "code",
   "execution_count": 49,
   "metadata": {},
   "outputs": [
    {
     "data": {
      "text/plain": [
       "150-element Vector{String}:\n",
       " \"setosa\"\n",
       " \"setosa\"\n",
       " \"setosa\"\n",
       " \"setosa\"\n",
       " \"setosa\"\n",
       " \"setosa\"\n",
       " \"setosa\"\n",
       " \"setosa\"\n",
       " \"setosa\"\n",
       " \"setosa\"\n",
       " \"setosa\"\n",
       " \"setosa\"\n",
       " \"setosa\"\n",
       " ⋮\n",
       " \"virginica\"\n",
       " \"virginica\"\n",
       " \"virginica\"\n",
       " \"virginica\"\n",
       " \"virginica\"\n",
       " \"virginica\"\n",
       " \"virginica\"\n",
       " \"virginica\"\n",
       " \"virginica\"\n",
       " \"virginica\"\n",
       " \"virginica\"\n",
       " \"virginica\""
      ]
     },
     "execution_count": 49,
     "metadata": {},
     "output_type": "execute_result"
    }
   ],
   "source": [
    "#X, y = @load_iris;\n",
    "\n",
    "X = Float64.(X)\n",
    "y = String.(y)"
   ]
  },
  {
   "cell_type": "code",
   "execution_count": 57,
   "metadata": {},
   "outputs": [
    {
     "name": "stdout",
     "output_type": "stream",
     "text": [
      "import MLJDecisionTreeInterface ✔\n"
     ]
    },
    {
     "name": "stderr",
     "output_type": "stream",
     "text": [
      "┌ Info: For silent loading, specify `verbosity=0`. \n",
      "└ @ Main /home/sandhya/.julia/packages/MLJModels/E8BbE/src/loading.jl:168\n"
     ]
    }
   ],
   "source": [
    "Tree = @load DecisionTreeClassifier pkg=\"DecisionTree\"\n",
    "import MLJDecisionTreeInterface"
   ]
  },
  {
   "cell_type": "code",
   "execution_count": 58,
   "metadata": {},
   "outputs": [
    {
     "data": {
      "text/plain": [
       "DecisionTreeClassifier(\n",
       "    max_depth = -1,\n",
       "    min_samples_leaf = 1,\n",
       "    min_samples_split = 2,\n",
       "    min_purity_increase = 0.0,\n",
       "    n_subfeatures = 0,\n",
       "    post_prune = false,\n",
       "    merge_purity_threshold = 1.0,\n",
       "    pdf_smoothing = 0.0,\n",
       "    display_depth = 5)\u001b[34m @060\u001b[39m"
      ]
     },
     "execution_count": 58,
     "metadata": {},
     "output_type": "execute_result"
    }
   ],
   "source": [
    "tree = Tree()"
   ]
  },
  {
   "cell_type": "code",
   "execution_count": 59,
   "metadata": {},
   "outputs": [
    {
     "data": {
      "text/plain": [
       "┌───────────────────────────────────┬───────────────┬───────────────────────────\n",
       "│\u001b[22m _.measure                         \u001b[0m│\u001b[22m _.measurement \u001b[0m│\u001b[22m _.per_fold              \u001b[0m ⋯\n",
       "├───────────────────────────────────┼───────────────┼───────────────────────────\n",
       "│ \\e[34mLogLoss{Float64} @633\\e[39m │ 1.68          │ [2.22e-16, 2.22e-16, 2.2 ⋯\n",
       "└───────────────────────────────────┴───────────────┴───────────────────────────\n",
       "\u001b[36m                                                                1 column omitted\u001b[0m\n",
       "_.per_observation = [[[2.22e-16, 2.22e-16, ..., 2.22e-16], [2.22e-16, 2.22e-16, ..., 2.22e-16], [2.22e-16, 2.22e-16, ..., 2.22e-16], [2.22e-16, 2.22e-16, ..., 2.22e-16], [2.22e-16, 2.22e-16, ..., 2.22e-16], [2.22e-16, 36.0, ..., 2.22e-16]]]\n",
       "_.fitted_params_per_fold = [ … ]\n",
       "_.report_per_fold = [ … ]\n"
      ]
     },
     "execution_count": 59,
     "metadata": {},
     "output_type": "execute_result"
    }
   ],
   "source": [
    "evaluate(tree, X, y,\n",
    "                resampling=CV(shuffle=true), measure=log_loss, verbosity=0)"
   ]
  },
  {
   "cell_type": "code",
   "execution_count": 27,
   "metadata": {},
   "outputs": [
    {
     "name": "stdout",
     "output_type": "stream",
     "text": [
      "search: \u001b[0m\u001b[1me\u001b[22m\u001b[0m\u001b[1mv\u001b[22m\u001b[0m\u001b[1ma\u001b[22m\u001b[0m\u001b[1ml\u001b[22m\u001b[0m\u001b[1mu\u001b[22m\u001b[0m\u001b[1ma\u001b[22m\u001b[0m\u001b[1mt\u001b[22m\u001b[0m\u001b[1me\u001b[22m \u001b[0m\u001b[1me\u001b[22m\u001b[0m\u001b[1mv\u001b[22m\u001b[0m\u001b[1ma\u001b[22m\u001b[0m\u001b[1ml\u001b[22m\u001b[0m\u001b[1mu\u001b[22m\u001b[0m\u001b[1ma\u001b[22m\u001b[0m\u001b[1mt\u001b[22m\u001b[0m\u001b[1me\u001b[22m! Int\u001b[0m\u001b[1me\u001b[22mr\u001b[0m\u001b[1mv\u001b[22m\u001b[0m\u001b[1ma\u001b[22m\u001b[0m\u001b[1ml\u001b[22mS\u001b[0m\u001b[1mu\u001b[22mrrog\u001b[0m\u001b[1ma\u001b[22m\u001b[0m\u001b[1mt\u001b[22m\u001b[0m\u001b[1me\u001b[22m\n",
      "\n"
     ]
    },
    {
     "data": {
      "text/latex": [
       "some meta-models may choose to implement the \\texttt{evaluate} operations\n",
       "\n",
       "\\rule{\\textwidth}{1pt}\n",
       "\\begin{verbatim}\n",
       "evaluate(model, data...; cache=true, kw_options...)\n",
       "\\end{verbatim}\n",
       "Equivalent to \\texttt{evaluate!(machine(model, data..., cache=cache); wk\\_options...)}.  See the machine version \\texttt{evaluate!} for the complete list of options.\n",
       "\n"
      ],
      "text/markdown": [
       "some meta-models may choose to implement the `evaluate` operations\n",
       "\n",
       "---\n",
       "\n",
       "```\n",
       "evaluate(model, data...; cache=true, kw_options...)\n",
       "```\n",
       "\n",
       "Equivalent to `evaluate!(machine(model, data..., cache=cache); wk_options...)`.  See the machine version `evaluate!` for the complete list of options.\n"
      ],
      "text/plain": [
       "  some meta-models may choose to implement the \u001b[36mevaluate\u001b[39m operations\n",
       "\n",
       "  ────────────────────────────────────────────────────────────────────────────\n",
       "\n",
       "\u001b[36m  evaluate(model, data...; cache=true, kw_options...)\u001b[39m\n",
       "\n",
       "  Equivalent to \u001b[36mevaluate!(machine(model, data..., cache=cache);\n",
       "  wk_options...)\u001b[39m. See the machine version \u001b[36mevaluate!\u001b[39m for the complete list of\n",
       "  options."
      ]
     },
     "execution_count": 27,
     "metadata": {},
     "output_type": "execute_result"
    }
   ],
   "source": [
    "?evaluate"
   ]
  },
  {
   "cell_type": "code",
   "execution_count": 60,
   "metadata": {},
   "outputs": [
    {
     "data": {
      "text/plain": [
       "┌───────────────┬───────────────┬─────────────────────────────────────┐\n",
       "│\u001b[22m _.measure     \u001b[0m│\u001b[22m _.measurement \u001b[0m│\u001b[22m _.per_fold                          \u001b[0m│\n",
       "├───────────────┼───────────────┼─────────────────────────────────────┤\n",
       "│ Accuracy @560 │ 0.947         │ [1.0, 0.96, 0.92, 0.88, 0.96, 0.96] │\n",
       "└───────────────┴───────────────┴─────────────────────────────────────┘\n",
       "_.per_observation = [missing]\n",
       "_.fitted_params_per_fold = [ … ]\n",
       "_.report_per_fold = [ … ]\n"
      ]
     },
     "execution_count": 60,
     "metadata": {},
     "output_type": "execute_result"
    }
   ],
   "source": [
    "evaluate(tree, X, y,\n",
    "                resampling=CV(shuffle=true), measure=accuracy, operation=predict_mode, verbosity=0)"
   ]
  },
  {
   "cell_type": "code",
   "execution_count": 29,
   "metadata": {},
   "outputs": [
    {
     "data": {
      "text/plain": [
       "AbstractVector{_s40} where _s40<:Finite (alias for AbstractArray{_s40, 1} where _s40<:Finite)"
      ]
     },
     "execution_count": 29,
     "metadata": {},
     "output_type": "execute_result"
    }
   ],
   "source": [
    "info(\"DecisionTreeClassifier\", pkg=\"DecisionTree\").target_scitype"
   ]
  },
  {
   "cell_type": "code",
   "execution_count": 30,
   "metadata": {},
   "outputs": [],
   "source": [
    "# Fit and predict"
   ]
  },
  {
   "cell_type": "code",
   "execution_count": 61,
   "metadata": {},
   "outputs": [
    {
     "data": {
      "text/plain": [
       "\u001b[34mMachine{DecisionTreeClassifier,…} @814\u001b[39m trained 0 times; caches data\n",
       "  args: \n",
       "    1:\t\u001b[34mSource @540\u001b[39m ⏎ `Table{AbstractVector{Continuous}}`\n",
       "    2:\t\u001b[34mSource @781\u001b[39m ⏎ `AbstractVector{Multiclass{3}}`\n"
      ]
     },
     "execution_count": 61,
     "metadata": {},
     "output_type": "execute_result"
    }
   ],
   "source": [
    "mach = machine(tree, X, y)"
   ]
  },
  {
   "cell_type": "code",
   "execution_count": 62,
   "metadata": {},
   "outputs": [],
   "source": [
    "train, test = partition(eachindex(y), 0.7, shuffle=true); # 70:30 split"
   ]
  },
  {
   "cell_type": "code",
   "execution_count": 63,
   "metadata": {},
   "outputs": [
    {
     "data": {
      "text/plain": [
       "105-element Vector{Int64}:\n",
       " 112\n",
       " 146\n",
       "  46\n",
       "  32\n",
       "  21\n",
       "  58\n",
       "  39\n",
       "  31\n",
       "  82\n",
       " 136\n",
       "  33\n",
       " 115\n",
       " 133\n",
       "   ⋮\n",
       "  94\n",
       "  55\n",
       " 140\n",
       " 145\n",
       "  45\n",
       " 147\n",
       "  91\n",
       " 113\n",
       " 142\n",
       "  24\n",
       "  29\n",
       " 138"
      ]
     },
     "execution_count": 63,
     "metadata": {},
     "output_type": "execute_result"
    }
   ],
   "source": [
    "train"
   ]
  },
  {
   "cell_type": "code",
   "execution_count": 64,
   "metadata": {},
   "outputs": [
    {
     "name": "stderr",
     "output_type": "stream",
     "text": [
      "┌ Info: Training \u001b[34mMachine{DecisionTreeClassifier,…} @814\u001b[39m.\n",
      "└ @ MLJBase /home/sandhya/.julia/packages/MLJBase/pCCd7/src/machines.jl:342\n"
     ]
    }
   ],
   "source": [
    "MLJ.fit!(mach, rows=train);"
   ]
  },
  {
   "cell_type": "code",
   "execution_count": 65,
   "metadata": {},
   "outputs": [
    {
     "data": {
      "text/plain": [
       "45-element MLJBase.UnivariateFiniteVector{Multiclass{3}, String, UInt8, Float64}:\n",
       " UnivariateFinite{Multiclass{3}}(setosa=>1.0, versicolor=>0.0, virginica=>0.0)\n",
       " UnivariateFinite{Multiclass{3}}(setosa=>0.0, versicolor=>0.0, virginica=>1.0)\n",
       " UnivariateFinite{Multiclass{3}}(setosa=>0.0, versicolor=>1.0, virginica=>0.0)\n",
       " UnivariateFinite{Multiclass{3}}(setosa=>1.0, versicolor=>0.0, virginica=>0.0)\n",
       " UnivariateFinite{Multiclass{3}}(setosa=>0.0, versicolor=>1.0, virginica=>0.0)\n",
       " UnivariateFinite{Multiclass{3}}(setosa=>0.0, versicolor=>1.0, virginica=>0.0)\n",
       " UnivariateFinite{Multiclass{3}}(setosa=>0.0, versicolor=>1.0, virginica=>0.0)\n",
       " UnivariateFinite{Multiclass{3}}(setosa=>0.0, versicolor=>1.0, virginica=>0.0)\n",
       " UnivariateFinite{Multiclass{3}}(setosa=>0.0, versicolor=>0.0, virginica=>1.0)\n",
       " UnivariateFinite{Multiclass{3}}(setosa=>0.0, versicolor=>1.0, virginica=>0.0)\n",
       " UnivariateFinite{Multiclass{3}}(setosa=>0.0, versicolor=>0.0, virginica=>1.0)\n",
       " UnivariateFinite{Multiclass{3}}(setosa=>1.0, versicolor=>0.0, virginica=>0.0)\n",
       " UnivariateFinite{Multiclass{3}}(setosa=>0.0, versicolor=>1.0, virginica=>0.0)\n",
       " ⋮\n",
       " UnivariateFinite{Multiclass{3}}(setosa=>1.0, versicolor=>0.0, virginica=>0.0)\n",
       " UnivariateFinite{Multiclass{3}}(setosa=>1.0, versicolor=>0.0, virginica=>0.0)\n",
       " UnivariateFinite{Multiclass{3}}(setosa=>0.0, versicolor=>0.0, virginica=>1.0)\n",
       " UnivariateFinite{Multiclass{3}}(setosa=>0.0, versicolor=>1.0, virginica=>0.0)\n",
       " UnivariateFinite{Multiclass{3}}(setosa=>1.0, versicolor=>0.0, virginica=>0.0)\n",
       " UnivariateFinite{Multiclass{3}}(setosa=>0.0, versicolor=>0.0, virginica=>1.0)\n",
       " UnivariateFinite{Multiclass{3}}(setosa=>0.0, versicolor=>0.0, virginica=>1.0)\n",
       " UnivariateFinite{Multiclass{3}}(setosa=>0.0, versicolor=>1.0, virginica=>0.0)\n",
       " UnivariateFinite{Multiclass{3}}(setosa=>1.0, versicolor=>0.0, virginica=>0.0)\n",
       " UnivariateFinite{Multiclass{3}}(setosa=>1.0, versicolor=>0.0, virginica=>0.0)\n",
       " UnivariateFinite{Multiclass{3}}(setosa=>1.0, versicolor=>0.0, virginica=>0.0)\n",
       " UnivariateFinite{Multiclass{3}}(setosa=>0.0, versicolor=>1.0, virginica=>0.0)"
      ]
     },
     "execution_count": 65,
     "metadata": {},
     "output_type": "execute_result"
    }
   ],
   "source": [
    "yhat = MLJ.predict(mach, X[test,:])"
   ]
  },
  {
   "cell_type": "code",
   "execution_count": 66,
   "metadata": {},
   "outputs": [
    {
     "data": {
      "text/plain": [
       "3-element MLJBase.UnivariateFiniteVector{Multiclass{3}, String, UInt8, Float64}:\n",
       " UnivariateFinite{Multiclass{3}}(setosa=>0.0, versicolor=>1.0, virginica=>0.0)\n",
       " UnivariateFinite{Multiclass{3}}(setosa=>1.0, versicolor=>0.0, virginica=>0.0)\n",
       " UnivariateFinite{Multiclass{3}}(setosa=>0.0, versicolor=>1.0, virginica=>0.0)"
      ]
     },
     "execution_count": 66,
     "metadata": {},
     "output_type": "execute_result"
    }
   ],
   "source": [
    "yhat[3:5]"
   ]
  },
  {
   "cell_type": "code",
   "execution_count": 45,
   "metadata": {},
   "outputs": [
    {
     "data": {
      "text/plain": [
       "NamedTuple{(:sepal_length, :sepal_width, :petal_length, :petal_width), NTuple{4, Vector{Float64}}}"
      ]
     },
     "execution_count": 45,
     "metadata": {},
     "output_type": "execute_result"
    }
   ],
   "source": [
    "typeof(X)"
   ]
  },
  {
   "cell_type": "code",
   "execution_count": 70,
   "metadata": {},
   "outputs": [
    {
     "data": {
      "text/plain": [
       "4.805820451882287"
      ]
     },
     "execution_count": 70,
     "metadata": {},
     "output_type": "execute_result"
    }
   ],
   "source": [
    "log_loss(yhat, y[test]) |> mean"
   ]
  },
  {
   "cell_type": "code",
   "execution_count": 75,
   "metadata": {},
   "outputs": [
    {
     "name": "stdout",
     "output_type": "stream",
     "text": [
      "(tree = Decision Tree\n",
      "Leaves: 5\n",
      "Depth:  4,\n",
      " encoding =\n",
      "     Dict(CategoricalArrays.CategoricalValue{String, UInt8} \"virginica\" =>\n",
      "              0x03,\n",
      "          CategoricalArrays.CategoricalValue{String, UInt8} \"setosa\" => 0x01,\n",
      "          CategoricalArrays.CategoricalValue{String, UInt8} \"versicolor\" =>\n",
      "              0x02))"
     ]
    }
   ],
   "source": [
    "fitted_params(mach) |> pprint"
   ]
  },
  {
   "cell_type": "code",
   "execution_count": 81,
   "metadata": {},
   "outputs": [
    {
     "data": {
      "text/plain": [
       "45-element CategoricalArrays.CategoricalArray{String,1,UInt8}:\n",
       " \"setosa\"\n",
       " \"virginica\"\n",
       " \"versicolor\"\n",
       " \"setosa\"\n",
       " \"versicolor\"\n",
       " \"versicolor\"\n",
       " \"versicolor\"\n",
       " \"versicolor\"\n",
       " \"virginica\"\n",
       " \"versicolor\"\n",
       " \"virginica\"\n",
       " \"setosa\"\n",
       " \"versicolor\"\n",
       " ⋮\n",
       " \"setosa\"\n",
       " \"setosa\"\n",
       " \"virginica\"\n",
       " \"versicolor\"\n",
       " \"setosa\"\n",
       " \"virginica\"\n",
       " \"virginica\"\n",
       " \"versicolor\"\n",
       " \"setosa\"\n",
       " \"setosa\"\n",
       " \"setosa\"\n",
       " \"versicolor\""
      ]
     },
     "execution_count": 81,
     "metadata": {},
     "output_type": "execute_result"
    }
   ],
   "source": [
    "y_pred = predict_mode(mach, rows=test)"
   ]
  },
  {
   "cell_type": "code",
   "execution_count": 86,
   "metadata": {},
   "outputs": [
    {
     "data": {
      "text/html": [
       "<table class=\"data-frame\"><thead><tr><th></th><th>Pred</th><th>Actual</th></tr><tr><th></th><th>Cat…</th><th>Cat…</th></tr></thead><tbody><p>45 rows × 2 columns</p><tr><th>1</th><td>setosa</td><td>setosa</td></tr><tr><th>2</th><td>virginica</td><td>virginica</td></tr><tr><th>3</th><td>versicolor</td><td>virginica</td></tr><tr><th>4</th><td>setosa</td><td>setosa</td></tr><tr><th>5</th><td>versicolor</td><td>versicolor</td></tr><tr><th>6</th><td>versicolor</td><td>virginica</td></tr><tr><th>7</th><td>versicolor</td><td>versicolor</td></tr><tr><th>8</th><td>versicolor</td><td>versicolor</td></tr><tr><th>9</th><td>virginica</td><td>virginica</td></tr><tr><th>10</th><td>versicolor</td><td>versicolor</td></tr><tr><th>11</th><td>virginica</td><td>virginica</td></tr><tr><th>12</th><td>setosa</td><td>setosa</td></tr><tr><th>13</th><td>versicolor</td><td>versicolor</td></tr><tr><th>14</th><td>virginica</td><td>virginica</td></tr><tr><th>15</th><td>versicolor</td><td>virginica</td></tr><tr><th>16</th><td>versicolor</td><td>virginica</td></tr><tr><th>17</th><td>virginica</td><td>virginica</td></tr><tr><th>18</th><td>versicolor</td><td>versicolor</td></tr><tr><th>19</th><td>setosa</td><td>setosa</td></tr><tr><th>20</th><td>setosa</td><td>setosa</td></tr><tr><th>21</th><td>versicolor</td><td>virginica</td></tr><tr><th>22</th><td>versicolor</td><td>versicolor</td></tr><tr><th>23</th><td>setosa</td><td>setosa</td></tr><tr><th>24</th><td>virginica</td><td>virginica</td></tr><tr><th>25</th><td>setosa</td><td>setosa</td></tr><tr><th>26</th><td>virginica</td><td>virginica</td></tr><tr><th>27</th><td>versicolor</td><td>versicolor</td></tr><tr><th>28</th><td>setosa</td><td>setosa</td></tr><tr><th>29</th><td>setosa</td><td>setosa</td></tr><tr><th>30</th><td>versicolor</td><td>versicolor</td></tr><tr><th>&vellip;</th><td>&vellip;</td><td>&vellip;</td></tr></tbody></table>"
      ],
      "text/latex": [
       "\\begin{tabular}{r|cc}\n",
       "\t& Pred & Actual\\\\\n",
       "\t\\hline\n",
       "\t& Cat… & Cat…\\\\\n",
       "\t\\hline\n",
       "\t1 & setosa & setosa \\\\\n",
       "\t2 & virginica & virginica \\\\\n",
       "\t3 & versicolor & virginica \\\\\n",
       "\t4 & setosa & setosa \\\\\n",
       "\t5 & versicolor & versicolor \\\\\n",
       "\t6 & versicolor & virginica \\\\\n",
       "\t7 & versicolor & versicolor \\\\\n",
       "\t8 & versicolor & versicolor \\\\\n",
       "\t9 & virginica & virginica \\\\\n",
       "\t10 & versicolor & versicolor \\\\\n",
       "\t11 & virginica & virginica \\\\\n",
       "\t12 & setosa & setosa \\\\\n",
       "\t13 & versicolor & versicolor \\\\\n",
       "\t14 & virginica & virginica \\\\\n",
       "\t15 & versicolor & virginica \\\\\n",
       "\t16 & versicolor & virginica \\\\\n",
       "\t17 & virginica & virginica \\\\\n",
       "\t18 & versicolor & versicolor \\\\\n",
       "\t19 & setosa & setosa \\\\\n",
       "\t20 & setosa & setosa \\\\\n",
       "\t21 & versicolor & virginica \\\\\n",
       "\t22 & versicolor & versicolor \\\\\n",
       "\t23 & setosa & setosa \\\\\n",
       "\t24 & virginica & virginica \\\\\n",
       "\t25 & setosa & setosa \\\\\n",
       "\t26 & virginica & virginica \\\\\n",
       "\t27 & versicolor & versicolor \\\\\n",
       "\t28 & setosa & setosa \\\\\n",
       "\t29 & setosa & setosa \\\\\n",
       "\t30 & versicolor & versicolor \\\\\n",
       "\t$\\dots$ & $\\dots$ & $\\dots$ \\\\\n",
       "\\end{tabular}\n"
      ],
      "text/plain": [
       "\u001b[1m45×2 DataFrame\u001b[0m\n",
       "\u001b[1m Row \u001b[0m│\u001b[1m Pred       \u001b[0m\u001b[1m Actual     \u001b[0m\n",
       "\u001b[1m     \u001b[0m│\u001b[90m Cat…       \u001b[0m\u001b[90m Cat…       \u001b[0m\n",
       "─────┼────────────────────────\n",
       "   1 │ setosa      setosa\n",
       "   2 │ virginica   virginica\n",
       "   3 │ versicolor  virginica\n",
       "   4 │ setosa      setosa\n",
       "   5 │ versicolor  versicolor\n",
       "   6 │ versicolor  virginica\n",
       "   7 │ versicolor  versicolor\n",
       "   8 │ versicolor  versicolor\n",
       "   9 │ virginica   virginica\n",
       "  10 │ versicolor  versicolor\n",
       "  11 │ virginica   virginica\n",
       "  ⋮  │     ⋮           ⋮\n",
       "  36 │ virginica   virginica\n",
       "  37 │ versicolor  versicolor\n",
       "  38 │ setosa      setosa\n",
       "  39 │ virginica   virginica\n",
       "  40 │ virginica   virginica\n",
       "  41 │ versicolor  virginica\n",
       "  42 │ setosa      setosa\n",
       "  43 │ setosa      setosa\n",
       "  44 │ setosa      setosa\n",
       "  45 │ versicolor  versicolor\n",
       "\u001b[36m               24 rows omitted\u001b[0m"
      ]
     },
     "execution_count": 86,
     "metadata": {},
     "output_type": "execute_result"
    }
   ],
   "source": [
    "DataFrame(\"Pred\" => y_pred, \"Actual\" => y[test])"
   ]
  },
  {
   "cell_type": "code",
   "execution_count": 102,
   "metadata": {},
   "outputs": [
    {
     "data": {
      "text/plain": [
       "4.8058"
      ]
     },
     "execution_count": 102,
     "metadata": {},
     "output_type": "execute_result"
    }
   ],
   "source": [
    "mce = MLJ.cross_entropy(yhat, y[test]) |> mean\n",
    "round(mce, digits=4)"
   ]
  },
  {
   "cell_type": "code",
   "execution_count": 103,
   "metadata": {},
   "outputs": [
    {
     "data": {
      "text/plain": [
       "45-element Vector{Float64}:\n",
       "  2.2204460492503136e-16\n",
       "  2.2204460492503136e-16\n",
       " 36.04365338911715\n",
       "  2.2204460492503136e-16\n",
       "  2.2204460492503136e-16\n",
       " 36.04365338911715\n",
       "  2.2204460492503136e-16\n",
       "  2.2204460492503136e-16\n",
       "  2.2204460492503136e-16\n",
       "  2.2204460492503136e-16\n",
       "  2.2204460492503136e-16\n",
       "  2.2204460492503136e-16\n",
       "  2.2204460492503136e-16\n",
       "  ⋮\n",
       "  2.2204460492503136e-16\n",
       "  2.2204460492503136e-16\n",
       "  2.2204460492503136e-16\n",
       "  2.2204460492503136e-16\n",
       "  2.2204460492503136e-16\n",
       "  2.2204460492503136e-16\n",
       "  2.2204460492503136e-16\n",
       " 36.04365338911715\n",
       "  2.2204460492503136e-16\n",
       "  2.2204460492503136e-16\n",
       "  2.2204460492503136e-16\n",
       "  2.2204460492503136e-16"
      ]
     },
     "execution_count": 103,
     "metadata": {},
     "output_type": "execute_result"
    }
   ],
   "source": [
    "MLJ.cross_entropy(yhat, y[test]) "
   ]
  },
  {
   "cell_type": "markdown",
   "metadata": {},
   "source": [
    "## Unsupervised models"
   ]
  },
  {
   "cell_type": "code",
   "execution_count": 105,
   "metadata": {},
   "outputs": [
    {
     "data": {
      "text/plain": [
       "\u001b[34mMachine{UnivariateStandardizer,…} @319\u001b[39m trained 0 times; caches data\n",
       "  args: \n",
       "    1:\t\u001b[34mSource @487\u001b[39m ⏎ `AbstractVector{Count}`\n"
      ]
     },
     "execution_count": 105,
     "metadata": {},
     "output_type": "execute_result"
    }
   ],
   "source": [
    "v = [1, 2, 3, 4]\n",
    "stand_model = UnivariateStandardizer()\n",
    "stand = machine(stand_model, v)"
   ]
  },
  {
   "cell_type": "code",
   "execution_count": 107,
   "metadata": {},
   "outputs": [
    {
     "name": "stderr",
     "output_type": "stream",
     "text": [
      "┌ Info: Training \u001b[34mMachine{UnivariateStandardizer,…} @319\u001b[39m.\n",
      "└ @ MLJBase /home/sandhya/.julia/packages/MLJBase/pCCd7/src/machines.jl:342\n"
     ]
    },
    {
     "data": {
      "text/plain": [
       "\u001b[34mMachine{UnivariateStandardizer,…} @319\u001b[39m trained 1 time; caches data\n",
       "  args: \n",
       "    1:\t\u001b[34mSource @487\u001b[39m ⏎ `AbstractVector{Count}`\n"
      ]
     },
     "execution_count": 107,
     "metadata": {},
     "output_type": "execute_result"
    }
   ],
   "source": [
    "MLJ.fit!(stand)"
   ]
  },
  {
   "cell_type": "code",
   "execution_count": 109,
   "metadata": {},
   "outputs": [
    {
     "name": "stdout",
     "output_type": "stream",
     "text": [
      "round.(w, digits = 2) = [-1.16, -0.39, 0.39, 1.16]\n",
      "mean(w) = 0.0\n",
      "std(w) = 1.0\n"
     ]
    },
    {
     "data": {
      "text/plain": [
       "1.0"
      ]
     },
     "execution_count": 109,
     "metadata": {},
     "output_type": "execute_result"
    }
   ],
   "source": [
    "w = MLJ.transform(stand, v)\n",
    "@show round.(w, digits=2)\n",
    "@show mean(w)\n",
    "@show std(w)"
   ]
  },
  {
   "cell_type": "code",
   "execution_count": 110,
   "metadata": {},
   "outputs": [
    {
     "data": {
      "text/plain": [
       "0.0"
      ]
     },
     "execution_count": 110,
     "metadata": {},
     "output_type": "execute_result"
    }
   ],
   "source": [
    "vv = inverse_transform(stand, w)\n",
    "sum(abs.(vv .- v))"
   ]
  }
 ],
 "metadata": {
  "kernelspec": {
   "display_name": "Julia 1.6.1",
   "language": "julia",
   "name": "julia-1.6"
  },
  "language_info": {
   "file_extension": ".jl",
   "mimetype": "application/julia",
   "name": "julia",
   "version": "1.6.1"
  }
 },
 "nbformat": 4,
 "nbformat_minor": 4
}
