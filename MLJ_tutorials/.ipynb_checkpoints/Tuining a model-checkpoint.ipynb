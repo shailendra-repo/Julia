{
 "cells": [
  {
   "cell_type": "code",
   "execution_count": 2,
   "metadata": {},
   "outputs": [
    {
     "data": {
      "text/plain": [
       "((sepal_length = [5.1, 4.9, 4.7, 4.6, 5.0, 5.4, 4.6, 5.0, 4.4, 4.9  …  6.7, 6.9, 5.8, 6.8, 6.7, 6.7, 6.3, 6.5, 6.2, 5.9], sepal_width = [3.5, 3.0, 3.2, 3.1, 3.6, 3.9, 3.4, 3.4, 2.9, 3.1  …  3.1, 3.1, 2.7, 3.2, 3.3, 3.0, 2.5, 3.0, 3.4, 3.0], petal_length = [1.4, 1.4, 1.3, 1.5, 1.4, 1.7, 1.4, 1.5, 1.4, 1.5  …  5.6, 5.1, 5.1, 5.9, 5.7, 5.2, 5.0, 5.2, 5.4, 5.1], petal_width = [0.2, 0.2, 0.2, 0.2, 0.2, 0.4, 0.3, 0.2, 0.2, 0.1  …  2.4, 2.3, 1.9, 2.3, 2.5, 2.3, 1.9, 2.0, 2.3, 1.8]), CategoricalArrays.CategoricalValue{String, UInt32}[\"setosa\", \"setosa\", \"setosa\", \"setosa\", \"setosa\", \"setosa\", \"setosa\", \"setosa\", \"setosa\", \"setosa\"  …  \"virginica\", \"virginica\", \"virginica\", \"virginica\", \"virginica\", \"virginica\", \"virginica\", \"virginica\", \"virginica\", \"virginica\"])"
      ]
     },
     "execution_count": 2,
     "metadata": {},
     "output_type": "execute_result"
    }
   ],
   "source": [
    "using MLJ\n",
    "using PrettyPrinting\n",
    "X, y = @load_iris\n"
   ]
  },
  {
   "cell_type": "code",
   "execution_count": 4,
   "metadata": {},
   "outputs": [
    {
     "name": "stdout",
     "output_type": "stream",
     "text": [
      "import MLJDecisionTreeInterface ✔\n"
     ]
    },
    {
     "name": "stderr",
     "output_type": "stream",
     "text": [
      "┌ Info: For silent loading, specify `verbosity=0`. \n",
      "└ @ Main /home/sandhya/.julia/packages/MLJModels/E8BbE/src/loading.jl:168\n"
     ]
    },
    {
     "data": {
      "text/plain": [
       "MLJDecisionTreeInterface.DecisionTreeClassifier"
      ]
     },
     "execution_count": 4,
     "metadata": {},
     "output_type": "execute_result"
    }
   ],
   "source": [
    "Tree = @load DecisionTreeClassifier pkg=DecisionTree"
   ]
  },
  {
   "cell_type": "code",
   "execution_count": 5,
   "metadata": {},
   "outputs": [],
   "source": [
    "import MLJDecisionTreeInterface"
   ]
  },
  {
   "cell_type": "code",
   "execution_count": 6,
   "metadata": {},
   "outputs": [
    {
     "data": {
      "text/plain": [
       "DecisionTreeClassifier(\n",
       "    max_depth = -1,\n",
       "    min_samples_leaf = 1,\n",
       "    min_samples_split = 2,\n",
       "    min_purity_increase = 0.0,\n",
       "    n_subfeatures = 0,\n",
       "    post_prune = false,\n",
       "    merge_purity_threshold = 1.0,\n",
       "    pdf_smoothing = 0.0,\n",
       "    display_depth = 5)\u001b[34m @482\u001b[39m"
      ]
     },
     "execution_count": 6,
     "metadata": {},
     "output_type": "execute_result"
    }
   ],
   "source": [
    "tree = Tree()"
   ]
  },
  {
   "cell_type": "markdown",
   "metadata": {},
   "source": [
    "## Specifying a range of values"
   ]
  },
  {
   "cell_type": "code",
   "execution_count": 9,
   "metadata": {},
   "outputs": [
    {
     "data": {
      "text/plain": [
       "typename(MLJBase.NumericRange)(Int64, :max_depth, ... )"
      ]
     },
     "execution_count": 9,
     "metadata": {},
     "output_type": "execute_result"
    }
   ],
   "source": [
    "r = range(tree, :max_depth, lower=1, upper=5)"
   ]
  },
  {
   "cell_type": "code",
   "execution_count": 10,
   "metadata": {},
   "outputs": [
    {
     "data": {
      "text/plain": [
       "ProbabilisticTunedModel(\n",
       "    model = DecisionTreeClassifier(\n",
       "            max_depth = -1,\n",
       "            min_samples_leaf = 1,\n",
       "            min_samples_split = 2,\n",
       "            min_purity_increase = 0.0,\n",
       "            n_subfeatures = 0,\n",
       "            post_prune = false,\n",
       "            merge_purity_threshold = 1.0,\n",
       "            pdf_smoothing = 0.0,\n",
       "            display_depth = 5),\n",
       "    tuning = Grid(\n",
       "            goal = nothing,\n",
       "            resolution = 10,\n",
       "            shuffle = true,\n",
       "            rng = Random._GLOBAL_RNG()),\n",
       "    resampling = Holdout(\n",
       "            fraction_train = 0.7,\n",
       "            shuffle = false,\n",
       "            rng = Random._GLOBAL_RNG()),\n",
       "    measure = LogLoss(\n",
       "            tol = 2.220446049250313e-16),\n",
       "    weights = nothing,\n",
       "    operation = MLJModelInterface.predict,\n",
       "    range = MLJBase.NumericRange{Int64, MLJBase.Bounded, Symbol}[\u001b[34mNumericRange{Int64,…} @325\u001b[39m],\n",
       "    selection_heuristic = MLJTuning.NaiveSelection(nothing),\n",
       "    train_best = true,\n",
       "    repeats = 1,\n",
       "    n = nothing,\n",
       "    acceleration = CPU1{Nothing}(nothing),\n",
       "    acceleration_resampling = CPU1{Nothing}(nothing),\n",
       "    check_measure = true,\n",
       "    cache = true)\u001b[34m @472\u001b[39m"
      ]
     },
     "execution_count": 10,
     "metadata": {},
     "output_type": "execute_result"
    }
   ],
   "source": [
    "tm = TunedModel(model=tree, ranges=[r,], measure = cross_entropy)"
   ]
  },
  {
   "cell_type": "code",
   "execution_count": 11,
   "metadata": {},
   "outputs": [],
   "source": [
    "# Fitting and inspecting a tuned model"
   ]
  },
  {
   "cell_type": "code",
   "execution_count": 12,
   "metadata": {},
   "outputs": [
    {
     "data": {
      "text/plain": [
       "\u001b[34mMachine{ProbabilisticTunedModel{Grid,…},…} @715\u001b[39m trained 0 times; caches data\n",
       "  args: \n",
       "    1:\t\u001b[34mSource @386\u001b[39m ⏎ `Table{AbstractVector{Continuous}}`\n",
       "    2:\t\u001b[34mSource @383\u001b[39m ⏎ `AbstractVector{Multiclass{3}}`\n"
      ]
     },
     "execution_count": 12,
     "metadata": {},
     "output_type": "execute_result"
    }
   ],
   "source": [
    "m = machine(tm, X,y)"
   ]
  },
  {
   "cell_type": "code",
   "execution_count": 13,
   "metadata": {},
   "outputs": [
    {
     "name": "stderr",
     "output_type": "stream",
     "text": [
      "┌ Info: Training \u001b[34mMachine{ProbabilisticTunedModel{Grid,…},…} @715\u001b[39m.\n",
      "└ @ MLJBase /home/sandhya/.julia/packages/MLJBase/pCCd7/src/machines.jl:342\n",
      "┌ Info: Attempting to evaluate 5 models.\n",
      "└ @ MLJTuning /home/sandhya/.julia/packages/MLJTuning/QFcuQ/src/tuned_models.jl:600\n",
      "\u001b[33mEvaluating over 5 metamodels: 100%[=========================] Time: 0:00:20\u001b[39m\n"
     ]
    },
    {
     "data": {
      "text/plain": [
       "\u001b[34mMachine{ProbabilisticTunedModel{Grid,…},…} @715\u001b[39m trained 1 time; caches data\n",
       "  args: \n",
       "    1:\t\u001b[34mSource @386\u001b[39m ⏎ `Table{AbstractVector{Continuous}}`\n",
       "    2:\t\u001b[34mSource @383\u001b[39m ⏎ `AbstractVector{Multiclass{3}}`\n"
      ]
     },
     "execution_count": 13,
     "metadata": {},
     "output_type": "execute_result"
    }
   ],
   "source": [
    "MLJ.fit!(m)"
   ]
  },
  {
   "cell_type": "code",
   "execution_count": 14,
   "metadata": {},
   "outputs": [
    {
     "data": {
      "text/plain": [
       "1"
      ]
     },
     "execution_count": 14,
     "metadata": {},
     "output_type": "execute_result"
    }
   ],
   "source": [
    "fitted_params(m).best_model.max_depth"
   ]
  },
  {
   "cell_type": "code",
   "execution_count": 16,
   "metadata": {},
   "outputs": [
    {
     "data": {
      "text/plain": [
       "ProbabilisticTunedModel(\n",
       "    model = DecisionTreeClassifier(\n",
       "            max_depth = -1,\n",
       "            min_samples_leaf = 1,\n",
       "            min_samples_split = 2,\n",
       "            min_purity_increase = 0.0,\n",
       "            n_subfeatures = 0,\n",
       "            post_prune = false,\n",
       "            merge_purity_threshold = 1.0,\n",
       "            pdf_smoothing = 0.0,\n",
       "            display_depth = 5),\n",
       "    tuning = Grid(\n",
       "            goal = nothing,\n",
       "            resolution = 10,\n",
       "            shuffle = true,\n",
       "            rng = Random._GLOBAL_RNG()),\n",
       "    resampling = Holdout(\n",
       "            fraction_train = 0.7,\n",
       "            shuffle = false,\n",
       "            rng = Random._GLOBAL_RNG()),\n",
       "    measure = MisclassificationRate(),\n",
       "    weights = nothing,\n",
       "    operation = MLJModelInterface.predict_mode,\n",
       "    range = NumericRange(\n",
       "            field = :max_depth,\n",
       "            lower = 1,\n",
       "            upper = 5,\n",
       "            origin = 3.0,\n",
       "            unit = 2.0,\n",
       "            scale = :linear),\n",
       "    selection_heuristic = MLJTuning.NaiveSelection(nothing),\n",
       "    train_best = true,\n",
       "    repeats = 1,\n",
       "    n = nothing,\n",
       "    acceleration = CPU1{Nothing}(nothing),\n",
       "    acceleration_resampling = CPU1{Nothing}(nothing),\n",
       "    check_measure = true,\n",
       "    cache = true)\u001b[34m @961\u001b[39m"
      ]
     },
     "execution_count": 16,
     "metadata": {},
     "output_type": "execute_result"
    }
   ],
   "source": [
    "tm = TunedModel(model=tree, ranges=r, operation=predict_mode,\n",
    "measure=misclassification_rate)"
   ]
  },
  {
   "cell_type": "code",
   "execution_count": 18,
   "metadata": {},
   "outputs": [
    {
     "data": {
      "text/plain": [
       "\u001b[34mMachine{ProbabilisticTunedModel{Grid,…},…} @243\u001b[39m trained 0 times; caches data\n",
       "  args: \n",
       "    1:\t\u001b[34mSource @784\u001b[39m ⏎ `Table{AbstractVector{Continuous}}`\n",
       "    2:\t\u001b[34mSource @109\u001b[39m ⏎ `AbstractVector{Multiclass{3}}`\n"
      ]
     },
     "execution_count": 18,
     "metadata": {},
     "output_type": "execute_result"
    }
   ],
   "source": [
    "m = machine(tm, X, y)\n"
   ]
  },
  {
   "cell_type": "code",
   "execution_count": 20,
   "metadata": {},
   "outputs": [
    {
     "name": "stderr",
     "output_type": "stream",
     "text": [
      "┌ Info: Training \u001b[34mMachine{ProbabilisticTunedModel{Grid,…},…} @243\u001b[39m.\n",
      "└ @ MLJBase /home/sandhya/.julia/packages/MLJBase/pCCd7/src/machines.jl:342\n",
      "┌ Info: Attempting to evaluate 5 models.\n",
      "└ @ MLJTuning /home/sandhya/.julia/packages/MLJTuning/QFcuQ/src/tuned_models.jl:600\n",
      "\u001b[33mEvaluating over 5 metamodels: 100%[=========================] Time: 0:00:02\u001b[39m\n"
     ]
    },
    {
     "data": {
      "text/plain": [
       "\u001b[34mMachine{ProbabilisticTunedModel{Grid,…},…} @243\u001b[39m trained 1 time; caches data\n",
       "  args: \n",
       "    1:\t\u001b[34mSource @784\u001b[39m ⏎ `Table{AbstractVector{Continuous}}`\n",
       "    2:\t\u001b[34mSource @109\u001b[39m ⏎ `AbstractVector{Multiclass{3}}`\n"
      ]
     },
     "execution_count": 20,
     "metadata": {},
     "output_type": "execute_result"
    }
   ],
   "source": [
    "MLJ.fit!(m)"
   ]
  },
  {
   "cell_type": "code",
   "execution_count": 21,
   "metadata": {},
   "outputs": [
    {
     "data": {
      "text/plain": [
       "2"
      ]
     },
     "execution_count": 21,
     "metadata": {},
     "output_type": "execute_result"
    }
   ],
   "source": [
    "fitted_params(m).best_model.max_depth"
   ]
  },
  {
   "cell_type": "code",
   "execution_count": 23,
   "metadata": {},
   "outputs": [
    {
     "data": {
      "text/plain": [
       "(best_model = \u001b[34mDecisionTreeClassifier @894\u001b[39m,\n",
       " best_history_entry = (model = \u001b[34mDecisionTreeClassifier @894\u001b[39m,\n",
       "                       measure = [MisclassificationRate @574],\n",
       "                       measurement = [0.1111111111111111],\n",
       "                       per_fold = [[0.1111111111111111]],),\n",
       " history = NamedTuple{(:model, :measure, :measurement, :per_fold), Tuple{MLJDecisionTreeInterface.DecisionTreeClassifier, Vector{MisclassificationRate}, Vector{Float64}, Vector{Vector{Float64}}}}[(model = \u001b[34mDecisionTreeClassifier @965\u001b[39m, measure = [MisclassificationRate @574], measurement = [1.0], per_fold = [[1.0]]), (model = \u001b[34mDecisionTreeClassifier @519\u001b[39m, measure = [MisclassificationRate @574], measurement = [0.2222222222222222], per_fold = [[0.2222222222222222]]), (model = \u001b[34mDecisionTreeClassifier @920\u001b[39m, measure = [MisclassificationRate @574], measurement = [0.26666666666666666], per_fold = [[0.26666666666666666]]), (model = \u001b[34mDecisionTreeClassifier @894\u001b[39m, measure = [MisclassificationRate @574], measurement = [0.1111111111111111], per_fold = [[0.1111111111111111]]), (model = \u001b[34mDecisionTreeClassifier @054\u001b[39m, measure = [MisclassificationRate @574], measurement = [0.26666666666666666], per_fold = [[0.26666666666666666]])],\n",
       " best_report = (classes_seen = CategoricalArrays.CategoricalValue{String, UInt32}[\"setosa\", \"versicolor\", \"virginica\"],\n",
       "                print_tree = TreePrinter object (call with display depth),),\n",
       " plotting = (parameter_names = [\"max_depth\"],\n",
       "             parameter_scales = [:linear],\n",
       "             parameter_values = Any[1; 3; … ; 2; 5],\n",
       "             measurements = [1.0, 0.2222222222222222, 0.26666666666666666, 0.1111111111111111, 0.26666666666666666],),)"
      ]
     },
     "execution_count": 23,
     "metadata": {},
     "output_type": "execute_result"
    }
   ],
   "source": [
    "r = report(m)"
   ]
  },
  {
   "cell_type": "code",
   "execution_count": 26,
   "metadata": {},
   "outputs": [
    {
     "data": {
      "text/plain": [
       "(model = \u001b[34mDecisionTreeClassifier @894\u001b[39m,\n",
       " measure = [MisclassificationRate @574],\n",
       " measurement = [0.1111111111111111],\n",
       " per_fold = [[0.1111111111111111]],)"
      ]
     },
     "execution_count": 26,
     "metadata": {},
     "output_type": "execute_result"
    }
   ],
   "source": [
    "r.best_history_entry"
   ]
  },
  {
   "cell_type": "code",
   "execution_count": 28,
   "metadata": {},
   "outputs": [
    {
     "data": {
      "image/png": "[encoded data removed]",
      "text/plain": [
       "Figure(PyObject <Figure size 800x600 with 1 Axes>)"
      ]
     },
     "metadata": {},
     "output_type": "display_data"
    },
    {
     "data": {
      "text/plain": [
       "(0, 1)"
      ]
     },
     "execution_count": 28,
     "metadata": {},
     "output_type": "execute_result"
    }
   ],
   "source": [
    "using PyPlot\n",
    "figure(figsize=(8,6))\n",
    "res = r.plotting\n",
    "plot(res.parameter_values, res.measurements, ls=\"None\", marker=\"o\")\n",
    "\n",
    "xticks(1:5, fontsize=12)\n",
    "yticks(fontsize=12)\n",
    "xlabel(\"Maximim depth\", fontsize=14)\n",
    "ylabel(\"Misclassification rate\", fontsize=14)\n",
    "ylim([0,1])"
   ]
  },
  {
   "cell_type": "markdown",
   "metadata": {},
   "source": [
    "## Tuning nested hyperparameters"
   ]
  },
  {
   "cell_type": "code",
   "execution_count": 29,
   "metadata": {},
   "outputs": [
    {
     "data": {
      "text/plain": [
       "100-element Vector{Float64}:\n",
       " -0.2594525911738571\n",
       "  0.9340502245952843\n",
       "  0.7003610951135791\n",
       "  0.21188802065496776\n",
       "  0.8694577057288279\n",
       " -0.6120284369883382\n",
       "  0.9517955497905222\n",
       "  1.3180325352901425\n",
       "  0.2356302404414695\n",
       " -0.7377954967203133\n",
       " -0.10659974891857894\n",
       "  0.6986252005077664\n",
       " -0.1924227780670124\n",
       "  ⋮\n",
       "  1.6571591941300428\n",
       " -0.18908468114265253\n",
       "  1.3864462462084397\n",
       "  1.5765254488502505\n",
       "  1.3548746402038156\n",
       " -0.7952081184590503\n",
       "  0.9272716901931867\n",
       "  0.48243336254573516\n",
       "  1.5046590803343052\n",
       "  0.5984554606549851\n",
       " -0.3988546081418572\n",
       "  1.7271706239399003"
      ]
     },
     "execution_count": 29,
     "metadata": {},
     "output_type": "execute_result"
    }
   ],
   "source": [
    "X = (x1=rand(100), x2=rand(100),x3=rand(100))\n",
    "y = 2X.x1 - X.x2 + 0.05 * randn(100)"
   ]
  },
  {
   "cell_type": "code",
   "execution_count": 35,
   "metadata": {},
   "outputs": [
    {
     "name": "stdout",
     "output_type": "stream",
     "text": [
      "import MLJDecisionTreeInterface ✔\n"
     ]
    },
    {
     "name": "stderr",
     "output_type": "stream",
     "text": [
      "┌ Info: For silent loading, specify `verbosity=0`. \n",
      "└ @ Main /home/sandhya/.julia/packages/MLJModels/E8BbE/src/loading.jl:168\n"
     ]
    },
    {
     "data": {
      "text/plain": [
       "MLJDecisionTreeInterface.DecisionTreeRegressor"
      ]
     },
     "execution_count": 35,
     "metadata": {},
     "output_type": "execute_result"
    }
   ],
   "source": [
    "dtr = @load DecisionTreeRegressor pkg=DecisionTree\n"
   ]
  },
  {
   "cell_type": "code",
   "execution_count": 37,
   "metadata": {},
   "outputs": [
    {
     "data": {
      "text/plain": [
       "DecisionTreeRegressor(\n",
       "    max_depth = -1,\n",
       "    min_samples_leaf = 5,\n",
       "    min_samples_split = 2,\n",
       "    min_purity_increase = 0.0,\n",
       "    n_subfeatures = 0,\n",
       "    post_prune = false,\n",
       "    merge_purity_threshold = 1.0)\u001b[34m @241\u001b[39m"
      ]
     },
     "execution_count": 37,
     "metadata": {},
     "output_type": "execute_result"
    }
   ],
   "source": [
    "dt = dtr()"
   ]
  },
  {
   "cell_type": "code",
   "execution_count": 38,
   "metadata": {},
   "outputs": [
    {
     "data": {
      "text/plain": [
       "DeterministicEnsembleModel(\n",
       "    atom = DecisionTreeRegressor(\n",
       "            max_depth = -1,\n",
       "            min_samples_leaf = 5,\n",
       "            min_samples_split = 2,\n",
       "            min_purity_increase = 0.0,\n",
       "            n_subfeatures = 0,\n",
       "            post_prune = false,\n",
       "            merge_purity_threshold = 1.0),\n",
       "    atomic_weights = Float64[],\n",
       "    bagging_fraction = 0.8,\n",
       "    rng = Random._GLOBAL_RNG(),\n",
       "    n = 100,\n",
       "    acceleration = CPU1{Nothing}(nothing),\n",
       "    out_of_bag_measure = Any[])\u001b[34m @064\u001b[39m"
      ]
     },
     "execution_count": 38,
     "metadata": {},
     "output_type": "execute_result"
    }
   ],
   "source": [
    "forest = EnsembleModel(atom=dt)"
   ]
  },
  {
   "cell_type": "code",
   "execution_count": 39,
   "metadata": {},
   "outputs": [
    {
     "name": "stdout",
     "output_type": "stream",
     "text": [
      "(atom = (max_depth = -1,\n",
      "         min_samples_leaf = 5,\n",
      "         min_samples_split = 2,\n",
      "         min_purity_increase = 0.0,\n",
      "         n_subfeatures = 0,\n",
      "         post_prune = false,\n",
      "         merge_purity_threshold = 1.0),\n",
      " atomic_weights = [],\n",
      " bagging_fraction = 0.8,\n",
      " rng = Random._GLOBAL_RNG(),\n",
      " n = 100,\n",
      " acceleration = CPU1{Nothing}(nothing),\n",
      " out_of_bag_measure = [])"
     ]
    }
   ],
   "source": [
    "params(forest) |>pprint"
   ]
  },
  {
   "cell_type": "code",
   "execution_count": 40,
   "metadata": {},
   "outputs": [
    {
     "data": {
      "text/plain": [
       "typename(MLJBase.NumericRange)(Float64, :bagging_fraction, ... )"
      ]
     },
     "execution_count": 40,
     "metadata": {},
     "output_type": "execute_result"
    }
   ],
   "source": [
    "r1 = range(forest, :(atom.n_subfeatures), lower=1, upper=3)\n",
    "r2 = range(forest, :bagging_fraction, lower=0.4, upper=1.0)"
   ]
  },
  {
   "cell_type": "code",
   "execution_count": 41,
   "metadata": {},
   "outputs": [
    {
     "data": {
      "text/plain": [
       "DeterministicTunedModel(\n",
       "    model = DeterministicEnsembleModel(\n",
       "            atom = \u001b[34mDecisionTreeRegressor @241\u001b[39m,\n",
       "            atomic_weights = Float64[],\n",
       "            bagging_fraction = 0.8,\n",
       "            rng = Random._GLOBAL_RNG(),\n",
       "            n = 100,\n",
       "            acceleration = CPU1{Nothing}(nothing),\n",
       "            out_of_bag_measure = Any[]),\n",
       "    tuning = Grid(\n",
       "            goal = nothing,\n",
       "            resolution = 12,\n",
       "            shuffle = true,\n",
       "            rng = Random._GLOBAL_RNG()),\n",
       "    resampling = CV(\n",
       "            nfolds = 6,\n",
       "            shuffle = false,\n",
       "            rng = Random._GLOBAL_RNG()),\n",
       "    measure = RootMeanSquaredError(),\n",
       "    weights = nothing,\n",
       "    operation = MLJModelInterface.predict,\n",
       "    range = MLJBase.NumericRange{T, MLJBase.Bounded, Symbol} where T[\u001b[34mNumericRange{Int64,…} @850\u001b[39m, \u001b[34mNumericRange{Float64,…} @267\u001b[39m],\n",
       "    selection_heuristic = MLJTuning.NaiveSelection(nothing),\n",
       "    train_best = true,\n",
       "    repeats = 1,\n",
       "    n = nothing,\n",
       "    acceleration = CPU1{Nothing}(nothing),\n",
       "    acceleration_resampling = CPU1{Nothing}(nothing),\n",
       "    check_measure = true,\n",
       "    cache = true)\u001b[34m @511\u001b[39m"
      ]
     },
     "execution_count": 41,
     "metadata": {},
     "output_type": "execute_result"
    }
   ],
   "source": [
    "tm = TunedModel(model=forest, tuning=Grid(resolution=12),\n",
    "                resampling=CV(nfolds=6), ranges=[r1, r2],\n",
    "                measure=rms)"
   ]
  },
  {
   "cell_type": "code",
   "execution_count": 42,
   "metadata": {},
   "outputs": [
    {
     "name": "stderr",
     "output_type": "stream",
     "text": [
      "┌ Info: Training \u001b[34mMachine{DeterministicTunedModel{Grid,…},…} @064\u001b[39m.\n",
      "└ @ MLJBase /home/sandhya/.julia/packages/MLJBase/pCCd7/src/machines.jl:342\n",
      "┌ Info: Attempting to evaluate 36 models.\n",
      "└ @ MLJTuning /home/sandhya/.julia/packages/MLJTuning/QFcuQ/src/tuned_models.jl:600\n",
      "\u001b[33mEvaluating over 36 metamodels: 100%[=========================] Time: 0:00:11\u001b[39m\n"
     ]
    }
   ],
   "source": [
    "m = machine(tm, X, y)\n",
    "MLJ.fit!(m);"
   ]
  },
  {
   "cell_type": "code",
   "execution_count": 44,
   "metadata": {},
   "outputs": [
    {
     "data": {
      "text/plain": [
       "(best_model = \u001b[34mDeterministicEnsembleModel{DecisionTreeRegressor} @553\u001b[39m,\n",
       " best_history_entry = (model = \u001b[34mDeterministicEnsembleModel{DecisionTreeRegressor} @553\u001b[39m,\n",
       "                       measure = [RootMeanSquaredError @344],\n",
       "                       measurement = [0.17120280320470244],\n",
       "                       per_fold = [[0.1862280650887021, 0.17150851711393936, 0.1637131894111465, 0.14006920420730992, 0.12458550178576058, 0.223211553625558]],),\n",
       " history = NamedTuple{(:model, :measure, :measurement, :per_fold), Tuple{MLJ.DeterministicEnsembleModel{MLJDecisionTreeInterface.DecisionTreeRegressor}, Vector{RootMeanSquaredError}, Vector{Float64}, Vector{Vector{Float64}}}}[(model = \u001b[34mDeterministicEnsembleModel{DecisionTreeRegressor} @573\u001b[39m, measure = [RootMeanSquaredError @344], measurement = [0.3002738277996528], per_fold = [[0.26540875547280646, 0.2832185321326706, 0.2488363182999683, 0.2599716437929278, 0.28060459736249876, 0.4267176778635665]]), (model = \u001b[34mDeterministicEnsembleModel{DecisionTreeRegressor} @242\u001b[39m, measure = [RootMeanSquaredError @344], measurement = [0.24332852425668855], per_fold = [[0.22097490775916076, 0.22902191732981425, 0.2371835180538355, 0.23074371918770026, 0.18846999066778183, 0.33007885915604046]]), (model = \u001b[34mDeterministicEnsembleModel{DecisionTreeRegressor} @674\u001b[39m, measure = [RootMeanSquaredError @344], measurement = [0.17194918202546972], per_fold = [[0.1833567192617077, 0.17251774123301847, 0.17100814540525652, 0.14411583370101147, 0.12705076678771493, 0.21877388554665292]]), (model = \u001b[34mDeterministicEnsembleModel{DecisionTreeRegressor} @222\u001b[39m, measure = [RootMeanSquaredError @344], measurement = [0.17338299269238805], per_fold = [[0.1645589773981169, 0.16489751991497573, 0.1640140852602768, 0.14597747889662085, 0.13516801546151264, 0.24416938157927565]]), (model = \u001b[34mDeterministicEnsembleModel{DecisionTreeRegressor} @778\u001b[39m, measure = [RootMeanSquaredError @344], measurement = [0.21741026454179355], per_fold = [[0.21428142206013506, 0.20510449401466346, 0.218400947104166, 0.19967742136754293, 0.16523969931905952, 0.28415621220136966]]), (model = \u001b[34mDeterministicEnsembleModel{DecisionTreeRegressor} @218\u001b[39m, measure = [RootMeanSquaredError @344], measurement = [0.3384257137419547], per_fold = [[0.30645559103612896, 0.3480094801456632, 0.28885372333966763, 0.25950492943562137, 0.2735988662961286, 0.49651841179844275]]), (model = \u001b[34mDeterministicEnsembleModel{DecisionTreeRegressor} @716\u001b[39m, measure = [RootMeanSquaredError @344], measurement = [0.17198302928953133], per_fold = [[0.18328130336133858, 0.16618238879964756, 0.17898492199063856, 0.13879388686488342, 0.1450244416066202, 0.2095922653111642]]), (model = \u001b[34mDeterministicEnsembleModel{DecisionTreeRegressor} @642\u001b[39m, measure = [RootMeanSquaredError @344], measurement = [0.2929970709780132], per_fold = [[0.2801627086644173, 0.2761284317892752, 0.25154299192330315, 0.25395410842009497, 0.23664156518515422, 0.4202140539048283]]), (model = \u001b[34mDeterministicEnsembleModel{DecisionTreeRegressor} @803\u001b[39m, measure = [RootMeanSquaredError @344], measurement = [0.18076428938541697], per_fold = [[0.18565725970819064, 0.15447475274805172, 0.15591781932202192, 0.15784916677239497, 0.1416874765216258, 0.26157453191628205]]), (model = \u001b[34mDeterministicEnsembleModel{DecisionTreeRegressor} @553\u001b[39m, measure = [RootMeanSquaredError @344], measurement = [0.17120280320470244], per_fold = [[0.1862280650887021, 0.17150851711393936, 0.1637131894111465, 0.14006920420730992, 0.12458550178576058, 0.223211553625558]])  …  (model = \u001b[34mDeterministicEnsembleModel{DecisionTreeRegressor} @156\u001b[39m, measure = [RootMeanSquaredError @344], measurement = [0.18644193105139817], per_fold = [[0.19351374251026918, 0.1676574323634, 0.16621771869011046, 0.1567914405955295, 0.14065004477080886, 0.26648200279461726]]), (model = \u001b[34mDeterministicEnsembleModel{DecisionTreeRegressor} @014\u001b[39m, measure = [RootMeanSquaredError @344], measurement = [0.2258660967163008], per_fold = [[0.23993390833975758, 0.2286583471782244, 0.1689634552083911, 0.2419637768182722, 0.23952067171455085, 0.22754070207979324]]), (model = \u001b[34mDeterministicEnsembleModel{DecisionTreeRegressor} @414\u001b[39m, measure = [RootMeanSquaredError @344], measurement = [0.1790137600859542], per_fold = [[0.17663546655921272, 0.15094579840859781, 0.15049642290074988, 0.15527195849428507, 0.13509590949888994, 0.2707053315562238]]), (model = \u001b[34mDeterministicEnsembleModel{DecisionTreeRegressor} @950\u001b[39m, measure = [RootMeanSquaredError @344], measurement = [0.1796517985878448], per_fold = [[0.1799885061616925, 0.17088418903538632, 0.1873870291973538, 0.1492804548017399, 0.14833763846271525, 0.22945312401570517]]), (model = \u001b[34mDeterministicEnsembleModel{DecisionTreeRegressor} @324\u001b[39m, measure = [RootMeanSquaredError @344], measurement = [0.2332333568060883], per_fold = [[0.21929332059347317, 0.20362983317770172, 0.19498986632937224, 0.2014986014012358, 0.18750208408904728, 0.3507881940285183]]), (model = \u001b[34mDeterministicEnsembleModel{DecisionTreeRegressor} @653\u001b[39m, measure = [RootMeanSquaredError @344], measurement = [0.1880413019446581], per_fold = [[0.19397440438334068, 0.17663306947488713, 0.1831222744786313, 0.16344644149594648, 0.14787275908692782, 0.2474207289342685]]), (model = \u001b[34mDeterministicEnsembleModel{DecisionTreeRegressor} @091\u001b[39m, measure = [RootMeanSquaredError @344], measurement = [0.2509766640881352], per_fold = [[0.2303492433708505, 0.2183078844829047, 0.2243026817357153, 0.20662932171298196, 0.18431863094569273, 0.38760273710699245]]), (model = \u001b[34mDeterministicEnsembleModel{DecisionTreeRegressor} @001\u001b[39m, measure = [RootMeanSquaredError @344], measurement = [0.19382979703362427], per_fold = [[0.18497266960573824, 0.1551507661335229, 0.17391103999771754, 0.1622082822484069, 0.1386308460363245, 0.30225519753987606]]), (model = \u001b[34mDeterministicEnsembleModel{DecisionTreeRegressor} @462\u001b[39m, measure = [RootMeanSquaredError @344], measurement = [0.19551923795710527], per_fold = [[0.19782339180588915, 0.17921194723231026, 0.1990320324725802, 0.1709032321173885, 0.14910981261615128, 0.25895987560782513]]), (model = \u001b[34mDeterministicEnsembleModel{DecisionTreeRegressor} @268\u001b[39m, measure = [RootMeanSquaredError @344], measurement = [0.32517403505716674], per_fold = [[0.29997285116951405, 0.3067875635513475, 0.2797941833565906, 0.27438215651477454, 0.2584972165726592, 0.479515832933518]])],\n",
       " best_report = (measures = Any[],\n",
       "                oob_measurements = missing,),\n",
       " plotting = (parameter_names = [\"atom.n_subfeatures\", \"bagging_fraction\"],\n",
       "             parameter_scales = [:linear, :linear],\n",
       "             parameter_values = Any[1 1.0; 3 0.4; … ; 3 0.5636363636363636; 1 0.6181818181818182],\n",
       "             measurements = [0.3002738277996528, 0.24332852425668855, 0.17194918202546972, 0.17338299269238805, 0.21741026454179355, 0.3384257137419547, 0.17198302928953133, 0.2929970709780132, 0.18076428938541697, 0.17120280320470244  …  0.18644193105139817, 0.2258660967163008, 0.1790137600859542, 0.1796517985878448, 0.2332333568060883, 0.1880413019446581, 0.2509766640881352, 0.19382979703362427, 0.19551923795710527, 0.32517403505716674],),)"
      ]
     },
     "execution_count": 44,
     "metadata": {},
     "output_type": "execute_result"
    }
   ],
   "source": [
    "r = report(m)\n"
   ]
  },
  {
   "cell_type": "code",
   "execution_count": 45,
   "metadata": {},
   "outputs": [
    {
     "data": {
      "text/plain": [
       "(model = \u001b[34mDeterministicEnsembleModel{DecisionTreeRegressor} @553\u001b[39m,\n",
       " measure = [RootMeanSquaredError @344],\n",
       " measurement = [0.17120280320470244],\n",
       " per_fold = [[0.1862280650887021, 0.17150851711393936, 0.1637131894111465, 0.14006920420730992, 0.12458550178576058, 0.223211553625558]],)"
      ]
     },
     "execution_count": 45,
     "metadata": {},
     "output_type": "execute_result"
    }
   ],
   "source": [
    "r.best_history_entry"
   ]
  },
  {
   "cell_type": "code",
   "execution_count": 47,
   "metadata": {},
   "outputs": [
    {
     "data": {
      "image/png": "[encoded data removed]",
      "text/plain": [
       "Figure(PyObject <Figure size 800x600 with 1 Axes>)"
      ]
     },
     "metadata": {},
     "output_type": "display_data"
    }
   ],
   "source": [
    "figure(figsize=(8,6))\n",
    "\n",
    "res = r.plotting\n",
    "\n",
    "vals_sf = res.parameter_values[:, 1]\n",
    "vals_bf = res.parameter_values[:, 2]\n",
    "\n",
    "tricontourf(vals_sf, vals_bf, res.measurements)\n",
    "xlabel(\"Number of sub-features\", fontsize=14)\n",
    "ylabel(\"Bagging fraction\", fontsize=14)\n",
    "xticks([1, 2, 3], fontsize=12)\n",
    "yticks(fontsize=12);"
   ]
  },
  {
   "cell_type": "code",
   "execution_count": null,
   "metadata": {},
   "outputs": [],
   "source": []
  }
 ],
 "metadata": {
  "kernelspec": {
   "display_name": "Julia 1.6.1",
   "language": "julia",
   "name": "julia-1.6"
  },
  "language_info": {
   "file_extension": ".jl",
   "mimetype": "application/julia",
   "name": "julia",
   "version": "1.6.1"
  }
 },
 "nbformat": 4,
 "nbformat_minor": 4
}
