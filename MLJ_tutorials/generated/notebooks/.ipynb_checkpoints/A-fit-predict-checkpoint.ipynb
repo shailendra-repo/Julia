{
 "cells": [
  {
   "cell_type": "markdown",
   "metadata": {},
   "source": [
    "Before running this, please make sure to activate and instantiate the environment\n",
    "corresponding to [this `Project.toml`](https://raw.githubusercontent.com/alan-turing-institute/DataScienceTutorials.jl/master/Project.toml) and [this `Manifest.toml`](https://raw.githubusercontent.com/alan-turing-institute/DataScienceTutorials.jl/master/Manifest.toml)\n",
    "so that you get an environment which matches the one used to generate the tutorials:\n",
    "\n",
    "```julia\n",
    "cd(\"DataScienceTutorials\") # cd to folder with the *.toml\n",
    "using Pkg; Pkg.activate(\".\"); Pkg.instantiate()\n",
    "```"
   ]
  },
  {
   "cell_type": "markdown",
   "metadata": {},
   "source": [
    "[MLJ.jl]: https://github.com/alan-turing-institute/MLJ.jl\n",
    "[RDatasets.jl]: https://github.com/JuliaStats/RDatasets.jl\n",
    "[DecisionTree.jl]: https://github.com/bensadeghi/DecisionTree.jl\n",
    "\n",
    "## Preliminary steps\n",
    "\n",
    "### Data\n",
    "\n",
    "As in \"[choosing a model](/getting-started/choosing-a-model/)\", let's load the Iris dataset and unpack it:"
   ]
  },
  {
   "cell_type": "code",
   "execution_count": 7,
   "metadata": {},
   "outputs": [],
   "source": [
    "using MLJ\n",
    "import Statistics\n",
    "using PrettyPrinting\n",
    "using StableRNGs\n",
    "using DecisionTree\n",
    "\n",
    "X, y = @load_iris;"
   ]
  },
  {
   "cell_type": "markdown",
   "metadata": {},
   "source": [
    "let's also load the `DecisionTreeClassifier`:"
   ]
  },
  {
   "cell_type": "code",
   "execution_count": 8,
   "metadata": {},
   "outputs": [
    {
     "name": "stdout",
     "output_type": "stream",
     "text": [
      "import MLJDecisionTreeInterface ✔\n"
     ]
    },
    {
     "name": "stderr",
     "output_type": "stream",
     "text": [
      "┌ Info: For silent loading, specify `verbosity=0`. \n",
      "└ @ Main /home/sandhya/.julia/packages/MLJModels/E8BbE/src/loading.jl:168\n"
     ]
    },
    {
     "data": {
      "text/plain": [
       "DecisionTreeClassifier\n",
       "max_depth:                -1\n",
       "min_samples_leaf:         1\n",
       "min_samples_split:        2\n",
       "min_purity_increase:      0.0\n",
       "pruning_purity_threshold: 1.0\n",
       "n_subfeatures:            0\n",
       "classes:                  nothing\n",
       "root:                     nothing"
      ]
     },
     "execution_count": 8,
     "metadata": {},
     "output_type": "execute_result"
    }
   ],
   "source": [
    "@load DecisionTreeClassifier pkg=\"DecisionTree\"\n",
    "tree_model = DecisionTreeClassifier()"
   ]
  },
  {
   "cell_type": "markdown",
   "metadata": {},
   "source": [
    "### MLJ Machine\n",
    "\n",
    "In MLJ, remember that a *model* is an object that only serves as a container for the hyperparameters of the model.\n",
    "A *machine* is an object wrapping both a model and data and can contain information on the *trained* model; it does *not* fit the model by itself.\n",
    "However, it does check that the model is compatible with the scientific type of the data and will warn you otherwise."
   ]
  },
  {
   "cell_type": "code",
   "execution_count": 9,
   "metadata": {},
   "outputs": [
    {
     "ename": "LoadError",
     "evalue": "MethodError: no method matching machine(::DecisionTreeClassifier, ::NamedTuple{(:sepal_length, :sepal_width, :petal_length, :petal_width), NTuple{4, Vector{Float64}}}, ::CategoricalArrays.CategoricalVector{String, UInt32, String, CategoricalArrays.CategoricalValue{String, UInt32}, Union{}})\n\u001b[0mClosest candidates are:\n\u001b[0m  machine(\u001b[91m::Type{var\"#s39\"} where var\"#s39\"<:MLJModelInterface.Model\u001b[39m, ::Any...; kwargs...) at /home/sandhya/.julia/packages/MLJBase/pCCd7/src/machines.jl:220\n\u001b[0m  machine(\u001b[91m::Union{IO, String}\u001b[39m, ::Any...; cache, kwargs...) at /home/sandhya/.julia/packages/MLJBase/pCCd7/src/machines.jl:765\n\u001b[0m  machine(\u001b[91m::Static\u001b[39m, ::Any...; kwargs...) at /home/sandhya/.julia/packages/MLJBase/pCCd7/src/machines.jl:229\n\u001b[0m  ...",
     "output_type": "error",
     "traceback": [
      "MethodError: no method matching machine(::DecisionTreeClassifier, ::NamedTuple{(:sepal_length, :sepal_width, :petal_length, :petal_width), NTuple{4, Vector{Float64}}}, ::CategoricalArrays.CategoricalVector{String, UInt32, String, CategoricalArrays.CategoricalValue{String, UInt32}, Union{}})\n\u001b[0mClosest candidates are:\n\u001b[0m  machine(\u001b[91m::Type{var\"#s39\"} where var\"#s39\"<:MLJModelInterface.Model\u001b[39m, ::Any...; kwargs...) at /home/sandhya/.julia/packages/MLJBase/pCCd7/src/machines.jl:220\n\u001b[0m  machine(\u001b[91m::Union{IO, String}\u001b[39m, ::Any...; cache, kwargs...) at /home/sandhya/.julia/packages/MLJBase/pCCd7/src/machines.jl:765\n\u001b[0m  machine(\u001b[91m::Static\u001b[39m, ::Any...; kwargs...) at /home/sandhya/.julia/packages/MLJBase/pCCd7/src/machines.jl:229\n\u001b[0m  ...",
      "",
      "Stacktrace:",
      " [1] top-level scope",
      "   @ In[9]:1",
      " [2] eval",
      "   @ ./boot.jl:360 [inlined]",
      " [3] include_string(mapexpr::typeof(REPL.softscope), mod::Module, code::String, filename::String)",
      "   @ Base ./loading.jl:1094"
     ]
    }
   ],
   "source": [
    "tree = machine(tree_model, X, y)"
   ]
  },
  {
   "cell_type": "markdown",
   "metadata": {},
   "source": [
    "A machine is used both for supervised and unsupervised model.\n",
    "In this tutorial we give an example for the supervised model first and then go on with the unsupervised case.\n",
    "\n",
    "## Training and testing a supervised model\n",
    "\n",
    "Now that you've declared the model you'd like to consider and the data, we are left with the standard training and testing step for a supervised learning algorithm.\n",
    "\n",
    "### Splitting the data\n",
    "\n",
    "To split the data into a *training* and *testing* set, you can use the function `partition` to obtain indices for data points that should be considered either as training or testing data:"
   ]
  },
  {
   "cell_type": "code",
   "execution_count": null,
   "metadata": {},
   "outputs": [],
   "source": [
    "rng = StableRNG(566)\n",
    "train, test = partition(eachindex(y), 0.7, shuffle=true, rng=rng)\n",
    "test[1:3]"
   ]
  },
  {
   "cell_type": "markdown",
   "metadata": {},
   "source": [
    "### Fitting and testing the machine\n",
    "\n",
    "To fit the machine, you can use the function `fit!` specifying the rows to be used for the training:"
   ]
  },
  {
   "cell_type": "code",
   "execution_count": null,
   "metadata": {},
   "outputs": [],
   "source": [
    "fit!(tree, rows=train)"
   ]
  },
  {
   "cell_type": "markdown",
   "metadata": {},
   "source": [
    "Note that this **modifies** the machine which now contains the trained parameters of the decision tree.\n",
    "You can inspect the result of the fitting with the `fitted_params` method:"
   ]
  },
  {
   "cell_type": "code",
   "execution_count": null,
   "metadata": {},
   "outputs": [],
   "source": [
    "fitted_params(tree) |> pprint"
   ]
  },
  {
   "cell_type": "markdown",
   "metadata": {},
   "source": [
    "This `fitresult` will vary from model to model though classifiers will usually give out a tuple with the first element corresponding to the fitting and the second one keeping track of how classes are named (so that predictions can be appropriately named).\n",
    "\n",
    "You can now use the machine to make predictions with the `predict` function specifying rows to be used for the prediction:"
   ]
  },
  {
   "cell_type": "code",
   "execution_count": null,
   "metadata": {},
   "outputs": [],
   "source": [
    "ŷ = predict(tree, rows=test)\n",
    "@show ŷ[1]"
   ]
  },
  {
   "cell_type": "markdown",
   "metadata": {},
   "source": [
    "Note that the output is *probabilistic*, effectively a vector with a score for each class.\n",
    "You could get the mode by using the `mode` function on `ŷ` or using `predict_mode`:"
   ]
  },
  {
   "cell_type": "code",
   "execution_count": null,
   "metadata": {},
   "outputs": [],
   "source": [
    "ȳ = predict_mode(tree, rows=test)\n",
    "@show ȳ[1]\n",
    "@show mode(ŷ[1])"
   ]
  },
  {
   "cell_type": "markdown",
   "metadata": {},
   "source": [
    "To measure the discrepancy between `ŷ` and `y` you could use the average cross entropy:"
   ]
  },
  {
   "cell_type": "code",
   "execution_count": null,
   "metadata": {},
   "outputs": [],
   "source": [
    "mce = cross_entropy(ŷ, y[test]) |> mean\n",
    "round(mce, digits=4)"
   ]
  },
  {
   "cell_type": "markdown",
   "metadata": {},
   "source": [
    "## Unsupervised models\n",
    "\n",
    "Unsupervised models define a `transform` method,\n",
    "and may optionally implement an `inverse_transform` method.\n",
    "As in the supervised case, we use a machine to wrap the unsupervised model and the data:"
   ]
  },
  {
   "cell_type": "code",
   "execution_count": null,
   "metadata": {},
   "outputs": [],
   "source": [
    "v = [1, 2, 3, 4]\n",
    "stand_model = UnivariateStandardizer()\n",
    "stand = machine(stand_model, v)"
   ]
  },
  {
   "cell_type": "markdown",
   "metadata": {},
   "source": [
    "We can then fit the machine and use it to apply the corresponding *data transformation*:"
   ]
  },
  {
   "cell_type": "code",
   "execution_count": null,
   "metadata": {},
   "outputs": [],
   "source": [
    "fit!(stand)\n",
    "w = transform(stand, v)\n",
    "@show round.(w, digits=2)\n",
    "@show mean(w)\n",
    "@show std(w)"
   ]
  },
  {
   "cell_type": "markdown",
   "metadata": {},
   "source": [
    "In this case, the model also has an inverse transform:"
   ]
  },
  {
   "cell_type": "code",
   "execution_count": null,
   "metadata": {},
   "outputs": [],
   "source": [
    "vv = inverse_transform(stand, w)\n",
    "sum(abs.(vv .- v))"
   ]
  },
  {
   "cell_type": "markdown",
   "metadata": {},
   "source": [
    "---\n",
    "\n",
    "*This notebook was generated using [Literate.jl](https://github.com/fredrikekre/Literate.jl).*"
   ]
  }
 ],
 "metadata": {
  "kernelspec": {
   "display_name": "Julia 1.6.1",
   "language": "julia",
   "name": "julia-1.6"
  },
  "language_info": {
   "file_extension": ".jl",
   "mimetype": "application/julia",
   "name": "julia",
   "version": "1.6.1"
  }
 },
 "nbformat": 4,
 "nbformat_minor": 3
}
