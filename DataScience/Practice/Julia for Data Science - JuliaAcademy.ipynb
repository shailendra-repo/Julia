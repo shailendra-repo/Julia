{
 "cells": [
  {
   "cell_type": "markdown",
   "metadata": {},
   "source": [
    "# Julia for Data Science"
   ]
  },
  {
   "cell_type": "markdown",
   "metadata": {},
   "source": [
    "## Data, Methods, and Visualization for Data Science in Julia"
   ]
  },
  {
   "cell_type": "code",
   "execution_count": 1,
   "metadata": {},
   "outputs": [],
   "source": [
    "using BenchmarkTools\n",
    "using DataFrames\n",
    "using DelimitedFiles\n",
    "using CSV\n",
    "using XLSX\n",
    "using Downloads"
   ]
  },
  {
   "cell_type": "code",
   "execution_count": 2,
   "metadata": {},
   "outputs": [
    {
     "name": "stdout",
     "output_type": "stream",
     "text": [
      "Julia for Data Science - JuliaAcademy.ipynb\n",
      "programming_languages.csv\n",
      "programminglanguages_dlm.txt\n",
      "Programmminglanguage_CSV_W.csv\n"
     ]
    }
   ],
   "source": [
    ";ls"
   ]
  },
  {
   "cell_type": "code",
   "execution_count": 3,
   "metadata": {},
   "outputs": [
    {
     "data": {
      "text/plain": [
       "\"programming_languages.csv\""
      ]
     },
     "execution_count": 3,
     "metadata": {},
     "output_type": "execute_result"
    }
   ],
   "source": [
    "P = Downloads.download(\"https://raw.githubusercontent.com/nassarhuda/easy_data/master/programming_languages.csv\",\n",
    "    \"programming_languages.csv\")"
   ]
  },
  {
   "cell_type": "code",
   "execution_count": 4,
   "metadata": {
    "scrolled": true
   },
   "outputs": [
    {
     "name": "stdout",
     "output_type": "stream",
     "text": [
      "year,language\n",
      "1951,Regional Assembly Language\n",
      "1952,Autocode\n",
      "1954,IPL\n",
      "1955,FLOW-MATIC\n",
      "1957,FORTRAN\n",
      "1957,COMTRAN\n",
      "1958,LISP\n",
      "1958,ALGOL 58\n",
      "1959,FACT\n"
     ]
    }
   ],
   "source": [
    ";head programming_languages.csv"
   ]
  },
  {
   "cell_type": "code",
   "execution_count": 5,
   "metadata": {},
   "outputs": [
    {
     "data": {
      "text/plain": [
       "(Any[1951 \"Regional Assembly Language\"; 1952 \"Autocode\"; … ; 2012 \"Julia\"; 2014 \"Swift\"], AbstractString[\"year\" \"language\"])"
      ]
     },
     "execution_count": 5,
     "metadata": {},
     "output_type": "execute_result"
    }
   ],
   "source": [
    "P,H = readdlm(\"programming_languages.csv\",',';header=true)"
   ]
  },
  {
   "cell_type": "code",
   "execution_count": 6,
   "metadata": {
    "scrolled": true
   },
   "outputs": [
    {
     "data": {
      "text/plain": [
       "1×2 Matrix{AbstractString}:\n",
       " \"year\"  \"language\""
      ]
     },
     "execution_count": 6,
     "metadata": {},
     "output_type": "execute_result"
    }
   ],
   "source": [
    "H"
   ]
  },
  {
   "cell_type": "code",
   "execution_count": 7,
   "metadata": {},
   "outputs": [
    {
     "data": {
      "text/plain": [
       "73×2 Matrix{Any}:\n",
       " 1951  \"Regional Assembly Language\"\n",
       " 1952  \"Autocode\"\n",
       " 1954  \"IPL\"\n",
       " 1955  \"FLOW-MATIC\"\n",
       " 1957  \"FORTRAN\"\n",
       " 1957  \"COMTRAN\"\n",
       " 1958  \"LISP\"\n",
       " 1958  \"ALGOL 58\"\n",
       " 1959  \"FACT\"\n",
       " 1959  \"COBOL\"\n",
       " 1959  \"RPG\"\n",
       " 1962  \"APL\"\n",
       " 1962  \"Simula\"\n",
       "    ⋮  \n",
       " 2003  \"Scala\"\n",
       " 2005  \"F#\"\n",
       " 2006  \"PowerShell\"\n",
       " 2007  \"Clojure\"\n",
       " 2009  \"Go\"\n",
       " 2010  \"Rust\"\n",
       " 2011  \"Dart\"\n",
       " 2011  \"Kotlin\"\n",
       " 2011  \"Red\"\n",
       " 2011  \"Elixir\"\n",
       " 2012  \"Julia\"\n",
       " 2014  \"Swift\""
      ]
     },
     "execution_count": 7,
     "metadata": {},
     "output_type": "execute_result"
    }
   ],
   "source": [
    "P"
   ]
  },
  {
   "cell_type": "code",
   "execution_count": 8,
   "metadata": {},
   "outputs": [],
   "source": [
    "writedlm(\"programminglanguages_dlm.txt\",P,'-')"
   ]
  },
  {
   "cell_type": "code",
   "execution_count": 9,
   "metadata": {},
   "outputs": [
    {
     "data": {
      "text/html": [
       "<table class=\"data-frame\"><thead><tr><th></th><th>year</th><th>language</th></tr><tr><th></th><th>Int64</th><th>String</th></tr></thead><tbody><p>73 rows × 2 columns</p><tr><th>1</th><td>1951</td><td>Regional Assembly Language</td></tr><tr><th>2</th><td>1952</td><td>Autocode</td></tr><tr><th>3</th><td>1954</td><td>IPL</td></tr><tr><th>4</th><td>1955</td><td>FLOW-MATIC</td></tr><tr><th>5</th><td>1957</td><td>FORTRAN</td></tr><tr><th>6</th><td>1957</td><td>COMTRAN</td></tr><tr><th>7</th><td>1958</td><td>LISP</td></tr><tr><th>8</th><td>1958</td><td>ALGOL 58</td></tr><tr><th>9</th><td>1959</td><td>FACT</td></tr><tr><th>10</th><td>1959</td><td>COBOL</td></tr><tr><th>11</th><td>1959</td><td>RPG</td></tr><tr><th>12</th><td>1962</td><td>APL</td></tr><tr><th>13</th><td>1962</td><td>Simula</td></tr><tr><th>14</th><td>1962</td><td>SNOBOL</td></tr><tr><th>15</th><td>1963</td><td>CPL</td></tr><tr><th>16</th><td>1964</td><td>Speakeasy</td></tr><tr><th>17</th><td>1964</td><td>BASIC</td></tr><tr><th>18</th><td>1964</td><td>PL/I</td></tr><tr><th>19</th><td>1966</td><td>JOSS</td></tr><tr><th>20</th><td>1967</td><td>BCPL</td></tr><tr><th>21</th><td>1968</td><td>Logo</td></tr><tr><th>22</th><td>1969</td><td>B</td></tr><tr><th>23</th><td>1970</td><td>Pascal</td></tr><tr><th>24</th><td>1970</td><td>Forth</td></tr><tr><th>25</th><td>1972</td><td>C</td></tr><tr><th>26</th><td>1972</td><td>Smalltalk</td></tr><tr><th>27</th><td>1972</td><td>Prolog</td></tr><tr><th>28</th><td>1973</td><td>ML</td></tr><tr><th>29</th><td>1975</td><td>Scheme</td></tr><tr><th>30</th><td>1978</td><td>SQL </td></tr><tr><th>&vellip;</th><td>&vellip;</td><td>&vellip;</td></tr></tbody></table>"
      ],
      "text/latex": [
       "\\begin{tabular}{r|cc}\n",
       "\t& year & language\\\\\n",
       "\t\\hline\n",
       "\t& Int64 & String\\\\\n",
       "\t\\hline\n",
       "\t1 & 1951 & Regional Assembly Language \\\\\n",
       "\t2 & 1952 & Autocode \\\\\n",
       "\t3 & 1954 & IPL \\\\\n",
       "\t4 & 1955 & FLOW-MATIC \\\\\n",
       "\t5 & 1957 & FORTRAN \\\\\n",
       "\t6 & 1957 & COMTRAN \\\\\n",
       "\t7 & 1958 & LISP \\\\\n",
       "\t8 & 1958 & ALGOL 58 \\\\\n",
       "\t9 & 1959 & FACT \\\\\n",
       "\t10 & 1959 & COBOL \\\\\n",
       "\t11 & 1959 & RPG \\\\\n",
       "\t12 & 1962 & APL \\\\\n",
       "\t13 & 1962 & Simula \\\\\n",
       "\t14 & 1962 & SNOBOL \\\\\n",
       "\t15 & 1963 & CPL \\\\\n",
       "\t16 & 1964 & Speakeasy \\\\\n",
       "\t17 & 1964 & BASIC \\\\\n",
       "\t18 & 1964 & PL/I \\\\\n",
       "\t19 & 1966 & JOSS \\\\\n",
       "\t20 & 1967 & BCPL \\\\\n",
       "\t21 & 1968 & Logo \\\\\n",
       "\t22 & 1969 & B \\\\\n",
       "\t23 & 1970 & Pascal \\\\\n",
       "\t24 & 1970 & Forth \\\\\n",
       "\t25 & 1972 & C \\\\\n",
       "\t26 & 1972 & Smalltalk \\\\\n",
       "\t27 & 1972 & Prolog \\\\\n",
       "\t28 & 1973 & ML \\\\\n",
       "\t29 & 1975 & Scheme \\\\\n",
       "\t30 & 1978 & SQL  \\\\\n",
       "\t$\\dots$ & $\\dots$ & $\\dots$ \\\\\n",
       "\\end{tabular}\n"
      ],
      "text/plain": [
       "\u001b[1m73×2 DataFrame\u001b[0m\n",
       "\u001b[1m Row \u001b[0m│\u001b[1m year  \u001b[0m\u001b[1m language                   \u001b[0m\n",
       "\u001b[1m     \u001b[0m│\u001b[90m Int64 \u001b[0m\u001b[90m String                     \u001b[0m\n",
       "─────┼───────────────────────────────────\n",
       "   1 │  1951  Regional Assembly Language\n",
       "   2 │  1952  Autocode\n",
       "   3 │  1954  IPL\n",
       "   4 │  1955  FLOW-MATIC\n",
       "   5 │  1957  FORTRAN\n",
       "   6 │  1957  COMTRAN\n",
       "   7 │  1958  LISP\n",
       "   8 │  1958  ALGOL 58\n",
       "   9 │  1959  FACT\n",
       "  10 │  1959  COBOL\n",
       "  11 │  1959  RPG\n",
       "  ⋮  │   ⋮                ⋮\n",
       "  64 │  2006  PowerShell\n",
       "  65 │  2007  Clojure\n",
       "  66 │  2009  Go\n",
       "  67 │  2010  Rust\n",
       "  68 │  2011  Dart\n",
       "  69 │  2011  Kotlin\n",
       "  70 │  2011  Red\n",
       "  71 │  2011  Elixir\n",
       "  72 │  2012  Julia\n",
       "  73 │  2014  Swift\n",
       "\u001b[36m                          52 rows omitted\u001b[0m"
      ]
     },
     "execution_count": 9,
     "metadata": {},
     "output_type": "execute_result"
    }
   ],
   "source": [
    "C = CSV.read(\"programming_languages.csv\",DataFrame)"
   ]
  },
  {
   "cell_type": "code",
   "execution_count": 10,
   "metadata": {},
   "outputs": [
    {
     "data": {
      "text/plain": [
       "DataFrame"
      ]
     },
     "execution_count": 10,
     "metadata": {},
     "output_type": "execute_result"
    }
   ],
   "source": [
    "typeof(C)"
   ]
  },
  {
   "cell_type": "code",
   "execution_count": 11,
   "metadata": {},
   "outputs": [
    {
     "data": {
      "text/html": [
       "<table class=\"data-frame\"><thead><tr><th></th><th>year</th><th>language</th></tr><tr><th></th><th>Int64</th><th>String</th></tr></thead><tbody><p>10 rows × 2 columns</p><tr><th>1</th><td>1951</td><td>Regional Assembly Language</td></tr><tr><th>2</th><td>1952</td><td>Autocode</td></tr><tr><th>3</th><td>1954</td><td>IPL</td></tr><tr><th>4</th><td>1955</td><td>FLOW-MATIC</td></tr><tr><th>5</th><td>1957</td><td>FORTRAN</td></tr><tr><th>6</th><td>1957</td><td>COMTRAN</td></tr><tr><th>7</th><td>1958</td><td>LISP</td></tr><tr><th>8</th><td>1958</td><td>ALGOL 58</td></tr><tr><th>9</th><td>1959</td><td>FACT</td></tr><tr><th>10</th><td>1959</td><td>COBOL</td></tr></tbody></table>"
      ],
      "text/latex": [
       "\\begin{tabular}{r|cc}\n",
       "\t& year & language\\\\\n",
       "\t\\hline\n",
       "\t& Int64 & String\\\\\n",
       "\t\\hline\n",
       "\t1 & 1951 & Regional Assembly Language \\\\\n",
       "\t2 & 1952 & Autocode \\\\\n",
       "\t3 & 1954 & IPL \\\\\n",
       "\t4 & 1955 & FLOW-MATIC \\\\\n",
       "\t5 & 1957 & FORTRAN \\\\\n",
       "\t6 & 1957 & COMTRAN \\\\\n",
       "\t7 & 1958 & LISP \\\\\n",
       "\t8 & 1958 & ALGOL 58 \\\\\n",
       "\t9 & 1959 & FACT \\\\\n",
       "\t10 & 1959 & COBOL \\\\\n",
       "\\end{tabular}\n"
      ],
      "text/plain": [
       "\u001b[1m10×2 DataFrame\u001b[0m\n",
       "\u001b[1m Row \u001b[0m│\u001b[1m year  \u001b[0m\u001b[1m language                   \u001b[0m\n",
       "\u001b[1m     \u001b[0m│\u001b[90m Int64 \u001b[0m\u001b[90m String                     \u001b[0m\n",
       "─────┼───────────────────────────────────\n",
       "   1 │  1951  Regional Assembly Language\n",
       "   2 │  1952  Autocode\n",
       "   3 │  1954  IPL\n",
       "   4 │  1955  FLOW-MATIC\n",
       "   5 │  1957  FORTRAN\n",
       "   6 │  1957  COMTRAN\n",
       "   7 │  1958  LISP\n",
       "   8 │  1958  ALGOL 58\n",
       "   9 │  1959  FACT\n",
       "  10 │  1959  COBOL"
      ]
     },
     "execution_count": 11,
     "metadata": {},
     "output_type": "execute_result"
    }
   ],
   "source": [
    "C[1:10,:]"
   ]
  },
  {
   "cell_type": "code",
   "execution_count": 12,
   "metadata": {},
   "outputs": [
    {
     "data": {
      "text/plain": [
       "73-element Vector{Int64}:\n",
       " 1951\n",
       " 1952\n",
       " 1954\n",
       " 1955\n",
       " 1957\n",
       " 1957\n",
       " 1958\n",
       " 1958\n",
       " 1959\n",
       " 1959\n",
       " 1959\n",
       " 1962\n",
       " 1962\n",
       "    ⋮\n",
       " 2003\n",
       " 2005\n",
       " 2006\n",
       " 2007\n",
       " 2009\n",
       " 2010\n",
       " 2011\n",
       " 2011\n",
       " 2011\n",
       " 2011\n",
       " 2012\n",
       " 2014"
      ]
     },
     "execution_count": 12,
     "metadata": {},
     "output_type": "execute_result"
    }
   ],
   "source": [
    "C[:,:year]"
   ]
  },
  {
   "cell_type": "code",
   "execution_count": 13,
   "metadata": {},
   "outputs": [
    {
     "data": {
      "text/plain": [
       "73-element Vector{Int64}:\n",
       " 1951\n",
       " 1952\n",
       " 1954\n",
       " 1955\n",
       " 1957\n",
       " 1957\n",
       " 1958\n",
       " 1958\n",
       " 1959\n",
       " 1959\n",
       " 1959\n",
       " 1962\n",
       " 1962\n",
       "    ⋮\n",
       " 2003\n",
       " 2005\n",
       " 2006\n",
       " 2007\n",
       " 2009\n",
       " 2010\n",
       " 2011\n",
       " 2011\n",
       " 2011\n",
       " 2011\n",
       " 2012\n",
       " 2014"
      ]
     },
     "execution_count": 13,
     "metadata": {},
     "output_type": "execute_result"
    }
   ],
   "source": [
    "C.year"
   ]
  },
  {
   "cell_type": "code",
   "execution_count": 14,
   "metadata": {},
   "outputs": [
    {
     "data": {
      "text/plain": [
       "73-element Vector{String}:\n",
       " \"Regional Assembly Language\"\n",
       " \"Autocode\"\n",
       " \"IPL\"\n",
       " \"FLOW-MATIC\"\n",
       " \"FORTRAN\"\n",
       " \"COMTRAN\"\n",
       " \"LISP\"\n",
       " \"ALGOL 58\"\n",
       " \"FACT\"\n",
       " \"COBOL\"\n",
       " \"RPG\"\n",
       " \"APL\"\n",
       " \"Simula\"\n",
       " ⋮\n",
       " \"Scala\"\n",
       " \"F#\"\n",
       " \"PowerShell\"\n",
       " \"Clojure\"\n",
       " \"Go\"\n",
       " \"Rust\"\n",
       " \"Dart\"\n",
       " \"Kotlin\"\n",
       " \"Red\"\n",
       " \"Elixir\"\n",
       " \"Julia\"\n",
       " \"Swift\""
      ]
     },
     "execution_count": 14,
     "metadata": {},
     "output_type": "execute_result"
    }
   ],
   "source": [
    "C.language"
   ]
  },
  {
   "cell_type": "code",
   "execution_count": 15,
   "metadata": {},
   "outputs": [
    {
     "name": "stdout",
     "output_type": "stream",
     "text": [
      "typeof(P) = Matrix{Any}\n"
     ]
    },
    {
     "data": {
      "text/plain": [
       "Matrix{Any} (alias for Array{Any, 2})"
      ]
     },
     "execution_count": 15,
     "metadata": {},
     "output_type": "execute_result"
    }
   ],
   "source": [
    "@show typeof(P)"
   ]
  },
  {
   "cell_type": "code",
   "execution_count": 16,
   "metadata": {},
   "outputs": [
    {
     "name": "stdout",
     "output_type": "stream",
     "text": [
      "typeof(C) = DataFrame\n"
     ]
    },
    {
     "data": {
      "text/plain": [
       "DataFrame"
      ]
     },
     "execution_count": 16,
     "metadata": {},
     "output_type": "execute_result"
    }
   ],
   "source": [
    "@show typeof(C)"
   ]
  },
  {
   "cell_type": "code",
   "execution_count": 17,
   "metadata": {},
   "outputs": [
    {
     "data": {
      "text/plain": [
       "2-element Vector{String}:\n",
       " \"year\"\n",
       " \"language\""
      ]
     },
     "execution_count": 17,
     "metadata": {},
     "output_type": "execute_result"
    }
   ],
   "source": [
    "names(C)"
   ]
  },
  {
   "cell_type": "code",
   "execution_count": 18,
   "metadata": {},
   "outputs": [
    {
     "data": {
      "text/plain": [
       "73-element Vector{Int64}:\n",
       " 1951\n",
       " 1952\n",
       " 1954\n",
       " 1955\n",
       " 1957\n",
       " 1957\n",
       " 1958\n",
       " 1958\n",
       " 1959\n",
       " 1959\n",
       " 1959\n",
       " 1962\n",
       " 1962\n",
       "    ⋮\n",
       " 2003\n",
       " 2005\n",
       " 2006\n",
       " 2007\n",
       " 2009\n",
       " 2010\n",
       " 2011\n",
       " 2011\n",
       " 2011\n",
       " 2011\n",
       " 2012\n",
       " 2014"
      ]
     },
     "execution_count": 18,
     "metadata": {},
     "output_type": "execute_result"
    }
   ],
   "source": [
    "C.year"
   ]
  },
  {
   "cell_type": "code",
   "execution_count": 19,
   "metadata": {},
   "outputs": [
    {
     "data": {
      "text/html": [
       "<table class=\"data-frame\"><thead><tr><th></th><th>variable</th><th>mean</th><th>min</th><th>median</th><th>max</th><th>nmissing</th><th>eltype</th></tr><tr><th></th><th>Symbol</th><th>Union…</th><th>Any</th><th>Union…</th><th>Any</th><th>Int64</th><th>DataType</th></tr></thead><tbody><p>2 rows × 7 columns</p><tr><th>1</th><td>year</td><td>1982.99</td><td>1951</td><td>1986.0</td><td>2014</td><td>0</td><td>Int64</td></tr><tr><th>2</th><td>language</td><td></td><td>ALGOL 58</td><td></td><td>dBase III</td><td>0</td><td>String</td></tr></tbody></table>"
      ],
      "text/latex": [
       "\\begin{tabular}{r|ccccccc}\n",
       "\t& variable & mean & min & median & max & nmissing & eltype\\\\\n",
       "\t\\hline\n",
       "\t& Symbol & Union… & Any & Union… & Any & Int64 & DataType\\\\\n",
       "\t\\hline\n",
       "\t1 & year & 1982.99 & 1951 & 1986.0 & 2014 & 0 & Int64 \\\\\n",
       "\t2 & language &  & ALGOL 58 &  & dBase III & 0 & String \\\\\n",
       "\\end{tabular}\n"
      ],
      "text/plain": [
       "\u001b[1m2×7 DataFrame\u001b[0m\n",
       "\u001b[1m Row \u001b[0m│\u001b[1m variable \u001b[0m\u001b[1m mean    \u001b[0m\u001b[1m min      \u001b[0m\u001b[1m median \u001b[0m\u001b[1m max       \u001b[0m\u001b[1m nmissing \u001b[0m\u001b[1m eltype   \u001b[0m\n",
       "\u001b[1m     \u001b[0m│\u001b[90m Symbol   \u001b[0m\u001b[90m Union…  \u001b[0m\u001b[90m Any      \u001b[0m\u001b[90m Union… \u001b[0m\u001b[90m Any       \u001b[0m\u001b[90m Int64    \u001b[0m\u001b[90m DataType \u001b[0m\n",
       "─────┼────────────────────────────────────────────────────────────────────\n",
       "   1 │ year      1982.99  1951      1986.0  2014              0  Int64\n",
       "   2 │ language \u001b[90m         \u001b[0m ALGOL 58 \u001b[90m        \u001b[0m dBase III         0  String"
      ]
     },
     "execution_count": 19,
     "metadata": {},
     "output_type": "execute_result"
    }
   ],
   "source": [
    "describe(C)"
   ]
  },
  {
   "cell_type": "code",
   "execution_count": 20,
   "metadata": {},
   "outputs": [
    {
     "name": "stdout",
     "output_type": "stream",
     "text": [
      "  213.868 μs (325 allocations: 51.19 KiB)\n",
      "  91.591 μs (227 allocations: 22.02 KiB)\n"
     ]
    }
   ],
   "source": [
    "# determine which reading mode is better: readdlm or CSV\n",
    "\n",
    "@btime P,H = readdlm(\"programming_languages.csv\",',';header=true);\n",
    "@btime C = CSV.read(\"programming_languages.csv\", DataFrame);"
   ]
  },
  {
   "cell_type": "code",
   "execution_count": 21,
   "metadata": {},
   "outputs": [],
   "source": [
    "# so CSV is a lot better and delimiter reader"
   ]
  },
  {
   "cell_type": "code",
   "execution_count": 22,
   "metadata": {},
   "outputs": [
    {
     "data": {
      "text/plain": [
       "\"Programmminglanguage_CSV_W.csv\""
      ]
     },
     "execution_count": 22,
     "metadata": {},
     "output_type": "execute_result"
    }
   ],
   "source": [
    "CSV.write(\"Programmminglanguage_CSV_W.csv\",DataFrame(P,[\"Year\",\"Language\"]))"
   ]
  },
  {
   "cell_type": "code",
   "execution_count": null,
   "metadata": {},
   "outputs": [],
   "source": []
  },
  {
   "cell_type": "code",
   "execution_count": 23,
   "metadata": {},
   "outputs": [
    {
     "data": {
      "text/plain": [
       "9×6 Matrix{Any}:\n",
       "      \"RegionID\"  \"RegionName\"    …      \"2008-03\"      \"2008-04\"\n",
       "  6181            \"New York\"             missing        missing\n",
       " 12447            \"Los Angeles\"      1446           1705\n",
       " 39051            \"Houston\"          2926           3121\n",
       " 17426            \"Chicago\"          2910           3022\n",
       "  6915            \"San Antonio\"   …  1479           1529\n",
       " 13271            \"Philadelphia\"     1609           1795\n",
       " 40326            \"Phoenix\"          1310           1519\n",
       " 18959            \"Las Vegas\"        1618           1856"
      ]
     },
     "execution_count": 23,
     "metadata": {},
     "output_type": "execute_result"
    }
   ],
   "source": [
    "T = XLSX.readdata(\"../data/zillow_data_download_april2020.xlsx\",\"Sale_counts_city\",\"A1:F9\")"
   ]
  },
  {
   "cell_type": "code",
   "execution_count": 24,
   "metadata": {},
   "outputs": [
    {
     "data": {
      "text/plain": [
       "6-element Vector{String}:\n",
       " \"RegionID\"\n",
       " \"RegionName\"\n",
       " \"StateName\"\n",
       " \"SizeRank\"\n",
       " \"2008-03\"\n",
       " \"2008-04\""
      ]
     },
     "execution_count": 24,
     "metadata": {},
     "output_type": "execute_result"
    }
   ],
   "source": [
    "[x for x in T[1,:]]"
   ]
  },
  {
   "cell_type": "code",
   "execution_count": 25,
   "metadata": {},
   "outputs": [
    {
     "data": {
      "text/plain": [
       "28765×6 Matrix{Any}:\n",
       "       \"RegionID\"  …      \"2008-03\"      \"2008-04\"\n",
       "   6181                   missing        missing\n",
       "  12447               1446           1705\n",
       "  39051               2926           3121\n",
       "  17426               2910           3022\n",
       "   6915            …  1479           1529\n",
       "  13271               1609           1795\n",
       "  40326               1310           1519\n",
       "  18959               1618           1856\n",
       "  54296                772           1057\n",
       "  38128            …  1158           1232\n",
       "  10221                997           1140\n",
       "  33839                455            555\n",
       "      ⋮            ⋱                    ⋮\n",
       " 398104                  0              0\n",
       " 398357                  0              0\n",
       " 398712            …     0              0\n",
       " 398716                  0              0\n",
       " 399081                  0              0\n",
       " 737789                  1              0\n",
       " 760882                  0              0\n",
       "       missing     …      missing        missing\n",
       "       missing            missing        missing\n",
       "       missing            missing        missing\n",
       "       missing            missing        missing\n",
       "       missing            missing        missing"
      ]
     },
     "execution_count": 25,
     "metadata": {},
     "output_type": "execute_result"
    }
   ],
   "source": [
    "T1 = XLSX.readdata(\"../data/zillow_data_download_april2020.xlsx\",\"Sale_counts_city\",\"A1:F28765\")"
   ]
  },
  {
   "cell_type": "code",
   "execution_count": 26,
   "metadata": {},
   "outputs": [
    {
     "data": {
      "text/html": [
       "<table class=\"data-frame\"><thead><tr><th></th><th>RegionID</th><th>RegionName</th><th>StateName</th><th>SizeRank</th><th>2008-03</th><th>2008-04</th></tr><tr><th></th><th>Any</th><th>Any</th><th>Any</th><th>Any</th><th>Any</th><th>Any</th></tr></thead><tbody><p>28,765 rows × 6 columns</p><tr><th>1</th><td>RegionID</td><td>RegionName</td><td>StateName</td><td>SizeRank</td><td>2008-03</td><td>2008-04</td></tr><tr><th>2</th><td>6181</td><td>New York</td><td>New York</td><td>1</td><td><em>missing</em></td><td><em>missing</em></td></tr><tr><th>3</th><td>12447</td><td>Los Angeles</td><td>California</td><td>2</td><td>1446</td><td>1705</td></tr><tr><th>4</th><td>39051</td><td>Houston</td><td>Texas</td><td>3</td><td>2926</td><td>3121</td></tr><tr><th>5</th><td>17426</td><td>Chicago</td><td>Illinois</td><td>4</td><td>2910</td><td>3022</td></tr><tr><th>6</th><td>6915</td><td>San Antonio</td><td>Texas</td><td>5</td><td>1479</td><td>1529</td></tr><tr><th>7</th><td>13271</td><td>Philadelphia</td><td>Pennsylvania</td><td>6</td><td>1609</td><td>1795</td></tr><tr><th>8</th><td>40326</td><td>Phoenix</td><td>Arizona</td><td>7</td><td>1310</td><td>1519</td></tr><tr><th>9</th><td>18959</td><td>Las Vegas</td><td>Nevada</td><td>8</td><td>1618</td><td>1856</td></tr><tr><th>10</th><td>54296</td><td>San Diego</td><td>California</td><td>9</td><td>772</td><td>1057</td></tr><tr><th>11</th><td>38128</td><td>Dallas</td><td>Texas</td><td>10</td><td>1158</td><td>1232</td></tr><tr><th>12</th><td>10221</td><td>Austin</td><td>Texas</td><td>11</td><td>997</td><td>1140</td></tr><tr><th>13</th><td>33839</td><td>San Jose</td><td>California</td><td>12</td><td>455</td><td>555</td></tr><tr><th>14</th><td>25290</td><td>Jacksonville</td><td>Florida</td><td>13</td><td>613</td><td>730</td></tr><tr><th>15</th><td>32149</td><td>Indianapolis</td><td>Indiana</td><td>14</td><td><em>missing</em></td><td><em>missing</em></td></tr><tr><th>16</th><td>20330</td><td>San Francisco</td><td>California</td><td>15</td><td>419</td><td>485</td></tr><tr><th>17</th><td>24043</td><td>Charlotte</td><td>North Carolina</td><td>16</td><td>1101</td><td>1201</td></tr><tr><th>18</th><td>18172</td><td>Fort Worth</td><td>Texas</td><td>17</td><td>862</td><td>1130</td></tr><tr><th>19</th><td>7481</td><td>Tucson</td><td>Arizona</td><td>18</td><td>737</td><td>841</td></tr><tr><th>20</th><td>10920</td><td>Columbus</td><td>Ohio</td><td>19</td><td>832</td><td>975</td></tr><tr><th>21</th><td>12455</td><td>Louisville</td><td>Kentucky</td><td>20</td><td>881</td><td>1017</td></tr><tr><th>22</th><td>13121</td><td>Orlando</td><td>Florida</td><td>21</td><td>550</td><td>507</td></tr><tr><th>23</th><td>17933</td><td>El Paso</td><td>Texas</td><td>22</td><td><em>missing</em></td><td><em>missing</em></td></tr><tr><th>24</th><td>17762</td><td>Detroit</td><td>Michigan</td><td>23</td><td><em>missing</em></td><td><em>missing</em></td></tr><tr><th>25</th><td>11093</td><td>Denver</td><td>Colorado</td><td>24</td><td>975</td><td>1076</td></tr><tr><th>26</th><td>16037</td><td>Seattle</td><td>Washington</td><td>25</td><td>615</td><td>641</td></tr><tr><th>27</th><td>32811</td><td>Memphis</td><td>Tennessee</td><td>26</td><td>872</td><td>802</td></tr><tr><th>28</th><td>44269</td><td>Boston</td><td>Massachusetts</td><td>27</td><td><em>missing</em></td><td><em>missing</em></td></tr><tr><th>29</th><td>41568</td><td>Washington</td><td>District of Columbia</td><td>28</td><td>479</td><td>429</td></tr><tr><th>30</th><td>13373</td><td>Portland</td><td>Oregon</td><td>29</td><td>787</td><td>745</td></tr><tr><th>&vellip;</th><td>&vellip;</td><td>&vellip;</td><td>&vellip;</td><td>&vellip;</td><td>&vellip;</td><td>&vellip;</td></tr></tbody></table>"
      ],
      "text/latex": [
       "\\begin{tabular}{r|cccccc}\n",
       "\t& RegionID & RegionName & StateName & SizeRank & 2008-03 & 2008-04\\\\\n",
       "\t\\hline\n",
       "\t& Any & Any & Any & Any & Any & Any\\\\\n",
       "\t\\hline\n",
       "\t1 & RegionID & RegionName & StateName & SizeRank & 2008-03 & 2008-04 \\\\\n",
       "\t2 & 6181 & New York & New York & 1 & \\emph{missing} & \\emph{missing} \\\\\n",
       "\t3 & 12447 & Los Angeles & California & 2 & 1446 & 1705 \\\\\n",
       "\t4 & 39051 & Houston & Texas & 3 & 2926 & 3121 \\\\\n",
       "\t5 & 17426 & Chicago & Illinois & 4 & 2910 & 3022 \\\\\n",
       "\t6 & 6915 & San Antonio & Texas & 5 & 1479 & 1529 \\\\\n",
       "\t7 & 13271 & Philadelphia & Pennsylvania & 6 & 1609 & 1795 \\\\\n",
       "\t8 & 40326 & Phoenix & Arizona & 7 & 1310 & 1519 \\\\\n",
       "\t9 & 18959 & Las Vegas & Nevada & 8 & 1618 & 1856 \\\\\n",
       "\t10 & 54296 & San Diego & California & 9 & 772 & 1057 \\\\\n",
       "\t11 & 38128 & Dallas & Texas & 10 & 1158 & 1232 \\\\\n",
       "\t12 & 10221 & Austin & Texas & 11 & 997 & 1140 \\\\\n",
       "\t13 & 33839 & San Jose & California & 12 & 455 & 555 \\\\\n",
       "\t14 & 25290 & Jacksonville & Florida & 13 & 613 & 730 \\\\\n",
       "\t15 & 32149 & Indianapolis & Indiana & 14 & \\emph{missing} & \\emph{missing} \\\\\n",
       "\t16 & 20330 & San Francisco & California & 15 & 419 & 485 \\\\\n",
       "\t17 & 24043 & Charlotte & North Carolina & 16 & 1101 & 1201 \\\\\n",
       "\t18 & 18172 & Fort Worth & Texas & 17 & 862 & 1130 \\\\\n",
       "\t19 & 7481 & Tucson & Arizona & 18 & 737 & 841 \\\\\n",
       "\t20 & 10920 & Columbus & Ohio & 19 & 832 & 975 \\\\\n",
       "\t21 & 12455 & Louisville & Kentucky & 20 & 881 & 1017 \\\\\n",
       "\t22 & 13121 & Orlando & Florida & 21 & 550 & 507 \\\\\n",
       "\t23 & 17933 & El Paso & Texas & 22 & \\emph{missing} & \\emph{missing} \\\\\n",
       "\t24 & 17762 & Detroit & Michigan & 23 & \\emph{missing} & \\emph{missing} \\\\\n",
       "\t25 & 11093 & Denver & Colorado & 24 & 975 & 1076 \\\\\n",
       "\t26 & 16037 & Seattle & Washington & 25 & 615 & 641 \\\\\n",
       "\t27 & 32811 & Memphis & Tennessee & 26 & 872 & 802 \\\\\n",
       "\t28 & 44269 & Boston & Massachusetts & 27 & \\emph{missing} & \\emph{missing} \\\\\n",
       "\t29 & 41568 & Washington & District of Columbia & 28 & 479 & 429 \\\\\n",
       "\t30 & 13373 & Portland & Oregon & 29 & 787 & 745 \\\\\n",
       "\t$\\dots$ & $\\dots$ & $\\dots$ & $\\dots$ & $\\dots$ & $\\dots$ & $\\dots$ \\\\\n",
       "\\end{tabular}\n"
      ],
      "text/plain": [
       "\u001b[1m28765×6 DataFrame\u001b[0m\n",
       "\u001b[1m   Row \u001b[0m│\u001b[1m RegionID \u001b[0m\u001b[1m RegionName                 \u001b[0m\u001b[1m StateName    \u001b[0m\u001b[1m SizeRank \u001b[0m\u001b[1m 2008-03\u001b[0m ⋯\n",
       "\u001b[1m       \u001b[0m│\u001b[90m Any      \u001b[0m\u001b[90m Any                        \u001b[0m\u001b[90m Any          \u001b[0m\u001b[90m Any      \u001b[0m\u001b[90m Any    \u001b[0m ⋯\n",
       "───────┼────────────────────────────────────────────────────────────────────────\n",
       "     1 │ RegionID  RegionName                  StateName     SizeRank  2008-03 ⋯\n",
       "     2 │ 6181      New York                    New York      1        \u001b[90m missing\u001b[0m\n",
       "     3 │ 12447     Los Angeles                 California    2         1446\n",
       "     4 │ 39051     Houston                     Texas         3         2926\n",
       "     5 │ 17426     Chicago                     Illinois      4         2910    ⋯\n",
       "     6 │ 6915      San Antonio                 Texas         5         1479\n",
       "     7 │ 13271     Philadelphia                Pennsylvania  6         1609\n",
       "     8 │ 40326     Phoenix                     Arizona       7         1310\n",
       "     9 │ 18959     Las Vegas                   Nevada        8         1618    ⋯\n",
       "    10 │ 54296     San Diego                   California    9         772\n",
       "    11 │ 38128     Dallas                      Texas         10        1158\n",
       "   ⋮   │    ⋮                  ⋮                    ⋮           ⋮         ⋮    ⋱\n",
       " 28756 │ 398712    Bowdoin College Grant West  Maine         28755     0\n",
       " 28757 │ 398716    Summerset                   South Dakota  28756     0       ⋯\n",
       " 28758 │ 399081    Long Pond                   Maine         28757     0\n",
       " 28759 │ 737789    Hideout                     Utah          28758     1\n",
       " 28760 │ 760882    Ebeemee                     Maine         28759     0\n",
       " 28761 │\u001b[90m missing  \u001b[0m\u001b[90m missing                    \u001b[0m\u001b[90m missing      \u001b[0m\u001b[90m missing  \u001b[0m\u001b[90m missing\u001b[0m ⋯\n",
       " 28762 │\u001b[90m missing  \u001b[0m\u001b[90m missing                    \u001b[0m\u001b[90m missing      \u001b[0m\u001b[90m missing  \u001b[0m\u001b[90m missing\u001b[0m\n",
       " 28763 │\u001b[90m missing  \u001b[0m\u001b[90m missing                    \u001b[0m\u001b[90m missing      \u001b[0m\u001b[90m missing  \u001b[0m\u001b[90m missing\u001b[0m\n",
       " 28764 │\u001b[90m missing  \u001b[0m\u001b[90m missing                    \u001b[0m\u001b[90m missing      \u001b[0m\u001b[90m missing  \u001b[0m\u001b[90m missing\u001b[0m\n",
       " 28765 │\u001b[90m missing  \u001b[0m\u001b[90m missing                    \u001b[0m\u001b[90m missing      \u001b[0m\u001b[90m missing  \u001b[0m\u001b[90m missing\u001b[0m ⋯\n",
       "\u001b[36m                                                 1 column and 28744 rows omitted\u001b[0m"
      ]
     },
     "execution_count": 26,
     "metadata": {},
     "output_type": "execute_result"
    }
   ],
   "source": [
    "DataFrame(T1,[x for x in T1[1,:]])"
   ]
  },
  {
   "cell_type": "code",
   "execution_count": 63,
   "metadata": {},
   "outputs": [
    {
     "data": {
      "text/plain": [
       "28760×148 Matrix{Any}:\n",
       "       \"RegionID\"  …      \"2020-01\"      \"2020-02\"\n",
       "   6181               4306           4054\n",
       "  12447               2006           1522\n",
       "  39051               2407           2682\n",
       "  17426               2240           2100\n",
       "   6915            …  1460           1626\n",
       "  13271               2381           1620\n",
       "  40326               2226           2325\n",
       "  18959               2512           2547\n",
       "  54296               1020               missing\n",
       "  38128            …  1056           1292\n",
       "  10221                759           1023\n",
       "  33839                409            439\n",
       "      ⋮            ⋱                 \n",
       " 396704                   missing        missing\n",
       " 396947                   missing        missing\n",
       " 396952            …     0               missing\n",
       " 397236                   missing        missing\n",
       " 398030                  0               missing\n",
       " 398104                  0               missing\n",
       " 398357                  0               missing\n",
       " 398712            …      missing        missing\n",
       " 398716                  1              2\n",
       " 399081                  0              0\n",
       " 737789                   missing        missing\n",
       " 760882                  1              0"
      ]
     },
     "execution_count": 63,
     "metadata": {},
     "output_type": "execute_result"
    }
   ],
   "source": [
    "G = XLSX.readdata(\"../data/zillow_data_download_april2020.xlsx\",\"Sale_counts_city\",\"A1:ER28760\")"
   ]
  },
  {
   "cell_type": "code",
   "execution_count": 52,
   "metadata": {},
   "outputs": [
    {
     "data": {
      "text/plain": [
       "28760×5 Matrix{Any}:\n",
       "       \"RegionID\"  …       \"SizeRank\"      \"2008-03\"\n",
       "   6181                   1                missing\n",
       "  12447                   2            1446\n",
       "  39051                   3            2926\n",
       "  17426                   4            2910\n",
       "   6915            …      5            1479\n",
       "  13271                   6            1609\n",
       "  40326                   7            1310\n",
       "  18959                   8            1618\n",
       "  54296                   9             772\n",
       "  38128            …     10            1158\n",
       "  10221                  11             997\n",
       "  33839                  12             455\n",
       "      ⋮            ⋱                   \n",
       " 396704               28748               0\n",
       " 396947               28749               0\n",
       " 396952            …  28750               0\n",
       " 397236               28751               0\n",
       " 398030               28752               0\n",
       " 398104               28753               0\n",
       " 398357               28754               0\n",
       " 398712            …  28755               0\n",
       " 398716               28756               0\n",
       " 399081               28757               0\n",
       " 737789               28758               1\n",
       " 760882               28759               0"
      ]
     },
     "execution_count": 52,
     "metadata": {},
     "output_type": "execute_result"
    }
   ],
   "source": [
    "G[:,1:5]"
   ]
  },
  {
   "cell_type": "code",
   "execution_count": 53,
   "metadata": {},
   "outputs": [
    {
     "data": {
      "text/plain": [
       "5×148 Matrix{Any}:\n",
       "      \"RegionID\"  \"RegionName\"   …      \"2020-01\"      \"2020-02\"\n",
       "  6181            \"New York\"        4306           4054\n",
       " 12447            \"Los Angeles\"     2006           1522\n",
       " 39051            \"Houston\"         2407           2682\n",
       " 17426            \"Chicago\"         2240           2100"
      ]
     },
     "execution_count": 53,
     "metadata": {},
     "output_type": "execute_result"
    }
   ],
   "source": [
    "G[1:5,:]"
   ]
  },
  {
   "cell_type": "code",
   "execution_count": 54,
   "metadata": {},
   "outputs": [
    {
     "data": {
      "text/plain": [
       "1×10 Matrix{Any}:\n",
       " \"RegionID\"  \"RegionName\"  \"StateName\"  …  \"2008-06\"  \"2008-07\"  \"2008-08\""
      ]
     },
     "execution_count": 54,
     "metadata": {},
     "output_type": "execute_result"
    }
   ],
   "source": [
    "G[1:1,1:10]"
   ]
  },
  {
   "cell_type": "code",
   "execution_count": 55,
   "metadata": {},
   "outputs": [
    {
     "name": "stdout",
     "output_type": "stream",
     "text": [
      "RegionID\n",
      "RegionName\n",
      "StateName\n",
      "SizeRank\n",
      "2008-03\n",
      "2008-04\n",
      "2008-05\n",
      "2008-06\n",
      "2008-07\n",
      "2008-08\n",
      "2008-09\n",
      "2008-10\n",
      "2008-11\n",
      "2008-12\n",
      "2009-01\n",
      "2009-02\n",
      "2009-03\n",
      "2009-04\n",
      "2009-05\n",
      "2009-06\n",
      "2009-07\n",
      "2009-08\n",
      "2009-09\n",
      "2009-10\n",
      "2009-11\n",
      "2009-12\n",
      "2010-01\n",
      "2010-02\n",
      "2010-03\n",
      "2010-04\n",
      "2010-05\n",
      "2010-06\n",
      "2010-07\n",
      "2010-08\n",
      "2010-09\n",
      "2010-10\n",
      "2010-11\n",
      "2010-12\n",
      "2011-01\n",
      "2011-02\n",
      "2011-03\n",
      "2011-04\n",
      "2011-05\n",
      "2011-06\n",
      "2011-07\n",
      "2011-08\n",
      "2011-09\n",
      "2011-10\n",
      "2011-11\n",
      "2011-12\n",
      "2012-01\n",
      "2012-02\n",
      "2012-03\n",
      "2012-04\n",
      "2012-05\n",
      "2012-06\n",
      "2012-07\n",
      "2012-08\n",
      "2012-09\n",
      "2012-10\n",
      "2012-11\n",
      "2012-12\n",
      "2013-01\n",
      "2013-02\n",
      "2013-03\n",
      "2013-04\n",
      "2013-05\n",
      "2013-06\n",
      "2013-07\n",
      "2013-08\n",
      "2013-09\n",
      "2013-10\n",
      "2013-11\n",
      "2013-12\n",
      "2014-01\n",
      "2014-02\n",
      "2014-03\n",
      "2014-04\n",
      "2014-05\n",
      "2014-06\n",
      "2014-07\n",
      "2014-08\n",
      "2014-09\n",
      "2014-10\n",
      "2014-11\n",
      "2014-12\n",
      "2015-01\n",
      "2015-02\n",
      "2015-03\n",
      "2015-04\n",
      "2015-05\n",
      "2015-06\n",
      "2015-07\n",
      "2015-08\n",
      "2015-09\n",
      "2015-10\n",
      "2015-11\n",
      "2015-12\n",
      "2016-01\n",
      "2016-02\n",
      "2016-03\n",
      "2016-04\n",
      "2016-05\n",
      "2016-06\n",
      "2016-07\n",
      "2016-08\n",
      "2016-09\n",
      "2016-10\n",
      "2016-11\n",
      "2016-12\n",
      "2017-01\n",
      "2017-02\n",
      "2017-03\n",
      "2017-04\n",
      "2017-05\n",
      "2017-06\n",
      "2017-07\n",
      "2017-08\n",
      "2017-09\n",
      "2017-10\n",
      "2017-11\n",
      "2017-12\n",
      "2018-01\n",
      "2018-02\n",
      "2018-03\n",
      "2018-04\n",
      "2018-05\n",
      "2018-06\n",
      "2018-07\n",
      "2018-08\n",
      "2018-09\n",
      "2018-10\n",
      "2018-11\n",
      "2018-12\n",
      "2019-01\n",
      "2019-02\n",
      "2019-03\n",
      "2019-04\n",
      "2019-05\n",
      "2019-06\n",
      "2019-07\n",
      "2019-08\n",
      "2019-09\n",
      "2019-10\n",
      "2019-11\n",
      "2019-12\n",
      "2020-01\n",
      "2020-02\n"
     ]
    }
   ],
   "source": [
    "for x in G[1:1,:]\n",
    "    println(x)\n",
    "end"
   ]
  },
  {
   "cell_type": "code",
   "execution_count": 59,
   "metadata": {},
   "outputs": [
    {
     "data": {
      "text/plain": [
       "28760-element Vector{Any}:\n",
       "       \"RegionID\"\n",
       "   6181\n",
       "  12447\n",
       "  39051\n",
       "  17426\n",
       "   6915\n",
       "  13271\n",
       "  40326\n",
       "  18959\n",
       "  54296\n",
       "  38128\n",
       "  10221\n",
       "  33839\n",
       "      ⋮\n",
       " 396704\n",
       " 396947\n",
       " 396952\n",
       " 397236\n",
       " 398030\n",
       " 398104\n",
       " 398357\n",
       " 398712\n",
       " 398716\n",
       " 399081\n",
       " 737789\n",
       " 760882"
      ]
     },
     "execution_count": 59,
     "metadata": {},
     "output_type": "execute_result"
    }
   ],
   "source": [
    "G[:,1]"
   ]
  },
  {
   "cell_type": "code",
   "execution_count": 60,
   "metadata": {},
   "outputs": [
    {
     "data": {
      "text/plain": [
       "28760-element Vector{Any}:\n",
       " \"RegionName\"\n",
       " \"New York\"\n",
       " \"Los Angeles\"\n",
       " \"Houston\"\n",
       " \"Chicago\"\n",
       " \"San Antonio\"\n",
       " \"Philadelphia\"\n",
       " \"Phoenix\"\n",
       " \"Las Vegas\"\n",
       " \"San Diego\"\n",
       " \"Dallas\"\n",
       " \"Austin\"\n",
       " \"San Jose\"\n",
       " ⋮\n",
       " \"Bowers\"\n",
       " \"Beaver Cove Plantation\"\n",
       " \"Barnard Plantation\"\n",
       " \"Windsor Place\"\n",
       " \"Stockbridge\"\n",
       " \"Mattamiscontis\"\n",
       " \"Chase Stream\"\n",
       " \"Bowdoin College Grant West\"\n",
       " \"Summerset\"\n",
       " \"Long Pond\"\n",
       " \"Hideout\"\n",
       " \"Ebeemee\""
      ]
     },
     "execution_count": 60,
     "metadata": {},
     "output_type": "execute_result"
    }
   ],
   "source": [
    "G[:,2]"
   ]
  },
  {
   "cell_type": "code",
   "execution_count": 62,
   "metadata": {},
   "outputs": [
    {
     "ename": "LoadError",
     "evalue": "SYSTEM: show(lasterr) caused an error",
     "output_type": "error",
     "traceback": [
      "SYSTEM: show(lasterr) caused an error",
      "",
      "Stacktrace:",
      " [1] top-level scope",
      "   @ In[62]:1",
      " [2] eval",
      "   @ ./boot.jl:360 [inlined]",
      " [3] include_string(mapexpr::typeof(REPL.softscope), mod::Module, code::String, filename::String)",
      "   @ Base ./loading.jl:1094"
     ]
    }
   ],
   "source": [
    "D = DataFrame(G...)"
   ]
  },
  {
   "cell_type": "code",
   "execution_count": 70,
   "metadata": {},
   "outputs": [
    {
     "data": {
      "text/html": [
       "<table class=\"data-frame\"><thead><tr><th></th><th>item</th><th>price</th></tr><tr><th></th><th>String</th><th>Float64</th></tr></thead><tbody><p>4 rows × 2 columns</p><tr><th>1</th><td>apple</td><td>0.85</td></tr><tr><th>2</th><td>cucumber</td><td>1.6</td></tr><tr><th>3</th><td>tomato</td><td>0.8</td></tr><tr><th>4</th><td>banana</td><td>0.6</td></tr></tbody></table>"
      ],
      "text/latex": [
       "\\begin{tabular}{r|cc}\n",
       "\t& item & price\\\\\n",
       "\t\\hline\n",
       "\t& String & Float64\\\\\n",
       "\t\\hline\n",
       "\t1 & apple & 0.85 \\\\\n",
       "\t2 & cucumber & 1.6 \\\\\n",
       "\t3 & tomato & 0.8 \\\\\n",
       "\t4 & banana & 0.6 \\\\\n",
       "\\end{tabular}\n"
      ],
      "text/plain": [
       "\u001b[1m4×2 DataFrame\u001b[0m\n",
       "\u001b[1m Row \u001b[0m│\u001b[1m item     \u001b[0m\u001b[1m price   \u001b[0m\n",
       "\u001b[1m     \u001b[0m│\u001b[90m String   \u001b[0m\u001b[90m Float64 \u001b[0m\n",
       "─────┼───────────────────\n",
       "   1 │ apple        0.85\n",
       "   2 │ cucumber     1.6\n",
       "   3 │ tomato       0.8\n",
       "   4 │ banana       0.6"
      ]
     },
     "execution_count": 70,
     "metadata": {},
     "output_type": "execute_result"
    }
   ],
   "source": [
    "foods = [\"apple\", \"cucumber\", \"tomato\", \"banana\"]\n",
    "calories = [105,47,22,105]\n",
    "prices = [0.85,1.6,0.8,0.6,]\n",
    "dataframe_calories = DataFrame(item=foods,calories=calories)\n",
    "dataframe_prices = DataFrame(item=foods,price=prices)"
   ]
  },
  {
   "cell_type": "code",
   "execution_count": 71,
   "metadata": {},
   "outputs": [
    {
     "data": {
      "text/html": [
       "<table class=\"data-frame\"><thead><tr><th></th><th>item</th><th>calories</th><th>price</th></tr><tr><th></th><th>String</th><th>Int64</th><th>Float64</th></tr></thead><tbody><p>4 rows × 3 columns</p><tr><th>1</th><td>apple</td><td>105</td><td>0.85</td></tr><tr><th>2</th><td>cucumber</td><td>47</td><td>1.6</td></tr><tr><th>3</th><td>tomato</td><td>22</td><td>0.8</td></tr><tr><th>4</th><td>banana</td><td>105</td><td>0.6</td></tr></tbody></table>"
      ],
      "text/latex": [
       "\\begin{tabular}{r|ccc}\n",
       "\t& item & calories & price\\\\\n",
       "\t\\hline\n",
       "\t& String & Int64 & Float64\\\\\n",
       "\t\\hline\n",
       "\t1 & apple & 105 & 0.85 \\\\\n",
       "\t2 & cucumber & 47 & 1.6 \\\\\n",
       "\t3 & tomato & 22 & 0.8 \\\\\n",
       "\t4 & banana & 105 & 0.6 \\\\\n",
       "\\end{tabular}\n"
      ],
      "text/plain": [
       "\u001b[1m4×3 DataFrame\u001b[0m\n",
       "\u001b[1m Row \u001b[0m│\u001b[1m item     \u001b[0m\u001b[1m calories \u001b[0m\u001b[1m price   \u001b[0m\n",
       "\u001b[1m     \u001b[0m│\u001b[90m String   \u001b[0m\u001b[90m Int64    \u001b[0m\u001b[90m Float64 \u001b[0m\n",
       "─────┼─────────────────────────────\n",
       "   1 │ apple          105     0.85\n",
       "   2 │ cucumber        47     1.6\n",
       "   3 │ tomato          22     0.8\n",
       "   4 │ banana         105     0.6"
      ]
     },
     "execution_count": 71,
     "metadata": {},
     "output_type": "execute_result"
    }
   ],
   "source": [
    "DF = innerjoin(dataframe_calories,dataframe_prices,on=:item)"
   ]
  },
  {
   "cell_type": "code",
   "execution_count": 72,
   "metadata": {},
   "outputs": [
    {
     "data": {
      "text/plain": [
       "Matrix{Any} (alias for Array{Any, 2})"
      ]
     },
     "execution_count": 72,
     "metadata": {},
     "output_type": "execute_result"
    }
   ],
   "source": [
    "typeof(G)"
   ]
  },
  {
   "cell_type": "code",
   "execution_count": 74,
   "metadata": {},
   "outputs": [
    {
     "data": {
      "text/html": [
       "<table class=\"data-frame\"><thead><tr><th></th><th>RegionID</th><th>RegionName</th><th>StateName</th><th>SizeRank</th><th>2008-03</th><th>2008-04</th><th>2008-05</th></tr><tr><th></th><th>Any</th><th>Any</th><th>Any</th><th>Any</th><th>Any</th><th>Any</th><th>Any</th></tr></thead><tbody><p>28,760 rows × 148 columns (omitted printing of 141 columns)</p><tr><th>1</th><td>RegionID</td><td>RegionName</td><td>StateName</td><td>SizeRank</td><td>2008-03</td><td>2008-04</td><td>2008-05</td></tr><tr><th>2</th><td>6181</td><td>New York</td><td>New York</td><td>1</td><td><em>missing</em></td><td><em>missing</em></td><td><em>missing</em></td></tr><tr><th>3</th><td>12447</td><td>Los Angeles</td><td>California</td><td>2</td><td>1446</td><td>1705</td><td>1795</td></tr><tr><th>4</th><td>39051</td><td>Houston</td><td>Texas</td><td>3</td><td>2926</td><td>3121</td><td>3220</td></tr><tr><th>5</th><td>17426</td><td>Chicago</td><td>Illinois</td><td>4</td><td>2910</td><td>3022</td><td>2937</td></tr><tr><th>6</th><td>6915</td><td>San Antonio</td><td>Texas</td><td>5</td><td>1479</td><td>1529</td><td>1582</td></tr><tr><th>7</th><td>13271</td><td>Philadelphia</td><td>Pennsylvania</td><td>6</td><td>1609</td><td>1795</td><td>1709</td></tr><tr><th>8</th><td>40326</td><td>Phoenix</td><td>Arizona</td><td>7</td><td>1310</td><td>1519</td><td>1654</td></tr><tr><th>9</th><td>18959</td><td>Las Vegas</td><td>Nevada</td><td>8</td><td>1618</td><td>1856</td><td>1961</td></tr><tr><th>10</th><td>54296</td><td>San Diego</td><td>California</td><td>9</td><td>772</td><td>1057</td><td>1195</td></tr><tr><th>11</th><td>38128</td><td>Dallas</td><td>Texas</td><td>10</td><td>1158</td><td>1232</td><td>1240</td></tr><tr><th>12</th><td>10221</td><td>Austin</td><td>Texas</td><td>11</td><td>997</td><td>1140</td><td>1168</td></tr><tr><th>13</th><td>33839</td><td>San Jose</td><td>California</td><td>12</td><td>455</td><td>555</td><td>583</td></tr><tr><th>14</th><td>25290</td><td>Jacksonville</td><td>Florida</td><td>13</td><td>613</td><td>730</td><td>738</td></tr><tr><th>15</th><td>32149</td><td>Indianapolis</td><td>Indiana</td><td>14</td><td><em>missing</em></td><td><em>missing</em></td><td><em>missing</em></td></tr><tr><th>16</th><td>20330</td><td>San Francisco</td><td>California</td><td>15</td><td>419</td><td>485</td><td>553</td></tr><tr><th>17</th><td>24043</td><td>Charlotte</td><td>North Carolina</td><td>16</td><td>1101</td><td>1201</td><td>1380</td></tr><tr><th>18</th><td>18172</td><td>Fort Worth</td><td>Texas</td><td>17</td><td>862</td><td>1130</td><td>1000</td></tr><tr><th>19</th><td>7481</td><td>Tucson</td><td>Arizona</td><td>18</td><td>737</td><td>841</td><td>842</td></tr><tr><th>20</th><td>10920</td><td>Columbus</td><td>Ohio</td><td>19</td><td>832</td><td>975</td><td>939</td></tr><tr><th>21</th><td>12455</td><td>Louisville</td><td>Kentucky</td><td>20</td><td>881</td><td>1017</td><td>967</td></tr><tr><th>22</th><td>13121</td><td>Orlando</td><td>Florida</td><td>21</td><td>550</td><td>507</td><td>489</td></tr><tr><th>23</th><td>17933</td><td>El Paso</td><td>Texas</td><td>22</td><td><em>missing</em></td><td><em>missing</em></td><td><em>missing</em></td></tr><tr><th>24</th><td>17762</td><td>Detroit</td><td>Michigan</td><td>23</td><td><em>missing</em></td><td><em>missing</em></td><td><em>missing</em></td></tr><tr><th>25</th><td>11093</td><td>Denver</td><td>Colorado</td><td>24</td><td>975</td><td>1076</td><td>1241</td></tr><tr><th>26</th><td>16037</td><td>Seattle</td><td>Washington</td><td>25</td><td>615</td><td>641</td><td>689</td></tr><tr><th>27</th><td>32811</td><td>Memphis</td><td>Tennessee</td><td>26</td><td>872</td><td>802</td><td>775</td></tr><tr><th>28</th><td>44269</td><td>Boston</td><td>Massachusetts</td><td>27</td><td><em>missing</em></td><td><em>missing</em></td><td><em>missing</em></td></tr><tr><th>29</th><td>41568</td><td>Washington</td><td>District of Columbia</td><td>28</td><td>479</td><td>429</td><td>503</td></tr><tr><th>30</th><td>13373</td><td>Portland</td><td>Oregon</td><td>29</td><td>787</td><td>745</td><td>926</td></tr><tr><th>&vellip;</th><td>&vellip;</td><td>&vellip;</td><td>&vellip;</td><td>&vellip;</td><td>&vellip;</td><td>&vellip;</td><td>&vellip;</td></tr></tbody></table>"
      ],
      "text/latex": [
       "\\begin{tabular}{r|cccccccc}\n",
       "\t& RegionID & RegionName & StateName & SizeRank & 2008-03 & 2008-04 & 2008-05 & \\\\\n",
       "\t\\hline\n",
       "\t& Any & Any & Any & Any & Any & Any & Any & \\\\\n",
       "\t\\hline\n",
       "\t1 & RegionID & RegionName & StateName & SizeRank & 2008-03 & 2008-04 & 2008-05 & $\\dots$ \\\\\n",
       "\t2 & 6181 & New York & New York & 1 & \\emph{missing} & \\emph{missing} & \\emph{missing} & $\\dots$ \\\\\n",
       "\t3 & 12447 & Los Angeles & California & 2 & 1446 & 1705 & 1795 & $\\dots$ \\\\\n",
       "\t4 & 39051 & Houston & Texas & 3 & 2926 & 3121 & 3220 & $\\dots$ \\\\\n",
       "\t5 & 17426 & Chicago & Illinois & 4 & 2910 & 3022 & 2937 & $\\dots$ \\\\\n",
       "\t6 & 6915 & San Antonio & Texas & 5 & 1479 & 1529 & 1582 & $\\dots$ \\\\\n",
       "\t7 & 13271 & Philadelphia & Pennsylvania & 6 & 1609 & 1795 & 1709 & $\\dots$ \\\\\n",
       "\t8 & 40326 & Phoenix & Arizona & 7 & 1310 & 1519 & 1654 & $\\dots$ \\\\\n",
       "\t9 & 18959 & Las Vegas & Nevada & 8 & 1618 & 1856 & 1961 & $\\dots$ \\\\\n",
       "\t10 & 54296 & San Diego & California & 9 & 772 & 1057 & 1195 & $\\dots$ \\\\\n",
       "\t11 & 38128 & Dallas & Texas & 10 & 1158 & 1232 & 1240 & $\\dots$ \\\\\n",
       "\t12 & 10221 & Austin & Texas & 11 & 997 & 1140 & 1168 & $\\dots$ \\\\\n",
       "\t13 & 33839 & San Jose & California & 12 & 455 & 555 & 583 & $\\dots$ \\\\\n",
       "\t14 & 25290 & Jacksonville & Florida & 13 & 613 & 730 & 738 & $\\dots$ \\\\\n",
       "\t15 & 32149 & Indianapolis & Indiana & 14 & \\emph{missing} & \\emph{missing} & \\emph{missing} & $\\dots$ \\\\\n",
       "\t16 & 20330 & San Francisco & California & 15 & 419 & 485 & 553 & $\\dots$ \\\\\n",
       "\t17 & 24043 & Charlotte & North Carolina & 16 & 1101 & 1201 & 1380 & $\\dots$ \\\\\n",
       "\t18 & 18172 & Fort Worth & Texas & 17 & 862 & 1130 & 1000 & $\\dots$ \\\\\n",
       "\t19 & 7481 & Tucson & Arizona & 18 & 737 & 841 & 842 & $\\dots$ \\\\\n",
       "\t20 & 10920 & Columbus & Ohio & 19 & 832 & 975 & 939 & $\\dots$ \\\\\n",
       "\t21 & 12455 & Louisville & Kentucky & 20 & 881 & 1017 & 967 & $\\dots$ \\\\\n",
       "\t22 & 13121 & Orlando & Florida & 21 & 550 & 507 & 489 & $\\dots$ \\\\\n",
       "\t23 & 17933 & El Paso & Texas & 22 & \\emph{missing} & \\emph{missing} & \\emph{missing} & $\\dots$ \\\\\n",
       "\t24 & 17762 & Detroit & Michigan & 23 & \\emph{missing} & \\emph{missing} & \\emph{missing} & $\\dots$ \\\\\n",
       "\t25 & 11093 & Denver & Colorado & 24 & 975 & 1076 & 1241 & $\\dots$ \\\\\n",
       "\t26 & 16037 & Seattle & Washington & 25 & 615 & 641 & 689 & $\\dots$ \\\\\n",
       "\t27 & 32811 & Memphis & Tennessee & 26 & 872 & 802 & 775 & $\\dots$ \\\\\n",
       "\t28 & 44269 & Boston & Massachusetts & 27 & \\emph{missing} & \\emph{missing} & \\emph{missing} & $\\dots$ \\\\\n",
       "\t29 & 41568 & Washington & District of Columbia & 28 & 479 & 429 & 503 & $\\dots$ \\\\\n",
       "\t30 & 13373 & Portland & Oregon & 29 & 787 & 745 & 926 & $\\dots$ \\\\\n",
       "\t$\\dots$ & $\\dots$ & $\\dots$ & $\\dots$ & $\\dots$ & $\\dots$ & $\\dots$ & $\\dots$ &  \\\\\n",
       "\\end{tabular}\n"
      ],
      "text/plain": [
       "\u001b[1m28760×148 DataFrame\u001b[0m\n",
       "\u001b[1m   Row \u001b[0m│\u001b[1m RegionID \u001b[0m\u001b[1m RegionName                 \u001b[0m\u001b[1m StateName     \u001b[0m\u001b[1m SizeRank \u001b[0m\u001b[1m 2008-0\u001b[0m ⋯\n",
       "\u001b[1m       \u001b[0m│\u001b[90m Any      \u001b[0m\u001b[90m Any                        \u001b[0m\u001b[90m Any           \u001b[0m\u001b[90m Any      \u001b[0m\u001b[90m Any   \u001b[0m ⋯\n",
       "───────┼────────────────────────────────────────────────────────────────────────\n",
       "     1 │ RegionID  RegionName                  StateName      SizeRank  2008-0 ⋯\n",
       "     2 │ 6181      New York                    New York       1        \u001b[90m missin\u001b[0m\n",
       "     3 │ 12447     Los Angeles                 California     2         1446\n",
       "     4 │ 39051     Houston                     Texas          3         2926\n",
       "     5 │ 17426     Chicago                     Illinois       4         2910   ⋯\n",
       "     6 │ 6915      San Antonio                 Texas          5         1479\n",
       "     7 │ 13271     Philadelphia                Pennsylvania   6         1609\n",
       "     8 │ 40326     Phoenix                     Arizona        7         1310\n",
       "     9 │ 18959     Las Vegas                   Nevada         8         1618   ⋯\n",
       "    10 │ 54296     San Diego                   California     9         772\n",
       "    11 │ 38128     Dallas                      Texas          10        1158\n",
       "   ⋮   │    ⋮                  ⋮                     ⋮           ⋮         ⋮   ⋱\n",
       " 28751 │ 396952    Barnard Plantation          Maine          28750     0\n",
       " 28752 │ 397236    Windsor Place               Missouri       28751     0      ⋯\n",
       " 28753 │ 398030    Stockbridge                 Wisconsin      28752     0\n",
       " 28754 │ 398104    Mattamiscontis              Maine          28753     0\n",
       " 28755 │ 398357    Chase Stream                Maine          28754     0\n",
       " 28756 │ 398712    Bowdoin College Grant West  Maine          28755     0      ⋯\n",
       " 28757 │ 398716    Summerset                   South Dakota   28756     0\n",
       " 28758 │ 399081    Long Pond                   Maine          28757     0\n",
       " 28759 │ 737789    Hideout                     Utah           28758     1\n",
       " 28760 │ 760882    Ebeemee                     Maine          28759     0      ⋯\n",
       "\u001b[36m                                              144 columns and 28739 rows omitted\u001b[0m"
      ]
     },
     "execution_count": 74,
     "metadata": {},
     "output_type": "execute_result"
    }
   ],
   "source": [
    "GD = DataFrame(G,[x for x in G[1,:]])"
   ]
  },
  {
   "cell_type": "code",
   "execution_count": 76,
   "metadata": {
    "scrolled": true
   },
   "outputs": [
    {
     "data": {
      "text/plain": [
       "DataFrame"
      ]
     },
     "execution_count": 76,
     "metadata": {},
     "output_type": "execute_result"
    }
   ],
   "source": [
    "typeof(GD)"
   ]
  },
  {
   "cell_type": "code",
   "execution_count": 92,
   "metadata": {},
   "outputs": [
    {
     "data": {
      "text/html": [
       "<table class=\"data-frame\"><thead><tr><th></th><th>StateName</th></tr><tr><th></th><th>Any</th></tr></thead><tbody><p>28,760 rows × 1 columns</p><tr><th>1</th><td>StateName</td></tr><tr><th>2</th><td>New York</td></tr><tr><th>3</th><td>New York</td></tr><tr><th>4</th><td>New York</td></tr><tr><th>5</th><td>New York</td></tr><tr><th>6</th><td>New York</td></tr><tr><th>7</th><td>New York</td></tr><tr><th>8</th><td>New York</td></tr><tr><th>9</th><td>New York</td></tr><tr><th>10</th><td>New York</td></tr><tr><th>11</th><td>New York</td></tr><tr><th>12</th><td>New York</td></tr><tr><th>13</th><td>New York</td></tr><tr><th>14</th><td>New York</td></tr><tr><th>15</th><td>New York</td></tr><tr><th>16</th><td>New York</td></tr><tr><th>17</th><td>New York</td></tr><tr><th>18</th><td>New York</td></tr><tr><th>19</th><td>New York</td></tr><tr><th>20</th><td>New York</td></tr><tr><th>21</th><td>New York</td></tr><tr><th>22</th><td>New York</td></tr><tr><th>23</th><td>New York</td></tr><tr><th>24</th><td>New York</td></tr><tr><th>25</th><td>New York</td></tr><tr><th>26</th><td>New York</td></tr><tr><th>27</th><td>New York</td></tr><tr><th>28</th><td>New York</td></tr><tr><th>29</th><td>New York</td></tr><tr><th>30</th><td>New York</td></tr><tr><th>&vellip;</th><td>&vellip;</td></tr></tbody></table>"
      ],
      "text/latex": [
       "\\begin{tabular}{r|c}\n",
       "\t& StateName\\\\\n",
       "\t\\hline\n",
       "\t& Any\\\\\n",
       "\t\\hline\n",
       "\t1 & StateName \\\\\n",
       "\t2 & New York \\\\\n",
       "\t3 & New York \\\\\n",
       "\t4 & New York \\\\\n",
       "\t5 & New York \\\\\n",
       "\t6 & New York \\\\\n",
       "\t7 & New York \\\\\n",
       "\t8 & New York \\\\\n",
       "\t9 & New York \\\\\n",
       "\t10 & New York \\\\\n",
       "\t11 & New York \\\\\n",
       "\t12 & New York \\\\\n",
       "\t13 & New York \\\\\n",
       "\t14 & New York \\\\\n",
       "\t15 & New York \\\\\n",
       "\t16 & New York \\\\\n",
       "\t17 & New York \\\\\n",
       "\t18 & New York \\\\\n",
       "\t19 & New York \\\\\n",
       "\t20 & New York \\\\\n",
       "\t21 & New York \\\\\n",
       "\t22 & New York \\\\\n",
       "\t23 & New York \\\\\n",
       "\t24 & New York \\\\\n",
       "\t25 & New York \\\\\n",
       "\t26 & New York \\\\\n",
       "\t27 & New York \\\\\n",
       "\t28 & New York \\\\\n",
       "\t29 & New York \\\\\n",
       "\t30 & New York \\\\\n",
       "\t$\\dots$ & $\\dots$ \\\\\n",
       "\\end{tabular}\n"
      ],
      "text/plain": [
       "\u001b[1m28760×1 DataFrame\u001b[0m\n",
       "\u001b[1m   Row \u001b[0m│\u001b[1m StateName \u001b[0m\n",
       "\u001b[1m       \u001b[0m│\u001b[90m Any       \u001b[0m\n",
       "───────┼───────────\n",
       "     1 │ StateName\n",
       "     2 │ New York\n",
       "     3 │ New York\n",
       "     4 │ New York\n",
       "     5 │ New York\n",
       "     6 │ New York\n",
       "     7 │ New York\n",
       "     8 │ New York\n",
       "     9 │ New York\n",
       "    10 │ New York\n",
       "    11 │ New York\n",
       "   ⋮   │     ⋮\n",
       " 28751 │ Vermont\n",
       " 28752 │ Vermont\n",
       " 28753 │ Vermont\n",
       " 28754 │ Vermont\n",
       " 28755 │ Vermont\n",
       " 28756 │ Vermont\n",
       " 28757 │ Vermont\n",
       " 28758 │ Vermont\n",
       " 28759 │ Vermont\n",
       " 28760 │ Vermont\n",
       "\u001b[36m 28739 rows omitted\u001b[0m"
      ]
     },
     "execution_count": 92,
     "metadata": {},
     "output_type": "execute_result"
    }
   ],
   "source": [
    "combine(groupby(GD, :StateName), :StateName)"
   ]
  },
  {
   "cell_type": "code",
   "execution_count": 93,
   "metadata": {},
   "outputs": [
    {
     "data": {
      "text/plain": [
       "Dict{String, Any} with 1 entry:\n",
       "  \"tempdata\" => [2 1446 … 1795 1890; 3 2926 … 3220 3405; 4 2910 … 2937 3224; 5 …"
      ]
     },
     "execution_count": 93,
     "metadata": {},
     "output_type": "execute_result"
    }
   ],
   "source": [
    "using JLD\n",
    "jld_data = JLD.load(\"../data/mytempdata.jld\")"
   ]
  },
  {
   "cell_type": "code",
   "execution_count": 94,
   "metadata": {},
   "outputs": [
    {
     "data": {
      "text/plain": [
       "4×5 Matrix{Int64}:\n",
       " 2  1446  1705  1795  1890\n",
       " 3  2926  3121  3220  3405\n",
       " 4  2910  3022  2937  3224\n",
       " 5  1479  1529  1582  1761"
      ]
     },
     "execution_count": 94,
     "metadata": {},
     "output_type": "execute_result"
    }
   ],
   "source": [
    "using NPZ\n",
    "npz_data = npzread(\"../data/mytempdata.npz\")"
   ]
  },
  {
   "cell_type": "code",
   "execution_count": 95,
   "metadata": {},
   "outputs": [],
   "source": [
    "using RData"
   ]
  },
  {
   "cell_type": "code",
   "execution_count": 96,
   "metadata": {},
   "outputs": [
    {
     "data": {
      "text/plain": [
       "Dict{String, Any} with 1 entry:\n",
       "  \"tempdata\" => Int32[2 1446 … 1795 1890; 3 2926 … 3220 3405; 4 2910 … 2937 322…"
      ]
     },
     "execution_count": 96,
     "metadata": {},
     "output_type": "execute_result"
    }
   ],
   "source": [
    "R_data = RData.load(\"../data/mytempdata.rda\")"
   ]
  },
  {
   "cell_type": "code",
   "execution_count": 101,
   "metadata": {},
   "outputs": [
    {
     "name": "stderr",
     "output_type": "stream",
     "text": [
      "┌ Info: Precompiling RCall [6f49c342-dc21-5d91-9882-a32aef131414]\n",
      "└ @ Base loading.jl:1317\n"
     ]
    },
    {
     "ename": "LoadError",
     "evalue": "BoundsError",
     "output_type": "error",
     "traceback": [
      "BoundsError",
      "",
      "Stacktrace:",
      " [1] getindex",
      "   @ ~/.julia/packages/RCall/3mHXJ/src/methods.jl:530 [inlined]",
      " [2] getindex",
      "   @ ~/.julia/packages/RCall/3mHXJ/src/methods.jl:533 [inlined]",
      " [3] getindex(e::RObject{EnvSxp}, s::Symbol)",
      "   @ RCall ~/.julia/packages/RCall/3mHXJ/src/methods.jl:534",
      " [4] top-level scope",
      "   @ In[101]:2",
      " [5] eval",
      "   @ ./boot.jl:360 [inlined]",
      " [6] include_string(mapexpr::typeof(REPL.softscope), mod::Module, code::String, filename::String)",
      "   @ Base ./loading.jl:1094"
     ]
    }
   ],
   "source": [
    "using RCall\n",
    "@rget R_data"
   ]
  },
  {
   "cell_type": "code",
   "execution_count": 104,
   "metadata": {},
   "outputs": [
    {
     "ename": "LoadError",
     "evalue": "LoadError: Incorrect usage of @rput\nin expression starting at In[104]:1",
     "output_type": "error",
     "traceback": [
      "LoadError: Incorrect usage of @rput\nin expression starting at In[104]:1",
      "",
      "Stacktrace:",
      " [1] error(s::String)",
      "   @ Base ./error.jl:33",
      " [2] var\"@rput\"(__source__::LineNumberNode, __module__::Module, args::Vararg{Any, N} where N)",
      "   @ RCall ~/.julia/packages/RCall/3mHXJ/src/macros.jl:15",
      " [3] eval",
      "   @ ./boot.jl:360 [inlined]",
      " [4] include_string(mapexpr::typeof(REPL.softscope), mod::Module, code::String, filename::String)",
      "   @ Base ./loading.jl:1094"
     ]
    }
   ],
   "source": [
    "@rput \"20\""
   ]
  },
  {
   "cell_type": "code",
   "execution_count": 111,
   "metadata": {},
   "outputs": [],
   "source": [
    "using RCall\n"
   ]
  },
  {
   "cell_type": "code",
   "execution_count": 116,
   "metadata": {},
   "outputs": [
    {
     "data": {
      "text/plain": [
       "1400"
      ]
     },
     "execution_count": 116,
     "metadata": {},
     "output_type": "execute_result"
    }
   ],
   "source": [
    "z =1400\n",
    "@rput z"
   ]
  },
  {
   "cell_type": "code",
   "execution_count": 117,
   "metadata": {},
   "outputs": [
    {
     "data": {
      "text/plain": [
       "1400"
      ]
     },
     "execution_count": 117,
     "metadata": {},
     "output_type": "execute_result"
    }
   ],
   "source": [
    "@rget z"
   ]
  },
  {
   "cell_type": "code",
   "execution_count": 132,
   "metadata": {},
   "outputs": [
    {
     "data": {
      "text/plain": [
       "73×2 Matrix{Any}:\n",
       " 1951  \"Regional Assembly Language\"\n",
       " 1952  \"Autocode\"\n",
       " 1954  \"IPL\"\n",
       " 1955  \"FLOW-MATIC\"\n",
       " 1957  \"FORTRAN\"\n",
       " 1957  \"COMTRAN\"\n",
       " 1958  \"LISP\"\n",
       " 1958  \"ALGOL 58\"\n",
       " 1959  \"FACT\"\n",
       " 1959  \"COBOL\"\n",
       " 1959  \"RPG\"\n",
       " 1962  \"APL\"\n",
       " 1962  \"Simula\"\n",
       "    ⋮  \n",
       " 2003  \"Scala\"\n",
       " 2005  \"F#\"\n",
       " 2006  \"PowerShell\"\n",
       " 2007  \"Clojure\"\n",
       " 2009  \"Go\"\n",
       " 2010  \"Rust\"\n",
       " 2011  \"Dart\"\n",
       " 2011  \"Kotlin\"\n",
       " 2011  \"Red\"\n",
       " 2011  \"Elixir\"\n",
       " 2012  \"Julia\"\n",
       " 2014  \"Swift\""
      ]
     },
     "execution_count": 132,
     "metadata": {},
     "output_type": "execute_result"
    }
   ],
   "source": [
    "P"
   ]
  },
  {
   "cell_type": "code",
   "execution_count": 135,
   "metadata": {},
   "outputs": [
    {
     "data": {
      "text/plain": [
       "2012"
      ]
     },
     "execution_count": 135,
     "metadata": {},
     "output_type": "execute_result"
    }
   ],
   "source": [
    "function year_created(P,language::String)\n",
    "    loc = findfirst(P[:,2] .== language)\n",
    "    return P[loc,1]\n",
    "end\n",
    "\n",
    "year_created(P,\"Julia\")"
   ]
  },
  {
   "cell_type": "code",
   "execution_count": null,
   "metadata": {},
   "outputs": [],
   "source": []
  }
 ],
 "metadata": {
  "kernelspec": {
   "display_name": "Julia 1.6.1",
   "language": "julia",
   "name": "julia-1.6"
  },
  "language_info": {
   "file_extension": ".jl",
   "mimetype": "application/julia",
   "name": "julia",
   "version": "1.6.1"
  }
 },
 "nbformat": 4,
 "nbformat_minor": 4
}
