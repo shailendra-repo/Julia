{
 "cells": [
  {
   "cell_type": "markdown",
   "metadata": {},
   "source": [
    "# More data processing"
   ]
  },
  {
   "cell_type": "code",
   "execution_count": 1,
   "metadata": {},
   "outputs": [],
   "source": [
    "import MLJ: schema, std, mean, median, coerce, coerce!, scitype\n",
    "using DataFrames\n",
    "using UrlDownload\n",
    "using PyPlot"
   ]
  },
  {
   "cell_type": "code",
   "execution_count": 2,
   "metadata": {},
   "outputs": [],
   "source": [
    "raw_data = urldownload(\"https://github.com/tlienart/DataScienceTutorialsData.jl/blob/master/data/wri_global_power_plant_db_be_022020.csv?raw=true\")\n",
    "data = DataFrame(raw_data);"
   ]
  },
  {
   "cell_type": "code",
   "execution_count": 3,
   "metadata": {},
   "outputs": [
    {
     "data": {
      "text/plain": [
       "┌──────────────────────────┬─────────────────────────┬──────────────────────────\n",
       "│\u001b[22m _.names                  \u001b[0m│\u001b[22m _.types                 \u001b[0m│\u001b[22m _.scitypes             \u001b[0m ⋯\n",
       "├──────────────────────────┼─────────────────────────┼──────────────────────────\n",
       "│ country                  │ String                  │ Textual                 ⋯\n",
       "│ country_long             │ String                  │ Textual                 ⋯\n",
       "│ name                     │ String                  │ Textual                 ⋯\n",
       "│ gppd_idnr                │ String                  │ Textual                 ⋯\n",
       "│ capacity_mw              │ Float64                 │ Continuous              ⋯\n",
       "│ latitude                 │ Float64                 │ Continuous              ⋯\n",
       "│ longitude                │ Float64                 │ Continuous              ⋯\n",
       "│ primary_fuel             │ String                  │ Textual                 ⋯\n",
       "│ other_fuel1              │ Union{Missing, String}  │ Union{Missing, Textual} ⋯\n",
       "│ other_fuel2              │ Union{Missing, String}  │ Union{Missing, Textual} ⋯\n",
       "│ other_fuel3              │ Union{Missing, String}  │ Union{Missing, Textual} ⋯\n",
       "│ commissioning_year       │ Union{Missing, Float64} │ Union{Missing, Continuo ⋯\n",
       "│ owner                    │ Union{Missing, String}  │ Union{Missing, Textual} ⋯\n",
       "│ source                   │ Union{Missing, String}  │ Union{Missing, Textual} ⋯\n",
       "│ url                      │ Union{Missing, String}  │ Union{Missing, Textual} ⋯\n",
       "│ geolocation_source       │ Union{Missing, String}  │ Union{Missing, Textual} ⋯\n",
       "│ wepp_id                  │ Union{Missing, String}  │ Union{Missing, Textual} ⋯\n",
       "│ year_of_capacity_data    │ Union{Missing, Int64}   │ Union{Missing, Count}   ⋯\n",
       "│ generation_gwh_2013      │ Union{Missing, Float64} │ Union{Missing, Continuo ⋯\n",
       "│ generation_gwh_2014      │ Union{Missing, Float64} │ Union{Missing, Continuo ⋯\n",
       "│ generation_gwh_2015      │ Union{Missing, Float64} │ Union{Missing, Continuo ⋯\n",
       "│ generation_gwh_2016      │ Union{Missing, Float64} │ Union{Missing, Continuo ⋯\n",
       "│            ⋮             │            ⋮            │             ⋮           ⋱\n",
       "└──────────────────────────┴─────────────────────────┴──────────────────────────\n",
       "\u001b[36m                                                     1 column and 3 rows omitted\u001b[0m\n",
       "_.nrows = 33643\n"
      ]
     },
     "execution_count": 3,
     "metadata": {},
     "output_type": "execute_result"
    }
   ],
   "source": [
    "schema(data)"
   ]
  },
  {
   "cell_type": "code",
   "execution_count": 11,
   "metadata": {},
   "outputs": [
    {
     "data": {
      "text/html": [
       "<table class=\"data-frame\"><thead><tr><th></th><th>country</th><th>primary_fuel</th><th>capacity_mw</th></tr><tr><th></th><th>String</th><th>String</th><th>Float64</th></tr></thead><tbody><p>2 rows × 3 columns</p><tr><th>1</th><td>AFG</td><td>Hydro</td><td>33.0</td></tr><tr><th>2</th><td>AFG</td><td>Solar</td><td>10.0</td></tr></tbody></table>"
      ],
      "text/latex": [
       "\\begin{tabular}{r|ccc}\n",
       "\t& country & primary\\_fuel & capacity\\_mw\\\\\n",
       "\t\\hline\n",
       "\t& String & String & Float64\\\\\n",
       "\t\\hline\n",
       "\t1 & AFG & Hydro & 33.0 \\\\\n",
       "\t2 & AFG & Solar & 10.0 \\\\\n",
       "\\end{tabular}\n"
      ],
      "text/plain": [
       "\u001b[1m2×3 DataFrame\u001b[0m\n",
       "\u001b[1m Row \u001b[0m│\u001b[1m country \u001b[0m\u001b[1m primary_fuel \u001b[0m\u001b[1m capacity_mw \u001b[0m\n",
       "\u001b[1m     \u001b[0m│\u001b[90m String  \u001b[0m\u001b[90m String       \u001b[0m\u001b[90m Float64     \u001b[0m\n",
       "─────┼────────────────────────────────────\n",
       "   1 │ AFG      Hydro                33.0\n",
       "   2 │ AFG      Solar                10.0"
      ]
     },
     "execution_count": 11,
     "metadata": {},
     "output_type": "execute_result"
    }
   ],
   "source": [
    "data[1:2,[:country, :primary_fuel,:capacity_mw]]"
   ]
  },
  {
   "cell_type": "code",
   "execution_count": 16,
   "metadata": {},
   "outputs": [],
   "source": [
    "is_active(col) = !occursin(r\"source|generation\", string(col))\n",
    "active_cols = [col for col in names(data) if is_active(col)]\n",
    "data1 = select(data, active_cols);"
   ]
  },
  {
   "cell_type": "code",
   "execution_count": 18,
   "metadata": {},
   "outputs": [
    {
     "data": {
      "text/plain": [
       "┌───────────────────────┬─────────────────────────┬─────────────────────────────\n",
       "│\u001b[22m _.names               \u001b[0m│\u001b[22m _.types                 \u001b[0m│\u001b[22m _.scitypes                \u001b[0m ⋯\n",
       "├───────────────────────┼─────────────────────────┼─────────────────────────────\n",
       "│ country               │ String                  │ Textual                    ⋯\n",
       "│ country_long          │ String                  │ Textual                    ⋯\n",
       "│ name                  │ String                  │ Textual                    ⋯\n",
       "│ gppd_idnr             │ String                  │ Textual                    ⋯\n",
       "│ capacity_mw           │ Float64                 │ Continuous                 ⋯\n",
       "│ latitude              │ Float64                 │ Continuous                 ⋯\n",
       "│ longitude             │ Float64                 │ Continuous                 ⋯\n",
       "│ primary_fuel          │ String                  │ Textual                    ⋯\n",
       "│ other_fuel1           │ Union{Missing, String}  │ Union{Missing, Textual}    ⋯\n",
       "│ other_fuel2           │ Union{Missing, String}  │ Union{Missing, Textual}    ⋯\n",
       "│ other_fuel3           │ Union{Missing, String}  │ Union{Missing, Textual}    ⋯\n",
       "│ commissioning_year    │ Union{Missing, Float64} │ Union{Missing, Continuous} ⋯\n",
       "│ owner                 │ Union{Missing, String}  │ Union{Missing, Textual}    ⋯\n",
       "│ url                   │ Union{Missing, String}  │ Union{Missing, Textual}    ⋯\n",
       "│ wepp_id               │ Union{Missing, String}  │ Union{Missing, Textual}    ⋯\n",
       "│ year_of_capacity_data │ Union{Missing, Int64}   │ Union{Missing, Count}      ⋯\n",
       "└───────────────────────┴─────────────────────────┴─────────────────────────────\n",
       "_.nrows = 33643\n"
      ]
     },
     "execution_count": 18,
     "metadata": {},
     "output_type": "execute_result"
    }
   ],
   "source": [
    "schema(data1)"
   ]
  },
  {
   "cell_type": "code",
   "execution_count": 19,
   "metadata": {},
   "outputs": [],
   "source": [
    "is_active(col) = !occursin(r\"source|generation\", string(col))\n",
    "active_cols = [col for col in names(data) if is_active(col)]\n",
    "select!(data, active_cols);"
   ]
  },
  {
   "cell_type": "code",
   "execution_count": 20,
   "metadata": {},
   "outputs": [
    {
     "data": {
      "text/plain": [
       "┌───────────────────────┬─────────────────────────┬─────────────────────────────\n",
       "│\u001b[22m _.names               \u001b[0m│\u001b[22m _.types                 \u001b[0m│\u001b[22m _.scitypes                \u001b[0m ⋯\n",
       "├───────────────────────┼─────────────────────────┼─────────────────────────────\n",
       "│ country               │ String                  │ Textual                    ⋯\n",
       "│ country_long          │ String                  │ Textual                    ⋯\n",
       "│ name                  │ String                  │ Textual                    ⋯\n",
       "│ gppd_idnr             │ String                  │ Textual                    ⋯\n",
       "│ capacity_mw           │ Float64                 │ Continuous                 ⋯\n",
       "│ latitude              │ Float64                 │ Continuous                 ⋯\n",
       "│ longitude             │ Float64                 │ Continuous                 ⋯\n",
       "│ primary_fuel          │ String                  │ Textual                    ⋯\n",
       "│ other_fuel1           │ Union{Missing, String}  │ Union{Missing, Textual}    ⋯\n",
       "│ other_fuel2           │ Union{Missing, String}  │ Union{Missing, Textual}    ⋯\n",
       "│ other_fuel3           │ Union{Missing, String}  │ Union{Missing, Textual}    ⋯\n",
       "│ commissioning_year    │ Union{Missing, Float64} │ Union{Missing, Continuous} ⋯\n",
       "│ year_of_capacity_data │ Union{Missing, Int64}   │ Union{Missing, Count}      ⋯\n",
       "└───────────────────────┴─────────────────────────┴─────────────────────────────\n",
       "_.nrows = 33643\n"
      ]
     },
     "execution_count": 20,
     "metadata": {},
     "output_type": "execute_result"
    }
   ],
   "source": [
    "select!(data, Not([:wepp_id, :url, :owner]))\n",
    "schema(data)"
   ]
  },
  {
   "cell_type": "code",
   "execution_count": 21,
   "metadata": {},
   "outputs": [
    {
     "data": {
      "text/html": [
       "<table class=\"data-frame\"><thead><tr><th></th><th>variable</th><th>mean</th><th>min</th><th>median</th><th>max</th><th>nmissing</th></tr><tr><th></th><th>Symbol</th><th>Union…</th><th>Any</th><th>Union…</th><th>Any</th><th>Int64</th></tr></thead><tbody><p>13 rows × 7 columns (omitted printing of 1 columns)</p><tr><th>1</th><td>country</td><td></td><td>AFG</td><td></td><td>ZWE</td><td>0</td></tr><tr><th>2</th><td>country_long</td><td></td><td>Afghanistan</td><td></td><td>Zimbabwe</td><td>0</td></tr><tr><th>3</th><td>name</td><td></td><td>'Muela</td><td></td><td>\\u200bVärtaverket</td><td>0</td></tr><tr><th>4</th><td>gppd_idnr</td><td></td><td>ARG0000001</td><td></td><td>WRI1075863</td><td>0</td></tr><tr><th>5</th><td>capacity_mw</td><td>168.993</td><td>1.0</td><td>18.3</td><td>22500.0</td><td>0</td></tr><tr><th>6</th><td>latitude</td><td>32.5014</td><td>-77.847</td><td>39.5835</td><td>71.292</td><td>0</td></tr><tr><th>7</th><td>longitude</td><td>-4.1955</td><td>-179.978</td><td>-1.2744</td><td>179.389</td><td>0</td></tr><tr><th>8</th><td>primary_fuel</td><td></td><td>Biomass</td><td></td><td>Wind</td><td>0</td></tr><tr><th>9</th><td>other_fuel1</td><td></td><td>Biomass</td><td></td><td>Wind</td><td>31680</td></tr><tr><th>10</th><td>other_fuel2</td><td></td><td>Biomass</td><td></td><td>Wind</td><td>33340</td></tr><tr><th>11</th><td>other_fuel3</td><td></td><td>Biomass</td><td></td><td>Wind</td><td>33539</td></tr><tr><th>12</th><td>commissioning_year</td><td>1995.49</td><td>1896.0</td><td>2005.0</td><td>2018.0</td><td>17340</td></tr><tr><th>13</th><td>year_of_capacity_data</td><td>2016.86</td><td>2000</td><td>2017.0</td><td>2018</td><td>19900</td></tr></tbody></table>"
      ],
      "text/latex": [
       "\\begin{tabular}{r|ccccccc}\n",
       "\t& variable & mean & min & median & max & nmissing & \\\\\n",
       "\t\\hline\n",
       "\t& Symbol & Union… & Any & Union… & Any & Int64 & \\\\\n",
       "\t\\hline\n",
       "\t1 & country &  & AFG &  & ZWE & 0 & $\\dots$ \\\\\n",
       "\t2 & country\\_long &  & Afghanistan &  & Zimbabwe & 0 & $\\dots$ \\\\\n",
       "\t3 & name &  & 'Muela &  & \\textbackslash{}u200bVärtaverket & 0 & $\\dots$ \\\\\n",
       "\t4 & gppd\\_idnr &  & ARG0000001 &  & WRI1075863 & 0 & $\\dots$ \\\\\n",
       "\t5 & capacity\\_mw & 168.993 & 1.0 & 18.3 & 22500.0 & 0 & $\\dots$ \\\\\n",
       "\t6 & latitude & 32.5014 & -77.847 & 39.5835 & 71.292 & 0 & $\\dots$ \\\\\n",
       "\t7 & longitude & -4.1955 & -179.978 & -1.2744 & 179.389 & 0 & $\\dots$ \\\\\n",
       "\t8 & primary\\_fuel &  & Biomass &  & Wind & 0 & $\\dots$ \\\\\n",
       "\t9 & other\\_fuel1 &  & Biomass &  & Wind & 31680 & $\\dots$ \\\\\n",
       "\t10 & other\\_fuel2 &  & Biomass &  & Wind & 33340 & $\\dots$ \\\\\n",
       "\t11 & other\\_fuel3 &  & Biomass &  & Wind & 33539 & $\\dots$ \\\\\n",
       "\t12 & commissioning\\_year & 1995.49 & 1896.0 & 2005.0 & 2018.0 & 17340 & $\\dots$ \\\\\n",
       "\t13 & year\\_of\\_capacity\\_data & 2016.86 & 2000 & 2017.0 & 2018 & 19900 & $\\dots$ \\\\\n",
       "\\end{tabular}\n"
      ],
      "text/plain": [
       "\u001b[1m13×7 DataFrame\u001b[0m\n",
       "\u001b[1m Row \u001b[0m│\u001b[1m variable              \u001b[0m\u001b[1m mean    \u001b[0m\u001b[1m min         \u001b[0m\u001b[1m median  \u001b[0m\u001b[1m max              \u001b[0m ⋯\n",
       "\u001b[1m     \u001b[0m│\u001b[90m Symbol                \u001b[0m\u001b[90m Union…  \u001b[0m\u001b[90m Any         \u001b[0m\u001b[90m Union…  \u001b[0m\u001b[90m Any              \u001b[0m ⋯\n",
       "─────┼──────────────────────────────────────────────────────────────────────────\n",
       "   1 │ country               \u001b[90m         \u001b[0m AFG         \u001b[90m         \u001b[0m ZWE               ⋯\n",
       "   2 │ country_long          \u001b[90m         \u001b[0m Afghanistan \u001b[90m         \u001b[0m Zimbabwe\n",
       "   3 │ name                  \u001b[90m         \u001b[0m 'Muela      \u001b[90m         \u001b[0m \\u200bVärtaverket\n",
       "   4 │ gppd_idnr             \u001b[90m         \u001b[0m ARG0000001  \u001b[90m         \u001b[0m WRI1075863\n",
       "   5 │ capacity_mw            168.993  1.0          18.3     22500.0           ⋯\n",
       "   6 │ latitude               32.5014  -77.847      39.5835  71.292\n",
       "   7 │ longitude              -4.1955  -179.978     -1.2744  179.389\n",
       "   8 │ primary_fuel          \u001b[90m         \u001b[0m Biomass     \u001b[90m         \u001b[0m Wind\n",
       "   9 │ other_fuel1           \u001b[90m         \u001b[0m Biomass     \u001b[90m         \u001b[0m Wind              ⋯\n",
       "  10 │ other_fuel2           \u001b[90m         \u001b[0m Biomass     \u001b[90m         \u001b[0m Wind\n",
       "  11 │ other_fuel3           \u001b[90m         \u001b[0m Biomass     \u001b[90m         \u001b[0m Wind\n",
       "  12 │ commissioning_year     1995.49  1896.0       2005.0   2018.0\n",
       "  13 │ year_of_capacity_data  2016.86  2000         2017.0   2018              ⋯\n",
       "\u001b[36m                                                               2 columns omitted\u001b[0m"
      ]
     },
     "execution_count": 21,
     "metadata": {},
     "output_type": "execute_result"
    }
   ],
   "source": [
    "describe(data)"
   ]
  },
  {
   "cell_type": "code",
   "execution_count": 28,
   "metadata": {},
   "outputs": [
    {
     "data": {
      "text/plain": [
       "ScientificTypes.Table{Union{AbstractVector{ScientificTypes.Continuous}, AbstractVector{ScientificTypes.Textual}, AbstractVector{Union{Missing, ScientificTypes.Textual}}, AbstractVector{Union{Missing, ScientificTypes.Continuous}}, AbstractVector{Union{Missing, ScientificTypes.Count}}}}"
      ]
     },
     "execution_count": 28,
     "metadata": {},
     "output_type": "execute_result"
    }
   ],
   "source": [
    "scitype(data)"
   ]
  },
  {
   "cell_type": "code",
   "execution_count": 29,
   "metadata": {},
   "outputs": [
    {
     "data": {
      "text/html": [
       "<table class=\"data-frame\"><thead><tr><th></th><th>country</th><th>primary_fuel</th><th>capacity_mw</th></tr><tr><th></th><th>String</th><th>String</th><th>Float64</th></tr></thead><tbody><p>5 rows × 3 columns</p><tr><th>1</th><td>AFG</td><td>Hydro</td><td>33.0</td></tr><tr><th>2</th><td>AFG</td><td>Solar</td><td>10.0</td></tr><tr><th>3</th><td>AFG</td><td>Solar</td><td>10.0</td></tr><tr><th>4</th><td>AFG</td><td>Hydro</td><td>66.0</td></tr><tr><th>5</th><td>AFG</td><td>Hydro</td><td>100.0</td></tr></tbody></table>"
      ],
      "text/latex": [
       "\\begin{tabular}{r|ccc}\n",
       "\t& country & primary\\_fuel & capacity\\_mw\\\\\n",
       "\t\\hline\n",
       "\t& String & String & Float64\\\\\n",
       "\t\\hline\n",
       "\t1 & AFG & Hydro & 33.0 \\\\\n",
       "\t2 & AFG & Solar & 10.0 \\\\\n",
       "\t3 & AFG & Solar & 10.0 \\\\\n",
       "\t4 & AFG & Hydro & 66.0 \\\\\n",
       "\t5 & AFG & Hydro & 100.0 \\\\\n",
       "\\end{tabular}\n"
      ],
      "text/plain": [
       "\u001b[1m5×3 DataFrame\u001b[0m\n",
       "\u001b[1m Row \u001b[0m│\u001b[1m country \u001b[0m\u001b[1m primary_fuel \u001b[0m\u001b[1m capacity_mw \u001b[0m\n",
       "\u001b[1m     \u001b[0m│\u001b[90m String  \u001b[0m\u001b[90m String       \u001b[0m\u001b[90m Float64     \u001b[0m\n",
       "─────┼────────────────────────────────────\n",
       "   1 │ AFG      Hydro                33.0\n",
       "   2 │ AFG      Solar                10.0\n",
       "   3 │ AFG      Solar                10.0\n",
       "   4 │ AFG      Hydro                66.0\n",
       "   5 │ AFG      Hydro               100.0"
      ]
     },
     "execution_count": 29,
     "metadata": {},
     "output_type": "execute_result"
    }
   ],
   "source": [
    "capacity = select(data, [:country, :primary_fuel, :capacity_mw]);\n",
    "first(capacity, 5)"
   ]
  },
  {
   "cell_type": "code",
   "execution_count": 30,
   "metadata": {},
   "outputs": [
    {
     "data": {
      "text/html": [
       "<p><b>GroupedDataFrame with 697 groups based on keys: country, primary_fuel</b></p><p><i>First Group (6 rows): country = \"AFG\", primary_fuel = \"Hydro\"</i></p><table class=\"data-frame\"><thead><tr><th></th><th>country</th><th>primary_fuel</th><th>capacity_mw</th></tr><tr><th></th><th>String</th><th>String</th><th>Float64</th></tr></thead><tbody><tr><th>1</th><td>AFG</td><td>Hydro</td><td>33.0</td></tr><tr><th>2</th><td>AFG</td><td>Hydro</td><td>66.0</td></tr><tr><th>3</th><td>AFG</td><td>Hydro</td><td>100.0</td></tr><tr><th>4</th><td>AFG</td><td>Hydro</td><td>11.55</td></tr><tr><th>5</th><td>AFG</td><td>Hydro</td><td>6.0</td></tr><tr><th>6</th><td>AFG</td><td>Hydro</td><td>22.0</td></tr></tbody></table><p>&vellip;</p><p><i>Last Group (1 row): country = \"ZWE\", primary_fuel = \"Coal\"</i></p><table class=\"data-frame\"><thead><tr><th></th><th>country</th><th>primary_fuel</th><th>capacity_mw</th></tr><tr><th></th><th>String</th><th>String</th><th>Float64</th></tr></thead><tbody><tr><th>1</th><td>ZWE</td><td>Coal</td><td>920.0</td></tr></tbody></table>"
      ],
      "text/latex": [
       "GroupedDataFrame with 697 groups based on keys: country, primary\\_fuel\n",
       "\n",
       "First Group (6 rows): country = \"AFG\", primary\\_fuel = \"Hydro\"\n",
       "\n",
       "\\begin{tabular}{r|ccc}\n",
       "\t& country & primary\\_fuel & capacity\\_mw\\\\\n",
       "\t\\hline\n",
       "\t& String & String & Float64\\\\\n",
       "\t\\hline\n",
       "\t1 & AFG & Hydro & 33.0 \\\\\n",
       "\t2 & AFG & Hydro & 66.0 \\\\\n",
       "\t3 & AFG & Hydro & 100.0 \\\\\n",
       "\t4 & AFG & Hydro & 11.55 \\\\\n",
       "\t5 & AFG & Hydro & 6.0 \\\\\n",
       "\t6 & AFG & Hydro & 22.0 \\\\\n",
       "\\end{tabular}\n",
       "\n",
       "$\\dots$\n",
       "\n",
       "Last Group (1 row): country = \"ZWE\", primary\\_fuel = \"Coal\"\n",
       "\n",
       "\\begin{tabular}{r|ccc}\n",
       "\t& country & primary\\_fuel & capacity\\_mw\\\\\n",
       "\t\\hline\n",
       "\t& String & String & Float64\\\\\n",
       "\t\\hline\n",
       "\t1 & ZWE & Coal & 920.0 \\\\\n",
       "\\end{tabular}\n"
      ],
      "text/plain": [
       "GroupedDataFrame with 697 groups based on keys: country, primary_fuel\n",
       "First Group (6 rows): country = \"AFG\", primary_fuel = \"Hydro\"\n",
       "\u001b[1m Row \u001b[0m│\u001b[1m country \u001b[0m\u001b[1m primary_fuel \u001b[0m\u001b[1m capacity_mw \u001b[0m\n",
       "\u001b[1m     \u001b[0m│\u001b[90m String  \u001b[0m\u001b[90m String       \u001b[0m\u001b[90m Float64     \u001b[0m\n",
       "─────┼────────────────────────────────────\n",
       "   1 │ AFG      Hydro               33.0\n",
       "   2 │ AFG      Hydro               66.0\n",
       "   3 │ AFG      Hydro              100.0\n",
       "   4 │ AFG      Hydro               11.55\n",
       "   5 │ AFG      Hydro                6.0\n",
       "   6 │ AFG      Hydro               22.0\n",
       "⋮\n",
       "Last Group (1 row): country = \"ZWE\", primary_fuel = \"Coal\"\n",
       "\u001b[1m Row \u001b[0m│\u001b[1m country \u001b[0m\u001b[1m primary_fuel \u001b[0m\u001b[1m capacity_mw \u001b[0m\n",
       "\u001b[1m     \u001b[0m│\u001b[90m String  \u001b[0m\u001b[90m String       \u001b[0m\u001b[90m Float64     \u001b[0m\n",
       "─────┼────────────────────────────────────\n",
       "   1 │ ZWE      Coal                920.0"
      ]
     },
     "execution_count": 30,
     "metadata": {},
     "output_type": "execute_result"
    }
   ],
   "source": [
    "cap_gr = groupby(capacity, [:country, :primary_fuel])"
   ]
  },
  {
   "cell_type": "code",
   "execution_count": 32,
   "metadata": {},
   "outputs": [
    {
     "data": {
      "text/html": [
       "<table class=\"data-frame\"><thead><tr><th></th><th>country</th><th>primary_fuel</th><th>capacity_mw_sum</th></tr><tr><th></th><th>String</th><th>String</th><th>Float64</th></tr></thead><tbody><p>30 rows × 3 columns</p><tr><th>1</th><td>AFG</td><td>Hydro</td><td>238.55</td></tr><tr><th>2</th><td>AFG</td><td>Solar</td><td>20.0</td></tr><tr><th>3</th><td>AFG</td><td>Gas</td><td>42.0</td></tr><tr><th>4</th><td>ALB</td><td>Hydro</td><td>1431.0</td></tr><tr><th>5</th><td>ALB</td><td>Other</td><td>98.0</td></tr><tr><th>6</th><td>DZA</td><td>Hydro</td><td>24.0</td></tr><tr><th>7</th><td>DZA</td><td>Solar</td><td>670.8</td></tr><tr><th>8</th><td>DZA</td><td>Gas</td><td>15179.0</td></tr><tr><th>9</th><td>AGO</td><td>Hydro</td><td>770.6</td></tr><tr><th>10</th><td>AGO</td><td>Gas</td><td>163.68</td></tr><tr><th>11</th><td>AGO</td><td>Oil</td><td>136.9</td></tr><tr><th>12</th><td>ATA</td><td>Oil</td><td>6.6</td></tr><tr><th>13</th><td>ATA</td><td>Wind</td><td>1.0</td></tr><tr><th>14</th><td>ARG</td><td>Hydro</td><td>9999.71</td></tr><tr><th>15</th><td>ARG</td><td>Solar</td><td>515.7</td></tr><tr><th>16</th><td>ARG</td><td>Gas</td><td>13041.8</td></tr><tr><th>17</th><td>ARG</td><td>Other</td><td>1324.46</td></tr><tr><th>18</th><td>ARG</td><td>Oil</td><td>1199.29</td></tr><tr><th>19</th><td>ARG</td><td>Wind</td><td>211.68</td></tr><tr><th>20</th><td>ARG</td><td>Nuclear</td><td>1763.0</td></tr><tr><th>21</th><td>ARG</td><td>Coal</td><td>4857.4</td></tr><tr><th>22</th><td>ARM</td><td>Hydro</td><td>965.0</td></tr><tr><th>23</th><td>ARM</td><td>Gas</td><td>1931.0</td></tr><tr><th>24</th><td>ARM</td><td>Nuclear</td><td>375.0</td></tr><tr><th>25</th><td>AUS</td><td>Hydro</td><td>8521.3</td></tr><tr><th>26</th><td>AUS</td><td>Solar</td><td>3498.67</td></tr><tr><th>27</th><td>AUS</td><td>Gas</td><td>20451.7</td></tr><tr><th>28</th><td>AUS</td><td>Oil</td><td>1071.97</td></tr><tr><th>29</th><td>AUS</td><td>Wind</td><td>4422.08</td></tr><tr><th>30</th><td>AUS</td><td>Coal</td><td>30097.0</td></tr></tbody></table>"
      ],
      "text/latex": [
       "\\begin{tabular}{r|ccc}\n",
       "\t& country & primary\\_fuel & capacity\\_mw\\_sum\\\\\n",
       "\t\\hline\n",
       "\t& String & String & Float64\\\\\n",
       "\t\\hline\n",
       "\t1 & AFG & Hydro & 238.55 \\\\\n",
       "\t2 & AFG & Solar & 20.0 \\\\\n",
       "\t3 & AFG & Gas & 42.0 \\\\\n",
       "\t4 & ALB & Hydro & 1431.0 \\\\\n",
       "\t5 & ALB & Other & 98.0 \\\\\n",
       "\t6 & DZA & Hydro & 24.0 \\\\\n",
       "\t7 & DZA & Solar & 670.8 \\\\\n",
       "\t8 & DZA & Gas & 15179.0 \\\\\n",
       "\t9 & AGO & Hydro & 770.6 \\\\\n",
       "\t10 & AGO & Gas & 163.68 \\\\\n",
       "\t11 & AGO & Oil & 136.9 \\\\\n",
       "\t12 & ATA & Oil & 6.6 \\\\\n",
       "\t13 & ATA & Wind & 1.0 \\\\\n",
       "\t14 & ARG & Hydro & 9999.71 \\\\\n",
       "\t15 & ARG & Solar & 515.7 \\\\\n",
       "\t16 & ARG & Gas & 13041.8 \\\\\n",
       "\t17 & ARG & Other & 1324.46 \\\\\n",
       "\t18 & ARG & Oil & 1199.29 \\\\\n",
       "\t19 & ARG & Wind & 211.68 \\\\\n",
       "\t20 & ARG & Nuclear & 1763.0 \\\\\n",
       "\t21 & ARG & Coal & 4857.4 \\\\\n",
       "\t22 & ARM & Hydro & 965.0 \\\\\n",
       "\t23 & ARM & Gas & 1931.0 \\\\\n",
       "\t24 & ARM & Nuclear & 375.0 \\\\\n",
       "\t25 & AUS & Hydro & 8521.3 \\\\\n",
       "\t26 & AUS & Solar & 3498.67 \\\\\n",
       "\t27 & AUS & Gas & 20451.7 \\\\\n",
       "\t28 & AUS & Oil & 1071.97 \\\\\n",
       "\t29 & AUS & Wind & 4422.08 \\\\\n",
       "\t30 & AUS & Coal & 30097.0 \\\\\n",
       "\\end{tabular}\n"
      ],
      "text/plain": [
       "\u001b[1m30×3 DataFrame\u001b[0m\n",
       "\u001b[1m Row \u001b[0m│\u001b[1m country \u001b[0m\u001b[1m primary_fuel \u001b[0m\u001b[1m capacity_mw_sum \u001b[0m\n",
       "\u001b[1m     \u001b[0m│\u001b[90m String  \u001b[0m\u001b[90m String       \u001b[0m\u001b[90m Float64         \u001b[0m\n",
       "─────┼────────────────────────────────────────\n",
       "   1 │ AFG      Hydro                  238.55\n",
       "   2 │ AFG      Solar                   20.0\n",
       "   3 │ AFG      Gas                     42.0\n",
       "   4 │ ALB      Hydro                 1431.0\n",
       "   5 │ ALB      Other                   98.0\n",
       "   6 │ DZA      Hydro                   24.0\n",
       "   7 │ DZA      Solar                  670.8\n",
       "   8 │ DZA      Gas                  15179.0\n",
       "   9 │ AGO      Hydro                  770.6\n",
       "  10 │ AGO      Gas                    163.68\n",
       "  11 │ AGO      Oil                    136.9\n",
       "  ⋮  │    ⋮          ⋮               ⋮\n",
       "  21 │ ARG      Coal                  4857.4\n",
       "  22 │ ARM      Hydro                  965.0\n",
       "  23 │ ARM      Gas                   1931.0\n",
       "  24 │ ARM      Nuclear                375.0\n",
       "  25 │ AUS      Hydro                 8521.3\n",
       "  26 │ AUS      Solar                 3498.67\n",
       "  27 │ AUS      Gas                  20451.7\n",
       "  28 │ AUS      Oil                   1071.97\n",
       "  29 │ AUS      Wind                  4422.08\n",
       "  30 │ AUS      Coal                 30097.0\n",
       "\u001b[36m                                9 rows omitted\u001b[0m"
      ]
     },
     "execution_count": 32,
     "metadata": {},
     "output_type": "execute_result"
    }
   ],
   "source": [
    "cap_mean = combine(cap_gr, :capacity_mw =>mean)\n",
    "cap_sum = combine(cap_gr, :capacity_mw =>sum)\n",
    "first(cap_sum,30)\n"
   ]
  },
  {
   "cell_type": "code",
   "execution_count": 33,
   "metadata": {},
   "outputs": [
    {
     "data": {
      "text/plain": [
       "r\"Solar\""
      ]
     },
     "execution_count": 33,
     "metadata": {},
     "output_type": "execute_result"
    }
   ],
   "source": [
    "ctry_selec = r\"BEL|FRA|DEU\"\n",
    "tech_selec = r\"Solar\""
   ]
  },
  {
   "cell_type": "code",
   "execution_count": 34,
   "metadata": {},
   "outputs": [
    {
     "data": {
      "text/html": [
       "<table class=\"data-frame\"><thead><tr><th></th><th>country</th><th>primary_fuel</th><th>capacity_mw_sum</th></tr><tr><th></th><th>String</th><th>String</th><th>Float64</th></tr></thead><tbody><p>3 rows × 3 columns</p><tr><th>1</th><td>BEL</td><td>Solar</td><td>116.2</td></tr><tr><th>2</th><td>FRA</td><td>Solar</td><td>4910.42</td></tr><tr><th>3</th><td>DEU</td><td>Solar</td><td>6770.56</td></tr></tbody></table>"
      ],
      "text/latex": [
       "\\begin{tabular}{r|ccc}\n",
       "\t& country & primary\\_fuel & capacity\\_mw\\_sum\\\\\n",
       "\t\\hline\n",
       "\t& String & String & Float64\\\\\n",
       "\t\\hline\n",
       "\t1 & BEL & Solar & 116.2 \\\\\n",
       "\t2 & FRA & Solar & 4910.42 \\\\\n",
       "\t3 & DEU & Solar & 6770.56 \\\\\n",
       "\\end{tabular}\n"
      ],
      "text/plain": [
       "\u001b[1m3×3 DataFrame\u001b[0m\n",
       "\u001b[1m Row \u001b[0m│\u001b[1m country \u001b[0m\u001b[1m primary_fuel \u001b[0m\u001b[1m capacity_mw_sum \u001b[0m\n",
       "\u001b[1m     \u001b[0m│\u001b[90m String  \u001b[0m\u001b[90m String       \u001b[0m\u001b[90m Float64         \u001b[0m\n",
       "─────┼────────────────────────────────────────\n",
       "   1 │ BEL      Solar                  116.2\n",
       "   2 │ FRA      Solar                 4910.42\n",
       "   3 │ DEU      Solar                 6770.56"
      ]
     },
     "execution_count": 34,
     "metadata": {},
     "output_type": "execute_result"
    }
   ],
   "source": [
    "cap_sum_plot = cap_sum[occursin.(ctry_selec, cap_sum.country) .& occursin.(tech_selec, cap_sum.primary_fuel), :]"
   ]
  },
  {
   "cell_type": "code",
   "execution_count": 35,
   "metadata": {},
   "outputs": [
    {
     "data": {
      "image/png": "[encoded data removed]",
      "text/plain": [
       "Figure(PyObject <Figure size 800x600 with 1 Axes>)"
      ]
     },
     "metadata": {},
     "output_type": "display_data"
    },
    {
     "data": {
      "text/plain": [
       "([0, 1, 2], PyCall.PyObject[PyObject Text(0, 0, 'DEU'), PyObject Text(1, 0, 'FRA'), PyObject Text(2, 0, 'BEL')])"
      ]
     },
     "execution_count": 35,
     "metadata": {},
     "output_type": "execute_result"
    }
   ],
   "source": [
    "sort!(cap_sum_plot, :capacity_mw_sum, rev=true)\n",
    "\n",
    "figure(figsize=(8,6))\n",
    "\n",
    "plt.bar(cap_sum_plot.country, cap_sum_plot.capacity_mw_sum, width=0.35)\n",
    "plt.xticks(rotation=90)"
   ]
  },
  {
   "cell_type": "code",
   "execution_count": 36,
   "metadata": {},
   "outputs": [],
   "source": [
    "cap_sum_ctry_gd = groupby(capacity, [:country]);\n",
    "cap_sum_ctry = combine(cap_sum_ctry_gd, :capacity_mw => sum);"
   ]
  },
  {
   "cell_type": "code",
   "execution_count": 37,
   "metadata": {},
   "outputs": [],
   "source": [
    "cap_sum = DataFrame(cap_sum);\n",
    "cap_sum_ctry = DataFrame(cap_sum_ctry);\n",
    "cap_share = leftjoin(cap_sum, cap_sum_ctry, on = :country, makeunique = true)\n",
    "cap_share.capacity_mw_share = cap_share.capacity_mw_sum ./ cap_share.capacity_mw_sum_1;"
   ]
  },
  {
   "cell_type": "code",
   "execution_count": 38,
   "metadata": {},
   "outputs": [
    {
     "data": {
      "text/plain": [
       "17340"
      ]
     },
     "execution_count": 38,
     "metadata": {},
     "output_type": "execute_result"
    }
   ],
   "source": [
    "nMissings = length(findall(x -> ismissing(x), data.commissioning_year))"
   ]
  },
  {
   "cell_type": "code",
   "execution_count": 39,
   "metadata": {},
   "outputs": [
    {
     "data": {
      "text/plain": [
       "0.515411824153613"
      ]
     },
     "execution_count": 39,
     "metadata": {},
     "output_type": "execute_result"
    }
   ],
   "source": [
    "nMissings_share = nMissings/size(data)[1]"
   ]
  },
  {
   "cell_type": "code",
   "execution_count": 40,
   "metadata": {},
   "outputs": [
    {
     "data": {
      "text/plain": [
       "Vector{Union{Missing, Float64}} (alias for Array{Union{Missing, Float64}, 1})"
      ]
     },
     "execution_count": 40,
     "metadata": {},
     "output_type": "execute_result"
    }
   ],
   "source": [
    "typeof(data.commissioning_year)"
   ]
  },
  {
   "cell_type": "code",
   "execution_count": 41,
   "metadata": {},
   "outputs": [],
   "source": [
    "data_nmiss = dropmissing(data, :commissioning_year);"
   ]
  },
  {
   "cell_type": "code",
   "execution_count": 42,
   "metadata": {},
   "outputs": [],
   "source": [
    "map!(x -> round(x, digits=0), data_nmiss.commissioning_year, data_nmiss.commissioning_year);\n",
    "\n",
    "# We can now calculate plant age for each plant (worth remembering that the dataset only contains active plants)\n",
    "\n",
    "current_year = fill!(Array{Float64}(undef, size(data_nmiss)[1]), 2020);\n",
    "data_nmiss[:, :plant_age] = current_year - data_nmiss[:, :commissioning_year];"
   ]
  },
  {
   "cell_type": "code",
   "execution_count": 43,
   "metadata": {},
   "outputs": [
    {
     "data": {
      "text/plain": [
       "15.0"
      ]
     },
     "execution_count": 43,
     "metadata": {},
     "output_type": "execute_result"
    }
   ],
   "source": [
    "mean_age = mean(skipmissing(data_nmiss.plant_age))\n",
    "median_age = median(skipmissing(data_nmiss.plant_age))"
   ]
  },
  {
   "cell_type": "code",
   "execution_count": 44,
   "metadata": {},
   "outputs": [
    {
     "data": {
      "image/png": "[encoded data removed]",
      "text/plain": [
       "Figure(PyObject <Figure size 800x600 with 1 Axes>)"
      ]
     },
     "metadata": {},
     "output_type": "display_data"
    },
    {
     "data": {
      "text/plain": [
       "(0, 130.1)"
      ]
     },
     "execution_count": 44,
     "metadata": {},
     "output_type": "execute_result"
    }
   ],
   "source": [
    "figure(figsize=(8,6))\n",
    "\n",
    "plt.hist(data_nmiss.plant_age, color=\"blue\", edgecolor=\"white\", bins=100,\n",
    "      density=true, alpha=0.5)\n",
    "plt.axvline(mean_age, label = \"Mean\", color = \"red\")\n",
    "plt.axvline(median_age, label = \"Median\")\n",
    "\n",
    "plt.legend()\n",
    "\n",
    "plt.xlim(0,)"
   ]
  },
  {
   "cell_type": "code",
   "execution_count": 45,
   "metadata": {
    "scrolled": true
   },
   "outputs": [
    {
     "data": {
      "image/png": "[encoded data removed]",
      "text/plain": [
       "Figure(PyObject <Figure size 640x480 with 2 Axes>)"
      ]
     },
     "metadata": {},
     "output_type": "display_data"
    },
    {
     "data": {
      "text/plain": [
       "PyObject Text(0.5, 1, 'Gas')"
      ]
     },
     "execution_count": 45,
     "metadata": {},
     "output_type": "execute_result"
    }
   ],
   "source": [
    "age = select(data_nmiss, [:country, :primary_fuel, :plant_age])\n",
    "age_mean = combine(groupby(age, [:country, :primary_fuel]), :plant_age => mean)\n",
    "\n",
    "coal_means = age_mean[occursin.(ctry_selec, age_mean.country) .& occursin.(r\"Coal\", age_mean.primary_fuel), :]\n",
    "gas_means = age_mean[occursin.(ctry_selec, age_mean.country) .& occursin.(r\"Gas\", age_mean.primary_fuel), :]\n",
    "\n",
    "width = 0.35  # the width of the bars\n",
    "\n",
    "fig, (ax1, ax2) = plt.subplots(1,2)\n",
    "\n",
    "fig.suptitle(\"Mean plant age by country and technology\")\n",
    "\n",
    "ax1.bar(coal_means.country, coal_means.plant_age_mean, width, label=\"Coal\")\n",
    "ax2.bar(gas_means.country, gas_means.plant_age_mean, width, label=\"Gas\")\n",
    "\n",
    "ax1.set_ylabel(\"Age\")\n",
    "\n",
    "ax1.set_title(\"Coal\")\n",
    "ax2.set_title(\"Gas\")"
   ]
  },
  {
   "cell_type": "code",
   "execution_count": null,
   "metadata": {},
   "outputs": [],
   "source": []
  }
 ],
 "metadata": {
  "kernelspec": {
   "display_name": "Julia 1.6.1",
   "language": "julia",
   "name": "julia-1.6"
  },
  "language_info": {
   "file_extension": ".jl",
   "mimetype": "application/julia",
   "name": "julia",
   "version": "1.6.1"
  }
 },
 "nbformat": 4,
 "nbformat_minor": 4
}
