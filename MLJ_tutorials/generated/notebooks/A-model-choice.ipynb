{
 "cells": [
  {
   "cell_type": "markdown",
   "metadata": {},
   "source": [
    "Before running this, please make sure to activate and instantiate the environment\n",
    "corresponding to [this `Project.toml`](https://raw.githubusercontent.com/alan-turing-institute/DataScienceTutorials.jl/master/Project.toml) and [this `Manifest.toml`](https://raw.githubusercontent.com/alan-turing-institute/DataScienceTutorials.jl/master/Manifest.toml)\n",
    "so that you get an environment which matches the one used to generate the tutorials:\n",
    "\n",
    "```julia\n",
    "cd(\"DataScienceTutorials\") # cd to folder with the *.toml\n",
    "using Pkg; Pkg.activate(\".\"); Pkg.instantiate()\n",
    "```"
   ]
  },
  {
   "cell_type": "markdown",
   "metadata": {},
   "source": [
    "[MLJ.jl]: https://github.com/alan-turing-institute/MLJ.jl\n",
    "[RDatasets.jl]: https://github.com/JuliaStats/RDatasets.jl\n",
    "[MLJModels.jl]: https://github.com/alan-turing-institute/MLJModels.jl\n",
    "[DecisionTree.jl]: https://github.com/bensadeghi/DecisionTree.jl\n",
    "[NearestNeighbors.jl]: https://github.com/KristofferC/NearestNeighbors.jl\n",
    "[GLM.jl]: https://github.com/JuliaStats/GLM.jl\n",
    "[ScikitLearn.jl]: https://github.com/cstjean/ScikitLearn.jl\n",
    "## Data and its interpretation\n",
    "\n",
    "### Machine type and scientific type"
   ]
  },
  {
   "cell_type": "code",
   "execution_count": null,
   "metadata": {},
   "outputs": [],
   "source": [
    "using RDatasets\n",
    "using MLJ\n",
    "iris = dataset(\"datasets\", \"iris\")\n",
    "\n",
    "first(iris, 3) |> pretty"
   ]
  },
  {
   "cell_type": "markdown",
   "metadata": {},
   "source": [
    "Observe that below each column name there are two _types_ given: the first one is the _machine type_ and the second one is the _scientific type_.\n",
    "\n",
    "* **machine type**: is the Julia type the data is currently encoded as, for instance `Float64`,\n",
    "* **scientific type**: is a type corresponding to how the data should be _interpreted_, for instance `Multiclass{3}`.\n",
    "\n",
    "If you want to specify a different scientific type than the one inferred, you can do so by using the function `coerce` along with pairs of column names and scientific types:"
   ]
  },
  {
   "cell_type": "code",
   "execution_count": null,
   "metadata": {},
   "outputs": [],
   "source": [
    "iris2 = coerce(iris, :PetalWidth => OrderedFactor)\n",
    "first(iris2[:, [:PetalLength, :PetalWidth]], 1) |> pretty"
   ]
  },
  {
   "cell_type": "markdown",
   "metadata": {},
   "source": [
    "### Unpacking data\n",
    "\n",
    "The function `unpack` helps specify the target and the input for a regression or classification task"
   ]
  },
  {
   "cell_type": "code",
   "execution_count": null,
   "metadata": {},
   "outputs": [],
   "source": [
    "y, X = unpack(iris, ==(:Species), colname -> true)\n",
    "first(X, 1) |> pretty"
   ]
  },
  {
   "cell_type": "markdown",
   "metadata": {},
   "source": [
    "The two arguments after the dataframes should be understood as _functions_ over column names specifying the target and the input data respectively.\n",
    "Let's look in more details at what we used here:\n",
    "\n",
    "* `==(:Species)` is a shorthand to specify that the target should be the column with name equal to `:Species`,\n",
    "* `colname -> true` indicates that every other column is to be taken as input\n",
    "\n",
    "Let's try another one:"
   ]
  },
  {
   "cell_type": "code",
   "execution_count": null,
   "metadata": {},
   "outputs": [],
   "source": [
    "y, X = unpack(iris, ==(:Species), !=(:PetalLength))\n",
    "first(X, 1) |> pretty"
   ]
  },
  {
   "cell_type": "markdown",
   "metadata": {},
   "source": [
    "You can also use the shorthand `@load_iris` for such common examples:"
   ]
  },
  {
   "cell_type": "code",
   "execution_count": null,
   "metadata": {},
   "outputs": [],
   "source": [
    "X, y = @load_iris;"
   ]
  },
  {
   "cell_type": "markdown",
   "metadata": {},
   "source": [
    "## Choosing a model\n",
    "\n",
    "### Model search\n",
    "\n",
    "In MLJ, a _model_ is a struct storing the _hyperparameters_ of the learning algorithm indicated by the struct name (and only that).\n",
    "\n",
    "A number of models are available in MLJ, usually thanks to external packages interfacing with MLJ (see also `[MLJModels.jl]`).\n",
    "In order to see which ones are appropriate for the data you have and its scientific interpretation, you can use the function `models` along with the function `matching`; let us look specifically at models which support a probabilistic output:"
   ]
  },
  {
   "cell_type": "code",
   "execution_count": null,
   "metadata": {},
   "outputs": [],
   "source": [
    "for m in models(matching(X, y))\n",
    "    if m.prediction_type == :probabilistic\n",
    "        println(rpad(m.name, 30), \"($(m.package_name))\")\n",
    "    end\n",
    "end"
   ]
  },
  {
   "cell_type": "markdown",
   "metadata": {},
   "source": [
    "### Loading a model\n",
    "\n",
    "Most models are implemented outside of the MLJ ecosystem; you therefore have to _load models_ using the `@load` command.\n",
    "\n",
    "**Note**: you _must_ have the package from which the model is loaded available in your environment (in this case `[DecisionTree.jl]`) otherwise MLJ will not be able to load the model.\n",
    "\n",
    "For instance, let's say you want to fit a K-Nearest Neighbours classifier:"
   ]
  },
  {
   "cell_type": "code",
   "execution_count": null,
   "metadata": {},
   "outputs": [],
   "source": [
    "knc = @load KNeighborsClassifier"
   ]
  },
  {
   "cell_type": "markdown",
   "metadata": {},
   "source": [
    "In some cases, there may be several packages offering the same model, for instance `LinearRegressor` is offered by both `[GLM.jl]` and `[ScikitLearn.jl]` so you will need to specify the package you would like to use by adding `pkg=\"ThePackage\"` in the load command:"
   ]
  },
  {
   "cell_type": "code",
   "execution_count": null,
   "metadata": {},
   "outputs": [],
   "source": [
    "linreg = @load LinearRegressor pkg=\"GLM\""
   ]
  },
  {
   "cell_type": "markdown",
   "metadata": {},
   "source": [
    "---\n",
    "\n",
    "*This notebook was generated using [Literate.jl](https://github.com/fredrikekre/Literate.jl).*"
   ]
  }
 ],
 "metadata": {
  "kernelspec": {
   "display_name": "Julia 1.6.1",
   "language": "julia",
   "name": "julia-1.6"
  },
  "language_info": {
   "file_extension": ".jl",
   "mimetype": "application/julia",
   "name": "julia",
   "version": "1.4.1"
  }
 },
 "nbformat": 4,
 "nbformat_minor": 3
}
