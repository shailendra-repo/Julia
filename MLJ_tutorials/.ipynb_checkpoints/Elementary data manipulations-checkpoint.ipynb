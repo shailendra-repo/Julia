{
 "cells": [
  {
   "cell_type": "markdown",
   "metadata": {},
   "source": [
    "# Loading and elementary processing of data"
   ]
  },
  {
   "cell_type": "code",
   "execution_count": 12,
   "metadata": {},
   "outputs": [],
   "source": [
    "using Pkg\n",
    "Pkg.activate(\".\")\n",
    "Pkg.instantiate()"
   ]
  },
  {
   "cell_type": "code",
   "execution_count": 13,
   "metadata": {},
   "outputs": [
    {
     "data": {
      "text/plain": [
       "\"/home/sandhya/shailendra-repo/Julia_projects/Julia/MLJ_tutorials\""
      ]
     },
     "execution_count": 13,
     "metadata": {},
     "output_type": "execute_result"
    }
   ],
   "source": [
    "include(\"start.jl\")"
   ]
  },
  {
   "cell_type": "code",
   "execution_count": 14,
   "metadata": {},
   "outputs": [],
   "source": [
    "using RDatasets"
   ]
  },
  {
   "cell_type": "code",
   "execution_count": 17,
   "metadata": {},
   "outputs": [
    {
     "data": {
      "text/html": [
       "<table class=\"data-frame\"><thead><tr><th></th><th>Crim</th><th>Zn</th><th>Indus</th><th>Chas</th><th>NOx</th><th>Rm</th><th>Age</th><th>Dis</th><th>Rad</th><th>Tax</th></tr><tr><th></th><th>Float64</th><th>Float64</th><th>Float64</th><th>Int64</th><th>Float64</th><th>Float64</th><th>Float64</th><th>Float64</th><th>Int64</th><th>Int64</th></tr></thead><tbody><p>506 rows × 14 columns (omitted printing of 4 columns)</p><tr><th>1</th><td>0.00632</td><td>18.0</td><td>2.31</td><td>0</td><td>0.538</td><td>6.575</td><td>65.2</td><td>4.09</td><td>1</td><td>296</td></tr><tr><th>2</th><td>0.02731</td><td>0.0</td><td>7.07</td><td>0</td><td>0.469</td><td>6.421</td><td>78.9</td><td>4.9671</td><td>2</td><td>242</td></tr><tr><th>3</th><td>0.02729</td><td>0.0</td><td>7.07</td><td>0</td><td>0.469</td><td>7.185</td><td>61.1</td><td>4.9671</td><td>2</td><td>242</td></tr><tr><th>4</th><td>0.03237</td><td>0.0</td><td>2.18</td><td>0</td><td>0.458</td><td>6.998</td><td>45.8</td><td>6.0622</td><td>3</td><td>222</td></tr><tr><th>5</th><td>0.06905</td><td>0.0</td><td>2.18</td><td>0</td><td>0.458</td><td>7.147</td><td>54.2</td><td>6.0622</td><td>3</td><td>222</td></tr><tr><th>6</th><td>0.02985</td><td>0.0</td><td>2.18</td><td>0</td><td>0.458</td><td>6.43</td><td>58.7</td><td>6.0622</td><td>3</td><td>222</td></tr><tr><th>7</th><td>0.08829</td><td>12.5</td><td>7.87</td><td>0</td><td>0.524</td><td>6.012</td><td>66.6</td><td>5.5605</td><td>5</td><td>311</td></tr><tr><th>8</th><td>0.14455</td><td>12.5</td><td>7.87</td><td>0</td><td>0.524</td><td>6.172</td><td>96.1</td><td>5.9505</td><td>5</td><td>311</td></tr><tr><th>9</th><td>0.21124</td><td>12.5</td><td>7.87</td><td>0</td><td>0.524</td><td>5.631</td><td>100.0</td><td>6.0821</td><td>5</td><td>311</td></tr><tr><th>10</th><td>0.17004</td><td>12.5</td><td>7.87</td><td>0</td><td>0.524</td><td>6.004</td><td>85.9</td><td>6.5921</td><td>5</td><td>311</td></tr><tr><th>11</th><td>0.22489</td><td>12.5</td><td>7.87</td><td>0</td><td>0.524</td><td>6.377</td><td>94.3</td><td>6.3467</td><td>5</td><td>311</td></tr><tr><th>12</th><td>0.11747</td><td>12.5</td><td>7.87</td><td>0</td><td>0.524</td><td>6.009</td><td>82.9</td><td>6.2267</td><td>5</td><td>311</td></tr><tr><th>13</th><td>0.09378</td><td>12.5</td><td>7.87</td><td>0</td><td>0.524</td><td>5.889</td><td>39.0</td><td>5.4509</td><td>5</td><td>311</td></tr><tr><th>14</th><td>0.62976</td><td>0.0</td><td>8.14</td><td>0</td><td>0.538</td><td>5.949</td><td>61.8</td><td>4.7075</td><td>4</td><td>307</td></tr><tr><th>15</th><td>0.63796</td><td>0.0</td><td>8.14</td><td>0</td><td>0.538</td><td>6.096</td><td>84.5</td><td>4.4619</td><td>4</td><td>307</td></tr><tr><th>16</th><td>0.62739</td><td>0.0</td><td>8.14</td><td>0</td><td>0.538</td><td>5.834</td><td>56.5</td><td>4.4986</td><td>4</td><td>307</td></tr><tr><th>17</th><td>1.05393</td><td>0.0</td><td>8.14</td><td>0</td><td>0.538</td><td>5.935</td><td>29.3</td><td>4.4986</td><td>4</td><td>307</td></tr><tr><th>18</th><td>0.7842</td><td>0.0</td><td>8.14</td><td>0</td><td>0.538</td><td>5.99</td><td>81.7</td><td>4.2579</td><td>4</td><td>307</td></tr><tr><th>19</th><td>0.80271</td><td>0.0</td><td>8.14</td><td>0</td><td>0.538</td><td>5.456</td><td>36.6</td><td>3.7965</td><td>4</td><td>307</td></tr><tr><th>20</th><td>0.7258</td><td>0.0</td><td>8.14</td><td>0</td><td>0.538</td><td>5.727</td><td>69.5</td><td>3.7965</td><td>4</td><td>307</td></tr><tr><th>21</th><td>1.25179</td><td>0.0</td><td>8.14</td><td>0</td><td>0.538</td><td>5.57</td><td>98.1</td><td>3.7979</td><td>4</td><td>307</td></tr><tr><th>22</th><td>0.85204</td><td>0.0</td><td>8.14</td><td>0</td><td>0.538</td><td>5.965</td><td>89.2</td><td>4.0123</td><td>4</td><td>307</td></tr><tr><th>23</th><td>1.23247</td><td>0.0</td><td>8.14</td><td>0</td><td>0.538</td><td>6.142</td><td>91.7</td><td>3.9769</td><td>4</td><td>307</td></tr><tr><th>24</th><td>0.98843</td><td>0.0</td><td>8.14</td><td>0</td><td>0.538</td><td>5.813</td><td>100.0</td><td>4.0952</td><td>4</td><td>307</td></tr><tr><th>25</th><td>0.75026</td><td>0.0</td><td>8.14</td><td>0</td><td>0.538</td><td>5.924</td><td>94.1</td><td>4.3996</td><td>4</td><td>307</td></tr><tr><th>26</th><td>0.84054</td><td>0.0</td><td>8.14</td><td>0</td><td>0.538</td><td>5.599</td><td>85.7</td><td>4.4546</td><td>4</td><td>307</td></tr><tr><th>27</th><td>0.67191</td><td>0.0</td><td>8.14</td><td>0</td><td>0.538</td><td>5.813</td><td>90.3</td><td>4.682</td><td>4</td><td>307</td></tr><tr><th>28</th><td>0.95577</td><td>0.0</td><td>8.14</td><td>0</td><td>0.538</td><td>6.047</td><td>88.8</td><td>4.4534</td><td>4</td><td>307</td></tr><tr><th>29</th><td>0.77299</td><td>0.0</td><td>8.14</td><td>0</td><td>0.538</td><td>6.495</td><td>94.4</td><td>4.4547</td><td>4</td><td>307</td></tr><tr><th>30</th><td>1.00245</td><td>0.0</td><td>8.14</td><td>0</td><td>0.538</td><td>6.674</td><td>87.3</td><td>4.239</td><td>4</td><td>307</td></tr><tr><th>&vellip;</th><td>&vellip;</td><td>&vellip;</td><td>&vellip;</td><td>&vellip;</td><td>&vellip;</td><td>&vellip;</td><td>&vellip;</td><td>&vellip;</td><td>&vellip;</td><td>&vellip;</td></tr></tbody></table>"
      ],
      "text/latex": [
       "\\begin{tabular}{r|ccccccccccc}\n",
       "\t& Crim & Zn & Indus & Chas & NOx & Rm & Age & Dis & Rad & Tax & \\\\\n",
       "\t\\hline\n",
       "\t& Float64 & Float64 & Float64 & Int64 & Float64 & Float64 & Float64 & Float64 & Int64 & Int64 & \\\\\n",
       "\t\\hline\n",
       "\t1 & 0.00632 & 18.0 & 2.31 & 0 & 0.538 & 6.575 & 65.2 & 4.09 & 1 & 296 & $\\dots$ \\\\\n",
       "\t2 & 0.02731 & 0.0 & 7.07 & 0 & 0.469 & 6.421 & 78.9 & 4.9671 & 2 & 242 & $\\dots$ \\\\\n",
       "\t3 & 0.02729 & 0.0 & 7.07 & 0 & 0.469 & 7.185 & 61.1 & 4.9671 & 2 & 242 & $\\dots$ \\\\\n",
       "\t4 & 0.03237 & 0.0 & 2.18 & 0 & 0.458 & 6.998 & 45.8 & 6.0622 & 3 & 222 & $\\dots$ \\\\\n",
       "\t5 & 0.06905 & 0.0 & 2.18 & 0 & 0.458 & 7.147 & 54.2 & 6.0622 & 3 & 222 & $\\dots$ \\\\\n",
       "\t6 & 0.02985 & 0.0 & 2.18 & 0 & 0.458 & 6.43 & 58.7 & 6.0622 & 3 & 222 & $\\dots$ \\\\\n",
       "\t7 & 0.08829 & 12.5 & 7.87 & 0 & 0.524 & 6.012 & 66.6 & 5.5605 & 5 & 311 & $\\dots$ \\\\\n",
       "\t8 & 0.14455 & 12.5 & 7.87 & 0 & 0.524 & 6.172 & 96.1 & 5.9505 & 5 & 311 & $\\dots$ \\\\\n",
       "\t9 & 0.21124 & 12.5 & 7.87 & 0 & 0.524 & 5.631 & 100.0 & 6.0821 & 5 & 311 & $\\dots$ \\\\\n",
       "\t10 & 0.17004 & 12.5 & 7.87 & 0 & 0.524 & 6.004 & 85.9 & 6.5921 & 5 & 311 & $\\dots$ \\\\\n",
       "\t11 & 0.22489 & 12.5 & 7.87 & 0 & 0.524 & 6.377 & 94.3 & 6.3467 & 5 & 311 & $\\dots$ \\\\\n",
       "\t12 & 0.11747 & 12.5 & 7.87 & 0 & 0.524 & 6.009 & 82.9 & 6.2267 & 5 & 311 & $\\dots$ \\\\\n",
       "\t13 & 0.09378 & 12.5 & 7.87 & 0 & 0.524 & 5.889 & 39.0 & 5.4509 & 5 & 311 & $\\dots$ \\\\\n",
       "\t14 & 0.62976 & 0.0 & 8.14 & 0 & 0.538 & 5.949 & 61.8 & 4.7075 & 4 & 307 & $\\dots$ \\\\\n",
       "\t15 & 0.63796 & 0.0 & 8.14 & 0 & 0.538 & 6.096 & 84.5 & 4.4619 & 4 & 307 & $\\dots$ \\\\\n",
       "\t16 & 0.62739 & 0.0 & 8.14 & 0 & 0.538 & 5.834 & 56.5 & 4.4986 & 4 & 307 & $\\dots$ \\\\\n",
       "\t17 & 1.05393 & 0.0 & 8.14 & 0 & 0.538 & 5.935 & 29.3 & 4.4986 & 4 & 307 & $\\dots$ \\\\\n",
       "\t18 & 0.7842 & 0.0 & 8.14 & 0 & 0.538 & 5.99 & 81.7 & 4.2579 & 4 & 307 & $\\dots$ \\\\\n",
       "\t19 & 0.80271 & 0.0 & 8.14 & 0 & 0.538 & 5.456 & 36.6 & 3.7965 & 4 & 307 & $\\dots$ \\\\\n",
       "\t20 & 0.7258 & 0.0 & 8.14 & 0 & 0.538 & 5.727 & 69.5 & 3.7965 & 4 & 307 & $\\dots$ \\\\\n",
       "\t21 & 1.25179 & 0.0 & 8.14 & 0 & 0.538 & 5.57 & 98.1 & 3.7979 & 4 & 307 & $\\dots$ \\\\\n",
       "\t22 & 0.85204 & 0.0 & 8.14 & 0 & 0.538 & 5.965 & 89.2 & 4.0123 & 4 & 307 & $\\dots$ \\\\\n",
       "\t23 & 1.23247 & 0.0 & 8.14 & 0 & 0.538 & 6.142 & 91.7 & 3.9769 & 4 & 307 & $\\dots$ \\\\\n",
       "\t24 & 0.98843 & 0.0 & 8.14 & 0 & 0.538 & 5.813 & 100.0 & 4.0952 & 4 & 307 & $\\dots$ \\\\\n",
       "\t25 & 0.75026 & 0.0 & 8.14 & 0 & 0.538 & 5.924 & 94.1 & 4.3996 & 4 & 307 & $\\dots$ \\\\\n",
       "\t26 & 0.84054 & 0.0 & 8.14 & 0 & 0.538 & 5.599 & 85.7 & 4.4546 & 4 & 307 & $\\dots$ \\\\\n",
       "\t27 & 0.67191 & 0.0 & 8.14 & 0 & 0.538 & 5.813 & 90.3 & 4.682 & 4 & 307 & $\\dots$ \\\\\n",
       "\t28 & 0.95577 & 0.0 & 8.14 & 0 & 0.538 & 6.047 & 88.8 & 4.4534 & 4 & 307 & $\\dots$ \\\\\n",
       "\t29 & 0.77299 & 0.0 & 8.14 & 0 & 0.538 & 6.495 & 94.4 & 4.4547 & 4 & 307 & $\\dots$ \\\\\n",
       "\t30 & 1.00245 & 0.0 & 8.14 & 0 & 0.538 & 6.674 & 87.3 & 4.239 & 4 & 307 & $\\dots$ \\\\\n",
       "\t$\\dots$ & $\\dots$ & $\\dots$ & $\\dots$ & $\\dots$ & $\\dots$ & $\\dots$ & $\\dots$ & $\\dots$ & $\\dots$ & $\\dots$ &  \\\\\n",
       "\\end{tabular}\n"
      ],
      "text/plain": [
       "\u001b[1m506×14 DataFrame\u001b[0m\n",
       "\u001b[1m Row \u001b[0m│\u001b[1m Crim    \u001b[0m\u001b[1m Zn      \u001b[0m\u001b[1m Indus   \u001b[0m\u001b[1m Chas  \u001b[0m\u001b[1m NOx     \u001b[0m\u001b[1m Rm      \u001b[0m\u001b[1m Age     \u001b[0m\u001b[1m Dis     \u001b[0m\u001b[1m R\u001b[0m ⋯\n",
       "\u001b[1m     \u001b[0m│\u001b[90m Float64 \u001b[0m\u001b[90m Float64 \u001b[0m\u001b[90m Float64 \u001b[0m\u001b[90m Int64 \u001b[0m\u001b[90m Float64 \u001b[0m\u001b[90m Float64 \u001b[0m\u001b[90m Float64 \u001b[0m\u001b[90m Float64 \u001b[0m\u001b[90m I\u001b[0m ⋯\n",
       "─────┼──────────────────────────────────────────────────────────────────────────\n",
       "   1 │ 0.00632     18.0     2.31      0    0.538    6.575     65.2   4.09    1 ⋯\n",
       "   2 │ 0.02731      0.0     7.07      0    0.469    6.421     78.9   4.9671  2\n",
       "   3 │ 0.02729      0.0     7.07      0    0.469    7.185     61.1   4.9671  2\n",
       "   4 │ 0.03237      0.0     2.18      0    0.458    6.998     45.8   6.0622  3\n",
       "   5 │ 0.06905      0.0     2.18      0    0.458    7.147     54.2   6.0622  3 ⋯\n",
       "   6 │ 0.02985      0.0     2.18      0    0.458    6.43      58.7   6.0622  3\n",
       "   7 │ 0.08829     12.5     7.87      0    0.524    6.012     66.6   5.5605  5\n",
       "   8 │ 0.14455     12.5     7.87      0    0.524    6.172     96.1   5.9505  5\n",
       "   9 │ 0.21124     12.5     7.87      0    0.524    5.631    100.0   6.0821  5 ⋯\n",
       "  10 │ 0.17004     12.5     7.87      0    0.524    6.004     85.9   6.5921  5\n",
       "  11 │ 0.22489     12.5     7.87      0    0.524    6.377     94.3   6.3467  5\n",
       "  ⋮  │    ⋮        ⋮        ⋮       ⋮       ⋮        ⋮        ⋮        ⋮       ⋱\n",
       " 497 │ 0.2896       0.0     9.69      0    0.585    5.39      72.9   2.7986  6\n",
       " 498 │ 0.26838      0.0     9.69      0    0.585    5.794     70.6   2.8927  6 ⋯\n",
       " 499 │ 0.23912      0.0     9.69      0    0.585    6.019     65.3   2.4091  6\n",
       " 500 │ 0.17783      0.0     9.69      0    0.585    5.569     73.5   2.3999  6\n",
       " 501 │ 0.22438      0.0     9.69      0    0.585    6.027     79.7   2.4982  6\n",
       " 502 │ 0.06263      0.0    11.93      0    0.573    6.593     69.1   2.4786  1 ⋯\n",
       " 503 │ 0.04527      0.0    11.93      0    0.573    6.12      76.7   2.2875  1\n",
       " 504 │ 0.06076      0.0    11.93      0    0.573    6.976     91.0   2.1675  1\n",
       " 505 │ 0.10959      0.0    11.93      0    0.573    6.794     89.3   2.3889  1\n",
       " 506 │ 0.04741      0.0    11.93      0    0.573    6.03      80.8   2.505   1 ⋯\n",
       "\u001b[36m                                                  6 columns and 485 rows omitted\u001b[0m"
      ]
     },
     "execution_count": 17,
     "metadata": {},
     "output_type": "execute_result"
    }
   ],
   "source": [
    "boston = dataset(\"MASS\",\"Boston\")"
   ]
  },
  {
   "cell_type": "code",
   "execution_count": 18,
   "metadata": {},
   "outputs": [
    {
     "data": {
      "text/plain": [
       "DataFrame"
      ]
     },
     "execution_count": 18,
     "metadata": {},
     "output_type": "execute_result"
    }
   ],
   "source": [
    "typeof(boston)"
   ]
  },
  {
   "cell_type": "code",
   "execution_count": 19,
   "metadata": {},
   "outputs": [
    {
     "data": {
      "text/plain": [
       "14-element Vector{String}:\n",
       " \"Crim\"\n",
       " \"Zn\"\n",
       " \"Indus\"\n",
       " \"Chas\"\n",
       " \"NOx\"\n",
       " \"Rm\"\n",
       " \"Age\"\n",
       " \"Dis\"\n",
       " \"Rad\"\n",
       " \"Tax\"\n",
       " \"PTRatio\"\n",
       " \"Black\"\n",
       " \"LStat\"\n",
       " \"MedV\""
      ]
     },
     "execution_count": 19,
     "metadata": {},
     "output_type": "execute_result"
    }
   ],
   "source": [
    "names(boston)"
   ]
  },
  {
   "cell_type": "code",
   "execution_count": 20,
   "metadata": {},
   "outputs": [
    {
     "data": {
      "text/plain": [
       "14-element Vector{Symbol}:\n",
       " :Crim\n",
       " :Zn\n",
       " :Indus\n",
       " :Chas\n",
       " :NOx\n",
       " :Rm\n",
       " :Age\n",
       " :Dis\n",
       " :Rad\n",
       " :Tax\n",
       " :PTRatio\n",
       " :Black\n",
       " :LStat\n",
       " :MedV"
      ]
     },
     "execution_count": 20,
     "metadata": {},
     "output_type": "execute_result"
    }
   ],
   "source": [
    "propertynames(boston)"
   ]
  },
  {
   "cell_type": "code",
   "execution_count": 26,
   "metadata": {},
   "outputs": [
    {
     "data": {
      "text/html": [
       "<table class=\"data-frame\"><thead><tr><th></th><th>col1</th><th>col2</th><th>col3</th><th>col4</th><th>col5</th><th>col6</th><th>col7</th><th>col8</th></tr><tr><th></th><th>Missing</th><th>Int64</th><th>Float64</th><th>Float64</th><th>String</th><th>Date…</th><th>DateTim…</th><th>Bool</th></tr></thead><tbody><p>3 rows × 8 columns</p><tr><th>1</th><td><em>missing</em></td><td>1</td><td>1.0</td><td>1.0</td><td>one</td><td>2019-01-01</td><td>2019-01-01T00:00:00</td><td>1</td></tr><tr><th>2</th><td><em>missing</em></td><td>2</td><td>2.0</td><td>2.0</td><td>two</td><td>2019-01-02</td><td>2019-01-02T00:00:00</td><td>0</td></tr><tr><th>3</th><td><em>missing</em></td><td>3</td><td>3.0</td><td>3.14</td><td>three</td><td>2019-01-03</td><td>2019-01-03T00:00:00</td><td>1</td></tr></tbody></table>"
      ],
      "text/latex": [
       "\\begin{tabular}{r|cccccccc}\n",
       "\t& col1 & col2 & col3 & col4 & col5 & col6 & col7 & col8\\\\\n",
       "\t\\hline\n",
       "\t& Missing & Int64 & Float64 & Float64 & String & Date… & DateTim… & Bool\\\\\n",
       "\t\\hline\n",
       "\t1 & \\emph{missing} & 1 & 1.0 & 1.0 & one & 2019-01-01 & 2019-01-01T00:00:00 & 1 \\\\\n",
       "\t2 & \\emph{missing} & 2 & 2.0 & 2.0 & two & 2019-01-02 & 2019-01-02T00:00:00 & 0 \\\\\n",
       "\t3 & \\emph{missing} & 3 & 3.0 & 3.14 & three & 2019-01-03 & 2019-01-03T00:00:00 & 1 \\\\\n",
       "\\end{tabular}\n"
      ],
      "text/plain": [
       "\u001b[1m3×8 DataFrame\u001b[0m\n",
       "\u001b[1m Row \u001b[0m│\u001b[1m col1    \u001b[0m\u001b[1m col2  \u001b[0m\u001b[1m col3    \u001b[0m\u001b[1m col4    \u001b[0m\u001b[1m col5   \u001b[0m\u001b[1m col6       \u001b[0m\u001b[1m col7             \u001b[0m ⋯\n",
       "\u001b[1m     \u001b[0m│\u001b[90m Missing \u001b[0m\u001b[90m Int64 \u001b[0m\u001b[90m Float64 \u001b[0m\u001b[90m Float64 \u001b[0m\u001b[90m String \u001b[0m\u001b[90m Date…      \u001b[0m\u001b[90m DateTime…        \u001b[0m ⋯\n",
       "─────┼──────────────────────────────────────────────────────────────────────────\n",
       "   1 │\u001b[90m missing \u001b[0m     1      1.0     1.0   one     2019-01-01  2019-01-01T00:00: ⋯\n",
       "   2 │\u001b[90m missing \u001b[0m     2      2.0     2.0   two     2019-01-02  2019-01-02T00:00:\n",
       "   3 │\u001b[90m missing \u001b[0m     3      3.0     3.14  three   2019-01-03  2019-01-03T00:00:\n",
       "\u001b[36m                                                               2 columns omitted\u001b[0m"
      ]
     },
     "execution_count": 26,
     "metadata": {},
     "output_type": "execute_result"
    }
   ],
   "source": [
    "using CSV\n",
    "fpath = joinpath(\"data\",\"foo.csv\")\n",
    "data =  CSV.read(fpath, DataFrame)"
   ]
  },
  {
   "cell_type": "code",
   "execution_count": 27,
   "metadata": {},
   "outputs": [
    {
     "data": {
      "text/plain": [
       "DataFrame"
      ]
     },
     "execution_count": 27,
     "metadata": {},
     "output_type": "execute_result"
    }
   ],
   "source": [
    "typeof(data)"
   ]
  },
  {
   "cell_type": "code",
   "execution_count": 31,
   "metadata": {},
   "outputs": [
    {
     "data": {
      "text/plain": [
       "8-element Vector{String}:\n",
       " \"CIC0\"\n",
       " \"SM1_Dz\"\n",
       " \"GATS1i\"\n",
       " \"NdsCH\"\n",
       " \"NdssC\"\n",
       " \"MLOGP\"\n",
       " \"LC50\"\n",
       " \"MIS\""
      ]
     },
     "execution_count": 31,
     "metadata": {},
     "output_type": "execute_result"
    }
   ],
   "source": [
    "header = [\"CIC0\", \"SM1_Dz\", \"GATS1i\",\n",
    "          \"NdsCH\", \"NdssC\", \"MLOGP\", \"LC50\",\"MIS\"]"
   ]
  },
  {
   "cell_type": "code",
   "execution_count": 33,
   "metadata": {},
   "outputs": [
    {
     "data": {
      "text/html": [
       "<table class=\"data-frame\"><thead><tr><th></th><th>CIC0</th><th>SM1_Dz</th><th>GATS1i</th><th>NdsCH</th><th>NdssC</th><th>MLOGP</th><th>LC50</th><th>MIS</th></tr><tr><th></th><th>String?</th><th>String</th><th>String</th><th>String</th><th>String</th><th>String</th><th>String</th><th>String</th></tr></thead><tbody><p>3 rows × 8 columns</p><tr><th>1</th><td>col1</td><td>col2</td><td>col3</td><td>col4</td><td>col5</td><td>col6</td><td>col7</td><td>col8</td></tr><tr><th>2</th><td><em>missing</em></td><td>1</td><td>1.0</td><td>1</td><td>one</td><td>2019-01-01</td><td>2019-01-01T00:00:00</td><td>true</td></tr><tr><th>3</th><td><em>missing</em></td><td>2</td><td>2.0</td><td>2</td><td>two</td><td>2019-01-02</td><td>2019-01-02T00:00:00</td><td>false</td></tr></tbody></table>"
      ],
      "text/latex": [
       "\\begin{tabular}{r|cccccccc}\n",
       "\t& CIC0 & SM1\\_Dz & GATS1i & NdsCH & NdssC & MLOGP & LC50 & MIS\\\\\n",
       "\t\\hline\n",
       "\t& String? & String & String & String & String & String & String & String\\\\\n",
       "\t\\hline\n",
       "\t1 & col1 & col2 & col3 & col4 & col5 & col6 & col7 & col8 \\\\\n",
       "\t2 & \\emph{missing} & 1 & 1.0 & 1 & one & 2019-01-01 & 2019-01-01T00:00:00 & true \\\\\n",
       "\t3 & \\emph{missing} & 2 & 2.0 & 2 & two & 2019-01-02 & 2019-01-02T00:00:00 & false \\\\\n",
       "\\end{tabular}\n"
      ],
      "text/plain": [
       "\u001b[1m3×8 DataFrame\u001b[0m\n",
       "\u001b[1m Row \u001b[0m│\u001b[1m CIC0    \u001b[0m\u001b[1m SM1_Dz \u001b[0m\u001b[1m GATS1i \u001b[0m\u001b[1m NdsCH  \u001b[0m\u001b[1m NdssC  \u001b[0m\u001b[1m MLOGP      \u001b[0m\u001b[1m LC50              \u001b[0m ⋯\n",
       "\u001b[1m     \u001b[0m│\u001b[90m String? \u001b[0m\u001b[90m String \u001b[0m\u001b[90m String \u001b[0m\u001b[90m String \u001b[0m\u001b[90m String \u001b[0m\u001b[90m String     \u001b[0m\u001b[90m String            \u001b[0m ⋯\n",
       "─────┼──────────────────────────────────────────────────────────────────────────\n",
       "   1 │ col1     col2    col3    col4    col5    col6        col7               ⋯\n",
       "   2 │\u001b[90m missing \u001b[0m 1       1.0     1       one     2019-01-01  2019-01-01T00:00:0\n",
       "   3 │\u001b[90m missing \u001b[0m 2       2.0     2       two     2019-01-02  2019-01-02T00:00:0\n",
       "\u001b[36m                                                               2 columns omitted\u001b[0m"
      ]
     },
     "execution_count": 33,
     "metadata": {},
     "output_type": "execute_result"
    }
   ],
   "source": [
    "data = CSV.read(fpath, DataFrame,header = header)\n",
    "first(data,3)"
   ]
  },
  {
   "cell_type": "code",
   "execution_count": 44,
   "metadata": {},
   "outputs": [
    {
     "data": {
      "text/html": [
       "<table class=\"data-frame\"><thead><tr><th></th><th>Column1</th><th>Column2</th><th>Column3</th><th>Column4</th><th>Column5</th><th>Column6</th><th>Column7</th><th>Column8</th></tr><tr><th></th><th>String</th><th>String</th><th>String</th><th>String</th><th>String</th><th>String</th><th>String</th><th>String</th></tr></thead><tbody><p>4 rows × 8 columns</p><tr><th>1</th><td>col1</td><td>col2</td><td>col3</td><td>col4</td><td>col5</td><td>col6</td><td>col7</td><td>col8</td></tr><tr><th>2</th><td></td><td>1</td><td>1.0</td><td>1</td><td>one</td><td>2019-01-01</td><td>2019-01-01T00:00:00</td><td>true</td></tr><tr><th>3</th><td></td><td>2</td><td>2.0</td><td>2</td><td>two</td><td>2019-01-02</td><td>2019-01-02T00:00:00</td><td>false</td></tr><tr><th>4</th><td></td><td>3</td><td>3.0</td><td>3.14</td><td>three</td><td>2019-01-03</td><td>2019-01-03T00:00:00</td><td>true</td></tr></tbody></table>"
      ],
      "text/latex": [
       "\\begin{tabular}{r|cccccccc}\n",
       "\t& Column1 & Column2 & Column3 & Column4 & Column5 & Column6 & Column7 & Column8\\\\\n",
       "\t\\hline\n",
       "\t& String & String & String & String & String & String & String & String\\\\\n",
       "\t\\hline\n",
       "\t1 & col1 & col2 & col3 & col4 & col5 & col6 & col7 & col8 \\\\\n",
       "\t2 &  & 1 & 1.0 & 1 & one & 2019-01-01 & 2019-01-01T00:00:00 & true \\\\\n",
       "\t3 &  & 2 & 2.0 & 2 & two & 2019-01-02 & 2019-01-02T00:00:00 & false \\\\\n",
       "\t4 &  & 3 & 3.0 & 3.14 & three & 2019-01-03 & 2019-01-03T00:00:00 & true \\\\\n",
       "\\end{tabular}\n"
      ],
      "text/plain": [
       "\u001b[1m4×8 DataFrame\u001b[0m\n",
       "\u001b[1m Row \u001b[0m│\u001b[1m Column1 \u001b[0m\u001b[1m Column2 \u001b[0m\u001b[1m Column3 \u001b[0m\u001b[1m Column4 \u001b[0m\u001b[1m Column5 \u001b[0m\u001b[1m Column6    \u001b[0m\u001b[1m Column7       \u001b[0m ⋯\n",
       "\u001b[1m     \u001b[0m│\u001b[90m String  \u001b[0m\u001b[90m String  \u001b[0m\u001b[90m String  \u001b[0m\u001b[90m String  \u001b[0m\u001b[90m String  \u001b[0m\u001b[90m String     \u001b[0m\u001b[90m String        \u001b[0m ⋯\n",
       "─────┼──────────────────────────────────────────────────────────────────────────\n",
       "   1 │ col1     col2     col3     col4     col5     col6        col7           ⋯\n",
       "   2 │          1        1.0      1        one      2019-01-01  2019-01-01T00:\n",
       "   3 │          2        2.0      2        two      2019-01-02  2019-01-02T00:\n",
       "   4 │          3        3.0      3.14     three    2019-01-03  2019-01-03T00:\n",
       "\u001b[36m                                                               2 columns omitted\u001b[0m"
      ]
     },
     "execution_count": 44,
     "metadata": {},
     "output_type": "execute_result"
    }
   ],
   "source": [
    "data = CSV.read(fpath, DataFrame, header = false, missingstring=\"?\")"
   ]
  },
  {
   "cell_type": "code",
   "execution_count": null,
   "metadata": {},
   "outputs": [],
   "source": []
  },
  {
   "cell_type": "markdown",
   "metadata": {},
   "source": [
    "# Manipulating a DataFrame"
   ]
  },
  {
   "cell_type": "code",
   "execution_count": 45,
   "metadata": {},
   "outputs": [
    {
     "data": {
      "text/plain": [
       "DataFrame"
      ]
     },
     "execution_count": 45,
     "metadata": {},
     "output_type": "execute_result"
    }
   ],
   "source": [
    "typeof(boston)"
   ]
  },
  {
   "cell_type": "code",
   "execution_count": 46,
   "metadata": {},
   "outputs": [
    {
     "data": {
      "text/plain": [
       "14-element Vector{String}:\n",
       " \"Crim\"\n",
       " \"Zn\"\n",
       " \"Indus\"\n",
       " \"Chas\"\n",
       " \"NOx\"\n",
       " \"Rm\"\n",
       " \"Age\"\n",
       " \"Dis\"\n",
       " \"Rad\"\n",
       " \"Tax\"\n",
       " \"PTRatio\"\n",
       " \"Black\"\n",
       " \"LStat\"\n",
       " \"MedV\""
      ]
     },
     "execution_count": 46,
     "metadata": {},
     "output_type": "execute_result"
    }
   ],
   "source": [
    "names(boston)"
   ]
  },
  {
   "cell_type": "code",
   "execution_count": 47,
   "metadata": {},
   "outputs": [
    {
     "data": {
      "text/html": [
       "<table class=\"data-frame\"><thead><tr><th></th><th>Crim</th><th>Zn</th><th>Indus</th><th>Chas</th><th>NOx</th><th>Rm</th><th>Age</th><th>Dis</th><th>Rad</th><th>Tax</th></tr><tr><th></th><th>Float64</th><th>Float64</th><th>Float64</th><th>Int64</th><th>Float64</th><th>Float64</th><th>Float64</th><th>Float64</th><th>Int64</th><th>Int64</th></tr></thead><tbody><p>4 rows × 14 columns (omitted printing of 4 columns)</p><tr><th>1</th><td>0.00632</td><td>18.0</td><td>2.31</td><td>0</td><td>0.538</td><td>6.575</td><td>65.2</td><td>4.09</td><td>1</td><td>296</td></tr><tr><th>2</th><td>0.02731</td><td>0.0</td><td>7.07</td><td>0</td><td>0.469</td><td>6.421</td><td>78.9</td><td>4.9671</td><td>2</td><td>242</td></tr><tr><th>3</th><td>0.02729</td><td>0.0</td><td>7.07</td><td>0</td><td>0.469</td><td>7.185</td><td>61.1</td><td>4.9671</td><td>2</td><td>242</td></tr><tr><th>4</th><td>0.03237</td><td>0.0</td><td>2.18</td><td>0</td><td>0.458</td><td>6.998</td><td>45.8</td><td>6.0622</td><td>3</td><td>222</td></tr></tbody></table>"
      ],
      "text/latex": [
       "\\begin{tabular}{r|ccccccccccc}\n",
       "\t& Crim & Zn & Indus & Chas & NOx & Rm & Age & Dis & Rad & Tax & \\\\\n",
       "\t\\hline\n",
       "\t& Float64 & Float64 & Float64 & Int64 & Float64 & Float64 & Float64 & Float64 & Int64 & Int64 & \\\\\n",
       "\t\\hline\n",
       "\t1 & 0.00632 & 18.0 & 2.31 & 0 & 0.538 & 6.575 & 65.2 & 4.09 & 1 & 296 & $\\dots$ \\\\\n",
       "\t2 & 0.02731 & 0.0 & 7.07 & 0 & 0.469 & 6.421 & 78.9 & 4.9671 & 2 & 242 & $\\dots$ \\\\\n",
       "\t3 & 0.02729 & 0.0 & 7.07 & 0 & 0.469 & 7.185 & 61.1 & 4.9671 & 2 & 242 & $\\dots$ \\\\\n",
       "\t4 & 0.03237 & 0.0 & 2.18 & 0 & 0.458 & 6.998 & 45.8 & 6.0622 & 3 & 222 & $\\dots$ \\\\\n",
       "\\end{tabular}\n"
      ],
      "text/plain": [
       "\u001b[1m4×14 DataFrame\u001b[0m\n",
       "\u001b[1m Row \u001b[0m│\u001b[1m Crim    \u001b[0m\u001b[1m Zn      \u001b[0m\u001b[1m Indus   \u001b[0m\u001b[1m Chas  \u001b[0m\u001b[1m NOx     \u001b[0m\u001b[1m Rm      \u001b[0m\u001b[1m Age     \u001b[0m\u001b[1m Dis     \u001b[0m\u001b[1m R\u001b[0m ⋯\n",
       "\u001b[1m     \u001b[0m│\u001b[90m Float64 \u001b[0m\u001b[90m Float64 \u001b[0m\u001b[90m Float64 \u001b[0m\u001b[90m Int64 \u001b[0m\u001b[90m Float64 \u001b[0m\u001b[90m Float64 \u001b[0m\u001b[90m Float64 \u001b[0m\u001b[90m Float64 \u001b[0m\u001b[90m I\u001b[0m ⋯\n",
       "─────┼──────────────────────────────────────────────────────────────────────────\n",
       "   1 │ 0.00632     18.0     2.31      0    0.538    6.575     65.2   4.09    1 ⋯\n",
       "   2 │ 0.02731      0.0     7.07      0    0.469    6.421     78.9   4.9671  2\n",
       "   3 │ 0.02729      0.0     7.07      0    0.469    7.185     61.1   4.9671  2\n",
       "   4 │ 0.03237      0.0     2.18      0    0.458    6.998     45.8   6.0622  3\n",
       "\u001b[36m                                                               6 columns omitted\u001b[0m"
      ]
     },
     "execution_count": 47,
     "metadata": {},
     "output_type": "execute_result"
    }
   ],
   "source": [
    "first(boston,4)"
   ]
  },
  {
   "cell_type": "code",
   "execution_count": 48,
   "metadata": {},
   "outputs": [
    {
     "data": {
      "text/plain": [
       "5-element Vector{Float64}:\n",
       " 0.00632\n",
       " 0.02731\n",
       " 0.02729\n",
       " 0.03237\n",
       " 0.06905"
      ]
     },
     "execution_count": 48,
     "metadata": {},
     "output_type": "execute_result"
    }
   ],
   "source": [
    "boston.Crim[1:5]"
   ]
  },
  {
   "cell_type": "code",
   "execution_count": 49,
   "metadata": {},
   "outputs": [
    {
     "data": {
      "text/plain": [
       "0.469"
      ]
     },
     "execution_count": 49,
     "metadata": {},
     "output_type": "execute_result"
    }
   ],
   "source": [
    "boston[3,5]"
   ]
  },
  {
   "cell_type": "code",
   "execution_count": 51,
   "metadata": {},
   "outputs": [
    {
     "data": {
      "text/html": [
       "<table class=\"data-frame\"><thead><tr><th></th><th>Crim</th><th>Zn</th></tr><tr><th></th><th>Float64</th><th>Float64</th></tr></thead><tbody><p>5 rows × 2 columns</p><tr><th>1</th><td>0.00632</td><td>18.0</td></tr><tr><th>2</th><td>0.02731</td><td>0.0</td></tr><tr><th>3</th><td>0.02729</td><td>0.0</td></tr><tr><th>4</th><td>0.03237</td><td>0.0</td></tr><tr><th>5</th><td>0.06905</td><td>0.0</td></tr></tbody></table>"
      ],
      "text/latex": [
       "\\begin{tabular}{r|cc}\n",
       "\t& Crim & Zn\\\\\n",
       "\t\\hline\n",
       "\t& Float64 & Float64\\\\\n",
       "\t\\hline\n",
       "\t1 & 0.00632 & 18.0 \\\\\n",
       "\t2 & 0.02731 & 0.0 \\\\\n",
       "\t3 & 0.02729 & 0.0 \\\\\n",
       "\t4 & 0.03237 & 0.0 \\\\\n",
       "\t5 & 0.06905 & 0.0 \\\\\n",
       "\\end{tabular}\n"
      ],
      "text/plain": [
       "\u001b[1m5×2 DataFrame\u001b[0m\n",
       "\u001b[1m Row \u001b[0m│\u001b[1m Crim    \u001b[0m\u001b[1m Zn      \u001b[0m\n",
       "\u001b[1m     \u001b[0m│\u001b[90m Float64 \u001b[0m\u001b[90m Float64 \u001b[0m\n",
       "─────┼──────────────────\n",
       "   1 │ 0.00632     18.0\n",
       "   2 │ 0.02731      0.0\n",
       "   3 │ 0.02729      0.0\n",
       "   4 │ 0.03237      0.0\n",
       "   5 │ 0.06905      0.0"
      ]
     },
     "execution_count": 51,
     "metadata": {},
     "output_type": "execute_result"
    }
   ],
   "source": [
    "boston[1:5,[:Crim, :Zn]]"
   ]
  },
  {
   "cell_type": "code",
   "execution_count": 53,
   "metadata": {},
   "outputs": [
    {
     "data": {
      "text/html": [
       "<table class=\"data-frame\"><thead><tr><th></th><th>Crim</th><th>Zn</th></tr><tr><th></th><th>Float64</th><th>Float64</th></tr></thead><tbody><p>5 rows × 2 columns</p><tr><th>1</th><td>0.00632</td><td>18.0</td></tr><tr><th>2</th><td>0.02731</td><td>0.0</td></tr><tr><th>3</th><td>0.02729</td><td>0.0</td></tr><tr><th>4</th><td>0.03237</td><td>0.0</td></tr><tr><th>5</th><td>0.06905</td><td>0.0</td></tr></tbody></table>"
      ],
      "text/latex": [
       "\\begin{tabular}{r|cc}\n",
       "\t& Crim & Zn\\\\\n",
       "\t\\hline\n",
       "\t& Float64 & Float64\\\\\n",
       "\t\\hline\n",
       "\t1 & 0.00632 & 18.0 \\\\\n",
       "\t2 & 0.02731 & 0.0 \\\\\n",
       "\t3 & 0.02729 & 0.0 \\\\\n",
       "\t4 & 0.03237 & 0.0 \\\\\n",
       "\t5 & 0.06905 & 0.0 \\\\\n",
       "\\end{tabular}\n"
      ],
      "text/plain": [
       "\u001b[1m5×2 DataFrame\u001b[0m\n",
       "\u001b[1m Row \u001b[0m│\u001b[1m Crim    \u001b[0m\u001b[1m Zn      \u001b[0m\n",
       "\u001b[1m     \u001b[0m│\u001b[90m Float64 \u001b[0m\u001b[90m Float64 \u001b[0m\n",
       "─────┼──────────────────\n",
       "   1 │ 0.00632     18.0\n",
       "   2 │ 0.02731      0.0\n",
       "   3 │ 0.02729      0.0\n",
       "   4 │ 0.03237      0.0\n",
       "   5 │ 0.06905      0.0"
      ]
     },
     "execution_count": 53,
     "metadata": {},
     "output_type": "execute_result"
    }
   ],
   "source": [
    "boston[1:5, 1:2]"
   ]
  },
  {
   "cell_type": "code",
   "execution_count": 56,
   "metadata": {},
   "outputs": [
    {
     "data": {
      "text/html": [
       "<table class=\"data-frame\"><thead><tr><th></th><th>Crim</th><th>Zn</th><th>Indus</th></tr><tr><th></th><th>Float64</th><th>Float64</th><th>Float64</th></tr></thead><tbody><p>2 rows × 3 columns</p><tr><th>1</th><td>0.00632</td><td>18.0</td><td>2.31</td></tr><tr><th>2</th><td>0.02731</td><td>0.0</td><td>7.07</td></tr></tbody></table>"
      ],
      "text/latex": [
       "\\begin{tabular}{r|ccc}\n",
       "\t& Crim & Zn & Indus\\\\\n",
       "\t\\hline\n",
       "\t& Float64 & Float64 & Float64\\\\\n",
       "\t\\hline\n",
       "\t1 & 0.00632 & 18.0 & 2.31 \\\\\n",
       "\t2 & 0.02731 & 0.0 & 7.07 \\\\\n",
       "\\end{tabular}\n"
      ],
      "text/plain": [
       "\u001b[1m2×3 DataFrame\u001b[0m\n",
       "\u001b[1m Row \u001b[0m│\u001b[1m Crim    \u001b[0m\u001b[1m Zn      \u001b[0m\u001b[1m Indus   \u001b[0m\n",
       "\u001b[1m     \u001b[0m│\u001b[90m Float64 \u001b[0m\u001b[90m Float64 \u001b[0m\u001b[90m Float64 \u001b[0m\n",
       "─────┼───────────────────────────\n",
       "   1 │ 0.00632     18.0     2.31\n",
       "   2 │ 0.02731      0.0     7.07"
      ]
     },
     "execution_count": 56,
     "metadata": {},
     "output_type": "execute_result"
    }
   ],
   "source": [
    "b1 = select(boston,[:Crim, :Zn, :Indus])\n",
    "first(b1,2)"
   ]
  },
  {
   "cell_type": "code",
   "execution_count": 61,
   "metadata": {},
   "outputs": [
    {
     "data": {
      "text/html": [
       "<p>DataFrameRow (13 columns)</p><table class=\"data-frame\"><thead><tr><th></th><th>Crim</th><th>Zn</th><th>Indus</th><th>Chas</th><th>Rm</th><th>Age</th><th>Dis</th><th>Rad</th><th>Tax</th><th>PTRatio</th></tr><tr><th></th><th>Float64</th><th>Float64</th><th>Float64</th><th>Int64</th><th>Float64</th><th>Float64</th><th>Float64</th><th>Int64</th><th>Int64</th><th>Float64</th></tr></thead><tbody><tr><th>1</th><td>0.00632</td><td>18.0</td><td>2.31</td><td>0</td><td>6.575</td><td>65.2</td><td>4.09</td><td>1</td><td>296</td><td>15.3</td></tr></tbody></table>"
      ],
      "text/latex": [
       "\\begin{tabular}{r|ccccccccccc}\n",
       "\t& Crim & Zn & Indus & Chas & Rm & Age & Dis & Rad & Tax & PTRatio & \\\\\n",
       "\t\\hline\n",
       "\t& Float64 & Float64 & Float64 & Int64 & Float64 & Float64 & Float64 & Int64 & Int64 & Float64 & \\\\\n",
       "\t\\hline\n",
       "\t1 & 0.00632 & 18.0 & 2.31 & 0 & 6.575 & 65.2 & 4.09 & 1 & 296 & 15.3 & $\\dots$ \\\\\n",
       "\\end{tabular}\n"
      ],
      "text/plain": [
       "\u001b[1mDataFrameRow\u001b[0m\n",
       "\u001b[1m Row \u001b[0m│\u001b[1m Crim    \u001b[0m\u001b[1m Zn      \u001b[0m\u001b[1m Indus   \u001b[0m\u001b[1m Chas  \u001b[0m\u001b[1m Rm      \u001b[0m\u001b[1m Age     \u001b[0m\u001b[1m Dis     \u001b[0m\u001b[1m Rad   \u001b[0m\u001b[1m Tax\u001b[0m ⋯\n",
       "\u001b[1m     \u001b[0m│\u001b[90m Float64 \u001b[0m\u001b[90m Float64 \u001b[0m\u001b[90m Float64 \u001b[0m\u001b[90m Int64 \u001b[0m\u001b[90m Float64 \u001b[0m\u001b[90m Float64 \u001b[0m\u001b[90m Float64 \u001b[0m\u001b[90m Int64 \u001b[0m\u001b[90m Int\u001b[0m ⋯\n",
       "─────┼──────────────────────────────────────────────────────────────────────────\n",
       "   1 │ 0.00632     18.0     2.31      0    6.575     65.2     4.09      1  296 ⋯\n",
       "\u001b[36m                                                               5 columns omitted\u001b[0m"
      ]
     },
     "execution_count": 61,
     "metadata": {},
     "output_type": "execute_result"
    }
   ],
   "source": [
    "b2 = select(boston, Not(:NOx))\n",
    "first(b2)"
   ]
  },
  {
   "cell_type": "code",
   "execution_count": 64,
   "metadata": {},
   "outputs": [
    {
     "data": {
      "text/html": [
       "<p>DataFrameRow (2 columns)</p><table class=\"data-frame\"><thead><tr><th></th><th>Zn</th><th>Indus</th></tr><tr><th></th><th>Float64</th><th>Float64</th></tr></thead><tbody><tr><th>1</th><td>18.0</td><td>2.31</td></tr></tbody></table>"
      ],
      "text/latex": [
       "\\begin{tabular}{r|cc}\n",
       "\t& Zn & Indus\\\\\n",
       "\t\\hline\n",
       "\t& Float64 & Float64\\\\\n",
       "\t\\hline\n",
       "\t1 & 18.0 & 2.31 \\\\\n",
       "\\end{tabular}\n"
      ],
      "text/plain": [
       "\u001b[1mDataFrameRow\u001b[0m\n",
       "\u001b[1m Row \u001b[0m│\u001b[1m Zn      \u001b[0m\u001b[1m Indus   \u001b[0m\n",
       "\u001b[1m     \u001b[0m│\u001b[90m Float64 \u001b[0m\u001b[90m Float64 \u001b[0m\n",
       "─────┼──────────────────\n",
       "   1 │    18.0     2.31"
      ]
     },
     "execution_count": 64,
     "metadata": {},
     "output_type": "execute_result"
    }
   ],
   "source": [
    "select!(b1, Not(:Crim))\n",
    "first(b1)"
   ]
  },
  {
   "cell_type": "code",
   "execution_count": 66,
   "metadata": {},
   "outputs": [
    {
     "data": {
      "text/html": [
       "<p>DataFrameRow (2 columns)</p><table class=\"data-frame\"><thead><tr><th></th><th>Zn</th><th>Indus</th></tr><tr><th></th><th>Float64</th><th>Float64</th></tr></thead><tbody><tr><th>1</th><td>18.0</td><td>2.31</td></tr></tbody></table>"
      ],
      "text/latex": [
       "\\begin{tabular}{r|cc}\n",
       "\t& Zn & Indus\\\\\n",
       "\t\\hline\n",
       "\t& Float64 & Float64\\\\\n",
       "\t\\hline\n",
       "\t1 & 18.0 & 2.31 \\\\\n",
       "\\end{tabular}\n"
      ],
      "text/plain": [
       "\u001b[1mDataFrameRow\u001b[0m\n",
       "\u001b[1m Row \u001b[0m│\u001b[1m Zn      \u001b[0m\u001b[1m Indus   \u001b[0m\n",
       "\u001b[1m     \u001b[0m│\u001b[90m Float64 \u001b[0m\u001b[90m Float64 \u001b[0m\n",
       "─────┼──────────────────\n",
       "   1 │    18.0     2.31"
      ]
     },
     "execution_count": 66,
     "metadata": {},
     "output_type": "execute_result"
    }
   ],
   "source": [
    "first(b1)"
   ]
  },
  {
   "cell_type": "code",
   "execution_count": 67,
   "metadata": {},
   "outputs": [],
   "source": [
    "using StatsBase"
   ]
  },
  {
   "cell_type": "code",
   "execution_count": 68,
   "metadata": {},
   "outputs": [
    {
     "data": {
      "text/html": [
       "<table class=\"data-frame\"><thead><tr><th></th><th>variable</th><th>mean</th><th>min</th><th>median</th><th>max</th><th>nmissing</th><th>eltype</th></tr><tr><th></th><th>Symbol</th><th>Float64</th><th>Real</th><th>Float64</th><th>Real</th><th>Int64</th><th>DataType</th></tr></thead><tbody><p>14 rows × 7 columns</p><tr><th>1</th><td>Crim</td><td>3.61352</td><td>0.00632</td><td>0.25651</td><td>88.9762</td><td>0</td><td>Float64</td></tr><tr><th>2</th><td>Zn</td><td>11.3636</td><td>0.0</td><td>0.0</td><td>100.0</td><td>0</td><td>Float64</td></tr><tr><th>3</th><td>Indus</td><td>11.1368</td><td>0.46</td><td>9.69</td><td>27.74</td><td>0</td><td>Float64</td></tr><tr><th>4</th><td>Chas</td><td>0.06917</td><td>0</td><td>0.0</td><td>1</td><td>0</td><td>Int64</td></tr><tr><th>5</th><td>NOx</td><td>0.554695</td><td>0.385</td><td>0.538</td><td>0.871</td><td>0</td><td>Float64</td></tr><tr><th>6</th><td>Rm</td><td>6.28463</td><td>3.561</td><td>6.2085</td><td>8.78</td><td>0</td><td>Float64</td></tr><tr><th>7</th><td>Age</td><td>68.5749</td><td>2.9</td><td>77.5</td><td>100.0</td><td>0</td><td>Float64</td></tr><tr><th>8</th><td>Dis</td><td>3.79504</td><td>1.1296</td><td>3.20745</td><td>12.1265</td><td>0</td><td>Float64</td></tr><tr><th>9</th><td>Rad</td><td>9.54941</td><td>1</td><td>5.0</td><td>24</td><td>0</td><td>Int64</td></tr><tr><th>10</th><td>Tax</td><td>408.237</td><td>187</td><td>330.0</td><td>711</td><td>0</td><td>Int64</td></tr><tr><th>11</th><td>PTRatio</td><td>18.4555</td><td>12.6</td><td>19.05</td><td>22.0</td><td>0</td><td>Float64</td></tr><tr><th>12</th><td>Black</td><td>356.674</td><td>0.32</td><td>391.44</td><td>396.9</td><td>0</td><td>Float64</td></tr><tr><th>13</th><td>LStat</td><td>12.6531</td><td>1.73</td><td>11.36</td><td>37.97</td><td>0</td><td>Float64</td></tr><tr><th>14</th><td>MedV</td><td>22.5328</td><td>5.0</td><td>21.2</td><td>50.0</td><td>0</td><td>Float64</td></tr></tbody></table>"
      ],
      "text/latex": [
       "\\begin{tabular}{r|ccccccc}\n",
       "\t& variable & mean & min & median & max & nmissing & eltype\\\\\n",
       "\t\\hline\n",
       "\t& Symbol & Float64 & Real & Float64 & Real & Int64 & DataType\\\\\n",
       "\t\\hline\n",
       "\t1 & Crim & 3.61352 & 0.00632 & 0.25651 & 88.9762 & 0 & Float64 \\\\\n",
       "\t2 & Zn & 11.3636 & 0.0 & 0.0 & 100.0 & 0 & Float64 \\\\\n",
       "\t3 & Indus & 11.1368 & 0.46 & 9.69 & 27.74 & 0 & Float64 \\\\\n",
       "\t4 & Chas & 0.06917 & 0 & 0.0 & 1 & 0 & Int64 \\\\\n",
       "\t5 & NOx & 0.554695 & 0.385 & 0.538 & 0.871 & 0 & Float64 \\\\\n",
       "\t6 & Rm & 6.28463 & 3.561 & 6.2085 & 8.78 & 0 & Float64 \\\\\n",
       "\t7 & Age & 68.5749 & 2.9 & 77.5 & 100.0 & 0 & Float64 \\\\\n",
       "\t8 & Dis & 3.79504 & 1.1296 & 3.20745 & 12.1265 & 0 & Float64 \\\\\n",
       "\t9 & Rad & 9.54941 & 1 & 5.0 & 24 & 0 & Int64 \\\\\n",
       "\t10 & Tax & 408.237 & 187 & 330.0 & 711 & 0 & Int64 \\\\\n",
       "\t11 & PTRatio & 18.4555 & 12.6 & 19.05 & 22.0 & 0 & Float64 \\\\\n",
       "\t12 & Black & 356.674 & 0.32 & 391.44 & 396.9 & 0 & Float64 \\\\\n",
       "\t13 & LStat & 12.6531 & 1.73 & 11.36 & 37.97 & 0 & Float64 \\\\\n",
       "\t14 & MedV & 22.5328 & 5.0 & 21.2 & 50.0 & 0 & Float64 \\\\\n",
       "\\end{tabular}\n"
      ],
      "text/plain": [
       "\u001b[1m14×7 DataFrame\u001b[0m\n",
       "\u001b[1m Row \u001b[0m│\u001b[1m variable \u001b[0m\u001b[1m mean       \u001b[0m\u001b[1m min     \u001b[0m\u001b[1m median    \u001b[0m\u001b[1m max     \u001b[0m\u001b[1m nmissing \u001b[0m\u001b[1m eltype   \u001b[0m\n",
       "\u001b[1m     \u001b[0m│\u001b[90m Symbol   \u001b[0m\u001b[90m Float64    \u001b[0m\u001b[90m Real    \u001b[0m\u001b[90m Float64   \u001b[0m\u001b[90m Real    \u001b[0m\u001b[90m Int64    \u001b[0m\u001b[90m DataType \u001b[0m\n",
       "─────┼───────────────────────────────────────────────────────────────────────\n",
       "   1 │ Crim        3.61352   0.00632    0.25651  88.9762         0  Float64\n",
       "   2 │ Zn         11.3636        0.0    0.0        100.0         0  Float64\n",
       "   3 │ Indus      11.1368       0.46    9.69       27.74         0  Float64\n",
       "   4 │ Chas        0.06917         0    0.0            1         0  Int64\n",
       "   5 │ NOx         0.554695    0.385    0.538      0.871         0  Float64\n",
       "   6 │ Rm          6.28463     3.561    6.2085      8.78         0  Float64\n",
       "   7 │ Age        68.5749        2.9   77.5        100.0         0  Float64\n",
       "   8 │ Dis         3.79504    1.1296    3.20745  12.1265         0  Float64\n",
       "   9 │ Rad         9.54941         1    5.0           24         0  Int64\n",
       "  10 │ Tax       408.237         187  330.0          711         0  Int64\n",
       "  11 │ PTRatio    18.4555       12.6   19.05        22.0         0  Float64\n",
       "  12 │ Black     356.674        0.32  391.44       396.9         0  Float64\n",
       "  13 │ LStat      12.6531       1.73   11.36       37.97         0  Float64\n",
       "  14 │ MedV       22.5328        5.0   21.2         50.0         0  Float64"
      ]
     },
     "execution_count": 68,
     "metadata": {},
     "output_type": "execute_result"
    }
   ],
   "source": [
    "describe(boston)"
   ]
  },
  {
   "cell_type": "code",
   "execution_count": 70,
   "metadata": {},
   "outputs": [
    {
     "data": {
      "text/html": [
       "<table class=\"data-frame\"><thead><tr><th></th><th>variable</th><th>min</th><th>max</th><th>mean</th><th>median</th><th>std</th></tr><tr><th></th><th>Symbol</th><th>Real</th><th>Real</th><th>Float64</th><th>Float64</th><th>Float64</th></tr></thead><tbody><p>14 rows × 6 columns</p><tr><th>1</th><td>Crim</td><td>0.00632</td><td>88.9762</td><td>3.61352</td><td>0.25651</td><td>8.60155</td></tr><tr><th>2</th><td>Zn</td><td>0.0</td><td>100.0</td><td>11.3636</td><td>0.0</td><td>23.3225</td></tr><tr><th>3</th><td>Indus</td><td>0.46</td><td>27.74</td><td>11.1368</td><td>9.69</td><td>6.86035</td></tr><tr><th>4</th><td>Chas</td><td>0</td><td>1</td><td>0.06917</td><td>0.0</td><td>0.253994</td></tr><tr><th>5</th><td>NOx</td><td>0.385</td><td>0.871</td><td>0.554695</td><td>0.538</td><td>0.115878</td></tr><tr><th>6</th><td>Rm</td><td>3.561</td><td>8.78</td><td>6.28463</td><td>6.2085</td><td>0.702617</td></tr><tr><th>7</th><td>Age</td><td>2.9</td><td>100.0</td><td>68.5749</td><td>77.5</td><td>28.1489</td></tr><tr><th>8</th><td>Dis</td><td>1.1296</td><td>12.1265</td><td>3.79504</td><td>3.20745</td><td>2.10571</td></tr><tr><th>9</th><td>Rad</td><td>1</td><td>24</td><td>9.54941</td><td>5.0</td><td>8.70726</td></tr><tr><th>10</th><td>Tax</td><td>187</td><td>711</td><td>408.237</td><td>330.0</td><td>168.537</td></tr><tr><th>11</th><td>PTRatio</td><td>12.6</td><td>22.0</td><td>18.4555</td><td>19.05</td><td>2.16495</td></tr><tr><th>12</th><td>Black</td><td>0.32</td><td>396.9</td><td>356.674</td><td>391.44</td><td>91.2949</td></tr><tr><th>13</th><td>LStat</td><td>1.73</td><td>37.97</td><td>12.6531</td><td>11.36</td><td>7.14106</td></tr><tr><th>14</th><td>MedV</td><td>5.0</td><td>50.0</td><td>22.5328</td><td>21.2</td><td>9.1971</td></tr></tbody></table>"
      ],
      "text/latex": [
       "\\begin{tabular}{r|cccccc}\n",
       "\t& variable & min & max & mean & median & std\\\\\n",
       "\t\\hline\n",
       "\t& Symbol & Real & Real & Float64 & Float64 & Float64\\\\\n",
       "\t\\hline\n",
       "\t1 & Crim & 0.00632 & 88.9762 & 3.61352 & 0.25651 & 8.60155 \\\\\n",
       "\t2 & Zn & 0.0 & 100.0 & 11.3636 & 0.0 & 23.3225 \\\\\n",
       "\t3 & Indus & 0.46 & 27.74 & 11.1368 & 9.69 & 6.86035 \\\\\n",
       "\t4 & Chas & 0 & 1 & 0.06917 & 0.0 & 0.253994 \\\\\n",
       "\t5 & NOx & 0.385 & 0.871 & 0.554695 & 0.538 & 0.115878 \\\\\n",
       "\t6 & Rm & 3.561 & 8.78 & 6.28463 & 6.2085 & 0.702617 \\\\\n",
       "\t7 & Age & 2.9 & 100.0 & 68.5749 & 77.5 & 28.1489 \\\\\n",
       "\t8 & Dis & 1.1296 & 12.1265 & 3.79504 & 3.20745 & 2.10571 \\\\\n",
       "\t9 & Rad & 1 & 24 & 9.54941 & 5.0 & 8.70726 \\\\\n",
       "\t10 & Tax & 187 & 711 & 408.237 & 330.0 & 168.537 \\\\\n",
       "\t11 & PTRatio & 12.6 & 22.0 & 18.4555 & 19.05 & 2.16495 \\\\\n",
       "\t12 & Black & 0.32 & 396.9 & 356.674 & 391.44 & 91.2949 \\\\\n",
       "\t13 & LStat & 1.73 & 37.97 & 12.6531 & 11.36 & 7.14106 \\\\\n",
       "\t14 & MedV & 5.0 & 50.0 & 22.5328 & 21.2 & 9.1971 \\\\\n",
       "\\end{tabular}\n"
      ],
      "text/plain": [
       "\u001b[1m14×6 DataFrame\u001b[0m\n",
       "\u001b[1m Row \u001b[0m│\u001b[1m variable \u001b[0m\u001b[1m min     \u001b[0m\u001b[1m max     \u001b[0m\u001b[1m mean       \u001b[0m\u001b[1m median    \u001b[0m\u001b[1m std        \u001b[0m\n",
       "\u001b[1m     \u001b[0m│\u001b[90m Symbol   \u001b[0m\u001b[90m Real    \u001b[0m\u001b[90m Real    \u001b[0m\u001b[90m Float64    \u001b[0m\u001b[90m Float64   \u001b[0m\u001b[90m Float64    \u001b[0m\n",
       "─────┼───────────────────────────────────────────────────────────────\n",
       "   1 │ Crim      0.00632  88.9762    3.61352     0.25651    8.60155\n",
       "   2 │ Zn            0.0    100.0   11.3636      0.0       23.3225\n",
       "   3 │ Indus        0.46    27.74   11.1368      9.69       6.86035\n",
       "   4 │ Chas            0        1    0.06917     0.0        0.253994\n",
       "   5 │ NOx         0.385    0.871    0.554695    0.538      0.115878\n",
       "   6 │ Rm          3.561     8.78    6.28463     6.2085     0.702617\n",
       "   7 │ Age           2.9    100.0   68.5749     77.5       28.1489\n",
       "   8 │ Dis        1.1296  12.1265    3.79504     3.20745    2.10571\n",
       "   9 │ Rad             1       24    9.54941     5.0        8.70726\n",
       "  10 │ Tax           187      711  408.237     330.0      168.537\n",
       "  11 │ PTRatio      12.6     22.0   18.4555     19.05       2.16495\n",
       "  12 │ Black        0.32    396.9  356.674     391.44      91.2949\n",
       "  13 │ LStat        1.73    37.97   12.6531     11.36       7.14106\n",
       "  14 │ MedV          5.0     50.0   22.5328     21.2        9.1971"
      ]
     },
     "execution_count": 70,
     "metadata": {},
     "output_type": "execute_result"
    }
   ],
   "source": [
    "describe(boston, :min,:max,:mean,:median,:std)"
   ]
  },
  {
   "cell_type": "code",
   "execution_count": 72,
   "metadata": {
    "scrolled": true
   },
   "outputs": [
    {
     "data": {
      "text/html": [
       "<table class=\"data-frame\"><thead><tr><th></th><th>variable</th><th>mean</th><th>std</th><th>min</th><th>q25</th><th>median</th><th>q75</th><th>max</th><th>nunique</th></tr><tr><th></th><th>Symbol</th><th>Float64</th><th>Float64</th><th>Real</th><th>Float64</th><th>Float64</th><th>Float64</th><th>Real</th><th>Nothing</th></tr></thead><tbody><p>14 rows × 13 columns (omitted printing of 4 columns)</p><tr><th>1</th><td>Crim</td><td>3.61352</td><td>8.60155</td><td>0.00632</td><td>0.082045</td><td>0.25651</td><td>3.67708</td><td>88.9762</td><td></td></tr><tr><th>2</th><td>Zn</td><td>11.3636</td><td>23.3225</td><td>0.0</td><td>0.0</td><td>0.0</td><td>12.5</td><td>100.0</td><td></td></tr><tr><th>3</th><td>Indus</td><td>11.1368</td><td>6.86035</td><td>0.46</td><td>5.19</td><td>9.69</td><td>18.1</td><td>27.74</td><td></td></tr><tr><th>4</th><td>Chas</td><td>0.06917</td><td>0.253994</td><td>0</td><td>0.0</td><td>0.0</td><td>0.0</td><td>1</td><td></td></tr><tr><th>5</th><td>NOx</td><td>0.554695</td><td>0.115878</td><td>0.385</td><td>0.449</td><td>0.538</td><td>0.624</td><td>0.871</td><td></td></tr><tr><th>6</th><td>Rm</td><td>6.28463</td><td>0.702617</td><td>3.561</td><td>5.8855</td><td>6.2085</td><td>6.6235</td><td>8.78</td><td></td></tr><tr><th>7</th><td>Age</td><td>68.5749</td><td>28.1489</td><td>2.9</td><td>45.025</td><td>77.5</td><td>94.075</td><td>100.0</td><td></td></tr><tr><th>8</th><td>Dis</td><td>3.79504</td><td>2.10571</td><td>1.1296</td><td>2.10018</td><td>3.20745</td><td>5.18843</td><td>12.1265</td><td></td></tr><tr><th>9</th><td>Rad</td><td>9.54941</td><td>8.70726</td><td>1</td><td>4.0</td><td>5.0</td><td>24.0</td><td>24</td><td></td></tr><tr><th>10</th><td>Tax</td><td>408.237</td><td>168.537</td><td>187</td><td>279.0</td><td>330.0</td><td>666.0</td><td>711</td><td></td></tr><tr><th>11</th><td>PTRatio</td><td>18.4555</td><td>2.16495</td><td>12.6</td><td>17.4</td><td>19.05</td><td>20.2</td><td>22.0</td><td></td></tr><tr><th>12</th><td>Black</td><td>356.674</td><td>91.2949</td><td>0.32</td><td>375.377</td><td>391.44</td><td>396.225</td><td>396.9</td><td></td></tr><tr><th>13</th><td>LStat</td><td>12.6531</td><td>7.14106</td><td>1.73</td><td>6.95</td><td>11.36</td><td>16.955</td><td>37.97</td><td></td></tr><tr><th>14</th><td>MedV</td><td>22.5328</td><td>9.1971</td><td>5.0</td><td>17.025</td><td>21.2</td><td>25.0</td><td>50.0</td><td></td></tr></tbody></table>"
      ],
      "text/latex": [
       "\\begin{tabular}{r|cccccccccc}\n",
       "\t& variable & mean & std & min & q25 & median & q75 & max & nunique & \\\\\n",
       "\t\\hline\n",
       "\t& Symbol & Float64 & Float64 & Real & Float64 & Float64 & Float64 & Real & Nothing & \\\\\n",
       "\t\\hline\n",
       "\t1 & Crim & 3.61352 & 8.60155 & 0.00632 & 0.082045 & 0.25651 & 3.67708 & 88.9762 &  & $\\dots$ \\\\\n",
       "\t2 & Zn & 11.3636 & 23.3225 & 0.0 & 0.0 & 0.0 & 12.5 & 100.0 &  & $\\dots$ \\\\\n",
       "\t3 & Indus & 11.1368 & 6.86035 & 0.46 & 5.19 & 9.69 & 18.1 & 27.74 &  & $\\dots$ \\\\\n",
       "\t4 & Chas & 0.06917 & 0.253994 & 0 & 0.0 & 0.0 & 0.0 & 1 &  & $\\dots$ \\\\\n",
       "\t5 & NOx & 0.554695 & 0.115878 & 0.385 & 0.449 & 0.538 & 0.624 & 0.871 &  & $\\dots$ \\\\\n",
       "\t6 & Rm & 6.28463 & 0.702617 & 3.561 & 5.8855 & 6.2085 & 6.6235 & 8.78 &  & $\\dots$ \\\\\n",
       "\t7 & Age & 68.5749 & 28.1489 & 2.9 & 45.025 & 77.5 & 94.075 & 100.0 &  & $\\dots$ \\\\\n",
       "\t8 & Dis & 3.79504 & 2.10571 & 1.1296 & 2.10018 & 3.20745 & 5.18843 & 12.1265 &  & $\\dots$ \\\\\n",
       "\t9 & Rad & 9.54941 & 8.70726 & 1 & 4.0 & 5.0 & 24.0 & 24 &  & $\\dots$ \\\\\n",
       "\t10 & Tax & 408.237 & 168.537 & 187 & 279.0 & 330.0 & 666.0 & 711 &  & $\\dots$ \\\\\n",
       "\t11 & PTRatio & 18.4555 & 2.16495 & 12.6 & 17.4 & 19.05 & 20.2 & 22.0 &  & $\\dots$ \\\\\n",
       "\t12 & Black & 356.674 & 91.2949 & 0.32 & 375.377 & 391.44 & 396.225 & 396.9 &  & $\\dots$ \\\\\n",
       "\t13 & LStat & 12.6531 & 7.14106 & 1.73 & 6.95 & 11.36 & 16.955 & 37.97 &  & $\\dots$ \\\\\n",
       "\t14 & MedV & 22.5328 & 9.1971 & 5.0 & 17.025 & 21.2 & 25.0 & 50.0 &  & $\\dots$ \\\\\n",
       "\\end{tabular}\n"
      ],
      "text/plain": [
       "\u001b[1m14×13 DataFrame\u001b[0m\n",
       "\u001b[1m Row \u001b[0m│\u001b[1m variable \u001b[0m\u001b[1m mean       \u001b[0m\u001b[1m std        \u001b[0m\u001b[1m min     \u001b[0m\u001b[1m q25        \u001b[0m\u001b[1m median    \u001b[0m\u001b[1m q75  \u001b[0m ⋯\n",
       "\u001b[1m     \u001b[0m│\u001b[90m Symbol   \u001b[0m\u001b[90m Float64    \u001b[0m\u001b[90m Float64    \u001b[0m\u001b[90m Real    \u001b[0m\u001b[90m Float64    \u001b[0m\u001b[90m Float64   \u001b[0m\u001b[90m Float\u001b[0m ⋯\n",
       "─────┼──────────────────────────────────────────────────────────────────────────\n",
       "   1 │ Crim        3.61352     8.60155   0.00632    0.082045    0.25651    3.6 ⋯\n",
       "   2 │ Zn         11.3636     23.3225        0.0    0.0         0.0       12.5\n",
       "   3 │ Indus      11.1368      6.86035      0.46    5.19        9.69      18.1\n",
       "   4 │ Chas        0.06917     0.253994        0    0.0         0.0        0.0\n",
       "   5 │ NOx         0.554695    0.115878    0.385    0.449       0.538      0.6 ⋯\n",
       "   6 │ Rm          6.28463     0.702617    3.561    5.8855      6.2085     6.6\n",
       "   7 │ Age        68.5749     28.1489        2.9   45.025      77.5       94.0\n",
       "   8 │ Dis         3.79504     2.10571    1.1296    2.10018     3.20745    5.1\n",
       "   9 │ Rad         9.54941     8.70726         1    4.0         5.0       24.0 ⋯\n",
       "  10 │ Tax       408.237     168.537         187  279.0       330.0      666.0\n",
       "  11 │ PTRatio    18.4555      2.16495      12.6   17.4        19.05      20.2\n",
       "  12 │ Black     356.674      91.2949       0.32  375.377     391.44     396.2\n",
       "  13 │ LStat      12.6531      7.14106      1.73    6.95       11.36      16.9 ⋯\n",
       "  14 │ MedV       22.5328      9.1971        5.0   17.025      21.2       25.0\n",
       "\u001b[36m                                                               7 columns omitted\u001b[0m"
      ]
     },
     "execution_count": 72,
     "metadata": {},
     "output_type": "execute_result"
    }
   ],
   "source": [
    "describe(boston, :all)"
   ]
  },
  {
   "cell_type": "code",
   "execution_count": 73,
   "metadata": {},
   "outputs": [],
   "source": [
    "# you can also pass a custom function to desctibe"
   ]
  },
  {
   "cell_type": "code",
   "execution_count": 80,
   "metadata": {},
   "outputs": [
    {
     "data": {
      "text/html": [
       "<table class=\"data-frame\"><thead><tr><th></th><th>variable</th><th>mean</th><th>median</th><th>foofa</th></tr><tr><th></th><th>Symbol</th><th>Float64</th><th>Float64</th><th>Float64</th></tr></thead><tbody><p>3 rows × 4 columns</p><tr><th>1</th><td>Crim</td><td>3.61352</td><td>0.25651</td><td>3.61352</td></tr><tr><th>2</th><td>Zn</td><td>11.3636</td><td>0.0</td><td>11.3636</td></tr><tr><th>3</th><td>Indus</td><td>11.1368</td><td>9.69</td><td>11.1368</td></tr></tbody></table>"
      ],
      "text/latex": [
       "\\begin{tabular}{r|cccc}\n",
       "\t& variable & mean & median & foofa\\\\\n",
       "\t\\hline\n",
       "\t& Symbol & Float64 & Float64 & Float64\\\\\n",
       "\t\\hline\n",
       "\t1 & Crim & 3.61352 & 0.25651 & 3.61352 \\\\\n",
       "\t2 & Zn & 11.3636 & 0.0 & 11.3636 \\\\\n",
       "\t3 & Indus & 11.1368 & 9.69 & 11.1368 \\\\\n",
       "\\end{tabular}\n"
      ],
      "text/plain": [
       "\u001b[1m3×4 DataFrame\u001b[0m\n",
       "\u001b[1m Row \u001b[0m│\u001b[1m variable \u001b[0m\u001b[1m mean     \u001b[0m\u001b[1m median  \u001b[0m\u001b[1m foofa    \u001b[0m\n",
       "\u001b[1m     \u001b[0m│\u001b[90m Symbol   \u001b[0m\u001b[90m Float64  \u001b[0m\u001b[90m Float64 \u001b[0m\u001b[90m Float64  \u001b[0m\n",
       "─────┼───────────────────────────────────────\n",
       "   1 │ Crim       3.61352  0.25651   3.61352\n",
       "   2 │ Zn        11.3636   0.0      11.3636\n",
       "   3 │ Indus     11.1368   9.69     11.1368"
      ]
     },
     "execution_count": 80,
     "metadata": {},
     "output_type": "execute_result"
    }
   ],
   "source": [
    "foo(x) = sum(abs.(x)) / length(x)\n",
    "d = describe(boston, :mean, :median, :foofa => foo)\n",
    "first(d, 3)"
   ]
  },
  {
   "cell_type": "code",
   "execution_count": 83,
   "metadata": {},
   "outputs": [
    {
     "data": {
      "text/html": [
       "<table class=\"data-frame\"><thead><tr><th></th><th>variable</th><th>max</th><th>mean</th><th>cg_avg</th></tr><tr><th></th><th>Symbol</th><th>Real</th><th>Float64</th><th>Float64</th></tr></thead><tbody><p>14 rows × 4 columns</p><tr><th>1</th><td>Crim</td><td>88.9762</td><td>3.61352</td><td>3.61352</td></tr><tr><th>2</th><td>Zn</td><td>100.0</td><td>11.3636</td><td>11.3636</td></tr><tr><th>3</th><td>Indus</td><td>27.74</td><td>11.1368</td><td>11.1368</td></tr><tr><th>4</th><td>Chas</td><td>1</td><td>0.06917</td><td>0.06917</td></tr><tr><th>5</th><td>NOx</td><td>0.871</td><td>0.554695</td><td>0.554695</td></tr><tr><th>6</th><td>Rm</td><td>8.78</td><td>6.28463</td><td>6.28463</td></tr><tr><th>7</th><td>Age</td><td>100.0</td><td>68.5749</td><td>68.5749</td></tr><tr><th>8</th><td>Dis</td><td>12.1265</td><td>3.79504</td><td>3.79504</td></tr><tr><th>9</th><td>Rad</td><td>24</td><td>9.54941</td><td>9.54941</td></tr><tr><th>10</th><td>Tax</td><td>711</td><td>408.237</td><td>408.237</td></tr><tr><th>11</th><td>PTRatio</td><td>22.0</td><td>18.4555</td><td>18.4555</td></tr><tr><th>12</th><td>Black</td><td>396.9</td><td>356.674</td><td>356.674</td></tr><tr><th>13</th><td>LStat</td><td>37.97</td><td>12.6531</td><td>12.6531</td></tr><tr><th>14</th><td>MedV</td><td>50.0</td><td>22.5328</td><td>22.5328</td></tr></tbody></table>"
      ],
      "text/latex": [
       "\\begin{tabular}{r|cccc}\n",
       "\t& variable & max & mean & cg\\_avg\\\\\n",
       "\t\\hline\n",
       "\t& Symbol & Real & Float64 & Float64\\\\\n",
       "\t\\hline\n",
       "\t1 & Crim & 88.9762 & 3.61352 & 3.61352 \\\\\n",
       "\t2 & Zn & 100.0 & 11.3636 & 11.3636 \\\\\n",
       "\t3 & Indus & 27.74 & 11.1368 & 11.1368 \\\\\n",
       "\t4 & Chas & 1 & 0.06917 & 0.06917 \\\\\n",
       "\t5 & NOx & 0.871 & 0.554695 & 0.554695 \\\\\n",
       "\t6 & Rm & 8.78 & 6.28463 & 6.28463 \\\\\n",
       "\t7 & Age & 100.0 & 68.5749 & 68.5749 \\\\\n",
       "\t8 & Dis & 12.1265 & 3.79504 & 3.79504 \\\\\n",
       "\t9 & Rad & 24 & 9.54941 & 9.54941 \\\\\n",
       "\t10 & Tax & 711 & 408.237 & 408.237 \\\\\n",
       "\t11 & PTRatio & 22.0 & 18.4555 & 18.4555 \\\\\n",
       "\t12 & Black & 396.9 & 356.674 & 356.674 \\\\\n",
       "\t13 & LStat & 37.97 & 12.6531 & 12.6531 \\\\\n",
       "\t14 & MedV & 50.0 & 22.5328 & 22.5328 \\\\\n",
       "\\end{tabular}\n"
      ],
      "text/plain": [
       "\u001b[1m14×4 DataFrame\u001b[0m\n",
       "\u001b[1m Row \u001b[0m│\u001b[1m variable \u001b[0m\u001b[1m max     \u001b[0m\u001b[1m mean       \u001b[0m\u001b[1m cg_avg     \u001b[0m\n",
       "\u001b[1m     \u001b[0m│\u001b[90m Symbol   \u001b[0m\u001b[90m Real    \u001b[0m\u001b[90m Float64    \u001b[0m\u001b[90m Float64    \u001b[0m\n",
       "─────┼───────────────────────────────────────────\n",
       "   1 │ Crim      88.9762    3.61352     3.61352\n",
       "   2 │ Zn          100.0   11.3636     11.3636\n",
       "   3 │ Indus       27.74   11.1368     11.1368\n",
       "   4 │ Chas            1    0.06917     0.06917\n",
       "   5 │ NOx         0.871    0.554695    0.554695\n",
       "   6 │ Rm           8.78    6.28463     6.28463\n",
       "   7 │ Age         100.0   68.5749     68.5749\n",
       "   8 │ Dis       12.1265    3.79504     3.79504\n",
       "   9 │ Rad            24    9.54941     9.54941\n",
       "  10 │ Tax           711  408.237     408.237\n",
       "  11 │ PTRatio      22.0   18.4555     18.4555\n",
       "  12 │ Black       396.9  356.674     356.674\n",
       "  13 │ LStat       37.97   12.6531     12.6531\n",
       "  14 │ MedV         50.0   22.5328     22.5328"
      ]
     },
     "execution_count": 83,
     "metadata": {},
     "output_type": "execute_result"
    }
   ],
   "source": [
    "cg_avg(x) = sum(abs.(x))/length(x)\n",
    "d4 = describe(boston, :max,:mean, :cg_avg => cg_avg)"
   ]
  },
  {
   "cell_type": "code",
   "execution_count": 86,
   "metadata": {},
   "outputs": [],
   "source": [
    "# Further to StatsBase, Statistics offers a range of \n",
    "# useful functions for data analysis.\n",
    "using Statistics"
   ]
  },
  {
   "cell_type": "markdown",
   "metadata": {},
   "source": [
    "## Converting the data"
   ]
  },
  {
   "cell_type": "code",
   "execution_count": 88,
   "metadata": {},
   "outputs": [
    {
     "data": {
      "text/html": [
       "<table class=\"data-frame\"><thead><tr><th></th><th>Crim</th><th>Zn</th><th>Indus</th><th>Chas</th><th>NOx</th><th>Rm</th><th>Age</th><th>Dis</th><th>Rad</th><th>Tax</th></tr><tr><th></th><th>Float64</th><th>Float64</th><th>Float64</th><th>Int64</th><th>Float64</th><th>Float64</th><th>Float64</th><th>Float64</th><th>Int64</th><th>Int64</th></tr></thead><tbody><p>5 rows × 14 columns (omitted printing of 4 columns)</p><tr><th>1</th><td>0.00632</td><td>18.0</td><td>2.31</td><td>0</td><td>0.538</td><td>6.575</td><td>65.2</td><td>4.09</td><td>1</td><td>296</td></tr><tr><th>2</th><td>0.02731</td><td>0.0</td><td>7.07</td><td>0</td><td>0.469</td><td>6.421</td><td>78.9</td><td>4.9671</td><td>2</td><td>242</td></tr><tr><th>3</th><td>0.02729</td><td>0.0</td><td>7.07</td><td>0</td><td>0.469</td><td>7.185</td><td>61.1</td><td>4.9671</td><td>2</td><td>242</td></tr><tr><th>4</th><td>0.03237</td><td>0.0</td><td>2.18</td><td>0</td><td>0.458</td><td>6.998</td><td>45.8</td><td>6.0622</td><td>3</td><td>222</td></tr><tr><th>5</th><td>0.06905</td><td>0.0</td><td>2.18</td><td>0</td><td>0.458</td><td>7.147</td><td>54.2</td><td>6.0622</td><td>3</td><td>222</td></tr></tbody></table>"
      ],
      "text/latex": [
       "\\begin{tabular}{r|ccccccccccc}\n",
       "\t& Crim & Zn & Indus & Chas & NOx & Rm & Age & Dis & Rad & Tax & \\\\\n",
       "\t\\hline\n",
       "\t& Float64 & Float64 & Float64 & Int64 & Float64 & Float64 & Float64 & Float64 & Int64 & Int64 & \\\\\n",
       "\t\\hline\n",
       "\t1 & 0.00632 & 18.0 & 2.31 & 0 & 0.538 & 6.575 & 65.2 & 4.09 & 1 & 296 & $\\dots$ \\\\\n",
       "\t2 & 0.02731 & 0.0 & 7.07 & 0 & 0.469 & 6.421 & 78.9 & 4.9671 & 2 & 242 & $\\dots$ \\\\\n",
       "\t3 & 0.02729 & 0.0 & 7.07 & 0 & 0.469 & 7.185 & 61.1 & 4.9671 & 2 & 242 & $\\dots$ \\\\\n",
       "\t4 & 0.03237 & 0.0 & 2.18 & 0 & 0.458 & 6.998 & 45.8 & 6.0622 & 3 & 222 & $\\dots$ \\\\\n",
       "\t5 & 0.06905 & 0.0 & 2.18 & 0 & 0.458 & 7.147 & 54.2 & 6.0622 & 3 & 222 & $\\dots$ \\\\\n",
       "\\end{tabular}\n"
      ],
      "text/plain": [
       "\u001b[1m5×14 DataFrame\u001b[0m\n",
       "\u001b[1m Row \u001b[0m│\u001b[1m Crim    \u001b[0m\u001b[1m Zn      \u001b[0m\u001b[1m Indus   \u001b[0m\u001b[1m Chas  \u001b[0m\u001b[1m NOx     \u001b[0m\u001b[1m Rm      \u001b[0m\u001b[1m Age     \u001b[0m\u001b[1m Dis     \u001b[0m\u001b[1m R\u001b[0m ⋯\n",
       "\u001b[1m     \u001b[0m│\u001b[90m Float64 \u001b[0m\u001b[90m Float64 \u001b[0m\u001b[90m Float64 \u001b[0m\u001b[90m Int64 \u001b[0m\u001b[90m Float64 \u001b[0m\u001b[90m Float64 \u001b[0m\u001b[90m Float64 \u001b[0m\u001b[90m Float64 \u001b[0m\u001b[90m I\u001b[0m ⋯\n",
       "─────┼──────────────────────────────────────────────────────────────────────────\n",
       "   1 │ 0.00632     18.0     2.31      0    0.538    6.575     65.2   4.09    1 ⋯\n",
       "   2 │ 0.02731      0.0     7.07      0    0.469    6.421     78.9   4.9671  2\n",
       "   3 │ 0.02729      0.0     7.07      0    0.469    7.185     61.1   4.9671  2\n",
       "   4 │ 0.03237      0.0     2.18      0    0.458    6.998     45.8   6.0622  3\n",
       "   5 │ 0.06905      0.0     2.18      0    0.458    7.147     54.2   6.0622  3 ⋯\n",
       "\u001b[36m                                                               6 columns omitted\u001b[0m"
      ]
     },
     "execution_count": 88,
     "metadata": {},
     "output_type": "execute_result"
    }
   ],
   "source": [
    "first(boston,5)"
   ]
  },
  {
   "cell_type": "code",
   "execution_count": 89,
   "metadata": {},
   "outputs": [
    {
     "data": {
      "text/plain": [
       "506×14 Matrix{Float64}:\n",
       " 0.00632  18.0   2.31  0.0  0.538  6.575  …  296.0  15.3  396.9    4.98  24.0\n",
       " 0.02731   0.0   7.07  0.0  0.469  6.421     242.0  17.8  396.9    9.14  21.6\n",
       " 0.02729   0.0   7.07  0.0  0.469  7.185     242.0  17.8  392.83   4.03  34.7\n",
       " 0.03237   0.0   2.18  0.0  0.458  6.998     222.0  18.7  394.63   2.94  33.4\n",
       " 0.06905   0.0   2.18  0.0  0.458  7.147     222.0  18.7  396.9    5.33  36.2\n",
       " 0.02985   0.0   2.18  0.0  0.458  6.43   …  222.0  18.7  394.12   5.21  28.7\n",
       " 0.08829  12.5   7.87  0.0  0.524  6.012     311.0  15.2  395.6   12.43  22.9\n",
       " 0.14455  12.5   7.87  0.0  0.524  6.172     311.0  15.2  396.9   19.15  27.1\n",
       " 0.21124  12.5   7.87  0.0  0.524  5.631     311.0  15.2  386.63  29.93  16.5\n",
       " 0.17004  12.5   7.87  0.0  0.524  6.004     311.0  15.2  386.71  17.1   18.9\n",
       " 0.22489  12.5   7.87  0.0  0.524  6.377  …  311.0  15.2  392.52  20.45  15.0\n",
       " 0.11747  12.5   7.87  0.0  0.524  6.009     311.0  15.2  396.9   13.27  18.9\n",
       " 0.09378  12.5   7.87  0.0  0.524  5.889     311.0  15.2  390.5   15.71  21.7\n",
       " ⋮                                 ⋮      ⋱          ⋮                   \n",
       " 0.27957   0.0   9.69  0.0  0.585  5.926     391.0  19.2  396.9   13.59  24.5\n",
       " 0.17899   0.0   9.69  0.0  0.585  5.67   …  391.0  19.2  393.29  17.6   23.1\n",
       " 0.2896    0.0   9.69  0.0  0.585  5.39      391.0  19.2  396.9   21.14  19.7\n",
       " 0.26838   0.0   9.69  0.0  0.585  5.794     391.0  19.2  396.9   14.1   18.3\n",
       " 0.23912   0.0   9.69  0.0  0.585  6.019     391.0  19.2  396.9   12.92  21.2\n",
       " 0.17783   0.0   9.69  0.0  0.585  5.569     391.0  19.2  395.77  15.1   17.5\n",
       " 0.22438   0.0   9.69  0.0  0.585  6.027  …  391.0  19.2  396.9   14.33  16.8\n",
       " 0.06263   0.0  11.93  0.0  0.573  6.593     273.0  21.0  391.99   9.67  22.4\n",
       " 0.04527   0.0  11.93  0.0  0.573  6.12      273.0  21.0  396.9    9.08  20.6\n",
       " 0.06076   0.0  11.93  0.0  0.573  6.976     273.0  21.0  396.9    5.64  23.9\n",
       " 0.10959   0.0  11.93  0.0  0.573  6.794     273.0  21.0  393.45   6.48  22.0\n",
       " 0.04741   0.0  11.93  0.0  0.573  6.03   …  273.0  21.0  396.9    7.88  11.9"
      ]
     },
     "execution_count": 89,
     "metadata": {},
     "output_type": "execute_result"
    }
   ],
   "source": [
    "mat = convert(Matrix,boston)"
   ]
  },
  {
   "cell_type": "code",
   "execution_count": 91,
   "metadata": {},
   "outputs": [
    {
     "data": {
      "text/plain": [
       "6-element Vector{Float64}:\n",
       " 0.00632\n",
       " 0.02731\n",
       " 0.02729\n",
       " 0.03237\n",
       " 0.06905\n",
       " 0.02985"
      ]
     },
     "execution_count": 91,
     "metadata": {},
     "output_type": "execute_result"
    }
   ],
   "source": [
    "first(mat,6)"
   ]
  },
  {
   "cell_type": "code",
   "execution_count": 92,
   "metadata": {},
   "outputs": [
    {
     "data": {
      "text/plain": [
       "5×5 Matrix{Float64}:\n",
       " 0.00632  18.0  2.31  0.0  0.538\n",
       " 0.02731   0.0  7.07  0.0  0.469\n",
       " 0.02729   0.0  7.07  0.0  0.469\n",
       " 0.03237   0.0  2.18  0.0  0.458\n",
       " 0.06905   0.0  2.18  0.0  0.458"
      ]
     },
     "execution_count": 92,
     "metadata": {},
     "output_type": "execute_result"
    }
   ],
   "source": [
    "mat[1:5,1:5]"
   ]
  },
  {
   "cell_type": "code",
   "execution_count": 105,
   "metadata": {},
   "outputs": [],
   "source": [
    "# Adding column\n",
    "boston.Crim_x_Zn = boston.Crim .* boston.Zn;"
   ]
  },
  {
   "cell_type": "code",
   "execution_count": 101,
   "metadata": {},
   "outputs": [
    {
     "data": {
      "text/plain": [
       "506-element Vector{Float64}:\n",
       " 0.11376\n",
       " 0.0\n",
       " 0.0\n",
       " 0.0\n",
       " 0.0\n",
       " 0.0\n",
       " 1.1036249999999999\n",
       " 1.8068750000000002\n",
       " 2.6405000000000003\n",
       " 2.1255\n",
       " 2.811125\n",
       " 1.468375\n",
       " 1.17225\n",
       " ⋮\n",
       " 0.0\n",
       " 0.0\n",
       " 0.0\n",
       " 0.0\n",
       " 0.0\n",
       " 0.0\n",
       " 0.0\n",
       " 0.0\n",
       " 0.0\n",
       " 0.0\n",
       " 0.0\n",
       " 0.0"
      ]
     },
     "execution_count": 101,
     "metadata": {},
     "output_type": "execute_result"
    }
   ],
   "source": [
    "boston.Crim_x_Zn"
   ]
  },
  {
   "cell_type": "code",
   "execution_count": 95,
   "metadata": {},
   "outputs": [
    {
     "data": {
      "text/plain": [
       "Vector{Float64} (alias for Array{Float64, 1})"
      ]
     },
     "execution_count": 95,
     "metadata": {},
     "output_type": "execute_result"
    }
   ],
   "source": [
    "typeof(boston.Crim_x_Zn)"
   ]
  },
  {
   "cell_type": "code",
   "execution_count": 96,
   "metadata": {},
   "outputs": [
    {
     "data": {
      "text/plain": [
       "DataFrame"
      ]
     },
     "execution_count": 96,
     "metadata": {},
     "output_type": "execute_result"
    }
   ],
   "source": [
    "typeof(boston)"
   ]
  },
  {
   "cell_type": "code",
   "execution_count": 104,
   "metadata": {},
   "outputs": [
    {
     "data": {
      "text/html": [
       "<table class=\"data-frame\"><thead><tr><th></th><th>variable</th><th>mean</th><th>min</th><th>median</th><th>max</th><th>nmissing</th><th>eltype</th></tr><tr><th></th><th>Symbol</th><th>Float64</th><th>Real</th><th>Float64</th><th>Real</th><th>Int64</th><th>DataType</th></tr></thead><tbody><p>15 rows × 7 columns</p><tr><th>1</th><td>Crim</td><td>3.61352</td><td>0.00632</td><td>0.25651</td><td>88.9762</td><td>0</td><td>Float64</td></tr><tr><th>2</th><td>Zn</td><td>11.3636</td><td>0.0</td><td>0.0</td><td>100.0</td><td>0</td><td>Float64</td></tr><tr><th>3</th><td>Indus</td><td>11.1368</td><td>0.46</td><td>9.69</td><td>27.74</td><td>0</td><td>Float64</td></tr><tr><th>4</th><td>Chas</td><td>0.06917</td><td>0</td><td>0.0</td><td>1</td><td>0</td><td>Int64</td></tr><tr><th>5</th><td>NOx</td><td>0.554695</td><td>0.385</td><td>0.538</td><td>0.871</td><td>0</td><td>Float64</td></tr><tr><th>6</th><td>Rm</td><td>6.28463</td><td>3.561</td><td>6.2085</td><td>8.78</td><td>0</td><td>Float64</td></tr><tr><th>7</th><td>Age</td><td>68.5749</td><td>2.9</td><td>77.5</td><td>100.0</td><td>0</td><td>Float64</td></tr><tr><th>8</th><td>Dis</td><td>3.79504</td><td>1.1296</td><td>3.20745</td><td>12.1265</td><td>0</td><td>Float64</td></tr><tr><th>9</th><td>Rad</td><td>9.54941</td><td>1</td><td>5.0</td><td>24</td><td>0</td><td>Int64</td></tr><tr><th>10</th><td>Tax</td><td>408.237</td><td>187</td><td>330.0</td><td>711</td><td>0</td><td>Int64</td></tr><tr><th>11</th><td>PTRatio</td><td>18.4555</td><td>12.6</td><td>19.05</td><td>22.0</td><td>0</td><td>Float64</td></tr><tr><th>12</th><td>Black</td><td>356.674</td><td>0.32</td><td>391.44</td><td>396.9</td><td>0</td><td>Float64</td></tr><tr><th>13</th><td>LStat</td><td>12.6531</td><td>1.73</td><td>11.36</td><td>37.97</td><td>0</td><td>Float64</td></tr><tr><th>14</th><td>MedV</td><td>22.5328</td><td>5.0</td><td>21.2</td><td>50.0</td><td>0</td><td>Float64</td></tr><tr><th>15</th><td>Crim_x_Zn</td><td>0.92629</td><td>0.0</td><td>0.0</td><td>16.5052</td><td>0</td><td>Float64</td></tr></tbody></table>"
      ],
      "text/latex": [
       "\\begin{tabular}{r|ccccccc}\n",
       "\t& variable & mean & min & median & max & nmissing & eltype\\\\\n",
       "\t\\hline\n",
       "\t& Symbol & Float64 & Real & Float64 & Real & Int64 & DataType\\\\\n",
       "\t\\hline\n",
       "\t1 & Crim & 3.61352 & 0.00632 & 0.25651 & 88.9762 & 0 & Float64 \\\\\n",
       "\t2 & Zn & 11.3636 & 0.0 & 0.0 & 100.0 & 0 & Float64 \\\\\n",
       "\t3 & Indus & 11.1368 & 0.46 & 9.69 & 27.74 & 0 & Float64 \\\\\n",
       "\t4 & Chas & 0.06917 & 0 & 0.0 & 1 & 0 & Int64 \\\\\n",
       "\t5 & NOx & 0.554695 & 0.385 & 0.538 & 0.871 & 0 & Float64 \\\\\n",
       "\t6 & Rm & 6.28463 & 3.561 & 6.2085 & 8.78 & 0 & Float64 \\\\\n",
       "\t7 & Age & 68.5749 & 2.9 & 77.5 & 100.0 & 0 & Float64 \\\\\n",
       "\t8 & Dis & 3.79504 & 1.1296 & 3.20745 & 12.1265 & 0 & Float64 \\\\\n",
       "\t9 & Rad & 9.54941 & 1 & 5.0 & 24 & 0 & Int64 \\\\\n",
       "\t10 & Tax & 408.237 & 187 & 330.0 & 711 & 0 & Int64 \\\\\n",
       "\t11 & PTRatio & 18.4555 & 12.6 & 19.05 & 22.0 & 0 & Float64 \\\\\n",
       "\t12 & Black & 356.674 & 0.32 & 391.44 & 396.9 & 0 & Float64 \\\\\n",
       "\t13 & LStat & 12.6531 & 1.73 & 11.36 & 37.97 & 0 & Float64 \\\\\n",
       "\t14 & MedV & 22.5328 & 5.0 & 21.2 & 50.0 & 0 & Float64 \\\\\n",
       "\t15 & Crim\\_x\\_Zn & 0.92629 & 0.0 & 0.0 & 16.5052 & 0 & Float64 \\\\\n",
       "\\end{tabular}\n"
      ],
      "text/plain": [
       "\u001b[1m15×7 DataFrame\u001b[0m\n",
       "\u001b[1m Row \u001b[0m│\u001b[1m variable  \u001b[0m\u001b[1m mean       \u001b[0m\u001b[1m min     \u001b[0m\u001b[1m median    \u001b[0m\u001b[1m max     \u001b[0m\u001b[1m nmissing \u001b[0m\u001b[1m eltype   \u001b[0m\n",
       "\u001b[1m     \u001b[0m│\u001b[90m Symbol    \u001b[0m\u001b[90m Float64    \u001b[0m\u001b[90m Real    \u001b[0m\u001b[90m Float64   \u001b[0m\u001b[90m Real    \u001b[0m\u001b[90m Int64    \u001b[0m\u001b[90m DataType \u001b[0m\n",
       "─────┼────────────────────────────────────────────────────────────────────────\n",
       "   1 │ Crim         3.61352   0.00632    0.25651  88.9762         0  Float64\n",
       "   2 │ Zn          11.3636        0.0    0.0        100.0         0  Float64\n",
       "   3 │ Indus       11.1368       0.46    9.69       27.74         0  Float64\n",
       "   4 │ Chas         0.06917         0    0.0            1         0  Int64\n",
       "   5 │ NOx          0.554695    0.385    0.538      0.871         0  Float64\n",
       "   6 │ Rm           6.28463     3.561    6.2085      8.78         0  Float64\n",
       "   7 │ Age         68.5749        2.9   77.5        100.0         0  Float64\n",
       "   8 │ Dis          3.79504    1.1296    3.20745  12.1265         0  Float64\n",
       "   9 │ Rad          9.54941         1    5.0           24         0  Int64\n",
       "  10 │ Tax        408.237         187  330.0          711         0  Int64\n",
       "  11 │ PTRatio     18.4555       12.6   19.05        22.0         0  Float64\n",
       "  12 │ Black      356.674        0.32  391.44       396.9         0  Float64\n",
       "  13 │ LStat       12.6531       1.73   11.36       37.97         0  Float64\n",
       "  14 │ MedV        22.5328        5.0   21.2         50.0         0  Float64\n",
       "  15 │ Crim_x_Zn    0.92629       0.0    0.0      16.5052         0  Float64"
      ]
     },
     "execution_count": 104,
     "metadata": {},
     "output_type": "execute_result"
    }
   ],
   "source": [
    "describe(boston)"
   ]
  },
  {
   "cell_type": "code",
   "execution_count": 108,
   "metadata": {},
   "outputs": [
    {
     "data": {
      "text/html": [
       "<table class=\"data-frame\"><thead><tr><th></th><th>variable</th><th>mean</th><th>min</th><th>median</th><th>max</th><th>nmissing</th><th>eltype</th></tr><tr><th></th><th>Symbol</th><th>Union…</th><th>Any</th><th>Union…</th><th>Any</th><th>Int64</th><th>Type</th></tr></thead><tbody><p>19 rows × 7 columns</p><tr><th>1</th><td>ID</td><td></td><td>2341.00</td><td></td><td>Grid H9</td><td>0</td><td>String</td></tr><tr><th>2</th><td>Type</td><td>0.538235</td><td>0</td><td>1.0</td><td>1</td><td>0</td><td>Int64</td></tr><tr><th>3</th><td>Gender</td><td>0.558824</td><td>0</td><td>1.0</td><td>1</td><td>0</td><td>Int64</td></tr><tr><th>4</th><td>Age</td><td>73.5395</td><td>26</td><td>77.0</td><td>91</td><td>188</td><td>Union{Missing, Int64}</td></tr><tr><th>5</th><td>AAO</td><td>53.0682</td><td>33</td><td>55.0</td><td>71</td><td>296</td><td>Union{Missing, Int64}</td></tr><tr><th>6</th><td>AAD</td><td>54.6222</td><td>35</td><td>57.0</td><td>72</td><td>295</td><td>Union{Missing, Int64}</td></tr><tr><th>7</th><td>UPDRS</td><td>17.359</td><td>8</td><td>17.0</td><td>33</td><td>301</td><td>Union{Missing, Int64}</td></tr><tr><th>8</th><td>MAOAI2</td><td></td><td>104</td><td></td><td>126/126</td><td>0</td><td>String</td></tr><tr><th>9</th><td>AI2Code</td><td></td><td>1</td><td></td><td>9/9</td><td>0</td><td>String</td></tr><tr><th>10</th><td>MAOBI2</td><td></td><td>167/173</td><td></td><td>185</td><td>0</td><td>String</td></tr><tr><th>11</th><td>BI2Code</td><td></td><td>1/3</td><td></td><td>9</td><td>0</td><td>String</td></tr><tr><th>12</th><td>GTBEX3</td><td></td><td>243</td><td></td><td>259/259</td><td>0</td><td>String</td></tr><tr><th>13</th><td>BEX3Code</td><td></td><td>1</td><td></td><td>6/6</td><td>0</td><td>String</td></tr><tr><th>14</th><td>MAOAVNTR</td><td></td><td>287/349</td><td></td><td>379</td><td>46</td><td>Union{Missing, String}</td></tr><tr><th>15</th><td>VNTRCode</td><td></td><td>2/4</td><td></td><td>5</td><td>46</td><td>Union{Missing, String}</td></tr><tr><th>16</th><td>VNTRCod2</td><td></td><td>1/4</td><td></td><td>5</td><td>46</td><td>Union{Missing, String}</td></tr><tr><th>17</th><td>MAOA31</td><td></td><td>283/308</td><td></td><td>340</td><td>36</td><td>Union{Missing, String}</td></tr><tr><th>18</th><td>MAO31COD</td><td></td><td>A/B</td><td></td><td>C/C</td><td>36</td><td>Union{Missing, String}</td></tr><tr><th>19</th><td>MAO31CO2</td><td></td><td>1/2</td><td></td><td>3/3</td><td>36</td><td>Union{Missing, String}</td></tr></tbody></table>"
      ],
      "text/latex": [
       "\\begin{tabular}{r|ccccccc}\n",
       "\t& variable & mean & min & median & max & nmissing & eltype\\\\\n",
       "\t\\hline\n",
       "\t& Symbol & Union… & Any & Union… & Any & Int64 & Type\\\\\n",
       "\t\\hline\n",
       "\t1 & ID &  & 2341.00 &  & Grid H9 & 0 & String \\\\\n",
       "\t2 & Type & 0.538235 & 0 & 1.0 & 1 & 0 & Int64 \\\\\n",
       "\t3 & Gender & 0.558824 & 0 & 1.0 & 1 & 0 & Int64 \\\\\n",
       "\t4 & Age & 73.5395 & 26 & 77.0 & 91 & 188 & Union\\{Missing, Int64\\} \\\\\n",
       "\t5 & AAO & 53.0682 & 33 & 55.0 & 71 & 296 & Union\\{Missing, Int64\\} \\\\\n",
       "\t6 & AAD & 54.6222 & 35 & 57.0 & 72 & 295 & Union\\{Missing, Int64\\} \\\\\n",
       "\t7 & UPDRS & 17.359 & 8 & 17.0 & 33 & 301 & Union\\{Missing, Int64\\} \\\\\n",
       "\t8 & MAOAI2 &  & 104 &  & 126/126 & 0 & String \\\\\n",
       "\t9 & AI2Code &  & 1 &  & 9/9 & 0 & String \\\\\n",
       "\t10 & MAOBI2 &  & 167/173 &  & 185 & 0 & String \\\\\n",
       "\t11 & BI2Code &  & 1/3 &  & 9 & 0 & String \\\\\n",
       "\t12 & GTBEX3 &  & 243 &  & 259/259 & 0 & String \\\\\n",
       "\t13 & BEX3Code &  & 1 &  & 6/6 & 0 & String \\\\\n",
       "\t14 & MAOAVNTR &  & 287/349 &  & 379 & 46 & Union\\{Missing, String\\} \\\\\n",
       "\t15 & VNTRCode &  & 2/4 &  & 5 & 46 & Union\\{Missing, String\\} \\\\\n",
       "\t16 & VNTRCod2 &  & 1/4 &  & 5 & 46 & Union\\{Missing, String\\} \\\\\n",
       "\t17 & MAOA31 &  & 283/308 &  & 340 & 36 & Union\\{Missing, String\\} \\\\\n",
       "\t18 & MAO31COD &  & A/B &  & C/C & 36 & Union\\{Missing, String\\} \\\\\n",
       "\t19 & MAO31CO2 &  & 1/2 &  & 3/3 & 36 & Union\\{Missing, String\\} \\\\\n",
       "\\end{tabular}\n"
      ],
      "text/plain": [
       "\u001b[1m19×7 DataFrame\u001b[0m\n",
       "\u001b[1m Row \u001b[0m│\u001b[1m variable \u001b[0m\u001b[1m mean     \u001b[0m\u001b[1m min     \u001b[0m\u001b[1m median \u001b[0m\u001b[1m max     \u001b[0m\u001b[1m nmissing \u001b[0m\u001b[1m eltype         \u001b[0m ⋯\n",
       "\u001b[1m     \u001b[0m│\u001b[90m Symbol   \u001b[0m\u001b[90m Union…   \u001b[0m\u001b[90m Any     \u001b[0m\u001b[90m Union… \u001b[0m\u001b[90m Any     \u001b[0m\u001b[90m Int64    \u001b[0m\u001b[90m Type           \u001b[0m ⋯\n",
       "─────┼──────────────────────────────────────────────────────────────────────────\n",
       "   1 │ ID       \u001b[90m          \u001b[0m 2341.00 \u001b[90m        \u001b[0m Grid H9         0  String          ⋯\n",
       "   2 │ Type      0.538235  0        1.0     1               0  Int64\n",
       "   3 │ Gender    0.558824  0        1.0     1               0  Int64\n",
       "   4 │ Age       73.5395   26       77.0    91            188  Union{Missing,\n",
       "   5 │ AAO       53.0682   33       55.0    71            296  Union{Missing,  ⋯\n",
       "   6 │ AAD       54.6222   35       57.0    72            295  Union{Missing,\n",
       "   7 │ UPDRS     17.359    8        17.0    33            301  Union{Missing,\n",
       "   8 │ MAOAI2   \u001b[90m          \u001b[0m 104     \u001b[90m        \u001b[0m 126/126         0  String\n",
       "   9 │ AI2Code  \u001b[90m          \u001b[0m 1       \u001b[90m        \u001b[0m 9/9             0  String          ⋯\n",
       "  10 │ MAOBI2   \u001b[90m          \u001b[0m 167/173 \u001b[90m        \u001b[0m 185             0  String\n",
       "  11 │ BI2Code  \u001b[90m          \u001b[0m 1/3     \u001b[90m        \u001b[0m 9               0  String\n",
       "  12 │ GTBEX3   \u001b[90m          \u001b[0m 243     \u001b[90m        \u001b[0m 259/259         0  String\n",
       "  13 │ BEX3Code \u001b[90m          \u001b[0m 1       \u001b[90m        \u001b[0m 6/6             0  String          ⋯\n",
       "  14 │ MAOAVNTR \u001b[90m          \u001b[0m 287/349 \u001b[90m        \u001b[0m 379            46  Union{Missing,\n",
       "  15 │ VNTRCode \u001b[90m          \u001b[0m 2/4     \u001b[90m        \u001b[0m 5              46  Union{Missing,\n",
       "  16 │ VNTRCod2 \u001b[90m          \u001b[0m 1/4     \u001b[90m        \u001b[0m 5              46  Union{Missing,\n",
       "  17 │ MAOA31   \u001b[90m          \u001b[0m 283/308 \u001b[90m        \u001b[0m 340            36  Union{Missing,  ⋯\n",
       "  18 │ MAO31COD \u001b[90m          \u001b[0m A/B     \u001b[90m        \u001b[0m C/C            36  Union{Missing,\n",
       "  19 │ MAO31CO2 \u001b[90m          \u001b[0m 1/2     \u001b[90m        \u001b[0m 3/3            36  Union{Missing,\n",
       "\u001b[36m                                                                1 column omitted\u001b[0m"
      ]
     },
     "execution_count": 108,
     "metadata": {},
     "output_type": "execute_result"
    }
   ],
   "source": [
    "# Missing values\n",
    "\n",
    "mao = dataset(\"gap\",\"mao\")\n",
    "describe(mao)"
   ]
  },
  {
   "cell_type": "code",
   "execution_count": 110,
   "metadata": {},
   "outputs": [
    {
     "data": {
      "text/html": [
       "<table class=\"data-frame\"><thead><tr><th></th><th>variable</th><th>nmissing</th></tr><tr><th></th><th>Symbol</th><th>Int64</th></tr></thead><tbody><p>19 rows × 2 columns</p><tr><th>1</th><td>ID</td><td>0</td></tr><tr><th>2</th><td>Type</td><td>0</td></tr><tr><th>3</th><td>Gender</td><td>0</td></tr><tr><th>4</th><td>Age</td><td>188</td></tr><tr><th>5</th><td>AAO</td><td>296</td></tr><tr><th>6</th><td>AAD</td><td>295</td></tr><tr><th>7</th><td>UPDRS</td><td>301</td></tr><tr><th>8</th><td>MAOAI2</td><td>0</td></tr><tr><th>9</th><td>AI2Code</td><td>0</td></tr><tr><th>10</th><td>MAOBI2</td><td>0</td></tr><tr><th>11</th><td>BI2Code</td><td>0</td></tr><tr><th>12</th><td>GTBEX3</td><td>0</td></tr><tr><th>13</th><td>BEX3Code</td><td>0</td></tr><tr><th>14</th><td>MAOAVNTR</td><td>46</td></tr><tr><th>15</th><td>VNTRCode</td><td>46</td></tr><tr><th>16</th><td>VNTRCod2</td><td>46</td></tr><tr><th>17</th><td>MAOA31</td><td>36</td></tr><tr><th>18</th><td>MAO31COD</td><td>36</td></tr><tr><th>19</th><td>MAO31CO2</td><td>36</td></tr></tbody></table>"
      ],
      "text/latex": [
       "\\begin{tabular}{r|cc}\n",
       "\t& variable & nmissing\\\\\n",
       "\t\\hline\n",
       "\t& Symbol & Int64\\\\\n",
       "\t\\hline\n",
       "\t1 & ID & 0 \\\\\n",
       "\t2 & Type & 0 \\\\\n",
       "\t3 & Gender & 0 \\\\\n",
       "\t4 & Age & 188 \\\\\n",
       "\t5 & AAO & 296 \\\\\n",
       "\t6 & AAD & 295 \\\\\n",
       "\t7 & UPDRS & 301 \\\\\n",
       "\t8 & MAOAI2 & 0 \\\\\n",
       "\t9 & AI2Code & 0 \\\\\n",
       "\t10 & MAOBI2 & 0 \\\\\n",
       "\t11 & BI2Code & 0 \\\\\n",
       "\t12 & GTBEX3 & 0 \\\\\n",
       "\t13 & BEX3Code & 0 \\\\\n",
       "\t14 & MAOAVNTR & 46 \\\\\n",
       "\t15 & VNTRCode & 46 \\\\\n",
       "\t16 & VNTRCod2 & 46 \\\\\n",
       "\t17 & MAOA31 & 36 \\\\\n",
       "\t18 & MAO31COD & 36 \\\\\n",
       "\t19 & MAO31CO2 & 36 \\\\\n",
       "\\end{tabular}\n"
      ],
      "text/plain": [
       "\u001b[1m19×2 DataFrame\u001b[0m\n",
       "\u001b[1m Row \u001b[0m│\u001b[1m variable \u001b[0m\u001b[1m nmissing \u001b[0m\n",
       "\u001b[1m     \u001b[0m│\u001b[90m Symbol   \u001b[0m\u001b[90m Int64    \u001b[0m\n",
       "─────┼────────────────────\n",
       "   1 │ ID               0\n",
       "   2 │ Type             0\n",
       "   3 │ Gender           0\n",
       "   4 │ Age            188\n",
       "   5 │ AAO            296\n",
       "   6 │ AAD            295\n",
       "   7 │ UPDRS          301\n",
       "   8 │ MAOAI2           0\n",
       "   9 │ AI2Code          0\n",
       "  10 │ MAOBI2           0\n",
       "  11 │ BI2Code          0\n",
       "  12 │ GTBEX3           0\n",
       "  13 │ BEX3Code         0\n",
       "  14 │ MAOAVNTR        46\n",
       "  15 │ VNTRCode        46\n",
       "  16 │ VNTRCod2        46\n",
       "  17 │ MAOA31          36\n",
       "  18 │ MAO31COD        36\n",
       "  19 │ MAO31CO2        36"
      ]
     },
     "execution_count": 110,
     "metadata": {},
     "output_type": "execute_result"
    }
   ],
   "source": [
    "describe(mao,:nmissing)"
   ]
  },
  {
   "cell_type": "code",
   "execution_count": 111,
   "metadata": {},
   "outputs": [
    {
     "data": {
      "text/plain": [
       "missing"
      ]
     },
     "execution_count": 111,
     "metadata": {},
     "output_type": "execute_result"
    }
   ],
   "source": [
    "std(mao.Age)"
   ]
  },
  {
   "cell_type": "code",
   "execution_count": 112,
   "metadata": {},
   "outputs": [
    {
     "data": {
      "text/plain": [
       "11.551715894987558"
      ]
     },
     "execution_count": 112,
     "metadata": {},
     "output_type": "execute_result"
    }
   ],
   "source": [
    "std(skipmissing(mao.Age))"
   ]
  },
  {
   "cell_type": "code",
   "execution_count": null,
   "metadata": {},
   "outputs": [],
   "source": []
  },
  {
   "cell_type": "markdown",
   "metadata": {},
   "source": [
    "## Split Apply Combine"
   ]
  },
  {
   "cell_type": "code",
   "execution_count": 113,
   "metadata": {},
   "outputs": [
    {
     "data": {
      "text/html": [
       "<table class=\"data-frame\"><thead><tr><th></th><th>SepalLength</th><th>SepalWidth</th><th>PetalLength</th><th>PetalWidth</th><th>Species</th></tr><tr><th></th><th>Float64</th><th>Float64</th><th>Float64</th><th>Float64</th><th>Cat…</th></tr></thead><tbody><p>3 rows × 5 columns</p><tr><th>1</th><td>5.1</td><td>3.5</td><td>1.4</td><td>0.2</td><td>setosa</td></tr><tr><th>2</th><td>4.9</td><td>3.0</td><td>1.4</td><td>0.2</td><td>setosa</td></tr><tr><th>3</th><td>4.7</td><td>3.2</td><td>1.3</td><td>0.2</td><td>setosa</td></tr></tbody></table>"
      ],
      "text/latex": [
       "\\begin{tabular}{r|ccccc}\n",
       "\t& SepalLength & SepalWidth & PetalLength & PetalWidth & Species\\\\\n",
       "\t\\hline\n",
       "\t& Float64 & Float64 & Float64 & Float64 & Cat…\\\\\n",
       "\t\\hline\n",
       "\t1 & 5.1 & 3.5 & 1.4 & 0.2 & setosa \\\\\n",
       "\t2 & 4.9 & 3.0 & 1.4 & 0.2 & setosa \\\\\n",
       "\t3 & 4.7 & 3.2 & 1.3 & 0.2 & setosa \\\\\n",
       "\\end{tabular}\n"
      ],
      "text/plain": [
       "\u001b[1m3×5 DataFrame\u001b[0m\n",
       "\u001b[1m Row \u001b[0m│\u001b[1m SepalLength \u001b[0m\u001b[1m SepalWidth \u001b[0m\u001b[1m PetalLength \u001b[0m\u001b[1m PetalWidth \u001b[0m\u001b[1m Species \u001b[0m\n",
       "\u001b[1m     \u001b[0m│\u001b[90m Float64     \u001b[0m\u001b[90m Float64    \u001b[0m\u001b[90m Float64     \u001b[0m\u001b[90m Float64    \u001b[0m\u001b[90m Cat…    \u001b[0m\n",
       "─────┼───────────────────────────────────────────────────────────\n",
       "   1 │         5.1         3.5          1.4         0.2  setosa\n",
       "   2 │         4.9         3.0          1.4         0.2  setosa\n",
       "   3 │         4.7         3.2          1.3         0.2  setosa"
      ]
     },
     "execution_count": 113,
     "metadata": {},
     "output_type": "execute_result"
    }
   ],
   "source": [
    "iris = dataset(\"datasets\",\"iris\")\n",
    "first(iris,3)"
   ]
  },
  {
   "cell_type": "markdown",
   "metadata": {},
   "source": [
    "## Groupby"
   ]
  },
  {
   "cell_type": "code",
   "execution_count": 115,
   "metadata": {},
   "outputs": [
    {
     "data": {
      "text/plain": [
       "3-element Vector{String}:\n",
       " \"setosa\"\n",
       " \"versicolor\"\n",
       " \"virginica\""
      ]
     },
     "execution_count": 115,
     "metadata": {},
     "output_type": "execute_result"
    }
   ],
   "source": [
    "sb_df = unique(iris.Species)"
   ]
  },
  {
   "cell_type": "code",
   "execution_count": 116,
   "metadata": {},
   "outputs": [
    {
     "data": {
      "text/plain": [
       "Vector{String} (alias for Array{String, 1})"
      ]
     },
     "execution_count": 116,
     "metadata": {},
     "output_type": "execute_result"
    }
   ],
   "source": [
    "typeof(sb_df)"
   ]
  },
  {
   "cell_type": "code",
   "execution_count": 117,
   "metadata": {},
   "outputs": [
    {
     "data": {
      "text/html": [
       "<p><b>GroupedDataFrame with 3 groups based on key: Species</b></p><p><i>First Group (50 rows): Species = CategoricalArrays.CategoricalValue{String, UInt8} \"setosa\"</i></p><table class=\"data-frame\"><thead><tr><th></th><th>SepalLength</th><th>SepalWidth</th><th>PetalLength</th><th>PetalWidth</th><th>Species</th></tr><tr><th></th><th>Float64</th><th>Float64</th><th>Float64</th><th>Float64</th><th>Cat…</th></tr></thead><tbody><tr><th>1</th><td>5.1</td><td>3.5</td><td>1.4</td><td>0.2</td><td>setosa</td></tr><tr><th>2</th><td>4.9</td><td>3.0</td><td>1.4</td><td>0.2</td><td>setosa</td></tr><tr><th>3</th><td>4.7</td><td>3.2</td><td>1.3</td><td>0.2</td><td>setosa</td></tr><tr><th>4</th><td>4.6</td><td>3.1</td><td>1.5</td><td>0.2</td><td>setosa</td></tr><tr><th>5</th><td>5.0</td><td>3.6</td><td>1.4</td><td>0.2</td><td>setosa</td></tr><tr><th>6</th><td>5.4</td><td>3.9</td><td>1.7</td><td>0.4</td><td>setosa</td></tr><tr><th>7</th><td>4.6</td><td>3.4</td><td>1.4</td><td>0.3</td><td>setosa</td></tr><tr><th>8</th><td>5.0</td><td>3.4</td><td>1.5</td><td>0.2</td><td>setosa</td></tr><tr><th>9</th><td>4.4</td><td>2.9</td><td>1.4</td><td>0.2</td><td>setosa</td></tr><tr><th>10</th><td>4.9</td><td>3.1</td><td>1.5</td><td>0.1</td><td>setosa</td></tr><tr><th>11</th><td>5.4</td><td>3.7</td><td>1.5</td><td>0.2</td><td>setosa</td></tr><tr><th>12</th><td>4.8</td><td>3.4</td><td>1.6</td><td>0.2</td><td>setosa</td></tr><tr><th>13</th><td>4.8</td><td>3.0</td><td>1.4</td><td>0.1</td><td>setosa</td></tr><tr><th>14</th><td>4.3</td><td>3.0</td><td>1.1</td><td>0.1</td><td>setosa</td></tr><tr><th>15</th><td>5.8</td><td>4.0</td><td>1.2</td><td>0.2</td><td>setosa</td></tr><tr><th>16</th><td>5.7</td><td>4.4</td><td>1.5</td><td>0.4</td><td>setosa</td></tr><tr><th>17</th><td>5.4</td><td>3.9</td><td>1.3</td><td>0.4</td><td>setosa</td></tr><tr><th>18</th><td>5.1</td><td>3.5</td><td>1.4</td><td>0.3</td><td>setosa</td></tr><tr><th>19</th><td>5.7</td><td>3.8</td><td>1.7</td><td>0.3</td><td>setosa</td></tr><tr><th>20</th><td>5.1</td><td>3.8</td><td>1.5</td><td>0.3</td><td>setosa</td></tr><tr><th>21</th><td>5.4</td><td>3.4</td><td>1.7</td><td>0.2</td><td>setosa</td></tr><tr><th>22</th><td>5.1</td><td>3.7</td><td>1.5</td><td>0.4</td><td>setosa</td></tr><tr><th>23</th><td>4.6</td><td>3.6</td><td>1.0</td><td>0.2</td><td>setosa</td></tr><tr><th>24</th><td>5.1</td><td>3.3</td><td>1.7</td><td>0.5</td><td>setosa</td></tr><tr><th>25</th><td>4.8</td><td>3.4</td><td>1.9</td><td>0.2</td><td>setosa</td></tr><tr><th>26</th><td>5.0</td><td>3.0</td><td>1.6</td><td>0.2</td><td>setosa</td></tr><tr><th>27</th><td>5.0</td><td>3.4</td><td>1.6</td><td>0.4</td><td>setosa</td></tr><tr><th>28</th><td>5.2</td><td>3.5</td><td>1.5</td><td>0.2</td><td>setosa</td></tr><tr><th>29</th><td>5.2</td><td>3.4</td><td>1.4</td><td>0.2</td><td>setosa</td></tr><tr><th>30</th><td>4.7</td><td>3.2</td><td>1.6</td><td>0.2</td><td>setosa</td></tr><tr><th>&vellip;</th><td>&vellip;</td><td>&vellip;</td><td>&vellip;</td><td>&vellip;</td><td>&vellip;</td></tr></tbody></table><p>&vellip;</p><p><i>Last Group (50 rows): Species = CategoricalArrays.CategoricalValue{String, UInt8} \"virginica\"</i></p><table class=\"data-frame\"><thead><tr><th></th><th>SepalLength</th><th>SepalWidth</th><th>PetalLength</th><th>PetalWidth</th><th>Species</th></tr><tr><th></th><th>Float64</th><th>Float64</th><th>Float64</th><th>Float64</th><th>Cat…</th></tr></thead><tbody><tr><th>1</th><td>6.3</td><td>3.3</td><td>6.0</td><td>2.5</td><td>virginica</td></tr><tr><th>2</th><td>5.8</td><td>2.7</td><td>5.1</td><td>1.9</td><td>virginica</td></tr><tr><th>3</th><td>7.1</td><td>3.0</td><td>5.9</td><td>2.1</td><td>virginica</td></tr><tr><th>4</th><td>6.3</td><td>2.9</td><td>5.6</td><td>1.8</td><td>virginica</td></tr><tr><th>5</th><td>6.5</td><td>3.0</td><td>5.8</td><td>2.2</td><td>virginica</td></tr><tr><th>6</th><td>7.6</td><td>3.0</td><td>6.6</td><td>2.1</td><td>virginica</td></tr><tr><th>7</th><td>4.9</td><td>2.5</td><td>4.5</td><td>1.7</td><td>virginica</td></tr><tr><th>8</th><td>7.3</td><td>2.9</td><td>6.3</td><td>1.8</td><td>virginica</td></tr><tr><th>9</th><td>6.7</td><td>2.5</td><td>5.8</td><td>1.8</td><td>virginica</td></tr><tr><th>10</th><td>7.2</td><td>3.6</td><td>6.1</td><td>2.5</td><td>virginica</td></tr><tr><th>11</th><td>6.5</td><td>3.2</td><td>5.1</td><td>2.0</td><td>virginica</td></tr><tr><th>12</th><td>6.4</td><td>2.7</td><td>5.3</td><td>1.9</td><td>virginica</td></tr><tr><th>13</th><td>6.8</td><td>3.0</td><td>5.5</td><td>2.1</td><td>virginica</td></tr><tr><th>14</th><td>5.7</td><td>2.5</td><td>5.0</td><td>2.0</td><td>virginica</td></tr><tr><th>15</th><td>5.8</td><td>2.8</td><td>5.1</td><td>2.4</td><td>virginica</td></tr><tr><th>16</th><td>6.4</td><td>3.2</td><td>5.3</td><td>2.3</td><td>virginica</td></tr><tr><th>17</th><td>6.5</td><td>3.0</td><td>5.5</td><td>1.8</td><td>virginica</td></tr><tr><th>18</th><td>7.7</td><td>3.8</td><td>6.7</td><td>2.2</td><td>virginica</td></tr><tr><th>19</th><td>7.7</td><td>2.6</td><td>6.9</td><td>2.3</td><td>virginica</td></tr><tr><th>20</th><td>6.0</td><td>2.2</td><td>5.0</td><td>1.5</td><td>virginica</td></tr><tr><th>21</th><td>6.9</td><td>3.2</td><td>5.7</td><td>2.3</td><td>virginica</td></tr><tr><th>22</th><td>5.6</td><td>2.8</td><td>4.9</td><td>2.0</td><td>virginica</td></tr><tr><th>23</th><td>7.7</td><td>2.8</td><td>6.7</td><td>2.0</td><td>virginica</td></tr><tr><th>24</th><td>6.3</td><td>2.7</td><td>4.9</td><td>1.8</td><td>virginica</td></tr><tr><th>25</th><td>6.7</td><td>3.3</td><td>5.7</td><td>2.1</td><td>virginica</td></tr><tr><th>26</th><td>7.2</td><td>3.2</td><td>6.0</td><td>1.8</td><td>virginica</td></tr><tr><th>27</th><td>6.2</td><td>2.8</td><td>4.8</td><td>1.8</td><td>virginica</td></tr><tr><th>28</th><td>6.1</td><td>3.0</td><td>4.9</td><td>1.8</td><td>virginica</td></tr><tr><th>29</th><td>6.4</td><td>2.8</td><td>5.6</td><td>2.1</td><td>virginica</td></tr><tr><th>30</th><td>7.2</td><td>3.0</td><td>5.8</td><td>1.6</td><td>virginica</td></tr><tr><th>&vellip;</th><td>&vellip;</td><td>&vellip;</td><td>&vellip;</td><td>&vellip;</td><td>&vellip;</td></tr></tbody></table>"
      ],
      "text/latex": [
       "GroupedDataFrame with 3 groups based on key: Species\n",
       "\n",
       "First Group (50 rows): Species = CategoricalArrays.CategoricalValue\\{String, UInt8\\} \"setosa\"\n",
       "\n",
       "\\begin{tabular}{r|ccccc}\n",
       "\t& SepalLength & SepalWidth & PetalLength & PetalWidth & Species\\\\\n",
       "\t\\hline\n",
       "\t& Float64 & Float64 & Float64 & Float64 & Cat…\\\\\n",
       "\t\\hline\n",
       "\t1 & 5.1 & 3.5 & 1.4 & 0.2 & setosa \\\\\n",
       "\t2 & 4.9 & 3.0 & 1.4 & 0.2 & setosa \\\\\n",
       "\t3 & 4.7 & 3.2 & 1.3 & 0.2 & setosa \\\\\n",
       "\t4 & 4.6 & 3.1 & 1.5 & 0.2 & setosa \\\\\n",
       "\t5 & 5.0 & 3.6 & 1.4 & 0.2 & setosa \\\\\n",
       "\t6 & 5.4 & 3.9 & 1.7 & 0.4 & setosa \\\\\n",
       "\t7 & 4.6 & 3.4 & 1.4 & 0.3 & setosa \\\\\n",
       "\t8 & 5.0 & 3.4 & 1.5 & 0.2 & setosa \\\\\n",
       "\t9 & 4.4 & 2.9 & 1.4 & 0.2 & setosa \\\\\n",
       "\t10 & 4.9 & 3.1 & 1.5 & 0.1 & setosa \\\\\n",
       "\t11 & 5.4 & 3.7 & 1.5 & 0.2 & setosa \\\\\n",
       "\t12 & 4.8 & 3.4 & 1.6 & 0.2 & setosa \\\\\n",
       "\t13 & 4.8 & 3.0 & 1.4 & 0.1 & setosa \\\\\n",
       "\t14 & 4.3 & 3.0 & 1.1 & 0.1 & setosa \\\\\n",
       "\t15 & 5.8 & 4.0 & 1.2 & 0.2 & setosa \\\\\n",
       "\t16 & 5.7 & 4.4 & 1.5 & 0.4 & setosa \\\\\n",
       "\t17 & 5.4 & 3.9 & 1.3 & 0.4 & setosa \\\\\n",
       "\t18 & 5.1 & 3.5 & 1.4 & 0.3 & setosa \\\\\n",
       "\t19 & 5.7 & 3.8 & 1.7 & 0.3 & setosa \\\\\n",
       "\t20 & 5.1 & 3.8 & 1.5 & 0.3 & setosa \\\\\n",
       "\t21 & 5.4 & 3.4 & 1.7 & 0.2 & setosa \\\\\n",
       "\t22 & 5.1 & 3.7 & 1.5 & 0.4 & setosa \\\\\n",
       "\t23 & 4.6 & 3.6 & 1.0 & 0.2 & setosa \\\\\n",
       "\t24 & 5.1 & 3.3 & 1.7 & 0.5 & setosa \\\\\n",
       "\t25 & 4.8 & 3.4 & 1.9 & 0.2 & setosa \\\\\n",
       "\t26 & 5.0 & 3.0 & 1.6 & 0.2 & setosa \\\\\n",
       "\t27 & 5.0 & 3.4 & 1.6 & 0.4 & setosa \\\\\n",
       "\t28 & 5.2 & 3.5 & 1.5 & 0.2 & setosa \\\\\n",
       "\t29 & 5.2 & 3.4 & 1.4 & 0.2 & setosa \\\\\n",
       "\t30 & 4.7 & 3.2 & 1.6 & 0.2 & setosa \\\\\n",
       "\t$\\dots$ & $\\dots$ & $\\dots$ & $\\dots$ & $\\dots$ & $\\dots$ \\\\\n",
       "\\end{tabular}\n",
       "\n",
       "$\\dots$\n",
       "\n",
       "Last Group (50 rows): Species = CategoricalArrays.CategoricalValue\\{String, UInt8\\} \"virginica\"\n",
       "\n",
       "\\begin{tabular}{r|ccccc}\n",
       "\t& SepalLength & SepalWidth & PetalLength & PetalWidth & Species\\\\\n",
       "\t\\hline\n",
       "\t& Float64 & Float64 & Float64 & Float64 & Cat…\\\\\n",
       "\t\\hline\n",
       "\t1 & 6.3 & 3.3 & 6.0 & 2.5 & virginica \\\\\n",
       "\t2 & 5.8 & 2.7 & 5.1 & 1.9 & virginica \\\\\n",
       "\t3 & 7.1 & 3.0 & 5.9 & 2.1 & virginica \\\\\n",
       "\t4 & 6.3 & 2.9 & 5.6 & 1.8 & virginica \\\\\n",
       "\t5 & 6.5 & 3.0 & 5.8 & 2.2 & virginica \\\\\n",
       "\t6 & 7.6 & 3.0 & 6.6 & 2.1 & virginica \\\\\n",
       "\t7 & 4.9 & 2.5 & 4.5 & 1.7 & virginica \\\\\n",
       "\t8 & 7.3 & 2.9 & 6.3 & 1.8 & virginica \\\\\n",
       "\t9 & 6.7 & 2.5 & 5.8 & 1.8 & virginica \\\\\n",
       "\t10 & 7.2 & 3.6 & 6.1 & 2.5 & virginica \\\\\n",
       "\t11 & 6.5 & 3.2 & 5.1 & 2.0 & virginica \\\\\n",
       "\t12 & 6.4 & 2.7 & 5.3 & 1.9 & virginica \\\\\n",
       "\t13 & 6.8 & 3.0 & 5.5 & 2.1 & virginica \\\\\n",
       "\t14 & 5.7 & 2.5 & 5.0 & 2.0 & virginica \\\\\n",
       "\t15 & 5.8 & 2.8 & 5.1 & 2.4 & virginica \\\\\n",
       "\t16 & 6.4 & 3.2 & 5.3 & 2.3 & virginica \\\\\n",
       "\t17 & 6.5 & 3.0 & 5.5 & 1.8 & virginica \\\\\n",
       "\t18 & 7.7 & 3.8 & 6.7 & 2.2 & virginica \\\\\n",
       "\t19 & 7.7 & 2.6 & 6.9 & 2.3 & virginica \\\\\n",
       "\t20 & 6.0 & 2.2 & 5.0 & 1.5 & virginica \\\\\n",
       "\t21 & 6.9 & 3.2 & 5.7 & 2.3 & virginica \\\\\n",
       "\t22 & 5.6 & 2.8 & 4.9 & 2.0 & virginica \\\\\n",
       "\t23 & 7.7 & 2.8 & 6.7 & 2.0 & virginica \\\\\n",
       "\t24 & 6.3 & 2.7 & 4.9 & 1.8 & virginica \\\\\n",
       "\t25 & 6.7 & 3.3 & 5.7 & 2.1 & virginica \\\\\n",
       "\t26 & 7.2 & 3.2 & 6.0 & 1.8 & virginica \\\\\n",
       "\t27 & 6.2 & 2.8 & 4.8 & 1.8 & virginica \\\\\n",
       "\t28 & 6.1 & 3.0 & 4.9 & 1.8 & virginica \\\\\n",
       "\t29 & 6.4 & 2.8 & 5.6 & 2.1 & virginica \\\\\n",
       "\t30 & 7.2 & 3.0 & 5.8 & 1.6 & virginica \\\\\n",
       "\t$\\dots$ & $\\dots$ & $\\dots$ & $\\dots$ & $\\dots$ & $\\dots$ \\\\\n",
       "\\end{tabular}\n"
      ],
      "text/plain": [
       "GroupedDataFrame with 3 groups based on key: Species\n",
       "First Group (50 rows): Species = CategoricalArrays.CategoricalValue{String, UInt8} \"setosa\"\n",
       "\u001b[1m Row \u001b[0m│\u001b[1m SepalLength \u001b[0m\u001b[1m SepalWidth \u001b[0m\u001b[1m PetalLength \u001b[0m\u001b[1m PetalWidth \u001b[0m\u001b[1m Species \u001b[0m\n",
       "\u001b[1m     \u001b[0m│\u001b[90m Float64     \u001b[0m\u001b[90m Float64    \u001b[0m\u001b[90m Float64     \u001b[0m\u001b[90m Float64    \u001b[0m\u001b[90m Cat…    \u001b[0m\n",
       "─────┼───────────────────────────────────────────────────────────\n",
       "   1 │         5.1         3.5          1.4         0.2  setosa\n",
       "   2 │         4.9         3.0          1.4         0.2  setosa\n",
       "   3 │         4.7         3.2          1.3         0.2  setosa\n",
       "   4 │         4.6         3.1          1.5         0.2  setosa\n",
       "   5 │         5.0         3.6          1.4         0.2  setosa\n",
       "   6 │         5.4         3.9          1.7         0.4  setosa\n",
       "   7 │         4.6         3.4          1.4         0.3  setosa\n",
       "   8 │         5.0         3.4          1.5         0.2  setosa\n",
       "   9 │         4.4         2.9          1.4         0.2  setosa\n",
       "  10 │         4.9         3.1          1.5         0.1  setosa\n",
       "  11 │         5.4         3.7          1.5         0.2  setosa\n",
       "  ⋮  │      ⋮           ⋮            ⋮           ⋮          ⋮\n",
       "  40 │         5.1         3.4          1.5         0.2  setosa\n",
       "  41 │         5.0         3.5          1.3         0.3  setosa\n",
       "  42 │         4.5         2.3          1.3         0.3  setosa\n",
       "  43 │         4.4         3.2          1.3         0.2  setosa\n",
       "  44 │         5.0         3.5          1.6         0.6  setosa\n",
       "  45 │         5.1         3.8          1.9         0.4  setosa\n",
       "  46 │         4.8         3.0          1.4         0.3  setosa\n",
       "  47 │         5.1         3.8          1.6         0.2  setosa\n",
       "  48 │         4.6         3.2          1.4         0.2  setosa\n",
       "  49 │         5.3         3.7          1.5         0.2  setosa\n",
       "  50 │         5.0         3.3          1.4         0.2  setosa\n",
       "\u001b[36m                                                  28 rows omitted\u001b[0m\n",
       "⋮\n",
       "Last Group (50 rows): Species = CategoricalArrays.CategoricalValue{String, UInt8} \"virginica\"\n",
       "\u001b[1m Row \u001b[0m│\u001b[1m SepalLength \u001b[0m\u001b[1m SepalWidth \u001b[0m\u001b[1m PetalLength \u001b[0m\u001b[1m PetalWidth \u001b[0m\u001b[1m Species   \u001b[0m\n",
       "\u001b[1m     \u001b[0m│\u001b[90m Float64     \u001b[0m\u001b[90m Float64    \u001b[0m\u001b[90m Float64     \u001b[0m\u001b[90m Float64    \u001b[0m\u001b[90m Cat…      \u001b[0m\n",
       "─────┼─────────────────────────────────────────────────────────────\n",
       "   1 │         6.3         3.3          6.0         2.5  virginica\n",
       "   2 │         5.8         2.7          5.1         1.9  virginica\n",
       "   3 │         7.1         3.0          5.9         2.1  virginica\n",
       "   4 │         6.3         2.9          5.6         1.8  virginica\n",
       "   5 │         6.5         3.0          5.8         2.2  virginica\n",
       "   6 │         7.6         3.0          6.6         2.1  virginica\n",
       "   7 │         4.9         2.5          4.5         1.7  virginica\n",
       "   8 │         7.3         2.9          6.3         1.8  virginica\n",
       "   9 │         6.7         2.5          5.8         1.8  virginica\n",
       "  10 │         7.2         3.6          6.1         2.5  virginica\n",
       "  11 │         6.5         3.2          5.1         2.0  virginica\n",
       "  ⋮  │      ⋮           ⋮            ⋮           ⋮           ⋮\n",
       "  40 │         6.9         3.1          5.4         2.1  virginica\n",
       "  41 │         6.7         3.1          5.6         2.4  virginica\n",
       "  42 │         6.9         3.1          5.1         2.3  virginica\n",
       "  43 │         5.8         2.7          5.1         1.9  virginica\n",
       "  44 │         6.8         3.2          5.9         2.3  virginica\n",
       "  45 │         6.7         3.3          5.7         2.5  virginica\n",
       "  46 │         6.7         3.0          5.2         2.3  virginica\n",
       "  47 │         6.3         2.5          5.0         1.9  virginica\n",
       "  48 │         6.5         3.0          5.2         2.0  virginica\n",
       "  49 │         6.2         3.4          5.4         2.3  virginica\n",
       "  50 │         5.9         3.0          5.1         1.8  virginica\n",
       "\u001b[36m                                                    28 rows omitted\u001b[0m"
      ]
     },
     "execution_count": 117,
     "metadata": {},
     "output_type": "execute_result"
    }
   ],
   "source": [
    "gdf = groupby(iris, :Species)"
   ]
  },
  {
   "cell_type": "code",
   "execution_count": 119,
   "metadata": {},
   "outputs": [
    {
     "data": {
      "text/html": [
       "<table class=\"data-frame\"><thead><tr><th></th><th>SepalLength</th><th>SepalWidth</th><th>PetalLength</th><th>PetalWidth</th><th>Species</th></tr><tr><th></th><th>Float64</th><th>Float64</th><th>Float64</th><th>Float64</th><th>Cat…</th></tr></thead><tbody><p>50 rows × 5 columns</p><tr><th>1</th><td>5.1</td><td>3.5</td><td>1.4</td><td>0.2</td><td>setosa</td></tr><tr><th>2</th><td>4.9</td><td>3.0</td><td>1.4</td><td>0.2</td><td>setosa</td></tr><tr><th>3</th><td>4.7</td><td>3.2</td><td>1.3</td><td>0.2</td><td>setosa</td></tr><tr><th>4</th><td>4.6</td><td>3.1</td><td>1.5</td><td>0.2</td><td>setosa</td></tr><tr><th>5</th><td>5.0</td><td>3.6</td><td>1.4</td><td>0.2</td><td>setosa</td></tr><tr><th>6</th><td>5.4</td><td>3.9</td><td>1.7</td><td>0.4</td><td>setosa</td></tr><tr><th>7</th><td>4.6</td><td>3.4</td><td>1.4</td><td>0.3</td><td>setosa</td></tr><tr><th>8</th><td>5.0</td><td>3.4</td><td>1.5</td><td>0.2</td><td>setosa</td></tr><tr><th>9</th><td>4.4</td><td>2.9</td><td>1.4</td><td>0.2</td><td>setosa</td></tr><tr><th>10</th><td>4.9</td><td>3.1</td><td>1.5</td><td>0.1</td><td>setosa</td></tr><tr><th>11</th><td>5.4</td><td>3.7</td><td>1.5</td><td>0.2</td><td>setosa</td></tr><tr><th>12</th><td>4.8</td><td>3.4</td><td>1.6</td><td>0.2</td><td>setosa</td></tr><tr><th>13</th><td>4.8</td><td>3.0</td><td>1.4</td><td>0.1</td><td>setosa</td></tr><tr><th>14</th><td>4.3</td><td>3.0</td><td>1.1</td><td>0.1</td><td>setosa</td></tr><tr><th>15</th><td>5.8</td><td>4.0</td><td>1.2</td><td>0.2</td><td>setosa</td></tr><tr><th>16</th><td>5.7</td><td>4.4</td><td>1.5</td><td>0.4</td><td>setosa</td></tr><tr><th>17</th><td>5.4</td><td>3.9</td><td>1.3</td><td>0.4</td><td>setosa</td></tr><tr><th>18</th><td>5.1</td><td>3.5</td><td>1.4</td><td>0.3</td><td>setosa</td></tr><tr><th>19</th><td>5.7</td><td>3.8</td><td>1.7</td><td>0.3</td><td>setosa</td></tr><tr><th>20</th><td>5.1</td><td>3.8</td><td>1.5</td><td>0.3</td><td>setosa</td></tr><tr><th>21</th><td>5.4</td><td>3.4</td><td>1.7</td><td>0.2</td><td>setosa</td></tr><tr><th>22</th><td>5.1</td><td>3.7</td><td>1.5</td><td>0.4</td><td>setosa</td></tr><tr><th>23</th><td>4.6</td><td>3.6</td><td>1.0</td><td>0.2</td><td>setosa</td></tr><tr><th>24</th><td>5.1</td><td>3.3</td><td>1.7</td><td>0.5</td><td>setosa</td></tr><tr><th>25</th><td>4.8</td><td>3.4</td><td>1.9</td><td>0.2</td><td>setosa</td></tr><tr><th>26</th><td>5.0</td><td>3.0</td><td>1.6</td><td>0.2</td><td>setosa</td></tr><tr><th>27</th><td>5.0</td><td>3.4</td><td>1.6</td><td>0.4</td><td>setosa</td></tr><tr><th>28</th><td>5.2</td><td>3.5</td><td>1.5</td><td>0.2</td><td>setosa</td></tr><tr><th>29</th><td>5.2</td><td>3.4</td><td>1.4</td><td>0.2</td><td>setosa</td></tr><tr><th>30</th><td>4.7</td><td>3.2</td><td>1.6</td><td>0.2</td><td>setosa</td></tr><tr><th>&vellip;</th><td>&vellip;</td><td>&vellip;</td><td>&vellip;</td><td>&vellip;</td><td>&vellip;</td></tr></tbody></table>"
      ],
      "text/latex": [
       "\\begin{tabular}{r|ccccc}\n",
       "\t& SepalLength & SepalWidth & PetalLength & PetalWidth & Species\\\\\n",
       "\t\\hline\n",
       "\t& Float64 & Float64 & Float64 & Float64 & Cat…\\\\\n",
       "\t\\hline\n",
       "\t1 & 5.1 & 3.5 & 1.4 & 0.2 & setosa \\\\\n",
       "\t2 & 4.9 & 3.0 & 1.4 & 0.2 & setosa \\\\\n",
       "\t3 & 4.7 & 3.2 & 1.3 & 0.2 & setosa \\\\\n",
       "\t4 & 4.6 & 3.1 & 1.5 & 0.2 & setosa \\\\\n",
       "\t5 & 5.0 & 3.6 & 1.4 & 0.2 & setosa \\\\\n",
       "\t6 & 5.4 & 3.9 & 1.7 & 0.4 & setosa \\\\\n",
       "\t7 & 4.6 & 3.4 & 1.4 & 0.3 & setosa \\\\\n",
       "\t8 & 5.0 & 3.4 & 1.5 & 0.2 & setosa \\\\\n",
       "\t9 & 4.4 & 2.9 & 1.4 & 0.2 & setosa \\\\\n",
       "\t10 & 4.9 & 3.1 & 1.5 & 0.1 & setosa \\\\\n",
       "\t11 & 5.4 & 3.7 & 1.5 & 0.2 & setosa \\\\\n",
       "\t12 & 4.8 & 3.4 & 1.6 & 0.2 & setosa \\\\\n",
       "\t13 & 4.8 & 3.0 & 1.4 & 0.1 & setosa \\\\\n",
       "\t14 & 4.3 & 3.0 & 1.1 & 0.1 & setosa \\\\\n",
       "\t15 & 5.8 & 4.0 & 1.2 & 0.2 & setosa \\\\\n",
       "\t16 & 5.7 & 4.4 & 1.5 & 0.4 & setosa \\\\\n",
       "\t17 & 5.4 & 3.9 & 1.3 & 0.4 & setosa \\\\\n",
       "\t18 & 5.1 & 3.5 & 1.4 & 0.3 & setosa \\\\\n",
       "\t19 & 5.7 & 3.8 & 1.7 & 0.3 & setosa \\\\\n",
       "\t20 & 5.1 & 3.8 & 1.5 & 0.3 & setosa \\\\\n",
       "\t21 & 5.4 & 3.4 & 1.7 & 0.2 & setosa \\\\\n",
       "\t22 & 5.1 & 3.7 & 1.5 & 0.4 & setosa \\\\\n",
       "\t23 & 4.6 & 3.6 & 1.0 & 0.2 & setosa \\\\\n",
       "\t24 & 5.1 & 3.3 & 1.7 & 0.5 & setosa \\\\\n",
       "\t25 & 4.8 & 3.4 & 1.9 & 0.2 & setosa \\\\\n",
       "\t26 & 5.0 & 3.0 & 1.6 & 0.2 & setosa \\\\\n",
       "\t27 & 5.0 & 3.4 & 1.6 & 0.4 & setosa \\\\\n",
       "\t28 & 5.2 & 3.5 & 1.5 & 0.2 & setosa \\\\\n",
       "\t29 & 5.2 & 3.4 & 1.4 & 0.2 & setosa \\\\\n",
       "\t30 & 4.7 & 3.2 & 1.6 & 0.2 & setosa \\\\\n",
       "\t$\\dots$ & $\\dots$ & $\\dots$ & $\\dots$ & $\\dots$ & $\\dots$ \\\\\n",
       "\\end{tabular}\n"
      ],
      "text/plain": [
       "\u001b[1m50×5 SubDataFrame\u001b[0m\n",
       "\u001b[1m Row \u001b[0m│\u001b[1m SepalLength \u001b[0m\u001b[1m SepalWidth \u001b[0m\u001b[1m PetalLength \u001b[0m\u001b[1m PetalWidth \u001b[0m\u001b[1m Species \u001b[0m\n",
       "\u001b[1m     \u001b[0m│\u001b[90m Float64     \u001b[0m\u001b[90m Float64    \u001b[0m\u001b[90m Float64     \u001b[0m\u001b[90m Float64    \u001b[0m\u001b[90m Cat…    \u001b[0m\n",
       "─────┼───────────────────────────────────────────────────────────\n",
       "   1 │         5.1         3.5          1.4         0.2  setosa\n",
       "   2 │         4.9         3.0          1.4         0.2  setosa\n",
       "   3 │         4.7         3.2          1.3         0.2  setosa\n",
       "   4 │         4.6         3.1          1.5         0.2  setosa\n",
       "   5 │         5.0         3.6          1.4         0.2  setosa\n",
       "   6 │         5.4         3.9          1.7         0.4  setosa\n",
       "   7 │         4.6         3.4          1.4         0.3  setosa\n",
       "   8 │         5.0         3.4          1.5         0.2  setosa\n",
       "   9 │         4.4         2.9          1.4         0.2  setosa\n",
       "  10 │         4.9         3.1          1.5         0.1  setosa\n",
       "  11 │         5.4         3.7          1.5         0.2  setosa\n",
       "  ⋮  │      ⋮           ⋮            ⋮           ⋮          ⋮\n",
       "  41 │         5.0         3.5          1.3         0.3  setosa\n",
       "  42 │         4.5         2.3          1.3         0.3  setosa\n",
       "  43 │         4.4         3.2          1.3         0.2  setosa\n",
       "  44 │         5.0         3.5          1.6         0.6  setosa\n",
       "  45 │         5.1         3.8          1.9         0.4  setosa\n",
       "  46 │         4.8         3.0          1.4         0.3  setosa\n",
       "  47 │         5.1         3.8          1.6         0.2  setosa\n",
       "  48 │         4.6         3.2          1.4         0.2  setosa\n",
       "  49 │         5.3         3.7          1.5         0.2  setosa\n",
       "  50 │         5.0         3.3          1.4         0.2  setosa\n",
       "\u001b[36m                                                  29 rows omitted\u001b[0m"
      ]
     },
     "execution_count": 119,
     "metadata": {},
     "output_type": "execute_result"
    }
   ],
   "source": [
    "gdf[1]"
   ]
  },
  {
   "cell_type": "code",
   "execution_count": 121,
   "metadata": {},
   "outputs": [],
   "source": [
    "subdf_setosa = gdf[1];"
   ]
  },
  {
   "cell_type": "code",
   "execution_count": 122,
   "metadata": {},
   "outputs": [
    {
     "data": {
      "text/html": [
       "<table class=\"data-frame\"><thead><tr><th></th><th>variable</th><th>mean</th><th>min</th><th>median</th><th>max</th><th>nmissing</th><th>eltype</th></tr><tr><th></th><th>Symbol</th><th>Union…</th><th>Any</th><th>Union…</th><th>Any</th><th>Int64</th><th>DataType</th></tr></thead><tbody><p>5 rows × 7 columns</p><tr><th>1</th><td>SepalLength</td><td>5.006</td><td>4.3</td><td>5.0</td><td>5.8</td><td>0</td><td>Float64</td></tr><tr><th>2</th><td>SepalWidth</td><td>3.428</td><td>2.3</td><td>3.4</td><td>4.4</td><td>0</td><td>Float64</td></tr><tr><th>3</th><td>PetalLength</td><td>1.462</td><td>1.0</td><td>1.5</td><td>1.9</td><td>0</td><td>Float64</td></tr><tr><th>4</th><td>PetalWidth</td><td>0.246</td><td>0.1</td><td>0.2</td><td>0.6</td><td>0</td><td>Float64</td></tr><tr><th>5</th><td>Species</td><td></td><td>setosa</td><td></td><td>setosa</td><td>0</td><td>CategoricalValue{String, UInt8}</td></tr></tbody></table>"
      ],
      "text/latex": [
       "\\begin{tabular}{r|ccccccc}\n",
       "\t& variable & mean & min & median & max & nmissing & eltype\\\\\n",
       "\t\\hline\n",
       "\t& Symbol & Union… & Any & Union… & Any & Int64 & DataType\\\\\n",
       "\t\\hline\n",
       "\t1 & SepalLength & 5.006 & 4.3 & 5.0 & 5.8 & 0 & Float64 \\\\\n",
       "\t2 & SepalWidth & 3.428 & 2.3 & 3.4 & 4.4 & 0 & Float64 \\\\\n",
       "\t3 & PetalLength & 1.462 & 1.0 & 1.5 & 1.9 & 0 & Float64 \\\\\n",
       "\t4 & PetalWidth & 0.246 & 0.1 & 0.2 & 0.6 & 0 & Float64 \\\\\n",
       "\t5 & Species &  & setosa &  & setosa & 0 & CategoricalValue\\{String, UInt8\\} \\\\\n",
       "\\end{tabular}\n"
      ],
      "text/plain": [
       "\u001b[1m5×7 DataFrame\u001b[0m\n",
       "\u001b[1m Row \u001b[0m│\u001b[1m variable    \u001b[0m\u001b[1m mean   \u001b[0m\u001b[1m min    \u001b[0m\u001b[1m median \u001b[0m\u001b[1m max    \u001b[0m\u001b[1m nmissing \u001b[0m\u001b[1m eltype          \u001b[0m ⋯\n",
       "\u001b[1m     \u001b[0m│\u001b[90m Symbol      \u001b[0m\u001b[90m Union… \u001b[0m\u001b[90m Any    \u001b[0m\u001b[90m Union… \u001b[0m\u001b[90m Any    \u001b[0m\u001b[90m Int64    \u001b[0m\u001b[90m DataType        \u001b[0m ⋯\n",
       "─────┼──────────────────────────────────────────────────────────────────────────\n",
       "   1 │ SepalLength  5.006   4.3     5.0     5.8            0  Float64          ⋯\n",
       "   2 │ SepalWidth   3.428   2.3     3.4     4.4            0  Float64\n",
       "   3 │ PetalLength  1.462   1.0     1.5     1.9            0  Float64\n",
       "   4 │ PetalWidth   0.246   0.1     0.2     0.6            0  Float64\n",
       "   5 │ Species     \u001b[90m        \u001b[0m setosa \u001b[90m        \u001b[0m setosa         0  CategoricalValue ⋯\n",
       "\u001b[36m                                                                1 column omitted\u001b[0m"
      ]
     },
     "execution_count": 122,
     "metadata": {},
     "output_type": "execute_result"
    }
   ],
   "source": [
    "describe(subdf_setosa)"
   ]
  },
  {
   "cell_type": "code",
   "execution_count": 123,
   "metadata": {},
   "outputs": [
    {
     "data": {
      "text/plain": [
       "SubDataFrame{DataFrame, DataFrames.Index, Vector{Int64}}"
      ]
     },
     "execution_count": 123,
     "metadata": {},
     "output_type": "execute_result"
    }
   ],
   "source": [
    "typeof(subdf_setosa)"
   ]
  },
  {
   "cell_type": "markdown",
   "metadata": {},
   "source": [
    "## Combine\n",
    "The combine function allows to derive a new dataframe out of transformations of an existing one."
   ]
  },
  {
   "cell_type": "code",
   "execution_count": 125,
   "metadata": {},
   "outputs": [
    {
     "data": {
      "text/html": [
       "<table class=\"data-frame\"><thead><tr><th></th><th>a</th><th>b</th></tr><tr><th></th><th>Int64</th><th>Int64</th></tr></thead><tbody><p>3 rows × 2 columns</p><tr><th>1</th><td>1</td><td>4</td></tr><tr><th>2</th><td>2</td><td>5</td></tr><tr><th>3</th><td>3</td><td>6</td></tr></tbody></table>"
      ],
      "text/latex": [
       "\\begin{tabular}{r|cc}\n",
       "\t& a & b\\\\\n",
       "\t\\hline\n",
       "\t& Int64 & Int64\\\\\n",
       "\t\\hline\n",
       "\t1 & 1 & 4 \\\\\n",
       "\t2 & 2 & 5 \\\\\n",
       "\t3 & 3 & 6 \\\\\n",
       "\\end{tabular}\n"
      ],
      "text/plain": [
       "\u001b[1m3×2 DataFrame\u001b[0m\n",
       "\u001b[1m Row \u001b[0m│\u001b[1m a     \u001b[0m\u001b[1m b     \u001b[0m\n",
       "\u001b[1m     \u001b[0m│\u001b[90m Int64 \u001b[0m\u001b[90m Int64 \u001b[0m\n",
       "─────┼──────────────\n",
       "   1 │     1      4\n",
       "   2 │     2      5\n",
       "   3 │     3      6"
      ]
     },
     "execution_count": 125,
     "metadata": {},
     "output_type": "execute_result"
    }
   ],
   "source": [
    "df =  DataFrame(a=1:3, b=4:6)"
   ]
  },
  {
   "cell_type": "code",
   "execution_count": 126,
   "metadata": {},
   "outputs": [
    {
     "data": {
      "text/html": [
       "<table class=\"data-frame\"><thead><tr><th></th><th>a_sum</th><th>nrow</th></tr><tr><th></th><th>Int64</th><th>Int64</th></tr></thead><tbody><p>1 rows × 2 columns</p><tr><th>1</th><td>6</td><td>3</td></tr></tbody></table>"
      ],
      "text/latex": [
       "\\begin{tabular}{r|cc}\n",
       "\t& a\\_sum & nrow\\\\\n",
       "\t\\hline\n",
       "\t& Int64 & Int64\\\\\n",
       "\t\\hline\n",
       "\t1 & 6 & 3 \\\\\n",
       "\\end{tabular}\n"
      ],
      "text/plain": [
       "\u001b[1m1×2 DataFrame\u001b[0m\n",
       "\u001b[1m Row \u001b[0m│\u001b[1m a_sum \u001b[0m\u001b[1m nrow  \u001b[0m\n",
       "\u001b[1m     \u001b[0m│\u001b[90m Int64 \u001b[0m\u001b[90m Int64 \u001b[0m\n",
       "─────┼──────────────\n",
       "   1 │     6      3"
      ]
     },
     "execution_count": 126,
     "metadata": {},
     "output_type": "execute_result"
    }
   ],
   "source": [
    "combine(df, :a =>sum, nrow)"
   ]
  },
  {
   "cell_type": "code",
   "execution_count": 130,
   "metadata": {},
   "outputs": [
    {
     "data": {
      "text/html": [
       "<table class=\"data-frame\"><thead><tr><th></th><th>b_sum</th><th>nrow</th></tr><tr><th></th><th>Int64</th><th>Int64</th></tr></thead><tbody><p>1 rows × 2 columns</p><tr><th>1</th><td>15</td><td>3</td></tr></tbody></table>"
      ],
      "text/latex": [
       "\\begin{tabular}{r|cc}\n",
       "\t& b\\_sum & nrow\\\\\n",
       "\t\\hline\n",
       "\t& Int64 & Int64\\\\\n",
       "\t\\hline\n",
       "\t1 & 15 & 3 \\\\\n",
       "\\end{tabular}\n"
      ],
      "text/plain": [
       "\u001b[1m1×2 DataFrame\u001b[0m\n",
       "\u001b[1m Row \u001b[0m│\u001b[1m b_sum \u001b[0m\u001b[1m nrow  \u001b[0m\n",
       "\u001b[1m     \u001b[0m│\u001b[90m Int64 \u001b[0m\u001b[90m Int64 \u001b[0m\n",
       "─────┼──────────────\n",
       "   1 │    15      3"
      ]
     },
     "execution_count": 130,
     "metadata": {},
     "output_type": "execute_result"
    }
   ],
   "source": [
    "combine(df, :b =>sum, nrow)"
   ]
  },
  {
   "cell_type": "code",
   "execution_count": 131,
   "metadata": {},
   "outputs": [
    {
     "data": {
      "text/html": [
       "<table class=\"data-frame\"><thead><tr><th></th><th>a</th><th>b</th></tr><tr><th></th><th>Int64</th><th>Int64</th></tr></thead><tbody><p>3 rows × 2 columns</p><tr><th>1</th><td>1</td><td>4</td></tr><tr><th>2</th><td>2</td><td>5</td></tr><tr><th>3</th><td>3</td><td>6</td></tr></tbody></table>"
      ],
      "text/latex": [
       "\\begin{tabular}{r|cc}\n",
       "\t& a & b\\\\\n",
       "\t\\hline\n",
       "\t& Int64 & Int64\\\\\n",
       "\t\\hline\n",
       "\t1 & 1 & 4 \\\\\n",
       "\t2 & 2 & 5 \\\\\n",
       "\t3 & 3 & 6 \\\\\n",
       "\\end{tabular}\n"
      ],
      "text/plain": [
       "\u001b[1m3×2 DataFrame\u001b[0m\n",
       "\u001b[1m Row \u001b[0m│\u001b[1m a     \u001b[0m\u001b[1m b     \u001b[0m\n",
       "\u001b[1m     \u001b[0m│\u001b[90m Int64 \u001b[0m\u001b[90m Int64 \u001b[0m\n",
       "─────┼──────────────\n",
       "   1 │     1      4\n",
       "   2 │     2      5\n",
       "   3 │     3      6"
      ]
     },
     "execution_count": 131,
     "metadata": {},
     "output_type": "execute_result"
    }
   ],
   "source": [
    "df"
   ]
  },
  {
   "cell_type": "code",
   "execution_count": 138,
   "metadata": {},
   "outputs": [
    {
     "data": {
      "text/html": [
       "<table class=\"data-frame\"><thead><tr><th></th><th>a_maximum</th><th>b_foo</th></tr><tr><th></th><th>Int64</th><th>Int64</th></tr></thead><tbody><p>2 rows × 2 columns</p><tr><th>1</th><td>3</td><td>4</td></tr><tr><th>2</th><td>3</td><td>5</td></tr></tbody></table>"
      ],
      "text/latex": [
       "\\begin{tabular}{r|cc}\n",
       "\t& a\\_maximum & b\\_foo\\\\\n",
       "\t\\hline\n",
       "\t& Int64 & Int64\\\\\n",
       "\t\\hline\n",
       "\t1 & 3 & 4 \\\\\n",
       "\t2 & 3 & 5 \\\\\n",
       "\\end{tabular}\n"
      ],
      "text/plain": [
       "\u001b[1m2×2 DataFrame\u001b[0m\n",
       "\u001b[1m Row \u001b[0m│\u001b[1m a_maximum \u001b[0m\u001b[1m b_foo \u001b[0m\n",
       "\u001b[1m     \u001b[0m│\u001b[90m Int64     \u001b[0m\u001b[90m Int64 \u001b[0m\n",
       "─────┼──────────────────\n",
       "   1 │         3      4\n",
       "   2 │         3      5"
      ]
     },
     "execution_count": 138,
     "metadata": {},
     "output_type": "execute_result"
    }
   ],
   "source": [
    "foo(v) = v[1:2]\n",
    "combine(df, :a => maximum, :b => foo)"
   ]
  },
  {
   "cell_type": "code",
   "execution_count": 140,
   "metadata": {},
   "outputs": [
    {
     "data": {
      "text/plain": [
       "2-element Vector{Int64}:\n",
       " 13\n",
       "  5"
      ]
     },
     "execution_count": 140,
     "metadata": {},
     "output_type": "execute_result"
    }
   ],
   "source": [
    "foo([13,5])"
   ]
  },
  {
   "cell_type": "code",
   "execution_count": 142,
   "metadata": {},
   "outputs": [
    {
     "data": {
      "text/html": [
       "<table class=\"data-frame\"><thead><tr><th></th><th>a_maximum</th></tr><tr><th></th><th>Int64</th></tr></thead><tbody><p>1 rows × 1 columns</p><tr><th>1</th><td>3</td></tr></tbody></table>"
      ],
      "text/latex": [
       "\\begin{tabular}{r|c}\n",
       "\t& a\\_maximum\\\\\n",
       "\t\\hline\n",
       "\t& Int64\\\\\n",
       "\t\\hline\n",
       "\t1 & 3 \\\\\n",
       "\\end{tabular}\n"
      ],
      "text/plain": [
       "\u001b[1m1×1 DataFrame\u001b[0m\n",
       "\u001b[1m Row \u001b[0m│\u001b[1m a_maximum \u001b[0m\n",
       "\u001b[1m     \u001b[0m│\u001b[90m Int64     \u001b[0m\n",
       "─────┼───────────\n",
       "   1 │         3"
      ]
     },
     "execution_count": 142,
     "metadata": {},
     "output_type": "execute_result"
    }
   ],
   "source": [
    "combine(df,:a => maximum)"
   ]
  },
  {
   "cell_type": "code",
   "execution_count": 143,
   "metadata": {},
   "outputs": [
    {
     "data": {
      "text/html": [
       "<table class=\"data-frame\"><thead><tr><th></th><th>b_foo</th></tr><tr><th></th><th>Int64</th></tr></thead><tbody><p>2 rows × 1 columns</p><tr><th>1</th><td>4</td></tr><tr><th>2</th><td>5</td></tr></tbody></table>"
      ],
      "text/latex": [
       "\\begin{tabular}{r|c}\n",
       "\t& b\\_foo\\\\\n",
       "\t\\hline\n",
       "\t& Int64\\\\\n",
       "\t\\hline\n",
       "\t1 & 4 \\\\\n",
       "\t2 & 5 \\\\\n",
       "\\end{tabular}\n"
      ],
      "text/plain": [
       "\u001b[1m2×1 DataFrame\u001b[0m\n",
       "\u001b[1m Row \u001b[0m│\u001b[1m b_foo \u001b[0m\n",
       "\u001b[1m     \u001b[0m│\u001b[90m Int64 \u001b[0m\n",
       "─────┼───────\n",
       "   1 │     4\n",
       "   2 │     5"
      ]
     },
     "execution_count": 143,
     "metadata": {},
     "output_type": "execute_result"
    }
   ],
   "source": [
    "combine(df, :b => foo)"
   ]
  },
  {
   "cell_type": "code",
   "execution_count": null,
   "metadata": {},
   "outputs": [],
   "source": []
  },
  {
   "cell_type": "markdown",
   "metadata": {},
   "source": [
    "## combine with groupby"
   ]
  },
  {
   "cell_type": "code",
   "execution_count": 149,
   "metadata": {},
   "outputs": [
    {
     "data": {
      "text/html": [
       "<table class=\"data-frame\"><thead><tr><th></th><th>Species</th><th>PetalLength_mean</th></tr><tr><th></th><th>Cat…</th><th>Float64</th></tr></thead><tbody><p>3 rows × 2 columns</p><tr><th>1</th><td>setosa</td><td>1.462</td></tr><tr><th>2</th><td>versicolor</td><td>4.26</td></tr><tr><th>3</th><td>virginica</td><td>5.552</td></tr></tbody></table>"
      ],
      "text/latex": [
       "\\begin{tabular}{r|cc}\n",
       "\t& Species & PetalLength\\_mean\\\\\n",
       "\t\\hline\n",
       "\t& Cat… & Float64\\\\\n",
       "\t\\hline\n",
       "\t1 & setosa & 1.462 \\\\\n",
       "\t2 & versicolor & 4.26 \\\\\n",
       "\t3 & virginica & 5.552 \\\\\n",
       "\\end{tabular}\n"
      ],
      "text/plain": [
       "\u001b[1m3×2 DataFrame\u001b[0m\n",
       "\u001b[1m Row \u001b[0m│\u001b[1m Species    \u001b[0m\u001b[1m PetalLength_mean \u001b[0m\n",
       "\u001b[1m     \u001b[0m│\u001b[90m Cat…       \u001b[0m\u001b[90m Float64          \u001b[0m\n",
       "─────┼──────────────────────────────\n",
       "   1 │ setosa                 1.462\n",
       "   2 │ versicolor             4.26\n",
       "   3 │ virginica              5.552"
      ]
     },
     "execution_count": 149,
     "metadata": {},
     "output_type": "execute_result"
    }
   ],
   "source": [
    "combine(groupby(iris, :Species), :PetalLength => mean)"
   ]
  },
  {
   "cell_type": "code",
   "execution_count": 150,
   "metadata": {},
   "outputs": [
    {
     "data": {
      "text/html": [
       "<table class=\"data-frame\"><thead><tr><th></th><th>Species</th><th>MPL</th><th>STD</th></tr><tr><th></th><th>Cat…</th><th>Float64</th><th>Float64</th></tr></thead><tbody><p>3 rows × 3 columns</p><tr><th>1</th><td>setosa</td><td>1.462</td><td>0.173664</td></tr><tr><th>2</th><td>versicolor</td><td>4.26</td><td>0.469911</td></tr><tr><th>3</th><td>virginica</td><td>5.552</td><td>0.551895</td></tr></tbody></table>"
      ],
      "text/latex": [
       "\\begin{tabular}{r|ccc}\n",
       "\t& Species & MPL & STD\\\\\n",
       "\t\\hline\n",
       "\t& Cat… & Float64 & Float64\\\\\n",
       "\t\\hline\n",
       "\t1 & setosa & 1.462 & 0.173664 \\\\\n",
       "\t2 & versicolor & 4.26 & 0.469911 \\\\\n",
       "\t3 & virginica & 5.552 & 0.551895 \\\\\n",
       "\\end{tabular}\n"
      ],
      "text/plain": [
       "\u001b[1m3×3 DataFrame\u001b[0m\n",
       "\u001b[1m Row \u001b[0m│\u001b[1m Species    \u001b[0m\u001b[1m MPL     \u001b[0m\u001b[1m STD      \u001b[0m\n",
       "\u001b[1m     \u001b[0m│\u001b[90m Cat…       \u001b[0m\u001b[90m Float64 \u001b[0m\u001b[90m Float64  \u001b[0m\n",
       "─────┼───────────────────────────────\n",
       "   1 │ setosa        1.462  0.173664\n",
       "   2 │ versicolor    4.26   0.469911\n",
       "   3 │ virginica     5.552  0.551895"
      ]
     },
     "execution_count": 150,
     "metadata": {},
     "output_type": "execute_result"
    }
   ],
   "source": [
    "combine(groupby(iris, :Species), :PetalLength => mean => :MPL, :PetalLength => std => :STD)"
   ]
  },
  {
   "cell_type": "code",
   "execution_count": 153,
   "metadata": {},
   "outputs": [
    {
     "data": {
      "text/html": [
       "<table class=\"data-frame\"><thead><tr><th></th><th>Species</th><th>SepalLength_std</th><th>SepalWidth_std</th><th>PetalLength_std</th><th>PetalWidth_std</th></tr><tr><th></th><th>Cat…</th><th>Float64</th><th>Float64</th><th>Float64</th><th>Float64</th></tr></thead><tbody><p>3 rows × 5 columns</p><tr><th>1</th><td>setosa</td><td>0.35249</td><td>0.379064</td><td>0.173664</td><td>0.105386</td></tr><tr><th>2</th><td>versicolor</td><td>0.516171</td><td>0.313798</td><td>0.469911</td><td>0.197753</td></tr><tr><th>3</th><td>virginica</td><td>0.63588</td><td>0.322497</td><td>0.551895</td><td>0.27465</td></tr></tbody></table>"
      ],
      "text/latex": [
       "\\begin{tabular}{r|ccccc}\n",
       "\t& Species & SepalLength\\_std & SepalWidth\\_std & PetalLength\\_std & PetalWidth\\_std\\\\\n",
       "\t\\hline\n",
       "\t& Cat… & Float64 & Float64 & Float64 & Float64\\\\\n",
       "\t\\hline\n",
       "\t1 & setosa & 0.35249 & 0.379064 & 0.173664 & 0.105386 \\\\\n",
       "\t2 & versicolor & 0.516171 & 0.313798 & 0.469911 & 0.197753 \\\\\n",
       "\t3 & virginica & 0.63588 & 0.322497 & 0.551895 & 0.27465 \\\\\n",
       "\\end{tabular}\n"
      ],
      "text/plain": [
       "\u001b[1m3×5 DataFrame\u001b[0m\n",
       "\u001b[1m Row \u001b[0m│\u001b[1m Species    \u001b[0m\u001b[1m SepalLength_std \u001b[0m\u001b[1m SepalWidth_std \u001b[0m\u001b[1m PetalLength_std \u001b[0m\u001b[1m PetalWidt\u001b[0m ⋯\n",
       "\u001b[1m     \u001b[0m│\u001b[90m Cat…       \u001b[0m\u001b[90m Float64         \u001b[0m\u001b[90m Float64        \u001b[0m\u001b[90m Float64         \u001b[0m\u001b[90m Float64  \u001b[0m ⋯\n",
       "─────┼──────────────────────────────────────────────────────────────────────────\n",
       "   1 │ setosa             0.35249         0.379064         0.173664        0.1 ⋯\n",
       "   2 │ versicolor         0.516171        0.313798         0.469911        0.1\n",
       "   3 │ virginica          0.63588         0.322497         0.551895        0.2\n",
       "\u001b[36m                                                                1 column omitted\u001b[0m"
      ]
     },
     "execution_count": 153,
     "metadata": {},
     "output_type": "execute_result"
    }
   ],
   "source": [
    "combine(groupby(iris, :Species), names(iris,Not(:Species)) .=> std)"
   ]
  },
  {
   "cell_type": "code",
   "execution_count": null,
   "metadata": {},
   "outputs": [],
   "source": []
  }
 ],
 "metadata": {
  "kernelspec": {
   "display_name": "Julia 1.6.1",
   "language": "julia",
   "name": "julia-1.6"
  },
  "language_info": {
   "file_extension": ".jl",
   "mimetype": "application/julia",
   "name": "julia",
   "version": "1.6.1"
  }
 },
 "nbformat": 4,
 "nbformat_minor": 4
}
